{
 "cells": [
  {
   "cell_type": "markdown",
   "id": "8553bdec",
   "metadata": {},
   "source": [
    "<h2 align=\"center\">INSTITUTO TECNOLÓGICO Y DE ESTUDIOS<br>SUPERIORES DE MONTERREY</h2>\n",
    "<h3 align=\"center\">Campus Ciudad de México<br>Escuela de Ingeniería y Ciencias</h3>\n",
    "\n",
    "<br>\n",
    "\n",
    "<h3 align=\"center\">Análisis de Ciencia de Datos</h3>\n",
    "\n",
    "<h4 align=\"center\">Profesores: Leonardo Cañete-Sifuentes y Enrique González Núñez</h4>\n",
    "\n",
    "<br>\n",
    "\n",
    "<h3 align=\"center\">Proyecto integrador:</h3>\n",
    "\n",
    "<h3 align=\"center\">Análisis Financiero y Presupuestal en Producciones Audiovisuales</h3>\n",
    "\n",
    "<br><br>\n",
    "\n",
    "#### Integrantes del equipo:\n",
    "- **Victor Angel Martínez Vidaurri** – A01665456  \n",
    "- **Uziel Heredia Estrada** – A01667072  \n",
    "- **Alan Ulises Luna Hernandez** – A01424523  \n",
    "- **Bertin Flores Silva** – A01660604\n",
    "- **Ricardo Villareal Bazán** – A01666859    \n",
    "\n",
    "**Grupo:** 641  \n",
    "**Fecha:** junio, 2025\n",
    "\n"
   ]
  },
  {
   "cell_type": "markdown",
   "id": "969f57a8",
   "metadata": {},
   "source": [
    "# Reporte"
   ]
  },
  {
   "cell_type": "markdown",
   "id": "f25976a1",
   "metadata": {},
   "source": [
    "## Introducción\n",
    "\n",
    "El presente reporte forma parte del proyecto de análisis financiero aplicado a producciones audiovisuales, desarrollado con base en datos reales proporcionados por Summit Finance. El archivo entregado incluye información presupuestaria, gastos facturados y cargos asociados a las cuentas contables de diversos departamentos y etapas del proyecto (PREP, SHOOT y POST).\n",
    "\n",
    "En el entorno de la producción audiovisual, una adecuada gestión del presupuesto es crucial para asegurar la eficiencia operativa y evitar desviaciones que puedan comprometer los objetivos creativos y financieros. Por ello, se propone el desarrollo de una solución basada en herramientas de inteligencia de negocios, la cual permita explorar, visualizar y entender con claridad el comportamiento del presupuesto frente al gasto real.\n",
    "\n",
    "Este análisis tiene como finalidad principal generar información útil y accionable, orientada a la toma de decisiones estratégicas. El enfoque adoptado combina la replicación de métricas clave, el análisis exploratorio para descubrir patrones ocultos y un diagnóstico descriptivo que sintetiza la situación financiera del proyecto.\n",
    "\n",
    "El público objetivo de este reporte incluye gerentes de finanzas, directores de producción, equipo de control de costos y stakeholders estratégicos. Todos ellos requieren acceso a información clara, visual y actualizada para monitorear la ejecución financiera y reaccionar con oportunidad ante cualquier desviación significativa.\n"
   ]
  },
  {
   "cell_type": "markdown",
   "id": "fea4230b",
   "metadata": {},
   "source": [
    "## Metodología\n",
    "Para poder realizar los análisis y construir las visualizaciones presentadas en el reporte, se\n",
    "trabajó con un archivo Excel con varias hojas. El proceso completo se dividió en bloques de\n",
    "trabajo: carga de datos, limpieza, transformación y preparación para análisis. A continuación\n",
    "se describe cada uno.\n",
    "\n",
    "1. Carga de datos\n",
    "\n",
    "El primer paso fue importar el archivo “CR EJEMPLO MOD.xlsm”, que contenía tres hojas\n",
    "clave:\n",
    "\n",
    "● Summary, con datos agregados del proyecto.\n",
    "\n",
    "● Data, con registros individuales de partidas presupuestales y fechas asociadas.\n",
    "\n",
    "● Cost Report, con información financiera detallada de las cuentas.\n",
    "\n",
    "El archivo fue leído usando herramientas de Python como pandas, permitiendo explorar y\n",
    "seleccionar las columnas relevantes para el análisis.\n",
    "\n",
    "2. Limpieza del Cost Report\n",
    "\n",
    "La hoja Cost Report fue la más importante del análisis. Para preparar sus datos, se aplicaron\n",
    "las siguientes acciones:\n",
    "\n",
    "● Se eliminaron columnas vacías o sin título que Excel suele generar automáticamente.\n",
    "\n",
    "● Se corrigieron nombres de columnas para quitar espacios adicionales.\n",
    "\n",
    "● Se convirtieron varias columnas numéricas a formato numérico real, para evitar\n",
    "errores posteriores.\n",
    "\n",
    "● Se filtraron únicamente las filas que correspondían a cuentas de tipo “detalle”, ya que\n",
    "eran las que contenían el gasto específico necesario para el análisis.\n",
    "También se validó que los totales no se alterarán significativamente tras aplicar estos filtros,\n",
    "para asegurar la integridad de los datos.\n",
    "\n",
    "3. Clasificación de jerarquía contable\n",
    "\n",
    "Con el objetivo de estructurar las cuentas correctamente:\n",
    "\n",
    "● Se extrajo el código madre de cada cuenta.\n",
    "\n",
    "● Se clasificaron las cuentas según su nivel jerárquico (cuenta general, subcuenta o\n",
    "detalle).\n",
    "\n",
    "● Se creó una etiqueta que une el código con su sección, para facilitar su interpretación\n",
    "en las gráficas.\n",
    "Esto permitió agrupar y analizar cuentas tanto de forma global como específica.\n",
    "\n",
    "4. Normalización de etapas del proyecto\n",
    "\n",
    "La columna que indicaba a qué etapa del proyecto pertenecía cada cuenta (cómo SHOOT,\n",
    "PREP, WRAP, etc.) presentaba inconsistencias. Se hizo lo siguiente:\n",
    "\n",
    "● Se estandarizaron los nombres de etapas en mayúsculas.\n",
    "\n",
    "● Para valores faltantes o fuera de las categorías esperadas, se asignó una etapa\n",
    "predeterminada (“SHOOT”) o se rellenó usando el valor más cercano (técnicas de\n",
    "forward-fill y backfill).\n",
    "\n",
    "● Se creó una nueva columna con las etapas ya normalizadas, que luego fue utilizada\n",
    "para segmentar y graficar.\n",
    "\n",
    "5. Integración de gasto real\n",
    "\n",
    "A partir de la hoja Data, se recuperaron los gastos reales por partida (columna\n",
    "\"SUBTOTAL\"). Esta información se sumó con los valores de compromisos existentes en el\n",
    "Cost Report para calcular el gasto total por cuenta.\n",
    "Este paso permitió comparar cada cuenta no sólo contra su presupuesto original, sino también\n",
    "contra el gasto acumulado real más lo comprometido.\n",
    "\n",
    "6. Asociación de fechas a cada partida\n",
    "\n",
    "Para incorporar el componente temporal al análisis, se trabajó con las fechas de pago\n",
    "incluidas en la hoja “Data”. Este paso fue importante para construir gráficas por semana y\n",
    "hacer seguimiento del avance del gasto. Se aplicaron varias reglas:\n",
    "\n",
    "● Se eliminaron valores negativos o inválidos.\n",
    "\n",
    "● Para partidas con fechas faltantes, se aplicó una estrategia de relleno usando otras\n",
    "fechas similares dentro de la misma cuenta.\n",
    "\n",
    "● Si aún así quedaban partidas sin fecha, se les asignó la mediana general del archivo\n",
    "para no excluirlas del análisis temporal.\n",
    "\n",
    "El resultado fue una columna limpia de fechas (numéricas) que sirvió como base para\n",
    "construir visualizaciones por semana.\n",
    "\n",
    "7. Validación final del conjunto de datos\n",
    "\n",
    "Antes de generar las gráficas, se hicieron algunas verificaciones clave:\n",
    "\n",
    "● Se comprobó que todos los totales (presupuesto, gasto real y gasto total) fueran\n",
    "consistentes después de las transformaciones.\n",
    "\n",
    "● Se revisó que cada cuenta tuviera una fecha válida si tenía gasto asociado.\n",
    "\n",
    "● Se creó una versión final del archivo limpio y validado, sobre la cual se basaron todas\n",
    "las visualizaciones del proyecto.\n",
    "\n",
    "\n",
    "\n"
   ]
  },
  {
   "cell_type": "markdown",
   "id": "52fd1656",
   "metadata": {},
   "source": [
    "## Desarollo\n",
    "\n"
   ]
  },
  {
   "cell_type": "markdown",
   "id": "357c2c09",
   "metadata": {},
   "source": [
    "### 1. Replicación de métricas clave a través de visualizaciones interactivas\n",
    "El primer objetivo consistió en replicar las métricas presupuestales que la empresa ya utilizaba en su dashboard. Para lograrlo, se realizó una limpieza exhaustiva del archivo entregado, identificando las columnas útiles y estructurando los datos con jerarquías contables: se distinguieron cuentas generales, subcuentas y cuentas detalladas a partir de los códigos ACCT. Se normalizaron nombres de etapas y se eliminaron columnas vacías o poco informativas.\n",
    "\n",
    "Después, se diseñó una visualización interactiva de tipo dona que muestra el estado actual del presupuesto frente al gasto real. Esta gráfica dinámica se alimenta directamente de los cálculos replicados, y permite ver de manera inmediata cuánto se ha ejecutado y cuánto queda disponible. Se incorporaron filtros por etapa, cuenta y departamento, junto con un slider por semana para facilitar el análisis temporal."
   ]
  },
  {
   "cell_type": "code",
   "execution_count": null,
   "id": "3a03b589",
   "metadata": {},
   "outputs": [],
   "source": [
    "## Aqui va una grafica"
   ]
  },
  {
   "cell_type": "markdown",
   "id": "c11fbe08",
   "metadata": {},
   "source": [
    "Esta herramienta permite analizar el avance financiero desde diferentes ángulos y responder preguntas clave como: ¿el gasto va al ritmo esperado?, ¿hay cuentas o áreas críticas?, ¿en qué semana comenzaron a surgir desviaciones? Su flexibilidad y claridad la convierten en un recurso esencial para el monitoreo continuo del proyecto."
   ]
  },
  {
   "cell_type": "markdown",
   "id": "7238d75f",
   "metadata": {},
   "source": [
    "### 2. Análisis exploratorio para detectar patrones ocultos (hipótesis)\n",
    "En el segundo bloque, se llevó a cabo un análisis exploratorio detallado. Se construyeron nuevas variables categóricas y se transformaron campos clave como los tipos de cuenta (TIPO) y las etapas del proyecto. Estas transformaciones permitieron formular y comprobar hipótesis sobre el comportamiento presupuestal.\n",
    "\n",
    "#### Hipótesis 1: La etapa SHOOT es la más propensa a sobregastos\n",
    "Se filtraron las cuentas con sobregastos y se agruparon por etapa. A partir de ahí, se generaron visualizaciones para comparar los montos excedidos entre etapas. También se construyó una segunda gráfica para ver los ahorros por etapa y una tercera que muestra el resultado neto (ahorro menos sobregasto)."
   ]
  },
  {
   "cell_type": "code",
   "execution_count": null,
   "id": "601f33c5",
   "metadata": {},
   "outputs": [],
   "source": [
    "## aqui va una grafica"
   ]
  },
  {
   "cell_type": "markdown",
   "id": "edc1d179",
   "metadata": {},
   "source": [
    "Este conjunto evidenció que SHOOT no solo tuvo el mayor sobregasto (más de $14 millones), sino que fue la única etapa con saldo negativo considerable, a pesar de múltiples intentos de ahorro. La limpieza del gasto y la organización por etapa fueron fundamentales para confirmar la hipótesis y resaltar la necesidad de mejorar el control financiero en esa fase crítica del proyecto.\n",
    "\n",
    "#### Hipótesis 2: La etapa SOFT no generó ahorros por el tipo de cuentas que la componen\n",
    "Aquí se cruzaron las variables Etapa y TIPO con el comportamiento presupuestal de cada cuenta (ahorro, sobregasto o neutral). Se construyó un conjunto de reglas para clasificar cada cuenta según su resultado financiero, y luego se agruparon los datos por tipo."
   ]
  },
  {
   "cell_type": "code",
   "execution_count": null,
   "id": "23559b9d",
   "metadata": {},
   "outputs": [],
   "source": [
    "## aqui va grafica"
   ]
  },
  {
   "cell_type": "markdown",
   "id": "2d2b2932",
   "metadata": {},
   "source": [
    "El análisis reveló que en la etapa SOFT, casi todas las cuentas eran del tipo Below the Line, y ninguna generó ahorro. Este comportamiento reforzó la hipótesis y sugiere que la composición contable de una etapa influye significativamente en su desempeño presupuestal.\n",
    "\n",
    "#### Hipótesis 3: Relación entre tipo de cuenta y comportamiento presupuestal\n",
    "Se realizó un análisis transversal para todas las etapas, donde se examinó si ciertos tipos de cuenta tienden a comportarse de manera consistente. Se generaron gráficos por etapa mostrando la frecuencia de sobregastos, ahorros y cuentas neutras por tipo de cuenta."
   ]
  },
  {
   "cell_type": "code",
   "execution_count": null,
   "id": "3b1c4178",
   "metadata": {},
   "outputs": [],
   "source": [
    "## VARIAS GRAFICAS"
   ]
  },
  {
   "cell_type": "markdown",
   "id": "c1c94afa",
   "metadata": {},
   "source": [
    "Los resultados fueron mixtos. Aunque el tipo Below the Line fue el más común y apareció tanto con sobregastos como con ahorros, no se encontró una correlación fuerte. Esto sugiere que su comportamiento está influenciado más por su abundancia que por una tendencia inherente, por lo cual la hipótesis se confirmó parcialmente."
   ]
  },
  {
   "cell_type": "markdown",
   "id": "743be4e6",
   "metadata": {},
   "source": [
    "### 3. Análisis descriptivo para responder \"¿Qué ha ocurrido?\""
   ]
  },
  {
   "cell_type": "markdown",
   "id": "19460400",
   "metadata": {},
   "source": [
    "# Codigo - Análisis Exploratorio de Datos (EDA) y Desarrollo\n",
    "\n",
    "En esta sección se incluye el desarrollo técnico del proyecto: lectura de archivos, transformación de datos, visualizaciones y cálculos estadísticos necesarios para comprobar las hipótesis planteadas.\n",
    "\n",
    "A continuación, se presenta el paso a paso del análisis.\n"
   ]
  },
  {
   "cell_type": "code",
   "execution_count": 2,
   "id": "883c79ff",
   "metadata": {},
   "outputs": [],
   "source": [
    "# ==================== BLOQUE 1 – LIBRERÍAS ====================\n",
    "\n",
    "# Manipulación y análisis de datos\n",
    "import pandas as pd\n",
    "import numpy as np\n",
    "\n",
    "# Visualización estática y estadística\n",
    "import matplotlib.pyplot as plt\n",
    "import seaborn as sns\n",
    "\n",
    "# Visualización interactiva\n",
    "import plotly.express as px\n",
    "import plotly.graph_objects as go\n",
    "import plotly.io as pio\n",
    "\n",
    "# Lectura de archivos Excel con múltiples hojas\n",
    "import openpyxl\n"
   ]
  },
  {
   "cell_type": "markdown",
   "id": "8f024485",
   "metadata": {},
   "source": [
    "## – Carga de Datos\n",
    "Se cargan las tres hojas principales del archivo Excel: Summary, Cost Report y Data.  \n",
    "Se omiten filas irrelevantes en la hoja de costos y se seleccionan sólo las columnas útiles (C:Z).\n"
   ]
  },
  {
   "cell_type": "code",
   "execution_count": 3,
   "id": "79bb7133",
   "metadata": {},
   "outputs": [
    {
     "name": "stdout",
     "output_type": "stream",
     "text": [
      "📄 Hojas disponibles en el archivo:\n",
      "['Summary', 'Comprometidos', 'Cost Report', 'Balance Sheet', 'Budget', 'Data Commitments', 'Data', 'Commitments', 'Tablas', 'Conciliación Bancaria']\n"
     ]
    },
    {
     "name": "stderr",
     "output_type": "stream",
     "text": [
      "c:\\Users\\angel\\anaconda3\\envs\\AnalisdeDatos\\Lib\\site-packages\\openpyxl\\worksheet\\_reader.py:329: UserWarning: Data Validation extension is not supported and will be removed\n",
      "  warn(msg)\n",
      "c:\\Users\\angel\\anaconda3\\envs\\AnalisdeDatos\\Lib\\site-packages\\openpyxl\\worksheet\\_reader.py:329: UserWarning: Data Validation extension is not supported and will be removed\n",
      "  warn(msg)\n"
     ]
    },
    {
     "name": "stdout",
     "output_type": "stream",
     "text": [
      "\n",
      "📊 Hoja 'Summary':\n"
     ]
    },
    {
     "data": {
      "text/html": [
       "<div>\n",
       "<style scoped>\n",
       "    .dataframe tbody tr th:only-of-type {\n",
       "        vertical-align: middle;\n",
       "    }\n",
       "\n",
       "    .dataframe tbody tr th {\n",
       "        vertical-align: top;\n",
       "    }\n",
       "\n",
       "    .dataframe thead th {\n",
       "        text-align: right;\n",
       "    }\n",
       "</style>\n",
       "<table border=\"1\" class=\"dataframe\">\n",
       "  <thead>\n",
       "    <tr style=\"text-align: right;\">\n",
       "      <th></th>\n",
       "      <th>Unnamed: 0</th>\n",
       "      <th>Unnamed: 1</th>\n",
       "      <th>Unnamed: 2</th>\n",
       "      <th>Unnamed: 3</th>\n",
       "      <th>Unnamed: 4</th>\n",
       "      <th>Unnamed: 5</th>\n",
       "      <th>Unnamed: 6</th>\n",
       "      <th>Unnamed: 7</th>\n",
       "      <th>Unnamed: 8</th>\n",
       "      <th>Unnamed: 9</th>\n",
       "      <th>Unnamed: 10</th>\n",
       "      <th>Unnamed: 11</th>\n",
       "      <th>Unnamed: 12</th>\n",
       "      <th>Unnamed: 13</th>\n",
       "      <th>Unnamed: 14</th>\n",
       "    </tr>\n",
       "  </thead>\n",
       "  <tbody>\n",
       "    <tr>\n",
       "      <th>0</th>\n",
       "      <td>NaN</td>\n",
       "      <td>NaN</td>\n",
       "      <td>NaN</td>\n",
       "      <td>NaN</td>\n",
       "      <td>NaN</td>\n",
       "      <td>NaN</td>\n",
       "      <td>NaN</td>\n",
       "      <td>NaN</td>\n",
       "      <td>NaN</td>\n",
       "      <td>NaN</td>\n",
       "      <td>NaN</td>\n",
       "      <td>NaN</td>\n",
       "      <td>NaN</td>\n",
       "      <td>NaN</td>\n",
       "      <td>NaN</td>\n",
       "    </tr>\n",
       "    <tr>\n",
       "      <th>1</th>\n",
       "      <td>NaN</td>\n",
       "      <td>NaN</td>\n",
       "      <td>NaN</td>\n",
       "      <td>NaN</td>\n",
       "      <td>NaN</td>\n",
       "      <td>NaN</td>\n",
       "      <td>NaN</td>\n",
       "      <td>NaN</td>\n",
       "      <td>NaN</td>\n",
       "      <td>NaN</td>\n",
       "      <td>NaN</td>\n",
       "      <td>NaN</td>\n",
       "      <td>NaN</td>\n",
       "      <td>NaN</td>\n",
       "      <td>NaN</td>\n",
       "    </tr>\n",
       "    <tr>\n",
       "      <th>2</th>\n",
       "      <td>NaN</td>\n",
       "      <td>NaN</td>\n",
       "      <td>NaN</td>\n",
       "      <td>NaN</td>\n",
       "      <td>NaN</td>\n",
       "      <td>NaN</td>\n",
       "      <td>NaN</td>\n",
       "      <td>NaN</td>\n",
       "      <td>NaN</td>\n",
       "      <td>NaN</td>\n",
       "      <td>NaN</td>\n",
       "      <td>NaN</td>\n",
       "      <td>NaN</td>\n",
       "      <td>NaN</td>\n",
       "      <td>NaN</td>\n",
       "    </tr>\n",
       "    <tr>\n",
       "      <th>3</th>\n",
       "      <td>NaN</td>\n",
       "      <td>NaN</td>\n",
       "      <td>NaN</td>\n",
       "      <td>COST REPORT</td>\n",
       "      <td>NaN</td>\n",
       "      <td>NaN</td>\n",
       "      <td>NaN</td>\n",
       "      <td>NaN</td>\n",
       "      <td>NaN</td>\n",
       "      <td>NaN</td>\n",
       "      <td>NaN</td>\n",
       "      <td>NaN</td>\n",
       "      <td>NaN</td>\n",
       "      <td>NaN</td>\n",
       "      <td>NaN</td>\n",
       "    </tr>\n",
       "    <tr>\n",
       "      <th>4</th>\n",
       "      <td>NaN</td>\n",
       "      <td>NaN</td>\n",
       "      <td>NaN</td>\n",
       "      <td>Etapa:</td>\n",
       "      <td>ALL</td>\n",
       "      <td>NaN</td>\n",
       "      <td>NaN</td>\n",
       "      <td>NaN</td>\n",
       "      <td>1</td>\n",
       "      <td>0</td>\n",
       "      <td>NaN</td>\n",
       "      <td>NaN</td>\n",
       "      <td>NaN</td>\n",
       "      <td>NaN</td>\n",
       "      <td>NaN</td>\n",
       "    </tr>\n",
       "  </tbody>\n",
       "</table>\n",
       "</div>"
      ],
      "text/plain": [
       "   Unnamed: 0 Unnamed: 1 Unnamed: 2   Unnamed: 3 Unnamed: 4 Unnamed: 5  \\\n",
       "0         NaN        NaN        NaN          NaN        NaN        NaN   \n",
       "1         NaN        NaN        NaN          NaN        NaN        NaN   \n",
       "2         NaN        NaN        NaN          NaN        NaN        NaN   \n",
       "3         NaN        NaN        NaN  COST REPORT        NaN        NaN   \n",
       "4         NaN        NaN        NaN       Etapa:        ALL        NaN   \n",
       "\n",
       "  Unnamed: 6 Unnamed: 7 Unnamed: 8 Unnamed: 9 Unnamed: 10 Unnamed: 11  \\\n",
       "0        NaN        NaN        NaN        NaN         NaN         NaN   \n",
       "1        NaN        NaN        NaN        NaN         NaN         NaN   \n",
       "2        NaN        NaN        NaN        NaN         NaN         NaN   \n",
       "3        NaN        NaN        NaN        NaN         NaN         NaN   \n",
       "4        NaN        NaN          1          0         NaN         NaN   \n",
       "\n",
       "  Unnamed: 12 Unnamed: 13 Unnamed: 14  \n",
       "0         NaN         NaN         NaN  \n",
       "1         NaN         NaN         NaN  \n",
       "2         NaN         NaN         NaN  \n",
       "3         NaN         NaN         NaN  \n",
       "4         NaN         NaN         NaN  "
      ]
     },
     "metadata": {},
     "output_type": "display_data"
    },
    {
     "name": "stdout",
     "output_type": "stream",
     "text": [
      "\n",
      "📊 Hoja 'Cost Report':\n"
     ]
    },
    {
     "data": {
      "text/html": [
       "<div>\n",
       "<style scoped>\n",
       "    .dataframe tbody tr th:only-of-type {\n",
       "        vertical-align: middle;\n",
       "    }\n",
       "\n",
       "    .dataframe tbody tr th {\n",
       "        vertical-align: top;\n",
       "    }\n",
       "\n",
       "    .dataframe thead th {\n",
       "        text-align: right;\n",
       "    }\n",
       "</style>\n",
       "<table border=\"1\" class=\"dataframe\">\n",
       "  <thead>\n",
       "    <tr style=\"text-align: right;\">\n",
       "      <th></th>\n",
       "      <th>TIPO</th>\n",
       "      <th>REF</th>\n",
       "      <th>Etapa</th>\n",
       "      <th>Sección</th>\n",
       "      <th>ACCT</th>\n",
       "      <th>Unnamed: 7</th>\n",
       "      <th>1</th>\n",
       "      <th>COST TO DATE</th>\n",
       "      <th>COMMITMENTS</th>\n",
       "      <th>TOTAL CTD</th>\n",
       "      <th>...</th>\n",
       "      <th>INDEX</th>\n",
       "      <th>2</th>\n",
       "      <th>P ESTIMATE FINAL COST</th>\n",
       "      <th>VARIANCE VS PFCST</th>\n",
       "      <th>INDEX.1</th>\n",
       "      <th>Comentarios</th>\n",
       "      <th>Unnamed: 22</th>\n",
       "      <th>Unnamed: 23</th>\n",
       "      <th>Unnamed: 24</th>\n",
       "      <th>Unnamed: 25</th>\n",
       "    </tr>\n",
       "  </thead>\n",
       "  <tbody>\n",
       "    <tr>\n",
       "      <th>0</th>\n",
       "      <td>Above the Line</td>\n",
       "      <td>Cuenta General</td>\n",
       "      <td>NaN</td>\n",
       "      <td>NaN</td>\n",
       "      <td>1100</td>\n",
       "      <td>NaN</td>\n",
       "      <td>NaN</td>\n",
       "      <td>10065000.08</td>\n",
       "      <td>0.0</td>\n",
       "      <td>10065000.08</td>\n",
       "      <td>...</td>\n",
       "      <td>NaN</td>\n",
       "      <td>NaN</td>\n",
       "      <td>10065000.08</td>\n",
       "      <td>0.0</td>\n",
       "      <td>NaN</td>\n",
       "      <td>NaN</td>\n",
       "      <td>NaN</td>\n",
       "      <td>NaN</td>\n",
       "      <td>NaN</td>\n",
       "      <td>NaN</td>\n",
       "    </tr>\n",
       "    <tr>\n",
       "      <th>1</th>\n",
       "      <td>Above the Line</td>\n",
       "      <td>Sub cuenta</td>\n",
       "      <td>NaN</td>\n",
       "      <td>NaN</td>\n",
       "      <td>1101</td>\n",
       "      <td>NaN</td>\n",
       "      <td>NaN</td>\n",
       "      <td>8340000.02</td>\n",
       "      <td>0.0</td>\n",
       "      <td>8340000.02</td>\n",
       "      <td>...</td>\n",
       "      <td>NaN</td>\n",
       "      <td>NaN</td>\n",
       "      <td>8340000.02</td>\n",
       "      <td>0.0</td>\n",
       "      <td>NaN</td>\n",
       "      <td>NaN</td>\n",
       "      <td>NaN</td>\n",
       "      <td>NaN</td>\n",
       "      <td>NaN</td>\n",
       "      <td>11.0</td>\n",
       "    </tr>\n",
       "    <tr>\n",
       "      <th>2</th>\n",
       "      <td>Above the Line</td>\n",
       "      <td>Detalle</td>\n",
       "      <td>NaN</td>\n",
       "      <td>NaN</td>\n",
       "      <td>1101-002</td>\n",
       "      <td>NaN</td>\n",
       "      <td>NaN</td>\n",
       "      <td>0.00</td>\n",
       "      <td>0.0</td>\n",
       "      <td>0.00</td>\n",
       "      <td>...</td>\n",
       "      <td>NaN</td>\n",
       "      <td>NaN</td>\n",
       "      <td>0.00</td>\n",
       "      <td>0.0</td>\n",
       "      <td>NaN</td>\n",
       "      <td>NaN</td>\n",
       "      <td>NaN</td>\n",
       "      <td>NaN</td>\n",
       "      <td>1101.0</td>\n",
       "      <td>NaN</td>\n",
       "    </tr>\n",
       "    <tr>\n",
       "      <th>3</th>\n",
       "      <td>Above the Line</td>\n",
       "      <td>Detalle</td>\n",
       "      <td>NaN</td>\n",
       "      <td>NaN</td>\n",
       "      <td>1101-004</td>\n",
       "      <td>NaN</td>\n",
       "      <td>NaN</td>\n",
       "      <td>0.00</td>\n",
       "      <td>0.0</td>\n",
       "      <td>0.00</td>\n",
       "      <td>...</td>\n",
       "      <td>NaN</td>\n",
       "      <td>NaN</td>\n",
       "      <td>0.00</td>\n",
       "      <td>0.0</td>\n",
       "      <td>NaN</td>\n",
       "      <td>NaN</td>\n",
       "      <td>NaN</td>\n",
       "      <td>NaN</td>\n",
       "      <td>1101.0</td>\n",
       "      <td>NaN</td>\n",
       "    </tr>\n",
       "    <tr>\n",
       "      <th>4</th>\n",
       "      <td>Above the Line</td>\n",
       "      <td>Detalle</td>\n",
       "      <td>DEVELOPMENT</td>\n",
       "      <td>NaN</td>\n",
       "      <td>1101-005</td>\n",
       "      <td>NaN</td>\n",
       "      <td>NaN</td>\n",
       "      <td>1400000.00</td>\n",
       "      <td>0.0</td>\n",
       "      <td>1400000.00</td>\n",
       "      <td>...</td>\n",
       "      <td>NaN</td>\n",
       "      <td>NaN</td>\n",
       "      <td>1400000.00</td>\n",
       "      <td>0.0</td>\n",
       "      <td>NaN</td>\n",
       "      <td>NaN</td>\n",
       "      <td>NaN</td>\n",
       "      <td>NaN</td>\n",
       "      <td>1101.0</td>\n",
       "      <td>NaN</td>\n",
       "    </tr>\n",
       "  </tbody>\n",
       "</table>\n",
       "<p>5 rows × 24 columns</p>\n",
       "</div>"
      ],
      "text/plain": [
       "             TIPO             REF        Etapa Sección      ACCT  Unnamed: 7  \\\n",
       "0  Above the Line  Cuenta General          NaN     NaN      1100         NaN   \n",
       "1  Above the Line      Sub cuenta          NaN     NaN      1101         NaN   \n",
       "2  Above the Line         Detalle          NaN     NaN  1101-002         NaN   \n",
       "3  Above the Line         Detalle          NaN     NaN  1101-004         NaN   \n",
       "4  Above the Line         Detalle  DEVELOPMENT     NaN  1101-005         NaN   \n",
       "\n",
       "    1  COST TO DATE  COMMITMENTS    TOTAL CTD  ...  INDEX   2  \\\n",
       "0 NaN   10065000.08          0.0  10065000.08  ...    NaN NaN   \n",
       "1 NaN    8340000.02          0.0   8340000.02  ...    NaN NaN   \n",
       "2 NaN          0.00          0.0         0.00  ...    NaN NaN   \n",
       "3 NaN          0.00          0.0         0.00  ...    NaN NaN   \n",
       "4 NaN    1400000.00          0.0   1400000.00  ...    NaN NaN   \n",
       "\n",
       "   P ESTIMATE FINAL COST  VARIANCE VS PFCST INDEX.1  Comentarios  Unnamed: 22  \\\n",
       "0            10065000.08                0.0     NaN          NaN          NaN   \n",
       "1             8340000.02                0.0     NaN          NaN          NaN   \n",
       "2                   0.00                0.0     NaN          NaN          NaN   \n",
       "3                   0.00                0.0     NaN          NaN          NaN   \n",
       "4             1400000.00                0.0     NaN          NaN          NaN   \n",
       "\n",
       "   Unnamed: 23  Unnamed: 24  Unnamed: 25  \n",
       "0          NaN          NaN          NaN  \n",
       "1          NaN          NaN         11.0  \n",
       "2          NaN       1101.0          NaN  \n",
       "3          NaN       1101.0          NaN  \n",
       "4          NaN       1101.0          NaN  \n",
       "\n",
       "[5 rows x 24 columns]"
      ]
     },
     "metadata": {},
     "output_type": "display_data"
    },
    {
     "name": "stdout",
     "output_type": "stream",
     "text": [
      "\n",
      "📊 Hoja 'Data':\n"
     ]
    },
    {
     "data": {
      "text/html": [
       "<div>\n",
       "<style scoped>\n",
       "    .dataframe tbody tr th:only-of-type {\n",
       "        vertical-align: middle;\n",
       "    }\n",
       "\n",
       "    .dataframe tbody tr th {\n",
       "        vertical-align: top;\n",
       "    }\n",
       "\n",
       "    .dataframe thead th {\n",
       "        text-align: right;\n",
       "    }\n",
       "</style>\n",
       "<table border=\"1\" class=\"dataframe\">\n",
       "  <thead>\n",
       "    <tr style=\"text-align: right;\">\n",
       "      <th></th>\n",
       "      <th>CONTROL</th>\n",
       "      <th># CHEQUE</th>\n",
       "      <th>PARTIDA PRESUPUESTAL</th>\n",
       "      <th>UIDD/FOLIO FISCAL</th>\n",
       "      <th>DIRECCION</th>\n",
       "      <th>REGIMEN FISCAL</th>\n",
       "      <th>NOMBRE REGIMEN FISCAL</th>\n",
       "      <th>RFC</th>\n",
       "      <th>STATUS</th>\n",
       "      <th>FECHA DE RECIBIDO</th>\n",
       "      <th>...</th>\n",
       "      <th>Valida</th>\n",
       "      <th>MES</th>\n",
       "      <th>Column1</th>\n",
       "      <th>SUBTOTAL2</th>\n",
       "      <th>IVA3</th>\n",
       "      <th>RET IVA4</th>\n",
       "      <th>RET ISR.1</th>\n",
       "      <th>TOTAL.1</th>\n",
       "      <th>CAMBIOS</th>\n",
       "      <th>Unnamed: 36</th>\n",
       "    </tr>\n",
       "  </thead>\n",
       "  <tbody>\n",
       "    <tr>\n",
       "      <th>0</th>\n",
       "      <td>NaN</td>\n",
       "      <td>NaN</td>\n",
       "      <td>Income (Funding)</td>\n",
       "      <td>NaN</td>\n",
       "      <td>NaN</td>\n",
       "      <td>NaN</td>\n",
       "      <td>NaN</td>\n",
       "      <td>NaN</td>\n",
       "      <td>NaN</td>\n",
       "      <td>NaN</td>\n",
       "      <td>...</td>\n",
       "      <td>Balance</td>\n",
       "      <td>NaN</td>\n",
       "      <td>0</td>\n",
       "      <td>NaN</td>\n",
       "      <td>NaN</td>\n",
       "      <td>NaN</td>\n",
       "      <td>NaN</td>\n",
       "      <td>NaN</td>\n",
       "      <td>NaN</td>\n",
       "      <td>NaN</td>\n",
       "    </tr>\n",
       "    <tr>\n",
       "      <th>1</th>\n",
       "      <td>NaN</td>\n",
       "      <td>NaN</td>\n",
       "      <td>Income (Funding) IVA</td>\n",
       "      <td>NaN</td>\n",
       "      <td>NaN</td>\n",
       "      <td>NaN</td>\n",
       "      <td>NaN</td>\n",
       "      <td>NaN</td>\n",
       "      <td>NaN</td>\n",
       "      <td>NaN</td>\n",
       "      <td>...</td>\n",
       "      <td>Balance</td>\n",
       "      <td>NaN</td>\n",
       "      <td>0</td>\n",
       "      <td>NaN</td>\n",
       "      <td>NaN</td>\n",
       "      <td>NaN</td>\n",
       "      <td>NaN</td>\n",
       "      <td>NaN</td>\n",
       "      <td>NaN</td>\n",
       "      <td>NaN</td>\n",
       "    </tr>\n",
       "    <tr>\n",
       "      <th>2</th>\n",
       "      <td>F1.2</td>\n",
       "      <td>NaN</td>\n",
       "      <td>Income (Funding)</td>\n",
       "      <td>NaN</td>\n",
       "      <td>NaN</td>\n",
       "      <td>Estados Unidos (los)</td>\n",
       "      <td>Estados Unidos (los)</td>\n",
       "      <td>0.0</td>\n",
       "      <td>NaN</td>\n",
       "      <td>NaN</td>\n",
       "      <td>...</td>\n",
       "      <td>Balance</td>\n",
       "      <td>NaN</td>\n",
       "      <td>0</td>\n",
       "      <td>NaN</td>\n",
       "      <td>NaN</td>\n",
       "      <td>NaN</td>\n",
       "      <td>NaN</td>\n",
       "      <td>NaN</td>\n",
       "      <td>NaN</td>\n",
       "      <td>NaN</td>\n",
       "    </tr>\n",
       "    <tr>\n",
       "      <th>3</th>\n",
       "      <td>N001</td>\n",
       "      <td>0001</td>\n",
       "      <td>7007-009</td>\n",
       "      <td>0.0</td>\n",
       "      <td>86127</td>\n",
       "      <td>Régimen Simplificado de Confianza</td>\n",
       "      <td>Régimen Simplificado de Confianza</td>\n",
       "      <td>1.0</td>\n",
       "      <td>NaN</td>\n",
       "      <td>33.0</td>\n",
       "      <td>...</td>\n",
       "      <td>7007-009</td>\n",
       "      <td>NaN</td>\n",
       "      <td>0</td>\n",
       "      <td>NaN</td>\n",
       "      <td>NaN</td>\n",
       "      <td>NaN</td>\n",
       "      <td>NaN</td>\n",
       "      <td>NaN</td>\n",
       "      <td>NaN</td>\n",
       "      <td>-45135.0</td>\n",
       "    </tr>\n",
       "    <tr>\n",
       "      <th>4</th>\n",
       "      <td>N003</td>\n",
       "      <td>0004</td>\n",
       "      <td>1107-009</td>\n",
       "      <td>1.0</td>\n",
       "      <td>4318</td>\n",
       "      <td>Régimen Simplificado de Confianza</td>\n",
       "      <td>Régimen Simplificado de Confianza</td>\n",
       "      <td>2.0</td>\n",
       "      <td>NaN</td>\n",
       "      <td>40.0</td>\n",
       "      <td>...</td>\n",
       "      <td>1107-009</td>\n",
       "      <td>NaN</td>\n",
       "      <td>0</td>\n",
       "      <td>NaN</td>\n",
       "      <td>NaN</td>\n",
       "      <td>NaN</td>\n",
       "      <td>NaN</td>\n",
       "      <td>NaN</td>\n",
       "      <td>NaN</td>\n",
       "      <td>-45128.0</td>\n",
       "    </tr>\n",
       "  </tbody>\n",
       "</table>\n",
       "<p>5 rows × 37 columns</p>\n",
       "</div>"
      ],
      "text/plain": [
       "  CONTROL # CHEQUE  PARTIDA PRESUPUESTAL  UIDD/FOLIO FISCAL DIRECCION  \\\n",
       "0     NaN      NaN      Income (Funding)                NaN       NaN   \n",
       "1     NaN      NaN  Income (Funding) IVA                NaN       NaN   \n",
       "2    F1.2      NaN      Income (Funding)                NaN       NaN   \n",
       "3    N001     0001              7007-009                0.0     86127   \n",
       "4    N003     0004              1107-009                1.0      4318   \n",
       "\n",
       "                      REGIMEN FISCAL              NOMBRE REGIMEN FISCAL  RFC  \\\n",
       "0                                NaN                                NaN  NaN   \n",
       "1                                NaN                                NaN  NaN   \n",
       "2              Estados Unidos (los)               Estados Unidos (los)   0.0   \n",
       "3  Régimen Simplificado de Confianza  Régimen Simplificado de Confianza  1.0   \n",
       "4  Régimen Simplificado de Confianza  Régimen Simplificado de Confianza  2.0   \n",
       "\n",
       "  STATUS  FECHA DE RECIBIDO  ...    Valida  MES  Column1  SUBTOTAL2  IVA3  \\\n",
       "0    NaN                NaN  ...   Balance  NaN        0        NaN   NaN   \n",
       "1    NaN                NaN  ...   Balance  NaN        0        NaN   NaN   \n",
       "2    NaN                NaN  ...   Balance  NaN        0        NaN   NaN   \n",
       "3    NaN               33.0  ...  7007-009  NaN        0        NaN   NaN   \n",
       "4    NaN               40.0  ...  1107-009  NaN        0        NaN   NaN   \n",
       "\n",
       "  RET IVA4  RET ISR.1 TOTAL.1 CAMBIOS Unnamed: 36  \n",
       "0      NaN        NaN     NaN     NaN         NaN  \n",
       "1      NaN        NaN     NaN     NaN         NaN  \n",
       "2      NaN        NaN     NaN     NaN         NaN  \n",
       "3      NaN        NaN     NaN     NaN    -45135.0  \n",
       "4      NaN        NaN     NaN     NaN    -45128.0  \n",
       "\n",
       "[5 rows x 37 columns]"
      ]
     },
     "metadata": {},
     "output_type": "display_data"
    }
   ],
   "source": [
    "# ==================== BLOQUE 2 – CARGA DE DATOS ====================\n",
    "\n",
    "# Cargar archivo Excel con múltiples hojas\n",
    "archivo = \"CR EJEMPLO MOD.xlsm\"\n",
    "xlsx = pd.ExcelFile(archivo)\n",
    "\n",
    "# Mostrar nombres de hojas disponibles\n",
    "print(\"📄 Hojas disponibles en el archivo:\")\n",
    "print(xlsx.sheet_names)\n",
    "\n",
    "# Leer hoja 'Summary' sin transformación adicional\n",
    "df_summary = pd.read_excel(xlsx, sheet_name=\"Summary\")\n",
    "\n",
    "# Leer hoja 'Data' completa\n",
    "df_data = pd.read_excel(xlsx, sheet_name=\"Data\")\n",
    "\n",
    "# Leer hoja 'Cost Report', omitiendo encabezados y tomando columnas útiles (C:Z)\n",
    "df_costreport = pd.read_excel(\n",
    "    xlsx,\n",
    "    sheet_name=\"Cost Report\",\n",
    "    skiprows=8,\n",
    "    usecols=\"C:Z\"\n",
    ")\n",
    "\n",
    "# Vista preliminar de los tres DataFrames cargados\n",
    "print(\"\\n📊 Hoja 'Summary':\")\n",
    "display(df_summary.head())\n",
    "\n",
    "print(\"\\n📊 Hoja 'Cost Report':\")\n",
    "display(df_costreport.head())\n",
    "\n",
    "print(\"\\n📊 Hoja 'Data':\")\n",
    "display(df_data.head())\n"
   ]
  },
  {
   "cell_type": "markdown",
   "id": "aeabb393",
   "metadata": {},
   "source": [
    "## – Preprocesamiento del Cost Report\n",
    "Se limpia y transforma la hoja Cost Report para dejarla lista para el análisis.  \n",
    "Se eliminan columnas irrelevantes, se filtran registros útiles (detalles), y se normalizan campos como ACCT, Etapa y COMMITMENTS. También se crea la jerarquía contable.\n"
   ]
  },
  {
   "cell_type": "code",
   "execution_count": 4,
   "id": "3f617a65",
   "metadata": {},
   "outputs": [
    {
     "name": "stdout",
     "output_type": "stream",
     "text": [
      "Suma Cost Report original      : 402,840,948.29\n",
      "Suma tras filtrar 'detalle'    : 134,371,982.76\n",
      "Diferencia                      : 268,468,965.53\n",
      "\n",
      "Vista final de Cost Report preprocesado:\n"
     ]
    },
    {
     "name": "stderr",
     "output_type": "stream",
     "text": [
      "C:\\Users\\angel\\AppData\\Local\\Temp\\ipykernel_2412\\1486106629.py:72: FutureWarning: Series.fillna with 'method' is deprecated and will raise in a future version. Use obj.ffill() or obj.bfill() instead.\n",
      "  df_cost[\"Etapa Normalizada\"] = df_cost[\"Etapa Normalizada\"].fillna(method=\"ffill\").fillna(method=\"bfill\")\n"
     ]
    },
    {
     "data": {
      "text/html": [
       "<div>\n",
       "<style scoped>\n",
       "    .dataframe tbody tr th:only-of-type {\n",
       "        vertical-align: middle;\n",
       "    }\n",
       "\n",
       "    .dataframe tbody tr th {\n",
       "        vertical-align: top;\n",
       "    }\n",
       "\n",
       "    .dataframe thead th {\n",
       "        text-align: right;\n",
       "    }\n",
       "</style>\n",
       "<table border=\"1\" class=\"dataframe\">\n",
       "  <thead>\n",
       "    <tr style=\"text-align: right;\">\n",
       "      <th></th>\n",
       "      <th>TIPO</th>\n",
       "      <th>REF</th>\n",
       "      <th>Etapa</th>\n",
       "      <th>Etapa Normalizada</th>\n",
       "      <th>Sección</th>\n",
       "      <th>ACCT</th>\n",
       "      <th>COST TO DATE</th>\n",
       "      <th>COMMITMENTS</th>\n",
       "      <th>TOTAL CTD</th>\n",
       "      <th>ESTIMATE TO COMPLETE (ETC)</th>\n",
       "      <th>ESTIMATE FINAL COST (EFC)</th>\n",
       "      <th>BUDGET</th>\n",
       "      <th>VARIANCE $</th>\n",
       "      <th>INDEX</th>\n",
       "      <th>Cuenta General</th>\n",
       "      <th>Cuenta Madre</th>\n",
       "      <th>Es Detalle</th>\n",
       "      <th>Nivel</th>\n",
       "      <th>Etiqueta</th>\n",
       "    </tr>\n",
       "  </thead>\n",
       "  <tbody>\n",
       "    <tr>\n",
       "      <th>0</th>\n",
       "      <td>Above the Line</td>\n",
       "      <td>Detalle</td>\n",
       "      <td>NaN</td>\n",
       "      <td>DEVELOPMENT</td>\n",
       "      <td>NaN</td>\n",
       "      <td>1101-002</td>\n",
       "      <td>0.00</td>\n",
       "      <td>0.0</td>\n",
       "      <td>0.00</td>\n",
       "      <td>0.0</td>\n",
       "      <td>0.00</td>\n",
       "      <td>0.0</td>\n",
       "      <td>0.00</td>\n",
       "      <td>NaN</td>\n",
       "      <td>1100</td>\n",
       "      <td>1101</td>\n",
       "      <td>True</td>\n",
       "      <td>Detalle</td>\n",
       "      <td>1101-002</td>\n",
       "    </tr>\n",
       "    <tr>\n",
       "      <th>1</th>\n",
       "      <td>Above the Line</td>\n",
       "      <td>Detalle</td>\n",
       "      <td>NaN</td>\n",
       "      <td>DEVELOPMENT</td>\n",
       "      <td>NaN</td>\n",
       "      <td>1101-004</td>\n",
       "      <td>0.00</td>\n",
       "      <td>0.0</td>\n",
       "      <td>0.00</td>\n",
       "      <td>0.0</td>\n",
       "      <td>0.00</td>\n",
       "      <td>0.0</td>\n",
       "      <td>0.00</td>\n",
       "      <td>NaN</td>\n",
       "      <td>1100</td>\n",
       "      <td>1101</td>\n",
       "      <td>True</td>\n",
       "      <td>Detalle</td>\n",
       "      <td>1101-004</td>\n",
       "    </tr>\n",
       "    <tr>\n",
       "      <th>2</th>\n",
       "      <td>Above the Line</td>\n",
       "      <td>Detalle</td>\n",
       "      <td>DEVELOPMENT</td>\n",
       "      <td>DEVELOPMENT</td>\n",
       "      <td>NaN</td>\n",
       "      <td>1101-005</td>\n",
       "      <td>1400000.00</td>\n",
       "      <td>0.0</td>\n",
       "      <td>1400000.00</td>\n",
       "      <td>0.0</td>\n",
       "      <td>1400000.00</td>\n",
       "      <td>1400000.0</td>\n",
       "      <td>0.00</td>\n",
       "      <td>NaN</td>\n",
       "      <td>1100</td>\n",
       "      <td>1101</td>\n",
       "      <td>True</td>\n",
       "      <td>Detalle</td>\n",
       "      <td>1101-005</td>\n",
       "    </tr>\n",
       "    <tr>\n",
       "      <th>3</th>\n",
       "      <td>Above the Line</td>\n",
       "      <td>Detalle</td>\n",
       "      <td>DEVELOPMENT</td>\n",
       "      <td>DEVELOPMENT</td>\n",
       "      <td>NaN</td>\n",
       "      <td>1101-006</td>\n",
       "      <td>100000.03</td>\n",
       "      <td>0.0</td>\n",
       "      <td>100000.03</td>\n",
       "      <td>0.0</td>\n",
       "      <td>100000.03</td>\n",
       "      <td>100000.0</td>\n",
       "      <td>-0.03</td>\n",
       "      <td>NaN</td>\n",
       "      <td>1100</td>\n",
       "      <td>1101</td>\n",
       "      <td>True</td>\n",
       "      <td>Detalle</td>\n",
       "      <td>1101-006</td>\n",
       "    </tr>\n",
       "    <tr>\n",
       "      <th>4</th>\n",
       "      <td>Above the Line</td>\n",
       "      <td>Detalle</td>\n",
       "      <td>DEVELOPMENT</td>\n",
       "      <td>DEVELOPMENT</td>\n",
       "      <td>NaN</td>\n",
       "      <td>1101-007</td>\n",
       "      <td>100000.00</td>\n",
       "      <td>0.0</td>\n",
       "      <td>100000.00</td>\n",
       "      <td>0.0</td>\n",
       "      <td>100000.00</td>\n",
       "      <td>100000.0</td>\n",
       "      <td>0.00</td>\n",
       "      <td>NaN</td>\n",
       "      <td>1100</td>\n",
       "      <td>1101</td>\n",
       "      <td>True</td>\n",
       "      <td>Detalle</td>\n",
       "      <td>1101-007</td>\n",
       "    </tr>\n",
       "  </tbody>\n",
       "</table>\n",
       "</div>"
      ],
      "text/plain": [
       "             TIPO      REF        Etapa Etapa Normalizada Sección      ACCT  \\\n",
       "0  Above the Line  Detalle          NaN       DEVELOPMENT     NaN  1101-002   \n",
       "1  Above the Line  Detalle          NaN       DEVELOPMENT     NaN  1101-004   \n",
       "2  Above the Line  Detalle  DEVELOPMENT       DEVELOPMENT     NaN  1101-005   \n",
       "3  Above the Line  Detalle  DEVELOPMENT       DEVELOPMENT     NaN  1101-006   \n",
       "4  Above the Line  Detalle  DEVELOPMENT       DEVELOPMENT     NaN  1101-007   \n",
       "\n",
       "   COST TO DATE  COMMITMENTS   TOTAL CTD  ESTIMATE TO COMPLETE (ETC)  \\\n",
       "0          0.00          0.0        0.00                         0.0   \n",
       "1          0.00          0.0        0.00                         0.0   \n",
       "2    1400000.00          0.0  1400000.00                         0.0   \n",
       "3     100000.03          0.0   100000.03                         0.0   \n",
       "4     100000.00          0.0   100000.00                         0.0   \n",
       "\n",
       "   ESTIMATE FINAL COST (EFC)     BUDGET  VARIANCE $  INDEX Cuenta General  \\\n",
       "0                       0.00        0.0        0.00    NaN           1100   \n",
       "1                       0.00        0.0        0.00    NaN           1100   \n",
       "2                 1400000.00  1400000.0        0.00    NaN           1100   \n",
       "3                  100000.03   100000.0       -0.03    NaN           1100   \n",
       "4                  100000.00   100000.0        0.00    NaN           1100   \n",
       "\n",
       "  Cuenta Madre  Es Detalle    Nivel  Etiqueta  \n",
       "0         1101        True  Detalle  1101-002  \n",
       "1         1101        True  Detalle  1101-004  \n",
       "2         1101        True  Detalle  1101-005  \n",
       "3         1101        True  Detalle  1101-006  \n",
       "4         1101        True  Detalle  1101-007  "
      ]
     },
     "metadata": {},
     "output_type": "display_data"
    }
   ],
   "source": [
    "# ============== BLOQUE 3 – PREPROCESAMIENTO DE COST REPORT ==============\n",
    "\n",
    "# Copia de seguridad del DataFrame original\n",
    "df_cost = df_costreport.copy()\n",
    "\n",
    "# Eliminar columnas generadas por Excel con encabezados vacíos\n",
    "df_cost = df_cost.loc[:, ~df_cost.columns.str.contains(r'^Unnamed', na=False)]\n",
    "\n",
    "# Limpiar espacios en los nombres de columna\n",
    "df_cost.columns = df_cost.columns.str.strip()\n",
    "\n",
    "# Convertir columnas numéricas relevantes a tipo float (forzando errores como NaN)\n",
    "cols_numericas = [\n",
    "    \"COST TO DATE\", \"COMMITMENTS\", \"TOTAL CTD\",\n",
    "    \"ESTIMATE TO COMPLETE (ETC)\", \"ESTIMATE FINAL COST (EFC)\",\n",
    "    \"BUDGET\", \"VARIANCE $\", \"INDEX\", \"P FCST\", \"VARIANCE $ \"\n",
    "]\n",
    "for col in cols_numericas:\n",
    "    if col in df_cost.columns:\n",
    "        df_cost[col] = pd.to_numeric(df_cost[col], errors=\"coerce\")\n",
    "\n",
    "# Filtrar filas que hacen referencia a \"detalle\" en la columna REF (sin importar mayúsculas/minúsculas)\n",
    "df_cost = df_cost[\n",
    "    df_cost[\"REF\"]\n",
    "        .astype(str)\n",
    "        .str.strip()\n",
    "        .str.lower()\n",
    "        .str.contains(r\"\\bdetalle\\b\", regex=True)\n",
    "].copy()\n",
    "\n",
    "# Validación: comparación de suma de “COST TO DATE” antes y después del filtrado\n",
    "suma_original = df_costreport[\"COST TO DATE\"].sum()\n",
    "suma_filtrado = df_cost[\"COST TO DATE\"].sum()\n",
    "print(f\"Suma Cost Report original      : {suma_original:,.2f}\")\n",
    "print(f\"Suma tras filtrar 'detalle'    : {suma_filtrado:,.2f}\")\n",
    "print(f\"Diferencia                      : {(suma_original - suma_filtrado):,.2f}\")\n",
    "\n",
    "# Convertir columna “ACCT” a texto limpio (sin espacios)\n",
    "df_cost[\"ACCT\"] = df_cost[\"ACCT\"].astype(str).str.strip()\n",
    "\n",
    "# Limpiar y convertir \"COMMITMENTS\", reemplazando valores no numéricos con 0\n",
    "df_cost[\"COMMITMENTS\"] = pd.to_numeric(df_cost[\"COMMITMENTS\"], errors=\"coerce\").fillna(0)\n",
    "\n",
    "# Crear jerarquía contable\n",
    "df_cost[\"Cuenta Madre\"] = df_cost[\"ACCT\"].str.split(\"-\").str[0]\n",
    "df_cost[\"Es Detalle\"] = df_cost[\"ACCT\"].str.contains(\"-\")\n",
    "\n",
    "def asignar_nivel(acct):\n",
    "    if \"-\" in acct:\n",
    "        return \"Detalle\"\n",
    "    elif len(acct) == 4:\n",
    "        return \"Subcuenta\"\n",
    "    else:\n",
    "        return \"Cuenta General\"\n",
    "\n",
    "df_cost[\"Nivel\"] = df_cost[\"ACCT\"].apply(asignar_nivel)\n",
    "\n",
    "# Crear campo “Cuenta General” (primeros dos dígitos + \"00\")\n",
    "df_cost[\"Cuenta General\"] = df_cost[\"Cuenta Madre\"].str[:2] + \"00\"\n",
    "\n",
    "# Etiqueta para gráficas: \"ACCT - Sección\" si la sección existe\n",
    "df_cost[\"Etiqueta\"] = df_cost.apply(\n",
    "    lambda row: f\"{row['ACCT']} - {row['Sección']}\" if pd.notna(row.get(\"Sección\")) else row[\"ACCT\"],\n",
    "    axis=1\n",
    ")\n",
    "\n",
    "# Normalizar columna “Etapa”\n",
    "etapas_validas = [\"DEVELOPMENT\", \"SOFT\", \"PREP\", \"SHOOT\", \"WRAP\", \"POST\"]\n",
    "df_cost[\"Etapa_str\"] = df_cost[\"Etapa\"].astype(str).str.strip().str.upper()\n",
    "df_cost[\"Etapa Normalizada\"] = df_cost[\"Etapa_str\"].apply(lambda x: x if x in etapas_validas else \"SHOOT\")\n",
    "df_cost.loc[df_cost[\"Etapa\"].isna(), \"Etapa Normalizada\"] = None\n",
    "df_cost[\"Etapa Normalizada\"] = df_cost[\"Etapa Normalizada\"].fillna(method=\"ffill\").fillna(method=\"bfill\")\n",
    "df_cost.drop(columns=[\"Etapa_str\"], inplace=True)\n",
    "\n",
    "# Seleccionar solo columnas útiles\n",
    "columnas_validas = [\n",
    "    \"TIPO\", \"REF\", \"Etapa\", \"Etapa Normalizada\", \"Sección\", \"ACCT\",\n",
    "    \"COST TO DATE\", \"COMMITMENTS\", \"TOTAL CTD\",\n",
    "    \"ESTIMATE TO COMPLETE (ETC)\", \"ESTIMATE FINAL COST (EFC)\",\n",
    "    \"BUDGET\", \"VARIANCE $\", \"INDEX\", \"P FCST\", \"VARIANCE $ \",\n",
    "    \"Cuenta General\", \"Cuenta Madre\", \"Es Detalle\", \"Nivel\", \"Etiqueta\"\n",
    "]\n",
    "df_cost = df_cost[[col for col in columnas_validas if col in df_cost.columns]].copy()\n",
    "\n",
    "# Resetear índice y guardar versión limpia\n",
    "df_cost.reset_index(drop=True, inplace=True)\n",
    "df_cost_clean = df_cost.copy()\n",
    "\n",
    "# Vista previa del DataFrame preprocesado\n",
    "print(\"\\nVista final de Cost Report preprocesado:\")\n",
    "display(df_cost_clean.head())\n"
   ]
  },
  {
   "cell_type": "markdown",
   "id": "1e71d547",
   "metadata": {},
   "source": [
    "## – Integración de Gasto Real y Normalización de Fechas\n",
    "Se integran los subtotales reales (SUBTOTAL) desde la hoja Data al Cost Report limpio.  \n",
    "Además, se limpian, rellenan y asignan fechas de pago (FECHA DE PAGO) de forma consistente para cada partida.\n"
   ]
  },
  {
   "cell_type": "code",
   "execution_count": 5,
   "id": "e820a462",
   "metadata": {},
   "outputs": [
    {
     "name": "stdout",
     "output_type": "stream",
     "text": [
      "🔍 Totales tras integrar fechas (sin ceros):\n",
      "  • Total Cost_Total general : 135,445,624.41\n",
      "  • Con fecha limpia         : 135,445,624.41 (1049 partidas)\n",
      "  • Sin fecha limpia         : 0.00 (1185 partidas)\n",
      "  • Verificación parcial     : 135,445,624.41 == 135,445,624.41\n"
     ]
    },
    {
     "name": "stderr",
     "output_type": "stream",
     "text": [
      "c:\\Users\\angel\\anaconda3\\envs\\AnalisdeDatos\\Lib\\site-packages\\numpy\\lib\\_nanfunctions_impl.py:1215: RuntimeWarning: Mean of empty slice\n",
      "  return np.nanmean(a, axis, out=out, keepdims=keepdims)\n",
      "c:\\Users\\angel\\anaconda3\\envs\\AnalisdeDatos\\Lib\\site-packages\\numpy\\lib\\_nanfunctions_impl.py:1215: RuntimeWarning: Mean of empty slice\n",
      "  return np.nanmean(a, axis, out=out, keepdims=keepdims)\n",
      "c:\\Users\\angel\\anaconda3\\envs\\AnalisdeDatos\\Lib\\site-packages\\numpy\\lib\\_nanfunctions_impl.py:1215: RuntimeWarning: Mean of empty slice\n",
      "  return np.nanmean(a, axis, out=out, keepdims=keepdims)\n",
      "c:\\Users\\angel\\anaconda3\\envs\\AnalisdeDatos\\Lib\\site-packages\\numpy\\lib\\_nanfunctions_impl.py:1215: RuntimeWarning: Mean of empty slice\n",
      "  return np.nanmean(a, axis, out=out, keepdims=keepdims)\n",
      "c:\\Users\\angel\\anaconda3\\envs\\AnalisdeDatos\\Lib\\site-packages\\numpy\\lib\\_nanfunctions_impl.py:1215: RuntimeWarning: Mean of empty slice\n",
      "  return np.nanmean(a, axis, out=out, keepdims=keepdims)\n",
      "c:\\Users\\angel\\anaconda3\\envs\\AnalisdeDatos\\Lib\\site-packages\\numpy\\lib\\_nanfunctions_impl.py:1215: RuntimeWarning: Mean of empty slice\n",
      "  return np.nanmean(a, axis, out=out, keepdims=keepdims)\n",
      "c:\\Users\\angel\\anaconda3\\envs\\AnalisdeDatos\\Lib\\site-packages\\numpy\\lib\\_nanfunctions_impl.py:1215: RuntimeWarning: Mean of empty slice\n",
      "  return np.nanmean(a, axis, out=out, keepdims=keepdims)\n",
      "c:\\Users\\angel\\anaconda3\\envs\\AnalisdeDatos\\Lib\\site-packages\\numpy\\lib\\_nanfunctions_impl.py:1215: RuntimeWarning: Mean of empty slice\n",
      "  return np.nanmean(a, axis, out=out, keepdims=keepdims)\n",
      "c:\\Users\\angel\\anaconda3\\envs\\AnalisdeDatos\\Lib\\site-packages\\numpy\\lib\\_nanfunctions_impl.py:1215: RuntimeWarning: Mean of empty slice\n",
      "  return np.nanmean(a, axis, out=out, keepdims=keepdims)\n",
      "c:\\Users\\angel\\anaconda3\\envs\\AnalisdeDatos\\Lib\\site-packages\\numpy\\lib\\_nanfunctions_impl.py:1215: RuntimeWarning: Mean of empty slice\n",
      "  return np.nanmean(a, axis, out=out, keepdims=keepdims)\n",
      "c:\\Users\\angel\\anaconda3\\envs\\AnalisdeDatos\\Lib\\site-packages\\numpy\\lib\\_nanfunctions_impl.py:1215: RuntimeWarning: Mean of empty slice\n",
      "  return np.nanmean(a, axis, out=out, keepdims=keepdims)\n",
      "c:\\Users\\angel\\anaconda3\\envs\\AnalisdeDatos\\Lib\\site-packages\\numpy\\lib\\_nanfunctions_impl.py:1215: RuntimeWarning: Mean of empty slice\n",
      "  return np.nanmean(a, axis, out=out, keepdims=keepdims)\n",
      "c:\\Users\\angel\\anaconda3\\envs\\AnalisdeDatos\\Lib\\site-packages\\numpy\\lib\\_nanfunctions_impl.py:1215: RuntimeWarning: Mean of empty slice\n",
      "  return np.nanmean(a, axis, out=out, keepdims=keepdims)\n",
      "c:\\Users\\angel\\anaconda3\\envs\\AnalisdeDatos\\Lib\\site-packages\\numpy\\lib\\_nanfunctions_impl.py:1215: RuntimeWarning: Mean of empty slice\n",
      "  return np.nanmean(a, axis, out=out, keepdims=keepdims)\n",
      "c:\\Users\\angel\\anaconda3\\envs\\AnalisdeDatos\\Lib\\site-packages\\numpy\\lib\\_nanfunctions_impl.py:1215: RuntimeWarning: Mean of empty slice\n",
      "  return np.nanmean(a, axis, out=out, keepdims=keepdims)\n",
      "c:\\Users\\angel\\anaconda3\\envs\\AnalisdeDatos\\Lib\\site-packages\\numpy\\lib\\_nanfunctions_impl.py:1215: RuntimeWarning: Mean of empty slice\n",
      "  return np.nanmean(a, axis, out=out, keepdims=keepdims)\n",
      "c:\\Users\\angel\\anaconda3\\envs\\AnalisdeDatos\\Lib\\site-packages\\numpy\\lib\\_nanfunctions_impl.py:1215: RuntimeWarning: Mean of empty slice\n",
      "  return np.nanmean(a, axis, out=out, keepdims=keepdims)\n",
      "c:\\Users\\angel\\anaconda3\\envs\\AnalisdeDatos\\Lib\\site-packages\\numpy\\lib\\_nanfunctions_impl.py:1215: RuntimeWarning: Mean of empty slice\n",
      "  return np.nanmean(a, axis, out=out, keepdims=keepdims)\n",
      "c:\\Users\\angel\\anaconda3\\envs\\AnalisdeDatos\\Lib\\site-packages\\numpy\\lib\\_nanfunctions_impl.py:1215: RuntimeWarning: Mean of empty slice\n",
      "  return np.nanmean(a, axis, out=out, keepdims=keepdims)\n",
      "C:\\Users\\angel\\AppData\\Local\\Temp\\ipykernel_2412\\2370987934.py:63: FutureWarning: A value is trying to be set on a copy of a DataFrame or Series through chained assignment using an inplace method.\n",
      "The behavior will change in pandas 3.0. This inplace method will never work because the intermediate object on which we are setting values always behaves as a copy.\n",
      "\n",
      "For example, when doing 'df[col].method(value, inplace=True)', try using 'df.method({col: value}, inplace=True)' or df[col] = df[col].method(value) instead, to perform the operation inplace on the original object.\n",
      "\n",
      "\n",
      "  df_dates[\"FECHA_NUM_LIMPIA\"].fillna(global_med, inplace=True)\n"
     ]
    }
   ],
   "source": [
    "# ============== BLOQUE 4 – INTEGRACIÓN DE GASTO REAL Y FECHAS ==============\n",
    "\n",
    "# Copia del DataFrame original y limpieza de nombres de columna\n",
    "df_d = df_data.copy()\n",
    "df_d.columns = df_d.columns.str.strip()\n",
    "\n",
    "# Convertir SUBTOTAL a numérico y calcular total por partida\n",
    "df_d[\"SUBTOTAL\"] = pd.to_numeric(df_d[\"SUBTOTAL\"], errors=\"coerce\")\n",
    "df_d_agg = (\n",
    "    df_d\n",
    "    .groupby(\"PARTIDA PRESUPUESTAL\")[[\"SUBTOTAL\"]]\n",
    "    .sum()\n",
    "    .reset_index()\n",
    "    .rename(columns={\"SUBTOTAL\": \"Total_Data\"})\n",
    ")\n",
    "\n",
    "# Unir gasto real al Cost Report limpio\n",
    "df_join = df_cost_clean.merge(\n",
    "    df_d_agg,\n",
    "    left_on=\"ACCT\",\n",
    "    right_on=\"PARTIDA PRESUPUESTAL\",\n",
    "    how=\"left\"\n",
    ")\n",
    "df_join[\"Total_Data\"] = df_join[\"Total_Data\"].fillna(0)\n",
    "\n",
    "# Calcular gasto total (SUBTOTAL + COMMITMENTS)\n",
    "df_join[\"COMMITMENTS\"] = pd.to_numeric(df_join[\"COMMITMENTS\"], errors=\"coerce\").fillna(0)\n",
    "df_join[\"Cost_Total\"] = df_join[\"Total_Data\"] + df_join[\"COMMITMENTS\"]\n",
    "df_join.drop(columns=[\"PARTIDA PRESUPUESTAL\"], inplace=True)\n",
    "\n",
    "# Preparar DataFrame de fechas de pago\n",
    "df_dates = df_data.copy()\n",
    "df_dates.columns = df_dates.columns.str.strip()\n",
    "df_dates = df_dates[[\"PARTIDA PRESUPUESTAL\", \"FECHA DE PAGO\"]].copy()\n",
    "df_dates[\"FECHA_NUM\"] = pd.to_numeric(df_dates[\"FECHA DE PAGO\"], errors=\"coerce\")\n",
    "\n",
    "# Reemplazar fechas negativas con NaN\n",
    "df_dates.loc[df_dates[\"FECHA_NUM\"] < 0, \"FECHA_NUM\"] = np.nan\n",
    "\n",
    "# Filtrar sólo partidas válidas (presentes en df_join)\n",
    "validas = df_join[\"ACCT\"].astype(str).tolist()\n",
    "df_dates = df_dates[df_dates[\"PARTIDA PRESUPUESTAL\"].astype(str).isin(validas)].copy()\n",
    "\n",
    "# Ordenar por partida y por número de fecha\n",
    "df_dates.sort_values([\"PARTIDA PRESUPUESTAL\", \"FECHA_NUM\"], inplace=True)\n",
    "\n",
    "# Rellenar fechas faltantes con backfill y forward-fill por partida\n",
    "df_dates[\"FECHA_NUM_LIMPIA\"] = (\n",
    "    df_dates\n",
    "    .groupby(\"PARTIDA PRESUPUESTAL\")[\"FECHA_NUM\"]\n",
    "    .transform(lambda s: s.bfill().ffill())\n",
    ")\n",
    "\n",
    "# Para los que aún falten, usar la mediana de su propia partida\n",
    "df_dates[\"FECHA_NUM_LIMPIA\"] = (\n",
    "    df_dates\n",
    "    .groupby(\"PARTIDA PRESUPUESTAL\")[\"FECHA_NUM_LIMPIA\"]\n",
    "    .transform(lambda s: s.fillna(s.median()))\n",
    ")\n",
    "\n",
    "# Rellenar con la mediana global si alguna partida sigue sin fecha\n",
    "global_med = df_dates[\"FECHA_NUM\"].median()\n",
    "df_dates[\"FECHA_NUM_LIMPIA\"].fillna(global_med, inplace=True)\n",
    "\n",
    "# Seleccionar un solo valor mínimo por partida\n",
    "fechas_unique = (\n",
    "    df_dates\n",
    "    .groupby(\"PARTIDA PRESUPUESTAL\", as_index=False)[[\"FECHA_NUM_LIMPIA\"]]\n",
    "    .min()\n",
    ")\n",
    "\n",
    "# Mapear fechas limpias de vuelta al DataFrame principal\n",
    "map_fechas = dict(zip(fechas_unique[\"PARTIDA PRESUPUESTAL\"],\n",
    "                      fechas_unique[\"FECHA_NUM_LIMPIA\"]))\n",
    "df_join[\"FECHA_NUM_LIMPIA\"] = df_join[\"ACCT\"].map(map_fechas)\n",
    "\n",
    "# Opcional: marcar como NaN aquellas partidas con gasto total 0\n",
    "df_join.loc[df_join[\"Cost_Total\"] == 0, \"FECHA_NUM_LIMPIA\"] = np.nan\n",
    "\n",
    "# Verificación de totales tras integración de fechas\n",
    "total_general = df_join[\"Cost_Total\"].sum()\n",
    "with_date     = df_join.loc[df_join[\"FECHA_NUM_LIMPIA\"].notna(), \"Cost_Total\"].sum()\n",
    "without_date  = df_join.loc[df_join[\"FECHA_NUM_LIMPIA\"].isna(),   \"Cost_Total\"].sum()\n",
    "cnt_with      = df_join[\"FECHA_NUM_LIMPIA\"].notna().sum()\n",
    "cnt_without   = df_join[\"FECHA_NUM_LIMPIA\"].isna().sum()\n",
    "\n",
    "print(\"🔍 Totales tras integrar fechas (sin ceros):\")\n",
    "print(f\"  • Total Cost_Total general : {total_general:,.2f}\")\n",
    "print(f\"  • Con fecha limpia         : {with_date:,.2f} ({cnt_with} partidas)\")\n",
    "print(f\"  • Sin fecha limpia         : {without_date:,.2f} ({cnt_without} partidas)\")\n",
    "print(f\"  • Verificación parcial     : {with_date + without_date:,.2f} == {total_general:,.2f}\")\n",
    "\n",
    "# Mostrar partidas que aún tienen gasto pero sin fecha\n",
    "conf = df_join[\n",
    "    df_join[\"FECHA_NUM_LIMPIA\"].isna() &\n",
    "    (df_join[\"Cost_Total\"] != 0)\n",
    "][[\"ACCT\", \"Cost_Total\"]]\n",
    "if not conf.empty:\n",
    "    print(\"\\n⚠️ Partidas sin fecha aún con gasto real:\")\n",
    "    display(conf.reset_index(drop=True))\n",
    "\n",
    "# Guardar resultado final validado\n",
    "df_cost_data_validado = df_join.copy()\n"
   ]
  },
  {
   "cell_type": "markdown",
   "id": "1c935488",
   "metadata": {},
   "source": [
    "##  Hipótesis de Análisis\n",
    "\n",
    "1. Es probable que la etapa de rodaje \"SHOOT\" tenga un mayor riesgo de desviarse del presupuesto, ya que suele ser la más compleja y costosa.\n",
    "\n",
    "2. Es posible que la etapa SOFT no muestre ahorros presupuestarios porque la mayoría de sus cuentas pertenecen a un tipo específico de área (como Above the Line, Below the Line, etc.) que no se caracteriza por generar ahorro.\n",
    "\n",
    "3. Puede existir una relación entre el tipo de cuenta (como Above the Line, Below the Line, Others, Post) y el comportamiento presupuestario (ahorro, neutralidad o sobregasto) dentro de cada etapa del proyecto."
   ]
  },
  {
   "cell_type": "markdown",
   "id": "a58fd6c3",
   "metadata": {},
   "source": [
    "## Hipotesis 1"
   ]
  },
  {
   "cell_type": "markdown",
   "id": "ecc3e435",
   "metadata": {},
   "source": [
    "###  Análisis de Cuentas Detalle con Mayor Desviación Presupuestal\n",
    "\n",
    "Se identifican las cuentas a nivel detalle que superaron su presupuesto, y se agrupan por etapa para observar si existe una relación significativa entre las desviaciones negativas y la etapa del proyecto en la que ocurrieron.\n"
   ]
  },
  {
   "cell_type": "code",
   "execution_count": 17,
   "id": "c6b1f708",
   "metadata": {},
   "outputs": [
    {
     "name": "stdout",
     "output_type": "stream",
     "text": [
      "Resumen de partidas de detalle que excedieron el presupuesto, por etapa:\n"
     ]
    },
    {
     "data": {
      "text/html": [
       "<div>\n",
       "<style scoped>\n",
       "    .dataframe tbody tr th:only-of-type {\n",
       "        vertical-align: middle;\n",
       "    }\n",
       "\n",
       "    .dataframe tbody tr th {\n",
       "        vertical-align: top;\n",
       "    }\n",
       "\n",
       "    .dataframe thead th {\n",
       "        text-align: right;\n",
       "    }\n",
       "</style>\n",
       "<table border=\"1\" class=\"dataframe\">\n",
       "  <thead>\n",
       "    <tr style=\"text-align: right;\">\n",
       "      <th></th>\n",
       "      <th>Etapa</th>\n",
       "      <th>Cantidad de Montos de Sobregasto</th>\n",
       "      <th>Suma de Montos de Sobregasto</th>\n",
       "    </tr>\n",
       "  </thead>\n",
       "  <tbody>\n",
       "    <tr>\n",
       "      <th>0</th>\n",
       "      <td>DEVELOPMENT</td>\n",
       "      <td>2</td>\n",
       "      <td>-0.09</td>\n",
       "    </tr>\n",
       "    <tr>\n",
       "      <th>1</th>\n",
       "      <td>POST</td>\n",
       "      <td>5</td>\n",
       "      <td>-943,044.54</td>\n",
       "    </tr>\n",
       "    <tr>\n",
       "      <th>2</th>\n",
       "      <td>PREP</td>\n",
       "      <td>38</td>\n",
       "      <td>-1,056,115.76</td>\n",
       "    </tr>\n",
       "    <tr>\n",
       "      <th>3</th>\n",
       "      <td>SHOOT</td>\n",
       "      <td>321</td>\n",
       "      <td>-14,388,276.07</td>\n",
       "    </tr>\n",
       "    <tr>\n",
       "      <th>4</th>\n",
       "      <td>SOFT</td>\n",
       "      <td>2</td>\n",
       "      <td>-26,250.00</td>\n",
       "    </tr>\n",
       "    <tr>\n",
       "      <th>5</th>\n",
       "      <td>WRAP</td>\n",
       "      <td>27</td>\n",
       "      <td>-372,008.90</td>\n",
       "    </tr>\n",
       "  </tbody>\n",
       "</table>\n",
       "</div>"
      ],
      "text/plain": [
       "         Etapa  Cantidad de Montos de Sobregasto Suma de Montos de Sobregasto\n",
       "0  DEVELOPMENT                                 2                        -0.09\n",
       "1         POST                                 5                  -943,044.54\n",
       "2         PREP                                38                -1,056,115.76\n",
       "3        SHOOT                               321               -14,388,276.07\n",
       "4         SOFT                                 2                   -26,250.00\n",
       "5         WRAP                                27                  -372,008.90"
      ]
     },
     "metadata": {},
     "output_type": "display_data"
    }
   ],
   "source": [
    "# ==================== ANÁLISIS DE DESVIACIONES POR ETAPA ====================\n",
    "\n",
    "# 1. Filtrar cuentas a nivel \"Detalle\"\n",
    "df_detalle = df_cost_clean[df_cost_clean[\"Nivel\"] == \"Detalle\"].copy()\n",
    "\n",
    "# 2. Calcular el costo total real (COST TO DATE + COMMITMENTS)\n",
    "df_detalle[\"TOTAL COSTO\"] = df_detalle[\"COST TO DATE\"].fillna(0) + df_detalle[\"COMMITMENTS\"].fillna(0)\n",
    "\n",
    "# 3. Calcular la diferencia respecto al presupuesto (negativo si se excede)\n",
    "df_detalle[\"DIFERENCIA vs BUDGET\"] = df_detalle[\"BUDGET\"].fillna(0) - df_detalle[\"TOTAL COSTO\"]\n",
    "\n",
    "# 4. Filtrar sólo partidas donde el gasto total superó el presupuesto (desviación negativa)\n",
    "df_detalle_desviado = df_detalle[df_detalle[\"DIFERENCIA vs BUDGET\"] < 0].copy()\n",
    "\n",
    "# 5. Agrupar por etapa para obtener cantidad y monto total de desviaciones\n",
    "resumen_por_etapa = (\n",
    "    df_detalle_desviado\n",
    "    .groupby(\"Etapa Normalizada\")\n",
    "    .agg(\n",
    "        **{\n",
    "            \"Cantidad de Montos de Sobregasto\": (\"DIFERENCIA vs BUDGET\", \"count\"),\n",
    "            \"Suma de Montos de Sobregasto\": (\"DIFERENCIA vs BUDGET\", \"sum\")\n",
    "        }\n",
    "    )\n",
    "    .reset_index()\n",
    "    .rename(columns={\"Etapa Normalizada\": \"Etapa\"})\n",
    ")\n",
    "\n",
    "# 6. Formatear monto total para mayor legibilidad\n",
    "resumen_por_etapa[\"Suma de Montos de Sobregasto\"] = resumen_por_etapa[\"Suma de Montos de Sobregasto\"].apply(lambda x: f\"{x:,.2f}\")\n",
    "\n",
    "# 7. Mostrar resumen final\n",
    "print(\"Resumen de partidas de detalle que excedieron el presupuesto, por etapa:\")\n",
    "display(resumen_por_etapa)\n",
    "\n"
   ]
  },
  {
   "cell_type": "markdown",
   "id": "0d3bef20",
   "metadata": {},
   "source": [
    "### Visualización de Montos de Sobregasto por Etapa\n",
    "\n",
    "Se grafica la **suma total de Montos de Sobregasto** por etapa del proyecto.  \n",
    "Esto permite identificar visualmente en qué fases hubo mayor sobrepaso del presupuesto.\n"
   ]
  },
  {
   "cell_type": "code",
   "execution_count": 7,
   "id": "c2702974",
   "metadata": {},
   "outputs": [
    {
     "data": {
      "application/vnd.plotly.v1+json": {
       "config": {
        "plotlyServerURL": "https://plot.ly"
       },
       "data": [
        {
         "hovertemplate": "<b>%{x}</b><br>Desviación: $%{y:,.2f}",
         "legendgroup": "",
         "marker": {
          "color": "#1F77B4",
          "pattern": {
           "shape": ""
          }
         },
         "name": "",
         "orientation": "v",
         "showlegend": false,
         "text": {
          "bdata": "pHA9goZxa8EpXI/Ccx0wwUjhehSJxyzBmpmZmaO0FsEAAAAAgKLZwArXo3A9Cre/",
          "dtype": "f8"
         },
         "textposition": "auto",
         "texttemplate": "$%{text:,.2f}",
         "type": "bar",
         "x": [
          "SHOOT",
          "PREP",
          "POST",
          "WRAP",
          "SOFT",
          "DEVELOPMENT"
         ],
         "xaxis": "x",
         "y": {
          "bdata": "pHA9goZxa8EpXI/Ccx0wwUjhehSJxyzBmpmZmaO0FsEAAAAAgKLZwArXo3A9Cre/",
          "dtype": "f8"
         },
         "yaxis": "y"
        }
       ],
       "layout": {
        "barmode": "relative",
        "legend": {
         "tracegroupgap": 0
        },
        "template": {
         "data": {
          "bar": [
           {
            "error_x": {
             "color": "#2a3f5f"
            },
            "error_y": {
             "color": "#2a3f5f"
            },
            "marker": {
             "line": {
              "color": "#E5ECF6",
              "width": 0.5
             },
             "pattern": {
              "fillmode": "overlay",
              "size": 10,
              "solidity": 0.2
             }
            },
            "type": "bar"
           }
          ],
          "barpolar": [
           {
            "marker": {
             "line": {
              "color": "#E5ECF6",
              "width": 0.5
             },
             "pattern": {
              "fillmode": "overlay",
              "size": 10,
              "solidity": 0.2
             }
            },
            "type": "barpolar"
           }
          ],
          "carpet": [
           {
            "aaxis": {
             "endlinecolor": "#2a3f5f",
             "gridcolor": "white",
             "linecolor": "white",
             "minorgridcolor": "white",
             "startlinecolor": "#2a3f5f"
            },
            "baxis": {
             "endlinecolor": "#2a3f5f",
             "gridcolor": "white",
             "linecolor": "white",
             "minorgridcolor": "white",
             "startlinecolor": "#2a3f5f"
            },
            "type": "carpet"
           }
          ],
          "choropleth": [
           {
            "colorbar": {
             "outlinewidth": 0,
             "ticks": ""
            },
            "type": "choropleth"
           }
          ],
          "contour": [
           {
            "colorbar": {
             "outlinewidth": 0,
             "ticks": ""
            },
            "colorscale": [
             [
              0,
              "#0d0887"
             ],
             [
              0.1111111111111111,
              "#46039f"
             ],
             [
              0.2222222222222222,
              "#7201a8"
             ],
             [
              0.3333333333333333,
              "#9c179e"
             ],
             [
              0.4444444444444444,
              "#bd3786"
             ],
             [
              0.5555555555555556,
              "#d8576b"
             ],
             [
              0.6666666666666666,
              "#ed7953"
             ],
             [
              0.7777777777777778,
              "#fb9f3a"
             ],
             [
              0.8888888888888888,
              "#fdca26"
             ],
             [
              1,
              "#f0f921"
             ]
            ],
            "type": "contour"
           }
          ],
          "contourcarpet": [
           {
            "colorbar": {
             "outlinewidth": 0,
             "ticks": ""
            },
            "type": "contourcarpet"
           }
          ],
          "heatmap": [
           {
            "colorbar": {
             "outlinewidth": 0,
             "ticks": ""
            },
            "colorscale": [
             [
              0,
              "#0d0887"
             ],
             [
              0.1111111111111111,
              "#46039f"
             ],
             [
              0.2222222222222222,
              "#7201a8"
             ],
             [
              0.3333333333333333,
              "#9c179e"
             ],
             [
              0.4444444444444444,
              "#bd3786"
             ],
             [
              0.5555555555555556,
              "#d8576b"
             ],
             [
              0.6666666666666666,
              "#ed7953"
             ],
             [
              0.7777777777777778,
              "#fb9f3a"
             ],
             [
              0.8888888888888888,
              "#fdca26"
             ],
             [
              1,
              "#f0f921"
             ]
            ],
            "type": "heatmap"
           }
          ],
          "histogram": [
           {
            "marker": {
             "pattern": {
              "fillmode": "overlay",
              "size": 10,
              "solidity": 0.2
             }
            },
            "type": "histogram"
           }
          ],
          "histogram2d": [
           {
            "colorbar": {
             "outlinewidth": 0,
             "ticks": ""
            },
            "colorscale": [
             [
              0,
              "#0d0887"
             ],
             [
              0.1111111111111111,
              "#46039f"
             ],
             [
              0.2222222222222222,
              "#7201a8"
             ],
             [
              0.3333333333333333,
              "#9c179e"
             ],
             [
              0.4444444444444444,
              "#bd3786"
             ],
             [
              0.5555555555555556,
              "#d8576b"
             ],
             [
              0.6666666666666666,
              "#ed7953"
             ],
             [
              0.7777777777777778,
              "#fb9f3a"
             ],
             [
              0.8888888888888888,
              "#fdca26"
             ],
             [
              1,
              "#f0f921"
             ]
            ],
            "type": "histogram2d"
           }
          ],
          "histogram2dcontour": [
           {
            "colorbar": {
             "outlinewidth": 0,
             "ticks": ""
            },
            "colorscale": [
             [
              0,
              "#0d0887"
             ],
             [
              0.1111111111111111,
              "#46039f"
             ],
             [
              0.2222222222222222,
              "#7201a8"
             ],
             [
              0.3333333333333333,
              "#9c179e"
             ],
             [
              0.4444444444444444,
              "#bd3786"
             ],
             [
              0.5555555555555556,
              "#d8576b"
             ],
             [
              0.6666666666666666,
              "#ed7953"
             ],
             [
              0.7777777777777778,
              "#fb9f3a"
             ],
             [
              0.8888888888888888,
              "#fdca26"
             ],
             [
              1,
              "#f0f921"
             ]
            ],
            "type": "histogram2dcontour"
           }
          ],
          "mesh3d": [
           {
            "colorbar": {
             "outlinewidth": 0,
             "ticks": ""
            },
            "type": "mesh3d"
           }
          ],
          "parcoords": [
           {
            "line": {
             "colorbar": {
              "outlinewidth": 0,
              "ticks": ""
             }
            },
            "type": "parcoords"
           }
          ],
          "pie": [
           {
            "automargin": true,
            "type": "pie"
           }
          ],
          "scatter": [
           {
            "fillpattern": {
             "fillmode": "overlay",
             "size": 10,
             "solidity": 0.2
            },
            "type": "scatter"
           }
          ],
          "scatter3d": [
           {
            "line": {
             "colorbar": {
              "outlinewidth": 0,
              "ticks": ""
             }
            },
            "marker": {
             "colorbar": {
              "outlinewidth": 0,
              "ticks": ""
             }
            },
            "type": "scatter3d"
           }
          ],
          "scattercarpet": [
           {
            "marker": {
             "colorbar": {
              "outlinewidth": 0,
              "ticks": ""
             }
            },
            "type": "scattercarpet"
           }
          ],
          "scattergeo": [
           {
            "marker": {
             "colorbar": {
              "outlinewidth": 0,
              "ticks": ""
             }
            },
            "type": "scattergeo"
           }
          ],
          "scattergl": [
           {
            "marker": {
             "colorbar": {
              "outlinewidth": 0,
              "ticks": ""
             }
            },
            "type": "scattergl"
           }
          ],
          "scattermap": [
           {
            "marker": {
             "colorbar": {
              "outlinewidth": 0,
              "ticks": ""
             }
            },
            "type": "scattermap"
           }
          ],
          "scattermapbox": [
           {
            "marker": {
             "colorbar": {
              "outlinewidth": 0,
              "ticks": ""
             }
            },
            "type": "scattermapbox"
           }
          ],
          "scatterpolar": [
           {
            "marker": {
             "colorbar": {
              "outlinewidth": 0,
              "ticks": ""
             }
            },
            "type": "scatterpolar"
           }
          ],
          "scatterpolargl": [
           {
            "marker": {
             "colorbar": {
              "outlinewidth": 0,
              "ticks": ""
             }
            },
            "type": "scatterpolargl"
           }
          ],
          "scatterternary": [
           {
            "marker": {
             "colorbar": {
              "outlinewidth": 0,
              "ticks": ""
             }
            },
            "type": "scatterternary"
           }
          ],
          "surface": [
           {
            "colorbar": {
             "outlinewidth": 0,
             "ticks": ""
            },
            "colorscale": [
             [
              0,
              "#0d0887"
             ],
             [
              0.1111111111111111,
              "#46039f"
             ],
             [
              0.2222222222222222,
              "#7201a8"
             ],
             [
              0.3333333333333333,
              "#9c179e"
             ],
             [
              0.4444444444444444,
              "#bd3786"
             ],
             [
              0.5555555555555556,
              "#d8576b"
             ],
             [
              0.6666666666666666,
              "#ed7953"
             ],
             [
              0.7777777777777778,
              "#fb9f3a"
             ],
             [
              0.8888888888888888,
              "#fdca26"
             ],
             [
              1,
              "#f0f921"
             ]
            ],
            "type": "surface"
           }
          ],
          "table": [
           {
            "cells": {
             "fill": {
              "color": "#EBF0F8"
             },
             "line": {
              "color": "white"
             }
            },
            "header": {
             "fill": {
              "color": "#C8D4E3"
             },
             "line": {
              "color": "white"
             }
            },
            "type": "table"
           }
          ]
         },
         "layout": {
          "annotationdefaults": {
           "arrowcolor": "#2a3f5f",
           "arrowhead": 0,
           "arrowwidth": 1
          },
          "autotypenumbers": "strict",
          "coloraxis": {
           "colorbar": {
            "outlinewidth": 0,
            "ticks": ""
           }
          },
          "colorscale": {
           "diverging": [
            [
             0,
             "#8e0152"
            ],
            [
             0.1,
             "#c51b7d"
            ],
            [
             0.2,
             "#de77ae"
            ],
            [
             0.3,
             "#f1b6da"
            ],
            [
             0.4,
             "#fde0ef"
            ],
            [
             0.5,
             "#f7f7f7"
            ],
            [
             0.6,
             "#e6f5d0"
            ],
            [
             0.7,
             "#b8e186"
            ],
            [
             0.8,
             "#7fbc41"
            ],
            [
             0.9,
             "#4d9221"
            ],
            [
             1,
             "#276419"
            ]
           ],
           "sequential": [
            [
             0,
             "#0d0887"
            ],
            [
             0.1111111111111111,
             "#46039f"
            ],
            [
             0.2222222222222222,
             "#7201a8"
            ],
            [
             0.3333333333333333,
             "#9c179e"
            ],
            [
             0.4444444444444444,
             "#bd3786"
            ],
            [
             0.5555555555555556,
             "#d8576b"
            ],
            [
             0.6666666666666666,
             "#ed7953"
            ],
            [
             0.7777777777777778,
             "#fb9f3a"
            ],
            [
             0.8888888888888888,
             "#fdca26"
            ],
            [
             1,
             "#f0f921"
            ]
           ],
           "sequentialminus": [
            [
             0,
             "#0d0887"
            ],
            [
             0.1111111111111111,
             "#46039f"
            ],
            [
             0.2222222222222222,
             "#7201a8"
            ],
            [
             0.3333333333333333,
             "#9c179e"
            ],
            [
             0.4444444444444444,
             "#bd3786"
            ],
            [
             0.5555555555555556,
             "#d8576b"
            ],
            [
             0.6666666666666666,
             "#ed7953"
            ],
            [
             0.7777777777777778,
             "#fb9f3a"
            ],
            [
             0.8888888888888888,
             "#fdca26"
            ],
            [
             1,
             "#f0f921"
            ]
           ]
          },
          "colorway": [
           "#636efa",
           "#EF553B",
           "#00cc96",
           "#ab63fa",
           "#FFA15A",
           "#19d3f3",
           "#FF6692",
           "#B6E880",
           "#FF97FF",
           "#FECB52"
          ],
          "font": {
           "color": "#2a3f5f"
          },
          "geo": {
           "bgcolor": "white",
           "lakecolor": "white",
           "landcolor": "#E5ECF6",
           "showlakes": true,
           "showland": true,
           "subunitcolor": "white"
          },
          "hoverlabel": {
           "align": "left"
          },
          "hovermode": "closest",
          "mapbox": {
           "style": "light"
          },
          "paper_bgcolor": "white",
          "plot_bgcolor": "#E5ECF6",
          "polar": {
           "angularaxis": {
            "gridcolor": "white",
            "linecolor": "white",
            "ticks": ""
           },
           "bgcolor": "#E5ECF6",
           "radialaxis": {
            "gridcolor": "white",
            "linecolor": "white",
            "ticks": ""
           }
          },
          "scene": {
           "xaxis": {
            "backgroundcolor": "#E5ECF6",
            "gridcolor": "white",
            "gridwidth": 2,
            "linecolor": "white",
            "showbackground": true,
            "ticks": "",
            "zerolinecolor": "white"
           },
           "yaxis": {
            "backgroundcolor": "#E5ECF6",
            "gridcolor": "white",
            "gridwidth": 2,
            "linecolor": "white",
            "showbackground": true,
            "ticks": "",
            "zerolinecolor": "white"
           },
           "zaxis": {
            "backgroundcolor": "#E5ECF6",
            "gridcolor": "white",
            "gridwidth": 2,
            "linecolor": "white",
            "showbackground": true,
            "ticks": "",
            "zerolinecolor": "white"
           }
          },
          "shapedefaults": {
           "line": {
            "color": "#2a3f5f"
           }
          },
          "ternary": {
           "aaxis": {
            "gridcolor": "white",
            "linecolor": "white",
            "ticks": ""
           },
           "baxis": {
            "gridcolor": "white",
            "linecolor": "white",
            "ticks": ""
           },
           "bgcolor": "#E5ECF6",
           "caxis": {
            "gridcolor": "white",
            "linecolor": "white",
            "ticks": ""
           }
          },
          "title": {
           "x": 0.05
          },
          "xaxis": {
           "automargin": true,
           "gridcolor": "white",
           "linecolor": "white",
           "ticks": "",
           "title": {
            "standoff": 15
           },
           "zerolinecolor": "white",
           "zerolinewidth": 2
          },
          "yaxis": {
           "automargin": true,
           "gridcolor": "white",
           "linecolor": "white",
           "ticks": "",
           "title": {
            "standoff": 15
           },
           "zerolinecolor": "white",
           "zerolinewidth": 2
          }
         }
        },
        "title": {
         "text": "Montos de Sobregasto por Etapa del Proyecto"
        },
        "uniformtext": {
         "minsize": 12,
         "mode": "hide"
        },
        "xaxis": {
         "anchor": "y",
         "domain": [
          0,
          1
         ],
         "title": {
          "text": "Etapa del Proyecto"
         }
        },
        "yaxis": {
         "anchor": "x",
         "domain": [
          0,
          1
         ],
         "tickformat": ",.2f",
         "title": {
          "text": "Desviación Total ($)"
         }
        }
       }
      }
     },
     "metadata": {},
     "output_type": "display_data"
    }
   ],
   "source": [
    "# 1. Preparar copia del resumen y convertir montos a formato numérico\n",
    "resumen_plot = resumen_por_etapa.copy()\n",
    "resumen_plot[\"Suma_num\"] = (\n",
    "    resumen_plot[\"Suma de Desviaciones\"]\n",
    "    .str.replace(\",\", \"\", regex=False)\n",
    "    .astype(float)\n",
    ")\n",
    "\n",
    "# 2. Ordenar por monto de desviación (más negativo primero)\n",
    "resumen_plot = resumen_plot.sort_values(by=\"Suma_num\")\n",
    "\n",
    "# 3. Crear gráfico de barras\n",
    "fig = px.bar(\n",
    "    resumen_plot,\n",
    "    x=\"Etapa\",\n",
    "    y=\"Suma_num\",\n",
    "    title='Montos de Sobregasto por Etapa del Proyecto',\n",
    "    text=\"Suma_num\",\n",
    "    labels={\"Suma_num\": \"Desviación Total ($)\", \"Etapa\": \"Etapa del Proyecto\"},\n",
    "    color_discrete_sequence=[\"#1F77B4\"]\n",
    ")\n",
    "\n",
    "# 4. Formato del texto dentro de las barras y tooltip\n",
    "fig.update_traces(\n",
    "    texttemplate=\"$%{text:,.2f}\",\n",
    "    hovertemplate=\"<b>%{x}</b><br>Desviación: $%{y:,.2f}\"\n",
    ")\n",
    "\n",
    "# 5. Ajustes de formato general\n",
    "fig.update_layout(\n",
    "    yaxis_tickformat=\",.2f\",\n",
    "    uniformtext_minsize=12,\n",
    "    uniformtext_mode=\"hide\"\n",
    ")\n",
    "\n",
    "# 6. Mostrar la visualización\n",
    "fig.show()\n"
   ]
  },
  {
   "cell_type": "markdown",
   "id": "965ebd2e",
   "metadata": {},
   "source": [
    "### Análisis de Montos Ahorros por Etapa\n",
    "\n",
    "Se identifican las cuentas a detalle que gastaron menos de lo presupuestado, y se agrupan por etapa.  \n",
    "Este análisis permite visualizar en qué fases del proyecto hubo eficiencia financiera.\n"
   ]
  },
  {
   "cell_type": "code",
   "execution_count": null,
   "id": "a7ac40dc",
   "metadata": {},
   "outputs": [
    {
     "name": "stdout",
     "output_type": "stream",
     "text": [
      "Resumen de partidas detalle que quedaron con ahorro, por etapa:\n"
     ]
    },
    {
     "data": {
      "text/html": [
       "<div>\n",
       "<style scoped>\n",
       "    .dataframe tbody tr th:only-of-type {\n",
       "        vertical-align: middle;\n",
       "    }\n",
       "\n",
       "    .dataframe tbody tr th {\n",
       "        vertical-align: top;\n",
       "    }\n",
       "\n",
       "    .dataframe thead th {\n",
       "        text-align: right;\n",
       "    }\n",
       "</style>\n",
       "<table border=\"1\" class=\"dataframe\">\n",
       "  <thead>\n",
       "    <tr style=\"text-align: right;\">\n",
       "      <th></th>\n",
       "      <th>Etapa</th>\n",
       "      <th>Cantidad_con_Ahorro</th>\n",
       "      <th>Suma_de_Ahorros</th>\n",
       "    </tr>\n",
       "  </thead>\n",
       "  <tbody>\n",
       "    <tr>\n",
       "      <th>0</th>\n",
       "      <td>DEVELOPMENT</td>\n",
       "      <td>3</td>\n",
       "      <td>$5,460.01</td>\n",
       "    </tr>\n",
       "    <tr>\n",
       "      <th>1</th>\n",
       "      <td>POST</td>\n",
       "      <td>85</td>\n",
       "      <td>$1,744,465.53</td>\n",
       "    </tr>\n",
       "    <tr>\n",
       "      <th>2</th>\n",
       "      <td>PREP</td>\n",
       "      <td>81</td>\n",
       "      <td>$997,453.76</td>\n",
       "    </tr>\n",
       "    <tr>\n",
       "      <th>3</th>\n",
       "      <td>SHOOT</td>\n",
       "      <td>391</td>\n",
       "      <td>$13,038,734.79</td>\n",
       "    </tr>\n",
       "    <tr>\n",
       "      <th>4</th>\n",
       "      <td>WRAP</td>\n",
       "      <td>45</td>\n",
       "      <td>$651,867.85</td>\n",
       "    </tr>\n",
       "  </tbody>\n",
       "</table>\n",
       "</div>"
      ],
      "text/plain": [
       "         Etapa  Cantidad_con_Ahorro Suma_de_Ahorros\n",
       "0  DEVELOPMENT                    3       $5,460.01\n",
       "1         POST                   85   $1,744,465.53\n",
       "2         PREP                   81     $997,453.76\n",
       "3        SHOOT                  391  $13,038,734.79\n",
       "4         WRAP                   45     $651,867.85"
      ]
     },
     "metadata": {},
     "output_type": "display_data"
    }
   ],
   "source": [
    "# ==================== ANÁLISIS DE MONTOS DE AHORROS POR ETAPA ====================\n",
    "\n",
    "# 1. Filtrar cuentas a detalle que presentaron ahorro (gasto menor al presupuesto)\n",
    "df_detalle_ahorro = df_detalle[\n",
    "    df_detalle[\"DIFERENCIA vs BUDGET\"] > 0\n",
    "].copy()\n",
    "\n",
    "# 2. Agrupar por etapa y calcular cantidad de ahorros y suma total\n",
    "resumen_ahorro_etapa = (\n",
    "    df_detalle_ahorro\n",
    "    .groupby(\"Etapa Normalizada\")\n",
    "    .agg(\n",
    "        Cantidad_con_Ahorro = (\"DIFERENCIA vs BUDGET\", \"count\"),\n",
    "        Suma_de_Ahorros    = (\"DIFERENCIA vs BUDGET\", \"sum\")\n",
    "    )\n",
    "    .reset_index()\n",
    "    .rename(columns={\"Etapa Normalizada\": \"Etapa\"})\n",
    ")\n",
    "\n",
    "# 3. Formatear la suma total para mayor legibilidad\n",
    "resumen_ahorro_etapa[\"Suma_de_Ahorros\"] = \\\n",
    "    resumen_ahorro_etapa[\"Suma_de_Ahorros\"].map(lambda x: f\"${x:,.2f}\")\n",
    "\n",
    "# 4. Mostrar el resumen final de ahorros\n",
    "print(\"Resumen de partidas detalle que quedaron con ahorro, por etapa:\")\n",
    "display(resumen_ahorro_etapa)\n"
   ]
  },
  {
   "cell_type": "markdown",
   "id": "0310a4ee",
   "metadata": {},
   "source": [
    "###  Visualización de Montos de Ahorros por Etapa\n",
    "\n",
    "Se representa gráficamente el Monto de ahorro total por etapa, es decir, la diferencia positiva entre el presupuesto y el gasto real.  \n",
    "Esto permite identificar las fases del proyecto que tuvieron mejor control financiero.\n"
   ]
  },
  {
   "cell_type": "code",
   "execution_count": null,
   "id": "75ce32fd",
   "metadata": {},
   "outputs": [
    {
     "data": {
      "application/vnd.plotly.v1+json": {
       "config": {
        "plotlyServerURL": "https://plot.ly"
       },
       "data": [
        {
         "hovertemplate": "<b>%{x}</b><br>Ahorro: $%{y:,.2f}",
         "legendgroup": "",
         "marker": {
          "color": "#2CA02C",
          "pattern": {
           "shape": ""
          }
         },
         "name": "",
         "orientation": "v",
         "showlegend": false,
         "text": {
          "bdata": "FK5H2ZHeaEF7FK6HUZ46QVK4HoWbcC5BMzMzs7fkI0H2KFyPAlS1QA==",
          "dtype": "f8"
         },
         "textposition": "auto",
         "texttemplate": "$%{text:,.2f}",
         "type": "bar",
         "x": [
          "SHOOT",
          "POST",
          "PREP",
          "WRAP",
          "DEVELOPMENT"
         ],
         "xaxis": "x",
         "y": {
          "bdata": "FK5H2ZHeaEF7FK6HUZ46QVK4HoWbcC5BMzMzs7fkI0H2KFyPAlS1QA==",
          "dtype": "f8"
         },
         "yaxis": "y"
        }
       ],
       "layout": {
        "barmode": "relative",
        "legend": {
         "tracegroupgap": 0
        },
        "margin": {
         "b": 150,
         "t": 50
        },
        "template": {
         "data": {
          "bar": [
           {
            "error_x": {
             "color": "#2a3f5f"
            },
            "error_y": {
             "color": "#2a3f5f"
            },
            "marker": {
             "line": {
              "color": "#E5ECF6",
              "width": 0.5
             },
             "pattern": {
              "fillmode": "overlay",
              "size": 10,
              "solidity": 0.2
             }
            },
            "type": "bar"
           }
          ],
          "barpolar": [
           {
            "marker": {
             "line": {
              "color": "#E5ECF6",
              "width": 0.5
             },
             "pattern": {
              "fillmode": "overlay",
              "size": 10,
              "solidity": 0.2
             }
            },
            "type": "barpolar"
           }
          ],
          "carpet": [
           {
            "aaxis": {
             "endlinecolor": "#2a3f5f",
             "gridcolor": "white",
             "linecolor": "white",
             "minorgridcolor": "white",
             "startlinecolor": "#2a3f5f"
            },
            "baxis": {
             "endlinecolor": "#2a3f5f",
             "gridcolor": "white",
             "linecolor": "white",
             "minorgridcolor": "white",
             "startlinecolor": "#2a3f5f"
            },
            "type": "carpet"
           }
          ],
          "choropleth": [
           {
            "colorbar": {
             "outlinewidth": 0,
             "ticks": ""
            },
            "type": "choropleth"
           }
          ],
          "contour": [
           {
            "colorbar": {
             "outlinewidth": 0,
             "ticks": ""
            },
            "colorscale": [
             [
              0,
              "#0d0887"
             ],
             [
              0.1111111111111111,
              "#46039f"
             ],
             [
              0.2222222222222222,
              "#7201a8"
             ],
             [
              0.3333333333333333,
              "#9c179e"
             ],
             [
              0.4444444444444444,
              "#bd3786"
             ],
             [
              0.5555555555555556,
              "#d8576b"
             ],
             [
              0.6666666666666666,
              "#ed7953"
             ],
             [
              0.7777777777777778,
              "#fb9f3a"
             ],
             [
              0.8888888888888888,
              "#fdca26"
             ],
             [
              1,
              "#f0f921"
             ]
            ],
            "type": "contour"
           }
          ],
          "contourcarpet": [
           {
            "colorbar": {
             "outlinewidth": 0,
             "ticks": ""
            },
            "type": "contourcarpet"
           }
          ],
          "heatmap": [
           {
            "colorbar": {
             "outlinewidth": 0,
             "ticks": ""
            },
            "colorscale": [
             [
              0,
              "#0d0887"
             ],
             [
              0.1111111111111111,
              "#46039f"
             ],
             [
              0.2222222222222222,
              "#7201a8"
             ],
             [
              0.3333333333333333,
              "#9c179e"
             ],
             [
              0.4444444444444444,
              "#bd3786"
             ],
             [
              0.5555555555555556,
              "#d8576b"
             ],
             [
              0.6666666666666666,
              "#ed7953"
             ],
             [
              0.7777777777777778,
              "#fb9f3a"
             ],
             [
              0.8888888888888888,
              "#fdca26"
             ],
             [
              1,
              "#f0f921"
             ]
            ],
            "type": "heatmap"
           }
          ],
          "histogram": [
           {
            "marker": {
             "pattern": {
              "fillmode": "overlay",
              "size": 10,
              "solidity": 0.2
             }
            },
            "type": "histogram"
           }
          ],
          "histogram2d": [
           {
            "colorbar": {
             "outlinewidth": 0,
             "ticks": ""
            },
            "colorscale": [
             [
              0,
              "#0d0887"
             ],
             [
              0.1111111111111111,
              "#46039f"
             ],
             [
              0.2222222222222222,
              "#7201a8"
             ],
             [
              0.3333333333333333,
              "#9c179e"
             ],
             [
              0.4444444444444444,
              "#bd3786"
             ],
             [
              0.5555555555555556,
              "#d8576b"
             ],
             [
              0.6666666666666666,
              "#ed7953"
             ],
             [
              0.7777777777777778,
              "#fb9f3a"
             ],
             [
              0.8888888888888888,
              "#fdca26"
             ],
             [
              1,
              "#f0f921"
             ]
            ],
            "type": "histogram2d"
           }
          ],
          "histogram2dcontour": [
           {
            "colorbar": {
             "outlinewidth": 0,
             "ticks": ""
            },
            "colorscale": [
             [
              0,
              "#0d0887"
             ],
             [
              0.1111111111111111,
              "#46039f"
             ],
             [
              0.2222222222222222,
              "#7201a8"
             ],
             [
              0.3333333333333333,
              "#9c179e"
             ],
             [
              0.4444444444444444,
              "#bd3786"
             ],
             [
              0.5555555555555556,
              "#d8576b"
             ],
             [
              0.6666666666666666,
              "#ed7953"
             ],
             [
              0.7777777777777778,
              "#fb9f3a"
             ],
             [
              0.8888888888888888,
              "#fdca26"
             ],
             [
              1,
              "#f0f921"
             ]
            ],
            "type": "histogram2dcontour"
           }
          ],
          "mesh3d": [
           {
            "colorbar": {
             "outlinewidth": 0,
             "ticks": ""
            },
            "type": "mesh3d"
           }
          ],
          "parcoords": [
           {
            "line": {
             "colorbar": {
              "outlinewidth": 0,
              "ticks": ""
             }
            },
            "type": "parcoords"
           }
          ],
          "pie": [
           {
            "automargin": true,
            "type": "pie"
           }
          ],
          "scatter": [
           {
            "fillpattern": {
             "fillmode": "overlay",
             "size": 10,
             "solidity": 0.2
            },
            "type": "scatter"
           }
          ],
          "scatter3d": [
           {
            "line": {
             "colorbar": {
              "outlinewidth": 0,
              "ticks": ""
             }
            },
            "marker": {
             "colorbar": {
              "outlinewidth": 0,
              "ticks": ""
             }
            },
            "type": "scatter3d"
           }
          ],
          "scattercarpet": [
           {
            "marker": {
             "colorbar": {
              "outlinewidth": 0,
              "ticks": ""
             }
            },
            "type": "scattercarpet"
           }
          ],
          "scattergeo": [
           {
            "marker": {
             "colorbar": {
              "outlinewidth": 0,
              "ticks": ""
             }
            },
            "type": "scattergeo"
           }
          ],
          "scattergl": [
           {
            "marker": {
             "colorbar": {
              "outlinewidth": 0,
              "ticks": ""
             }
            },
            "type": "scattergl"
           }
          ],
          "scattermap": [
           {
            "marker": {
             "colorbar": {
              "outlinewidth": 0,
              "ticks": ""
             }
            },
            "type": "scattermap"
           }
          ],
          "scattermapbox": [
           {
            "marker": {
             "colorbar": {
              "outlinewidth": 0,
              "ticks": ""
             }
            },
            "type": "scattermapbox"
           }
          ],
          "scatterpolar": [
           {
            "marker": {
             "colorbar": {
              "outlinewidth": 0,
              "ticks": ""
             }
            },
            "type": "scatterpolar"
           }
          ],
          "scatterpolargl": [
           {
            "marker": {
             "colorbar": {
              "outlinewidth": 0,
              "ticks": ""
             }
            },
            "type": "scatterpolargl"
           }
          ],
          "scatterternary": [
           {
            "marker": {
             "colorbar": {
              "outlinewidth": 0,
              "ticks": ""
             }
            },
            "type": "scatterternary"
           }
          ],
          "surface": [
           {
            "colorbar": {
             "outlinewidth": 0,
             "ticks": ""
            },
            "colorscale": [
             [
              0,
              "#0d0887"
             ],
             [
              0.1111111111111111,
              "#46039f"
             ],
             [
              0.2222222222222222,
              "#7201a8"
             ],
             [
              0.3333333333333333,
              "#9c179e"
             ],
             [
              0.4444444444444444,
              "#bd3786"
             ],
             [
              0.5555555555555556,
              "#d8576b"
             ],
             [
              0.6666666666666666,
              "#ed7953"
             ],
             [
              0.7777777777777778,
              "#fb9f3a"
             ],
             [
              0.8888888888888888,
              "#fdca26"
             ],
             [
              1,
              "#f0f921"
             ]
            ],
            "type": "surface"
           }
          ],
          "table": [
           {
            "cells": {
             "fill": {
              "color": "#EBF0F8"
             },
             "line": {
              "color": "white"
             }
            },
            "header": {
             "fill": {
              "color": "#C8D4E3"
             },
             "line": {
              "color": "white"
             }
            },
            "type": "table"
           }
          ]
         },
         "layout": {
          "annotationdefaults": {
           "arrowcolor": "#2a3f5f",
           "arrowhead": 0,
           "arrowwidth": 1
          },
          "autotypenumbers": "strict",
          "coloraxis": {
           "colorbar": {
            "outlinewidth": 0,
            "ticks": ""
           }
          },
          "colorscale": {
           "diverging": [
            [
             0,
             "#8e0152"
            ],
            [
             0.1,
             "#c51b7d"
            ],
            [
             0.2,
             "#de77ae"
            ],
            [
             0.3,
             "#f1b6da"
            ],
            [
             0.4,
             "#fde0ef"
            ],
            [
             0.5,
             "#f7f7f7"
            ],
            [
             0.6,
             "#e6f5d0"
            ],
            [
             0.7,
             "#b8e186"
            ],
            [
             0.8,
             "#7fbc41"
            ],
            [
             0.9,
             "#4d9221"
            ],
            [
             1,
             "#276419"
            ]
           ],
           "sequential": [
            [
             0,
             "#0d0887"
            ],
            [
             0.1111111111111111,
             "#46039f"
            ],
            [
             0.2222222222222222,
             "#7201a8"
            ],
            [
             0.3333333333333333,
             "#9c179e"
            ],
            [
             0.4444444444444444,
             "#bd3786"
            ],
            [
             0.5555555555555556,
             "#d8576b"
            ],
            [
             0.6666666666666666,
             "#ed7953"
            ],
            [
             0.7777777777777778,
             "#fb9f3a"
            ],
            [
             0.8888888888888888,
             "#fdca26"
            ],
            [
             1,
             "#f0f921"
            ]
           ],
           "sequentialminus": [
            [
             0,
             "#0d0887"
            ],
            [
             0.1111111111111111,
             "#46039f"
            ],
            [
             0.2222222222222222,
             "#7201a8"
            ],
            [
             0.3333333333333333,
             "#9c179e"
            ],
            [
             0.4444444444444444,
             "#bd3786"
            ],
            [
             0.5555555555555556,
             "#d8576b"
            ],
            [
             0.6666666666666666,
             "#ed7953"
            ],
            [
             0.7777777777777778,
             "#fb9f3a"
            ],
            [
             0.8888888888888888,
             "#fdca26"
            ],
            [
             1,
             "#f0f921"
            ]
           ]
          },
          "colorway": [
           "#636efa",
           "#EF553B",
           "#00cc96",
           "#ab63fa",
           "#FFA15A",
           "#19d3f3",
           "#FF6692",
           "#B6E880",
           "#FF97FF",
           "#FECB52"
          ],
          "font": {
           "color": "#2a3f5f"
          },
          "geo": {
           "bgcolor": "white",
           "lakecolor": "white",
           "landcolor": "#E5ECF6",
           "showlakes": true,
           "showland": true,
           "subunitcolor": "white"
          },
          "hoverlabel": {
           "align": "left"
          },
          "hovermode": "closest",
          "mapbox": {
           "style": "light"
          },
          "paper_bgcolor": "white",
          "plot_bgcolor": "#E5ECF6",
          "polar": {
           "angularaxis": {
            "gridcolor": "white",
            "linecolor": "white",
            "ticks": ""
           },
           "bgcolor": "#E5ECF6",
           "radialaxis": {
            "gridcolor": "white",
            "linecolor": "white",
            "ticks": ""
           }
          },
          "scene": {
           "xaxis": {
            "backgroundcolor": "#E5ECF6",
            "gridcolor": "white",
            "gridwidth": 2,
            "linecolor": "white",
            "showbackground": true,
            "ticks": "",
            "zerolinecolor": "white"
           },
           "yaxis": {
            "backgroundcolor": "#E5ECF6",
            "gridcolor": "white",
            "gridwidth": 2,
            "linecolor": "white",
            "showbackground": true,
            "ticks": "",
            "zerolinecolor": "white"
           },
           "zaxis": {
            "backgroundcolor": "#E5ECF6",
            "gridcolor": "white",
            "gridwidth": 2,
            "linecolor": "white",
            "showbackground": true,
            "ticks": "",
            "zerolinecolor": "white"
           }
          },
          "shapedefaults": {
           "line": {
            "color": "#2a3f5f"
           }
          },
          "ternary": {
           "aaxis": {
            "gridcolor": "white",
            "linecolor": "white",
            "ticks": ""
           },
           "baxis": {
            "gridcolor": "white",
            "linecolor": "white",
            "ticks": ""
           },
           "bgcolor": "#E5ECF6",
           "caxis": {
            "gridcolor": "white",
            "linecolor": "white",
            "ticks": ""
           }
          },
          "title": {
           "x": 0.05
          },
          "xaxis": {
           "automargin": true,
           "gridcolor": "white",
           "linecolor": "white",
           "ticks": "",
           "title": {
            "standoff": 15
           },
           "zerolinecolor": "white",
           "zerolinewidth": 2
          },
          "yaxis": {
           "automargin": true,
           "gridcolor": "white",
           "linecolor": "white",
           "ticks": "",
           "title": {
            "standoff": 15
           },
           "zerolinecolor": "white",
           "zerolinewidth": 2
          }
         }
        },
        "title": {
         "text": "Montos de Ahorro por Etapa del Proyecto"
        },
        "xaxis": {
         "anchor": "y",
         "domain": [
          0,
          1
         ],
         "tickangle": -45,
         "title": {
          "text": "Etapa del Proyecto"
         }
        },
        "yaxis": {
         "anchor": "x",
         "domain": [
          0,
          1
         ],
         "tickformat": ",.2f",
         "title": {
          "text": "Monto Total de Ahorro "
         }
        }
       }
      }
     },
     "metadata": {},
     "output_type": "display_data"
    }
   ],
   "source": [
    "# ==================== VISUALIZACIÓN DE  MONTOS DE AHORROS POR ETAPA ====================\n",
    "\n",
    "# 1. Crear copia del resumen original de ahorros\n",
    "res_ahorro = resumen_ahorro_etapa.copy()\n",
    "\n",
    "# 2. Asegurar que los valores estén en formato numérico (por si vienen como string con $)\n",
    "res_ahorro[\"Suma de Ahorros\"] = (\n",
    "    res_ahorro[\"Suma_de_Ahorros\"]\n",
    "    .replace({\"[$,]\": \"\"}, regex=True)\n",
    "    .astype(float)\n",
    ")\n",
    "\n",
    "# 3. Ordenar etapas por monto de ahorro (mayor primero)\n",
    "res_ahorro = res_ahorro.sort_values(by=\"Suma de Ahorros\", ascending=False)\n",
    "\n",
    "# 4. Crear gráfico de barras\n",
    "fig = px.bar(\n",
    "    res_ahorro,\n",
    "    x=\"Etapa\",\n",
    "    y=\"Suma de Ahorros\",\n",
    "    title='Montos de Ahorro por Etapa del Proyecto',\n",
    "    text=\"Suma de Ahorros\",\n",
    "    labels={\n",
    "        \"Suma de Ahorros\": 'Monto Total de Ahorro ',\n",
    "        \"Etapa\": \"Etapa del Proyecto\"\n",
    "    },\n",
    "    color_discrete_sequence=[\"#2CA02C\"]  # Verde accesible y positivo\n",
    ")\n",
    "\n",
    "# 5. Ajuste de texto y etiquetas de hover\n",
    "fig.update_traces(\n",
    "    texttemplate=\"$%{text:,.2f}\",\n",
    "    hovertemplate=\"<b>%{x}</b><br>Ahorro: $%{y:,.2f}\"\n",
    ")\n",
    "\n",
    "# 6. Configuración de ejes y márgenes\n",
    "fig.update_layout(\n",
    "    yaxis_tickformat=\",.2f\",\n",
    "    xaxis_tickangle=-45,\n",
    "    margin={\"t\":50, \"b\":150}\n",
    ")\n",
    "\n",
    "# 7. Mostrar el gráfico\n",
    "fig.show()\n"
   ]
  },
  {
   "cell_type": "markdown",
   "id": "4d2c3b33",
   "metadata": {},
   "source": [
    "### Análisis\n",
    "Se hizo una gráfica para ver cuánto se gastó de más por etapa, enfocándose solo en los\n",
    "sobregastos (sin contar ahorros ni cuentas neutras). Después se revisó otra gráfica para ver los\n",
    "ahorros y finalmente una más con el resultado total (lo que quedó después de sumar ahorros y\n",
    "restar sobregastos).\n",
    "\n",
    "### Hallazgos\n",
    "● La etapa SHOOT tuvo el mayor sobregasto, más de $14 millones.\n",
    "\n",
    "● También fue la etapa con más ahorro, pero aun así no alcanzó a cubrir todo lo que se\n",
    "gastó de más.\n",
    "\n",
    "● En el balance final, SHOOT fue la única etapa que terminó con un saldo negativo\n",
    "grande.\n",
    "\n",
    "### Conclusión\n",
    "La hipótesis se confirma. SHOOT fue, efectivamente, la etapa más inestable. Tuvo mucho\n",
    "gasto de más y también muchos intentos de ahorro. Parece que, por lo compleja que es, es\n",
    "difícil mantener el control total del presupuesto en esta parte del proyecto.\n"
   ]
  },
  {
   "cell_type": "markdown",
   "id": "3655366e",
   "metadata": {},
   "source": [
    "## Hipotesis 2"
   ]
  },
  {
   "cell_type": "code",
   "execution_count": 10,
   "id": "cf0bacd9",
   "metadata": {},
   "outputs": [
    {
     "name": "stdout",
     "output_type": "stream",
     "text": [
      "Estados de las partidas Detalle en SOFT:\n"
     ]
    },
    {
     "data": {
      "text/html": [
       "<div>\n",
       "<style scoped>\n",
       "    .dataframe tbody tr th:only-of-type {\n",
       "        vertical-align: middle;\n",
       "    }\n",
       "\n",
       "    .dataframe tbody tr th {\n",
       "        vertical-align: top;\n",
       "    }\n",
       "\n",
       "    .dataframe thead th {\n",
       "        text-align: right;\n",
       "    }\n",
       "</style>\n",
       "<table border=\"1\" class=\"dataframe\">\n",
       "  <thead>\n",
       "    <tr style=\"text-align: right;\">\n",
       "      <th></th>\n",
       "      <th>Cantidad</th>\n",
       "      <th>count</th>\n",
       "    </tr>\n",
       "  </thead>\n",
       "  <tbody>\n",
       "    <tr>\n",
       "      <th>0</th>\n",
       "      <td>Neutral</td>\n",
       "      <td>14</td>\n",
       "    </tr>\n",
       "    <tr>\n",
       "      <th>1</th>\n",
       "      <td>Sobregasto</td>\n",
       "      <td>2</td>\n",
       "    </tr>\n",
       "  </tbody>\n",
       "</table>\n",
       "</div>"
      ],
      "text/plain": [
       "     Cantidad  count\n",
       "0     Neutral     14\n",
       "1  Sobregasto      2"
      ]
     },
     "metadata": {},
     "output_type": "display_data"
    }
   ],
   "source": [
    "# 1. Asegurarnos de partir de df_cost_clean y recalcular DIFERENCIA vs BUDGET\n",
    "df_detalle = df_cost_clean[df_cost_clean[\"Nivel\"] == \"Detalle\"].copy()\n",
    "\n",
    "# 2. TOTAL COSTO = COST TO DATE + COMMITMENTS\n",
    "df_detalle[\"TOTAL COSTO\"] = df_detalle[\"COST TO DATE\"].fillna(0) + df_detalle[\"COMMITMENTS\"].fillna(0)\n",
    "\n",
    "# 3. DIFERENCIA vs BUDGET = BUDGET − TOTAL COSTO\n",
    "df_detalle[\"DIFERENCIA vs BUDGET\"] = df_detalle[\"BUDGET\"].fillna(0) - df_detalle[\"TOTAL COSTO\"]\n",
    "\n",
    "# 4. Filtrar solo la etapa SOFT\n",
    "df_soft = df_detalle[df_detalle[\"Etapa Normalizada\"] == \"SOFT\"].copy()\n",
    "\n",
    "# 5. Función de clasificación\n",
    "import numpy as np\n",
    "def clasificar_diferencia(val):\n",
    "    if np.isclose(val, 0, atol=1):\n",
    "        return \"Neutral\"\n",
    "    elif val < 0:\n",
    "        return \"Sobregasto\"\n",
    "    else:\n",
    "        return \"Ahorro\"\n",
    "\n",
    "# 6. Aplicar clasificación\n",
    "df_soft[\"Estado\"] = df_soft[\"DIFERENCIA vs BUDGET\"].apply(clasificar_diferencia)\n",
    "\n",
    "# 7. Contar por estado\n",
    "conteo_estado = (\n",
    "    df_soft[\"Estado\"]\n",
    "    .value_counts()\n",
    "    .reset_index()\n",
    "    .rename(columns={\"index\": \"Estado\", \"Estado\": \"Cantidad\"})\n",
    ")\n",
    "\n",
    "# 8. Mostrar resultados\n",
    "print(\"Estados de las partidas Detalle en SOFT:\")\n",
    "display(conteo_estado)\n"
   ]
  },
  {
   "cell_type": "code",
   "execution_count": 11,
   "id": "50fe7649",
   "metadata": {},
   "outputs": [
    {
     "data": {
      "application/vnd.plotly.v1+json": {
       "config": {
        "plotlyServerURL": "https://plot.ly"
       },
       "data": [
        {
         "customdata": [
          [
           "Neutral"
          ],
          [
           "Sobregasto"
          ]
         ],
         "domain": {
          "x": [
           0,
           1
          ],
          "y": [
           0,
           1
          ]
         },
         "hole": 0.4,
         "hovertemplate": "<b>%{label}</b><br>Porcentaje: %{percent:.2%}<br>Cuentas: %{value}",
         "labels": [
          "Neutral",
          "Sobregasto"
         ],
         "legendgroup": "",
         "marker": {
          "colors": [
           "#7F7F7F",
           "#D62728"
          ]
         },
         "name": "",
         "showlegend": true,
         "textinfo": "percent+label",
         "type": "pie",
         "values": {
          "bdata": "DgI=",
          "dtype": "i1"
         }
        }
       ],
       "layout": {
        "legend": {
         "tracegroupgap": 0
        },
        "template": {
         "data": {
          "bar": [
           {
            "error_x": {
             "color": "#2a3f5f"
            },
            "error_y": {
             "color": "#2a3f5f"
            },
            "marker": {
             "line": {
              "color": "#E5ECF6",
              "width": 0.5
             },
             "pattern": {
              "fillmode": "overlay",
              "size": 10,
              "solidity": 0.2
             }
            },
            "type": "bar"
           }
          ],
          "barpolar": [
           {
            "marker": {
             "line": {
              "color": "#E5ECF6",
              "width": 0.5
             },
             "pattern": {
              "fillmode": "overlay",
              "size": 10,
              "solidity": 0.2
             }
            },
            "type": "barpolar"
           }
          ],
          "carpet": [
           {
            "aaxis": {
             "endlinecolor": "#2a3f5f",
             "gridcolor": "white",
             "linecolor": "white",
             "minorgridcolor": "white",
             "startlinecolor": "#2a3f5f"
            },
            "baxis": {
             "endlinecolor": "#2a3f5f",
             "gridcolor": "white",
             "linecolor": "white",
             "minorgridcolor": "white",
             "startlinecolor": "#2a3f5f"
            },
            "type": "carpet"
           }
          ],
          "choropleth": [
           {
            "colorbar": {
             "outlinewidth": 0,
             "ticks": ""
            },
            "type": "choropleth"
           }
          ],
          "contour": [
           {
            "colorbar": {
             "outlinewidth": 0,
             "ticks": ""
            },
            "colorscale": [
             [
              0,
              "#0d0887"
             ],
             [
              0.1111111111111111,
              "#46039f"
             ],
             [
              0.2222222222222222,
              "#7201a8"
             ],
             [
              0.3333333333333333,
              "#9c179e"
             ],
             [
              0.4444444444444444,
              "#bd3786"
             ],
             [
              0.5555555555555556,
              "#d8576b"
             ],
             [
              0.6666666666666666,
              "#ed7953"
             ],
             [
              0.7777777777777778,
              "#fb9f3a"
             ],
             [
              0.8888888888888888,
              "#fdca26"
             ],
             [
              1,
              "#f0f921"
             ]
            ],
            "type": "contour"
           }
          ],
          "contourcarpet": [
           {
            "colorbar": {
             "outlinewidth": 0,
             "ticks": ""
            },
            "type": "contourcarpet"
           }
          ],
          "heatmap": [
           {
            "colorbar": {
             "outlinewidth": 0,
             "ticks": ""
            },
            "colorscale": [
             [
              0,
              "#0d0887"
             ],
             [
              0.1111111111111111,
              "#46039f"
             ],
             [
              0.2222222222222222,
              "#7201a8"
             ],
             [
              0.3333333333333333,
              "#9c179e"
             ],
             [
              0.4444444444444444,
              "#bd3786"
             ],
             [
              0.5555555555555556,
              "#d8576b"
             ],
             [
              0.6666666666666666,
              "#ed7953"
             ],
             [
              0.7777777777777778,
              "#fb9f3a"
             ],
             [
              0.8888888888888888,
              "#fdca26"
             ],
             [
              1,
              "#f0f921"
             ]
            ],
            "type": "heatmap"
           }
          ],
          "histogram": [
           {
            "marker": {
             "pattern": {
              "fillmode": "overlay",
              "size": 10,
              "solidity": 0.2
             }
            },
            "type": "histogram"
           }
          ],
          "histogram2d": [
           {
            "colorbar": {
             "outlinewidth": 0,
             "ticks": ""
            },
            "colorscale": [
             [
              0,
              "#0d0887"
             ],
             [
              0.1111111111111111,
              "#46039f"
             ],
             [
              0.2222222222222222,
              "#7201a8"
             ],
             [
              0.3333333333333333,
              "#9c179e"
             ],
             [
              0.4444444444444444,
              "#bd3786"
             ],
             [
              0.5555555555555556,
              "#d8576b"
             ],
             [
              0.6666666666666666,
              "#ed7953"
             ],
             [
              0.7777777777777778,
              "#fb9f3a"
             ],
             [
              0.8888888888888888,
              "#fdca26"
             ],
             [
              1,
              "#f0f921"
             ]
            ],
            "type": "histogram2d"
           }
          ],
          "histogram2dcontour": [
           {
            "colorbar": {
             "outlinewidth": 0,
             "ticks": ""
            },
            "colorscale": [
             [
              0,
              "#0d0887"
             ],
             [
              0.1111111111111111,
              "#46039f"
             ],
             [
              0.2222222222222222,
              "#7201a8"
             ],
             [
              0.3333333333333333,
              "#9c179e"
             ],
             [
              0.4444444444444444,
              "#bd3786"
             ],
             [
              0.5555555555555556,
              "#d8576b"
             ],
             [
              0.6666666666666666,
              "#ed7953"
             ],
             [
              0.7777777777777778,
              "#fb9f3a"
             ],
             [
              0.8888888888888888,
              "#fdca26"
             ],
             [
              1,
              "#f0f921"
             ]
            ],
            "type": "histogram2dcontour"
           }
          ],
          "mesh3d": [
           {
            "colorbar": {
             "outlinewidth": 0,
             "ticks": ""
            },
            "type": "mesh3d"
           }
          ],
          "parcoords": [
           {
            "line": {
             "colorbar": {
              "outlinewidth": 0,
              "ticks": ""
             }
            },
            "type": "parcoords"
           }
          ],
          "pie": [
           {
            "automargin": true,
            "type": "pie"
           }
          ],
          "scatter": [
           {
            "fillpattern": {
             "fillmode": "overlay",
             "size": 10,
             "solidity": 0.2
            },
            "type": "scatter"
           }
          ],
          "scatter3d": [
           {
            "line": {
             "colorbar": {
              "outlinewidth": 0,
              "ticks": ""
             }
            },
            "marker": {
             "colorbar": {
              "outlinewidth": 0,
              "ticks": ""
             }
            },
            "type": "scatter3d"
           }
          ],
          "scattercarpet": [
           {
            "marker": {
             "colorbar": {
              "outlinewidth": 0,
              "ticks": ""
             }
            },
            "type": "scattercarpet"
           }
          ],
          "scattergeo": [
           {
            "marker": {
             "colorbar": {
              "outlinewidth": 0,
              "ticks": ""
             }
            },
            "type": "scattergeo"
           }
          ],
          "scattergl": [
           {
            "marker": {
             "colorbar": {
              "outlinewidth": 0,
              "ticks": ""
             }
            },
            "type": "scattergl"
           }
          ],
          "scattermap": [
           {
            "marker": {
             "colorbar": {
              "outlinewidth": 0,
              "ticks": ""
             }
            },
            "type": "scattermap"
           }
          ],
          "scattermapbox": [
           {
            "marker": {
             "colorbar": {
              "outlinewidth": 0,
              "ticks": ""
             }
            },
            "type": "scattermapbox"
           }
          ],
          "scatterpolar": [
           {
            "marker": {
             "colorbar": {
              "outlinewidth": 0,
              "ticks": ""
             }
            },
            "type": "scatterpolar"
           }
          ],
          "scatterpolargl": [
           {
            "marker": {
             "colorbar": {
              "outlinewidth": 0,
              "ticks": ""
             }
            },
            "type": "scatterpolargl"
           }
          ],
          "scatterternary": [
           {
            "marker": {
             "colorbar": {
              "outlinewidth": 0,
              "ticks": ""
             }
            },
            "type": "scatterternary"
           }
          ],
          "surface": [
           {
            "colorbar": {
             "outlinewidth": 0,
             "ticks": ""
            },
            "colorscale": [
             [
              0,
              "#0d0887"
             ],
             [
              0.1111111111111111,
              "#46039f"
             ],
             [
              0.2222222222222222,
              "#7201a8"
             ],
             [
              0.3333333333333333,
              "#9c179e"
             ],
             [
              0.4444444444444444,
              "#bd3786"
             ],
             [
              0.5555555555555556,
              "#d8576b"
             ],
             [
              0.6666666666666666,
              "#ed7953"
             ],
             [
              0.7777777777777778,
              "#fb9f3a"
             ],
             [
              0.8888888888888888,
              "#fdca26"
             ],
             [
              1,
              "#f0f921"
             ]
            ],
            "type": "surface"
           }
          ],
          "table": [
           {
            "cells": {
             "fill": {
              "color": "#EBF0F8"
             },
             "line": {
              "color": "white"
             }
            },
            "header": {
             "fill": {
              "color": "#C8D4E3"
             },
             "line": {
              "color": "white"
             }
            },
            "type": "table"
           }
          ]
         },
         "layout": {
          "annotationdefaults": {
           "arrowcolor": "#2a3f5f",
           "arrowhead": 0,
           "arrowwidth": 1
          },
          "autotypenumbers": "strict",
          "coloraxis": {
           "colorbar": {
            "outlinewidth": 0,
            "ticks": ""
           }
          },
          "colorscale": {
           "diverging": [
            [
             0,
             "#8e0152"
            ],
            [
             0.1,
             "#c51b7d"
            ],
            [
             0.2,
             "#de77ae"
            ],
            [
             0.3,
             "#f1b6da"
            ],
            [
             0.4,
             "#fde0ef"
            ],
            [
             0.5,
             "#f7f7f7"
            ],
            [
             0.6,
             "#e6f5d0"
            ],
            [
             0.7,
             "#b8e186"
            ],
            [
             0.8,
             "#7fbc41"
            ],
            [
             0.9,
             "#4d9221"
            ],
            [
             1,
             "#276419"
            ]
           ],
           "sequential": [
            [
             0,
             "#0d0887"
            ],
            [
             0.1111111111111111,
             "#46039f"
            ],
            [
             0.2222222222222222,
             "#7201a8"
            ],
            [
             0.3333333333333333,
             "#9c179e"
            ],
            [
             0.4444444444444444,
             "#bd3786"
            ],
            [
             0.5555555555555556,
             "#d8576b"
            ],
            [
             0.6666666666666666,
             "#ed7953"
            ],
            [
             0.7777777777777778,
             "#fb9f3a"
            ],
            [
             0.8888888888888888,
             "#fdca26"
            ],
            [
             1,
             "#f0f921"
            ]
           ],
           "sequentialminus": [
            [
             0,
             "#0d0887"
            ],
            [
             0.1111111111111111,
             "#46039f"
            ],
            [
             0.2222222222222222,
             "#7201a8"
            ],
            [
             0.3333333333333333,
             "#9c179e"
            ],
            [
             0.4444444444444444,
             "#bd3786"
            ],
            [
             0.5555555555555556,
             "#d8576b"
            ],
            [
             0.6666666666666666,
             "#ed7953"
            ],
            [
             0.7777777777777778,
             "#fb9f3a"
            ],
            [
             0.8888888888888888,
             "#fdca26"
            ],
            [
             1,
             "#f0f921"
            ]
           ]
          },
          "colorway": [
           "#636efa",
           "#EF553B",
           "#00cc96",
           "#ab63fa",
           "#FFA15A",
           "#19d3f3",
           "#FF6692",
           "#B6E880",
           "#FF97FF",
           "#FECB52"
          ],
          "font": {
           "color": "#2a3f5f"
          },
          "geo": {
           "bgcolor": "white",
           "lakecolor": "white",
           "landcolor": "#E5ECF6",
           "showlakes": true,
           "showland": true,
           "subunitcolor": "white"
          },
          "hoverlabel": {
           "align": "left"
          },
          "hovermode": "closest",
          "mapbox": {
           "style": "light"
          },
          "paper_bgcolor": "white",
          "plot_bgcolor": "#E5ECF6",
          "polar": {
           "angularaxis": {
            "gridcolor": "white",
            "linecolor": "white",
            "ticks": ""
           },
           "bgcolor": "#E5ECF6",
           "radialaxis": {
            "gridcolor": "white",
            "linecolor": "white",
            "ticks": ""
           }
          },
          "scene": {
           "xaxis": {
            "backgroundcolor": "#E5ECF6",
            "gridcolor": "white",
            "gridwidth": 2,
            "linecolor": "white",
            "showbackground": true,
            "ticks": "",
            "zerolinecolor": "white"
           },
           "yaxis": {
            "backgroundcolor": "#E5ECF6",
            "gridcolor": "white",
            "gridwidth": 2,
            "linecolor": "white",
            "showbackground": true,
            "ticks": "",
            "zerolinecolor": "white"
           },
           "zaxis": {
            "backgroundcolor": "#E5ECF6",
            "gridcolor": "white",
            "gridwidth": 2,
            "linecolor": "white",
            "showbackground": true,
            "ticks": "",
            "zerolinecolor": "white"
           }
          },
          "shapedefaults": {
           "line": {
            "color": "#2a3f5f"
           }
          },
          "ternary": {
           "aaxis": {
            "gridcolor": "white",
            "linecolor": "white",
            "ticks": ""
           },
           "baxis": {
            "gridcolor": "white",
            "linecolor": "white",
            "ticks": ""
           },
           "bgcolor": "#E5ECF6",
           "caxis": {
            "gridcolor": "white",
            "linecolor": "white",
            "ticks": ""
           }
          },
          "title": {
           "x": 0.05
          },
          "xaxis": {
           "automargin": true,
           "gridcolor": "white",
           "linecolor": "white",
           "ticks": "",
           "title": {
            "standoff": 15
           },
           "zerolinecolor": "white",
           "zerolinewidth": 2
          },
          "yaxis": {
           "automargin": true,
           "gridcolor": "white",
           "linecolor": "white",
           "ticks": "",
           "title": {
            "standoff": 15
           },
           "zerolinecolor": "white",
           "zerolinewidth": 2
          }
         }
        },
        "title": {
         "text": "Distribución de Cuentas Detalladas en SOFT"
        }
       }
      }
     },
     "metadata": {},
     "output_type": "display_data"
    },
    {
     "data": {
      "text/html": [
       "<div>\n",
       "<style scoped>\n",
       "    .dataframe tbody tr th:only-of-type {\n",
       "        vertical-align: middle;\n",
       "    }\n",
       "\n",
       "    .dataframe tbody tr th {\n",
       "        vertical-align: top;\n",
       "    }\n",
       "\n",
       "    .dataframe thead th {\n",
       "        text-align: right;\n",
       "    }\n",
       "</style>\n",
       "<table border=\"1\" class=\"dataframe\">\n",
       "  <thead>\n",
       "    <tr style=\"text-align: right;\">\n",
       "      <th></th>\n",
       "      <th>ACCT</th>\n",
       "      <th>Etiqueta</th>\n",
       "      <th>COST TO DATE</th>\n",
       "      <th>COMMITMENTS</th>\n",
       "      <th>TOTAL COSTO</th>\n",
       "      <th>BUDGET</th>\n",
       "      <th>DIFERENCIA vs BUDGET</th>\n",
       "      <th>Estado</th>\n",
       "    </tr>\n",
       "  </thead>\n",
       "  <tbody>\n",
       "    <tr>\n",
       "      <th>56</th>\n",
       "      <td>1202-003</td>\n",
       "      <td>1202-003</td>\n",
       "      <td>$125,000.00</td>\n",
       "      <td>$0.00</td>\n",
       "      <td>$125,000.00</td>\n",
       "      <td>$125,000.00</td>\n",
       "      <td>$0.00</td>\n",
       "      <td>Neutral</td>\n",
       "    </tr>\n",
       "    <tr>\n",
       "      <th>61</th>\n",
       "      <td>1204-003</td>\n",
       "      <td>1204-003</td>\n",
       "      <td>$210,000.00</td>\n",
       "      <td>$0.00</td>\n",
       "      <td>$210,000.00</td>\n",
       "      <td>$210,000.00</td>\n",
       "      <td>$0.00</td>\n",
       "      <td>Neutral</td>\n",
       "    </tr>\n",
       "    <tr>\n",
       "      <th>69</th>\n",
       "      <td>1222-008</td>\n",
       "      <td>1222-008</td>\n",
       "      <td>$50,000.00</td>\n",
       "      <td>$0.00</td>\n",
       "      <td>$50,000.00</td>\n",
       "      <td>$50,000.00</td>\n",
       "      <td>$0.00</td>\n",
       "      <td>Neutral</td>\n",
       "    </tr>\n",
       "    <tr>\n",
       "      <th>483</th>\n",
       "      <td>2001-003</td>\n",
       "      <td>2001-003</td>\n",
       "      <td>$60,000.00</td>\n",
       "      <td>$0.00</td>\n",
       "      <td>$60,000.00</td>\n",
       "      <td>$60,000.00</td>\n",
       "      <td>$0.00</td>\n",
       "      <td>Neutral</td>\n",
       "    </tr>\n",
       "    <tr>\n",
       "      <th>502</th>\n",
       "      <td>2004-003</td>\n",
       "      <td>2004-003</td>\n",
       "      <td>$131,250.00</td>\n",
       "      <td>$0.00</td>\n",
       "      <td>$131,250.00</td>\n",
       "      <td>$131,250.00</td>\n",
       "      <td>$0.00</td>\n",
       "      <td>Neutral</td>\n",
       "    </tr>\n",
       "    <tr>\n",
       "      <th>506</th>\n",
       "      <td>2005-003</td>\n",
       "      <td>2005-003</td>\n",
       "      <td>$31,500.00</td>\n",
       "      <td>$0.00</td>\n",
       "      <td>$31,500.00</td>\n",
       "      <td>$31,500.00</td>\n",
       "      <td>$0.00</td>\n",
       "      <td>Neutral</td>\n",
       "    </tr>\n",
       "    <tr>\n",
       "      <th>540</th>\n",
       "      <td>2010-010</td>\n",
       "      <td>2010-010</td>\n",
       "      <td>$28,750.00</td>\n",
       "      <td>$0.00</td>\n",
       "      <td>$28,750.00</td>\n",
       "      <td>$28,750.00</td>\n",
       "      <td>$0.00</td>\n",
       "      <td>Neutral</td>\n",
       "    </tr>\n",
       "    <tr>\n",
       "      <th>546</th>\n",
       "      <td>2011-003</td>\n",
       "      <td>2011-003</td>\n",
       "      <td>$15,000.00</td>\n",
       "      <td>$0.00</td>\n",
       "      <td>$15,000.00</td>\n",
       "      <td>$15,000.00</td>\n",
       "      <td>$0.00</td>\n",
       "      <td>Neutral</td>\n",
       "    </tr>\n",
       "    <tr>\n",
       "      <th>552</th>\n",
       "      <td>2011-011</td>\n",
       "      <td>2011-011</td>\n",
       "      <td>$12,500.00</td>\n",
       "      <td>$0.00</td>\n",
       "      <td>$12,500.00</td>\n",
       "      <td>$12,500.00</td>\n",
       "      <td>$0.00</td>\n",
       "      <td>Neutral</td>\n",
       "    </tr>\n",
       "    <tr>\n",
       "      <th>558</th>\n",
       "      <td>2011-019</td>\n",
       "      <td>2011-019</td>\n",
       "      <td>$18,000.00</td>\n",
       "      <td>$0.00</td>\n",
       "      <td>$18,000.00</td>\n",
       "      <td>$18,000.00</td>\n",
       "      <td>$0.00</td>\n",
       "      <td>Neutral</td>\n",
       "    </tr>\n",
       "    <tr>\n",
       "      <th>564</th>\n",
       "      <td>2013-003</td>\n",
       "      <td>2013-003</td>\n",
       "      <td>$94,500.00</td>\n",
       "      <td>$0.00</td>\n",
       "      <td>$94,500.00</td>\n",
       "      <td>$94,500.00</td>\n",
       "      <td>$0.00</td>\n",
       "      <td>Neutral</td>\n",
       "    </tr>\n",
       "    <tr>\n",
       "      <th>657</th>\n",
       "      <td>2201-003</td>\n",
       "      <td>2201-003</td>\n",
       "      <td>$16,170.00</td>\n",
       "      <td>$0.00</td>\n",
       "      <td>$16,170.00</td>\n",
       "      <td>$16,170.00</td>\n",
       "      <td>$0.00</td>\n",
       "      <td>Neutral</td>\n",
       "    </tr>\n",
       "    <tr>\n",
       "      <th>1153</th>\n",
       "      <td>3101-003</td>\n",
       "      <td>3101-003</td>\n",
       "      <td>$21,000.00</td>\n",
       "      <td>$0.00</td>\n",
       "      <td>$21,000.00</td>\n",
       "      <td>$21,000.00</td>\n",
       "      <td>$0.00</td>\n",
       "      <td>Neutral</td>\n",
       "    </tr>\n",
       "    <tr>\n",
       "      <th>2183</th>\n",
       "      <td>7001-003</td>\n",
       "      <td>7001-003</td>\n",
       "      <td>$6,875.00</td>\n",
       "      <td>$0.00</td>\n",
       "      <td>$6,875.00</td>\n",
       "      <td>$6,875.00</td>\n",
       "      <td>$0.00</td>\n",
       "      <td>Neutral</td>\n",
       "    </tr>\n",
       "    <tr>\n",
       "      <th>1449</th>\n",
       "      <td>3402-003</td>\n",
       "      <td>3402-003</td>\n",
       "      <td>$120,750.00</td>\n",
       "      <td>$0.00</td>\n",
       "      <td>$120,750.00</td>\n",
       "      <td>$105,000.00</td>\n",
       "      <td>$-15,750.00</td>\n",
       "      <td>Sobregasto</td>\n",
       "    </tr>\n",
       "    <tr>\n",
       "      <th>1458</th>\n",
       "      <td>3403-009</td>\n",
       "      <td>3403-009 - NOM</td>\n",
       "      <td>$42,000.00</td>\n",
       "      <td>$0.00</td>\n",
       "      <td>$42,000.00</td>\n",
       "      <td>$31,500.00</td>\n",
       "      <td>$-10,500.00</td>\n",
       "      <td>Sobregasto</td>\n",
       "    </tr>\n",
       "  </tbody>\n",
       "</table>\n",
       "</div>"
      ],
      "text/plain": [
       "          ACCT        Etiqueta COST TO DATE COMMITMENTS  TOTAL COSTO  \\\n",
       "56    1202-003        1202-003  $125,000.00       $0.00  $125,000.00   \n",
       "61    1204-003        1204-003  $210,000.00       $0.00  $210,000.00   \n",
       "69    1222-008        1222-008   $50,000.00       $0.00   $50,000.00   \n",
       "483   2001-003        2001-003   $60,000.00       $0.00   $60,000.00   \n",
       "502   2004-003        2004-003  $131,250.00       $0.00  $131,250.00   \n",
       "506   2005-003        2005-003   $31,500.00       $0.00   $31,500.00   \n",
       "540   2010-010        2010-010   $28,750.00       $0.00   $28,750.00   \n",
       "546   2011-003        2011-003   $15,000.00       $0.00   $15,000.00   \n",
       "552   2011-011        2011-011   $12,500.00       $0.00   $12,500.00   \n",
       "558   2011-019        2011-019   $18,000.00       $0.00   $18,000.00   \n",
       "564   2013-003        2013-003   $94,500.00       $0.00   $94,500.00   \n",
       "657   2201-003        2201-003   $16,170.00       $0.00   $16,170.00   \n",
       "1153  3101-003        3101-003   $21,000.00       $0.00   $21,000.00   \n",
       "2183  7001-003        7001-003    $6,875.00       $0.00    $6,875.00   \n",
       "1449  3402-003        3402-003  $120,750.00       $0.00  $120,750.00   \n",
       "1458  3403-009  3403-009 - NOM   $42,000.00       $0.00   $42,000.00   \n",
       "\n",
       "           BUDGET DIFERENCIA vs BUDGET      Estado  \n",
       "56    $125,000.00                $0.00     Neutral  \n",
       "61    $210,000.00                $0.00     Neutral  \n",
       "69     $50,000.00                $0.00     Neutral  \n",
       "483    $60,000.00                $0.00     Neutral  \n",
       "502   $131,250.00                $0.00     Neutral  \n",
       "506    $31,500.00                $0.00     Neutral  \n",
       "540    $28,750.00                $0.00     Neutral  \n",
       "546    $15,000.00                $0.00     Neutral  \n",
       "552    $12,500.00                $0.00     Neutral  \n",
       "558    $18,000.00                $0.00     Neutral  \n",
       "564    $94,500.00                $0.00     Neutral  \n",
       "657    $16,170.00                $0.00     Neutral  \n",
       "1153   $21,000.00                $0.00     Neutral  \n",
       "2183    $6,875.00                $0.00     Neutral  \n",
       "1449  $105,000.00          $-15,750.00  Sobregasto  \n",
       "1458   $31,500.00          $-10,500.00  Sobregasto  "
      ]
     },
     "metadata": {},
     "output_type": "display_data"
    }
   ],
   "source": [
    "import plotly.express as px\n",
    "\n",
    "# 1. Reconstruir conteo_estado desde df_soft ———\n",
    "conteo_estado = (\n",
    "    df_soft[\"Estado\"]\n",
    "    .value_counts()\n",
    "    .rename_axis(\"Estado\")\n",
    "    .reset_index(name=\"Cantidad\")\n",
    ")\n",
    "\n",
    "# 2. Gráfico de pastel de estados en SOFT ———\n",
    "fig = px.pie(\n",
    "    conteo_estado,\n",
    "    names=\"Estado\",\n",
    "    values=\"Cantidad\",\n",
    "    title=\"Distribución de Cuentas Detalladas en SOFT\",\n",
    "    hole=0.4,\n",
    "    color=\"Estado\",\n",
    "    color_discrete_map={\n",
    "        \"Sobregasto\": \"#D62728\",\n",
    "        \"Ahorro\":     \"#2CA02C\",\n",
    "        \"Neutral\":    \"#7F7F7F\"\n",
    "    }\n",
    ")\n",
    "\n",
    "# 3. Etiquetas y hover\n",
    "fig.update_traces(\n",
    "    textinfo=\"percent+label\",\n",
    "    hovertemplate=\"<b>%{label}</b><br>Porcentaje: %{percent:.2%}<br>Cuentas: %{value}\"\n",
    ")\n",
    "\n",
    "fig.show()\n",
    "\n",
    "\n",
    "# 4. Tabla detallada de SOFT ———\n",
    "columnas = [\n",
    "    \"ACCT\", \"Etiqueta\", \"COST TO DATE\", \"COMMITMENTS\", \"TOTAL COSTO\",\n",
    "    \"BUDGET\", \"DIFERENCIA vs BUDGET\", \"Estado\"\n",
    "]\n",
    "\n",
    "tabla_detalle_soft = (\n",
    "    df_soft[columnas]\n",
    "    .copy()\n",
    "    .sort_values(by=[\"Estado\", \"DIFERENCIA vs BUDGET\"])\n",
    ")\n",
    "\n",
    "# 5. Formatear montos sin notación exponencial\n",
    "for col in [\"COST TO DATE\", \"COMMITMENTS\", \"TOTAL COSTO\", \"BUDGET\", \"DIFERENCIA vs BUDGET\"]:\n",
    "    tabla_detalle_soft[col] = tabla_detalle_soft[col].map(lambda x: f\"${x:,.2f}\")\n",
    "\n",
    "display(tabla_detalle_soft)\n"
   ]
  },
  {
   "cell_type": "markdown",
   "id": "0ed7907e",
   "metadata": {},
   "source": [
    "###  Visualización del Balance Real entre Ahorros y Sobregastos\n",
    "\n",
    "En este análisis se calcula el balance neto por etapa, combinando los ahorros y los sobregastos.  \n",
    "El resultado permite observar en qué fases del proyecto se logró un equilibrio positivo (ahorro neto) o negativo (sobregasto neto).\n"
   ]
  },
  {
   "cell_type": "code",
   "execution_count": 12,
   "id": "dcc5cbac",
   "metadata": {},
   "outputs": [
    {
     "name": "stdout",
     "output_type": "stream",
     "text": [
      "Resumen de Ahorros vs Sobregastos por Etapa:\n"
     ]
    },
    {
     "data": {
      "text/html": [
       "<div>\n",
       "<style scoped>\n",
       "    .dataframe tbody tr th:only-of-type {\n",
       "        vertical-align: middle;\n",
       "    }\n",
       "\n",
       "    .dataframe tbody tr th {\n",
       "        vertical-align: top;\n",
       "    }\n",
       "\n",
       "    .dataframe thead th {\n",
       "        text-align: right;\n",
       "    }\n",
       "</style>\n",
       "<table border=\"1\" class=\"dataframe\">\n",
       "  <thead>\n",
       "    <tr style=\"text-align: right;\">\n",
       "      <th></th>\n",
       "      <th>Ahorros Totales</th>\n",
       "      <th>Sobregastos Totales</th>\n",
       "      <th>Balance Neto</th>\n",
       "    </tr>\n",
       "    <tr>\n",
       "      <th>Etapa Normalizada</th>\n",
       "      <th></th>\n",
       "      <th></th>\n",
       "      <th></th>\n",
       "    </tr>\n",
       "  </thead>\n",
       "  <tbody>\n",
       "    <tr>\n",
       "      <th>SHOOT</th>\n",
       "      <td>$13,038,734.79</td>\n",
       "      <td>$-14,388,276.07</td>\n",
       "      <td>$-1,349,541.28</td>\n",
       "    </tr>\n",
       "    <tr>\n",
       "      <th>PREP</th>\n",
       "      <td>$997,453.76</td>\n",
       "      <td>$-1,056,115.76</td>\n",
       "      <td>$-58,662.00</td>\n",
       "    </tr>\n",
       "    <tr>\n",
       "      <th>SOFT</th>\n",
       "      <td>$0.00</td>\n",
       "      <td>$-26,250.00</td>\n",
       "      <td>$-26,250.00</td>\n",
       "    </tr>\n",
       "    <tr>\n",
       "      <th>DEVELOPMENT</th>\n",
       "      <td>$5,460.01</td>\n",
       "      <td>$-0.09</td>\n",
       "      <td>$5,459.92</td>\n",
       "    </tr>\n",
       "    <tr>\n",
       "      <th>WRAP</th>\n",
       "      <td>$651,867.85</td>\n",
       "      <td>$-372,008.90</td>\n",
       "      <td>$279,858.95</td>\n",
       "    </tr>\n",
       "    <tr>\n",
       "      <th>POST</th>\n",
       "      <td>$1,744,465.53</td>\n",
       "      <td>$-943,044.54</td>\n",
       "      <td>$801,420.99</td>\n",
       "    </tr>\n",
       "  </tbody>\n",
       "</table>\n",
       "</div>"
      ],
      "text/plain": [
       "                  Ahorros Totales Sobregastos Totales    Balance Neto\n",
       "Etapa Normalizada                                                    \n",
       "SHOOT              $13,038,734.79     $-14,388,276.07  $-1,349,541.28\n",
       "PREP                  $997,453.76      $-1,056,115.76     $-58,662.00\n",
       "SOFT                        $0.00         $-26,250.00     $-26,250.00\n",
       "DEVELOPMENT             $5,460.01              $-0.09       $5,459.92\n",
       "WRAP                  $651,867.85        $-372,008.90     $279,858.95\n",
       "POST                $1,744,465.53        $-943,044.54     $801,420.99"
      ]
     },
     "metadata": {},
     "output_type": "display_data"
    }
   ],
   "source": [
    "# ==================== RESUMEN DE AHORROS Y SOBREGASTOS POR ETAPA ====================\n",
    "\n",
    "# 1. Filtrar cuentas con ahorro (>0) y sobregasto (<0), y agrupar por etapa\n",
    "ahorros = (\n",
    "    df_detalle[df_detalle[\"DIFERENCIA vs BUDGET\"] > 0]\n",
    "    .groupby(\"Etapa Normalizada\")[\"DIFERENCIA vs BUDGET\"]\n",
    "    .sum()\n",
    ")\n",
    "sobregastos = (\n",
    "    df_detalle[df_detalle[\"DIFERENCIA vs BUDGET\"] < 0]\n",
    "    .groupby(\"Etapa Normalizada\")[\"DIFERENCIA vs BUDGET\"]\n",
    "    .sum()\n",
    ")\n",
    "\n",
    "# 2. Combinar resultados en un solo DataFrame\n",
    "resumen_balance = pd.DataFrame({\n",
    "    \"Ahorros Totales\": ahorros,\n",
    "    \"Sobregastos Totales\": sobregastos\n",
    "}).fillna(0)\n",
    "\n",
    "# 3. Calcular el balance neto (ahorros + sobregastos)\n",
    "resumen_balance[\"Balance Neto\"] = (\n",
    "    resumen_balance[\"Ahorros Totales\"] + resumen_balance[\"Sobregastos Totales\"]\n",
    ")\n",
    "\n",
    "# 4. Ordenar etapas por balance neto ascendente (mayor sobregasto primero)\n",
    "resumen_balance = resumen_balance.sort_values(by=\"Balance Neto\")\n",
    "\n",
    "# 5. Formatear columnas como montos en pesos\n",
    "for col in [\"Ahorros Totales\", \"Sobregastos Totales\", \"Balance Neto\"]:\n",
    "    resumen_balance[col] = resumen_balance[col].map(lambda x: f\"${x:,.2f}\")\n",
    "\n",
    "# 6. Mostrar tabla final\n",
    "print(\"Resumen de Ahorros vs Sobregastos por Etapa:\")\n",
    "display(resumen_balance)\n"
   ]
  },
  {
   "cell_type": "code",
   "execution_count": 19,
   "id": "924939c0",
   "metadata": {},
   "outputs": [
    {
     "data": {
      "application/vnd.plotly.v1+json": {
       "config": {
        "plotlyServerURL": "https://plot.ly"
       },
       "data": [
        {
         "hovertemplate": "<b>%{x}</b><br>Balance Neto: $%{y:,.2f}<extra></extra>",
         "marker": {
          "color": [
           "#D62728",
           "#D62728",
           "#D62728",
           "#2CA02C",
           "#2CA02C",
           "#2CA02C"
          ]
         },
         "text": [
          "$-1,349,541.28",
          "$-58,662.00",
          "$-26,250.00",
          "$5,459.92",
          "$279,858.95",
          "$801,420.99"
         ],
         "textposition": "outside",
         "type": "bar",
         "x": [
          "SHOOT",
          "PREP",
          "SOFT",
          "DEVELOPMENT",
          "WRAP",
          "POST"
         ],
         "y": {
          "bdata": "exSuR6WXNMEAAAAAwKTswAAAAACAotnAUrgehetTtUDNzMzMyxQRQa5H4foZdShB",
          "dtype": "f8"
         }
        }
       ],
       "layout": {
        "margin": {
         "b": 150
        },
        "plot_bgcolor": "white",
        "showlegend": false,
        "template": {
         "data": {
          "bar": [
           {
            "error_x": {
             "color": "#2a3f5f"
            },
            "error_y": {
             "color": "#2a3f5f"
            },
            "marker": {
             "line": {
              "color": "#E5ECF6",
              "width": 0.5
             },
             "pattern": {
              "fillmode": "overlay",
              "size": 10,
              "solidity": 0.2
             }
            },
            "type": "bar"
           }
          ],
          "barpolar": [
           {
            "marker": {
             "line": {
              "color": "#E5ECF6",
              "width": 0.5
             },
             "pattern": {
              "fillmode": "overlay",
              "size": 10,
              "solidity": 0.2
             }
            },
            "type": "barpolar"
           }
          ],
          "carpet": [
           {
            "aaxis": {
             "endlinecolor": "#2a3f5f",
             "gridcolor": "white",
             "linecolor": "white",
             "minorgridcolor": "white",
             "startlinecolor": "#2a3f5f"
            },
            "baxis": {
             "endlinecolor": "#2a3f5f",
             "gridcolor": "white",
             "linecolor": "white",
             "minorgridcolor": "white",
             "startlinecolor": "#2a3f5f"
            },
            "type": "carpet"
           }
          ],
          "choropleth": [
           {
            "colorbar": {
             "outlinewidth": 0,
             "ticks": ""
            },
            "type": "choropleth"
           }
          ],
          "contour": [
           {
            "colorbar": {
             "outlinewidth": 0,
             "ticks": ""
            },
            "colorscale": [
             [
              0,
              "#0d0887"
             ],
             [
              0.1111111111111111,
              "#46039f"
             ],
             [
              0.2222222222222222,
              "#7201a8"
             ],
             [
              0.3333333333333333,
              "#9c179e"
             ],
             [
              0.4444444444444444,
              "#bd3786"
             ],
             [
              0.5555555555555556,
              "#d8576b"
             ],
             [
              0.6666666666666666,
              "#ed7953"
             ],
             [
              0.7777777777777778,
              "#fb9f3a"
             ],
             [
              0.8888888888888888,
              "#fdca26"
             ],
             [
              1,
              "#f0f921"
             ]
            ],
            "type": "contour"
           }
          ],
          "contourcarpet": [
           {
            "colorbar": {
             "outlinewidth": 0,
             "ticks": ""
            },
            "type": "contourcarpet"
           }
          ],
          "heatmap": [
           {
            "colorbar": {
             "outlinewidth": 0,
             "ticks": ""
            },
            "colorscale": [
             [
              0,
              "#0d0887"
             ],
             [
              0.1111111111111111,
              "#46039f"
             ],
             [
              0.2222222222222222,
              "#7201a8"
             ],
             [
              0.3333333333333333,
              "#9c179e"
             ],
             [
              0.4444444444444444,
              "#bd3786"
             ],
             [
              0.5555555555555556,
              "#d8576b"
             ],
             [
              0.6666666666666666,
              "#ed7953"
             ],
             [
              0.7777777777777778,
              "#fb9f3a"
             ],
             [
              0.8888888888888888,
              "#fdca26"
             ],
             [
              1,
              "#f0f921"
             ]
            ],
            "type": "heatmap"
           }
          ],
          "histogram": [
           {
            "marker": {
             "pattern": {
              "fillmode": "overlay",
              "size": 10,
              "solidity": 0.2
             }
            },
            "type": "histogram"
           }
          ],
          "histogram2d": [
           {
            "colorbar": {
             "outlinewidth": 0,
             "ticks": ""
            },
            "colorscale": [
             [
              0,
              "#0d0887"
             ],
             [
              0.1111111111111111,
              "#46039f"
             ],
             [
              0.2222222222222222,
              "#7201a8"
             ],
             [
              0.3333333333333333,
              "#9c179e"
             ],
             [
              0.4444444444444444,
              "#bd3786"
             ],
             [
              0.5555555555555556,
              "#d8576b"
             ],
             [
              0.6666666666666666,
              "#ed7953"
             ],
             [
              0.7777777777777778,
              "#fb9f3a"
             ],
             [
              0.8888888888888888,
              "#fdca26"
             ],
             [
              1,
              "#f0f921"
             ]
            ],
            "type": "histogram2d"
           }
          ],
          "histogram2dcontour": [
           {
            "colorbar": {
             "outlinewidth": 0,
             "ticks": ""
            },
            "colorscale": [
             [
              0,
              "#0d0887"
             ],
             [
              0.1111111111111111,
              "#46039f"
             ],
             [
              0.2222222222222222,
              "#7201a8"
             ],
             [
              0.3333333333333333,
              "#9c179e"
             ],
             [
              0.4444444444444444,
              "#bd3786"
             ],
             [
              0.5555555555555556,
              "#d8576b"
             ],
             [
              0.6666666666666666,
              "#ed7953"
             ],
             [
              0.7777777777777778,
              "#fb9f3a"
             ],
             [
              0.8888888888888888,
              "#fdca26"
             ],
             [
              1,
              "#f0f921"
             ]
            ],
            "type": "histogram2dcontour"
           }
          ],
          "mesh3d": [
           {
            "colorbar": {
             "outlinewidth": 0,
             "ticks": ""
            },
            "type": "mesh3d"
           }
          ],
          "parcoords": [
           {
            "line": {
             "colorbar": {
              "outlinewidth": 0,
              "ticks": ""
             }
            },
            "type": "parcoords"
           }
          ],
          "pie": [
           {
            "automargin": true,
            "type": "pie"
           }
          ],
          "scatter": [
           {
            "fillpattern": {
             "fillmode": "overlay",
             "size": 10,
             "solidity": 0.2
            },
            "type": "scatter"
           }
          ],
          "scatter3d": [
           {
            "line": {
             "colorbar": {
              "outlinewidth": 0,
              "ticks": ""
             }
            },
            "marker": {
             "colorbar": {
              "outlinewidth": 0,
              "ticks": ""
             }
            },
            "type": "scatter3d"
           }
          ],
          "scattercarpet": [
           {
            "marker": {
             "colorbar": {
              "outlinewidth": 0,
              "ticks": ""
             }
            },
            "type": "scattercarpet"
           }
          ],
          "scattergeo": [
           {
            "marker": {
             "colorbar": {
              "outlinewidth": 0,
              "ticks": ""
             }
            },
            "type": "scattergeo"
           }
          ],
          "scattergl": [
           {
            "marker": {
             "colorbar": {
              "outlinewidth": 0,
              "ticks": ""
             }
            },
            "type": "scattergl"
           }
          ],
          "scattermap": [
           {
            "marker": {
             "colorbar": {
              "outlinewidth": 0,
              "ticks": ""
             }
            },
            "type": "scattermap"
           }
          ],
          "scattermapbox": [
           {
            "marker": {
             "colorbar": {
              "outlinewidth": 0,
              "ticks": ""
             }
            },
            "type": "scattermapbox"
           }
          ],
          "scatterpolar": [
           {
            "marker": {
             "colorbar": {
              "outlinewidth": 0,
              "ticks": ""
             }
            },
            "type": "scatterpolar"
           }
          ],
          "scatterpolargl": [
           {
            "marker": {
             "colorbar": {
              "outlinewidth": 0,
              "ticks": ""
             }
            },
            "type": "scatterpolargl"
           }
          ],
          "scatterternary": [
           {
            "marker": {
             "colorbar": {
              "outlinewidth": 0,
              "ticks": ""
             }
            },
            "type": "scatterternary"
           }
          ],
          "surface": [
           {
            "colorbar": {
             "outlinewidth": 0,
             "ticks": ""
            },
            "colorscale": [
             [
              0,
              "#0d0887"
             ],
             [
              0.1111111111111111,
              "#46039f"
             ],
             [
              0.2222222222222222,
              "#7201a8"
             ],
             [
              0.3333333333333333,
              "#9c179e"
             ],
             [
              0.4444444444444444,
              "#bd3786"
             ],
             [
              0.5555555555555556,
              "#d8576b"
             ],
             [
              0.6666666666666666,
              "#ed7953"
             ],
             [
              0.7777777777777778,
              "#fb9f3a"
             ],
             [
              0.8888888888888888,
              "#fdca26"
             ],
             [
              1,
              "#f0f921"
             ]
            ],
            "type": "surface"
           }
          ],
          "table": [
           {
            "cells": {
             "fill": {
              "color": "#EBF0F8"
             },
             "line": {
              "color": "white"
             }
            },
            "header": {
             "fill": {
              "color": "#C8D4E3"
             },
             "line": {
              "color": "white"
             }
            },
            "type": "table"
           }
          ]
         },
         "layout": {
          "annotationdefaults": {
           "arrowcolor": "#2a3f5f",
           "arrowhead": 0,
           "arrowwidth": 1
          },
          "autotypenumbers": "strict",
          "coloraxis": {
           "colorbar": {
            "outlinewidth": 0,
            "ticks": ""
           }
          },
          "colorscale": {
           "diverging": [
            [
             0,
             "#8e0152"
            ],
            [
             0.1,
             "#c51b7d"
            ],
            [
             0.2,
             "#de77ae"
            ],
            [
             0.3,
             "#f1b6da"
            ],
            [
             0.4,
             "#fde0ef"
            ],
            [
             0.5,
             "#f7f7f7"
            ],
            [
             0.6,
             "#e6f5d0"
            ],
            [
             0.7,
             "#b8e186"
            ],
            [
             0.8,
             "#7fbc41"
            ],
            [
             0.9,
             "#4d9221"
            ],
            [
             1,
             "#276419"
            ]
           ],
           "sequential": [
            [
             0,
             "#0d0887"
            ],
            [
             0.1111111111111111,
             "#46039f"
            ],
            [
             0.2222222222222222,
             "#7201a8"
            ],
            [
             0.3333333333333333,
             "#9c179e"
            ],
            [
             0.4444444444444444,
             "#bd3786"
            ],
            [
             0.5555555555555556,
             "#d8576b"
            ],
            [
             0.6666666666666666,
             "#ed7953"
            ],
            [
             0.7777777777777778,
             "#fb9f3a"
            ],
            [
             0.8888888888888888,
             "#fdca26"
            ],
            [
             1,
             "#f0f921"
            ]
           ],
           "sequentialminus": [
            [
             0,
             "#0d0887"
            ],
            [
             0.1111111111111111,
             "#46039f"
            ],
            [
             0.2222222222222222,
             "#7201a8"
            ],
            [
             0.3333333333333333,
             "#9c179e"
            ],
            [
             0.4444444444444444,
             "#bd3786"
            ],
            [
             0.5555555555555556,
             "#d8576b"
            ],
            [
             0.6666666666666666,
             "#ed7953"
            ],
            [
             0.7777777777777778,
             "#fb9f3a"
            ],
            [
             0.8888888888888888,
             "#fdca26"
            ],
            [
             1,
             "#f0f921"
            ]
           ]
          },
          "colorway": [
           "#636efa",
           "#EF553B",
           "#00cc96",
           "#ab63fa",
           "#FFA15A",
           "#19d3f3",
           "#FF6692",
           "#B6E880",
           "#FF97FF",
           "#FECB52"
          ],
          "font": {
           "color": "#2a3f5f"
          },
          "geo": {
           "bgcolor": "white",
           "lakecolor": "white",
           "landcolor": "#E5ECF6",
           "showlakes": true,
           "showland": true,
           "subunitcolor": "white"
          },
          "hoverlabel": {
           "align": "left"
          },
          "hovermode": "closest",
          "mapbox": {
           "style": "light"
          },
          "paper_bgcolor": "white",
          "plot_bgcolor": "#E5ECF6",
          "polar": {
           "angularaxis": {
            "gridcolor": "white",
            "linecolor": "white",
            "ticks": ""
           },
           "bgcolor": "#E5ECF6",
           "radialaxis": {
            "gridcolor": "white",
            "linecolor": "white",
            "ticks": ""
           }
          },
          "scene": {
           "xaxis": {
            "backgroundcolor": "#E5ECF6",
            "gridcolor": "white",
            "gridwidth": 2,
            "linecolor": "white",
            "showbackground": true,
            "ticks": "",
            "zerolinecolor": "white"
           },
           "yaxis": {
            "backgroundcolor": "#E5ECF6",
            "gridcolor": "white",
            "gridwidth": 2,
            "linecolor": "white",
            "showbackground": true,
            "ticks": "",
            "zerolinecolor": "white"
           },
           "zaxis": {
            "backgroundcolor": "#E5ECF6",
            "gridcolor": "white",
            "gridwidth": 2,
            "linecolor": "white",
            "showbackground": true,
            "ticks": "",
            "zerolinecolor": "white"
           }
          },
          "shapedefaults": {
           "line": {
            "color": "#2a3f5f"
           }
          },
          "ternary": {
           "aaxis": {
            "gridcolor": "white",
            "linecolor": "white",
            "ticks": ""
           },
           "baxis": {
            "gridcolor": "white",
            "linecolor": "white",
            "ticks": ""
           },
           "bgcolor": "#E5ECF6",
           "caxis": {
            "gridcolor": "white",
            "linecolor": "white",
            "ticks": ""
           }
          },
          "title": {
           "x": 0.05
          },
          "xaxis": {
           "automargin": true,
           "gridcolor": "white",
           "linecolor": "white",
           "ticks": "",
           "title": {
            "standoff": 15
           },
           "zerolinecolor": "white",
           "zerolinewidth": 2
          },
          "yaxis": {
           "automargin": true,
           "gridcolor": "white",
           "linecolor": "white",
           "ticks": "",
           "title": {
            "standoff": 15
           },
           "zerolinecolor": "white",
           "zerolinewidth": 2
          }
         }
        },
        "title": {
         "text": "Resultado Final por Etapa del Proyecto (Ahorro o Sobregasto)"
        },
        "uniformtext": {
         "minsize": 8,
         "mode": "hide"
        },
        "xaxis": {
         "title": {
          "text": "Etapa del Proyecto"
         }
        },
        "yaxis": {
         "title": {
          "text": "Resultado final"
         }
        }
       }
      }
     },
     "metadata": {},
     "output_type": "display_data"
    }
   ],
   "source": [
    "# ==================== GRÁFICO DEL BALANCE NETO POR ETAPA ====================\n",
    "\n",
    "# 1. Copiar DataFrame resumen y preparar datos\n",
    "bal = resumen_balance.copy()\n",
    "\n",
    "# 2. Convertir columna 'Balance Neto' a numérico si aún está en formato string con símbolos\n",
    "if bal['Balance Neto'].dtype == object:\n",
    "    bal['Balance Neto num'] = (\n",
    "        bal['Balance Neto']\n",
    "        .str.replace(r'[\\$,]', '', regex=True)\n",
    "        .astype(float)\n",
    "    )\n",
    "else:\n",
    "    bal['Balance Neto num'] = bal['Balance Neto']\n",
    "\n",
    "# 3. Resetear índice para convertir la etapa en columna explícita\n",
    "bal_reset = bal.reset_index()\n",
    "etapa_col = 'Etapa' if 'Etapa' in bal_reset.columns else bal_reset.columns[0]\n",
    "\n",
    "# 4. Extraer valores para el gráfico\n",
    "etapas   = bal_reset[etapa_col]\n",
    "balances = bal_reset['Balance Neto num']\n",
    "\n",
    "# 5. Definir colores: verde para ahorro neto, rojo para sobregasto neto\n",
    "colores = ['#2CA02C' if v >= 0 else '#D62728' for v in balances]\n",
    "\n",
    "# 6. Crear gráfico de barras verticales\n",
    "fig = go.Figure(go.Bar(\n",
    "    x=etapas,\n",
    "    y=balances,\n",
    "    marker_color=colores,\n",
    "    text=[f\"${v:,.2f}\" for v in balances],\n",
    "    textposition='outside',\n",
    "    hovertemplate='<b>%{x}</b><br>Balance Neto: $%{y:,.2f}<extra></extra>'\n",
    "))\n",
    "\n",
    "# 7. Ajustes estéticos del gráfico\n",
    "fig.update_layout(\n",
    "    title='Resultado Final por Etapa del Proyecto (Ahorro o Sobregasto)',\n",
    "    xaxis_title='Etapa del Proyecto',\n",
    "    yaxis_title='Resultado final',\n",
    "    plot_bgcolor='white',\n",
    "    showlegend=False,\n",
    "    uniformtext_minsize=8,\n",
    "    uniformtext_mode='hide',\n",
    "    margin=dict(b=150)\n",
    ")\n",
    "\n",
    "# 8. Mostrar gráfico\n",
    "fig.show()\n"
   ]
  },
  {
   "cell_type": "markdown",
   "id": "4a111f0e",
   "metadata": {},
   "source": [
    "### Análisis\n",
    "Cómo SOFT no apareció en la gráfica de ahorros, se pensó que podía ser por el tipo de\n",
    "cuentas que tiene. Para checar esto, se hizo un gráfico que muestra cuántas cuentas tenía cada\n",
    "tipo (como \"Below the Line\", \"Above the Line\", etc.) y qué resultado tuvieron (ahorro,\n",
    "sobregasto o neutral).\n",
    "### Hallazgos\n",
    "● Casi todas las cuentas en SOFT eran del tipo Below the Line.\n",
    "\n",
    "● Ninguna de esas cuentas generó ahorro; la mayoría fueron neutrales o tuvieron\n",
    "sobregasto.\n",
    "\n",
    "### Conclusión\n",
    "La hipótesis se confirma. Parece que el hecho de que SOFT esté compuesta casi en su\n",
    "totalidad por un solo tipo de cuenta (que no ahorra) explica por qué no hubo ahorros en esa\n",
    "etapa.\n",
    "\n"
   ]
  },
  {
   "cell_type": "markdown",
   "id": "fd6bc26e",
   "metadata": {},
   "source": [
    "## Hipotesis 3"
   ]
  },
  {
   "cell_type": "code",
   "execution_count": null,
   "id": "9b366ab3",
   "metadata": {},
   "outputs": [
    {
     "name": "stdout",
     "output_type": "stream",
     "text": [
      "Index(['TIPO', 'REF', 'Etapa', 'Etapa Normalizada', 'Sección', 'ACCT',\n",
      "       'COST TO DATE', 'COMMITMENTS', 'TOTAL CTD',\n",
      "       'ESTIMATE TO COMPLETE (ETC)', 'ESTIMATE FINAL COST (EFC)', 'BUDGET',\n",
      "       'VARIANCE $', 'INDEX', 'Cuenta General', 'Cuenta Madre', 'Es Detalle',\n",
      "       'Nivel', 'Etiqueta', 'TOTAL COSTO', 'DIFERENCIA vs BUDGET', 'Estado'],\n",
      "      dtype='object')\n"
     ]
    }
   ],
   "source": [
    "print(df_soft.columns)"
   ]
  },
  {
   "cell_type": "markdown",
   "id": "c38c00b8",
   "metadata": {},
   "source": [
    "### Analisis en Soft"
   ]
  },
  {
   "cell_type": "code",
   "execution_count": 21,
   "id": "4794ed6c",
   "metadata": {},
   "outputs": [
    {
     "data": {
      "text/html": [
       "<div>\n",
       "<style scoped>\n",
       "    .dataframe tbody tr th:only-of-type {\n",
       "        vertical-align: middle;\n",
       "    }\n",
       "\n",
       "    .dataframe tbody tr th {\n",
       "        vertical-align: top;\n",
       "    }\n",
       "\n",
       "    .dataframe thead th {\n",
       "        text-align: right;\n",
       "    }\n",
       "</style>\n",
       "<table border=\"1\" class=\"dataframe\">\n",
       "  <thead>\n",
       "    <tr style=\"text-align: right;\">\n",
       "      <th>Estado</th>\n",
       "      <th>TIPO</th>\n",
       "      <th>Neutral</th>\n",
       "      <th>Sobregasto</th>\n",
       "    </tr>\n",
       "  </thead>\n",
       "  <tbody>\n",
       "    <tr>\n",
       "      <th>0</th>\n",
       "      <td>ABOVE THE LINE</td>\n",
       "      <td>3</td>\n",
       "      <td>0</td>\n",
       "    </tr>\n",
       "    <tr>\n",
       "      <th>1</th>\n",
       "      <td>BELOW THE LINE</td>\n",
       "      <td>10</td>\n",
       "      <td>2</td>\n",
       "    </tr>\n",
       "    <tr>\n",
       "      <th>2</th>\n",
       "      <td>OTHERS</td>\n",
       "      <td>1</td>\n",
       "      <td>0</td>\n",
       "    </tr>\n",
       "  </tbody>\n",
       "</table>\n",
       "</div>"
      ],
      "text/plain": [
       "Estado            TIPO  Neutral  Sobregasto\n",
       "0       ABOVE THE LINE        3           0\n",
       "1       BELOW THE LINE       10           2\n",
       "2               OTHERS        1           0"
      ]
     },
     "metadata": {},
     "output_type": "display_data"
    }
   ],
   "source": [
    "# 1. Filtrar cuentas de la etapa SOFT con TIPO no nulo\n",
    "df_soft_filtrado = df_soft[df_soft['TIPO'].notna()].copy()\n",
    "df_soft_filtrado['TIPO'] = df_soft_filtrado['TIPO'].astype(str).str.strip().str.upper()\n",
    "\n",
    "# 2. Recalcular la columna Estado según la diferencia vs budget\n",
    "def clasificar_diferencia(valor):\n",
    "    if np.isclose(valor, 0, atol=1):\n",
    "        return 'Neutral'\n",
    "    elif valor < 0:\n",
    "        return 'Sobregasto'\n",
    "    else:\n",
    "        return 'Ahorro'\n",
    "\n",
    "df_soft_filtrado['Estado'] = df_soft_filtrado['DIFERENCIA vs BUDGET'].apply(clasificar_diferencia)\n",
    "\n",
    "# 3. Agrupar por TIPO y Estado\n",
    "conteo_tipo_estado_soft = df_soft_filtrado.groupby(['TIPO', 'Estado']).size().unstack(fill_value=0).reset_index()\n",
    "\n",
    "# 4. Mostrar resultado\n",
    "display(conteo_tipo_estado_soft)\n"
   ]
  },
  {
   "cell_type": "code",
   "execution_count": 26,
   "id": "202887c7",
   "metadata": {},
   "outputs": [
    {
     "data": {
      "application/vnd.plotly.v1+json": {
       "config": {
        "plotlyServerURL": "https://plot.ly"
       },
       "data": [
        {
         "hovertemplate": "Estado=Ahorro<br>TIPO=%{x}<br>Cantidad=%{text}<extra></extra>",
         "legendgroup": "Ahorro",
         "marker": {
          "color": "#2CA02C",
          "pattern": {
           "shape": ""
          }
         },
         "name": "Ahorro",
         "orientation": "v",
         "showlegend": true,
         "text": {
          "bdata": "AAAAAAAAAAAAAAAAAAAAAAAAAAAAAAAA",
          "dtype": "f8"
         },
         "textposition": "auto",
         "type": "bar",
         "x": [
          "ABOVE THE LINE",
          "BELOW THE LINE",
          "OTHERS"
         ],
         "xaxis": "x",
         "y": {
          "bdata": "AAAA",
          "dtype": "i1"
         },
         "yaxis": "y"
        },
        {
         "hovertemplate": "Estado=Neutral<br>TIPO=%{x}<br>Cantidad=%{text}<extra></extra>",
         "legendgroup": "Neutral",
         "marker": {
          "color": "#7F7F7F",
          "pattern": {
           "shape": ""
          }
         },
         "name": "Neutral",
         "orientation": "v",
         "showlegend": true,
         "text": {
          "bdata": "AAAAAAAACEAAAAAAAAAkQAAAAAAAAPA/",
          "dtype": "f8"
         },
         "textposition": "auto",
         "type": "bar",
         "x": [
          "ABOVE THE LINE",
          "BELOW THE LINE",
          "OTHERS"
         ],
         "xaxis": "x",
         "y": {
          "bdata": "AwoB",
          "dtype": "i1"
         },
         "yaxis": "y"
        },
        {
         "hovertemplate": "Estado=Sobregasto<br>TIPO=%{x}<br>Cantidad=%{text}<extra></extra>",
         "legendgroup": "Sobregasto",
         "marker": {
          "color": "#D62728",
          "pattern": {
           "shape": ""
          }
         },
         "name": "Sobregasto",
         "orientation": "v",
         "showlegend": true,
         "text": {
          "bdata": "AAAAAAAAAAAAAAAAAAAAQAAAAAAAAAAA",
          "dtype": "f8"
         },
         "textposition": "auto",
         "type": "bar",
         "x": [
          "ABOVE THE LINE",
          "BELOW THE LINE",
          "OTHERS"
         ],
         "xaxis": "x",
         "y": {
          "bdata": "AAIA",
          "dtype": "i1"
         },
         "yaxis": "y"
        }
       ],
       "layout": {
        "barmode": "stack",
        "legend": {
         "title": {
          "text": "Resultado"
         },
         "tracegroupgap": 0
        },
        "plot_bgcolor": "white",
        "template": {
         "data": {
          "bar": [
           {
            "error_x": {
             "color": "#2a3f5f"
            },
            "error_y": {
             "color": "#2a3f5f"
            },
            "marker": {
             "line": {
              "color": "#E5ECF6",
              "width": 0.5
             },
             "pattern": {
              "fillmode": "overlay",
              "size": 10,
              "solidity": 0.2
             }
            },
            "type": "bar"
           }
          ],
          "barpolar": [
           {
            "marker": {
             "line": {
              "color": "#E5ECF6",
              "width": 0.5
             },
             "pattern": {
              "fillmode": "overlay",
              "size": 10,
              "solidity": 0.2
             }
            },
            "type": "barpolar"
           }
          ],
          "carpet": [
           {
            "aaxis": {
             "endlinecolor": "#2a3f5f",
             "gridcolor": "white",
             "linecolor": "white",
             "minorgridcolor": "white",
             "startlinecolor": "#2a3f5f"
            },
            "baxis": {
             "endlinecolor": "#2a3f5f",
             "gridcolor": "white",
             "linecolor": "white",
             "minorgridcolor": "white",
             "startlinecolor": "#2a3f5f"
            },
            "type": "carpet"
           }
          ],
          "choropleth": [
           {
            "colorbar": {
             "outlinewidth": 0,
             "ticks": ""
            },
            "type": "choropleth"
           }
          ],
          "contour": [
           {
            "colorbar": {
             "outlinewidth": 0,
             "ticks": ""
            },
            "colorscale": [
             [
              0,
              "#0d0887"
             ],
             [
              0.1111111111111111,
              "#46039f"
             ],
             [
              0.2222222222222222,
              "#7201a8"
             ],
             [
              0.3333333333333333,
              "#9c179e"
             ],
             [
              0.4444444444444444,
              "#bd3786"
             ],
             [
              0.5555555555555556,
              "#d8576b"
             ],
             [
              0.6666666666666666,
              "#ed7953"
             ],
             [
              0.7777777777777778,
              "#fb9f3a"
             ],
             [
              0.8888888888888888,
              "#fdca26"
             ],
             [
              1,
              "#f0f921"
             ]
            ],
            "type": "contour"
           }
          ],
          "contourcarpet": [
           {
            "colorbar": {
             "outlinewidth": 0,
             "ticks": ""
            },
            "type": "contourcarpet"
           }
          ],
          "heatmap": [
           {
            "colorbar": {
             "outlinewidth": 0,
             "ticks": ""
            },
            "colorscale": [
             [
              0,
              "#0d0887"
             ],
             [
              0.1111111111111111,
              "#46039f"
             ],
             [
              0.2222222222222222,
              "#7201a8"
             ],
             [
              0.3333333333333333,
              "#9c179e"
             ],
             [
              0.4444444444444444,
              "#bd3786"
             ],
             [
              0.5555555555555556,
              "#d8576b"
             ],
             [
              0.6666666666666666,
              "#ed7953"
             ],
             [
              0.7777777777777778,
              "#fb9f3a"
             ],
             [
              0.8888888888888888,
              "#fdca26"
             ],
             [
              1,
              "#f0f921"
             ]
            ],
            "type": "heatmap"
           }
          ],
          "histogram": [
           {
            "marker": {
             "pattern": {
              "fillmode": "overlay",
              "size": 10,
              "solidity": 0.2
             }
            },
            "type": "histogram"
           }
          ],
          "histogram2d": [
           {
            "colorbar": {
             "outlinewidth": 0,
             "ticks": ""
            },
            "colorscale": [
             [
              0,
              "#0d0887"
             ],
             [
              0.1111111111111111,
              "#46039f"
             ],
             [
              0.2222222222222222,
              "#7201a8"
             ],
             [
              0.3333333333333333,
              "#9c179e"
             ],
             [
              0.4444444444444444,
              "#bd3786"
             ],
             [
              0.5555555555555556,
              "#d8576b"
             ],
             [
              0.6666666666666666,
              "#ed7953"
             ],
             [
              0.7777777777777778,
              "#fb9f3a"
             ],
             [
              0.8888888888888888,
              "#fdca26"
             ],
             [
              1,
              "#f0f921"
             ]
            ],
            "type": "histogram2d"
           }
          ],
          "histogram2dcontour": [
           {
            "colorbar": {
             "outlinewidth": 0,
             "ticks": ""
            },
            "colorscale": [
             [
              0,
              "#0d0887"
             ],
             [
              0.1111111111111111,
              "#46039f"
             ],
             [
              0.2222222222222222,
              "#7201a8"
             ],
             [
              0.3333333333333333,
              "#9c179e"
             ],
             [
              0.4444444444444444,
              "#bd3786"
             ],
             [
              0.5555555555555556,
              "#d8576b"
             ],
             [
              0.6666666666666666,
              "#ed7953"
             ],
             [
              0.7777777777777778,
              "#fb9f3a"
             ],
             [
              0.8888888888888888,
              "#fdca26"
             ],
             [
              1,
              "#f0f921"
             ]
            ],
            "type": "histogram2dcontour"
           }
          ],
          "mesh3d": [
           {
            "colorbar": {
             "outlinewidth": 0,
             "ticks": ""
            },
            "type": "mesh3d"
           }
          ],
          "parcoords": [
           {
            "line": {
             "colorbar": {
              "outlinewidth": 0,
              "ticks": ""
             }
            },
            "type": "parcoords"
           }
          ],
          "pie": [
           {
            "automargin": true,
            "type": "pie"
           }
          ],
          "scatter": [
           {
            "fillpattern": {
             "fillmode": "overlay",
             "size": 10,
             "solidity": 0.2
            },
            "type": "scatter"
           }
          ],
          "scatter3d": [
           {
            "line": {
             "colorbar": {
              "outlinewidth": 0,
              "ticks": ""
             }
            },
            "marker": {
             "colorbar": {
              "outlinewidth": 0,
              "ticks": ""
             }
            },
            "type": "scatter3d"
           }
          ],
          "scattercarpet": [
           {
            "marker": {
             "colorbar": {
              "outlinewidth": 0,
              "ticks": ""
             }
            },
            "type": "scattercarpet"
           }
          ],
          "scattergeo": [
           {
            "marker": {
             "colorbar": {
              "outlinewidth": 0,
              "ticks": ""
             }
            },
            "type": "scattergeo"
           }
          ],
          "scattergl": [
           {
            "marker": {
             "colorbar": {
              "outlinewidth": 0,
              "ticks": ""
             }
            },
            "type": "scattergl"
           }
          ],
          "scattermap": [
           {
            "marker": {
             "colorbar": {
              "outlinewidth": 0,
              "ticks": ""
             }
            },
            "type": "scattermap"
           }
          ],
          "scattermapbox": [
           {
            "marker": {
             "colorbar": {
              "outlinewidth": 0,
              "ticks": ""
             }
            },
            "type": "scattermapbox"
           }
          ],
          "scatterpolar": [
           {
            "marker": {
             "colorbar": {
              "outlinewidth": 0,
              "ticks": ""
             }
            },
            "type": "scatterpolar"
           }
          ],
          "scatterpolargl": [
           {
            "marker": {
             "colorbar": {
              "outlinewidth": 0,
              "ticks": ""
             }
            },
            "type": "scatterpolargl"
           }
          ],
          "scatterternary": [
           {
            "marker": {
             "colorbar": {
              "outlinewidth": 0,
              "ticks": ""
             }
            },
            "type": "scatterternary"
           }
          ],
          "surface": [
           {
            "colorbar": {
             "outlinewidth": 0,
             "ticks": ""
            },
            "colorscale": [
             [
              0,
              "#0d0887"
             ],
             [
              0.1111111111111111,
              "#46039f"
             ],
             [
              0.2222222222222222,
              "#7201a8"
             ],
             [
              0.3333333333333333,
              "#9c179e"
             ],
             [
              0.4444444444444444,
              "#bd3786"
             ],
             [
              0.5555555555555556,
              "#d8576b"
             ],
             [
              0.6666666666666666,
              "#ed7953"
             ],
             [
              0.7777777777777778,
              "#fb9f3a"
             ],
             [
              0.8888888888888888,
              "#fdca26"
             ],
             [
              1,
              "#f0f921"
             ]
            ],
            "type": "surface"
           }
          ],
          "table": [
           {
            "cells": {
             "fill": {
              "color": "#EBF0F8"
             },
             "line": {
              "color": "white"
             }
            },
            "header": {
             "fill": {
              "color": "#C8D4E3"
             },
             "line": {
              "color": "white"
             }
            },
            "type": "table"
           }
          ]
         },
         "layout": {
          "annotationdefaults": {
           "arrowcolor": "#2a3f5f",
           "arrowhead": 0,
           "arrowwidth": 1
          },
          "autotypenumbers": "strict",
          "coloraxis": {
           "colorbar": {
            "outlinewidth": 0,
            "ticks": ""
           }
          },
          "colorscale": {
           "diverging": [
            [
             0,
             "#8e0152"
            ],
            [
             0.1,
             "#c51b7d"
            ],
            [
             0.2,
             "#de77ae"
            ],
            [
             0.3,
             "#f1b6da"
            ],
            [
             0.4,
             "#fde0ef"
            ],
            [
             0.5,
             "#f7f7f7"
            ],
            [
             0.6,
             "#e6f5d0"
            ],
            [
             0.7,
             "#b8e186"
            ],
            [
             0.8,
             "#7fbc41"
            ],
            [
             0.9,
             "#4d9221"
            ],
            [
             1,
             "#276419"
            ]
           ],
           "sequential": [
            [
             0,
             "#0d0887"
            ],
            [
             0.1111111111111111,
             "#46039f"
            ],
            [
             0.2222222222222222,
             "#7201a8"
            ],
            [
             0.3333333333333333,
             "#9c179e"
            ],
            [
             0.4444444444444444,
             "#bd3786"
            ],
            [
             0.5555555555555556,
             "#d8576b"
            ],
            [
             0.6666666666666666,
             "#ed7953"
            ],
            [
             0.7777777777777778,
             "#fb9f3a"
            ],
            [
             0.8888888888888888,
             "#fdca26"
            ],
            [
             1,
             "#f0f921"
            ]
           ],
           "sequentialminus": [
            [
             0,
             "#0d0887"
            ],
            [
             0.1111111111111111,
             "#46039f"
            ],
            [
             0.2222222222222222,
             "#7201a8"
            ],
            [
             0.3333333333333333,
             "#9c179e"
            ],
            [
             0.4444444444444444,
             "#bd3786"
            ],
            [
             0.5555555555555556,
             "#d8576b"
            ],
            [
             0.6666666666666666,
             "#ed7953"
            ],
            [
             0.7777777777777778,
             "#fb9f3a"
            ],
            [
             0.8888888888888888,
             "#fdca26"
            ],
            [
             1,
             "#f0f921"
            ]
           ]
          },
          "colorway": [
           "#636efa",
           "#EF553B",
           "#00cc96",
           "#ab63fa",
           "#FFA15A",
           "#19d3f3",
           "#FF6692",
           "#B6E880",
           "#FF97FF",
           "#FECB52"
          ],
          "font": {
           "color": "#2a3f5f"
          },
          "geo": {
           "bgcolor": "white",
           "lakecolor": "white",
           "landcolor": "#E5ECF6",
           "showlakes": true,
           "showland": true,
           "subunitcolor": "white"
          },
          "hoverlabel": {
           "align": "left"
          },
          "hovermode": "closest",
          "mapbox": {
           "style": "light"
          },
          "paper_bgcolor": "white",
          "plot_bgcolor": "#E5ECF6",
          "polar": {
           "angularaxis": {
            "gridcolor": "white",
            "linecolor": "white",
            "ticks": ""
           },
           "bgcolor": "#E5ECF6",
           "radialaxis": {
            "gridcolor": "white",
            "linecolor": "white",
            "ticks": ""
           }
          },
          "scene": {
           "xaxis": {
            "backgroundcolor": "#E5ECF6",
            "gridcolor": "white",
            "gridwidth": 2,
            "linecolor": "white",
            "showbackground": true,
            "ticks": "",
            "zerolinecolor": "white"
           },
           "yaxis": {
            "backgroundcolor": "#E5ECF6",
            "gridcolor": "white",
            "gridwidth": 2,
            "linecolor": "white",
            "showbackground": true,
            "ticks": "",
            "zerolinecolor": "white"
           },
           "zaxis": {
            "backgroundcolor": "#E5ECF6",
            "gridcolor": "white",
            "gridwidth": 2,
            "linecolor": "white",
            "showbackground": true,
            "ticks": "",
            "zerolinecolor": "white"
           }
          },
          "shapedefaults": {
           "line": {
            "color": "#2a3f5f"
           }
          },
          "ternary": {
           "aaxis": {
            "gridcolor": "white",
            "linecolor": "white",
            "ticks": ""
           },
           "baxis": {
            "gridcolor": "white",
            "linecolor": "white",
            "ticks": ""
           },
           "bgcolor": "#E5ECF6",
           "caxis": {
            "gridcolor": "white",
            "linecolor": "white",
            "ticks": ""
           }
          },
          "title": {
           "x": 0.05
          },
          "xaxis": {
           "automargin": true,
           "gridcolor": "white",
           "linecolor": "white",
           "ticks": "",
           "title": {
            "standoff": 15
           },
           "zerolinecolor": "white",
           "zerolinewidth": 2
          },
          "yaxis": {
           "automargin": true,
           "gridcolor": "white",
           "linecolor": "white",
           "ticks": "",
           "title": {
            "standoff": 15
           },
           "zerolinecolor": "white",
           "zerolinewidth": 2
          }
         }
        },
        "title": {
         "text": "Distribución de Cuentas en la Etapa SOFT por Tipo y Resultado"
        },
        "xaxis": {
         "anchor": "y",
         "domain": [
          0,
          1
         ],
         "title": {
          "text": "Tipo de Cuenta"
         }
        },
        "yaxis": {
         "anchor": "x",
         "domain": [
          0,
          1
         ],
         "title": {
          "text": "Cantidad de Cuentas"
         }
        }
       }
      }
     },
     "metadata": {},
     "output_type": "display_data"
    }
   ],
   "source": [
    "# Asegurar que todas las categorías de 'Estado' estén presentes\n",
    "for col in ['Ahorro', 'Neutral', 'Sobregasto']:\n",
    "    if col not in conteo_tipo_estado_soft.columns:\n",
    "        conteo_tipo_estado_soft[col] = 0\n",
    "\n",
    "# Transformar el DataFrame a formato largo para graficar\n",
    "df_plot = conteo_tipo_estado_soft.melt(\n",
    "    id_vars='TIPO',\n",
    "    value_vars=['Ahorro', 'Neutral', 'Sobregasto'],  # Asegúrate que estas columnas existen\n",
    "    var_name='Estado',\n",
    "    value_name='Cantidad'\n",
    ")\n",
    "\n",
    "# Crear gráfico de barras apiladas\n",
    "fig = px.bar(\n",
    "    df_plot,\n",
    "    x='TIPO',\n",
    "    y='Cantidad',\n",
    "    color='Estado',\n",
    "    title='Distribución de Cuentas en la Etapa SOFT por Tipo y Resultado',\n",
    "    text='Cantidad',\n",
    "    color_discrete_map={\n",
    "        'Ahorro': '#2CA02C',\n",
    "        'Neutral': '#7F7F7F',\n",
    "        'Sobregasto': '#D62728'\n",
    "    }\n",
    ")\n",
    "\n",
    "fig.update_traces(textposition='auto')\n",
    "fig.update_layout(\n",
    "    xaxis_title='Tipo de Cuenta',\n",
    "    yaxis_title='Cantidad de Cuentas',\n",
    "    plot_bgcolor='white',\n",
    "    legend_title='Resultado',\n",
    "    barmode='stack'\n",
    ")\n"
   ]
  },
  {
   "cell_type": "markdown",
   "id": "136de775",
   "metadata": {},
   "source": [
    "### Analisis en Post"
   ]
  },
  {
   "cell_type": "code",
   "execution_count": 23,
   "id": "44facc99",
   "metadata": {},
   "outputs": [],
   "source": [
    "# Filtrar cuentas de la etapa POST\n",
    "df_post = df_detalle[df_detalle['Etapa Normalizada'] == 'POST'].copy()\n",
    "\n",
    "# Limpiar columna TIPO\n",
    "df_post['TIPO'] = df_post['TIPO'].astype(str).str.strip().str.upper()\n",
    "\n",
    "# Clasificar por Estado presupuestario\n",
    "def clasificar_estado(valor):\n",
    "    if np.isclose(valor, 0, atol=1):\n",
    "        return 'Neutral'\n",
    "    elif valor < 0:\n",
    "        return 'Sobregasto'\n",
    "    else:\n",
    "        return 'Ahorro'\n",
    "\n",
    "df_post['Estado'] = df_post['DIFERENCIA vs BUDGET'].apply(clasificar_estado)"
   ]
  },
  {
   "cell_type": "code",
   "execution_count": 24,
   "id": "e15d499b",
   "metadata": {},
   "outputs": [
    {
     "data": {
      "text/html": [
       "<div>\n",
       "<style scoped>\n",
       "    .dataframe tbody tr th:only-of-type {\n",
       "        vertical-align: middle;\n",
       "    }\n",
       "\n",
       "    .dataframe tbody tr th {\n",
       "        vertical-align: top;\n",
       "    }\n",
       "\n",
       "    .dataframe thead th {\n",
       "        text-align: right;\n",
       "    }\n",
       "</style>\n",
       "<table border=\"1\" class=\"dataframe\">\n",
       "  <thead>\n",
       "    <tr style=\"text-align: right;\">\n",
       "      <th>Estado</th>\n",
       "      <th>TIPO</th>\n",
       "      <th>Ahorro</th>\n",
       "      <th>Neutral</th>\n",
       "      <th>Sobregasto</th>\n",
       "    </tr>\n",
       "  </thead>\n",
       "  <tbody>\n",
       "    <tr>\n",
       "      <th>0</th>\n",
       "      <td>BELOW THE LINE</td>\n",
       "      <td>0</td>\n",
       "      <td>16</td>\n",
       "      <td>1</td>\n",
       "    </tr>\n",
       "    <tr>\n",
       "      <th>1</th>\n",
       "      <td>OTHERS</td>\n",
       "      <td>0</td>\n",
       "      <td>3</td>\n",
       "      <td>0</td>\n",
       "    </tr>\n",
       "    <tr>\n",
       "      <th>2</th>\n",
       "      <td>POST</td>\n",
       "      <td>85</td>\n",
       "      <td>122</td>\n",
       "      <td>4</td>\n",
       "    </tr>\n",
       "  </tbody>\n",
       "</table>\n",
       "</div>"
      ],
      "text/plain": [
       "Estado            TIPO  Ahorro  Neutral  Sobregasto\n",
       "0       BELOW THE LINE       0       16           1\n",
       "1               OTHERS       0        3           0\n",
       "2                 POST      85      122           4"
      ]
     },
     "metadata": {},
     "output_type": "display_data"
    }
   ],
   "source": [
    "# Agrupar por TIPO y Estado\n",
    "conteo_tipo_estado_post = df_post.groupby(['TIPO', 'Estado']).size().unstack(fill_value=0).reset_index()\n",
    "\n",
    "# Mostrar tabla\n",
    "display(conteo_tipo_estado_post)\n"
   ]
  },
  {
   "cell_type": "code",
   "execution_count": 27,
   "id": "7125a06f",
   "metadata": {},
   "outputs": [
    {
     "data": {
      "application/vnd.plotly.v1+json": {
       "config": {
        "plotlyServerURL": "https://plot.ly"
       },
       "data": [
        {
         "hovertemplate": "Estado=Ahorro<br>TIPO=%{x}<br>Cantidad=%{text}<extra></extra>",
         "legendgroup": "Ahorro",
         "marker": {
          "color": "#2CA02C",
          "pattern": {
           "shape": ""
          }
         },
         "name": "Ahorro",
         "orientation": "v",
         "showlegend": true,
         "text": {
          "bdata": "AAAAAAAAAAAAAAAAAAAAAAAAAAAAQFVA",
          "dtype": "f8"
         },
         "textposition": "auto",
         "type": "bar",
         "x": [
          "BELOW THE LINE",
          "OTHERS",
          "POST"
         ],
         "xaxis": "x",
         "y": {
          "bdata": "AABV",
          "dtype": "i1"
         },
         "yaxis": "y"
        },
        {
         "hovertemplate": "Estado=Neutral<br>TIPO=%{x}<br>Cantidad=%{text}<extra></extra>",
         "legendgroup": "Neutral",
         "marker": {
          "color": "#7F7F7F",
          "pattern": {
           "shape": ""
          }
         },
         "name": "Neutral",
         "orientation": "v",
         "showlegend": true,
         "text": {
          "bdata": "AAAAAAAAMEAAAAAAAAAIQAAAAAAAgF5A",
          "dtype": "f8"
         },
         "textposition": "auto",
         "type": "bar",
         "x": [
          "BELOW THE LINE",
          "OTHERS",
          "POST"
         ],
         "xaxis": "x",
         "y": {
          "bdata": "EAN6",
          "dtype": "i1"
         },
         "yaxis": "y"
        },
        {
         "hovertemplate": "Estado=Sobregasto<br>TIPO=%{x}<br>Cantidad=%{text}<extra></extra>",
         "legendgroup": "Sobregasto",
         "marker": {
          "color": "#D62728",
          "pattern": {
           "shape": ""
          }
         },
         "name": "Sobregasto",
         "orientation": "v",
         "showlegend": true,
         "text": {
          "bdata": "AAAAAAAA8D8AAAAAAAAAAAAAAAAAABBA",
          "dtype": "f8"
         },
         "textposition": "auto",
         "type": "bar",
         "x": [
          "BELOW THE LINE",
          "OTHERS",
          "POST"
         ],
         "xaxis": "x",
         "y": {
          "bdata": "AQAE",
          "dtype": "i1"
         },
         "yaxis": "y"
        }
       ],
       "layout": {
        "barmode": "stack",
        "legend": {
         "title": {
          "text": "Resultado"
         },
         "tracegroupgap": 0
        },
        "plot_bgcolor": "white",
        "template": {
         "data": {
          "bar": [
           {
            "error_x": {
             "color": "#2a3f5f"
            },
            "error_y": {
             "color": "#2a3f5f"
            },
            "marker": {
             "line": {
              "color": "#E5ECF6",
              "width": 0.5
             },
             "pattern": {
              "fillmode": "overlay",
              "size": 10,
              "solidity": 0.2
             }
            },
            "type": "bar"
           }
          ],
          "barpolar": [
           {
            "marker": {
             "line": {
              "color": "#E5ECF6",
              "width": 0.5
             },
             "pattern": {
              "fillmode": "overlay",
              "size": 10,
              "solidity": 0.2
             }
            },
            "type": "barpolar"
           }
          ],
          "carpet": [
           {
            "aaxis": {
             "endlinecolor": "#2a3f5f",
             "gridcolor": "white",
             "linecolor": "white",
             "minorgridcolor": "white",
             "startlinecolor": "#2a3f5f"
            },
            "baxis": {
             "endlinecolor": "#2a3f5f",
             "gridcolor": "white",
             "linecolor": "white",
             "minorgridcolor": "white",
             "startlinecolor": "#2a3f5f"
            },
            "type": "carpet"
           }
          ],
          "choropleth": [
           {
            "colorbar": {
             "outlinewidth": 0,
             "ticks": ""
            },
            "type": "choropleth"
           }
          ],
          "contour": [
           {
            "colorbar": {
             "outlinewidth": 0,
             "ticks": ""
            },
            "colorscale": [
             [
              0,
              "#0d0887"
             ],
             [
              0.1111111111111111,
              "#46039f"
             ],
             [
              0.2222222222222222,
              "#7201a8"
             ],
             [
              0.3333333333333333,
              "#9c179e"
             ],
             [
              0.4444444444444444,
              "#bd3786"
             ],
             [
              0.5555555555555556,
              "#d8576b"
             ],
             [
              0.6666666666666666,
              "#ed7953"
             ],
             [
              0.7777777777777778,
              "#fb9f3a"
             ],
             [
              0.8888888888888888,
              "#fdca26"
             ],
             [
              1,
              "#f0f921"
             ]
            ],
            "type": "contour"
           }
          ],
          "contourcarpet": [
           {
            "colorbar": {
             "outlinewidth": 0,
             "ticks": ""
            },
            "type": "contourcarpet"
           }
          ],
          "heatmap": [
           {
            "colorbar": {
             "outlinewidth": 0,
             "ticks": ""
            },
            "colorscale": [
             [
              0,
              "#0d0887"
             ],
             [
              0.1111111111111111,
              "#46039f"
             ],
             [
              0.2222222222222222,
              "#7201a8"
             ],
             [
              0.3333333333333333,
              "#9c179e"
             ],
             [
              0.4444444444444444,
              "#bd3786"
             ],
             [
              0.5555555555555556,
              "#d8576b"
             ],
             [
              0.6666666666666666,
              "#ed7953"
             ],
             [
              0.7777777777777778,
              "#fb9f3a"
             ],
             [
              0.8888888888888888,
              "#fdca26"
             ],
             [
              1,
              "#f0f921"
             ]
            ],
            "type": "heatmap"
           }
          ],
          "histogram": [
           {
            "marker": {
             "pattern": {
              "fillmode": "overlay",
              "size": 10,
              "solidity": 0.2
             }
            },
            "type": "histogram"
           }
          ],
          "histogram2d": [
           {
            "colorbar": {
             "outlinewidth": 0,
             "ticks": ""
            },
            "colorscale": [
             [
              0,
              "#0d0887"
             ],
             [
              0.1111111111111111,
              "#46039f"
             ],
             [
              0.2222222222222222,
              "#7201a8"
             ],
             [
              0.3333333333333333,
              "#9c179e"
             ],
             [
              0.4444444444444444,
              "#bd3786"
             ],
             [
              0.5555555555555556,
              "#d8576b"
             ],
             [
              0.6666666666666666,
              "#ed7953"
             ],
             [
              0.7777777777777778,
              "#fb9f3a"
             ],
             [
              0.8888888888888888,
              "#fdca26"
             ],
             [
              1,
              "#f0f921"
             ]
            ],
            "type": "histogram2d"
           }
          ],
          "histogram2dcontour": [
           {
            "colorbar": {
             "outlinewidth": 0,
             "ticks": ""
            },
            "colorscale": [
             [
              0,
              "#0d0887"
             ],
             [
              0.1111111111111111,
              "#46039f"
             ],
             [
              0.2222222222222222,
              "#7201a8"
             ],
             [
              0.3333333333333333,
              "#9c179e"
             ],
             [
              0.4444444444444444,
              "#bd3786"
             ],
             [
              0.5555555555555556,
              "#d8576b"
             ],
             [
              0.6666666666666666,
              "#ed7953"
             ],
             [
              0.7777777777777778,
              "#fb9f3a"
             ],
             [
              0.8888888888888888,
              "#fdca26"
             ],
             [
              1,
              "#f0f921"
             ]
            ],
            "type": "histogram2dcontour"
           }
          ],
          "mesh3d": [
           {
            "colorbar": {
             "outlinewidth": 0,
             "ticks": ""
            },
            "type": "mesh3d"
           }
          ],
          "parcoords": [
           {
            "line": {
             "colorbar": {
              "outlinewidth": 0,
              "ticks": ""
             }
            },
            "type": "parcoords"
           }
          ],
          "pie": [
           {
            "automargin": true,
            "type": "pie"
           }
          ],
          "scatter": [
           {
            "fillpattern": {
             "fillmode": "overlay",
             "size": 10,
             "solidity": 0.2
            },
            "type": "scatter"
           }
          ],
          "scatter3d": [
           {
            "line": {
             "colorbar": {
              "outlinewidth": 0,
              "ticks": ""
             }
            },
            "marker": {
             "colorbar": {
              "outlinewidth": 0,
              "ticks": ""
             }
            },
            "type": "scatter3d"
           }
          ],
          "scattercarpet": [
           {
            "marker": {
             "colorbar": {
              "outlinewidth": 0,
              "ticks": ""
             }
            },
            "type": "scattercarpet"
           }
          ],
          "scattergeo": [
           {
            "marker": {
             "colorbar": {
              "outlinewidth": 0,
              "ticks": ""
             }
            },
            "type": "scattergeo"
           }
          ],
          "scattergl": [
           {
            "marker": {
             "colorbar": {
              "outlinewidth": 0,
              "ticks": ""
             }
            },
            "type": "scattergl"
           }
          ],
          "scattermap": [
           {
            "marker": {
             "colorbar": {
              "outlinewidth": 0,
              "ticks": ""
             }
            },
            "type": "scattermap"
           }
          ],
          "scattermapbox": [
           {
            "marker": {
             "colorbar": {
              "outlinewidth": 0,
              "ticks": ""
             }
            },
            "type": "scattermapbox"
           }
          ],
          "scatterpolar": [
           {
            "marker": {
             "colorbar": {
              "outlinewidth": 0,
              "ticks": ""
             }
            },
            "type": "scatterpolar"
           }
          ],
          "scatterpolargl": [
           {
            "marker": {
             "colorbar": {
              "outlinewidth": 0,
              "ticks": ""
             }
            },
            "type": "scatterpolargl"
           }
          ],
          "scatterternary": [
           {
            "marker": {
             "colorbar": {
              "outlinewidth": 0,
              "ticks": ""
             }
            },
            "type": "scatterternary"
           }
          ],
          "surface": [
           {
            "colorbar": {
             "outlinewidth": 0,
             "ticks": ""
            },
            "colorscale": [
             [
              0,
              "#0d0887"
             ],
             [
              0.1111111111111111,
              "#46039f"
             ],
             [
              0.2222222222222222,
              "#7201a8"
             ],
             [
              0.3333333333333333,
              "#9c179e"
             ],
             [
              0.4444444444444444,
              "#bd3786"
             ],
             [
              0.5555555555555556,
              "#d8576b"
             ],
             [
              0.6666666666666666,
              "#ed7953"
             ],
             [
              0.7777777777777778,
              "#fb9f3a"
             ],
             [
              0.8888888888888888,
              "#fdca26"
             ],
             [
              1,
              "#f0f921"
             ]
            ],
            "type": "surface"
           }
          ],
          "table": [
           {
            "cells": {
             "fill": {
              "color": "#EBF0F8"
             },
             "line": {
              "color": "white"
             }
            },
            "header": {
             "fill": {
              "color": "#C8D4E3"
             },
             "line": {
              "color": "white"
             }
            },
            "type": "table"
           }
          ]
         },
         "layout": {
          "annotationdefaults": {
           "arrowcolor": "#2a3f5f",
           "arrowhead": 0,
           "arrowwidth": 1
          },
          "autotypenumbers": "strict",
          "coloraxis": {
           "colorbar": {
            "outlinewidth": 0,
            "ticks": ""
           }
          },
          "colorscale": {
           "diverging": [
            [
             0,
             "#8e0152"
            ],
            [
             0.1,
             "#c51b7d"
            ],
            [
             0.2,
             "#de77ae"
            ],
            [
             0.3,
             "#f1b6da"
            ],
            [
             0.4,
             "#fde0ef"
            ],
            [
             0.5,
             "#f7f7f7"
            ],
            [
             0.6,
             "#e6f5d0"
            ],
            [
             0.7,
             "#b8e186"
            ],
            [
             0.8,
             "#7fbc41"
            ],
            [
             0.9,
             "#4d9221"
            ],
            [
             1,
             "#276419"
            ]
           ],
           "sequential": [
            [
             0,
             "#0d0887"
            ],
            [
             0.1111111111111111,
             "#46039f"
            ],
            [
             0.2222222222222222,
             "#7201a8"
            ],
            [
             0.3333333333333333,
             "#9c179e"
            ],
            [
             0.4444444444444444,
             "#bd3786"
            ],
            [
             0.5555555555555556,
             "#d8576b"
            ],
            [
             0.6666666666666666,
             "#ed7953"
            ],
            [
             0.7777777777777778,
             "#fb9f3a"
            ],
            [
             0.8888888888888888,
             "#fdca26"
            ],
            [
             1,
             "#f0f921"
            ]
           ],
           "sequentialminus": [
            [
             0,
             "#0d0887"
            ],
            [
             0.1111111111111111,
             "#46039f"
            ],
            [
             0.2222222222222222,
             "#7201a8"
            ],
            [
             0.3333333333333333,
             "#9c179e"
            ],
            [
             0.4444444444444444,
             "#bd3786"
            ],
            [
             0.5555555555555556,
             "#d8576b"
            ],
            [
             0.6666666666666666,
             "#ed7953"
            ],
            [
             0.7777777777777778,
             "#fb9f3a"
            ],
            [
             0.8888888888888888,
             "#fdca26"
            ],
            [
             1,
             "#f0f921"
            ]
           ]
          },
          "colorway": [
           "#636efa",
           "#EF553B",
           "#00cc96",
           "#ab63fa",
           "#FFA15A",
           "#19d3f3",
           "#FF6692",
           "#B6E880",
           "#FF97FF",
           "#FECB52"
          ],
          "font": {
           "color": "#2a3f5f"
          },
          "geo": {
           "bgcolor": "white",
           "lakecolor": "white",
           "landcolor": "#E5ECF6",
           "showlakes": true,
           "showland": true,
           "subunitcolor": "white"
          },
          "hoverlabel": {
           "align": "left"
          },
          "hovermode": "closest",
          "mapbox": {
           "style": "light"
          },
          "paper_bgcolor": "white",
          "plot_bgcolor": "#E5ECF6",
          "polar": {
           "angularaxis": {
            "gridcolor": "white",
            "linecolor": "white",
            "ticks": ""
           },
           "bgcolor": "#E5ECF6",
           "radialaxis": {
            "gridcolor": "white",
            "linecolor": "white",
            "ticks": ""
           }
          },
          "scene": {
           "xaxis": {
            "backgroundcolor": "#E5ECF6",
            "gridcolor": "white",
            "gridwidth": 2,
            "linecolor": "white",
            "showbackground": true,
            "ticks": "",
            "zerolinecolor": "white"
           },
           "yaxis": {
            "backgroundcolor": "#E5ECF6",
            "gridcolor": "white",
            "gridwidth": 2,
            "linecolor": "white",
            "showbackground": true,
            "ticks": "",
            "zerolinecolor": "white"
           },
           "zaxis": {
            "backgroundcolor": "#E5ECF6",
            "gridcolor": "white",
            "gridwidth": 2,
            "linecolor": "white",
            "showbackground": true,
            "ticks": "",
            "zerolinecolor": "white"
           }
          },
          "shapedefaults": {
           "line": {
            "color": "#2a3f5f"
           }
          },
          "ternary": {
           "aaxis": {
            "gridcolor": "white",
            "linecolor": "white",
            "ticks": ""
           },
           "baxis": {
            "gridcolor": "white",
            "linecolor": "white",
            "ticks": ""
           },
           "bgcolor": "#E5ECF6",
           "caxis": {
            "gridcolor": "white",
            "linecolor": "white",
            "ticks": ""
           }
          },
          "title": {
           "x": 0.05
          },
          "xaxis": {
           "automargin": true,
           "gridcolor": "white",
           "linecolor": "white",
           "ticks": "",
           "title": {
            "standoff": 15
           },
           "zerolinecolor": "white",
           "zerolinewidth": 2
          },
          "yaxis": {
           "automargin": true,
           "gridcolor": "white",
           "linecolor": "white",
           "ticks": "",
           "title": {
            "standoff": 15
           },
           "zerolinecolor": "white",
           "zerolinewidth": 2
          }
         }
        },
        "title": {
         "text": "Distribución de Cuentas en la Etapa POST por Tipo y Resultado"
        },
        "xaxis": {
         "anchor": "y",
         "domain": [
          0,
          1
         ],
         "title": {
          "text": "Tipo de Cuenta"
         }
        },
        "yaxis": {
         "anchor": "x",
         "domain": [
          0,
          1
         ],
         "title": {
          "text": "Cantidad de Cuentas"
         }
        }
       }
      }
     },
     "metadata": {},
     "output_type": "display_data"
    }
   ],
   "source": [
    "# Reorganizar la tabla para formato largo (para graficar)\n",
    "df_plot_post = conteo_tipo_estado_post.melt(\n",
    "    id_vars='TIPO',\n",
    "    value_vars=['Ahorro', 'Neutral', 'Sobregasto'],\n",
    "    var_name='Estado',\n",
    "    value_name='Cantidad'\n",
    ")\n",
    "\n",
    "# Crear gráfico de barras apiladas\n",
    "fig = px.bar(\n",
    "    df_plot_post,\n",
    "    x='TIPO',\n",
    "    y='Cantidad',\n",
    "    color='Estado',\n",
    "    title='Distribución de Cuentas en la Etapa POST por Tipo y Resultado',\n",
    "    text='Cantidad',\n",
    "    color_discrete_map={\n",
    "        'Ahorro': '#2CA02C',\n",
    "        'Neutral': '#7F7F7F',\n",
    "        'Sobregasto': '#D62728'\n",
    "    }\n",
    ")\n",
    "\n",
    "fig.update_traces(textposition='auto')\n",
    "fig.update_layout(\n",
    "    xaxis_title='Tipo de Cuenta',\n",
    "    yaxis_title='Cantidad de Cuentas',\n",
    "    plot_bgcolor='white',\n",
    "    legend_title='Resultado',\n",
    "    barmode='stack'\n",
    ")\n",
    "\n"
   ]
  },
  {
   "cell_type": "markdown",
   "id": "e590b71d",
   "metadata": {},
   "source": [
    "### Comprobamos si existe alguna relación entre el TIPO y si este influye en el ahorro, sobregasto o neutralidad de la etapa SHOOT (sobre gasto)"
   ]
  },
  {
   "cell_type": "code",
   "execution_count": 28,
   "id": "d36db223",
   "metadata": {},
   "outputs": [
    {
     "name": "stdout",
     "output_type": "stream",
     "text": [
      "Total de cuentas detalladas en la etapa SHOOT: 1487\n"
     ]
    }
   ],
   "source": [
    "# Filtrar cuentas de la etapa SHOOT\n",
    "df_shoot = df_detalle[df_detalle['Etapa Normalizada'] == 'SHOOT'].copy()\n",
    "\n",
    "# Contar cuántas cuentas hay en total\n",
    "total_shoot = len(df_shoot)\n",
    "print(f\"Total de cuentas detalladas en la etapa SHOOT: {total_shoot}\")"
   ]
  },
  {
   "cell_type": "code",
   "execution_count": 29,
   "id": "17a2512a",
   "metadata": {},
   "outputs": [
    {
     "data": {
      "text/html": [
       "<div>\n",
       "<style scoped>\n",
       "    .dataframe tbody tr th:only-of-type {\n",
       "        vertical-align: middle;\n",
       "    }\n",
       "\n",
       "    .dataframe tbody tr th {\n",
       "        vertical-align: top;\n",
       "    }\n",
       "\n",
       "    .dataframe thead th {\n",
       "        text-align: right;\n",
       "    }\n",
       "</style>\n",
       "<table border=\"1\" class=\"dataframe\">\n",
       "  <thead>\n",
       "    <tr style=\"text-align: right;\">\n",
       "      <th>Estado</th>\n",
       "      <th>TIPO</th>\n",
       "      <th>Ahorro</th>\n",
       "      <th>Neutral</th>\n",
       "      <th>Sobregasto</th>\n",
       "    </tr>\n",
       "  </thead>\n",
       "  <tbody>\n",
       "    <tr>\n",
       "      <th>0</th>\n",
       "      <td>ABOVE THE LINE</td>\n",
       "      <td>130</td>\n",
       "      <td>149</td>\n",
       "      <td>98</td>\n",
       "    </tr>\n",
       "    <tr>\n",
       "      <th>1</th>\n",
       "      <td>BELOW THE LINE</td>\n",
       "      <td>244</td>\n",
       "      <td>580</td>\n",
       "      <td>208</td>\n",
       "    </tr>\n",
       "    <tr>\n",
       "      <th>2</th>\n",
       "      <td>OTHERS</td>\n",
       "      <td>10</td>\n",
       "      <td>17</td>\n",
       "      <td>11</td>\n",
       "    </tr>\n",
       "    <tr>\n",
       "      <th>3</th>\n",
       "      <td>POST</td>\n",
       "      <td>5</td>\n",
       "      <td>31</td>\n",
       "      <td>4</td>\n",
       "    </tr>\n",
       "  </tbody>\n",
       "</table>\n",
       "</div>"
      ],
      "text/plain": [
       "Estado            TIPO  Ahorro  Neutral  Sobregasto\n",
       "0       ABOVE THE LINE     130      149          98\n",
       "1       BELOW THE LINE     244      580         208\n",
       "2               OTHERS      10       17          11\n",
       "3                 POST       5       31           4"
      ]
     },
     "metadata": {},
     "output_type": "display_data"
    }
   ],
   "source": [
    "# Limpiar columna TIPO\n",
    "df_shoot['TIPO'] = df_shoot['TIPO'].astype(str).str.strip().str.upper()\n",
    "\n",
    "# Clasificar por Estado presupuestario\n",
    "def clasificar_estado(valor):\n",
    "    if np.isclose(valor, 0, atol=1):\n",
    "        return 'Neutral'\n",
    "    elif valor < 0:\n",
    "        return 'Sobregasto'\n",
    "    else:\n",
    "        return 'Ahorro'\n",
    "\n",
    "df_shoot['Estado'] = df_shoot['DIFERENCIA vs BUDGET'].apply(clasificar_estado)\n",
    "\n",
    "# Agrupar por TIPO y Estado\n",
    "conteo_tipo_estado_shoot = df_shoot.groupby(['TIPO', 'Estado']).size().unstack(fill_value=0).reset_index()\n",
    "\n",
    "# Mostrar tabla\n",
    "display(conteo_tipo_estado_shoot)\n"
   ]
  },
  {
   "cell_type": "code",
   "execution_count": 30,
   "id": "4fce2dbf",
   "metadata": {},
   "outputs": [
    {
     "data": {
      "application/vnd.plotly.v1+json": {
       "config": {
        "plotlyServerURL": "https://plot.ly"
       },
       "data": [
        {
         "hovertemplate": "Estado=Ahorro<br>TIPO=%{x}<br>Cantidad=%{text}<extra></extra>",
         "legendgroup": "Ahorro",
         "marker": {
          "color": "#2CA02C",
          "pattern": {
           "shape": ""
          }
         },
         "name": "Ahorro",
         "orientation": "v",
         "showlegend": true,
         "text": {
          "bdata": "AAAAAABAYEAAAAAAAIBuQAAAAAAAACRAAAAAAAAAFEA=",
          "dtype": "f8"
         },
         "textposition": "auto",
         "type": "bar",
         "x": [
          "ABOVE THE LINE",
          "BELOW THE LINE",
          "OTHERS",
          "POST"
         ],
         "xaxis": "x",
         "y": {
          "bdata": "ggD0AAoABQA=",
          "dtype": "i2"
         },
         "yaxis": "y"
        },
        {
         "hovertemplate": "Estado=Neutral<br>TIPO=%{x}<br>Cantidad=%{text}<extra></extra>",
         "legendgroup": "Neutral",
         "marker": {
          "color": "#7F7F7F",
          "pattern": {
           "shape": ""
          }
         },
         "name": "Neutral",
         "orientation": "v",
         "showlegend": true,
         "text": {
          "bdata": "AAAAAACgYkAAAAAAACCCQAAAAAAAADFAAAAAAAAAP0A=",
          "dtype": "f8"
         },
         "textposition": "auto",
         "type": "bar",
         "x": [
          "ABOVE THE LINE",
          "BELOW THE LINE",
          "OTHERS",
          "POST"
         ],
         "xaxis": "x",
         "y": {
          "bdata": "lQBEAhEAHwA=",
          "dtype": "i2"
         },
         "yaxis": "y"
        },
        {
         "hovertemplate": "Estado=Sobregasto<br>TIPO=%{x}<br>Cantidad=%{text}<extra></extra>",
         "legendgroup": "Sobregasto",
         "marker": {
          "color": "#D62728",
          "pattern": {
           "shape": ""
          }
         },
         "name": "Sobregasto",
         "orientation": "v",
         "showlegend": true,
         "text": {
          "bdata": "AAAAAACAWEAAAAAAAABqQAAAAAAAACZAAAAAAAAAEEA=",
          "dtype": "f8"
         },
         "textposition": "auto",
         "type": "bar",
         "x": [
          "ABOVE THE LINE",
          "BELOW THE LINE",
          "OTHERS",
          "POST"
         ],
         "xaxis": "x",
         "y": {
          "bdata": "YgDQAAsABAA=",
          "dtype": "i2"
         },
         "yaxis": "y"
        }
       ],
       "layout": {
        "barmode": "stack",
        "legend": {
         "title": {
          "text": "Resultado"
         },
         "tracegroupgap": 0
        },
        "plot_bgcolor": "white",
        "template": {
         "data": {
          "bar": [
           {
            "error_x": {
             "color": "#2a3f5f"
            },
            "error_y": {
             "color": "#2a3f5f"
            },
            "marker": {
             "line": {
              "color": "#E5ECF6",
              "width": 0.5
             },
             "pattern": {
              "fillmode": "overlay",
              "size": 10,
              "solidity": 0.2
             }
            },
            "type": "bar"
           }
          ],
          "barpolar": [
           {
            "marker": {
             "line": {
              "color": "#E5ECF6",
              "width": 0.5
             },
             "pattern": {
              "fillmode": "overlay",
              "size": 10,
              "solidity": 0.2
             }
            },
            "type": "barpolar"
           }
          ],
          "carpet": [
           {
            "aaxis": {
             "endlinecolor": "#2a3f5f",
             "gridcolor": "white",
             "linecolor": "white",
             "minorgridcolor": "white",
             "startlinecolor": "#2a3f5f"
            },
            "baxis": {
             "endlinecolor": "#2a3f5f",
             "gridcolor": "white",
             "linecolor": "white",
             "minorgridcolor": "white",
             "startlinecolor": "#2a3f5f"
            },
            "type": "carpet"
           }
          ],
          "choropleth": [
           {
            "colorbar": {
             "outlinewidth": 0,
             "ticks": ""
            },
            "type": "choropleth"
           }
          ],
          "contour": [
           {
            "colorbar": {
             "outlinewidth": 0,
             "ticks": ""
            },
            "colorscale": [
             [
              0,
              "#0d0887"
             ],
             [
              0.1111111111111111,
              "#46039f"
             ],
             [
              0.2222222222222222,
              "#7201a8"
             ],
             [
              0.3333333333333333,
              "#9c179e"
             ],
             [
              0.4444444444444444,
              "#bd3786"
             ],
             [
              0.5555555555555556,
              "#d8576b"
             ],
             [
              0.6666666666666666,
              "#ed7953"
             ],
             [
              0.7777777777777778,
              "#fb9f3a"
             ],
             [
              0.8888888888888888,
              "#fdca26"
             ],
             [
              1,
              "#f0f921"
             ]
            ],
            "type": "contour"
           }
          ],
          "contourcarpet": [
           {
            "colorbar": {
             "outlinewidth": 0,
             "ticks": ""
            },
            "type": "contourcarpet"
           }
          ],
          "heatmap": [
           {
            "colorbar": {
             "outlinewidth": 0,
             "ticks": ""
            },
            "colorscale": [
             [
              0,
              "#0d0887"
             ],
             [
              0.1111111111111111,
              "#46039f"
             ],
             [
              0.2222222222222222,
              "#7201a8"
             ],
             [
              0.3333333333333333,
              "#9c179e"
             ],
             [
              0.4444444444444444,
              "#bd3786"
             ],
             [
              0.5555555555555556,
              "#d8576b"
             ],
             [
              0.6666666666666666,
              "#ed7953"
             ],
             [
              0.7777777777777778,
              "#fb9f3a"
             ],
             [
              0.8888888888888888,
              "#fdca26"
             ],
             [
              1,
              "#f0f921"
             ]
            ],
            "type": "heatmap"
           }
          ],
          "histogram": [
           {
            "marker": {
             "pattern": {
              "fillmode": "overlay",
              "size": 10,
              "solidity": 0.2
             }
            },
            "type": "histogram"
           }
          ],
          "histogram2d": [
           {
            "colorbar": {
             "outlinewidth": 0,
             "ticks": ""
            },
            "colorscale": [
             [
              0,
              "#0d0887"
             ],
             [
              0.1111111111111111,
              "#46039f"
             ],
             [
              0.2222222222222222,
              "#7201a8"
             ],
             [
              0.3333333333333333,
              "#9c179e"
             ],
             [
              0.4444444444444444,
              "#bd3786"
             ],
             [
              0.5555555555555556,
              "#d8576b"
             ],
             [
              0.6666666666666666,
              "#ed7953"
             ],
             [
              0.7777777777777778,
              "#fb9f3a"
             ],
             [
              0.8888888888888888,
              "#fdca26"
             ],
             [
              1,
              "#f0f921"
             ]
            ],
            "type": "histogram2d"
           }
          ],
          "histogram2dcontour": [
           {
            "colorbar": {
             "outlinewidth": 0,
             "ticks": ""
            },
            "colorscale": [
             [
              0,
              "#0d0887"
             ],
             [
              0.1111111111111111,
              "#46039f"
             ],
             [
              0.2222222222222222,
              "#7201a8"
             ],
             [
              0.3333333333333333,
              "#9c179e"
             ],
             [
              0.4444444444444444,
              "#bd3786"
             ],
             [
              0.5555555555555556,
              "#d8576b"
             ],
             [
              0.6666666666666666,
              "#ed7953"
             ],
             [
              0.7777777777777778,
              "#fb9f3a"
             ],
             [
              0.8888888888888888,
              "#fdca26"
             ],
             [
              1,
              "#f0f921"
             ]
            ],
            "type": "histogram2dcontour"
           }
          ],
          "mesh3d": [
           {
            "colorbar": {
             "outlinewidth": 0,
             "ticks": ""
            },
            "type": "mesh3d"
           }
          ],
          "parcoords": [
           {
            "line": {
             "colorbar": {
              "outlinewidth": 0,
              "ticks": ""
             }
            },
            "type": "parcoords"
           }
          ],
          "pie": [
           {
            "automargin": true,
            "type": "pie"
           }
          ],
          "scatter": [
           {
            "fillpattern": {
             "fillmode": "overlay",
             "size": 10,
             "solidity": 0.2
            },
            "type": "scatter"
           }
          ],
          "scatter3d": [
           {
            "line": {
             "colorbar": {
              "outlinewidth": 0,
              "ticks": ""
             }
            },
            "marker": {
             "colorbar": {
              "outlinewidth": 0,
              "ticks": ""
             }
            },
            "type": "scatter3d"
           }
          ],
          "scattercarpet": [
           {
            "marker": {
             "colorbar": {
              "outlinewidth": 0,
              "ticks": ""
             }
            },
            "type": "scattercarpet"
           }
          ],
          "scattergeo": [
           {
            "marker": {
             "colorbar": {
              "outlinewidth": 0,
              "ticks": ""
             }
            },
            "type": "scattergeo"
           }
          ],
          "scattergl": [
           {
            "marker": {
             "colorbar": {
              "outlinewidth": 0,
              "ticks": ""
             }
            },
            "type": "scattergl"
           }
          ],
          "scattermap": [
           {
            "marker": {
             "colorbar": {
              "outlinewidth": 0,
              "ticks": ""
             }
            },
            "type": "scattermap"
           }
          ],
          "scattermapbox": [
           {
            "marker": {
             "colorbar": {
              "outlinewidth": 0,
              "ticks": ""
             }
            },
            "type": "scattermapbox"
           }
          ],
          "scatterpolar": [
           {
            "marker": {
             "colorbar": {
              "outlinewidth": 0,
              "ticks": ""
             }
            },
            "type": "scatterpolar"
           }
          ],
          "scatterpolargl": [
           {
            "marker": {
             "colorbar": {
              "outlinewidth": 0,
              "ticks": ""
             }
            },
            "type": "scatterpolargl"
           }
          ],
          "scatterternary": [
           {
            "marker": {
             "colorbar": {
              "outlinewidth": 0,
              "ticks": ""
             }
            },
            "type": "scatterternary"
           }
          ],
          "surface": [
           {
            "colorbar": {
             "outlinewidth": 0,
             "ticks": ""
            },
            "colorscale": [
             [
              0,
              "#0d0887"
             ],
             [
              0.1111111111111111,
              "#46039f"
             ],
             [
              0.2222222222222222,
              "#7201a8"
             ],
             [
              0.3333333333333333,
              "#9c179e"
             ],
             [
              0.4444444444444444,
              "#bd3786"
             ],
             [
              0.5555555555555556,
              "#d8576b"
             ],
             [
              0.6666666666666666,
              "#ed7953"
             ],
             [
              0.7777777777777778,
              "#fb9f3a"
             ],
             [
              0.8888888888888888,
              "#fdca26"
             ],
             [
              1,
              "#f0f921"
             ]
            ],
            "type": "surface"
           }
          ],
          "table": [
           {
            "cells": {
             "fill": {
              "color": "#EBF0F8"
             },
             "line": {
              "color": "white"
             }
            },
            "header": {
             "fill": {
              "color": "#C8D4E3"
             },
             "line": {
              "color": "white"
             }
            },
            "type": "table"
           }
          ]
         },
         "layout": {
          "annotationdefaults": {
           "arrowcolor": "#2a3f5f",
           "arrowhead": 0,
           "arrowwidth": 1
          },
          "autotypenumbers": "strict",
          "coloraxis": {
           "colorbar": {
            "outlinewidth": 0,
            "ticks": ""
           }
          },
          "colorscale": {
           "diverging": [
            [
             0,
             "#8e0152"
            ],
            [
             0.1,
             "#c51b7d"
            ],
            [
             0.2,
             "#de77ae"
            ],
            [
             0.3,
             "#f1b6da"
            ],
            [
             0.4,
             "#fde0ef"
            ],
            [
             0.5,
             "#f7f7f7"
            ],
            [
             0.6,
             "#e6f5d0"
            ],
            [
             0.7,
             "#b8e186"
            ],
            [
             0.8,
             "#7fbc41"
            ],
            [
             0.9,
             "#4d9221"
            ],
            [
             1,
             "#276419"
            ]
           ],
           "sequential": [
            [
             0,
             "#0d0887"
            ],
            [
             0.1111111111111111,
             "#46039f"
            ],
            [
             0.2222222222222222,
             "#7201a8"
            ],
            [
             0.3333333333333333,
             "#9c179e"
            ],
            [
             0.4444444444444444,
             "#bd3786"
            ],
            [
             0.5555555555555556,
             "#d8576b"
            ],
            [
             0.6666666666666666,
             "#ed7953"
            ],
            [
             0.7777777777777778,
             "#fb9f3a"
            ],
            [
             0.8888888888888888,
             "#fdca26"
            ],
            [
             1,
             "#f0f921"
            ]
           ],
           "sequentialminus": [
            [
             0,
             "#0d0887"
            ],
            [
             0.1111111111111111,
             "#46039f"
            ],
            [
             0.2222222222222222,
             "#7201a8"
            ],
            [
             0.3333333333333333,
             "#9c179e"
            ],
            [
             0.4444444444444444,
             "#bd3786"
            ],
            [
             0.5555555555555556,
             "#d8576b"
            ],
            [
             0.6666666666666666,
             "#ed7953"
            ],
            [
             0.7777777777777778,
             "#fb9f3a"
            ],
            [
             0.8888888888888888,
             "#fdca26"
            ],
            [
             1,
             "#f0f921"
            ]
           ]
          },
          "colorway": [
           "#636efa",
           "#EF553B",
           "#00cc96",
           "#ab63fa",
           "#FFA15A",
           "#19d3f3",
           "#FF6692",
           "#B6E880",
           "#FF97FF",
           "#FECB52"
          ],
          "font": {
           "color": "#2a3f5f"
          },
          "geo": {
           "bgcolor": "white",
           "lakecolor": "white",
           "landcolor": "#E5ECF6",
           "showlakes": true,
           "showland": true,
           "subunitcolor": "white"
          },
          "hoverlabel": {
           "align": "left"
          },
          "hovermode": "closest",
          "mapbox": {
           "style": "light"
          },
          "paper_bgcolor": "white",
          "plot_bgcolor": "#E5ECF6",
          "polar": {
           "angularaxis": {
            "gridcolor": "white",
            "linecolor": "white",
            "ticks": ""
           },
           "bgcolor": "#E5ECF6",
           "radialaxis": {
            "gridcolor": "white",
            "linecolor": "white",
            "ticks": ""
           }
          },
          "scene": {
           "xaxis": {
            "backgroundcolor": "#E5ECF6",
            "gridcolor": "white",
            "gridwidth": 2,
            "linecolor": "white",
            "showbackground": true,
            "ticks": "",
            "zerolinecolor": "white"
           },
           "yaxis": {
            "backgroundcolor": "#E5ECF6",
            "gridcolor": "white",
            "gridwidth": 2,
            "linecolor": "white",
            "showbackground": true,
            "ticks": "",
            "zerolinecolor": "white"
           },
           "zaxis": {
            "backgroundcolor": "#E5ECF6",
            "gridcolor": "white",
            "gridwidth": 2,
            "linecolor": "white",
            "showbackground": true,
            "ticks": "",
            "zerolinecolor": "white"
           }
          },
          "shapedefaults": {
           "line": {
            "color": "#2a3f5f"
           }
          },
          "ternary": {
           "aaxis": {
            "gridcolor": "white",
            "linecolor": "white",
            "ticks": ""
           },
           "baxis": {
            "gridcolor": "white",
            "linecolor": "white",
            "ticks": ""
           },
           "bgcolor": "#E5ECF6",
           "caxis": {
            "gridcolor": "white",
            "linecolor": "white",
            "ticks": ""
           }
          },
          "title": {
           "x": 0.05
          },
          "xaxis": {
           "automargin": true,
           "gridcolor": "white",
           "linecolor": "white",
           "ticks": "",
           "title": {
            "standoff": 15
           },
           "zerolinecolor": "white",
           "zerolinewidth": 2
          },
          "yaxis": {
           "automargin": true,
           "gridcolor": "white",
           "linecolor": "white",
           "ticks": "",
           "title": {
            "standoff": 15
           },
           "zerolinecolor": "white",
           "zerolinewidth": 2
          }
         }
        },
        "title": {
         "text": "Distribución de Cuentas en la Etapa SHOOT por Tipo y Resultado"
        },
        "xaxis": {
         "anchor": "y",
         "domain": [
          0,
          1
         ],
         "title": {
          "text": "Tipo de Cuenta"
         }
        },
        "yaxis": {
         "anchor": "x",
         "domain": [
          0,
          1
         ],
         "title": {
          "text": "Cantidad de Cuentas"
         }
        }
       }
      }
     },
     "metadata": {},
     "output_type": "display_data"
    }
   ],
   "source": [
    "# Reorganizar la tabla para formato largo\n",
    "df_plot_shoot = conteo_tipo_estado_shoot.melt(\n",
    "    id_vars='TIPO',\n",
    "    value_vars=['Ahorro', 'Neutral', 'Sobregasto'],\n",
    "    var_name='Estado',\n",
    "    value_name='Cantidad'\n",
    ")\n",
    "\n",
    "# Crear gráfico de barras apiladas\n",
    "fig = px.bar(\n",
    "    df_plot_shoot,\n",
    "    x='TIPO',\n",
    "    y='Cantidad',\n",
    "    color='Estado',\n",
    "    title='Distribución de Cuentas en la Etapa SHOOT por Tipo y Resultado',\n",
    "    text='Cantidad',\n",
    "    color_discrete_map={\n",
    "        'Ahorro': '#2CA02C',\n",
    "        'Neutral': '#7F7F7F',\n",
    "        'Sobregasto': '#D62728'\n",
    "    }\n",
    ")\n",
    "\n",
    "fig.update_traces(textposition='auto')\n",
    "fig.update_layout(\n",
    "    xaxis_title='Tipo de Cuenta',\n",
    "    yaxis_title='Cantidad de Cuentas',\n",
    "    plot_bgcolor='white',\n",
    "    legend_title='Resultado',\n",
    "    barmode='stack'\n",
    ")\n",
    "\n"
   ]
  },
  {
   "cell_type": "markdown",
   "id": "9130a193",
   "metadata": {},
   "source": [
    "### PREP"
   ]
  },
  {
   "cell_type": "code",
   "execution_count": 31,
   "id": "a511b7ef",
   "metadata": {},
   "outputs": [
    {
     "data": {
      "application/vnd.plotly.v1+json": {
       "config": {
        "plotlyServerURL": "https://plot.ly"
       },
       "data": [
        {
         "hovertemplate": "Estado=Ahorro<br>TIPO=%{x}<br>Cantidad=%{text}<extra></extra>",
         "legendgroup": "Ahorro",
         "marker": {
          "color": "#2CA02C",
          "pattern": {
           "shape": ""
          }
         },
         "name": "Ahorro",
         "orientation": "v",
         "showlegend": true,
         "text": {
          "bdata": "AAAAAAAANkAAAAAAAABNQAAAAAAAAAAAAAAAAAAA8D8=",
          "dtype": "f8"
         },
         "textposition": "auto",
         "type": "bar",
         "x": [
          "ABOVE THE LINE",
          "BELOW THE LINE",
          "OTHERS",
          "POST"
         ],
         "xaxis": "x",
         "y": {
          "bdata": "FjoAAQ==",
          "dtype": "i1"
         },
         "yaxis": "y"
        },
        {
         "hovertemplate": "Estado=Neutral<br>TIPO=%{x}<br>Cantidad=%{text}<extra></extra>",
         "legendgroup": "Neutral",
         "marker": {
          "color": "#7F7F7F",
          "pattern": {
           "shape": ""
          }
         },
         "name": "Neutral",
         "orientation": "v",
         "showlegend": true,
         "text": {
          "bdata": "AAAAAAAAM0AAAAAAAMBVQAAAAAAAAABAAAAAAAAAIkA=",
          "dtype": "f8"
         },
         "textposition": "auto",
         "type": "bar",
         "x": [
          "ABOVE THE LINE",
          "BELOW THE LINE",
          "OTHERS",
          "POST"
         ],
         "xaxis": "x",
         "y": {
          "bdata": "E1cCCQ==",
          "dtype": "i1"
         },
         "yaxis": "y"
        },
        {
         "hovertemplate": "Estado=Sobregasto<br>TIPO=%{x}<br>Cantidad=%{text}<extra></extra>",
         "legendgroup": "Sobregasto",
         "marker": {
          "color": "#D62728",
          "pattern": {
           "shape": ""
          }
         },
         "name": "Sobregasto",
         "orientation": "v",
         "showlegend": true,
         "text": {
          "bdata": "AAAAAAAAFEAAAAAAAAA9QAAAAAAAAABAAAAAAAAAAAA=",
          "dtype": "f8"
         },
         "textposition": "auto",
         "type": "bar",
         "x": [
          "ABOVE THE LINE",
          "BELOW THE LINE",
          "OTHERS",
          "POST"
         ],
         "xaxis": "x",
         "y": {
          "bdata": "BR0CAA==",
          "dtype": "i1"
         },
         "yaxis": "y"
        }
       ],
       "layout": {
        "barmode": "stack",
        "legend": {
         "title": {
          "text": "Resultado"
         },
         "tracegroupgap": 0
        },
        "plot_bgcolor": "white",
        "template": {
         "data": {
          "bar": [
           {
            "error_x": {
             "color": "#2a3f5f"
            },
            "error_y": {
             "color": "#2a3f5f"
            },
            "marker": {
             "line": {
              "color": "#E5ECF6",
              "width": 0.5
             },
             "pattern": {
              "fillmode": "overlay",
              "size": 10,
              "solidity": 0.2
             }
            },
            "type": "bar"
           }
          ],
          "barpolar": [
           {
            "marker": {
             "line": {
              "color": "#E5ECF6",
              "width": 0.5
             },
             "pattern": {
              "fillmode": "overlay",
              "size": 10,
              "solidity": 0.2
             }
            },
            "type": "barpolar"
           }
          ],
          "carpet": [
           {
            "aaxis": {
             "endlinecolor": "#2a3f5f",
             "gridcolor": "white",
             "linecolor": "white",
             "minorgridcolor": "white",
             "startlinecolor": "#2a3f5f"
            },
            "baxis": {
             "endlinecolor": "#2a3f5f",
             "gridcolor": "white",
             "linecolor": "white",
             "minorgridcolor": "white",
             "startlinecolor": "#2a3f5f"
            },
            "type": "carpet"
           }
          ],
          "choropleth": [
           {
            "colorbar": {
             "outlinewidth": 0,
             "ticks": ""
            },
            "type": "choropleth"
           }
          ],
          "contour": [
           {
            "colorbar": {
             "outlinewidth": 0,
             "ticks": ""
            },
            "colorscale": [
             [
              0,
              "#0d0887"
             ],
             [
              0.1111111111111111,
              "#46039f"
             ],
             [
              0.2222222222222222,
              "#7201a8"
             ],
             [
              0.3333333333333333,
              "#9c179e"
             ],
             [
              0.4444444444444444,
              "#bd3786"
             ],
             [
              0.5555555555555556,
              "#d8576b"
             ],
             [
              0.6666666666666666,
              "#ed7953"
             ],
             [
              0.7777777777777778,
              "#fb9f3a"
             ],
             [
              0.8888888888888888,
              "#fdca26"
             ],
             [
              1,
              "#f0f921"
             ]
            ],
            "type": "contour"
           }
          ],
          "contourcarpet": [
           {
            "colorbar": {
             "outlinewidth": 0,
             "ticks": ""
            },
            "type": "contourcarpet"
           }
          ],
          "heatmap": [
           {
            "colorbar": {
             "outlinewidth": 0,
             "ticks": ""
            },
            "colorscale": [
             [
              0,
              "#0d0887"
             ],
             [
              0.1111111111111111,
              "#46039f"
             ],
             [
              0.2222222222222222,
              "#7201a8"
             ],
             [
              0.3333333333333333,
              "#9c179e"
             ],
             [
              0.4444444444444444,
              "#bd3786"
             ],
             [
              0.5555555555555556,
              "#d8576b"
             ],
             [
              0.6666666666666666,
              "#ed7953"
             ],
             [
              0.7777777777777778,
              "#fb9f3a"
             ],
             [
              0.8888888888888888,
              "#fdca26"
             ],
             [
              1,
              "#f0f921"
             ]
            ],
            "type": "heatmap"
           }
          ],
          "histogram": [
           {
            "marker": {
             "pattern": {
              "fillmode": "overlay",
              "size": 10,
              "solidity": 0.2
             }
            },
            "type": "histogram"
           }
          ],
          "histogram2d": [
           {
            "colorbar": {
             "outlinewidth": 0,
             "ticks": ""
            },
            "colorscale": [
             [
              0,
              "#0d0887"
             ],
             [
              0.1111111111111111,
              "#46039f"
             ],
             [
              0.2222222222222222,
              "#7201a8"
             ],
             [
              0.3333333333333333,
              "#9c179e"
             ],
             [
              0.4444444444444444,
              "#bd3786"
             ],
             [
              0.5555555555555556,
              "#d8576b"
             ],
             [
              0.6666666666666666,
              "#ed7953"
             ],
             [
              0.7777777777777778,
              "#fb9f3a"
             ],
             [
              0.8888888888888888,
              "#fdca26"
             ],
             [
              1,
              "#f0f921"
             ]
            ],
            "type": "histogram2d"
           }
          ],
          "histogram2dcontour": [
           {
            "colorbar": {
             "outlinewidth": 0,
             "ticks": ""
            },
            "colorscale": [
             [
              0,
              "#0d0887"
             ],
             [
              0.1111111111111111,
              "#46039f"
             ],
             [
              0.2222222222222222,
              "#7201a8"
             ],
             [
              0.3333333333333333,
              "#9c179e"
             ],
             [
              0.4444444444444444,
              "#bd3786"
             ],
             [
              0.5555555555555556,
              "#d8576b"
             ],
             [
              0.6666666666666666,
              "#ed7953"
             ],
             [
              0.7777777777777778,
              "#fb9f3a"
             ],
             [
              0.8888888888888888,
              "#fdca26"
             ],
             [
              1,
              "#f0f921"
             ]
            ],
            "type": "histogram2dcontour"
           }
          ],
          "mesh3d": [
           {
            "colorbar": {
             "outlinewidth": 0,
             "ticks": ""
            },
            "type": "mesh3d"
           }
          ],
          "parcoords": [
           {
            "line": {
             "colorbar": {
              "outlinewidth": 0,
              "ticks": ""
             }
            },
            "type": "parcoords"
           }
          ],
          "pie": [
           {
            "automargin": true,
            "type": "pie"
           }
          ],
          "scatter": [
           {
            "fillpattern": {
             "fillmode": "overlay",
             "size": 10,
             "solidity": 0.2
            },
            "type": "scatter"
           }
          ],
          "scatter3d": [
           {
            "line": {
             "colorbar": {
              "outlinewidth": 0,
              "ticks": ""
             }
            },
            "marker": {
             "colorbar": {
              "outlinewidth": 0,
              "ticks": ""
             }
            },
            "type": "scatter3d"
           }
          ],
          "scattercarpet": [
           {
            "marker": {
             "colorbar": {
              "outlinewidth": 0,
              "ticks": ""
             }
            },
            "type": "scattercarpet"
           }
          ],
          "scattergeo": [
           {
            "marker": {
             "colorbar": {
              "outlinewidth": 0,
              "ticks": ""
             }
            },
            "type": "scattergeo"
           }
          ],
          "scattergl": [
           {
            "marker": {
             "colorbar": {
              "outlinewidth": 0,
              "ticks": ""
             }
            },
            "type": "scattergl"
           }
          ],
          "scattermap": [
           {
            "marker": {
             "colorbar": {
              "outlinewidth": 0,
              "ticks": ""
             }
            },
            "type": "scattermap"
           }
          ],
          "scattermapbox": [
           {
            "marker": {
             "colorbar": {
              "outlinewidth": 0,
              "ticks": ""
             }
            },
            "type": "scattermapbox"
           }
          ],
          "scatterpolar": [
           {
            "marker": {
             "colorbar": {
              "outlinewidth": 0,
              "ticks": ""
             }
            },
            "type": "scatterpolar"
           }
          ],
          "scatterpolargl": [
           {
            "marker": {
             "colorbar": {
              "outlinewidth": 0,
              "ticks": ""
             }
            },
            "type": "scatterpolargl"
           }
          ],
          "scatterternary": [
           {
            "marker": {
             "colorbar": {
              "outlinewidth": 0,
              "ticks": ""
             }
            },
            "type": "scatterternary"
           }
          ],
          "surface": [
           {
            "colorbar": {
             "outlinewidth": 0,
             "ticks": ""
            },
            "colorscale": [
             [
              0,
              "#0d0887"
             ],
             [
              0.1111111111111111,
              "#46039f"
             ],
             [
              0.2222222222222222,
              "#7201a8"
             ],
             [
              0.3333333333333333,
              "#9c179e"
             ],
             [
              0.4444444444444444,
              "#bd3786"
             ],
             [
              0.5555555555555556,
              "#d8576b"
             ],
             [
              0.6666666666666666,
              "#ed7953"
             ],
             [
              0.7777777777777778,
              "#fb9f3a"
             ],
             [
              0.8888888888888888,
              "#fdca26"
             ],
             [
              1,
              "#f0f921"
             ]
            ],
            "type": "surface"
           }
          ],
          "table": [
           {
            "cells": {
             "fill": {
              "color": "#EBF0F8"
             },
             "line": {
              "color": "white"
             }
            },
            "header": {
             "fill": {
              "color": "#C8D4E3"
             },
             "line": {
              "color": "white"
             }
            },
            "type": "table"
           }
          ]
         },
         "layout": {
          "annotationdefaults": {
           "arrowcolor": "#2a3f5f",
           "arrowhead": 0,
           "arrowwidth": 1
          },
          "autotypenumbers": "strict",
          "coloraxis": {
           "colorbar": {
            "outlinewidth": 0,
            "ticks": ""
           }
          },
          "colorscale": {
           "diverging": [
            [
             0,
             "#8e0152"
            ],
            [
             0.1,
             "#c51b7d"
            ],
            [
             0.2,
             "#de77ae"
            ],
            [
             0.3,
             "#f1b6da"
            ],
            [
             0.4,
             "#fde0ef"
            ],
            [
             0.5,
             "#f7f7f7"
            ],
            [
             0.6,
             "#e6f5d0"
            ],
            [
             0.7,
             "#b8e186"
            ],
            [
             0.8,
             "#7fbc41"
            ],
            [
             0.9,
             "#4d9221"
            ],
            [
             1,
             "#276419"
            ]
           ],
           "sequential": [
            [
             0,
             "#0d0887"
            ],
            [
             0.1111111111111111,
             "#46039f"
            ],
            [
             0.2222222222222222,
             "#7201a8"
            ],
            [
             0.3333333333333333,
             "#9c179e"
            ],
            [
             0.4444444444444444,
             "#bd3786"
            ],
            [
             0.5555555555555556,
             "#d8576b"
            ],
            [
             0.6666666666666666,
             "#ed7953"
            ],
            [
             0.7777777777777778,
             "#fb9f3a"
            ],
            [
             0.8888888888888888,
             "#fdca26"
            ],
            [
             1,
             "#f0f921"
            ]
           ],
           "sequentialminus": [
            [
             0,
             "#0d0887"
            ],
            [
             0.1111111111111111,
             "#46039f"
            ],
            [
             0.2222222222222222,
             "#7201a8"
            ],
            [
             0.3333333333333333,
             "#9c179e"
            ],
            [
             0.4444444444444444,
             "#bd3786"
            ],
            [
             0.5555555555555556,
             "#d8576b"
            ],
            [
             0.6666666666666666,
             "#ed7953"
            ],
            [
             0.7777777777777778,
             "#fb9f3a"
            ],
            [
             0.8888888888888888,
             "#fdca26"
            ],
            [
             1,
             "#f0f921"
            ]
           ]
          },
          "colorway": [
           "#636efa",
           "#EF553B",
           "#00cc96",
           "#ab63fa",
           "#FFA15A",
           "#19d3f3",
           "#FF6692",
           "#B6E880",
           "#FF97FF",
           "#FECB52"
          ],
          "font": {
           "color": "#2a3f5f"
          },
          "geo": {
           "bgcolor": "white",
           "lakecolor": "white",
           "landcolor": "#E5ECF6",
           "showlakes": true,
           "showland": true,
           "subunitcolor": "white"
          },
          "hoverlabel": {
           "align": "left"
          },
          "hovermode": "closest",
          "mapbox": {
           "style": "light"
          },
          "paper_bgcolor": "white",
          "plot_bgcolor": "#E5ECF6",
          "polar": {
           "angularaxis": {
            "gridcolor": "white",
            "linecolor": "white",
            "ticks": ""
           },
           "bgcolor": "#E5ECF6",
           "radialaxis": {
            "gridcolor": "white",
            "linecolor": "white",
            "ticks": ""
           }
          },
          "scene": {
           "xaxis": {
            "backgroundcolor": "#E5ECF6",
            "gridcolor": "white",
            "gridwidth": 2,
            "linecolor": "white",
            "showbackground": true,
            "ticks": "",
            "zerolinecolor": "white"
           },
           "yaxis": {
            "backgroundcolor": "#E5ECF6",
            "gridcolor": "white",
            "gridwidth": 2,
            "linecolor": "white",
            "showbackground": true,
            "ticks": "",
            "zerolinecolor": "white"
           },
           "zaxis": {
            "backgroundcolor": "#E5ECF6",
            "gridcolor": "white",
            "gridwidth": 2,
            "linecolor": "white",
            "showbackground": true,
            "ticks": "",
            "zerolinecolor": "white"
           }
          },
          "shapedefaults": {
           "line": {
            "color": "#2a3f5f"
           }
          },
          "ternary": {
           "aaxis": {
            "gridcolor": "white",
            "linecolor": "white",
            "ticks": ""
           },
           "baxis": {
            "gridcolor": "white",
            "linecolor": "white",
            "ticks": ""
           },
           "bgcolor": "#E5ECF6",
           "caxis": {
            "gridcolor": "white",
            "linecolor": "white",
            "ticks": ""
           }
          },
          "title": {
           "x": 0.05
          },
          "xaxis": {
           "automargin": true,
           "gridcolor": "white",
           "linecolor": "white",
           "ticks": "",
           "title": {
            "standoff": 15
           },
           "zerolinecolor": "white",
           "zerolinewidth": 2
          },
          "yaxis": {
           "automargin": true,
           "gridcolor": "white",
           "linecolor": "white",
           "ticks": "",
           "title": {
            "standoff": 15
           },
           "zerolinecolor": "white",
           "zerolinewidth": 2
          }
         }
        },
        "title": {
         "text": "Distribución de Cuentas en la Etapa PREP por Tipo y Resultado"
        },
        "xaxis": {
         "anchor": "y",
         "domain": [
          0,
          1
         ],
         "title": {
          "text": "Tipo de Cuenta"
         }
        },
        "yaxis": {
         "anchor": "x",
         "domain": [
          0,
          1
         ],
         "title": {
          "text": "Cantidad de Cuentas"
         }
        }
       }
      }
     },
     "metadata": {},
     "output_type": "display_data"
    },
    {
     "name": "stdout",
     "output_type": "stream",
     "text": [
      "\n",
      "Resumen de Cuentas en PREP:\n",
      " Cuentas con Ahorro: 81\n",
      " Cuentas con Sobregasto: 36\n",
      " Cuentas Neutrales: 117\n"
     ]
    }
   ],
   "source": [
    "# 1. Filtrar datos de PREP\n",
    "df_prep = df_detalle[df_detalle['Etapa Normalizada'] == 'PREP'].copy()\n",
    "\n",
    "# 2. Limpiar columna TIPO\n",
    "df_prep['TIPO'] = df_prep['TIPO'].astype(str).str.strip().str.upper()\n",
    "\n",
    "# 3. Clasificar estado presupuestario\n",
    "def clasificar_estado(valor):\n",
    "    if np.isclose(valor, 0, atol=1):\n",
    "        return 'Neutral'\n",
    "    elif valor < 0:\n",
    "        return 'Sobregasto'\n",
    "    else:\n",
    "        return 'Ahorro'\n",
    "\n",
    "df_prep['Estado'] = df_prep['DIFERENCIA vs BUDGET'].apply(clasificar_estado)\n",
    "\n",
    "# 4. Agrupar por TIPO y Estado\n",
    "conteo_tipo_estado_prep = df_prep.groupby(['TIPO', 'Estado']).size().unstack(fill_value=0).reset_index()\n",
    "\n",
    "# 5. Asegurar columnas\n",
    "for col in ['Ahorro', 'Neutral', 'Sobregasto']:\n",
    "    if col not in conteo_tipo_estado_prep.columns:\n",
    "        conteo_tipo_estado_prep[col] = 0\n",
    "\n",
    "# 6. Formato largo para graficar\n",
    "df_plot_prep = conteo_tipo_estado_prep.melt(\n",
    "    id_vars='TIPO',\n",
    "    value_vars=['Ahorro', 'Neutral', 'Sobregasto'],\n",
    "    var_name='Estado',\n",
    "    value_name='Cantidad'\n",
    ")\n",
    "\n",
    "# 7. Gráfico de barras\n",
    "fig = px.bar(\n",
    "    df_plot_prep,\n",
    "    x='TIPO',\n",
    "    y='Cantidad',\n",
    "    color='Estado',\n",
    "    title='Distribución de Cuentas en la Etapa PREP por Tipo y Resultado',\n",
    "    text='Cantidad',\n",
    "    color_discrete_map={\n",
    "        'Ahorro': '#2CA02C',\n",
    "        'Neutral': '#7F7F7F',\n",
    "        'Sobregasto': '#D62728'\n",
    "    }\n",
    ")\n",
    "\n",
    "fig.update_traces(textposition='auto')\n",
    "fig.update_layout(\n",
    "    xaxis_title='Tipo de Cuenta',\n",
    "    yaxis_title='Cantidad de Cuentas',\n",
    "    plot_bgcolor='white',\n",
    "    legend_title='Resultado',\n",
    "    barmode='stack'\n",
    ")\n",
    "\n",
    "fig.show()\n",
    "\n",
    "# 8. Resumen de cuentas por estado\n",
    "resumen = df_prep['Estado'].value_counts().to_dict()\n",
    "ahorro = resumen.get('Ahorro', 0)\n",
    "neutral = resumen.get('Neutral', 0)\n",
    "sobregasto = resumen.get('Sobregasto', 0)\n",
    "\n",
    "print(f\"\\nResumen de Cuentas en PREP:\")\n",
    "print(f\" Cuentas con Ahorro: {ahorro}\")\n",
    "print(f\" Cuentas con Sobregasto: {sobregasto}\")\n",
    "print(f\" Cuentas Neutrales: {neutral}\")\n"
   ]
  },
  {
   "cell_type": "markdown",
   "id": "efa347cd",
   "metadata": {},
   "source": [
    "### WRAP"
   ]
  },
  {
   "cell_type": "code",
   "execution_count": 32,
   "id": "88c732c3",
   "metadata": {},
   "outputs": [
    {
     "data": {
      "application/vnd.plotly.v1+json": {
       "config": {
        "plotlyServerURL": "https://plot.ly"
       },
       "data": [
        {
         "hovertemplate": "Estado=Ahorro<br>TIPO=%{x}<br>Cantidad=%{text}<extra></extra>",
         "legendgroup": "Ahorro",
         "marker": {
          "color": "#2CA02C",
          "pattern": {
           "shape": ""
          }
         },
         "name": "Ahorro",
         "orientation": "v",
         "showlegend": true,
         "text": {
          "bdata": "AAAAAAAAAAAAAAAAAIBGQAAAAAAAAAAA",
          "dtype": "f8"
         },
         "textposition": "auto",
         "type": "bar",
         "x": [
          "ABOVE THE LINE",
          "BELOW THE LINE",
          "OTHERS"
         ],
         "xaxis": "x",
         "y": {
          "bdata": "AC0A",
          "dtype": "i1"
         },
         "yaxis": "y"
        },
        {
         "hovertemplate": "Estado=Neutral<br>TIPO=%{x}<br>Cantidad=%{text}<extra></extra>",
         "legendgroup": "Neutral",
         "marker": {
          "color": "#7F7F7F",
          "pattern": {
           "shape": ""
          }
         },
         "name": "Neutral",
         "orientation": "v",
         "showlegend": true,
         "text": {
          "bdata": "AAAAAAAAFEAAAAAAAEBgQAAAAAAAAAhA",
          "dtype": "f8"
         },
         "textposition": "auto",
         "type": "bar",
         "x": [
          "ABOVE THE LINE",
          "BELOW THE LINE",
          "OTHERS"
         ],
         "xaxis": "x",
         "y": {
          "bdata": "BQCCAAMA",
          "dtype": "i2"
         },
         "yaxis": "y"
        },
        {
         "hovertemplate": "Estado=Sobregasto<br>TIPO=%{x}<br>Cantidad=%{text}<extra></extra>",
         "legendgroup": "Sobregasto",
         "marker": {
          "color": "#D62728",
          "pattern": {
           "shape": ""
          }
         },
         "name": "Sobregasto",
         "orientation": "v",
         "showlegend": true,
         "text": {
          "bdata": "AAAAAAAA8D8AAAAAAAA6QAAAAAAAAAAA",
          "dtype": "f8"
         },
         "textposition": "auto",
         "type": "bar",
         "x": [
          "ABOVE THE LINE",
          "BELOW THE LINE",
          "OTHERS"
         ],
         "xaxis": "x",
         "y": {
          "bdata": "ARoA",
          "dtype": "i1"
         },
         "yaxis": "y"
        }
       ],
       "layout": {
        "barmode": "stack",
        "legend": {
         "title": {
          "text": "Resultado"
         },
         "tracegroupgap": 0
        },
        "plot_bgcolor": "white",
        "template": {
         "data": {
          "bar": [
           {
            "error_x": {
             "color": "#2a3f5f"
            },
            "error_y": {
             "color": "#2a3f5f"
            },
            "marker": {
             "line": {
              "color": "#E5ECF6",
              "width": 0.5
             },
             "pattern": {
              "fillmode": "overlay",
              "size": 10,
              "solidity": 0.2
             }
            },
            "type": "bar"
           }
          ],
          "barpolar": [
           {
            "marker": {
             "line": {
              "color": "#E5ECF6",
              "width": 0.5
             },
             "pattern": {
              "fillmode": "overlay",
              "size": 10,
              "solidity": 0.2
             }
            },
            "type": "barpolar"
           }
          ],
          "carpet": [
           {
            "aaxis": {
             "endlinecolor": "#2a3f5f",
             "gridcolor": "white",
             "linecolor": "white",
             "minorgridcolor": "white",
             "startlinecolor": "#2a3f5f"
            },
            "baxis": {
             "endlinecolor": "#2a3f5f",
             "gridcolor": "white",
             "linecolor": "white",
             "minorgridcolor": "white",
             "startlinecolor": "#2a3f5f"
            },
            "type": "carpet"
           }
          ],
          "choropleth": [
           {
            "colorbar": {
             "outlinewidth": 0,
             "ticks": ""
            },
            "type": "choropleth"
           }
          ],
          "contour": [
           {
            "colorbar": {
             "outlinewidth": 0,
             "ticks": ""
            },
            "colorscale": [
             [
              0,
              "#0d0887"
             ],
             [
              0.1111111111111111,
              "#46039f"
             ],
             [
              0.2222222222222222,
              "#7201a8"
             ],
             [
              0.3333333333333333,
              "#9c179e"
             ],
             [
              0.4444444444444444,
              "#bd3786"
             ],
             [
              0.5555555555555556,
              "#d8576b"
             ],
             [
              0.6666666666666666,
              "#ed7953"
             ],
             [
              0.7777777777777778,
              "#fb9f3a"
             ],
             [
              0.8888888888888888,
              "#fdca26"
             ],
             [
              1,
              "#f0f921"
             ]
            ],
            "type": "contour"
           }
          ],
          "contourcarpet": [
           {
            "colorbar": {
             "outlinewidth": 0,
             "ticks": ""
            },
            "type": "contourcarpet"
           }
          ],
          "heatmap": [
           {
            "colorbar": {
             "outlinewidth": 0,
             "ticks": ""
            },
            "colorscale": [
             [
              0,
              "#0d0887"
             ],
             [
              0.1111111111111111,
              "#46039f"
             ],
             [
              0.2222222222222222,
              "#7201a8"
             ],
             [
              0.3333333333333333,
              "#9c179e"
             ],
             [
              0.4444444444444444,
              "#bd3786"
             ],
             [
              0.5555555555555556,
              "#d8576b"
             ],
             [
              0.6666666666666666,
              "#ed7953"
             ],
             [
              0.7777777777777778,
              "#fb9f3a"
             ],
             [
              0.8888888888888888,
              "#fdca26"
             ],
             [
              1,
              "#f0f921"
             ]
            ],
            "type": "heatmap"
           }
          ],
          "histogram": [
           {
            "marker": {
             "pattern": {
              "fillmode": "overlay",
              "size": 10,
              "solidity": 0.2
             }
            },
            "type": "histogram"
           }
          ],
          "histogram2d": [
           {
            "colorbar": {
             "outlinewidth": 0,
             "ticks": ""
            },
            "colorscale": [
             [
              0,
              "#0d0887"
             ],
             [
              0.1111111111111111,
              "#46039f"
             ],
             [
              0.2222222222222222,
              "#7201a8"
             ],
             [
              0.3333333333333333,
              "#9c179e"
             ],
             [
              0.4444444444444444,
              "#bd3786"
             ],
             [
              0.5555555555555556,
              "#d8576b"
             ],
             [
              0.6666666666666666,
              "#ed7953"
             ],
             [
              0.7777777777777778,
              "#fb9f3a"
             ],
             [
              0.8888888888888888,
              "#fdca26"
             ],
             [
              1,
              "#f0f921"
             ]
            ],
            "type": "histogram2d"
           }
          ],
          "histogram2dcontour": [
           {
            "colorbar": {
             "outlinewidth": 0,
             "ticks": ""
            },
            "colorscale": [
             [
              0,
              "#0d0887"
             ],
             [
              0.1111111111111111,
              "#46039f"
             ],
             [
              0.2222222222222222,
              "#7201a8"
             ],
             [
              0.3333333333333333,
              "#9c179e"
             ],
             [
              0.4444444444444444,
              "#bd3786"
             ],
             [
              0.5555555555555556,
              "#d8576b"
             ],
             [
              0.6666666666666666,
              "#ed7953"
             ],
             [
              0.7777777777777778,
              "#fb9f3a"
             ],
             [
              0.8888888888888888,
              "#fdca26"
             ],
             [
              1,
              "#f0f921"
             ]
            ],
            "type": "histogram2dcontour"
           }
          ],
          "mesh3d": [
           {
            "colorbar": {
             "outlinewidth": 0,
             "ticks": ""
            },
            "type": "mesh3d"
           }
          ],
          "parcoords": [
           {
            "line": {
             "colorbar": {
              "outlinewidth": 0,
              "ticks": ""
             }
            },
            "type": "parcoords"
           }
          ],
          "pie": [
           {
            "automargin": true,
            "type": "pie"
           }
          ],
          "scatter": [
           {
            "fillpattern": {
             "fillmode": "overlay",
             "size": 10,
             "solidity": 0.2
            },
            "type": "scatter"
           }
          ],
          "scatter3d": [
           {
            "line": {
             "colorbar": {
              "outlinewidth": 0,
              "ticks": ""
             }
            },
            "marker": {
             "colorbar": {
              "outlinewidth": 0,
              "ticks": ""
             }
            },
            "type": "scatter3d"
           }
          ],
          "scattercarpet": [
           {
            "marker": {
             "colorbar": {
              "outlinewidth": 0,
              "ticks": ""
             }
            },
            "type": "scattercarpet"
           }
          ],
          "scattergeo": [
           {
            "marker": {
             "colorbar": {
              "outlinewidth": 0,
              "ticks": ""
             }
            },
            "type": "scattergeo"
           }
          ],
          "scattergl": [
           {
            "marker": {
             "colorbar": {
              "outlinewidth": 0,
              "ticks": ""
             }
            },
            "type": "scattergl"
           }
          ],
          "scattermap": [
           {
            "marker": {
             "colorbar": {
              "outlinewidth": 0,
              "ticks": ""
             }
            },
            "type": "scattermap"
           }
          ],
          "scattermapbox": [
           {
            "marker": {
             "colorbar": {
              "outlinewidth": 0,
              "ticks": ""
             }
            },
            "type": "scattermapbox"
           }
          ],
          "scatterpolar": [
           {
            "marker": {
             "colorbar": {
              "outlinewidth": 0,
              "ticks": ""
             }
            },
            "type": "scatterpolar"
           }
          ],
          "scatterpolargl": [
           {
            "marker": {
             "colorbar": {
              "outlinewidth": 0,
              "ticks": ""
             }
            },
            "type": "scatterpolargl"
           }
          ],
          "scatterternary": [
           {
            "marker": {
             "colorbar": {
              "outlinewidth": 0,
              "ticks": ""
             }
            },
            "type": "scatterternary"
           }
          ],
          "surface": [
           {
            "colorbar": {
             "outlinewidth": 0,
             "ticks": ""
            },
            "colorscale": [
             [
              0,
              "#0d0887"
             ],
             [
              0.1111111111111111,
              "#46039f"
             ],
             [
              0.2222222222222222,
              "#7201a8"
             ],
             [
              0.3333333333333333,
              "#9c179e"
             ],
             [
              0.4444444444444444,
              "#bd3786"
             ],
             [
              0.5555555555555556,
              "#d8576b"
             ],
             [
              0.6666666666666666,
              "#ed7953"
             ],
             [
              0.7777777777777778,
              "#fb9f3a"
             ],
             [
              0.8888888888888888,
              "#fdca26"
             ],
             [
              1,
              "#f0f921"
             ]
            ],
            "type": "surface"
           }
          ],
          "table": [
           {
            "cells": {
             "fill": {
              "color": "#EBF0F8"
             },
             "line": {
              "color": "white"
             }
            },
            "header": {
             "fill": {
              "color": "#C8D4E3"
             },
             "line": {
              "color": "white"
             }
            },
            "type": "table"
           }
          ]
         },
         "layout": {
          "annotationdefaults": {
           "arrowcolor": "#2a3f5f",
           "arrowhead": 0,
           "arrowwidth": 1
          },
          "autotypenumbers": "strict",
          "coloraxis": {
           "colorbar": {
            "outlinewidth": 0,
            "ticks": ""
           }
          },
          "colorscale": {
           "diverging": [
            [
             0,
             "#8e0152"
            ],
            [
             0.1,
             "#c51b7d"
            ],
            [
             0.2,
             "#de77ae"
            ],
            [
             0.3,
             "#f1b6da"
            ],
            [
             0.4,
             "#fde0ef"
            ],
            [
             0.5,
             "#f7f7f7"
            ],
            [
             0.6,
             "#e6f5d0"
            ],
            [
             0.7,
             "#b8e186"
            ],
            [
             0.8,
             "#7fbc41"
            ],
            [
             0.9,
             "#4d9221"
            ],
            [
             1,
             "#276419"
            ]
           ],
           "sequential": [
            [
             0,
             "#0d0887"
            ],
            [
             0.1111111111111111,
             "#46039f"
            ],
            [
             0.2222222222222222,
             "#7201a8"
            ],
            [
             0.3333333333333333,
             "#9c179e"
            ],
            [
             0.4444444444444444,
             "#bd3786"
            ],
            [
             0.5555555555555556,
             "#d8576b"
            ],
            [
             0.6666666666666666,
             "#ed7953"
            ],
            [
             0.7777777777777778,
             "#fb9f3a"
            ],
            [
             0.8888888888888888,
             "#fdca26"
            ],
            [
             1,
             "#f0f921"
            ]
           ],
           "sequentialminus": [
            [
             0,
             "#0d0887"
            ],
            [
             0.1111111111111111,
             "#46039f"
            ],
            [
             0.2222222222222222,
             "#7201a8"
            ],
            [
             0.3333333333333333,
             "#9c179e"
            ],
            [
             0.4444444444444444,
             "#bd3786"
            ],
            [
             0.5555555555555556,
             "#d8576b"
            ],
            [
             0.6666666666666666,
             "#ed7953"
            ],
            [
             0.7777777777777778,
             "#fb9f3a"
            ],
            [
             0.8888888888888888,
             "#fdca26"
            ],
            [
             1,
             "#f0f921"
            ]
           ]
          },
          "colorway": [
           "#636efa",
           "#EF553B",
           "#00cc96",
           "#ab63fa",
           "#FFA15A",
           "#19d3f3",
           "#FF6692",
           "#B6E880",
           "#FF97FF",
           "#FECB52"
          ],
          "font": {
           "color": "#2a3f5f"
          },
          "geo": {
           "bgcolor": "white",
           "lakecolor": "white",
           "landcolor": "#E5ECF6",
           "showlakes": true,
           "showland": true,
           "subunitcolor": "white"
          },
          "hoverlabel": {
           "align": "left"
          },
          "hovermode": "closest",
          "mapbox": {
           "style": "light"
          },
          "paper_bgcolor": "white",
          "plot_bgcolor": "#E5ECF6",
          "polar": {
           "angularaxis": {
            "gridcolor": "white",
            "linecolor": "white",
            "ticks": ""
           },
           "bgcolor": "#E5ECF6",
           "radialaxis": {
            "gridcolor": "white",
            "linecolor": "white",
            "ticks": ""
           }
          },
          "scene": {
           "xaxis": {
            "backgroundcolor": "#E5ECF6",
            "gridcolor": "white",
            "gridwidth": 2,
            "linecolor": "white",
            "showbackground": true,
            "ticks": "",
            "zerolinecolor": "white"
           },
           "yaxis": {
            "backgroundcolor": "#E5ECF6",
            "gridcolor": "white",
            "gridwidth": 2,
            "linecolor": "white",
            "showbackground": true,
            "ticks": "",
            "zerolinecolor": "white"
           },
           "zaxis": {
            "backgroundcolor": "#E5ECF6",
            "gridcolor": "white",
            "gridwidth": 2,
            "linecolor": "white",
            "showbackground": true,
            "ticks": "",
            "zerolinecolor": "white"
           }
          },
          "shapedefaults": {
           "line": {
            "color": "#2a3f5f"
           }
          },
          "ternary": {
           "aaxis": {
            "gridcolor": "white",
            "linecolor": "white",
            "ticks": ""
           },
           "baxis": {
            "gridcolor": "white",
            "linecolor": "white",
            "ticks": ""
           },
           "bgcolor": "#E5ECF6",
           "caxis": {
            "gridcolor": "white",
            "linecolor": "white",
            "ticks": ""
           }
          },
          "title": {
           "x": 0.05
          },
          "xaxis": {
           "automargin": true,
           "gridcolor": "white",
           "linecolor": "white",
           "ticks": "",
           "title": {
            "standoff": 15
           },
           "zerolinecolor": "white",
           "zerolinewidth": 2
          },
          "yaxis": {
           "automargin": true,
           "gridcolor": "white",
           "linecolor": "white",
           "ticks": "",
           "title": {
            "standoff": 15
           },
           "zerolinecolor": "white",
           "zerolinewidth": 2
          }
         }
        },
        "title": {
         "text": "Distribución de Cuentas en la Etapa WRAP por Tipo y Resultado"
        },
        "xaxis": {
         "anchor": "y",
         "domain": [
          0,
          1
         ],
         "title": {
          "text": "Cantidad de Cuenta"
         }
        },
        "yaxis": {
         "anchor": "x",
         "domain": [
          0,
          1
         ],
         "title": {
          "text": "Número de Cuentas"
         }
        }
       }
      }
     },
     "metadata": {},
     "output_type": "display_data"
    }
   ],
   "source": [
    "# Filtrar cuentas de la etapa WRAP\n",
    "df_wrap = df_cost_clean[(df_cost_clean['Nivel'] == 'Detalle') &\n",
    "                        (df_cost_clean['Etapa Normalizada'] == 'WRAP')].copy()\n",
    "\n",
    "# Calcular TOTAL COSTO y diferencia\n",
    "df_wrap['TOTAL COSTO'] = df_wrap['COST TO DATE'] + df_wrap['COMMITMENTS']\n",
    "df_wrap['DIFERENCIA vs BUDGET'] = df_wrap['BUDGET'] - df_wrap['TOTAL COSTO']\n",
    "\n",
    "# Clasificar en estado presupuestario\n",
    "def clasificar_estado(valor):\n",
    "    if pd.isna(valor):\n",
    "        return 'Neutral'\n",
    "    elif np.isclose(valor, 0, atol=1):\n",
    "        return 'Neutral'\n",
    "    elif valor > 0:\n",
    "        return 'Ahorro'\n",
    "    else:\n",
    "        return 'Sobregasto'\n",
    "\n",
    "df_wrap['Estado'] = df_wrap['DIFERENCIA vs BUDGET'].apply(clasificar_estado)\n",
    "\n",
    "# Limpiar y normalizar TIPO\n",
    "df_wrap['TIPO'] = df_wrap['TIPO'].astype(str).str.strip().str.upper()\n",
    "\n",
    "# Agrupar por TIPO y Estado\n",
    "conteo_tipo_estado_wrap = df_wrap.groupby(['TIPO', 'Estado']).size().unstack(fill_value=0).reset_index()\n",
    "\n",
    "# Formato largo para graficar\n",
    "df_plot_wrap = conteo_tipo_estado_wrap.melt(\n",
    "    id_vars='TIPO',\n",
    "    value_vars=['Ahorro', 'Neutral', 'Sobregasto'],\n",
    "    var_name='Estado',\n",
    "    value_name='Cantidad'\n",
    ")\n",
    "\n",
    "# Crear gráfico de barras apiladas en valores absolutos\n",
    "fig = px.bar(\n",
    "    df_plot_wrap,\n",
    "    x='TIPO',\n",
    "    y='Cantidad',\n",
    "    color='Estado',\n",
    "    title='Distribución de Cuentas en la Etapa WRAP por Tipo y Resultado',\n",
    "    text='Cantidad',\n",
    "    color_discrete_map={\n",
    "        'Ahorro': '#2CA02C',\n",
    "        'Neutral': '#7F7F7F',\n",
    "        'Sobregasto': '#D62728'\n",
    "    }\n",
    ")\n",
    "\n",
    "fig.update_traces(textposition='auto')\n",
    "fig.update_layout(\n",
    "    xaxis_title='Cantidad de Cuenta',\n",
    "    yaxis_title='Número de Cuentas',\n",
    "    plot_bgcolor='white',\n",
    "    legend_title='Resultado',\n",
    "    barmode='stack'\n",
    ")\n",
    "\n",
    "\n",
    "fig.show()\n"
   ]
  },
  {
   "cell_type": "code",
   "execution_count": 33,
   "id": "8a07a1e4",
   "metadata": {},
   "outputs": [
    {
     "data": {
      "text/html": [
       "<div>\n",
       "<style scoped>\n",
       "    .dataframe tbody tr th:only-of-type {\n",
       "        vertical-align: middle;\n",
       "    }\n",
       "\n",
       "    .dataframe tbody tr th {\n",
       "        vertical-align: top;\n",
       "    }\n",
       "\n",
       "    .dataframe thead th {\n",
       "        text-align: right;\n",
       "    }\n",
       "</style>\n",
       "<table border=\"1\" class=\"dataframe\">\n",
       "  <thead>\n",
       "    <tr style=\"text-align: right;\">\n",
       "      <th></th>\n",
       "      <th>Estado</th>\n",
       "      <th>Cantidad de Cuentas</th>\n",
       "    </tr>\n",
       "  </thead>\n",
       "  <tbody>\n",
       "    <tr>\n",
       "      <th>0</th>\n",
       "      <td>Neutral</td>\n",
       "      <td>138</td>\n",
       "    </tr>\n",
       "    <tr>\n",
       "      <th>1</th>\n",
       "      <td>Ahorro</td>\n",
       "      <td>45</td>\n",
       "    </tr>\n",
       "    <tr>\n",
       "      <th>2</th>\n",
       "      <td>Sobregasto</td>\n",
       "      <td>27</td>\n",
       "    </tr>\n",
       "  </tbody>\n",
       "</table>\n",
       "</div>"
      ],
      "text/plain": [
       "       Estado  Cantidad de Cuentas\n",
       "0     Neutral                  138\n",
       "1      Ahorro                   45\n",
       "2  Sobregasto                   27"
      ]
     },
     "metadata": {},
     "output_type": "display_data"
    }
   ],
   "source": [
    "# Totales globales de la etapa WRAP\n",
    "resumen_estado_wrap = df_wrap['Estado'].value_counts().reset_index()\n",
    "resumen_estado_wrap.columns = ['Estado', 'Cantidad de Cuentas']\n",
    "\n",
    "display(resumen_estado_wrap)\n"
   ]
  },
  {
   "cell_type": "markdown",
   "id": "0f377ed9",
   "metadata": {},
   "source": [
    "### DEVELOPMENT"
   ]
  },
  {
   "cell_type": "code",
   "execution_count": 34,
   "id": "93724293",
   "metadata": {},
   "outputs": [
    {
     "data": {
      "application/vnd.plotly.v1+json": {
       "config": {
        "plotlyServerURL": "https://plot.ly"
       },
       "data": [
        {
         "hovertemplate": "Estado=Ahorro<br>TIPO=%{x}<br>Cantidad=%{text}<extra></extra>",
         "legendgroup": "Ahorro",
         "marker": {
          "color": "#2CA02C",
          "pattern": {
           "shape": ""
          }
         },
         "name": "Ahorro",
         "orientation": "v",
         "showlegend": true,
         "text": {
          "bdata": "AAAAAAAAAAAAAAAAAAAAAAAAAAAAAABA",
          "dtype": "f8"
         },
         "textposition": "auto",
         "type": "bar",
         "x": [
          "ABOVE THE LINE",
          "BELOW THE LINE",
          "OTHERS"
         ],
         "xaxis": "x",
         "y": {
          "bdata": "AAAC",
          "dtype": "i1"
         },
         "yaxis": "y"
        },
        {
         "hovertemplate": "Estado=Neutral<br>TIPO=%{x}<br>Cantidad=%{text}<extra></extra>",
         "legendgroup": "Neutral",
         "marker": {
          "color": "#7F7F7F",
          "pattern": {
           "shape": ""
          }
         },
         "name": "Neutral",
         "orientation": "v",
         "showlegend": true,
         "text": {
          "bdata": "AAAAAAAASUAAAAAAAAAIQAAAAAAAAPA/",
          "dtype": "f8"
         },
         "textposition": "auto",
         "type": "bar",
         "x": [
          "ABOVE THE LINE",
          "BELOW THE LINE",
          "OTHERS"
         ],
         "xaxis": "x",
         "y": {
          "bdata": "MgMB",
          "dtype": "i1"
         },
         "yaxis": "y"
        },
        {
         "hovertemplate": "Estado=Sobregasto<br>TIPO=%{x}<br>Cantidad=%{text}<extra></extra>",
         "legendgroup": "Sobregasto",
         "marker": {
          "color": "#D62728",
          "pattern": {
           "shape": ""
          }
         },
         "name": "Sobregasto",
         "orientation": "v",
         "showlegend": true,
         "text": {
          "bdata": "AAAAAAAAAAAAAAAAAAAAAAAAAAAAAAAA",
          "dtype": "f8"
         },
         "textposition": "auto",
         "type": "bar",
         "x": [
          "ABOVE THE LINE",
          "BELOW THE LINE",
          "OTHERS"
         ],
         "xaxis": "x",
         "y": {
          "bdata": "AAAA",
          "dtype": "i1"
         },
         "yaxis": "y"
        }
       ],
       "layout": {
        "barmode": "stack",
        "legend": {
         "title": {
          "text": "Resultado"
         },
         "tracegroupgap": 0
        },
        "plot_bgcolor": "white",
        "template": {
         "data": {
          "bar": [
           {
            "error_x": {
             "color": "#2a3f5f"
            },
            "error_y": {
             "color": "#2a3f5f"
            },
            "marker": {
             "line": {
              "color": "#E5ECF6",
              "width": 0.5
             },
             "pattern": {
              "fillmode": "overlay",
              "size": 10,
              "solidity": 0.2
             }
            },
            "type": "bar"
           }
          ],
          "barpolar": [
           {
            "marker": {
             "line": {
              "color": "#E5ECF6",
              "width": 0.5
             },
             "pattern": {
              "fillmode": "overlay",
              "size": 10,
              "solidity": 0.2
             }
            },
            "type": "barpolar"
           }
          ],
          "carpet": [
           {
            "aaxis": {
             "endlinecolor": "#2a3f5f",
             "gridcolor": "white",
             "linecolor": "white",
             "minorgridcolor": "white",
             "startlinecolor": "#2a3f5f"
            },
            "baxis": {
             "endlinecolor": "#2a3f5f",
             "gridcolor": "white",
             "linecolor": "white",
             "minorgridcolor": "white",
             "startlinecolor": "#2a3f5f"
            },
            "type": "carpet"
           }
          ],
          "choropleth": [
           {
            "colorbar": {
             "outlinewidth": 0,
             "ticks": ""
            },
            "type": "choropleth"
           }
          ],
          "contour": [
           {
            "colorbar": {
             "outlinewidth": 0,
             "ticks": ""
            },
            "colorscale": [
             [
              0,
              "#0d0887"
             ],
             [
              0.1111111111111111,
              "#46039f"
             ],
             [
              0.2222222222222222,
              "#7201a8"
             ],
             [
              0.3333333333333333,
              "#9c179e"
             ],
             [
              0.4444444444444444,
              "#bd3786"
             ],
             [
              0.5555555555555556,
              "#d8576b"
             ],
             [
              0.6666666666666666,
              "#ed7953"
             ],
             [
              0.7777777777777778,
              "#fb9f3a"
             ],
             [
              0.8888888888888888,
              "#fdca26"
             ],
             [
              1,
              "#f0f921"
             ]
            ],
            "type": "contour"
           }
          ],
          "contourcarpet": [
           {
            "colorbar": {
             "outlinewidth": 0,
             "ticks": ""
            },
            "type": "contourcarpet"
           }
          ],
          "heatmap": [
           {
            "colorbar": {
             "outlinewidth": 0,
             "ticks": ""
            },
            "colorscale": [
             [
              0,
              "#0d0887"
             ],
             [
              0.1111111111111111,
              "#46039f"
             ],
             [
              0.2222222222222222,
              "#7201a8"
             ],
             [
              0.3333333333333333,
              "#9c179e"
             ],
             [
              0.4444444444444444,
              "#bd3786"
             ],
             [
              0.5555555555555556,
              "#d8576b"
             ],
             [
              0.6666666666666666,
              "#ed7953"
             ],
             [
              0.7777777777777778,
              "#fb9f3a"
             ],
             [
              0.8888888888888888,
              "#fdca26"
             ],
             [
              1,
              "#f0f921"
             ]
            ],
            "type": "heatmap"
           }
          ],
          "histogram": [
           {
            "marker": {
             "pattern": {
              "fillmode": "overlay",
              "size": 10,
              "solidity": 0.2
             }
            },
            "type": "histogram"
           }
          ],
          "histogram2d": [
           {
            "colorbar": {
             "outlinewidth": 0,
             "ticks": ""
            },
            "colorscale": [
             [
              0,
              "#0d0887"
             ],
             [
              0.1111111111111111,
              "#46039f"
             ],
             [
              0.2222222222222222,
              "#7201a8"
             ],
             [
              0.3333333333333333,
              "#9c179e"
             ],
             [
              0.4444444444444444,
              "#bd3786"
             ],
             [
              0.5555555555555556,
              "#d8576b"
             ],
             [
              0.6666666666666666,
              "#ed7953"
             ],
             [
              0.7777777777777778,
              "#fb9f3a"
             ],
             [
              0.8888888888888888,
              "#fdca26"
             ],
             [
              1,
              "#f0f921"
             ]
            ],
            "type": "histogram2d"
           }
          ],
          "histogram2dcontour": [
           {
            "colorbar": {
             "outlinewidth": 0,
             "ticks": ""
            },
            "colorscale": [
             [
              0,
              "#0d0887"
             ],
             [
              0.1111111111111111,
              "#46039f"
             ],
             [
              0.2222222222222222,
              "#7201a8"
             ],
             [
              0.3333333333333333,
              "#9c179e"
             ],
             [
              0.4444444444444444,
              "#bd3786"
             ],
             [
              0.5555555555555556,
              "#d8576b"
             ],
             [
              0.6666666666666666,
              "#ed7953"
             ],
             [
              0.7777777777777778,
              "#fb9f3a"
             ],
             [
              0.8888888888888888,
              "#fdca26"
             ],
             [
              1,
              "#f0f921"
             ]
            ],
            "type": "histogram2dcontour"
           }
          ],
          "mesh3d": [
           {
            "colorbar": {
             "outlinewidth": 0,
             "ticks": ""
            },
            "type": "mesh3d"
           }
          ],
          "parcoords": [
           {
            "line": {
             "colorbar": {
              "outlinewidth": 0,
              "ticks": ""
             }
            },
            "type": "parcoords"
           }
          ],
          "pie": [
           {
            "automargin": true,
            "type": "pie"
           }
          ],
          "scatter": [
           {
            "fillpattern": {
             "fillmode": "overlay",
             "size": 10,
             "solidity": 0.2
            },
            "type": "scatter"
           }
          ],
          "scatter3d": [
           {
            "line": {
             "colorbar": {
              "outlinewidth": 0,
              "ticks": ""
             }
            },
            "marker": {
             "colorbar": {
              "outlinewidth": 0,
              "ticks": ""
             }
            },
            "type": "scatter3d"
           }
          ],
          "scattercarpet": [
           {
            "marker": {
             "colorbar": {
              "outlinewidth": 0,
              "ticks": ""
             }
            },
            "type": "scattercarpet"
           }
          ],
          "scattergeo": [
           {
            "marker": {
             "colorbar": {
              "outlinewidth": 0,
              "ticks": ""
             }
            },
            "type": "scattergeo"
           }
          ],
          "scattergl": [
           {
            "marker": {
             "colorbar": {
              "outlinewidth": 0,
              "ticks": ""
             }
            },
            "type": "scattergl"
           }
          ],
          "scattermap": [
           {
            "marker": {
             "colorbar": {
              "outlinewidth": 0,
              "ticks": ""
             }
            },
            "type": "scattermap"
           }
          ],
          "scattermapbox": [
           {
            "marker": {
             "colorbar": {
              "outlinewidth": 0,
              "ticks": ""
             }
            },
            "type": "scattermapbox"
           }
          ],
          "scatterpolar": [
           {
            "marker": {
             "colorbar": {
              "outlinewidth": 0,
              "ticks": ""
             }
            },
            "type": "scatterpolar"
           }
          ],
          "scatterpolargl": [
           {
            "marker": {
             "colorbar": {
              "outlinewidth": 0,
              "ticks": ""
             }
            },
            "type": "scatterpolargl"
           }
          ],
          "scatterternary": [
           {
            "marker": {
             "colorbar": {
              "outlinewidth": 0,
              "ticks": ""
             }
            },
            "type": "scatterternary"
           }
          ],
          "surface": [
           {
            "colorbar": {
             "outlinewidth": 0,
             "ticks": ""
            },
            "colorscale": [
             [
              0,
              "#0d0887"
             ],
             [
              0.1111111111111111,
              "#46039f"
             ],
             [
              0.2222222222222222,
              "#7201a8"
             ],
             [
              0.3333333333333333,
              "#9c179e"
             ],
             [
              0.4444444444444444,
              "#bd3786"
             ],
             [
              0.5555555555555556,
              "#d8576b"
             ],
             [
              0.6666666666666666,
              "#ed7953"
             ],
             [
              0.7777777777777778,
              "#fb9f3a"
             ],
             [
              0.8888888888888888,
              "#fdca26"
             ],
             [
              1,
              "#f0f921"
             ]
            ],
            "type": "surface"
           }
          ],
          "table": [
           {
            "cells": {
             "fill": {
              "color": "#EBF0F8"
             },
             "line": {
              "color": "white"
             }
            },
            "header": {
             "fill": {
              "color": "#C8D4E3"
             },
             "line": {
              "color": "white"
             }
            },
            "type": "table"
           }
          ]
         },
         "layout": {
          "annotationdefaults": {
           "arrowcolor": "#2a3f5f",
           "arrowhead": 0,
           "arrowwidth": 1
          },
          "autotypenumbers": "strict",
          "coloraxis": {
           "colorbar": {
            "outlinewidth": 0,
            "ticks": ""
           }
          },
          "colorscale": {
           "diverging": [
            [
             0,
             "#8e0152"
            ],
            [
             0.1,
             "#c51b7d"
            ],
            [
             0.2,
             "#de77ae"
            ],
            [
             0.3,
             "#f1b6da"
            ],
            [
             0.4,
             "#fde0ef"
            ],
            [
             0.5,
             "#f7f7f7"
            ],
            [
             0.6,
             "#e6f5d0"
            ],
            [
             0.7,
             "#b8e186"
            ],
            [
             0.8,
             "#7fbc41"
            ],
            [
             0.9,
             "#4d9221"
            ],
            [
             1,
             "#276419"
            ]
           ],
           "sequential": [
            [
             0,
             "#0d0887"
            ],
            [
             0.1111111111111111,
             "#46039f"
            ],
            [
             0.2222222222222222,
             "#7201a8"
            ],
            [
             0.3333333333333333,
             "#9c179e"
            ],
            [
             0.4444444444444444,
             "#bd3786"
            ],
            [
             0.5555555555555556,
             "#d8576b"
            ],
            [
             0.6666666666666666,
             "#ed7953"
            ],
            [
             0.7777777777777778,
             "#fb9f3a"
            ],
            [
             0.8888888888888888,
             "#fdca26"
            ],
            [
             1,
             "#f0f921"
            ]
           ],
           "sequentialminus": [
            [
             0,
             "#0d0887"
            ],
            [
             0.1111111111111111,
             "#46039f"
            ],
            [
             0.2222222222222222,
             "#7201a8"
            ],
            [
             0.3333333333333333,
             "#9c179e"
            ],
            [
             0.4444444444444444,
             "#bd3786"
            ],
            [
             0.5555555555555556,
             "#d8576b"
            ],
            [
             0.6666666666666666,
             "#ed7953"
            ],
            [
             0.7777777777777778,
             "#fb9f3a"
            ],
            [
             0.8888888888888888,
             "#fdca26"
            ],
            [
             1,
             "#f0f921"
            ]
           ]
          },
          "colorway": [
           "#636efa",
           "#EF553B",
           "#00cc96",
           "#ab63fa",
           "#FFA15A",
           "#19d3f3",
           "#FF6692",
           "#B6E880",
           "#FF97FF",
           "#FECB52"
          ],
          "font": {
           "color": "#2a3f5f"
          },
          "geo": {
           "bgcolor": "white",
           "lakecolor": "white",
           "landcolor": "#E5ECF6",
           "showlakes": true,
           "showland": true,
           "subunitcolor": "white"
          },
          "hoverlabel": {
           "align": "left"
          },
          "hovermode": "closest",
          "mapbox": {
           "style": "light"
          },
          "paper_bgcolor": "white",
          "plot_bgcolor": "#E5ECF6",
          "polar": {
           "angularaxis": {
            "gridcolor": "white",
            "linecolor": "white",
            "ticks": ""
           },
           "bgcolor": "#E5ECF6",
           "radialaxis": {
            "gridcolor": "white",
            "linecolor": "white",
            "ticks": ""
           }
          },
          "scene": {
           "xaxis": {
            "backgroundcolor": "#E5ECF6",
            "gridcolor": "white",
            "gridwidth": 2,
            "linecolor": "white",
            "showbackground": true,
            "ticks": "",
            "zerolinecolor": "white"
           },
           "yaxis": {
            "backgroundcolor": "#E5ECF6",
            "gridcolor": "white",
            "gridwidth": 2,
            "linecolor": "white",
            "showbackground": true,
            "ticks": "",
            "zerolinecolor": "white"
           },
           "zaxis": {
            "backgroundcolor": "#E5ECF6",
            "gridcolor": "white",
            "gridwidth": 2,
            "linecolor": "white",
            "showbackground": true,
            "ticks": "",
            "zerolinecolor": "white"
           }
          },
          "shapedefaults": {
           "line": {
            "color": "#2a3f5f"
           }
          },
          "ternary": {
           "aaxis": {
            "gridcolor": "white",
            "linecolor": "white",
            "ticks": ""
           },
           "baxis": {
            "gridcolor": "white",
            "linecolor": "white",
            "ticks": ""
           },
           "bgcolor": "#E5ECF6",
           "caxis": {
            "gridcolor": "white",
            "linecolor": "white",
            "ticks": ""
           }
          },
          "title": {
           "x": 0.05
          },
          "xaxis": {
           "automargin": true,
           "gridcolor": "white",
           "linecolor": "white",
           "ticks": "",
           "title": {
            "standoff": 15
           },
           "zerolinecolor": "white",
           "zerolinewidth": 2
          },
          "yaxis": {
           "automargin": true,
           "gridcolor": "white",
           "linecolor": "white",
           "ticks": "",
           "title": {
            "standoff": 15
           },
           "zerolinecolor": "white",
           "zerolinewidth": 2
          }
         }
        },
        "title": {
         "text": "Distribución de Cuentas en la Etapa DEVELOPMENT por Tipo y Resultado"
        },
        "xaxis": {
         "anchor": "y",
         "domain": [
          0,
          1
         ],
         "title": {
          "text": "Tipo de Cuenta"
         }
        },
        "yaxis": {
         "anchor": "x",
         "domain": [
          0,
          1
         ],
         "title": {
          "text": "Cantidad de Cuentas"
         }
        }
       }
      }
     },
     "metadata": {},
     "output_type": "display_data"
    }
   ],
   "source": [
    "# Filtrar cuentas de la etapa DEVELOPMENT\n",
    "df_dev = df_cost_clean[(df_cost_clean['Nivel'] == 'Detalle') &\n",
    "                       (df_cost_clean['Etapa Normalizada'] == 'DEVELOPMENT')].copy()\n",
    "\n",
    "# Calcular TOTAL COSTO y diferencia\n",
    "df_dev['TOTAL COSTO'] = df_dev['COST TO DATE'] + df_dev['COMMITMENTS']\n",
    "df_dev['DIFERENCIA vs BUDGET'] = df_dev['BUDGET'] - df_dev['TOTAL COSTO']\n",
    "\n",
    "# Clasificar en estado presupuestario con tolerancia\n",
    "def clasificar_estado(valor):\n",
    "    if pd.isna(valor):\n",
    "        return 'Neutral'\n",
    "    elif np.isclose(valor, 0, atol=1):\n",
    "        return 'Neutral'\n",
    "    elif valor > 0:\n",
    "        return 'Ahorro'\n",
    "    else:\n",
    "        return 'Sobregasto'\n",
    "\n",
    "df_dev['Estado'] = df_dev['DIFERENCIA vs BUDGET'].apply(clasificar_estado)\n",
    "\n",
    "# Limpiar y normalizar TIPO\n",
    "df_dev['TIPO'] = df_dev['TIPO'].astype(str).str.strip().str.upper()\n",
    "\n",
    "# Agrupar por TIPO y Estado\n",
    "conteo_tipo_estado_dev = df_dev.groupby(['TIPO', 'Estado']).size().unstack(fill_value=0).reset_index()\n",
    "\n",
    "# Asegurar columnas presentes\n",
    "for col in ['Ahorro', 'Neutral', 'Sobregasto']:\n",
    "    if col not in conteo_tipo_estado_dev.columns:\n",
    "        conteo_tipo_estado_dev[col] = 0\n",
    "\n",
    "# Formato largo para graficar\n",
    "df_plot_dev = conteo_tipo_estado_dev.melt(\n",
    "    id_vars='TIPO',\n",
    "    value_vars=['Ahorro', 'Neutral', 'Sobregasto'],\n",
    "    var_name='Estado',\n",
    "    value_name='Cantidad'\n",
    ")\n",
    "\n",
    "# Crear gráfico de barras apiladas\n",
    "fig = px.bar(\n",
    "    df_plot_dev,\n",
    "    x='TIPO',\n",
    "    y='Cantidad',\n",
    "    color='Estado',\n",
    "    title='Distribución de Cuentas en la Etapa DEVELOPMENT por Tipo y Resultado',\n",
    "    text='Cantidad',\n",
    "    color_discrete_map={\n",
    "        'Ahorro': '#2CA02C',\n",
    "        'Neutral': '#7F7F7F',\n",
    "        'Sobregasto': '#D62728'\n",
    "    }\n",
    ")\n",
    "\n",
    "fig.update_traces(textposition='auto')\n",
    "fig.update_layout(\n",
    "    xaxis_title='Tipo de Cuenta',\n",
    "    yaxis_title='Cantidad de Cuentas',\n",
    "    plot_bgcolor='white',\n",
    "    legend_title='Resultado',\n",
    "    barmode='stack'\n",
    ")\n",
    "\n",
    "fig.show()\n"
   ]
  },
  {
   "cell_type": "markdown",
   "id": "a19fd09e",
   "metadata": {},
   "source": [
    "### Análisis\n",
    "Se hicieron gráficos para todas las etapas (SHOOT, POST, WRAP, DEVELOPMENT, SOFT\n",
    "y PREP.) que muestran cómo se comportan las cuentas según su tipo (Above the Line, Below\n",
    "the Line, Others, Post) y qué resultado tuvieron (ahorro, neutral o sobregasto).\n",
    "### Hallazgos\n",
    "● El tipo Below the Line fue el más común en todas las etapas.\n",
    "\n",
    "● También fue el tipo con más cuentas que tuvieron tanto ahorro como sobregasto.\n",
    "\n",
    "● No se vio un patrón claro donde un tipo de cuenta siempre tuviera más ahorro o más\n",
    "sobregasto en todas las etapas.\n",
    "\n",
    "### Conclusión\n",
    "La hipótesis se confirma a medias. Sí hay cierta relación entre el tipo de cuenta y su\n",
    "resultado, pero eso parece deberse más a la cantidad de cuentas que tiene cada tipo. Por\n",
    "ejemplo, Below the Line aparece mucho, así que es normal que también tenga más casos tanto\n",
    "de ahorro como de sobregasto."
   ]
  },
  {
   "cell_type": "markdown",
   "id": "160d6ff9",
   "metadata": {},
   "source": [
    "## Visualización Interactiva: Presupuesto vs Gasto\n",
    "\n",
    "Este dashboard dinámico permite explorar cómo evoluciona el gasto a lo largo del tiempo en relación con el presupuesto, desde distintas dimensiones:\n",
    "\n",
    "- **Global**: visión general acumulada del gasto total.\n",
    "- **Etapa**: compara presupuestos y gastos por fase del proyecto (PREP, SHOOT, POST, etc.).\n",
    "- **Departamento**: analiza el comportamiento por área o sección.\n",
    "- **Cuenta General**: muestra las 6 cuentas con mayor gasto y agrupa el resto como “Otros”.\n",
    "\n",
    "Cada visualización es un gráfico tipo dona que:\n",
    "- Cambia dinámicamente según la semana seleccionada (slider).\n",
    "- Muestra si se mantuvo dentro del presupuesto o hubo excedente.\n",
    "- Colorea automáticamente los segmentos: azul/gastado, rojo/disponible, verde/excedente.\n",
    "\n",
    "El botón desplegable permite alternar entre las diferentes dimensiones, mientras que el slider permite simular la evolución semana a semana.\n",
    "\n",
    "Esta visualización facilita identificar en qué momento y en qué área comenzaron los excesos, y si el proyecto globalmente se mantuvo bajo control.\n"
   ]
  },
  {
   "cell_type": "code",
   "execution_count": 14,
   "id": "f8221058",
   "metadata": {},
   "outputs": [
    {
     "name": "stdout",
     "output_type": "stream",
     "text": [
      "🔍 Totales finales:\n",
      "  Presupuesto Total   : 135,097,911.00\n",
      "  Presupuesto Gastado : 135,445,624.41\n"
     ]
    },
    {
     "data": {
      "application/vnd.plotly.v1+json": {
       "config": {
        "plotlyServerURL": "https://plot.ly"
       },
       "data": [
        {
         "domain": {
          "x": [
           0,
           1
          ],
          "y": [
           0,
           1
          ]
         },
         "hole": 0.5,
         "labels": [
          "Gastado",
          "Disponible"
         ],
         "marker": {
          "colors": [
           "#636efa",
           "#ef553b"
          ],
          "line": {
           "color": "#FFFFFF",
           "width": 2
          }
         },
         "name": "Global",
         "sort": false,
         "textinfo": "label+percent",
         "type": "pie",
         "values": [
          0,
          135097911
         ],
         "visible": true
        },
        {
         "domain": {
          "x": [
           0,
           1
          ],
          "y": [
           0,
           1
          ]
         },
         "hole": 0.5,
         "labels": [
          "DEVELOPMENT",
          "POST",
          "PREP",
          "SHOOT",
          "SOFT",
          "WRAP",
          "Disponible"
         ],
         "marker": {
          "colors": [
           "#636EFA",
           "#EF553B",
           "#00CC96",
           "#AB63FA",
           "#FFA15A",
           "#19D3F3",
           "#ef553b"
          ],
          "line": {
           "color": "#FFFFFF",
           "width": 2
          }
         },
         "name": "Etapa",
         "sort": false,
         "textinfo": "label+percent",
         "type": "pie",
         "values": [
          0,
          0,
          0,
          0,
          0,
          0,
          135097911
         ],
         "visible": false
        },
        {
         "domain": {
          "x": [
           0,
           1
          ],
          "y": [
           0,
           1
          ]
         },
         "hole": 0.5,
         "labels": [
          "ANDA",
          "ARTE",
          "BALU",
          "DINAMITA",
          "LOCACIONES",
          "NOM",
          "Disponible"
         ],
         "marker": {
          "colors": [
           "#1F77B4",
           "#FF7F0E",
           "#2CA02C",
           "#D62728",
           "#9467BD",
           "#8C564B",
           "#ef553b"
          ],
          "line": {
           "color": "#FFFFFF",
           "width": 2
          }
         },
         "name": "Departamento",
         "sort": false,
         "textinfo": "label+percent",
         "type": "pie",
         "values": [
          0,
          0,
          0,
          0,
          0,
          0,
          135097911
         ],
         "visible": false
        },
        {
         "domain": {
          "x": [
           0,
           1
          ],
          "y": [
           0,
           1
          ]
         },
         "hole": 0.5,
         "labels": [
          "1100",
          "1200",
          "1300",
          "1400",
          "1600",
          "2000",
          "Otros",
          "Disponible"
         ],
         "marker": {
          "colors": [
           "#636EFA",
           "#EF553B",
           "#00CC96",
           "#AB63FA",
           "#FFA15A",
           "#19D3F3",
           "#d3d3d3",
           "#ef553b"
          ],
          "line": {
           "color": "#FFFFFF",
           "width": 2
          }
         },
         "name": "Cuenta General",
         "sort": false,
         "textinfo": "label+percent",
         "type": "pie",
         "values": [
          0,
          0,
          0,
          0,
          0,
          0,
          0,
          135097911
         ],
         "visible": false
        }
       ],
       "layout": {
        "annotations": [
         {
          "font": {
           "size": 20
          },
          "showarrow": false,
          "text": "Global",
          "visible": true,
          "x": 0.5,
          "y": 0.5
         },
         {
          "align": "left",
          "font": {
           "size": 14
          },
          "showarrow": false,
          "text": "Semana : 0<br>Presupuesto Total : $135,097,911.00<br>Gasto Total : $0.00<br>Disponible : $135,097,911.00",
          "visible": true,
          "x": -0.25,
          "xanchor": "left",
          "y": 0.5,
          "yanchor": "middle"
         },
         {
          "font": {
           "size": 20
          },
          "showarrow": false,
          "text": "Etapas",
          "visible": false,
          "x": 0.5,
          "y": 0.5
         },
         {
          "align": "left",
          "font": {
           "size": 14
          },
          "showarrow": false,
          "text": "Semana : 0<br>Presupuesto Total : $135,097,911.00<br>DEVELOPMENT: $0.00<br>POST: $0.00<br>PREP: $0.00<br>SHOOT: $0.00<br>SOFT: $0.00<br>WRAP: $0.00<br>Disponible : $135,097,911.00",
          "visible": false,
          "x": -0.25,
          "xanchor": "left",
          "y": 0.5,
          "yanchor": "middle"
         },
         {
          "font": {
           "size": 20
          },
          "showarrow": false,
          "text": "Departamento",
          "visible": false,
          "x": 0.5,
          "y": 0.5
         },
         {
          "align": "left",
          "font": {
           "size": 14
          },
          "showarrow": false,
          "text": "Semana : 0<br>Presupuesto Total : $135,097,911.00<br>ANDA: $0.00<br>ARTE: $0.00<br>BALU: $0.00<br>DINAMITA: $0.00<br>LOCACIONES: $0.00<br>NOM: $0.00<br>Disponible : $135,097,911.00",
          "visible": false,
          "x": -0.25,
          "xanchor": "left",
          "y": 0.5,
          "yanchor": "middle"
         },
         {
          "font": {
           "size": 20
          },
          "showarrow": false,
          "text": "Cuenta General",
          "visible": false,
          "x": 0.5,
          "y": 0.5
         },
         {
          "align": "left",
          "font": {
           "size": 14
          },
          "showarrow": false,
          "text": "Semana : 0<br>Presupuesto Total : $135,097,911.00<br>1100: $0.00<br>1200: $0.00<br>1300: $0.00<br>1400: $0.00<br>1600: $0.00<br>2000: $0.00<br>Otros: $0.00<br>Disponible : $135,097,911.00",
          "visible": false,
          "x": -0.25,
          "xanchor": "left",
          "y": 0.5,
          "yanchor": "middle"
         }
        ],
        "showlegend": true,
        "sliders": [
         {
          "active": 0,
          "currentvalue": {
           "prefix": "Semana ≤ "
          },
          "pad": {
           "t": 50
          },
          "steps": [
           {
            "args": [
             {
              "labels": [
               [
                "Gastado",
                "Disponible"
               ],
               [
                "DEVELOPMENT",
                "POST",
                "PREP",
                "SHOOT",
                "SOFT",
                "WRAP",
                "Disponible"
               ],
               [
                "ANDA",
                "ARTE",
                "BALU",
                "DINAMITA",
                "LOCACIONES",
                "NOM",
                "Disponible"
               ],
               [
                "1100",
                "1200",
                "1300",
                "1400",
                "1600",
                "2000",
                "Otros",
                "Disponible"
               ]
              ],
              "marker.colors": [
               [
                "#636efa",
                "#ef553b"
               ],
               [
                "#636EFA",
                "#EF553B",
                "#00CC96",
                "#AB63FA",
                "#FFA15A",
                "#19D3F3",
                "#ef553b"
               ],
               [
                "#1F77B4",
                "#FF7F0E",
                "#2CA02C",
                "#D62728",
                "#9467BD",
                "#8C564B",
                "#ef553b"
               ],
               [
                "#636EFA",
                "#EF553B",
                "#00CC96",
                "#AB63FA",
                "#FFA15A",
                "#19D3F3",
                "#d3d3d3",
                "#ef553b"
               ]
              ],
              "values": [
               [
                0,
                135097911
               ],
               [
                0,
                0,
                0,
                0,
                0,
                0,
                135097911
               ],
               [
                0,
                0,
                0,
                0,
                0,
                0,
                135097911
               ],
               [
                0,
                0,
                0,
                0,
                0,
                0,
                0,
                135097911
               ]
              ]
             },
             {
              "annotations[0].text": "Global",
              "annotations[1].text": "Semana : 0<br>Presupuesto Total : $135,097,911.00<br>Gasto Total : $0.00<br>Disponible : $135,097,911.00",
              "annotations[2].text": "Etapas",
              "annotations[3].text": "Semana : 0<br>Presupuesto Total : $135,097,911.00<br>DEVELOPMENT: $0.00<br>POST: $0.00<br>PREP: $0.00<br>SHOOT: $0.00<br>SOFT: $0.00<br>WRAP: $0.00<br>Disponible : $135,097,911.00",
              "annotations[4].text": "Departamento",
              "annotations[5].text": "Semana : 0<br>Presupuesto Total : $135,097,911.00<br>ANDA: $0.00<br>ARTE: $0.00<br>BALU: $0.00<br>DINAMITA: $0.00<br>LOCACIONES: $0.00<br>NOM: $0.00<br>Disponible : $135,097,911.00",
              "annotations[6].text": "Cuenta General",
              "annotations[7].text": "Semana : 0<br>Presupuesto Total : $135,097,911.00<br>1100: $0.00<br>1200: $0.00<br>1300: $0.00<br>1400: $0.00<br>1600: $0.00<br>2000: $0.00<br>Otros: $0.00<br>Disponible : $135,097,911.00",
              "title": "Presupuesto vs Gasto – Semana ≤ 0"
             }
            ],
            "label": "0",
            "method": "update"
           },
           {
            "args": [
             {
              "labels": [
               [
                "Gastado",
                "Disponible"
               ],
               [
                "DEVELOPMENT",
                "POST",
                "PREP",
                "SHOOT",
                "SOFT",
                "WRAP",
                "Disponible"
               ],
               [
                "ANDA",
                "ARTE",
                "BALU",
                "DINAMITA",
                "LOCACIONES",
                "NOM",
                "Disponible"
               ],
               [
                "1100",
                "1200",
                "1300",
                "1400",
                "1600",
                "2000",
                "Otros",
                "Disponible"
               ]
              ],
              "marker.colors": [
               [
                "#636efa",
                "#ef553b"
               ],
               [
                "#636EFA",
                "#EF553B",
                "#00CC96",
                "#AB63FA",
                "#FFA15A",
                "#19D3F3",
                "#ef553b"
               ],
               [
                "#1F77B4",
                "#FF7F0E",
                "#2CA02C",
                "#D62728",
                "#9467BD",
                "#8C564B",
                "#ef553b"
               ],
               [
                "#636EFA",
                "#EF553B",
                "#00CC96",
                "#AB63FA",
                "#FFA15A",
                "#19D3F3",
                "#d3d3d3",
                "#ef553b"
               ]
              ],
              "values": [
               [
                0,
                135097911
               ],
               [
                0,
                0,
                0,
                0,
                0,
                0,
                135097911
               ],
               [
                0,
                0,
                0,
                0,
                0,
                0,
                135097911
               ],
               [
                0,
                0,
                0,
                0,
                0,
                0,
                0,
                135097911
               ]
              ]
             },
             {
              "annotations[0].text": "Global",
              "annotations[1].text": "Semana : 1<br>Presupuesto Total : $135,097,911.00<br>Gasto Total : $0.00<br>Disponible : $135,097,911.00",
              "annotations[2].text": "Etapas",
              "annotations[3].text": "Semana : 1<br>Presupuesto Total : $135,097,911.00<br>DEVELOPMENT: $0.00<br>POST: $0.00<br>PREP: $0.00<br>SHOOT: $0.00<br>SOFT: $0.00<br>WRAP: $0.00<br>Disponible : $135,097,911.00",
              "annotations[4].text": "Departamento",
              "annotations[5].text": "Semana : 1<br>Presupuesto Total : $135,097,911.00<br>ANDA: $0.00<br>ARTE: $0.00<br>BALU: $0.00<br>DINAMITA: $0.00<br>LOCACIONES: $0.00<br>NOM: $0.00<br>Disponible : $135,097,911.00",
              "annotations[6].text": "Cuenta General",
              "annotations[7].text": "Semana : 1<br>Presupuesto Total : $135,097,911.00<br>1100: $0.00<br>1200: $0.00<br>1300: $0.00<br>1400: $0.00<br>1600: $0.00<br>2000: $0.00<br>Otros: $0.00<br>Disponible : $135,097,911.00",
              "title": "Presupuesto vs Gasto – Semana ≤ 1"
             }
            ],
            "label": "1",
            "method": "update"
           },
           {
            "args": [
             {
              "labels": [
               [
                "Gastado",
                "Disponible"
               ],
               [
                "DEVELOPMENT",
                "POST",
                "PREP",
                "SHOOT",
                "SOFT",
                "WRAP",
                "Disponible"
               ],
               [
                "ANDA",
                "ARTE",
                "BALU",
                "DINAMITA",
                "LOCACIONES",
                "NOM",
                "Disponible"
               ],
               [
                "1100",
                "1200",
                "1300",
                "1400",
                "1600",
                "2000",
                "Otros",
                "Disponible"
               ]
              ],
              "marker.colors": [
               [
                "#636efa",
                "#ef553b"
               ],
               [
                "#636EFA",
                "#EF553B",
                "#00CC96",
                "#AB63FA",
                "#FFA15A",
                "#19D3F3",
                "#ef553b"
               ],
               [
                "#1F77B4",
                "#FF7F0E",
                "#2CA02C",
                "#D62728",
                "#9467BD",
                "#8C564B",
                "#ef553b"
               ],
               [
                "#636EFA",
                "#EF553B",
                "#00CC96",
                "#AB63FA",
                "#FFA15A",
                "#19D3F3",
                "#d3d3d3",
                "#ef553b"
               ]
              ],
              "values": [
               [
                0,
                135097911
               ],
               [
                0,
                0,
                0,
                0,
                0,
                0,
                135097911
               ],
               [
                0,
                0,
                0,
                0,
                0,
                0,
                135097911
               ],
               [
                0,
                0,
                0,
                0,
                0,
                0,
                0,
                135097911
               ]
              ]
             },
             {
              "annotations[0].text": "Global",
              "annotations[1].text": "Semana : 2<br>Presupuesto Total : $135,097,911.00<br>Gasto Total : $0.00<br>Disponible : $135,097,911.00",
              "annotations[2].text": "Etapas",
              "annotations[3].text": "Semana : 2<br>Presupuesto Total : $135,097,911.00<br>DEVELOPMENT: $0.00<br>POST: $0.00<br>PREP: $0.00<br>SHOOT: $0.00<br>SOFT: $0.00<br>WRAP: $0.00<br>Disponible : $135,097,911.00",
              "annotations[4].text": "Departamento",
              "annotations[5].text": "Semana : 2<br>Presupuesto Total : $135,097,911.00<br>ANDA: $0.00<br>ARTE: $0.00<br>BALU: $0.00<br>DINAMITA: $0.00<br>LOCACIONES: $0.00<br>NOM: $0.00<br>Disponible : $135,097,911.00",
              "annotations[6].text": "Cuenta General",
              "annotations[7].text": "Semana : 2<br>Presupuesto Total : $135,097,911.00<br>1100: $0.00<br>1200: $0.00<br>1300: $0.00<br>1400: $0.00<br>1600: $0.00<br>2000: $0.00<br>Otros: $0.00<br>Disponible : $135,097,911.00",
              "title": "Presupuesto vs Gasto – Semana ≤ 2"
             }
            ],
            "label": "2",
            "method": "update"
           },
           {
            "args": [
             {
              "labels": [
               [
                "Gastado",
                "Disponible"
               ],
               [
                "DEVELOPMENT",
                "POST",
                "PREP",
                "SHOOT",
                "SOFT",
                "WRAP",
                "Disponible"
               ],
               [
                "ANDA",
                "ARTE",
                "BALU",
                "DINAMITA",
                "LOCACIONES",
                "NOM",
                "Disponible"
               ],
               [
                "1100",
                "1200",
                "1300",
                "1400",
                "1600",
                "2000",
                "Otros",
                "Disponible"
               ]
              ],
              "marker.colors": [
               [
                "#636efa",
                "#ef553b"
               ],
               [
                "#636EFA",
                "#EF553B",
                "#00CC96",
                "#AB63FA",
                "#FFA15A",
                "#19D3F3",
                "#ef553b"
               ],
               [
                "#1F77B4",
                "#FF7F0E",
                "#2CA02C",
                "#D62728",
                "#9467BD",
                "#8C564B",
                "#ef553b"
               ],
               [
                "#636EFA",
                "#EF553B",
                "#00CC96",
                "#AB63FA",
                "#FFA15A",
                "#19D3F3",
                "#d3d3d3",
                "#ef553b"
               ]
              ],
              "values": [
               [
                0,
                135097911
               ],
               [
                0,
                0,
                0,
                0,
                0,
                0,
                135097911
               ],
               [
                0,
                0,
                0,
                0,
                0,
                0,
                135097911
               ],
               [
                0,
                0,
                0,
                0,
                0,
                0,
                0,
                135097911
               ]
              ]
             },
             {
              "annotations[0].text": "Global",
              "annotations[1].text": "Semana : 3<br>Presupuesto Total : $135,097,911.00<br>Gasto Total : $0.00<br>Disponible : $135,097,911.00",
              "annotations[2].text": "Etapas",
              "annotations[3].text": "Semana : 3<br>Presupuesto Total : $135,097,911.00<br>DEVELOPMENT: $0.00<br>POST: $0.00<br>PREP: $0.00<br>SHOOT: $0.00<br>SOFT: $0.00<br>WRAP: $0.00<br>Disponible : $135,097,911.00",
              "annotations[4].text": "Departamento",
              "annotations[5].text": "Semana : 3<br>Presupuesto Total : $135,097,911.00<br>ANDA: $0.00<br>ARTE: $0.00<br>BALU: $0.00<br>DINAMITA: $0.00<br>LOCACIONES: $0.00<br>NOM: $0.00<br>Disponible : $135,097,911.00",
              "annotations[6].text": "Cuenta General",
              "annotations[7].text": "Semana : 3<br>Presupuesto Total : $135,097,911.00<br>1100: $0.00<br>1200: $0.00<br>1300: $0.00<br>1400: $0.00<br>1600: $0.00<br>2000: $0.00<br>Otros: $0.00<br>Disponible : $135,097,911.00",
              "title": "Presupuesto vs Gasto – Semana ≤ 3"
             }
            ],
            "label": "3",
            "method": "update"
           },
           {
            "args": [
             {
              "labels": [
               [
                "Gastado",
                "Disponible"
               ],
               [
                "DEVELOPMENT",
                "POST",
                "PREP",
                "SHOOT",
                "SOFT",
                "WRAP",
                "Disponible"
               ],
               [
                "ANDA",
                "ARTE",
                "BALU",
                "DINAMITA",
                "LOCACIONES",
                "NOM",
                "Disponible"
               ],
               [
                "1100",
                "1200",
                "1300",
                "1400",
                "1600",
                "2000",
                "Otros",
                "Disponible"
               ]
              ],
              "marker.colors": [
               [
                "#636efa",
                "#ef553b"
               ],
               [
                "#636EFA",
                "#EF553B",
                "#00CC96",
                "#AB63FA",
                "#FFA15A",
                "#19D3F3",
                "#ef553b"
               ],
               [
                "#1F77B4",
                "#FF7F0E",
                "#2CA02C",
                "#D62728",
                "#9467BD",
                "#8C564B",
                "#ef553b"
               ],
               [
                "#636EFA",
                "#EF553B",
                "#00CC96",
                "#AB63FA",
                "#FFA15A",
                "#19D3F3",
                "#d3d3d3",
                "#ef553b"
               ]
              ],
              "values": [
               [
                0,
                135097911
               ],
               [
                0,
                0,
                0,
                0,
                0,
                0,
                135097911
               ],
               [
                0,
                0,
                0,
                0,
                0,
                0,
                135097911
               ],
               [
                0,
                0,
                0,
                0,
                0,
                0,
                0,
                135097911
               ]
              ]
             },
             {
              "annotations[0].text": "Global",
              "annotations[1].text": "Semana : 4<br>Presupuesto Total : $135,097,911.00<br>Gasto Total : $0.00<br>Disponible : $135,097,911.00",
              "annotations[2].text": "Etapas",
              "annotations[3].text": "Semana : 4<br>Presupuesto Total : $135,097,911.00<br>DEVELOPMENT: $0.00<br>POST: $0.00<br>PREP: $0.00<br>SHOOT: $0.00<br>SOFT: $0.00<br>WRAP: $0.00<br>Disponible : $135,097,911.00",
              "annotations[4].text": "Departamento",
              "annotations[5].text": "Semana : 4<br>Presupuesto Total : $135,097,911.00<br>ANDA: $0.00<br>ARTE: $0.00<br>BALU: $0.00<br>DINAMITA: $0.00<br>LOCACIONES: $0.00<br>NOM: $0.00<br>Disponible : $135,097,911.00",
              "annotations[6].text": "Cuenta General",
              "annotations[7].text": "Semana : 4<br>Presupuesto Total : $135,097,911.00<br>1100: $0.00<br>1200: $0.00<br>1300: $0.00<br>1400: $0.00<br>1600: $0.00<br>2000: $0.00<br>Otros: $0.00<br>Disponible : $135,097,911.00",
              "title": "Presupuesto vs Gasto – Semana ≤ 4"
             }
            ],
            "label": "4",
            "method": "update"
           },
           {
            "args": [
             {
              "labels": [
               [
                "Gastado",
                "Disponible"
               ],
               [
                "DEVELOPMENT",
                "POST",
                "PREP",
                "SHOOT",
                "SOFT",
                "WRAP",
                "Disponible"
               ],
               [
                "ANDA",
                "ARTE",
                "BALU",
                "DINAMITA",
                "LOCACIONES",
                "NOM",
                "Disponible"
               ],
               [
                "7000",
                "1100",
                "1200",
                "1300",
                "1400",
                "1600",
                "Otros",
                "Disponible"
               ]
              ],
              "marker.colors": [
               [
                "#636efa",
                "#ef553b"
               ],
               [
                "#636EFA",
                "#EF553B",
                "#00CC96",
                "#AB63FA",
                "#FFA15A",
                "#19D3F3",
                "#ef553b"
               ],
               [
                "#1F77B4",
                "#FF7F0E",
                "#2CA02C",
                "#D62728",
                "#9467BD",
                "#8C564B",
                "#ef553b"
               ],
               [
                "#636EFA",
                "#EF553B",
                "#00CC96",
                "#AB63FA",
                "#FFA15A",
                "#19D3F3",
                "#d3d3d3",
                "#ef553b"
               ]
              ],
              "values": [
               [
                14182,
                135083729
               ],
               [
                0,
                0,
                0,
                14182,
                0,
                0,
                135083729
               ],
               [
                0,
                0,
                0,
                0,
                0,
                0,
                135083729
               ],
               [
                14182,
                0,
                0,
                0,
                0,
                0,
                0,
                135083729
               ]
              ]
             },
             {
              "annotations[0].text": "Global",
              "annotations[1].text": "Semana : 5<br>Presupuesto Total : $135,097,911.00<br>Gasto Total : $14,182.00<br>Disponible : $135,083,729.00",
              "annotations[2].text": "Etapas",
              "annotations[3].text": "Semana : 5<br>Presupuesto Total : $135,097,911.00<br>DEVELOPMENT: $0.00<br>POST: $0.00<br>PREP: $0.00<br>SHOOT: $14,182.00<br>SOFT: $0.00<br>WRAP: $0.00<br>Disponible : $135,083,729.00",
              "annotations[4].text": "Departamento",
              "annotations[5].text": "Semana : 5<br>Presupuesto Total : $135,097,911.00<br>ANDA: $0.00<br>ARTE: $0.00<br>BALU: $0.00<br>DINAMITA: $0.00<br>LOCACIONES: $0.00<br>NOM: $0.00<br>Disponible : $135,083,729.00",
              "annotations[6].text": "Cuenta General",
              "annotations[7].text": "Semana : 5<br>Presupuesto Total : $135,097,911.00<br>7000: $14,182.00<br>1100: $0.00<br>1200: $0.00<br>1300: $0.00<br>1400: $0.00<br>1600: $0.00<br>Otros: $0.00<br>Disponible : $135,083,729.00",
              "title": "Presupuesto vs Gasto – Semana ≤ 5"
             }
            ],
            "label": "5",
            "method": "update"
           },
           {
            "args": [
             {
              "labels": [
               [
                "Gastado",
                "Disponible"
               ],
               [
                "DEVELOPMENT",
                "POST",
                "PREP",
                "SHOOT",
                "SOFT",
                "WRAP",
                "Disponible"
               ],
               [
                "ANDA",
                "ARTE",
                "BALU",
                "DINAMITA",
                "LOCACIONES",
                "NOM",
                "Disponible"
               ],
               [
                "1100",
                "7000",
                "1200",
                "1300",
                "1400",
                "1600",
                "Otros",
                "Disponible"
               ]
              ],
              "marker.colors": [
               [
                "#636efa",
                "#ef553b"
               ],
               [
                "#636EFA",
                "#EF553B",
                "#00CC96",
                "#AB63FA",
                "#FFA15A",
                "#19D3F3",
                "#ef553b"
               ],
               [
                "#1F77B4",
                "#FF7F0E",
                "#2CA02C",
                "#D62728",
                "#9467BD",
                "#8C564B",
                "#ef553b"
               ],
               [
                "#636EFA",
                "#EF553B",
                "#00CC96",
                "#AB63FA",
                "#FFA15A",
                "#19D3F3",
                "#d3d3d3",
                "#ef553b"
               ]
              ],
              "values": [
               [
                2814182,
                132283729
               ],
               [
                2800000,
                0,
                0,
                14182,
                0,
                0,
                132283729
               ],
               [
                0,
                0,
                0,
                0,
                0,
                0,
                132283729
               ],
               [
                2800000,
                14182,
                0,
                0,
                0,
                0,
                0,
                132283729
               ]
              ]
             },
             {
              "annotations[0].text": "Global",
              "annotations[1].text": "Semana : 6<br>Presupuesto Total : $135,097,911.00<br>Gasto Total : $2,814,182.00<br>Disponible : $132,283,729.00",
              "annotations[2].text": "Etapas",
              "annotations[3].text": "Semana : 6<br>Presupuesto Total : $135,097,911.00<br>DEVELOPMENT: $2,800,000.00<br>POST: $0.00<br>PREP: $0.00<br>SHOOT: $14,182.00<br>SOFT: $0.00<br>WRAP: $0.00<br>Disponible : $132,283,729.00",
              "annotations[4].text": "Departamento",
              "annotations[5].text": "Semana : 6<br>Presupuesto Total : $135,097,911.00<br>ANDA: $0.00<br>ARTE: $0.00<br>BALU: $0.00<br>DINAMITA: $0.00<br>LOCACIONES: $0.00<br>NOM: $0.00<br>Disponible : $132,283,729.00",
              "annotations[6].text": "Cuenta General",
              "annotations[7].text": "Semana : 6<br>Presupuesto Total : $135,097,911.00<br>1100: $2,800,000.00<br>7000: $14,182.00<br>1200: $0.00<br>1300: $0.00<br>1400: $0.00<br>1600: $0.00<br>Otros: $0.00<br>Disponible : $132,283,729.00",
              "title": "Presupuesto vs Gasto – Semana ≤ 6"
             }
            ],
            "label": "6",
            "method": "update"
           },
           {
            "args": [
             {
              "labels": [
               [
                "Gastado",
                "Disponible"
               ],
               [
                "DEVELOPMENT",
                "POST",
                "PREP",
                "SHOOT",
                "SOFT",
                "WRAP",
                "Disponible"
               ],
               [
                "ANDA",
                "ARTE",
                "BALU",
                "DINAMITA",
                "LOCACIONES",
                "NOM",
                "Disponible"
               ],
               [
                "1100",
                "7000",
                "1200",
                "1300",
                "1400",
                "1600",
                "Otros",
                "Disponible"
               ]
              ],
              "marker.colors": [
               [
                "#636efa",
                "#ef553b"
               ],
               [
                "#636EFA",
                "#EF553B",
                "#00CC96",
                "#AB63FA",
                "#FFA15A",
                "#19D3F3",
                "#ef553b"
               ],
               [
                "#1F77B4",
                "#FF7F0E",
                "#2CA02C",
                "#D62728",
                "#9467BD",
                "#8C564B",
                "#ef553b"
               ],
               [
                "#636EFA",
                "#EF553B",
                "#00CC96",
                "#AB63FA",
                "#FFA15A",
                "#19D3F3",
                "#d3d3d3",
                "#ef553b"
               ]
              ],
              "values": [
               [
                4989182.0600000005,
                130108728.94
               ],
               [
                4975000.06,
                0,
                0,
                14182,
                0,
                0,
                130108728.94
               ],
               [
                0,
                0,
                0,
                0,
                0,
                0,
                130108728.94
               ],
               [
                4975000.06,
                14182,
                0,
                0,
                0,
                0,
                0,
                130108728.94
               ]
              ]
             },
             {
              "annotations[0].text": "Global",
              "annotations[1].text": "Semana : 7<br>Presupuesto Total : $135,097,911.00<br>Gasto Total : $4,989,182.06<br>Disponible : $130,108,728.94",
              "annotations[2].text": "Etapas",
              "annotations[3].text": "Semana : 7<br>Presupuesto Total : $135,097,911.00<br>DEVELOPMENT: $4,975,000.06<br>POST: $0.00<br>PREP: $0.00<br>SHOOT: $14,182.00<br>SOFT: $0.00<br>WRAP: $0.00<br>Disponible : $130,108,728.94",
              "annotations[4].text": "Departamento",
              "annotations[5].text": "Semana : 7<br>Presupuesto Total : $135,097,911.00<br>ANDA: $0.00<br>ARTE: $0.00<br>BALU: $0.00<br>DINAMITA: $0.00<br>LOCACIONES: $0.00<br>NOM: $0.00<br>Disponible : $130,108,728.94",
              "annotations[6].text": "Cuenta General",
              "annotations[7].text": "Semana : 7<br>Presupuesto Total : $135,097,911.00<br>1100: $4,975,000.06<br>7000: $14,182.00<br>1200: $0.00<br>1300: $0.00<br>1400: $0.00<br>1600: $0.00<br>Otros: $0.00<br>Disponible : $130,108,728.94",
              "title": "Presupuesto vs Gasto – Semana ≤ 7"
             }
            ],
            "label": "7",
            "method": "update"
           },
           {
            "args": [
             {
              "labels": [
               [
                "Gastado",
                "Disponible"
               ],
               [
                "DEVELOPMENT",
                "POST",
                "PREP",
                "SHOOT",
                "SOFT",
                "WRAP",
                "Disponible"
               ],
               [
                "ANDA",
                "ARTE",
                "BALU",
                "DINAMITA",
                "LOCACIONES",
                "NOM",
                "Disponible"
               ],
               [
                "1100",
                "2000",
                "7000",
                "1200",
                "1300",
                "1400",
                "Otros",
                "Disponible"
               ]
              ],
              "marker.colors": [
               [
                "#636efa",
                "#ef553b"
               ],
               [
                "#636EFA",
                "#EF553B",
                "#00CC96",
                "#AB63FA",
                "#FFA15A",
                "#19D3F3",
                "#ef553b"
               ],
               [
                "#1F77B4",
                "#FF7F0E",
                "#2CA02C",
                "#D62728",
                "#9467BD",
                "#8C564B",
                "#ef553b"
               ],
               [
                "#636EFA",
                "#EF553B",
                "#00CC96",
                "#AB63FA",
                "#FFA15A",
                "#19D3F3",
                "#d3d3d3",
                "#ef553b"
               ]
              ],
              "values": [
               [
                5239182.09,
                129858728.91
               ],
               [
                5225000.09,
                0,
                0,
                14182,
                0,
                0,
                129858728.91
               ],
               [
                0,
                0,
                0,
                0,
                0,
                0,
                129858728.91
               ],
               [
                5175000.09,
                50000,
                14182,
                0,
                0,
                0,
                0,
                129858728.91
               ]
              ]
             },
             {
              "annotations[0].text": "Global",
              "annotations[1].text": "Semana : 8<br>Presupuesto Total : $135,097,911.00<br>Gasto Total : $5,239,182.09<br>Disponible : $129,858,728.91",
              "annotations[2].text": "Etapas",
              "annotations[3].text": "Semana : 8<br>Presupuesto Total : $135,097,911.00<br>DEVELOPMENT: $5,225,000.09<br>POST: $0.00<br>PREP: $0.00<br>SHOOT: $14,182.00<br>SOFT: $0.00<br>WRAP: $0.00<br>Disponible : $129,858,728.91",
              "annotations[4].text": "Departamento",
              "annotations[5].text": "Semana : 8<br>Presupuesto Total : $135,097,911.00<br>ANDA: $0.00<br>ARTE: $0.00<br>BALU: $0.00<br>DINAMITA: $0.00<br>LOCACIONES: $0.00<br>NOM: $0.00<br>Disponible : $129,858,728.91",
              "annotations[6].text": "Cuenta General",
              "annotations[7].text": "Semana : 8<br>Presupuesto Total : $135,097,911.00<br>1100: $5,175,000.09<br>2000: $50,000.00<br>7000: $14,182.00<br>1200: $0.00<br>1300: $0.00<br>1400: $0.00<br>Otros: $0.00<br>Disponible : $129,858,728.91",
              "title": "Presupuesto vs Gasto – Semana ≤ 8"
             }
            ],
            "label": "8",
            "method": "update"
           },
           {
            "args": [
             {
              "labels": [
               [
                "Gastado",
                "Disponible"
               ],
               [
                "DEVELOPMENT",
                "POST",
                "PREP",
                "SHOOT",
                "SOFT",
                "WRAP",
                "Disponible"
               ],
               [
                "ANDA",
                "ARTE",
                "BALU",
                "DINAMITA",
                "LOCACIONES",
                "NOM",
                "Disponible"
               ],
               [
                "1100",
                "2000",
                "7000",
                "1200",
                "1300",
                "1400",
                "Otros",
                "Disponible"
               ]
              ],
              "marker.colors": [
               [
                "#636efa",
                "#ef553b"
               ],
               [
                "#636EFA",
                "#EF553B",
                "#00CC96",
                "#AB63FA",
                "#FFA15A",
                "#19D3F3",
                "#ef553b"
               ],
               [
                "#1F77B4",
                "#FF7F0E",
                "#2CA02C",
                "#D62728",
                "#9467BD",
                "#8C564B",
                "#ef553b"
               ],
               [
                "#636EFA",
                "#EF553B",
                "#00CC96",
                "#AB63FA",
                "#FFA15A",
                "#19D3F3",
                "#d3d3d3",
                "#ef553b"
               ]
              ],
              "values": [
               [
                6639182.09,
                128458728.91
               ],
               [
                6625000.09,
                0,
                0,
                14182,
                0,
                0,
                128458728.91
               ],
               [
                0,
                0,
                0,
                0,
                0,
                0,
                128458728.91
               ],
               [
                6575000.09,
                50000,
                14182,
                0,
                0,
                0,
                0,
                128458728.91
               ]
              ]
             },
             {
              "annotations[0].text": "Global",
              "annotations[1].text": "Semana : 9<br>Presupuesto Total : $135,097,911.00<br>Gasto Total : $6,639,182.09<br>Disponible : $128,458,728.91",
              "annotations[2].text": "Etapas",
              "annotations[3].text": "Semana : 9<br>Presupuesto Total : $135,097,911.00<br>DEVELOPMENT: $6,625,000.09<br>POST: $0.00<br>PREP: $0.00<br>SHOOT: $14,182.00<br>SOFT: $0.00<br>WRAP: $0.00<br>Disponible : $128,458,728.91",
              "annotations[4].text": "Departamento",
              "annotations[5].text": "Semana : 9<br>Presupuesto Total : $135,097,911.00<br>ANDA: $0.00<br>ARTE: $0.00<br>BALU: $0.00<br>DINAMITA: $0.00<br>LOCACIONES: $0.00<br>NOM: $0.00<br>Disponible : $128,458,728.91",
              "annotations[6].text": "Cuenta General",
              "annotations[7].text": "Semana : 9<br>Presupuesto Total : $135,097,911.00<br>1100: $6,575,000.09<br>2000: $50,000.00<br>7000: $14,182.00<br>1200: $0.00<br>1300: $0.00<br>1400: $0.00<br>Otros: $0.00<br>Disponible : $128,458,728.91",
              "title": "Presupuesto vs Gasto – Semana ≤ 9"
             }
            ],
            "label": "9",
            "method": "update"
           },
           {
            "args": [
             {
              "labels": [
               [
                "Gastado",
                "Disponible"
               ],
               [
                "DEVELOPMENT",
                "POST",
                "PREP",
                "SHOOT",
                "SOFT",
                "WRAP",
                "Disponible"
               ],
               [
                "ANDA",
                "ARTE",
                "BALU",
                "DINAMITA",
                "LOCACIONES",
                "NOM",
                "Disponible"
               ],
               [
                "1100",
                "2000",
                "7000",
                "1200",
                "1300",
                "1400",
                "Otros",
                "Disponible"
               ]
              ],
              "marker.colors": [
               [
                "#636efa",
                "#ef553b"
               ],
               [
                "#636EFA",
                "#EF553B",
                "#00CC96",
                "#AB63FA",
                "#FFA15A",
                "#19D3F3",
                "#ef553b"
               ],
               [
                "#1F77B4",
                "#FF7F0E",
                "#2CA02C",
                "#D62728",
                "#9467BD",
                "#8C564B",
                "#ef553b"
               ],
               [
                "#636EFA",
                "#EF553B",
                "#00CC96",
                "#AB63FA",
                "#FFA15A",
                "#19D3F3",
                "#d3d3d3",
                "#ef553b"
               ]
              ],
              "values": [
               [
                6639182.09,
                128458728.91
               ],
               [
                6625000.09,
                0,
                0,
                14182,
                0,
                0,
                128458728.91
               ],
               [
                0,
                0,
                0,
                0,
                0,
                0,
                128458728.91
               ],
               [
                6575000.09,
                50000,
                14182,
                0,
                0,
                0,
                0,
                128458728.91
               ]
              ]
             },
             {
              "annotations[0].text": "Global",
              "annotations[1].text": "Semana : 10<br>Presupuesto Total : $135,097,911.00<br>Gasto Total : $6,639,182.09<br>Disponible : $128,458,728.91",
              "annotations[2].text": "Etapas",
              "annotations[3].text": "Semana : 10<br>Presupuesto Total : $135,097,911.00<br>DEVELOPMENT: $6,625,000.09<br>POST: $0.00<br>PREP: $0.00<br>SHOOT: $14,182.00<br>SOFT: $0.00<br>WRAP: $0.00<br>Disponible : $128,458,728.91",
              "annotations[4].text": "Departamento",
              "annotations[5].text": "Semana : 10<br>Presupuesto Total : $135,097,911.00<br>ANDA: $0.00<br>ARTE: $0.00<br>BALU: $0.00<br>DINAMITA: $0.00<br>LOCACIONES: $0.00<br>NOM: $0.00<br>Disponible : $128,458,728.91",
              "annotations[6].text": "Cuenta General",
              "annotations[7].text": "Semana : 10<br>Presupuesto Total : $135,097,911.00<br>1100: $6,575,000.09<br>2000: $50,000.00<br>7000: $14,182.00<br>1200: $0.00<br>1300: $0.00<br>1400: $0.00<br>Otros: $0.00<br>Disponible : $128,458,728.91",
              "title": "Presupuesto vs Gasto – Semana ≤ 10"
             }
            ],
            "label": "10",
            "method": "update"
           },
           {
            "args": [
             {
              "labels": [
               [
                "Gastado",
                "Disponible"
               ],
               [
                "DEVELOPMENT",
                "POST",
                "PREP",
                "SHOOT",
                "SOFT",
                "WRAP",
                "Disponible"
               ],
               [
                "ANDA",
                "ARTE",
                "BALU",
                "DINAMITA",
                "LOCACIONES",
                "NOM",
                "Disponible"
               ],
               [
                "1100",
                "2000",
                "7000",
                "1200",
                "1300",
                "1400",
                "Otros",
                "Disponible"
               ]
              ],
              "marker.colors": [
               [
                "#636efa",
                "#ef553b"
               ],
               [
                "#636EFA",
                "#EF553B",
                "#00CC96",
                "#AB63FA",
                "#FFA15A",
                "#19D3F3",
                "#ef553b"
               ],
               [
                "#1F77B4",
                "#FF7F0E",
                "#2CA02C",
                "#D62728",
                "#9467BD",
                "#8C564B",
                "#ef553b"
               ],
               [
                "#636EFA",
                "#EF553B",
                "#00CC96",
                "#AB63FA",
                "#FFA15A",
                "#19D3F3",
                "#d3d3d3",
                "#ef553b"
               ]
              ],
              "values": [
               [
                6639182.09,
                128458728.91
               ],
               [
                6625000.09,
                0,
                0,
                14182,
                0,
                0,
                128458728.91
               ],
               [
                0,
                0,
                0,
                0,
                0,
                0,
                128458728.91
               ],
               [
                6575000.09,
                50000,
                14182,
                0,
                0,
                0,
                0,
                128458728.91
               ]
              ]
             },
             {
              "annotations[0].text": "Global",
              "annotations[1].text": "Semana : 11<br>Presupuesto Total : $135,097,911.00<br>Gasto Total : $6,639,182.09<br>Disponible : $128,458,728.91",
              "annotations[2].text": "Etapas",
              "annotations[3].text": "Semana : 11<br>Presupuesto Total : $135,097,911.00<br>DEVELOPMENT: $6,625,000.09<br>POST: $0.00<br>PREP: $0.00<br>SHOOT: $14,182.00<br>SOFT: $0.00<br>WRAP: $0.00<br>Disponible : $128,458,728.91",
              "annotations[4].text": "Departamento",
              "annotations[5].text": "Semana : 11<br>Presupuesto Total : $135,097,911.00<br>ANDA: $0.00<br>ARTE: $0.00<br>BALU: $0.00<br>DINAMITA: $0.00<br>LOCACIONES: $0.00<br>NOM: $0.00<br>Disponible : $128,458,728.91",
              "annotations[6].text": "Cuenta General",
              "annotations[7].text": "Semana : 11<br>Presupuesto Total : $135,097,911.00<br>1100: $6,575,000.09<br>2000: $50,000.00<br>7000: $14,182.00<br>1200: $0.00<br>1300: $0.00<br>1400: $0.00<br>Otros: $0.00<br>Disponible : $128,458,728.91",
              "title": "Presupuesto vs Gasto – Semana ≤ 11"
             }
            ],
            "label": "11",
            "method": "update"
           },
           {
            "args": [
             {
              "labels": [
               [
                "Gastado",
                "Disponible"
               ],
               [
                "DEVELOPMENT",
                "POST",
                "PREP",
                "SHOOT",
                "SOFT",
                "WRAP",
                "Disponible"
               ],
               [
                "ANDA",
                "ARTE",
                "BALU",
                "DINAMITA",
                "LOCACIONES",
                "NOM",
                "Disponible"
               ],
               [
                "1100",
                "2000",
                "7000",
                "1200",
                "1300",
                "1400",
                "Otros",
                "Disponible"
               ]
              ],
              "marker.colors": [
               [
                "#636efa",
                "#ef553b"
               ],
               [
                "#636EFA",
                "#EF553B",
                "#00CC96",
                "#AB63FA",
                "#FFA15A",
                "#19D3F3",
                "#ef553b"
               ],
               [
                "#1F77B4",
                "#FF7F0E",
                "#2CA02C",
                "#D62728",
                "#9467BD",
                "#8C564B",
                "#ef553b"
               ],
               [
                "#636EFA",
                "#EF553B",
                "#00CC96",
                "#AB63FA",
                "#FFA15A",
                "#19D3F3",
                "#d3d3d3",
                "#ef553b"
               ]
              ],
              "values": [
               [
                6639182.09,
                128458728.91
               ],
               [
                6625000.09,
                0,
                0,
                14182,
                0,
                0,
                128458728.91
               ],
               [
                0,
                0,
                0,
                0,
                0,
                0,
                128458728.91
               ],
               [
                6575000.09,
                50000,
                14182,
                0,
                0,
                0,
                0,
                128458728.91
               ]
              ]
             },
             {
              "annotations[0].text": "Global",
              "annotations[1].text": "Semana : 12<br>Presupuesto Total : $135,097,911.00<br>Gasto Total : $6,639,182.09<br>Disponible : $128,458,728.91",
              "annotations[2].text": "Etapas",
              "annotations[3].text": "Semana : 12<br>Presupuesto Total : $135,097,911.00<br>DEVELOPMENT: $6,625,000.09<br>POST: $0.00<br>PREP: $0.00<br>SHOOT: $14,182.00<br>SOFT: $0.00<br>WRAP: $0.00<br>Disponible : $128,458,728.91",
              "annotations[4].text": "Departamento",
              "annotations[5].text": "Semana : 12<br>Presupuesto Total : $135,097,911.00<br>ANDA: $0.00<br>ARTE: $0.00<br>BALU: $0.00<br>DINAMITA: $0.00<br>LOCACIONES: $0.00<br>NOM: $0.00<br>Disponible : $128,458,728.91",
              "annotations[6].text": "Cuenta General",
              "annotations[7].text": "Semana : 12<br>Presupuesto Total : $135,097,911.00<br>1100: $6,575,000.09<br>2000: $50,000.00<br>7000: $14,182.00<br>1200: $0.00<br>1300: $0.00<br>1400: $0.00<br>Otros: $0.00<br>Disponible : $128,458,728.91",
              "title": "Presupuesto vs Gasto – Semana ≤ 12"
             }
            ],
            "label": "12",
            "method": "update"
           },
           {
            "args": [
             {
              "labels": [
               [
                "Gastado",
                "Disponible"
               ],
               [
                "DEVELOPMENT",
                "POST",
                "PREP",
                "SHOOT",
                "SOFT",
                "WRAP",
                "Disponible"
               ],
               [
                "ANDA",
                "ARTE",
                "BALU",
                "DINAMITA",
                "LOCACIONES",
                "NOM",
                "Disponible"
               ],
               [
                "1100",
                "2000",
                "7000",
                "1200",
                "1300",
                "1400",
                "Otros",
                "Disponible"
               ]
              ],
              "marker.colors": [
               [
                "#636efa",
                "#ef553b"
               ],
               [
                "#636EFA",
                "#EF553B",
                "#00CC96",
                "#AB63FA",
                "#FFA15A",
                "#19D3F3",
                "#ef553b"
               ],
               [
                "#1F77B4",
                "#FF7F0E",
                "#2CA02C",
                "#D62728",
                "#9467BD",
                "#8C564B",
                "#ef553b"
               ],
               [
                "#636EFA",
                "#EF553B",
                "#00CC96",
                "#AB63FA",
                "#FFA15A",
                "#19D3F3",
                "#d3d3d3",
                "#ef553b"
               ]
              ],
              "values": [
               [
                6939182.09,
                128158728.91
               ],
               [
                6925000.09,
                0,
                0,
                14182,
                0,
                0,
                128158728.91
               ],
               [
                0,
                0,
                0,
                0,
                0,
                0,
                128158728.91
               ],
               [
                6875000.09,
                50000,
                14182,
                0,
                0,
                0,
                0,
                128158728.91
               ]
              ]
             },
             {
              "annotations[0].text": "Global",
              "annotations[1].text": "Semana : 13<br>Presupuesto Total : $135,097,911.00<br>Gasto Total : $6,939,182.09<br>Disponible : $128,158,728.91",
              "annotations[2].text": "Etapas",
              "annotations[3].text": "Semana : 13<br>Presupuesto Total : $135,097,911.00<br>DEVELOPMENT: $6,925,000.09<br>POST: $0.00<br>PREP: $0.00<br>SHOOT: $14,182.00<br>SOFT: $0.00<br>WRAP: $0.00<br>Disponible : $128,158,728.91",
              "annotations[4].text": "Departamento",
              "annotations[5].text": "Semana : 13<br>Presupuesto Total : $135,097,911.00<br>ANDA: $0.00<br>ARTE: $0.00<br>BALU: $0.00<br>DINAMITA: $0.00<br>LOCACIONES: $0.00<br>NOM: $0.00<br>Disponible : $128,158,728.91",
              "annotations[6].text": "Cuenta General",
              "annotations[7].text": "Semana : 13<br>Presupuesto Total : $135,097,911.00<br>1100: $6,875,000.09<br>2000: $50,000.00<br>7000: $14,182.00<br>1200: $0.00<br>1300: $0.00<br>1400: $0.00<br>Otros: $0.00<br>Disponible : $128,158,728.91",
              "title": "Presupuesto vs Gasto – Semana ≤ 13"
             }
            ],
            "label": "13",
            "method": "update"
           },
           {
            "args": [
             {
              "labels": [
               [
                "Gastado",
                "Disponible"
               ],
               [
                "DEVELOPMENT",
                "POST",
                "PREP",
                "SHOOT",
                "SOFT",
                "WRAP",
                "Disponible"
               ],
               [
                "ANDA",
                "ARTE",
                "BALU",
                "DINAMITA",
                "LOCACIONES",
                "NOM",
                "Disponible"
               ],
               [
                "1100",
                "2000",
                "7000",
                "1200",
                "1300",
                "1400",
                "Otros",
                "Disponible"
               ]
              ],
              "marker.colors": [
               [
                "#636efa",
                "#ef553b"
               ],
               [
                "#636EFA",
                "#EF553B",
                "#00CC96",
                "#AB63FA",
                "#FFA15A",
                "#19D3F3",
                "#ef553b"
               ],
               [
                "#1F77B4",
                "#FF7F0E",
                "#2CA02C",
                "#D62728",
                "#9467BD",
                "#8C564B",
                "#ef553b"
               ],
               [
                "#636EFA",
                "#EF553B",
                "#00CC96",
                "#AB63FA",
                "#FFA15A",
                "#19D3F3",
                "#d3d3d3",
                "#ef553b"
               ]
              ],
              "values": [
               [
                6939182.09,
                128158728.91
               ],
               [
                6925000.09,
                0,
                0,
                14182,
                0,
                0,
                128158728.91
               ],
               [
                0,
                0,
                0,
                0,
                0,
                0,
                128158728.91
               ],
               [
                6875000.09,
                50000,
                14182,
                0,
                0,
                0,
                0,
                128158728.91
               ]
              ]
             },
             {
              "annotations[0].text": "Global",
              "annotations[1].text": "Semana : 14<br>Presupuesto Total : $135,097,911.00<br>Gasto Total : $6,939,182.09<br>Disponible : $128,158,728.91",
              "annotations[2].text": "Etapas",
              "annotations[3].text": "Semana : 14<br>Presupuesto Total : $135,097,911.00<br>DEVELOPMENT: $6,925,000.09<br>POST: $0.00<br>PREP: $0.00<br>SHOOT: $14,182.00<br>SOFT: $0.00<br>WRAP: $0.00<br>Disponible : $128,158,728.91",
              "annotations[4].text": "Departamento",
              "annotations[5].text": "Semana : 14<br>Presupuesto Total : $135,097,911.00<br>ANDA: $0.00<br>ARTE: $0.00<br>BALU: $0.00<br>DINAMITA: $0.00<br>LOCACIONES: $0.00<br>NOM: $0.00<br>Disponible : $128,158,728.91",
              "annotations[6].text": "Cuenta General",
              "annotations[7].text": "Semana : 14<br>Presupuesto Total : $135,097,911.00<br>1100: $6,875,000.09<br>2000: $50,000.00<br>7000: $14,182.00<br>1200: $0.00<br>1300: $0.00<br>1400: $0.00<br>Otros: $0.00<br>Disponible : $128,158,728.91",
              "title": "Presupuesto vs Gasto – Semana ≤ 14"
             }
            ],
            "label": "14",
            "method": "update"
           },
           {
            "args": [
             {
              "labels": [
               [
                "Gastado",
                "Disponible"
               ],
               [
                "DEVELOPMENT",
                "POST",
                "PREP",
                "SHOOT",
                "SOFT",
                "WRAP",
                "Disponible"
               ],
               [
                "ANDA",
                "ARTE",
                "BALU",
                "DINAMITA",
                "LOCACIONES",
                "NOM",
                "Disponible"
               ],
               [
                "1100",
                "2000",
                "3400",
                "7000",
                "1200",
                "1300",
                "Otros",
                "Disponible"
               ]
              ],
              "marker.colors": [
               [
                "#636efa",
                "#ef553b"
               ],
               [
                "#636EFA",
                "#EF553B",
                "#00CC96",
                "#AB63FA",
                "#FFA15A",
                "#19D3F3",
                "#ef553b"
               ],
               [
                "#1F77B4",
                "#FF7F0E",
                "#2CA02C",
                "#D62728",
                "#9467BD",
                "#8C564B",
                "#ef553b"
               ],
               [
                "#636EFA",
                "#EF553B",
                "#00CC96",
                "#AB63FA",
                "#FFA15A",
                "#19D3F3",
                "#d3d3d3",
                "#ef553b"
               ]
              ],
              "values": [
               [
                8704307.08,
                126393603.92
               ],
               [
                8375000.08,
                0,
                0,
                14182,
                315125,
                0,
                126393603.92
               ],
               [
                0,
                0,
                0,
                0,
                0,
                0,
                126393603.92
               ],
               [
                8275000.08,
                287500,
                120750,
                21057,
                0,
                0,
                0,
                126393603.92
               ]
              ]
             },
             {
              "annotations[0].text": "Global",
              "annotations[1].text": "Semana : 15<br>Presupuesto Total : $135,097,911.00<br>Gasto Total : $8,704,307.08<br>Disponible : $126,393,603.92",
              "annotations[2].text": "Etapas",
              "annotations[3].text": "Semana : 15<br>Presupuesto Total : $135,097,911.00<br>DEVELOPMENT: $8,375,000.08<br>POST: $0.00<br>PREP: $0.00<br>SHOOT: $14,182.00<br>SOFT: $315,125.00<br>WRAP: $0.00<br>Disponible : $126,393,603.92",
              "annotations[4].text": "Departamento",
              "annotations[5].text": "Semana : 15<br>Presupuesto Total : $135,097,911.00<br>ANDA: $0.00<br>ARTE: $0.00<br>BALU: $0.00<br>DINAMITA: $0.00<br>LOCACIONES: $0.00<br>NOM: $0.00<br>Disponible : $126,393,603.92",
              "annotations[6].text": "Cuenta General",
              "annotations[7].text": "Semana : 15<br>Presupuesto Total : $135,097,911.00<br>1100: $8,275,000.08<br>2000: $287,500.00<br>3400: $120,750.00<br>7000: $21,057.00<br>1200: $0.00<br>1300: $0.00<br>Otros: $0.00<br>Disponible : $126,393,603.92",
              "title": "Presupuesto vs Gasto – Semana ≤ 15"
             }
            ],
            "label": "15",
            "method": "update"
           },
           {
            "args": [
             {
              "labels": [
               [
                "Gastado",
                "Disponible"
               ],
               [
                "DEVELOPMENT",
                "POST",
                "PREP",
                "SHOOT",
                "SOFT",
                "WRAP",
                "Disponible"
               ],
               [
                "ANDA",
                "ARTE",
                "BALU",
                "DINAMITA",
                "LOCACIONES",
                "NOM",
                "Disponible"
               ],
               [
                "1100",
                "2000",
                "3400",
                "1200",
                "7000",
                "1300",
                "Otros",
                "Disponible"
               ]
              ],
              "marker.colors": [
               [
                "#636efa",
                "#ef553b"
               ],
               [
                "#636EFA",
                "#EF553B",
                "#00CC96",
                "#AB63FA",
                "#FFA15A",
                "#19D3F3",
                "#ef553b"
               ],
               [
                "#1F77B4",
                "#FF7F0E",
                "#2CA02C",
                "#D62728",
                "#9467BD",
                "#8C564B",
                "#ef553b"
               ],
               [
                "#636EFA",
                "#EF553B",
                "#00CC96",
                "#AB63FA",
                "#FFA15A",
                "#19D3F3",
                "#d3d3d3",
                "#ef553b"
               ]
              ],
              "values": [
               [
                9021307.08,
                126076603.92
               ],
               [
                8525000.08,
                0,
                0,
                14182,
                482125,
                0,
                126076603.92
               ],
               [
                0,
                0,
                0,
                0,
                0,
                42000,
                126076603.92
               ],
               [
                8425000.08,
                287500,
                162750,
                125000,
                21057,
                0,
                0,
                126076603.92
               ]
              ]
             },
             {
              "annotations[0].text": "Global",
              "annotations[1].text": "Semana : 16<br>Presupuesto Total : $135,097,911.00<br>Gasto Total : $9,021,307.08<br>Disponible : $126,076,603.92",
              "annotations[2].text": "Etapas",
              "annotations[3].text": "Semana : 16<br>Presupuesto Total : $135,097,911.00<br>DEVELOPMENT: $8,525,000.08<br>POST: $0.00<br>PREP: $0.00<br>SHOOT: $14,182.00<br>SOFT: $482,125.00<br>WRAP: $0.00<br>Disponible : $126,076,603.92",
              "annotations[4].text": "Departamento",
              "annotations[5].text": "Semana : 16<br>Presupuesto Total : $135,097,911.00<br>ANDA: $0.00<br>ARTE: $0.00<br>BALU: $0.00<br>DINAMITA: $0.00<br>LOCACIONES: $0.00<br>NOM: $42,000.00<br>Disponible : $126,076,603.92",
              "annotations[6].text": "Cuenta General",
              "annotations[7].text": "Semana : 16<br>Presupuesto Total : $135,097,911.00<br>1100: $8,425,000.08<br>2000: $287,500.00<br>3400: $162,750.00<br>1200: $125,000.00<br>7000: $21,057.00<br>1300: $0.00<br>Otros: $0.00<br>Disponible : $126,076,603.92",
              "title": "Presupuesto vs Gasto – Semana ≤ 16"
             }
            ],
            "label": "16",
            "method": "update"
           },
           {
            "args": [
             {
              "labels": [
               [
                "Gastado",
                "Disponible"
               ],
               [
                "DEVELOPMENT",
                "POST",
                "PREP",
                "SHOOT",
                "SOFT",
                "WRAP",
                "Disponible"
               ],
               [
                "ANDA",
                "ARTE",
                "BALU",
                "DINAMITA",
                "LOCACIONES",
                "NOM",
                "Disponible"
               ],
               [
                "1100",
                "2000",
                "3400",
                "1200",
                "7000",
                "1300",
                "Otros",
                "Disponible"
               ]
              ],
              "marker.colors": [
               [
                "#636efa",
                "#ef553b"
               ],
               [
                "#636EFA",
                "#EF553B",
                "#00CC96",
                "#AB63FA",
                "#FFA15A",
                "#19D3F3",
                "#ef553b"
               ],
               [
                "#1F77B4",
                "#FF7F0E",
                "#2CA02C",
                "#D62728",
                "#9467BD",
                "#8C564B",
                "#ef553b"
               ],
               [
                "#636EFA",
                "#EF553B",
                "#00CC96",
                "#AB63FA",
                "#FFA15A",
                "#19D3F3",
                "#d3d3d3",
                "#ef553b"
               ]
              ],
              "values": [
               [
                9115807.08,
                125982103.92
               ],
               [
                8525000.08,
                0,
                0,
                14182,
                576625,
                0,
                125982103.92
               ],
               [
                0,
                0,
                0,
                0,
                0,
                42000,
                125982103.92
               ],
               [
                8425000.08,
                382000,
                162750,
                125000,
                21057,
                0,
                0,
                125982103.92
               ]
              ]
             },
             {
              "annotations[0].text": "Global",
              "annotations[1].text": "Semana : 17<br>Presupuesto Total : $135,097,911.00<br>Gasto Total : $9,115,807.08<br>Disponible : $125,982,103.92",
              "annotations[2].text": "Etapas",
              "annotations[3].text": "Semana : 17<br>Presupuesto Total : $135,097,911.00<br>DEVELOPMENT: $8,525,000.08<br>POST: $0.00<br>PREP: $0.00<br>SHOOT: $14,182.00<br>SOFT: $576,625.00<br>WRAP: $0.00<br>Disponible : $125,982,103.92",
              "annotations[4].text": "Departamento",
              "annotations[5].text": "Semana : 17<br>Presupuesto Total : $135,097,911.00<br>ANDA: $0.00<br>ARTE: $0.00<br>BALU: $0.00<br>DINAMITA: $0.00<br>LOCACIONES: $0.00<br>NOM: $42,000.00<br>Disponible : $125,982,103.92",
              "annotations[6].text": "Cuenta General",
              "annotations[7].text": "Semana : 17<br>Presupuesto Total : $135,097,911.00<br>1100: $8,425,000.08<br>2000: $382,000.00<br>3400: $162,750.00<br>1200: $125,000.00<br>7000: $21,057.00<br>1300: $0.00<br>Otros: $0.00<br>Disponible : $125,982,103.92",
              "title": "Presupuesto vs Gasto – Semana ≤ 17"
             }
            ],
            "label": "17",
            "method": "update"
           },
           {
            "args": [
             {
              "labels": [
               [
                "Gastado",
                "Disponible"
               ],
               [
                "DEVELOPMENT",
                "POST",
                "PREP",
                "SHOOT",
                "SOFT",
                "WRAP",
                "Disponible"
               ],
               [
                "ANDA",
                "ARTE",
                "BALU",
                "DINAMITA",
                "LOCACIONES",
                "NOM",
                "Disponible"
               ],
               [
                "1100",
                "2000",
                "3400",
                "3900",
                "1200",
                "7000",
                "Otros",
                "Disponible"
               ]
              ],
              "marker.colors": [
               [
                "#636efa",
                "#ef553b"
               ],
               [
                "#636EFA",
                "#EF553B",
                "#00CC96",
                "#AB63FA",
                "#FFA15A",
                "#19D3F3",
                "#ef553b"
               ],
               [
                "#1F77B4",
                "#FF7F0E",
                "#2CA02C",
                "#D62728",
                "#9467BD",
                "#8C564B",
                "#ef553b"
               ],
               [
                "#636EFA",
                "#EF553B",
                "#00CC96",
                "#AB63FA",
                "#FFA15A",
                "#19D3F3",
                "#d3d3d3",
                "#ef553b"
               ]
              ],
              "values": [
               [
                9390264.596,
                125707646.404
               ],
               [
                8525000.08,
                0,
                0,
                288639.516,
                576625,
                0,
                125707646.404
               ],
               [
                0,
                0,
                0,
                0,
                0,
                42000,
                125707646.404
               ],
               [
                8425000.08,
                382000,
                256748.67200000002,
                180458.844,
                125000,
                21057,
                0,
                125707646.404
               ]
              ]
             },
             {
              "annotations[0].text": "Global",
              "annotations[1].text": "Semana : 18<br>Presupuesto Total : $135,097,911.00<br>Gasto Total : $9,390,264.60<br>Disponible : $125,707,646.40",
              "annotations[2].text": "Etapas",
              "annotations[3].text": "Semana : 18<br>Presupuesto Total : $135,097,911.00<br>DEVELOPMENT: $8,525,000.08<br>POST: $0.00<br>PREP: $0.00<br>SHOOT: $288,639.52<br>SOFT: $576,625.00<br>WRAP: $0.00<br>Disponible : $125,707,646.40",
              "annotations[4].text": "Departamento",
              "annotations[5].text": "Semana : 18<br>Presupuesto Total : $135,097,911.00<br>ANDA: $0.00<br>ARTE: $0.00<br>BALU: $0.00<br>DINAMITA: $0.00<br>LOCACIONES: $0.00<br>NOM: $42,000.00<br>Disponible : $125,707,646.40",
              "annotations[6].text": "Cuenta General",
              "annotations[7].text": "Semana : 18<br>Presupuesto Total : $135,097,911.00<br>1100: $8,425,000.08<br>2000: $382,000.00<br>3400: $256,748.67<br>3900: $180,458.84<br>1200: $125,000.00<br>7000: $21,057.00<br>Otros: $0.00<br>Disponible : $125,707,646.40",
              "title": "Presupuesto vs Gasto – Semana ≤ 18"
             }
            ],
            "label": "18",
            "method": "update"
           },
           {
            "args": [
             {
              "labels": [
               [
                "Gastado",
                "Disponible"
               ],
               [
                "DEVELOPMENT",
                "POST",
                "PREP",
                "SHOOT",
                "SOFT",
                "WRAP",
                "Disponible"
               ],
               [
                "ANDA",
                "ARTE",
                "BALU",
                "DINAMITA",
                "LOCACIONES",
                "NOM",
                "Disponible"
               ],
               [
                "1100",
                "2000",
                "3400",
                "3900",
                "1200",
                "7000",
                "Otros",
                "Disponible"
               ]
              ],
              "marker.colors": [
               [
                "#636efa",
                "#ef553b"
               ],
               [
                "#636EFA",
                "#EF553B",
                "#00CC96",
                "#AB63FA",
                "#FFA15A",
                "#19D3F3",
                "#ef553b"
               ],
               [
                "#1F77B4",
                "#FF7F0E",
                "#2CA02C",
                "#D62728",
                "#9467BD",
                "#8C564B",
                "#ef553b"
               ],
               [
                "#636EFA",
                "#EF553B",
                "#00CC96",
                "#AB63FA",
                "#FFA15A",
                "#19D3F3",
                "#d3d3d3",
                "#ef553b"
               ]
              ],
              "values": [
               [
                9390264.596,
                125707646.404
               ],
               [
                8525000.08,
                0,
                0,
                288639.516,
                576625,
                0,
                125707646.404
               ],
               [
                0,
                0,
                0,
                0,
                0,
                42000,
                125707646.404
               ],
               [
                8425000.08,
                382000,
                256748.67200000002,
                180458.844,
                125000,
                21057,
                0,
                125707646.404
               ]
              ]
             },
             {
              "annotations[0].text": "Global",
              "annotations[1].text": "Semana : 19<br>Presupuesto Total : $135,097,911.00<br>Gasto Total : $9,390,264.60<br>Disponible : $125,707,646.40",
              "annotations[2].text": "Etapas",
              "annotations[3].text": "Semana : 19<br>Presupuesto Total : $135,097,911.00<br>DEVELOPMENT: $8,525,000.08<br>POST: $0.00<br>PREP: $0.00<br>SHOOT: $288,639.52<br>SOFT: $576,625.00<br>WRAP: $0.00<br>Disponible : $125,707,646.40",
              "annotations[4].text": "Departamento",
              "annotations[5].text": "Semana : 19<br>Presupuesto Total : $135,097,911.00<br>ANDA: $0.00<br>ARTE: $0.00<br>BALU: $0.00<br>DINAMITA: $0.00<br>LOCACIONES: $0.00<br>NOM: $42,000.00<br>Disponible : $125,707,646.40",
              "annotations[6].text": "Cuenta General",
              "annotations[7].text": "Semana : 19<br>Presupuesto Total : $135,097,911.00<br>1100: $8,425,000.08<br>2000: $382,000.00<br>3400: $256,748.67<br>3900: $180,458.84<br>1200: $125,000.00<br>7000: $21,057.00<br>Otros: $0.00<br>Disponible : $125,707,646.40",
              "title": "Presupuesto vs Gasto – Semana ≤ 19"
             }
            ],
            "label": "19",
            "method": "update"
           },
           {
            "args": [
             {
              "labels": [
               [
                "Gastado",
                "Disponible"
               ],
               [
                "DEVELOPMENT",
                "POST",
                "PREP",
                "SHOOT",
                "SOFT",
                "WRAP",
                "Disponible"
               ],
               [
                "ANDA",
                "ARTE",
                "BALU",
                "DINAMITA",
                "LOCACIONES",
                "NOM",
                "Disponible"
               ],
               [
                "1100",
                "2000",
                "1200",
                "3400",
                "3900",
                "7000",
                "Otros",
                "Disponible"
               ]
              ],
              "marker.colors": [
               [
                "#636efa",
                "#ef553b"
               ],
               [
                "#636EFA",
                "#EF553B",
                "#00CC96",
                "#AB63FA",
                "#FFA15A",
                "#19D3F3",
                "#ef553b"
               ],
               [
                "#1F77B4",
                "#FF7F0E",
                "#2CA02C",
                "#D62728",
                "#9467BD",
                "#8C564B",
                "#ef553b"
               ],
               [
                "#636EFA",
                "#EF553B",
                "#00CC96",
                "#AB63FA",
                "#FFA15A",
                "#19D3F3",
                "#d3d3d3",
                "#ef553b"
               ]
              ],
              "values": [
               [
                9741764.596,
                125356146.404
               ],
               [
                8525000.08,
                0,
                0,
                288639.516,
                928125,
                0,
                125356146.404
               ],
               [
                0,
                0,
                0,
                0,
                0,
                42000,
                125356146.404
               ],
               [
                8425000.08,
                473500,
                385000,
                256748.67200000002,
                180458.844,
                21057,
                0,
                125356146.404
               ]
              ]
             },
             {
              "annotations[0].text": "Global",
              "annotations[1].text": "Semana : 20<br>Presupuesto Total : $135,097,911.00<br>Gasto Total : $9,741,764.60<br>Disponible : $125,356,146.40",
              "annotations[2].text": "Etapas",
              "annotations[3].text": "Semana : 20<br>Presupuesto Total : $135,097,911.00<br>DEVELOPMENT: $8,525,000.08<br>POST: $0.00<br>PREP: $0.00<br>SHOOT: $288,639.52<br>SOFT: $928,125.00<br>WRAP: $0.00<br>Disponible : $125,356,146.40",
              "annotations[4].text": "Departamento",
              "annotations[5].text": "Semana : 20<br>Presupuesto Total : $135,097,911.00<br>ANDA: $0.00<br>ARTE: $0.00<br>BALU: $0.00<br>DINAMITA: $0.00<br>LOCACIONES: $0.00<br>NOM: $42,000.00<br>Disponible : $125,356,146.40",
              "annotations[6].text": "Cuenta General",
              "annotations[7].text": "Semana : 20<br>Presupuesto Total : $135,097,911.00<br>1100: $8,425,000.08<br>2000: $473,500.00<br>1200: $385,000.00<br>3400: $256,748.67<br>3900: $180,458.84<br>7000: $21,057.00<br>Otros: $0.00<br>Disponible : $125,356,146.40",
              "title": "Presupuesto vs Gasto – Semana ≤ 20"
             }
            ],
            "label": "20",
            "method": "update"
           },
           {
            "args": [
             {
              "labels": [
               [
                "Gastado",
                "Disponible"
               ],
               [
                "DEVELOPMENT",
                "POST",
                "PREP",
                "SHOOT",
                "SOFT",
                "WRAP",
                "Disponible"
               ],
               [
                "ANDA",
                "ARTE",
                "BALU",
                "DINAMITA",
                "LOCACIONES",
                "NOM",
                "Disponible"
               ],
               [
                "1100",
                "2000",
                "1200",
                "3400",
                "3900",
                "7000",
                "Otros",
                "Disponible"
               ]
              ],
              "marker.colors": [
               [
                "#636efa",
                "#ef553b"
               ],
               [
                "#636EFA",
                "#EF553B",
                "#00CC96",
                "#AB63FA",
                "#FFA15A",
                "#19D3F3",
                "#ef553b"
               ],
               [
                "#1F77B4",
                "#FF7F0E",
                "#2CA02C",
                "#D62728",
                "#9467BD",
                "#8C564B",
                "#ef553b"
               ],
               [
                "#636EFA",
                "#EF553B",
                "#00CC96",
                "#AB63FA",
                "#FFA15A",
                "#19D3F3",
                "#d3d3d3",
                "#ef553b"
               ]
              ],
              "values": [
               [
                9741764.596,
                125356146.404
               ],
               [
                8525000.08,
                0,
                0,
                288639.516,
                928125,
                0,
                125356146.404
               ],
               [
                0,
                0,
                0,
                0,
                0,
                42000,
                125356146.404
               ],
               [
                8425000.08,
                473500,
                385000,
                256748.67200000002,
                180458.844,
                21057,
                0,
                125356146.404
               ]
              ]
             },
             {
              "annotations[0].text": "Global",
              "annotations[1].text": "Semana : 21<br>Presupuesto Total : $135,097,911.00<br>Gasto Total : $9,741,764.60<br>Disponible : $125,356,146.40",
              "annotations[2].text": "Etapas",
              "annotations[3].text": "Semana : 21<br>Presupuesto Total : $135,097,911.00<br>DEVELOPMENT: $8,525,000.08<br>POST: $0.00<br>PREP: $0.00<br>SHOOT: $288,639.52<br>SOFT: $928,125.00<br>WRAP: $0.00<br>Disponible : $125,356,146.40",
              "annotations[4].text": "Departamento",
              "annotations[5].text": "Semana : 21<br>Presupuesto Total : $135,097,911.00<br>ANDA: $0.00<br>ARTE: $0.00<br>BALU: $0.00<br>DINAMITA: $0.00<br>LOCACIONES: $0.00<br>NOM: $42,000.00<br>Disponible : $125,356,146.40",
              "annotations[6].text": "Cuenta General",
              "annotations[7].text": "Semana : 21<br>Presupuesto Total : $135,097,911.00<br>1100: $8,425,000.08<br>2000: $473,500.00<br>1200: $385,000.00<br>3400: $256,748.67<br>3900: $180,458.84<br>7000: $21,057.00<br>Otros: $0.00<br>Disponible : $125,356,146.40",
              "title": "Presupuesto vs Gasto – Semana ≤ 21"
             }
            ],
            "label": "21",
            "method": "update"
           },
           {
            "args": [
             {
              "labels": [
               [
                "Gastado",
                "Disponible"
               ],
               [
                "DEVELOPMENT",
                "POST",
                "PREP",
                "SHOOT",
                "SOFT",
                "WRAP",
                "Disponible"
               ],
               [
                "ANDA",
                "ARTE",
                "BALU",
                "DINAMITA",
                "LOCACIONES",
                "NOM",
                "Disponible"
               ],
               [
                "1100",
                "2000",
                "1200",
                "3400",
                "2200",
                "3900",
                "Otros",
                "Disponible"
               ]
              ],
              "marker.colors": [
               [
                "#636efa",
                "#ef553b"
               ],
               [
                "#636EFA",
                "#EF553B",
                "#00CC96",
                "#AB63FA",
                "#FFA15A",
                "#19D3F3",
                "#ef553b"
               ],
               [
                "#1F77B4",
                "#FF7F0E",
                "#2CA02C",
                "#D62728",
                "#9467BD",
                "#8C564B",
                "#ef553b"
               ],
               [
                "#636EFA",
                "#EF553B",
                "#00CC96",
                "#AB63FA",
                "#FFA15A",
                "#19D3F3",
                "#d3d3d3",
                "#ef553b"
               ]
              ],
              "values": [
               [
                13627238.261,
                121470672.739
               ],
               [
                9495000.08,
                0,
                2040440.304,
                1147502.877,
                944295,
                0,
                121470672.739
               ],
               [
                0,
                0,
                77054.31,
                0,
                31867.38,
                136500,
                121470672.739
               ],
               [
                9395000.08,
                1474335.817,
                1432000,
                633420.362,
                307230,
                243591.054,
                141660.948,
                121470672.739
               ]
              ]
             },
             {
              "annotations[0].text": "Global",
              "annotations[1].text": "Semana : 22<br>Presupuesto Total : $135,097,911.00<br>Gasto Total : $13,627,238.26<br>Disponible : $121,470,672.74",
              "annotations[2].text": "Etapas",
              "annotations[3].text": "Semana : 22<br>Presupuesto Total : $135,097,911.00<br>DEVELOPMENT: $9,495,000.08<br>POST: $0.00<br>PREP: $2,040,440.30<br>SHOOT: $1,147,502.88<br>SOFT: $944,295.00<br>WRAP: $0.00<br>Disponible : $121,470,672.74",
              "annotations[4].text": "Departamento",
              "annotations[5].text": "Semana : 22<br>Presupuesto Total : $135,097,911.00<br>ANDA: $0.00<br>ARTE: $0.00<br>BALU: $77,054.31<br>DINAMITA: $0.00<br>LOCACIONES: $31,867.38<br>NOM: $136,500.00<br>Disponible : $121,470,672.74",
              "annotations[6].text": "Cuenta General",
              "annotations[7].text": "Semana : 22<br>Presupuesto Total : $135,097,911.00<br>1100: $9,395,000.08<br>2000: $1,474,335.82<br>1200: $1,432,000.00<br>3400: $633,420.36<br>2200: $307,230.00<br>3900: $243,591.05<br>Otros: $141,660.95<br>Disponible : $121,470,672.74",
              "title": "Presupuesto vs Gasto – Semana ≤ 22"
             }
            ],
            "label": "22",
            "method": "update"
           },
           {
            "args": [
             {
              "labels": [
               [
                "Gastado",
                "Disponible"
               ],
               [
                "DEVELOPMENT",
                "POST",
                "PREP",
                "SHOOT",
                "SOFT",
                "WRAP",
                "Disponible"
               ],
               [
                "ANDA",
                "ARTE",
                "BALU",
                "DINAMITA",
                "LOCACIONES",
                "NOM",
                "Disponible"
               ],
               [
                "1100",
                "1200",
                "2000",
                "3400",
                "1600",
                "2200",
                "Otros",
                "Disponible"
               ]
              ],
              "marker.colors": [
               [
                "#636efa",
                "#ef553b"
               ],
               [
                "#636EFA",
                "#EF553B",
                "#00CC96",
                "#AB63FA",
                "#FFA15A",
                "#19D3F3",
                "#ef553b"
               ],
               [
                "#1F77B4",
                "#FF7F0E",
                "#2CA02C",
                "#D62728",
                "#9467BD",
                "#8C564B",
                "#ef553b"
               ],
               [
                "#636EFA",
                "#EF553B",
                "#00CC96",
                "#AB63FA",
                "#FFA15A",
                "#19D3F3",
                "#d3d3d3",
                "#ef553b"
               ]
              ],
              "values": [
               [
                15788500.341000002,
                119309410.659
               ],
               [
                9495000.08,
                0,
                2085692.056,
                3263513.205,
                944295,
                0,
                119309410.659
               ],
               [
                0,
                0,
                124025.65,
                0,
                31867.38,
                136500,
                119309410.659
               ],
               [
                9395000.08,
                3158971.34,
                1474335.817,
                678672.1140000001,
                351363.974,
                307230,
                422927.016,
                119309410.659
               ]
              ]
             },
             {
              "annotations[0].text": "Global",
              "annotations[1].text": "Semana : 23<br>Presupuesto Total : $135,097,911.00<br>Gasto Total : $15,788,500.34<br>Disponible : $119,309,410.66",
              "annotations[2].text": "Etapas",
              "annotations[3].text": "Semana : 23<br>Presupuesto Total : $135,097,911.00<br>DEVELOPMENT: $9,495,000.08<br>POST: $0.00<br>PREP: $2,085,692.06<br>SHOOT: $3,263,513.21<br>SOFT: $944,295.00<br>WRAP: $0.00<br>Disponible : $119,309,410.66",
              "annotations[4].text": "Departamento",
              "annotations[5].text": "Semana : 23<br>Presupuesto Total : $135,097,911.00<br>ANDA: $0.00<br>ARTE: $0.00<br>BALU: $124,025.65<br>DINAMITA: $0.00<br>LOCACIONES: $31,867.38<br>NOM: $136,500.00<br>Disponible : $119,309,410.66",
              "annotations[6].text": "Cuenta General",
              "annotations[7].text": "Semana : 23<br>Presupuesto Total : $135,097,911.00<br>1100: $9,395,000.08<br>1200: $3,158,971.34<br>2000: $1,474,335.82<br>3400: $678,672.11<br>1600: $351,363.97<br>2200: $307,230.00<br>Otros: $422,927.02<br>Disponible : $119,309,410.66",
              "title": "Presupuesto vs Gasto – Semana ≤ 23"
             }
            ],
            "label": "23",
            "method": "update"
           },
           {
            "args": [
             {
              "labels": [
               [
                "Gastado",
                "Disponible"
               ],
               [
                "DEVELOPMENT",
                "POST",
                "PREP",
                "SHOOT",
                "SOFT",
                "WRAP",
                "Disponible"
               ],
               [
                "ANDA",
                "ARTE",
                "BALU",
                "DINAMITA",
                "LOCACIONES",
                "NOM",
                "Disponible"
               ],
               [
                "7000",
                "1100",
                "1200",
                "2000",
                "7200",
                "3400",
                "Otros",
                "Disponible"
               ]
              ],
              "marker.colors": [
               [
                "#636efa",
                "#ef553b"
               ],
               [
                "#636EFA",
                "#EF553B",
                "#00CC96",
                "#AB63FA",
                "#FFA15A",
                "#19D3F3",
                "#ef553b"
               ],
               [
                "#1F77B4",
                "#FF7F0E",
                "#2CA02C",
                "#D62728",
                "#9467BD",
                "#8C564B",
                "#ef553b"
               ],
               [
                "#636EFA",
                "#EF553B",
                "#00CC96",
                "#AB63FA",
                "#FFA15A",
                "#19D3F3",
                "#d3d3d3",
                "#ef553b"
               ]
              ],
              "values": [
               [
                30537371.261,
                104560539.739
               ],
               [
                9830000.08,
                0,
                3234774.586,
                16528301.595,
                944295,
                0,
                104560539.739
               ],
               [
                0,
                0,
                124025.65,
                0,
                31867.38,
                231000,
                104560539.739
               ],
               [
                11800678.978,
                9730000.08,
                3158971.34,
                1879335.817,
                1332744.52,
                836179.644,
                1799460.882,
                104560539.739
               ]
              ]
             },
             {
              "annotations[0].text": "Global",
              "annotations[1].text": "Semana : 24<br>Presupuesto Total : $135,097,911.00<br>Gasto Total : $30,537,371.26<br>Disponible : $104,560,539.74",
              "annotations[2].text": "Etapas",
              "annotations[3].text": "Semana : 24<br>Presupuesto Total : $135,097,911.00<br>DEVELOPMENT: $9,830,000.08<br>POST: $0.00<br>PREP: $3,234,774.59<br>SHOOT: $16,528,301.60<br>SOFT: $944,295.00<br>WRAP: $0.00<br>Disponible : $104,560,539.74",
              "annotations[4].text": "Departamento",
              "annotations[5].text": "Semana : 24<br>Presupuesto Total : $135,097,911.00<br>ANDA: $0.00<br>ARTE: $0.00<br>BALU: $124,025.65<br>DINAMITA: $0.00<br>LOCACIONES: $31,867.38<br>NOM: $231,000.00<br>Disponible : $104,560,539.74",
              "annotations[6].text": "Cuenta General",
              "annotations[7].text": "Semana : 24<br>Presupuesto Total : $135,097,911.00<br>7000: $11,800,678.98<br>1100: $9,730,000.08<br>1200: $3,158,971.34<br>2000: $1,879,335.82<br>7200: $1,332,744.52<br>3400: $836,179.64<br>Otros: $1,799,460.88<br>Disponible : $104,560,539.74",
              "title": "Presupuesto vs Gasto – Semana ≤ 24"
             }
            ],
            "label": "24",
            "method": "update"
           },
           {
            "args": [
             {
              "labels": [
               [
                "Gastado",
                "Disponible"
               ],
               [
                "DEVELOPMENT",
                "POST",
                "PREP",
                "SHOOT",
                "SOFT",
                "WRAP",
                "Disponible"
               ],
               [
                "ANDA",
                "ARTE",
                "BALU",
                "DINAMITA",
                "LOCACIONES",
                "NOM",
                "Disponible"
               ],
               [
                "7000",
                "1100",
                "1200",
                "2000",
                "2700",
                "7200",
                "Otros",
                "Disponible"
               ]
              ],
              "marker.colors": [
               [
                "#636efa",
                "#ef553b"
               ],
               [
                "#636EFA",
                "#EF553B",
                "#00CC96",
                "#AB63FA",
                "#FFA15A",
                "#19D3F3",
                "#ef553b"
               ],
               [
                "#1F77B4",
                "#FF7F0E",
                "#2CA02C",
                "#D62728",
                "#9467BD",
                "#8C564B",
                "#ef553b"
               ],
               [
                "#636EFA",
                "#EF553B",
                "#00CC96",
                "#AB63FA",
                "#FFA15A",
                "#19D3F3",
                "#d3d3d3",
                "#ef553b"
               ]
              ],
              "values": [
               [
                32263225.66,
                102834685.34
               ],
               [
                9830000.08,
                0,
                3281119.156,
                18207811.424000002,
                944295,
                0,
                102834685.34
               ],
               [
                0,
                0,
                153082.68,
                0,
                31867.38,
                231000,
                102834685.34
               ],
               [
                11827018.488,
                9730000.08,
                3158971.34,
                1879335.817,
                1714426.147,
                1332744.52,
                2620729.268,
                102834685.34
               ]
              ]
             },
             {
              "annotations[0].text": "Global",
              "annotations[1].text": "Semana : 25<br>Presupuesto Total : $135,097,911.00<br>Gasto Total : $32,263,225.66<br>Disponible : $102,834,685.34",
              "annotations[2].text": "Etapas",
              "annotations[3].text": "Semana : 25<br>Presupuesto Total : $135,097,911.00<br>DEVELOPMENT: $9,830,000.08<br>POST: $0.00<br>PREP: $3,281,119.16<br>SHOOT: $18,207,811.42<br>SOFT: $944,295.00<br>WRAP: $0.00<br>Disponible : $102,834,685.34",
              "annotations[4].text": "Departamento",
              "annotations[5].text": "Semana : 25<br>Presupuesto Total : $135,097,911.00<br>ANDA: $0.00<br>ARTE: $0.00<br>BALU: $153,082.68<br>DINAMITA: $0.00<br>LOCACIONES: $31,867.38<br>NOM: $231,000.00<br>Disponible : $102,834,685.34",
              "annotations[6].text": "Cuenta General",
              "annotations[7].text": "Semana : 25<br>Presupuesto Total : $135,097,911.00<br>7000: $11,827,018.49<br>1100: $9,730,000.08<br>1200: $3,158,971.34<br>2000: $1,879,335.82<br>2700: $1,714,426.15<br>7200: $1,332,744.52<br>Otros: $2,620,729.27<br>Disponible : $102,834,685.34",
              "title": "Presupuesto vs Gasto – Semana ≤ 25"
             }
            ],
            "label": "25",
            "method": "update"
           },
           {
            "args": [
             {
              "labels": [
               [
                "Gastado",
                "Disponible"
               ],
               [
                "DEVELOPMENT",
                "POST",
                "PREP",
                "SHOOT",
                "SOFT",
                "WRAP",
                "Disponible"
               ],
               [
                "ANDA",
                "ARTE",
                "BALU",
                "DINAMITA",
                "LOCACIONES",
                "NOM",
                "Disponible"
               ],
               [
                "7000",
                "1100",
                "1200",
                "2000",
                "2700",
                "7200",
                "Otros",
                "Disponible"
               ]
              ],
              "marker.colors": [
               [
                "#636efa",
                "#ef553b"
               ],
               [
                "#636EFA",
                "#EF553B",
                "#00CC96",
                "#AB63FA",
                "#FFA15A",
                "#19D3F3",
                "#ef553b"
               ],
               [
                "#1F77B4",
                "#FF7F0E",
                "#2CA02C",
                "#D62728",
                "#9467BD",
                "#8C564B",
                "#ef553b"
               ],
               [
                "#636EFA",
                "#EF553B",
                "#00CC96",
                "#AB63FA",
                "#FFA15A",
                "#19D3F3",
                "#d3d3d3",
                "#ef553b"
               ]
              ],
              "values": [
               [
                34869896.122999996,
                100228014.877
               ],
               [
                10040000.08,
                0,
                4791609.079,
                19093991.964,
                944295,
                0,
                100228014.877
               ],
               [
                0,
                709660.1799999999,
                153082.68,
                0,
                31867.38,
                484150,
                100228014.877
               ],
               [
                12162018.488,
                9940000.08,
                3158971.34,
                2408985.817,
                2084426.147,
                1332744.52,
                3782749.7309999997,
                100228014.877
               ]
              ]
             },
             {
              "annotations[0].text": "Global",
              "annotations[1].text": "Semana : 26<br>Presupuesto Total : $135,097,911.00<br>Gasto Total : $34,869,896.12<br>Disponible : $100,228,014.88",
              "annotations[2].text": "Etapas",
              "annotations[3].text": "Semana : 26<br>Presupuesto Total : $135,097,911.00<br>DEVELOPMENT: $10,040,000.08<br>POST: $0.00<br>PREP: $4,791,609.08<br>SHOOT: $19,093,991.96<br>SOFT: $944,295.00<br>WRAP: $0.00<br>Disponible : $100,228,014.88",
              "annotations[4].text": "Departamento",
              "annotations[5].text": "Semana : 26<br>Presupuesto Total : $135,097,911.00<br>ANDA: $0.00<br>ARTE: $709,660.18<br>BALU: $153,082.68<br>DINAMITA: $0.00<br>LOCACIONES: $31,867.38<br>NOM: $484,150.00<br>Disponible : $100,228,014.88",
              "annotations[6].text": "Cuenta General",
              "annotations[7].text": "Semana : 26<br>Presupuesto Total : $135,097,911.00<br>7000: $12,162,018.49<br>1100: $9,940,000.08<br>1200: $3,158,971.34<br>2000: $2,408,985.82<br>2700: $2,084,426.15<br>7200: $1,332,744.52<br>Otros: $3,782,749.73<br>Disponible : $100,228,014.88",
              "title": "Presupuesto vs Gasto – Semana ≤ 26"
             }
            ],
            "label": "26",
            "method": "update"
           },
           {
            "args": [
             {
              "labels": [
               [
                "Gastado",
                "Disponible"
               ],
               [
                "DEVELOPMENT",
                "POST",
                "PREP",
                "SHOOT",
                "SOFT",
                "WRAP",
                "Disponible"
               ],
               [
                "ANDA",
                "ARTE",
                "BALU",
                "DINAMITA",
                "LOCACIONES",
                "NOM",
                "Disponible"
               ],
               [
                "7000",
                "1100",
                "3400",
                "1200",
                "2000",
                "2400",
                "Otros",
                "Disponible"
               ]
              ],
              "marker.colors": [
               [
                "#636efa",
                "#ef553b"
               ],
               [
                "#636EFA",
                "#EF553B",
                "#00CC96",
                "#AB63FA",
                "#FFA15A",
                "#19D3F3",
                "#ef553b"
               ],
               [
                "#1F77B4",
                "#FF7F0E",
                "#2CA02C",
                "#D62728",
                "#9467BD",
                "#8C564B",
                "#ef553b"
               ],
               [
                "#636EFA",
                "#EF553B",
                "#00CC96",
                "#AB63FA",
                "#FFA15A",
                "#19D3F3",
                "#d3d3d3",
                "#ef553b"
               ]
              ],
              "values": [
               [
                41567042.14,
                93530868.86
               ],
               [
                10040000.08,
                0,
                4903459.659,
                25679287.401,
                944295,
                0,
                93530868.86
               ],
               [
                0,
                2329211.387,
                153082.68,
                0,
                31867.38,
                484150,
                93530868.86
               ],
               [
                12162018.488,
                9940000.08,
                4429016.853999999,
                3158971.34,
                2408985.817,
                2157703.897,
                7310345.664,
                93530868.86
               ]
              ]
             },
             {
              "annotations[0].text": "Global",
              "annotations[1].text": "Semana : 27<br>Presupuesto Total : $135,097,911.00<br>Gasto Total : $41,567,042.14<br>Disponible : $93,530,868.86",
              "annotations[2].text": "Etapas",
              "annotations[3].text": "Semana : 27<br>Presupuesto Total : $135,097,911.00<br>DEVELOPMENT: $10,040,000.08<br>POST: $0.00<br>PREP: $4,903,459.66<br>SHOOT: $25,679,287.40<br>SOFT: $944,295.00<br>WRAP: $0.00<br>Disponible : $93,530,868.86",
              "annotations[4].text": "Departamento",
              "annotations[5].text": "Semana : 27<br>Presupuesto Total : $135,097,911.00<br>ANDA: $0.00<br>ARTE: $2,329,211.39<br>BALU: $153,082.68<br>DINAMITA: $0.00<br>LOCACIONES: $31,867.38<br>NOM: $484,150.00<br>Disponible : $93,530,868.86",
              "annotations[6].text": "Cuenta General",
              "annotations[7].text": "Semana : 27<br>Presupuesto Total : $135,097,911.00<br>7000: $12,162,018.49<br>1100: $9,940,000.08<br>3400: $4,429,016.85<br>1200: $3,158,971.34<br>2000: $2,408,985.82<br>2400: $2,157,703.90<br>Otros: $7,310,345.66<br>Disponible : $93,530,868.86",
              "title": "Presupuesto vs Gasto – Semana ≤ 27"
             }
            ],
            "label": "27",
            "method": "update"
           },
           {
            "args": [
             {
              "labels": [
               [
                "Gastado",
                "Disponible"
               ],
               [
                "DEVELOPMENT",
                "POST",
                "PREP",
                "SHOOT",
                "SOFT (EXCESO)",
                "WRAP",
                "Disponible"
               ],
               [
                "ANDA",
                "ARTE",
                "BALU",
                "DINAMITA",
                "LOCACIONES",
                "NOM",
                "Disponible"
               ],
               [
                "7000",
                "1100",
                "3400",
                "3600",
                "1200",
                "2400",
                "Otros",
                "Disponible"
               ]
              ],
              "marker.colors": [
               [
                "#636efa",
                "#ef553b"
               ],
               [
                "#636EFA",
                "#EF553B",
                "#00CC96",
                "#AB63FA",
                "#FFA15A",
                "#19D3F3",
                "#ef553b"
               ],
               [
                "#1F77B4",
                "#FF7F0E",
                "#2CA02C",
                "#D62728",
                "#9467BD",
                "#8C564B",
                "#ef553b"
               ],
               [
                "#636EFA",
                "#EF553B",
                "#00CC96",
                "#AB63FA",
                "#FFA15A",
                "#19D3F3",
                "#d3d3d3",
                "#ef553b"
               ]
              ],
              "values": [
               [
                56092251.721,
                79005659.279
               ],
               [
                10040000.08,
                3461000,
                7183910.336,
                34442046.305,
                965295,
                0,
                79005659.279
               ],
               [
                0,
                3060685.683,
                6493415.54,
                3508400,
                31867.38,
                739175,
                79005659.279
               ],
               [
                12194672.916000001,
                9940000.08,
                5978977.2809999995,
                5972821.64,
                3309224.68,
                2878289.987,
                15818265.137,
                79005659.279
               ]
              ]
             },
             {
              "annotations[0].text": "Global",
              "annotations[1].text": "Semana : 28<br>Presupuesto Total : $135,097,911.00<br>Gasto Total : $56,092,251.72<br>Disponible : $79,005,659.28",
              "annotations[2].text": "Etapas",
              "annotations[3].text": "Semana : 28<br>Presupuesto Total : $135,097,911.00<br>DEVELOPMENT: $10,040,000.08<br>POST: $3,461,000.00<br>PREP: $7,183,910.34<br>SHOOT: $34,442,046.30<br>SOFT: $965,295.00<br>WRAP: $0.00<br>Disponible : $79,005,659.28",
              "annotations[4].text": "Departamento",
              "annotations[5].text": "Semana : 28<br>Presupuesto Total : $135,097,911.00<br>ANDA: $0.00<br>ARTE: $3,060,685.68<br>BALU: $6,493,415.54<br>DINAMITA: $3,508,400.00<br>LOCACIONES: $31,867.38<br>NOM: $739,175.00<br>Disponible : $79,005,659.28",
              "annotations[6].text": "Cuenta General",
              "annotations[7].text": "Semana : 28<br>Presupuesto Total : $135,097,911.00<br>7000: $12,194,672.92<br>1100: $9,940,000.08<br>3400: $5,978,977.28<br>3600: $5,972,821.64<br>1200: $3,309,224.68<br>2400: $2,878,289.99<br>Otros: $15,818,265.14<br>Disponible : $79,005,659.28",
              "title": "Presupuesto vs Gasto – Semana ≤ 28"
             }
            ],
            "label": "28",
            "method": "update"
           },
           {
            "args": [
             {
              "labels": [
               [
                "Gastado",
                "Disponible"
               ],
               [
                "DEVELOPMENT",
                "POST",
                "PREP",
                "SHOOT",
                "SOFT (EXCESO)",
                "WRAP",
                "Disponible"
               ],
               [
                "ANDA",
                "ARTE",
                "BALU",
                "DINAMITA",
                "LOCACIONES",
                "NOM",
                "Disponible"
               ],
               [
                "7000",
                "1100",
                "3400",
                "3600",
                "1200",
                "2400",
                "Otros",
                "Disponible"
               ]
              ],
              "marker.colors": [
               [
                "#636efa",
                "#ef553b"
               ],
               [
                "#636EFA",
                "#EF553B",
                "#00CC96",
                "#AB63FA",
                "#FFA15A",
                "#19D3F3",
                "#ef553b"
               ],
               [
                "#1F77B4",
                "#FF7F0E",
                "#2CA02C",
                "#D62728",
                "#9467BD",
                "#8C564B",
                "#ef553b"
               ],
               [
                "#636EFA",
                "#EF553B",
                "#00CC96",
                "#AB63FA",
                "#FFA15A",
                "#19D3F3",
                "#d3d3d3",
                "#ef553b"
               ]
              ],
              "values": [
               [
                57353883.104,
                77744027.896
               ],
               [
                10040000.08,
                3679577.98,
                7381756.086,
                35287253.958000004,
                965295,
                0,
                77744027.896
               ],
               [
                0,
                3226889.803,
                6662476.03,
                3508400,
                542367.38,
                739175,
                77744027.896
               ],
               [
                12194672.916000001,
                9940000.08,
                6689910.109,
                5972821.64,
                3309224.68,
                2878289.987,
                16368963.692,
                77744027.896
               ]
              ]
             },
             {
              "annotations[0].text": "Global",
              "annotations[1].text": "Semana : 29<br>Presupuesto Total : $135,097,911.00<br>Gasto Total : $57,353,883.10<br>Disponible : $77,744,027.90",
              "annotations[2].text": "Etapas",
              "annotations[3].text": "Semana : 29<br>Presupuesto Total : $135,097,911.00<br>DEVELOPMENT: $10,040,000.08<br>POST: $3,679,577.98<br>PREP: $7,381,756.09<br>SHOOT: $35,287,253.96<br>SOFT: $965,295.00<br>WRAP: $0.00<br>Disponible : $77,744,027.90",
              "annotations[4].text": "Departamento",
              "annotations[5].text": "Semana : 29<br>Presupuesto Total : $135,097,911.00<br>ANDA: $0.00<br>ARTE: $3,226,889.80<br>BALU: $6,662,476.03<br>DINAMITA: $3,508,400.00<br>LOCACIONES: $542,367.38<br>NOM: $739,175.00<br>Disponible : $77,744,027.90",
              "annotations[6].text": "Cuenta General",
              "annotations[7].text": "Semana : 29<br>Presupuesto Total : $135,097,911.00<br>7000: $12,194,672.92<br>1100: $9,940,000.08<br>3400: $6,689,910.11<br>3600: $5,972,821.64<br>1200: $3,309,224.68<br>2400: $2,878,289.99<br>Otros: $16,368,963.69<br>Disponible : $77,744,027.90",
              "title": "Presupuesto vs Gasto – Semana ≤ 29"
             }
            ],
            "label": "29",
            "method": "update"
           },
           {
            "args": [
             {
              "labels": [
               [
                "Gastado",
                "Disponible"
               ],
               [
                "DEVELOPMENT",
                "POST",
                "PREP",
                "SHOOT",
                "SOFT (EXCESO)",
                "WRAP",
                "Disponible"
               ],
               [
                "ANDA",
                "ARTE",
                "BALU",
                "DINAMITA",
                "LOCACIONES",
                "NOM",
                "Disponible"
               ],
               [
                "7000",
                "1100",
                "3400",
                "3600",
                "2400",
                "1200",
                "Otros",
                "Disponible"
               ]
              ],
              "marker.colors": [
               [
                "#636efa",
                "#ef553b"
               ],
               [
                "#636EFA",
                "#EF553B",
                "#00CC96",
                "#AB63FA",
                "#FFA15A",
                "#19D3F3",
                "#ef553b"
               ],
               [
                "#1F77B4",
                "#FF7F0E",
                "#2CA02C",
                "#D62728",
                "#9467BD",
                "#8C564B",
                "#ef553b"
               ],
               [
                "#636EFA",
                "#EF553B",
                "#00CC96",
                "#AB63FA",
                "#FFA15A",
                "#19D3F3",
                "#d3d3d3",
                "#ef553b"
               ]
              ],
              "values": [
               [
                60591073.409,
                74506837.59099999
               ],
               [
                10040000.08,
                3679577.98,
                7879103.176,
                38027097.173,
                965295,
                0,
                74506837.59099999
               ],
               [
                0,
                3613669.973,
                6948006.49,
                3508400,
                542367.38,
                893375,
                74506837.59099999
               ],
               [
                12194672.916000001,
                9940000.08,
                6835853.949,
                6293352.1,
                3336995.8170000003,
                3309224.68,
                18680973.867000006,
                74506837.59099999
               ]
              ]
             },
             {
              "annotations[0].text": "Global",
              "annotations[1].text": "Semana : 30<br>Presupuesto Total : $135,097,911.00<br>Gasto Total : $60,591,073.41<br>Disponible : $74,506,837.59",
              "annotations[2].text": "Etapas",
              "annotations[3].text": "Semana : 30<br>Presupuesto Total : $135,097,911.00<br>DEVELOPMENT: $10,040,000.08<br>POST: $3,679,577.98<br>PREP: $7,879,103.18<br>SHOOT: $38,027,097.17<br>SOFT: $965,295.00<br>WRAP: $0.00<br>Disponible : $74,506,837.59",
              "annotations[4].text": "Departamento",
              "annotations[5].text": "Semana : 30<br>Presupuesto Total : $135,097,911.00<br>ANDA: $0.00<br>ARTE: $3,613,669.97<br>BALU: $6,948,006.49<br>DINAMITA: $3,508,400.00<br>LOCACIONES: $542,367.38<br>NOM: $893,375.00<br>Disponible : $74,506,837.59",
              "annotations[6].text": "Cuenta General",
              "annotations[7].text": "Semana : 30<br>Presupuesto Total : $135,097,911.00<br>7000: $12,194,672.92<br>1100: $9,940,000.08<br>3400: $6,835,853.95<br>3600: $6,293,352.10<br>2400: $3,336,995.82<br>1200: $3,309,224.68<br>Otros: $18,680,973.87<br>Disponible : $74,506,837.59",
              "title": "Presupuesto vs Gasto – Semana ≤ 30"
             }
            ],
            "label": "30",
            "method": "update"
           },
           {
            "args": [
             {
              "labels": [
               [
                "Gastado",
                "Disponible"
               ],
               [
                "DEVELOPMENT",
                "POST",
                "PREP",
                "SHOOT",
                "SOFT (EXCESO)",
                "WRAP",
                "Disponible"
               ],
               [
                "ANDA",
                "ARTE",
                "BALU",
                "DINAMITA",
                "LOCACIONES",
                "NOM",
                "Disponible"
               ],
               [
                "7000",
                "1100",
                "3400",
                "3600",
                "2400",
                "1200",
                "Otros",
                "Disponible"
               ]
              ],
              "marker.colors": [
               [
                "#636efa",
                "#ef553b"
               ],
               [
                "#636EFA",
                "#EF553B",
                "#00CC96",
                "#AB63FA",
                "#FFA15A",
                "#19D3F3",
                "#ef553b"
               ],
               [
                "#1F77B4",
                "#FF7F0E",
                "#2CA02C",
                "#D62728",
                "#9467BD",
                "#8C564B",
                "#ef553b"
               ],
               [
                "#636EFA",
                "#EF553B",
                "#00CC96",
                "#AB63FA",
                "#FFA15A",
                "#19D3F3",
                "#d3d3d3",
                "#ef553b"
               ]
              ],
              "values": [
               [
                67122576.785,
                67975334.215
               ],
               [
                10040000.08,
                4768162.45,
                8243952.075999999,
                43105167.179,
                965295,
                0,
                67975334.215
               ],
               [
                0,
                3978294.393,
                7305200.75,
                4796984.47,
                1958664.066,
                909875,
                67975334.215
               ],
               [
                12194672.916000001,
                9940000.08,
                8268650.635,
                6766865.37,
                3553797.467,
                3309224.68,
                23089365.637000006,
                67975334.215
               ]
              ]
             },
             {
              "annotations[0].text": "Global",
              "annotations[1].text": "Semana : 31<br>Presupuesto Total : $135,097,911.00<br>Gasto Total : $67,122,576.78<br>Disponible : $67,975,334.22",
              "annotations[2].text": "Etapas",
              "annotations[3].text": "Semana : 31<br>Presupuesto Total : $135,097,911.00<br>DEVELOPMENT: $10,040,000.08<br>POST: $4,768,162.45<br>PREP: $8,243,952.08<br>SHOOT: $43,105,167.18<br>SOFT: $965,295.00<br>WRAP: $0.00<br>Disponible : $67,975,334.22",
              "annotations[4].text": "Departamento",
              "annotations[5].text": "Semana : 31<br>Presupuesto Total : $135,097,911.00<br>ANDA: $0.00<br>ARTE: $3,978,294.39<br>BALU: $7,305,200.75<br>DINAMITA: $4,796,984.47<br>LOCACIONES: $1,958,664.07<br>NOM: $909,875.00<br>Disponible : $67,975,334.22",
              "annotations[6].text": "Cuenta General",
              "annotations[7].text": "Semana : 31<br>Presupuesto Total : $135,097,911.00<br>7000: $12,194,672.92<br>1100: $9,940,000.08<br>3400: $8,268,650.63<br>3600: $6,766,865.37<br>2400: $3,553,797.47<br>1200: $3,309,224.68<br>Otros: $23,089,365.64<br>Disponible : $67,975,334.22",
              "title": "Presupuesto vs Gasto – Semana ≤ 31"
             }
            ],
            "label": "31",
            "method": "update"
           },
           {
            "args": [
             {
              "labels": [
               [
                "Gastado",
                "Disponible"
               ],
               [
                "DEVELOPMENT",
                "POST",
                "PREP",
                "SHOOT",
                "SOFT (EXCESO)",
                "WRAP",
                "Disponible"
               ],
               [
                "ANDA",
                "ARTE",
                "BALU",
                "DINAMITA",
                "LOCACIONES",
                "NOM",
                "Disponible"
               ],
               [
                "7000",
                "1100",
                "3400",
                "3600",
                "1200",
                "2000",
                "Otros",
                "Disponible"
               ]
              ],
              "marker.colors": [
               [
                "#636efa",
                "#ef553b"
               ],
               [
                "#636EFA",
                "#EF553B",
                "#00CC96",
                "#AB63FA",
                "#FFA15A",
                "#19D3F3",
                "#ef553b"
               ],
               [
                "#1F77B4",
                "#FF7F0E",
                "#2CA02C",
                "#D62728",
                "#9467BD",
                "#8C564B",
                "#ef553b"
               ],
               [
                "#636EFA",
                "#EF553B",
                "#00CC96",
                "#AB63FA",
                "#FFA15A",
                "#19D3F3",
                "#d3d3d3",
                "#ef553b"
               ]
              ],
              "values": [
               [
                84730837.065,
                50367073.935
               ],
               [
                10040000.08,
                5675662.45,
                8484131.906,
                59547747.629,
                983295,
                0,
                50367073.935
               ],
               [
                0,
                4112953.273,
                7305200.75,
                4796984.47,
                2033664.066,
                3622073.66,
                50367073.935
               ],
               [
                12233172.916000001,
                9940000.08,
                9198093.655,
                6790865.37,
                6061719.09,
                5211973.102,
                35295012.852,
                50367073.935
               ]
              ]
             },
             {
              "annotations[0].text": "Global",
              "annotations[1].text": "Semana : 32<br>Presupuesto Total : $135,097,911.00<br>Gasto Total : $84,730,837.06<br>Disponible : $50,367,073.94",
              "annotations[2].text": "Etapas",
              "annotations[3].text": "Semana : 32<br>Presupuesto Total : $135,097,911.00<br>DEVELOPMENT: $10,040,000.08<br>POST: $5,675,662.45<br>PREP: $8,484,131.91<br>SHOOT: $59,547,747.63<br>SOFT: $983,295.00<br>WRAP: $0.00<br>Disponible : $50,367,073.94",
              "annotations[4].text": "Departamento",
              "annotations[5].text": "Semana : 32<br>Presupuesto Total : $135,097,911.00<br>ANDA: $0.00<br>ARTE: $4,112,953.27<br>BALU: $7,305,200.75<br>DINAMITA: $4,796,984.47<br>LOCACIONES: $2,033,664.07<br>NOM: $3,622,073.66<br>Disponible : $50,367,073.94",
              "annotations[6].text": "Cuenta General",
              "annotations[7].text": "Semana : 32<br>Presupuesto Total : $135,097,911.00<br>7000: $12,233,172.92<br>1100: $9,940,000.08<br>3400: $9,198,093.65<br>3600: $6,790,865.37<br>1200: $6,061,719.09<br>2000: $5,211,973.10<br>Otros: $35,295,012.85<br>Disponible : $50,367,073.94",
              "title": "Presupuesto vs Gasto – Semana ≤ 32"
             }
            ],
            "label": "32",
            "method": "update"
           },
           {
            "args": [
             {
              "labels": [
               [
                "Gastado",
                "Disponible"
               ],
               [
                "DEVELOPMENT",
                "POST",
                "PREP",
                "SHOOT",
                "SOFT (EXCESO)",
                "WRAP",
                "Disponible"
               ],
               [
                "ANDA (EXCESO)",
                "ARTE",
                "BALU",
                "DINAMITA",
                "LOCACIONES",
                "NOM",
                "Disponible"
               ],
               [
                "7000",
                "3400",
                "1100",
                "3100",
                "1200",
                "1400",
                "Otros",
                "Disponible"
               ]
              ],
              "marker.colors": [
               [
                "#636efa",
                "#ef553b"
               ],
               [
                "#636EFA",
                "#EF553B",
                "#00CC96",
                "#AB63FA",
                "#FFA15A",
                "#19D3F3",
                "#ef553b"
               ],
               [
                "#1F77B4",
                "#FF7F0E",
                "#2CA02C",
                "#D62728",
                "#9467BD",
                "#8C564B",
                "#ef553b"
               ],
               [
                "#636EFA",
                "#EF553B",
                "#00CC96",
                "#AB63FA",
                "#FFA15A",
                "#19D3F3",
                "#d3d3d3",
                "#ef553b"
               ]
              ],
              "values": [
               [
                101924120.26300001,
                33173790.73699999
               ],
               [
                10040000.08,
                5675662.45,
                8592131.906,
                76633030.827,
                983295,
                0,
                33173790.73699999
               ],
               [
                4282699.148,
                4150709.403,
                7394984.220000001,
                4796984.47,
                2651303.806,
                3695573.66,
                33173790.73699999
               ],
               [
                12233172.916000001,
                10259903.625,
                9940000.08,
                9315471.94,
                8211279.09,
                7565251.595000001,
                44399041.017000005,
                33173790.73699999
               ]
              ]
             },
             {
              "annotations[0].text": "Global",
              "annotations[1].text": "Semana : 33<br>Presupuesto Total : $135,097,911.00<br>Gasto Total : $101,924,120.26<br>Disponible : $33,173,790.74",
              "annotations[2].text": "Etapas",
              "annotations[3].text": "Semana : 33<br>Presupuesto Total : $135,097,911.00<br>DEVELOPMENT: $10,040,000.08<br>POST: $5,675,662.45<br>PREP: $8,592,131.91<br>SHOOT: $76,633,030.83<br>SOFT: $983,295.00<br>WRAP: $0.00<br>Disponible : $33,173,790.74",
              "annotations[4].text": "Departamento",
              "annotations[5].text": "Semana : 33<br>Presupuesto Total : $135,097,911.00<br>ANDA: $4,282,699.15<br>ARTE: $4,150,709.40<br>BALU: $7,394,984.22<br>DINAMITA: $4,796,984.47<br>LOCACIONES: $2,651,303.81<br>NOM: $3,695,573.66<br>Disponible : $33,173,790.74",
              "annotations[6].text": "Cuenta General",
              "annotations[7].text": "Semana : 33<br>Presupuesto Total : $135,097,911.00<br>7000: $12,233,172.92<br>3400: $10,259,903.62<br>1100: $9,940,000.08<br>3100: $9,315,471.94<br>1200: $8,211,279.09<br>1400: $7,565,251.60<br>Otros: $44,399,041.02<br>Disponible : $33,173,790.74",
              "title": "Presupuesto vs Gasto – Semana ≤ 33"
             }
            ],
            "label": "33",
            "method": "update"
           },
           {
            "args": [
             {
              "labels": [
               [
                "Gastado",
                "Disponible"
               ],
               [
                "DEVELOPMENT",
                "POST",
                "PREP",
                "SHOOT",
                "SOFT (EXCESO)",
                "WRAP",
                "Disponible"
               ],
               [
                "ANDA (EXCESO)",
                "ARTE",
                "BALU",
                "DINAMITA",
                "LOCACIONES",
                "NOM",
                "Disponible"
               ],
               [
                "7000",
                "3400",
                "1400",
                "1100 (EXCESO)",
                "3100",
                "1200",
                "Otros",
                "Disponible"
               ]
              ],
              "marker.colors": [
               [
                "#636efa",
                "#ef553b"
               ],
               [
                "#636EFA",
                "#EF553B",
                "#00CC96",
                "#AB63FA",
                "#FFA15A",
                "#19D3F3",
                "#ef553b"
               ],
               [
                "#1F77B4",
                "#FF7F0E",
                "#2CA02C",
                "#D62728",
                "#9467BD",
                "#8C564B",
                "#ef553b"
               ],
               [
                "#636EFA",
                "#EF553B",
                "#00CC96",
                "#AB63FA",
                "#FFA15A",
                "#19D3F3",
                "#d3d3d3",
                "#ef553b"
               ]
              ],
              "values": [
               [
                110047921.433,
                25049989.567
               ],
               [
                10165540.08,
                5978662.45,
                8871812.276,
                84048611.627,
                983295,
                0,
                25049989.567
               ],
               [
                5323549.098,
                4529453.173,
                7394984.220000001,
                4796984.47,
                3565890.016,
                4913169.48,
                25049989.567
               ],
               [
                12266712.916000001,
                11547585.165,
                10450374.805,
                10065000.08,
                9737563.57,
                8211279.09,
                47769405.807,
                25049989.567
               ]
              ]
             },
             {
              "annotations[0].text": "Global",
              "annotations[1].text": "Semana : 34<br>Presupuesto Total : $135,097,911.00<br>Gasto Total : $110,047,921.43<br>Disponible : $25,049,989.57",
              "annotations[2].text": "Etapas",
              "annotations[3].text": "Semana : 34<br>Presupuesto Total : $135,097,911.00<br>DEVELOPMENT: $10,165,540.08<br>POST: $5,978,662.45<br>PREP: $8,871,812.28<br>SHOOT: $84,048,611.63<br>SOFT: $983,295.00<br>WRAP: $0.00<br>Disponible : $25,049,989.57",
              "annotations[4].text": "Departamento",
              "annotations[5].text": "Semana : 34<br>Presupuesto Total : $135,097,911.00<br>ANDA: $5,323,549.10<br>ARTE: $4,529,453.17<br>BALU: $7,394,984.22<br>DINAMITA: $4,796,984.47<br>LOCACIONES: $3,565,890.02<br>NOM: $4,913,169.48<br>Disponible : $25,049,989.57",
              "annotations[6].text": "Cuenta General",
              "annotations[7].text": "Semana : 34<br>Presupuesto Total : $135,097,911.00<br>7000: $12,266,712.92<br>3400: $11,547,585.16<br>1400: $10,450,374.80<br>1100: $10,065,000.08<br>3100: $9,737,563.57<br>1200: $8,211,279.09<br>Otros: $47,769,405.81<br>Disponible : $25,049,989.57",
              "title": "Presupuesto vs Gasto – Semana ≤ 34"
             }
            ],
            "label": "34",
            "method": "update"
           },
           {
            "args": [
             {
              "labels": [
               [
                "Gastado",
                "Disponible"
               ],
               [
                "DEVELOPMENT",
                "POST",
                "PREP",
                "SHOOT",
                "SOFT (EXCESO)",
                "WRAP",
                "Disponible"
               ],
               [
                "ANDA (EXCESO)",
                "ARTE",
                "BALU (EXCESO)",
                "DINAMITA",
                "LOCACIONES",
                "NOM",
                "Disponible"
               ],
               [
                "7000",
                "3400",
                "1400",
                "1100 (EXCESO)",
                "3100",
                "1200",
                "Otros",
                "Disponible"
               ]
              ],
              "marker.colors": [
               [
                "#636efa",
                "#ef553b"
               ],
               [
                "#636EFA",
                "#EF553B",
                "#00CC96",
                "#AB63FA",
                "#FFA15A",
                "#19D3F3",
                "#ef553b"
               ],
               [
                "#1F77B4",
                "#FF7F0E",
                "#2CA02C",
                "#D62728",
                "#9467BD",
                "#8C564B",
                "#ef553b"
               ],
               [
                "#636EFA",
                "#EF553B",
                "#00CC96",
                "#AB63FA",
                "#FFA15A",
                "#19D3F3",
                "#d3d3d3",
                "#ef553b"
               ]
              ],
              "values": [
               [
                115590722.373,
                19507188.627000004
               ],
               [
                10165540.08,
                9634762.45,
                8904812.276,
                85902312.567,
                983295,
                0,
                19507188.627000004
               ],
               [
                5555568.928,
                4550053.173,
                7467982.220000001,
                8672334.47,
                3595890.016,
                4913169.48,
                19507188.627000004
               ],
               [
                12266712.916000001,
                11592585.165,
                10604890.375,
                10065000.08,
                9951463.57,
                8640279.09,
                52469791.17699999,
                19507188.627000004
               ]
              ]
             },
             {
              "annotations[0].text": "Global",
              "annotations[1].text": "Semana : 35<br>Presupuesto Total : $135,097,911.00<br>Gasto Total : $115,590,722.37<br>Disponible : $19,507,188.63",
              "annotations[2].text": "Etapas",
              "annotations[3].text": "Semana : 35<br>Presupuesto Total : $135,097,911.00<br>DEVELOPMENT: $10,165,540.08<br>POST: $9,634,762.45<br>PREP: $8,904,812.28<br>SHOOT: $85,902,312.57<br>SOFT: $983,295.00<br>WRAP: $0.00<br>Disponible : $19,507,188.63",
              "annotations[4].text": "Departamento",
              "annotations[5].text": "Semana : 35<br>Presupuesto Total : $135,097,911.00<br>ANDA: $5,555,568.93<br>ARTE: $4,550,053.17<br>BALU: $7,467,982.22<br>DINAMITA: $8,672,334.47<br>LOCACIONES: $3,595,890.02<br>NOM: $4,913,169.48<br>Disponible : $19,507,188.63",
              "annotations[6].text": "Cuenta General",
              "annotations[7].text": "Semana : 35<br>Presupuesto Total : $135,097,911.00<br>7000: $12,266,712.92<br>3400: $11,592,585.16<br>1400: $10,604,890.38<br>1100: $10,065,000.08<br>3100: $9,951,463.57<br>1200: $8,640,279.09<br>Otros: $52,469,791.18<br>Disponible : $19,507,188.63",
              "title": "Presupuesto vs Gasto – Semana ≤ 35"
             }
            ],
            "label": "35",
            "method": "update"
           },
           {
            "args": [
             {
              "labels": [
               [
                "Gastado",
                "Disponible"
               ],
               [
                "DEVELOPMENT",
                "POST",
                "PREP",
                "SHOOT",
                "SOFT (EXCESO)",
                "WRAP",
                "Disponible"
               ],
               [
                "ANDA (EXCESO)",
                "ARTE",
                "BALU (EXCESO)",
                "DINAMITA",
                "LOCACIONES",
                "NOM",
                "Disponible"
               ],
               [
                "7000",
                "3400",
                "3100",
                "1400",
                "1100 (EXCESO)",
                "1200",
                "Otros",
                "Disponible"
               ]
              ],
              "marker.colors": [
               [
                "#636efa",
                "#ef553b"
               ],
               [
                "#636EFA",
                "#EF553B",
                "#00CC96",
                "#AB63FA",
                "#FFA15A",
                "#19D3F3",
                "#ef553b"
               ],
               [
                "#1F77B4",
                "#FF7F0E",
                "#2CA02C",
                "#D62728",
                "#9467BD",
                "#8C564B",
                "#ef553b"
               ],
               [
                "#636EFA",
                "#EF553B",
                "#00CC96",
                "#AB63FA",
                "#FFA15A",
                "#19D3F3",
                "#d3d3d3",
                "#ef553b"
               ]
              ],
              "values": [
               [
                119209825.323,
                15888085.677000001
               ],
               [
                10165540.08,
                9634762.45,
                8915895.606,
                89459760.327,
                983295,
                50571.86,
                15888085.677000001
               ],
               [
                5555568.928,
                4575023.633,
                7588948.22,
                8672334.47,
                3800640.016,
                5721527.27,
                15888085.677000001
               ],
               [
                12299654.466,
                11902261.035,
                11309129.89,
                10972805.375,
                10065000.08,
                8640279.09,
                54020695.386999995,
                15888085.677000001
               ]
              ]
             },
             {
              "annotations[0].text": "Global",
              "annotations[1].text": "Semana : 36<br>Presupuesto Total : $135,097,911.00<br>Gasto Total : $119,209,825.32<br>Disponible : $15,888,085.68",
              "annotations[2].text": "Etapas",
              "annotations[3].text": "Semana : 36<br>Presupuesto Total : $135,097,911.00<br>DEVELOPMENT: $10,165,540.08<br>POST: $9,634,762.45<br>PREP: $8,915,895.61<br>SHOOT: $89,459,760.33<br>SOFT: $983,295.00<br>WRAP: $50,571.86<br>Disponible : $15,888,085.68",
              "annotations[4].text": "Departamento",
              "annotations[5].text": "Semana : 36<br>Presupuesto Total : $135,097,911.00<br>ANDA: $5,555,568.93<br>ARTE: $4,575,023.63<br>BALU: $7,588,948.22<br>DINAMITA: $8,672,334.47<br>LOCACIONES: $3,800,640.02<br>NOM: $5,721,527.27<br>Disponible : $15,888,085.68",
              "annotations[6].text": "Cuenta General",
              "annotations[7].text": "Semana : 36<br>Presupuesto Total : $135,097,911.00<br>7000: $12,299,654.47<br>3400: $11,902,261.04<br>3100: $11,309,129.89<br>1400: $10,972,805.38<br>1100: $10,065,000.08<br>1200: $8,640,279.09<br>Otros: $54,020,695.39<br>Disponible : $15,888,085.68",
              "title": "Presupuesto vs Gasto – Semana ≤ 36"
             }
            ],
            "label": "36",
            "method": "update"
           },
           {
            "args": [
             {
              "labels": [
               [
                "Gastado",
                "Disponible"
               ],
               [
                "DEVELOPMENT",
                "POST",
                "PREP",
                "SHOOT",
                "SOFT (EXCESO)",
                "WRAP",
                "Disponible"
               ],
               [
                "ANDA (EXCESO)",
                "ARTE",
                "BALU (EXCESO)",
                "DINAMITA",
                "LOCACIONES",
                "NOM",
                "Disponible"
               ],
               [
                "7000",
                "3400",
                "1400",
                "3100",
                "1100 (EXCESO)",
                "1200",
                "Otros",
                "Disponible"
               ]
              ],
              "marker.colors": [
               [
                "#636efa",
                "#ef553b"
               ],
               [
                "#636EFA",
                "#EF553B",
                "#00CC96",
                "#AB63FA",
                "#FFA15A",
                "#19D3F3",
                "#ef553b"
               ],
               [
                "#1F77B4",
                "#FF7F0E",
                "#2CA02C",
                "#D62728",
                "#9467BD",
                "#8C564B",
                "#ef553b"
               ],
               [
                "#636EFA",
                "#EF553B",
                "#00CC96",
                "#AB63FA",
                "#FFA15A",
                "#19D3F3",
                "#d3d3d3",
                "#ef553b"
               ]
              ],
              "values": [
               [
                120761267.22299999,
                14336643.77700001
               ],
               [
                10165540.08,
                9634762.45,
                8915895.606,
                91011202.227,
                983295,
                50571.86,
                14336643.77700001
               ],
               [
                5557620.228,
                4575023.633,
                7588948.22,
                8672334.47,
                3840640.016,
                5721527.27,
                14336643.77700001
               ],
               [
                12505084.506000001,
                11942261.035,
                11356099.675,
                11309129.89,
                10065000.08,
                8640279.09,
                54943412.94699999,
                14336643.77700001
               ]
              ]
             },
             {
              "annotations[0].text": "Global",
              "annotations[1].text": "Semana : 37<br>Presupuesto Total : $135,097,911.00<br>Gasto Total : $120,761,267.22<br>Disponible : $14,336,643.78",
              "annotations[2].text": "Etapas",
              "annotations[3].text": "Semana : 37<br>Presupuesto Total : $135,097,911.00<br>DEVELOPMENT: $10,165,540.08<br>POST: $9,634,762.45<br>PREP: $8,915,895.61<br>SHOOT: $91,011,202.23<br>SOFT: $983,295.00<br>WRAP: $50,571.86<br>Disponible : $14,336,643.78",
              "annotations[4].text": "Departamento",
              "annotations[5].text": "Semana : 37<br>Presupuesto Total : $135,097,911.00<br>ANDA: $5,557,620.23<br>ARTE: $4,575,023.63<br>BALU: $7,588,948.22<br>DINAMITA: $8,672,334.47<br>LOCACIONES: $3,840,640.02<br>NOM: $5,721,527.27<br>Disponible : $14,336,643.78",
              "annotations[6].text": "Cuenta General",
              "annotations[7].text": "Semana : 37<br>Presupuesto Total : $135,097,911.00<br>7000: $12,505,084.51<br>3400: $11,942,261.04<br>1400: $11,356,099.68<br>3100: $11,309,129.89<br>1100: $10,065,000.08<br>1200: $8,640,279.09<br>Otros: $54,943,412.95<br>Disponible : $14,336,643.78",
              "title": "Presupuesto vs Gasto – Semana ≤ 37"
             }
            ],
            "label": "37",
            "method": "update"
           },
           {
            "args": [
             {
              "labels": [
               [
                "Gastado",
                "Disponible"
               ],
               [
                "DEVELOPMENT",
                "POST",
                "PREP",
                "SHOOT",
                "SOFT (EXCESO)",
                "WRAP",
                "Disponible"
               ],
               [
                "ANDA (EXCESO)",
                "ARTE",
                "BALU (EXCESO)",
                "DINAMITA",
                "LOCACIONES",
                "NOM",
                "Disponible"
               ],
               [
                "7000",
                "3400",
                "1400",
                "3100",
                "1100 (EXCESO)",
                "1200",
                "Otros",
                "Disponible"
               ]
              ],
              "marker.colors": [
               [
                "#636efa",
                "#ef553b"
               ],
               [
                "#636EFA",
                "#EF553B",
                "#00CC96",
                "#AB63FA",
                "#FFA15A",
                "#19D3F3",
                "#ef553b"
               ],
               [
                "#1F77B4",
                "#FF7F0E",
                "#2CA02C",
                "#D62728",
                "#9467BD",
                "#8C564B",
                "#ef553b"
               ],
               [
                "#636EFA",
                "#EF553B",
                "#00CC96",
                "#AB63FA",
                "#FFA15A",
                "#19D3F3",
                "#d3d3d3",
                "#ef553b"
               ]
              ],
              "values": [
               [
                121827304.64299998,
                13270606.357000023
               ],
               [
                10165540.08,
                9634762.45,
                8948445.606,
                91796689.647,
                983295,
                298571.86,
                13270606.357000023
               ],
               [
                5572146.578,
                4781005.733,
                7588948.22,
                8672334.47,
                4059281.946,
                5783827.27,
                13270606.357000023
               ],
               [
                12527084.506000001,
                12175943.965,
                11466952.025,
                11309129.89,
                10065000.08,
                8640279.09,
                55642915.08699999,
                13270606.357000023
               ]
              ]
             },
             {
              "annotations[0].text": "Global",
              "annotations[1].text": "Semana : 38<br>Presupuesto Total : $135,097,911.00<br>Gasto Total : $121,827,304.64<br>Disponible : $13,270,606.36",
              "annotations[2].text": "Etapas",
              "annotations[3].text": "Semana : 38<br>Presupuesto Total : $135,097,911.00<br>DEVELOPMENT: $10,165,540.08<br>POST: $9,634,762.45<br>PREP: $8,948,445.61<br>SHOOT: $91,796,689.65<br>SOFT: $983,295.00<br>WRAP: $298,571.86<br>Disponible : $13,270,606.36",
              "annotations[4].text": "Departamento",
              "annotations[5].text": "Semana : 38<br>Presupuesto Total : $135,097,911.00<br>ANDA: $5,572,146.58<br>ARTE: $4,781,005.73<br>BALU: $7,588,948.22<br>DINAMITA: $8,672,334.47<br>LOCACIONES: $4,059,281.95<br>NOM: $5,783,827.27<br>Disponible : $13,270,606.36",
              "annotations[6].text": "Cuenta General",
              "annotations[7].text": "Semana : 38<br>Presupuesto Total : $135,097,911.00<br>7000: $12,527,084.51<br>3400: $12,175,943.96<br>1400: $11,466,952.03<br>3100: $11,309,129.89<br>1100: $10,065,000.08<br>1200: $8,640,279.09<br>Otros: $55,642,915.09<br>Disponible : $13,270,606.36",
              "title": "Presupuesto vs Gasto – Semana ≤ 38"
             }
            ],
            "label": "38",
            "method": "update"
           },
           {
            "args": [
             {
              "labels": [
               [
                "Gastado",
                "Disponible"
               ],
               [
                "DEVELOPMENT",
                "POST",
                "PREP",
                "SHOOT",
                "SOFT (EXCESO)",
                "WRAP",
                "Disponible"
               ],
               [
                "ANDA (EXCESO)",
                "ARTE",
                "BALU (EXCESO)",
                "DINAMITA",
                "LOCACIONES",
                "NOM",
                "Disponible"
               ],
               [
                "1400 (EXCESO)",
                "7000",
                "3400",
                "3100 (EXCESO)",
                "1100 (EXCESO)",
                "1200",
                "Otros",
                "Disponible"
               ]
              ],
              "marker.colors": [
               [
                "#636efa",
                "#ef553b"
               ],
               [
                "#636EFA",
                "#EF553B",
                "#00CC96",
                "#AB63FA",
                "#FFA15A",
                "#19D3F3",
                "#ef553b"
               ],
               [
                "#1F77B4",
                "#FF7F0E",
                "#2CA02C",
                "#D62728",
                "#9467BD",
                "#8C564B",
                "#ef553b"
               ],
               [
                "#636EFA",
                "#EF553B",
                "#00CC96",
                "#AB63FA",
                "#FFA15A",
                "#19D3F3",
                "#d3d3d3",
                "#ef553b"
               ]
              ],
              "values": [
               [
                125371793.95299998,
                9726117.04700002
               ],
               [
                10165540.08,
                9634762.45,
                8964445.606,
                93867246.037,
                983295,
                1756504.78,
                9726117.04700002
               ],
               [
                5706588.498,
                4781005.733,
                7588948.22,
                8672334.47,
                4061437.116,
                6467972.04,
                9726117.04700002
               ],
               [
                12643852.025,
                12527084.506000001,
                12227099.135,
                11486361.870000001,
                10065000.08,
                8812029.09,
                57610367.24699999,
                9726117.04700002
               ]
              ]
             },
             {
              "annotations[0].text": "Global",
              "annotations[1].text": "Semana : 39<br>Presupuesto Total : $135,097,911.00<br>Gasto Total : $125,371,793.95<br>Disponible : $9,726,117.05",
              "annotations[2].text": "Etapas",
              "annotations[3].text": "Semana : 39<br>Presupuesto Total : $135,097,911.00<br>DEVELOPMENT: $10,165,540.08<br>POST: $9,634,762.45<br>PREP: $8,964,445.61<br>SHOOT: $93,867,246.04<br>SOFT: $983,295.00<br>WRAP: $1,756,504.78<br>Disponible : $9,726,117.05",
              "annotations[4].text": "Departamento",
              "annotations[5].text": "Semana : 39<br>Presupuesto Total : $135,097,911.00<br>ANDA: $5,706,588.50<br>ARTE: $4,781,005.73<br>BALU: $7,588,948.22<br>DINAMITA: $8,672,334.47<br>LOCACIONES: $4,061,437.12<br>NOM: $6,467,972.04<br>Disponible : $9,726,117.05",
              "annotations[6].text": "Cuenta General",
              "annotations[7].text": "Semana : 39<br>Presupuesto Total : $135,097,911.00<br>1400: $12,643,852.03<br>7000: $12,527,084.51<br>3400: $12,227,099.13<br>3100: $11,486,361.87<br>1100: $10,065,000.08<br>1200: $8,812,029.09<br>Otros: $57,610,367.25<br>Disponible : $9,726,117.05",
              "title": "Presupuesto vs Gasto – Semana ≤ 39"
             }
            ],
            "label": "39",
            "method": "update"
           },
           {
            "args": [
             {
              "labels": [
               [
                "Gastado",
                "Disponible"
               ],
               [
                "DEVELOPMENT",
                "POST",
                "PREP",
                "SHOOT",
                "SOFT (EXCESO)",
                "WRAP",
                "Disponible"
               ],
               [
                "ANDA (EXCESO)",
                "ARTE",
                "BALU (EXCESO)",
                "DINAMITA",
                "LOCACIONES",
                "NOM",
                "Disponible"
               ],
               [
                "1400 (EXCESO)",
                "7000",
                "3400",
                "3100 (EXCESO)",
                "1100 (EXCESO)",
                "1200",
                "Otros",
                "Disponible"
               ]
              ],
              "marker.colors": [
               [
                "#636efa",
                "#ef553b"
               ],
               [
                "#636EFA",
                "#EF553B",
                "#00CC96",
                "#AB63FA",
                "#FFA15A",
                "#19D3F3",
                "#ef553b"
               ],
               [
                "#1F77B4",
                "#FF7F0E",
                "#2CA02C",
                "#D62728",
                "#9467BD",
                "#8C564B",
                "#ef553b"
               ],
               [
                "#636EFA",
                "#EF553B",
                "#00CC96",
                "#AB63FA",
                "#FFA15A",
                "#19D3F3",
                "#d3d3d3",
                "#ef553b"
               ]
              ],
              "values": [
               [
                126525043.95299998,
                8572867.04700002
               ],
               [
                10165540.08,
                9634762.45,
                8998445.606,
                94954496.037,
                983295,
                1788504.78,
                8572867.04700002
               ],
               [
                5706588.498,
                4817005.733,
                7588948.22,
                8672334.47,
                4201437.116,
                6475472.04,
                8572867.04700002
               ],
               [
                13583602.025,
                12527084.506000001,
                12367099.135,
                11486361.870000001,
                10065000.08,
                8812029.09,
                57683867.24699999,
                8572867.04700002
               ]
              ]
             },
             {
              "annotations[0].text": "Global",
              "annotations[1].text": "Semana : 40<br>Presupuesto Total : $135,097,911.00<br>Gasto Total : $126,525,043.95<br>Disponible : $8,572,867.05",
              "annotations[2].text": "Etapas",
              "annotations[3].text": "Semana : 40<br>Presupuesto Total : $135,097,911.00<br>DEVELOPMENT: $10,165,540.08<br>POST: $9,634,762.45<br>PREP: $8,998,445.61<br>SHOOT: $94,954,496.04<br>SOFT: $983,295.00<br>WRAP: $1,788,504.78<br>Disponible : $8,572,867.05",
              "annotations[4].text": "Departamento",
              "annotations[5].text": "Semana : 40<br>Presupuesto Total : $135,097,911.00<br>ANDA: $5,706,588.50<br>ARTE: $4,817,005.73<br>BALU: $7,588,948.22<br>DINAMITA: $8,672,334.47<br>LOCACIONES: $4,201,437.12<br>NOM: $6,475,472.04<br>Disponible : $8,572,867.05",
              "annotations[6].text": "Cuenta General",
              "annotations[7].text": "Semana : 40<br>Presupuesto Total : $135,097,911.00<br>1400: $13,583,602.03<br>7000: $12,527,084.51<br>3400: $12,367,099.13<br>3100: $11,486,361.87<br>1100: $10,065,000.08<br>1200: $8,812,029.09<br>Otros: $57,683,867.25<br>Disponible : $8,572,867.05",
              "title": "Presupuesto vs Gasto – Semana ≤ 40"
             }
            ],
            "label": "40",
            "method": "update"
           },
           {
            "args": [
             {
              "labels": [
               [
                "Gastado",
                "Disponible"
               ],
               [
                "DEVELOPMENT",
                "POST",
                "PREP",
                "SHOOT",
                "SOFT (EXCESO)",
                "WRAP",
                "Disponible"
               ],
               [
                "ANDA (EXCESO)",
                "ARTE",
                "BALU (EXCESO)",
                "DINAMITA",
                "LOCACIONES",
                "NOM",
                "Disponible"
               ],
               [
                "1400 (EXCESO)",
                "7000",
                "3400",
                "3100 (EXCESO)",
                "1100 (EXCESO)",
                "1200",
                "Otros",
                "Disponible"
               ]
              ],
              "marker.colors": [
               [
                "#636efa",
                "#ef553b"
               ],
               [
                "#636EFA",
                "#EF553B",
                "#00CC96",
                "#AB63FA",
                "#FFA15A",
                "#19D3F3",
                "#ef553b"
               ],
               [
                "#1F77B4",
                "#FF7F0E",
                "#2CA02C",
                "#D62728",
                "#9467BD",
                "#8C564B",
                "#ef553b"
               ],
               [
                "#636EFA",
                "#EF553B",
                "#00CC96",
                "#AB63FA",
                "#FFA15A",
                "#19D3F3",
                "#d3d3d3",
                "#ef553b"
               ]
              ],
              "values": [
               [
                128440169.963,
                6657741.0370000005
               ],
               [
                10165540.08,
                9656762.45,
                9058826.556,
                96153165.397,
                983295,
                2422580.48,
                6657741.0370000005
               ],
               [
                5706588.498,
                4817005.733,
                7609448.22,
                8672334.47,
                4261437.116,
                6819550.69,
                6657741.0370000005
               ],
               [
                13864068.025,
                13124561.866,
                12701169.135,
                11486361.870000001,
                10065000.08,
                9214029.09,
                57984979.89699998,
                6657741.0370000005
               ]
              ]
             },
             {
              "annotations[0].text": "Global",
              "annotations[1].text": "Semana : 41<br>Presupuesto Total : $135,097,911.00<br>Gasto Total : $128,440,169.96<br>Disponible : $6,657,741.04",
              "annotations[2].text": "Etapas",
              "annotations[3].text": "Semana : 41<br>Presupuesto Total : $135,097,911.00<br>DEVELOPMENT: $10,165,540.08<br>POST: $9,656,762.45<br>PREP: $9,058,826.56<br>SHOOT: $96,153,165.40<br>SOFT: $983,295.00<br>WRAP: $2,422,580.48<br>Disponible : $6,657,741.04",
              "annotations[4].text": "Departamento",
              "annotations[5].text": "Semana : 41<br>Presupuesto Total : $135,097,911.00<br>ANDA: $5,706,588.50<br>ARTE: $4,817,005.73<br>BALU: $7,609,448.22<br>DINAMITA: $8,672,334.47<br>LOCACIONES: $4,261,437.12<br>NOM: $6,819,550.69<br>Disponible : $6,657,741.04",
              "annotations[6].text": "Cuenta General",
              "annotations[7].text": "Semana : 41<br>Presupuesto Total : $135,097,911.00<br>1400: $13,864,068.03<br>7000: $13,124,561.87<br>3400: $12,701,169.13<br>3100: $11,486,361.87<br>1100: $10,065,000.08<br>1200: $9,214,029.09<br>Otros: $57,984,979.90<br>Disponible : $6,657,741.04",
              "title": "Presupuesto vs Gasto – Semana ≤ 41"
             }
            ],
            "label": "41",
            "method": "update"
           },
           {
            "args": [
             {
              "labels": [
               [
                "Gastado",
                "Disponible"
               ],
               [
                "DEVELOPMENT",
                "POST",
                "PREP",
                "SHOOT",
                "SOFT (EXCESO)",
                "WRAP",
                "Disponible"
               ],
               [
                "ANDA (EXCESO)",
                "ARTE",
                "BALU (EXCESO)",
                "DINAMITA",
                "LOCACIONES",
                "NOM",
                "Disponible"
               ],
               [
                "1400 (EXCESO)",
                "7000",
                "3400",
                "3100 (EXCESO)",
                "1100 (EXCESO)",
                "1200",
                "Otros",
                "Disponible"
               ]
              ],
              "marker.colors": [
               [
                "#636efa",
                "#ef553b"
               ],
               [
                "#636EFA",
                "#EF553B",
                "#00CC96",
                "#AB63FA",
                "#FFA15A",
                "#19D3F3",
                "#ef553b"
               ],
               [
                "#1F77B4",
                "#FF7F0E",
                "#2CA02C",
                "#D62728",
                "#9467BD",
                "#8C564B",
                "#ef553b"
               ],
               [
                "#636EFA",
                "#EF553B",
                "#00CC96",
                "#AB63FA",
                "#FFA15A",
                "#19D3F3",
                "#d3d3d3",
                "#ef553b"
               ]
              ],
              "values": [
               [
                128806535.403,
                6291375.597000003
               ],
               [
                10165540.08,
                9985762.45,
                9063159.886,
                96179040.107,
                983295,
                2429737.88,
                6291375.597000003
               ],
               [
                5706588.498,
                4817005.733,
                7609448.22,
                8672334.47,
                4270057.826,
                6840662.09,
                6291375.597000003
               ],
               [
                13871522.025,
                13124561.866,
                12709789.845,
                11490695.2,
                10065000.08,
                9214029.09,
                58330937.29699998,
                6291375.597000003
               ]
              ]
             },
             {
              "annotations[0].text": "Global",
              "annotations[1].text": "Semana : 42<br>Presupuesto Total : $135,097,911.00<br>Gasto Total : $128,806,535.40<br>Disponible : $6,291,375.60",
              "annotations[2].text": "Etapas",
              "annotations[3].text": "Semana : 42<br>Presupuesto Total : $135,097,911.00<br>DEVELOPMENT: $10,165,540.08<br>POST: $9,985,762.45<br>PREP: $9,063,159.89<br>SHOOT: $96,179,040.11<br>SOFT: $983,295.00<br>WRAP: $2,429,737.88<br>Disponible : $6,291,375.60",
              "annotations[4].text": "Departamento",
              "annotations[5].text": "Semana : 42<br>Presupuesto Total : $135,097,911.00<br>ANDA: $5,706,588.50<br>ARTE: $4,817,005.73<br>BALU: $7,609,448.22<br>DINAMITA: $8,672,334.47<br>LOCACIONES: $4,270,057.83<br>NOM: $6,840,662.09<br>Disponible : $6,291,375.60",
              "annotations[6].text": "Cuenta General",
              "annotations[7].text": "Semana : 42<br>Presupuesto Total : $135,097,911.00<br>1400: $13,871,522.03<br>7000: $13,124,561.87<br>3400: $12,709,789.85<br>3100: $11,490,695.20<br>1100: $10,065,000.08<br>1200: $9,214,029.09<br>Otros: $58,330,937.30<br>Disponible : $6,291,375.60",
              "title": "Presupuesto vs Gasto – Semana ≤ 42"
             }
            ],
            "label": "42",
            "method": "update"
           },
           {
            "args": [
             {
              "labels": [
               [
                "Gastado",
                "Disponible"
               ],
               [
                "DEVELOPMENT",
                "POST",
                "PREP",
                "SHOOT",
                "SOFT (EXCESO)",
                "WRAP",
                "Disponible"
               ],
               [
                "ANDA (EXCESO)",
                "ARTE",
                "BALU (EXCESO)",
                "DINAMITA",
                "LOCACIONES",
                "NOM",
                "Disponible"
               ],
               [
                "1400 (EXCESO)",
                "7000",
                "3400",
                "3100 (EXCESO)",
                "1100 (EXCESO)",
                "1200",
                "Otros",
                "Disponible"
               ]
              ],
              "marker.colors": [
               [
                "#636efa",
                "#ef553b"
               ],
               [
                "#636EFA",
                "#EF553B",
                "#00CC96",
                "#AB63FA",
                "#FFA15A",
                "#19D3F3",
                "#ef553b"
               ],
               [
                "#1F77B4",
                "#FF7F0E",
                "#2CA02C",
                "#D62728",
                "#9467BD",
                "#8C564B",
                "#ef553b"
               ],
               [
                "#636EFA",
                "#EF553B",
                "#00CC96",
                "#AB63FA",
                "#FFA15A",
                "#19D3F3",
                "#d3d3d3",
                "#ef553b"
               ]
              ],
              "values": [
               [
                129014716.403,
                6083194.597000003
               ],
               [
                10165540.08,
                9985762.45,
                9068159.886,
                96382221.107,
                983295,
                2429737.88,
                6083194.597000003
               ],
               [
                5706588.498,
                4817005.733,
                7609448.22,
                8672334.47,
                4270057.826,
                6845662.09,
                6083194.597000003
               ],
               [
                13899922.025,
                13124561.866,
                12709789.845,
                11495695.2,
                10065000.08,
                9214029.09,
                58505718.29699998,
                6083194.597000003
               ]
              ]
             },
             {
              "annotations[0].text": "Global",
              "annotations[1].text": "Semana : 43<br>Presupuesto Total : $135,097,911.00<br>Gasto Total : $129,014,716.40<br>Disponible : $6,083,194.60",
              "annotations[2].text": "Etapas",
              "annotations[3].text": "Semana : 43<br>Presupuesto Total : $135,097,911.00<br>DEVELOPMENT: $10,165,540.08<br>POST: $9,985,762.45<br>PREP: $9,068,159.89<br>SHOOT: $96,382,221.11<br>SOFT: $983,295.00<br>WRAP: $2,429,737.88<br>Disponible : $6,083,194.60",
              "annotations[4].text": "Departamento",
              "annotations[5].text": "Semana : 43<br>Presupuesto Total : $135,097,911.00<br>ANDA: $5,706,588.50<br>ARTE: $4,817,005.73<br>BALU: $7,609,448.22<br>DINAMITA: $8,672,334.47<br>LOCACIONES: $4,270,057.83<br>NOM: $6,845,662.09<br>Disponible : $6,083,194.60",
              "annotations[6].text": "Cuenta General",
              "annotations[7].text": "Semana : 43<br>Presupuesto Total : $135,097,911.00<br>1400: $13,899,922.03<br>7000: $13,124,561.87<br>3400: $12,709,789.85<br>3100: $11,495,695.20<br>1100: $10,065,000.08<br>1200: $9,214,029.09<br>Otros: $58,505,718.30<br>Disponible : $6,083,194.60",
              "title": "Presupuesto vs Gasto – Semana ≤ 43"
             }
            ],
            "label": "43",
            "method": "update"
           },
           {
            "args": [
             {
              "labels": [
               [
                "Gastado",
                "Disponible"
               ],
               [
                "DEVELOPMENT",
                "POST",
                "PREP",
                "SHOOT",
                "SOFT (EXCESO)",
                "WRAP",
                "Disponible"
               ],
               [
                "ANDA (EXCESO)",
                "ARTE",
                "BALU (EXCESO)",
                "DINAMITA",
                "LOCACIONES",
                "NOM",
                "Disponible"
               ],
               [
                "1400 (EXCESO)",
                "7000",
                "3400",
                "3100 (EXCESO)",
                "1100 (EXCESO)",
                "1200",
                "Otros",
                "Disponible"
               ]
              ],
              "marker.colors": [
               [
                "#636efa",
                "#ef553b"
               ],
               [
                "#636EFA",
                "#EF553B",
                "#00CC96",
                "#AB63FA",
                "#FFA15A",
                "#19D3F3",
                "#ef553b"
               ],
               [
                "#1F77B4",
                "#FF7F0E",
                "#2CA02C",
                "#D62728",
                "#9467BD",
                "#8C564B",
                "#ef553b"
               ],
               [
                "#636EFA",
                "#EF553B",
                "#00CC96",
                "#AB63FA",
                "#FFA15A",
                "#19D3F3",
                "#d3d3d3",
                "#ef553b"
               ]
              ],
              "values": [
               [
                129270029.623,
                5827881.377000004
               ],
               [
                10165540.08,
                9985762.45,
                9068159.886,
                96537534.327,
                983295,
                2529737.88,
                5827881.377000004
               ],
               [
                5706588.498,
                4817005.733,
                7756761.44,
                8672334.47,
                4270057.826,
                6853662.09,
                5827881.377000004
               ],
               [
                13899922.025,
                13124561.866,
                12709789.845,
                11595695.2,
                10065000.08,
                9361342.31,
                58513718.29699998,
                5827881.377000004
               ]
              ]
             },
             {
              "annotations[0].text": "Global",
              "annotations[1].text": "Semana : 44<br>Presupuesto Total : $135,097,911.00<br>Gasto Total : $129,270,029.62<br>Disponible : $5,827,881.38",
              "annotations[2].text": "Etapas",
              "annotations[3].text": "Semana : 44<br>Presupuesto Total : $135,097,911.00<br>DEVELOPMENT: $10,165,540.08<br>POST: $9,985,762.45<br>PREP: $9,068,159.89<br>SHOOT: $96,537,534.33<br>SOFT: $983,295.00<br>WRAP: $2,529,737.88<br>Disponible : $5,827,881.38",
              "annotations[4].text": "Departamento",
              "annotations[5].text": "Semana : 44<br>Presupuesto Total : $135,097,911.00<br>ANDA: $5,706,588.50<br>ARTE: $4,817,005.73<br>BALU: $7,756,761.44<br>DINAMITA: $8,672,334.47<br>LOCACIONES: $4,270,057.83<br>NOM: $6,853,662.09<br>Disponible : $5,827,881.38",
              "annotations[6].text": "Cuenta General",
              "annotations[7].text": "Semana : 44<br>Presupuesto Total : $135,097,911.00<br>1400: $13,899,922.03<br>7000: $13,124,561.87<br>3400: $12,709,789.85<br>3100: $11,595,695.20<br>1100: $10,065,000.08<br>1200: $9,361,342.31<br>Otros: $58,513,718.30<br>Disponible : $5,827,881.38",
              "title": "Presupuesto vs Gasto – Semana ≤ 44"
             }
            ],
            "label": "44",
            "method": "update"
           },
           {
            "args": [
             {
              "labels": [
               [
                "Gastado",
                "Disponible"
               ],
               [
                "DEVELOPMENT",
                "POST",
                "PREP",
                "SHOOT",
                "SOFT (EXCESO)",
                "WRAP",
                "Disponible"
               ],
               [
                "ANDA (EXCESO)",
                "ARTE",
                "BALU (EXCESO)",
                "DINAMITA",
                "LOCACIONES",
                "NOM",
                "Disponible"
               ],
               [
                "1400 (EXCESO)",
                "7000",
                "3400",
                "3100 (EXCESO)",
                "1100 (EXCESO)",
                "1200",
                "Otros",
                "Disponible"
               ]
              ],
              "marker.colors": [
               [
                "#636efa",
                "#ef553b"
               ],
               [
                "#636EFA",
                "#EF553B",
                "#00CC96",
                "#AB63FA",
                "#FFA15A",
                "#19D3F3",
                "#ef553b"
               ],
               [
                "#1F77B4",
                "#FF7F0E",
                "#2CA02C",
                "#D62728",
                "#9467BD",
                "#8C564B",
                "#ef553b"
               ],
               [
                "#636EFA",
                "#EF553B",
                "#00CC96",
                "#AB63FA",
                "#FFA15A",
                "#19D3F3",
                "#d3d3d3",
                "#ef553b"
               ]
              ],
              "values": [
               [
                129274762.623,
                5823148.377000004
               ],
               [
                10165540.08,
                9985762.45,
                9068159.886,
                96542267.327,
                983295,
                2529737.88,
                5823148.377000004
               ],
               [
                5706588.498,
                4817005.733,
                7756761.44,
                8672334.47,
                4270057.826,
                6853662.09,
                5823148.377000004
               ],
               [
                13899922.025,
                13129294.866,
                12709789.845,
                11595695.2,
                10065000.08,
                9361342.31,
                58513718.29699998,
                5823148.377000004
               ]
              ]
             },
             {
              "annotations[0].text": "Global",
              "annotations[1].text": "Semana : 45<br>Presupuesto Total : $135,097,911.00<br>Gasto Total : $129,274,762.62<br>Disponible : $5,823,148.38",
              "annotations[2].text": "Etapas",
              "annotations[3].text": "Semana : 45<br>Presupuesto Total : $135,097,911.00<br>DEVELOPMENT: $10,165,540.08<br>POST: $9,985,762.45<br>PREP: $9,068,159.89<br>SHOOT: $96,542,267.33<br>SOFT: $983,295.00<br>WRAP: $2,529,737.88<br>Disponible : $5,823,148.38",
              "annotations[4].text": "Departamento",
              "annotations[5].text": "Semana : 45<br>Presupuesto Total : $135,097,911.00<br>ANDA: $5,706,588.50<br>ARTE: $4,817,005.73<br>BALU: $7,756,761.44<br>DINAMITA: $8,672,334.47<br>LOCACIONES: $4,270,057.83<br>NOM: $6,853,662.09<br>Disponible : $5,823,148.38",
              "annotations[6].text": "Cuenta General",
              "annotations[7].text": "Semana : 45<br>Presupuesto Total : $135,097,911.00<br>1400: $13,899,922.03<br>7000: $13,129,294.87<br>3400: $12,709,789.85<br>3100: $11,595,695.20<br>1100: $10,065,000.08<br>1200: $9,361,342.31<br>Otros: $58,513,718.30<br>Disponible : $5,823,148.38",
              "title": "Presupuesto vs Gasto – Semana ≤ 45"
             }
            ],
            "label": "45",
            "method": "update"
           },
           {
            "args": [
             {
              "labels": [
               [
                "Gastado",
                "Disponible"
               ],
               [
                "DEVELOPMENT",
                "POST",
                "PREP",
                "SHOOT",
                "SOFT (EXCESO)",
                "WRAP",
                "Disponible"
               ],
               [
                "ANDA (EXCESO)",
                "ARTE",
                "BALU (EXCESO)",
                "DINAMITA",
                "LOCACIONES",
                "NOM",
                "Disponible"
               ],
               [
                "1400 (EXCESO)",
                "7000",
                "3400",
                "3100 (EXCESO)",
                "1100 (EXCESO)",
                "1200",
                "Otros",
                "Disponible"
               ]
              ],
              "marker.colors": [
               [
                "#636efa",
                "#ef553b"
               ],
               [
                "#636EFA",
                "#EF553B",
                "#00CC96",
                "#AB63FA",
                "#FFA15A",
                "#19D3F3",
                "#ef553b"
               ],
               [
                "#1F77B4",
                "#FF7F0E",
                "#2CA02C",
                "#D62728",
                "#9467BD",
                "#8C564B",
                "#ef553b"
               ],
               [
                "#636EFA",
                "#EF553B",
                "#00CC96",
                "#AB63FA",
                "#FFA15A",
                "#19D3F3",
                "#d3d3d3",
                "#ef553b"
               ]
              ],
              "values": [
               [
                129274762.623,
                5823148.377000004
               ],
               [
                10165540.08,
                9985762.45,
                9068159.886,
                96542267.327,
                983295,
                2529737.88,
                5823148.377000004
               ],
               [
                5706588.498,
                4817005.733,
                7756761.44,
                8672334.47,
                4270057.826,
                6853662.09,
                5823148.377000004
               ],
               [
                13899922.025,
                13129294.866,
                12709789.845,
                11595695.2,
                10065000.08,
                9361342.31,
                58513718.29699998,
                5823148.377000004
               ]
              ]
             },
             {
              "annotations[0].text": "Global",
              "annotations[1].text": "Semana : 46<br>Presupuesto Total : $135,097,911.00<br>Gasto Total : $129,274,762.62<br>Disponible : $5,823,148.38",
              "annotations[2].text": "Etapas",
              "annotations[3].text": "Semana : 46<br>Presupuesto Total : $135,097,911.00<br>DEVELOPMENT: $10,165,540.08<br>POST: $9,985,762.45<br>PREP: $9,068,159.89<br>SHOOT: $96,542,267.33<br>SOFT: $983,295.00<br>WRAP: $2,529,737.88<br>Disponible : $5,823,148.38",
              "annotations[4].text": "Departamento",
              "annotations[5].text": "Semana : 46<br>Presupuesto Total : $135,097,911.00<br>ANDA: $5,706,588.50<br>ARTE: $4,817,005.73<br>BALU: $7,756,761.44<br>DINAMITA: $8,672,334.47<br>LOCACIONES: $4,270,057.83<br>NOM: $6,853,662.09<br>Disponible : $5,823,148.38",
              "annotations[6].text": "Cuenta General",
              "annotations[7].text": "Semana : 46<br>Presupuesto Total : $135,097,911.00<br>1400: $13,899,922.03<br>7000: $13,129,294.87<br>3400: $12,709,789.85<br>3100: $11,595,695.20<br>1100: $10,065,000.08<br>1200: $9,361,342.31<br>Otros: $58,513,718.30<br>Disponible : $5,823,148.38",
              "title": "Presupuesto vs Gasto – Semana ≤ 46"
             }
            ],
            "label": "46",
            "method": "update"
           },
           {
            "args": [
             {
              "labels": [
               [
                "Gastado",
                "Disponible"
               ],
               [
                "DEVELOPMENT",
                "POST",
                "PREP",
                "SHOOT",
                "SOFT (EXCESO)",
                "WRAP",
                "Disponible"
               ],
               [
                "ANDA (EXCESO)",
                "ARTE",
                "BALU (EXCESO)",
                "DINAMITA",
                "LOCACIONES",
                "NOM",
                "Disponible"
               ],
               [
                "1400 (EXCESO)",
                "7000",
                "3400",
                "3100 (EXCESO)",
                "1100 (EXCESO)",
                "1200",
                "Otros",
                "Disponible"
               ]
              ],
              "marker.colors": [
               [
                "#636efa",
                "#ef553b"
               ],
               [
                "#636EFA",
                "#EF553B",
                "#00CC96",
                "#AB63FA",
                "#FFA15A",
                "#19D3F3",
                "#ef553b"
               ],
               [
                "#1F77B4",
                "#FF7F0E",
                "#2CA02C",
                "#D62728",
                "#9467BD",
                "#8C564B",
                "#ef553b"
               ],
               [
                "#636EFA",
                "#EF553B",
                "#00CC96",
                "#AB63FA",
                "#FFA15A",
                "#19D3F3",
                "#d3d3d3",
                "#ef553b"
               ]
              ],
              "values": [
               [
                130068962.623,
                5028948.377000004
               ],
               [
                10165540.08,
                10724962.45,
                9068159.886,
                96597267.327,
                983295,
                2529737.88,
                5028948.377000004
               ],
               [
                5706588.498,
                4817005.733,
                7756761.44,
                8672334.47,
                4270057.826,
                6853662.09,
                5028948.377000004
               ],
               [
                13899922.025,
                13129294.866,
                12709789.845,
                11595695.2,
                10065000.08,
                9361342.31,
                59307918.29699998,
                5028948.377000004
               ]
              ]
             },
             {
              "annotations[0].text": "Global",
              "annotations[1].text": "Semana : 47<br>Presupuesto Total : $135,097,911.00<br>Gasto Total : $130,068,962.62<br>Disponible : $5,028,948.38",
              "annotations[2].text": "Etapas",
              "annotations[3].text": "Semana : 47<br>Presupuesto Total : $135,097,911.00<br>DEVELOPMENT: $10,165,540.08<br>POST: $10,724,962.45<br>PREP: $9,068,159.89<br>SHOOT: $96,597,267.33<br>SOFT: $983,295.00<br>WRAP: $2,529,737.88<br>Disponible : $5,028,948.38",
              "annotations[4].text": "Departamento",
              "annotations[5].text": "Semana : 47<br>Presupuesto Total : $135,097,911.00<br>ANDA: $5,706,588.50<br>ARTE: $4,817,005.73<br>BALU: $7,756,761.44<br>DINAMITA: $8,672,334.47<br>LOCACIONES: $4,270,057.83<br>NOM: $6,853,662.09<br>Disponible : $5,028,948.38",
              "annotations[6].text": "Cuenta General",
              "annotations[7].text": "Semana : 47<br>Presupuesto Total : $135,097,911.00<br>1400: $13,899,922.03<br>7000: $13,129,294.87<br>3400: $12,709,789.85<br>3100: $11,595,695.20<br>1100: $10,065,000.08<br>1200: $9,361,342.31<br>Otros: $59,307,918.30<br>Disponible : $5,028,948.38",
              "title": "Presupuesto vs Gasto – Semana ≤ 47"
             }
            ],
            "label": "47",
            "method": "update"
           },
           {
            "args": [
             {
              "labels": [
               [
                "Gastado",
                "Disponible"
               ],
               [
                "DEVELOPMENT",
                "POST",
                "PREP",
                "SHOOT",
                "SOFT (EXCESO)",
                "WRAP",
                "Disponible"
               ],
               [
                "ANDA (EXCESO)",
                "ARTE",
                "BALU (EXCESO)",
                "DINAMITA",
                "LOCACIONES",
                "NOM",
                "Disponible"
               ],
               [
                "1400 (EXCESO)",
                "7000",
                "3400",
                "3100 (EXCESO)",
                "1100 (EXCESO)",
                "1200",
                "Otros",
                "Disponible"
               ]
              ],
              "marker.colors": [
               [
                "#636efa",
                "#ef553b"
               ],
               [
                "#636EFA",
                "#EF553B",
                "#00CC96",
                "#AB63FA",
                "#FFA15A",
                "#19D3F3",
                "#ef553b"
               ],
               [
                "#1F77B4",
                "#FF7F0E",
                "#2CA02C",
                "#D62728",
                "#9467BD",
                "#8C564B",
                "#ef553b"
               ],
               [
                "#636EFA",
                "#EF553B",
                "#00CC96",
                "#AB63FA",
                "#FFA15A",
                "#19D3F3",
                "#d3d3d3",
                "#ef553b"
               ]
              ],
              "values": [
               [
                130470229.64199999,
                4627681.35800001
               ],
               [
                10165540.08,
                10747532.45,
                9068159.886,
                96975964.346,
                983295,
                2529737.88,
                4627681.35800001
               ],
               [
                5706588.498,
                4817005.733,
                7756761.44,
                8672334.47,
                4270057.826,
                6853662.09,
                4627681.35800001
               ],
               [
                13899922.025,
                13129294.866,
                12709789.845,
                11595695.2,
                10065000.08,
                9361342.31,
                59709185.315999985,
                4627681.35800001
               ]
              ]
             },
             {
              "annotations[0].text": "Global",
              "annotations[1].text": "Semana : 48<br>Presupuesto Total : $135,097,911.00<br>Gasto Total : $130,470,229.64<br>Disponible : $4,627,681.36",
              "annotations[2].text": "Etapas",
              "annotations[3].text": "Semana : 48<br>Presupuesto Total : $135,097,911.00<br>DEVELOPMENT: $10,165,540.08<br>POST: $10,747,532.45<br>PREP: $9,068,159.89<br>SHOOT: $96,975,964.35<br>SOFT: $983,295.00<br>WRAP: $2,529,737.88<br>Disponible : $4,627,681.36",
              "annotations[4].text": "Departamento",
              "annotations[5].text": "Semana : 48<br>Presupuesto Total : $135,097,911.00<br>ANDA: $5,706,588.50<br>ARTE: $4,817,005.73<br>BALU: $7,756,761.44<br>DINAMITA: $8,672,334.47<br>LOCACIONES: $4,270,057.83<br>NOM: $6,853,662.09<br>Disponible : $4,627,681.36",
              "annotations[6].text": "Cuenta General",
              "annotations[7].text": "Semana : 48<br>Presupuesto Total : $135,097,911.00<br>1400: $13,899,922.03<br>7000: $13,129,294.87<br>3400: $12,709,789.85<br>3100: $11,595,695.20<br>1100: $10,065,000.08<br>1200: $9,361,342.31<br>Otros: $59,709,185.32<br>Disponible : $4,627,681.36",
              "title": "Presupuesto vs Gasto – Semana ≤ 48"
             }
            ],
            "label": "48",
            "method": "update"
           },
           {
            "args": [
             {
              "labels": [
               [
                "Gastado",
                "Disponible"
               ],
               [
                "DEVELOPMENT",
                "POST",
                "PREP",
                "SHOOT",
                "SOFT (EXCESO)",
                "WRAP",
                "Disponible"
               ],
               [
                "ANDA (EXCESO)",
                "ARTE",
                "BALU (EXCESO)",
                "DINAMITA",
                "LOCACIONES",
                "NOM",
                "Disponible"
               ],
               [
                "1400 (EXCESO)",
                "7000",
                "3400",
                "3100 (EXCESO)",
                "1100 (EXCESO)",
                "1200",
                "Otros",
                "Disponible"
               ]
              ],
              "marker.colors": [
               [
                "#636efa",
                "#ef553b"
               ],
               [
                "#636EFA",
                "#EF553B",
                "#00CC96",
                "#AB63FA",
                "#FFA15A",
                "#19D3F3",
                "#ef553b"
               ],
               [
                "#1F77B4",
                "#FF7F0E",
                "#2CA02C",
                "#D62728",
                "#9467BD",
                "#8C564B",
                "#ef553b"
               ],
               [
                "#636EFA",
                "#EF553B",
                "#00CC96",
                "#AB63FA",
                "#FFA15A",
                "#19D3F3",
                "#d3d3d3",
                "#ef553b"
               ]
              ],
              "values": [
               [
                130484479.64199999,
                4613431.35800001
               ],
               [
                10165540.08,
                10747532.45,
                9068159.886,
                96990214.346,
                983295,
                2529737.88,
                4613431.35800001
               ],
               [
                5706588.498,
                4817005.733,
                7756761.44,
                8672334.47,
                4270057.826,
                6853662.09,
                4613431.35800001
               ],
               [
                13899922.025,
                13129294.866,
                12724039.845,
                11595695.2,
                10065000.08,
                9361342.31,
                59709185.315999985,
                4613431.35800001
               ]
              ]
             },
             {
              "annotations[0].text": "Global",
              "annotations[1].text": "Semana : 49<br>Presupuesto Total : $135,097,911.00<br>Gasto Total : $130,484,479.64<br>Disponible : $4,613,431.36",
              "annotations[2].text": "Etapas",
              "annotations[3].text": "Semana : 49<br>Presupuesto Total : $135,097,911.00<br>DEVELOPMENT: $10,165,540.08<br>POST: $10,747,532.45<br>PREP: $9,068,159.89<br>SHOOT: $96,990,214.35<br>SOFT: $983,295.00<br>WRAP: $2,529,737.88<br>Disponible : $4,613,431.36",
              "annotations[4].text": "Departamento",
              "annotations[5].text": "Semana : 49<br>Presupuesto Total : $135,097,911.00<br>ANDA: $5,706,588.50<br>ARTE: $4,817,005.73<br>BALU: $7,756,761.44<br>DINAMITA: $8,672,334.47<br>LOCACIONES: $4,270,057.83<br>NOM: $6,853,662.09<br>Disponible : $4,613,431.36",
              "annotations[6].text": "Cuenta General",
              "annotations[7].text": "Semana : 49<br>Presupuesto Total : $135,097,911.00<br>1400: $13,899,922.03<br>7000: $13,129,294.87<br>3400: $12,724,039.85<br>3100: $11,595,695.20<br>1100: $10,065,000.08<br>1200: $9,361,342.31<br>Otros: $59,709,185.32<br>Disponible : $4,613,431.36",
              "title": "Presupuesto vs Gasto – Semana ≤ 49"
             }
            ],
            "label": "49",
            "method": "update"
           },
           {
            "args": [
             {
              "labels": [
               [
                "Gastado",
                "Disponible"
               ],
               [
                "DEVELOPMENT",
                "POST",
                "PREP",
                "SHOOT",
                "SOFT (EXCESO)",
                "WRAP",
                "Disponible"
               ],
               [
                "ANDA (EXCESO)",
                "ARTE",
                "BALU (EXCESO)",
                "DINAMITA",
                "LOCACIONES",
                "NOM",
                "Disponible"
               ],
               [
                "1400 (EXCESO)",
                "7000",
                "3400",
                "3100 (EXCESO)",
                "1100 (EXCESO)",
                "1200",
                "Otros",
                "Disponible"
               ]
              ],
              "marker.colors": [
               [
                "#636efa",
                "#ef553b"
               ],
               [
                "#636EFA",
                "#EF553B",
                "#00CC96",
                "#AB63FA",
                "#FFA15A",
                "#19D3F3",
                "#ef553b"
               ],
               [
                "#1F77B4",
                "#FF7F0E",
                "#2CA02C",
                "#D62728",
                "#9467BD",
                "#8C564B",
                "#ef553b"
               ],
               [
                "#636EFA",
                "#EF553B",
                "#00CC96",
                "#AB63FA",
                "#FFA15A",
                "#19D3F3",
                "#d3d3d3",
                "#ef553b"
               ]
              ],
              "values": [
               [
                130484479.64199999,
                4613431.35800001
               ],
               [
                10165540.08,
                10747532.45,
                9068159.886,
                96990214.346,
                983295,
                2529737.88,
                4613431.35800001
               ],
               [
                5706588.498,
                4817005.733,
                7756761.44,
                8672334.47,
                4270057.826,
                6853662.09,
                4613431.35800001
               ],
               [
                13899922.025,
                13129294.866,
                12724039.845,
                11595695.2,
                10065000.08,
                9361342.31,
                59709185.315999985,
                4613431.35800001
               ]
              ]
             },
             {
              "annotations[0].text": "Global",
              "annotations[1].text": "Semana : 50<br>Presupuesto Total : $135,097,911.00<br>Gasto Total : $130,484,479.64<br>Disponible : $4,613,431.36",
              "annotations[2].text": "Etapas",
              "annotations[3].text": "Semana : 50<br>Presupuesto Total : $135,097,911.00<br>DEVELOPMENT: $10,165,540.08<br>POST: $10,747,532.45<br>PREP: $9,068,159.89<br>SHOOT: $96,990,214.35<br>SOFT: $983,295.00<br>WRAP: $2,529,737.88<br>Disponible : $4,613,431.36",
              "annotations[4].text": "Departamento",
              "annotations[5].text": "Semana : 50<br>Presupuesto Total : $135,097,911.00<br>ANDA: $5,706,588.50<br>ARTE: $4,817,005.73<br>BALU: $7,756,761.44<br>DINAMITA: $8,672,334.47<br>LOCACIONES: $4,270,057.83<br>NOM: $6,853,662.09<br>Disponible : $4,613,431.36",
              "annotations[6].text": "Cuenta General",
              "annotations[7].text": "Semana : 50<br>Presupuesto Total : $135,097,911.00<br>1400: $13,899,922.03<br>7000: $13,129,294.87<br>3400: $12,724,039.85<br>3100: $11,595,695.20<br>1100: $10,065,000.08<br>1200: $9,361,342.31<br>Otros: $59,709,185.32<br>Disponible : $4,613,431.36",
              "title": "Presupuesto vs Gasto – Semana ≤ 50"
             }
            ],
            "label": "50",
            "method": "update"
           },
           {
            "args": [
             {
              "labels": [
               [
                "Gastado",
                "Disponible"
               ],
               [
                "DEVELOPMENT",
                "POST",
                "PREP",
                "SHOOT",
                "SOFT (EXCESO)",
                "WRAP",
                "Disponible"
               ],
               [
                "ANDA (EXCESO)",
                "ARTE",
                "BALU (EXCESO)",
                "DINAMITA",
                "LOCACIONES",
                "NOM",
                "Disponible"
               ],
               [
                "1400 (EXCESO)",
                "7000",
                "3400",
                "3100 (EXCESO)",
                "1100 (EXCESO)",
                "1200",
                "Otros",
                "Disponible"
               ]
              ],
              "marker.colors": [
               [
                "#636efa",
                "#ef553b"
               ],
               [
                "#636EFA",
                "#EF553B",
                "#00CC96",
                "#AB63FA",
                "#FFA15A",
                "#19D3F3",
                "#ef553b"
               ],
               [
                "#1F77B4",
                "#FF7F0E",
                "#2CA02C",
                "#D62728",
                "#9467BD",
                "#8C564B",
                "#ef553b"
               ],
               [
                "#636EFA",
                "#EF553B",
                "#00CC96",
                "#AB63FA",
                "#FFA15A",
                "#19D3F3",
                "#d3d3d3",
                "#ef553b"
               ]
              ],
              "values": [
               [
                130484479.64199999,
                4613431.35800001
               ],
               [
                10165540.08,
                10747532.45,
                9068159.886,
                96990214.346,
                983295,
                2529737.88,
                4613431.35800001
               ],
               [
                5706588.498,
                4817005.733,
                7756761.44,
                8672334.47,
                4270057.826,
                6853662.09,
                4613431.35800001
               ],
               [
                13899922.025,
                13129294.866,
                12724039.845,
                11595695.2,
                10065000.08,
                9361342.31,
                59709185.315999985,
                4613431.35800001
               ]
              ]
             },
             {
              "annotations[0].text": "Global",
              "annotations[1].text": "Semana : 51<br>Presupuesto Total : $135,097,911.00<br>Gasto Total : $130,484,479.64<br>Disponible : $4,613,431.36",
              "annotations[2].text": "Etapas",
              "annotations[3].text": "Semana : 51<br>Presupuesto Total : $135,097,911.00<br>DEVELOPMENT: $10,165,540.08<br>POST: $10,747,532.45<br>PREP: $9,068,159.89<br>SHOOT: $96,990,214.35<br>SOFT: $983,295.00<br>WRAP: $2,529,737.88<br>Disponible : $4,613,431.36",
              "annotations[4].text": "Departamento",
              "annotations[5].text": "Semana : 51<br>Presupuesto Total : $135,097,911.00<br>ANDA: $5,706,588.50<br>ARTE: $4,817,005.73<br>BALU: $7,756,761.44<br>DINAMITA: $8,672,334.47<br>LOCACIONES: $4,270,057.83<br>NOM: $6,853,662.09<br>Disponible : $4,613,431.36",
              "annotations[6].text": "Cuenta General",
              "annotations[7].text": "Semana : 51<br>Presupuesto Total : $135,097,911.00<br>1400: $13,899,922.03<br>7000: $13,129,294.87<br>3400: $12,724,039.85<br>3100: $11,595,695.20<br>1100: $10,065,000.08<br>1200: $9,361,342.31<br>Otros: $59,709,185.32<br>Disponible : $4,613,431.36",
              "title": "Presupuesto vs Gasto – Semana ≤ 51"
             }
            ],
            "label": "51",
            "method": "update"
           },
           {
            "args": [
             {
              "labels": [
               [
                "Gastado",
                "Disponible"
               ],
               [
                "DEVELOPMENT",
                "POST",
                "PREP (EXCESO)",
                "SHOOT",
                "SOFT (EXCESO)",
                "WRAP",
                "Disponible"
               ],
               [
                "ANDA (EXCESO)",
                "ARTE",
                "BALU (EXCESO)",
                "DINAMITA",
                "LOCACIONES",
                "NOM",
                "Disponible"
               ],
               [
                "7000 (EXCESO)",
                "1400 (EXCESO)",
                "3400",
                "3100 (EXCESO)",
                "1100 (EXCESO)",
                "1200",
                "Otros",
                "Disponible"
               ]
              ],
              "marker.colors": [
               [
                "#636efa",
                "#ef553b"
               ],
               [
                "#636EFA",
                "#EF553B",
                "#00CC96",
                "#AB63FA",
                "#FFA15A",
                "#19D3F3",
                "#ef553b"
               ],
               [
                "#1F77B4",
                "#FF7F0E",
                "#2CA02C",
                "#D62728",
                "#9467BD",
                "#8C564B",
                "#ef553b"
               ],
               [
                "#636EFA",
                "#EF553B",
                "#00CC96",
                "#AB63FA",
                "#FFA15A",
                "#19D3F3",
                "#d3d3d3",
                "#ef553b"
               ]
              ],
              "values": [
               [
                131873256.312,
                3224654.6879999936
               ],
               [
                10165540.08,
                10747532.45,
                9163159.886,
                98216491.016,
                983295,
                2597237.88,
                3224654.6879999936
               ],
               [
                5706588.498,
                4817005.733,
                7756761.44,
                8672334.47,
                4270057.826,
                6853662.09,
                3224654.6879999936
               ],
               [
                13969294.866,
                13899922.025,
                12724039.845,
                11595695.2,
                10065000.08,
                9361342.31,
                60257961.98599999,
                3224654.6879999936
               ]
              ]
             },
             {
              "annotations[0].text": "Global",
              "annotations[1].text": "Semana : 52<br>Presupuesto Total : $135,097,911.00<br>Gasto Total : $131,873,256.31<br>Disponible : $3,224,654.69",
              "annotations[2].text": "Etapas",
              "annotations[3].text": "Semana : 52<br>Presupuesto Total : $135,097,911.00<br>DEVELOPMENT: $10,165,540.08<br>POST: $10,747,532.45<br>PREP: $9,163,159.89<br>SHOOT: $98,216,491.02<br>SOFT: $983,295.00<br>WRAP: $2,597,237.88<br>Disponible : $3,224,654.69",
              "annotations[4].text": "Departamento",
              "annotations[5].text": "Semana : 52<br>Presupuesto Total : $135,097,911.00<br>ANDA: $5,706,588.50<br>ARTE: $4,817,005.73<br>BALU: $7,756,761.44<br>DINAMITA: $8,672,334.47<br>LOCACIONES: $4,270,057.83<br>NOM: $6,853,662.09<br>Disponible : $3,224,654.69",
              "annotations[6].text": "Cuenta General",
              "annotations[7].text": "Semana : 52<br>Presupuesto Total : $135,097,911.00<br>7000: $13,969,294.87<br>1400: $13,899,922.03<br>3400: $12,724,039.85<br>3100: $11,595,695.20<br>1100: $10,065,000.08<br>1200: $9,361,342.31<br>Otros: $60,257,961.99<br>Disponible : $3,224,654.69",
              "title": "Presupuesto vs Gasto – Semana ≤ 52"
             }
            ],
            "label": "52",
            "method": "update"
           },
           {
            "args": [
             {
              "labels": [
               [
                "Gastado",
                "Disponible"
               ],
               [
                "DEVELOPMENT",
                "POST",
                "PREP (EXCESO)",
                "SHOOT",
                "SOFT (EXCESO)",
                "WRAP",
                "Disponible"
               ],
               [
                "ANDA (EXCESO)",
                "ARTE",
                "BALU (EXCESO)",
                "DINAMITA",
                "LOCACIONES",
                "NOM",
                "Disponible"
               ],
               [
                "7000 (EXCESO)",
                "1400 (EXCESO)",
                "3400",
                "3100 (EXCESO)",
                "1100 (EXCESO)",
                "1200",
                "Otros",
                "Disponible"
               ]
              ],
              "marker.colors": [
               [
                "#636efa",
                "#ef553b"
               ],
               [
                "#636EFA",
                "#EF553B",
                "#00CC96",
                "#AB63FA",
                "#FFA15A",
                "#19D3F3",
                "#ef553b"
               ],
               [
                "#1F77B4",
                "#FF7F0E",
                "#2CA02C",
                "#D62728",
                "#9467BD",
                "#8C564B",
                "#ef553b"
               ],
               [
                "#636EFA",
                "#EF553B",
                "#00CC96",
                "#AB63FA",
                "#FFA15A",
                "#19D3F3",
                "#d3d3d3",
                "#ef553b"
               ]
              ],
              "values": [
               [
                131995835.232,
                3102075.7680000067
               ],
               [
                10165540.08,
                10857932.45,
                9163159.886,
                98228669.936,
                983295,
                2597237.88,
                3102075.7680000067
               ],
               [
                5706588.498,
                4817005.733,
                7756761.44,
                8672334.47,
                4270057.826,
                6853662.09,
                3102075.7680000067
               ],
               [
                13969294.866,
                13899922.025,
                12724039.845,
                11595695.2,
                10065000.08,
                9361342.31,
                60380540.90599999,
                3102075.7680000067
               ]
              ]
             },
             {
              "annotations[0].text": "Global",
              "annotations[1].text": "Semana : 53<br>Presupuesto Total : $135,097,911.00<br>Gasto Total : $131,995,835.23<br>Disponible : $3,102,075.77",
              "annotations[2].text": "Etapas",
              "annotations[3].text": "Semana : 53<br>Presupuesto Total : $135,097,911.00<br>DEVELOPMENT: $10,165,540.08<br>POST: $10,857,932.45<br>PREP: $9,163,159.89<br>SHOOT: $98,228,669.94<br>SOFT: $983,295.00<br>WRAP: $2,597,237.88<br>Disponible : $3,102,075.77",
              "annotations[4].text": "Departamento",
              "annotations[5].text": "Semana : 53<br>Presupuesto Total : $135,097,911.00<br>ANDA: $5,706,588.50<br>ARTE: $4,817,005.73<br>BALU: $7,756,761.44<br>DINAMITA: $8,672,334.47<br>LOCACIONES: $4,270,057.83<br>NOM: $6,853,662.09<br>Disponible : $3,102,075.77",
              "annotations[6].text": "Cuenta General",
              "annotations[7].text": "Semana : 53<br>Presupuesto Total : $135,097,911.00<br>7000: $13,969,294.87<br>1400: $13,899,922.03<br>3400: $12,724,039.85<br>3100: $11,595,695.20<br>1100: $10,065,000.08<br>1200: $9,361,342.31<br>Otros: $60,380,540.91<br>Disponible : $3,102,075.77",
              "title": "Presupuesto vs Gasto – Semana ≤ 53"
             }
            ],
            "label": "53",
            "method": "update"
           },
           {
            "args": [
             {
              "labels": [
               [
                "Gastado",
                "Disponible"
               ],
               [
                "DEVELOPMENT",
                "POST",
                "PREP (EXCESO)",
                "SHOOT",
                "SOFT (EXCESO)",
                "WRAP",
                "Disponible"
               ],
               [
                "ANDA (EXCESO)",
                "ARTE",
                "BALU (EXCESO)",
                "DINAMITA",
                "LOCACIONES",
                "NOM",
                "Disponible"
               ],
               [
                "7000 (EXCESO)",
                "1400 (EXCESO)",
                "3400",
                "3100 (EXCESO)",
                "1100 (EXCESO)",
                "1200",
                "Otros",
                "Disponible"
               ]
              ],
              "marker.colors": [
               [
                "#636efa",
                "#ef553b"
               ],
               [
                "#636EFA",
                "#EF553B",
                "#00CC96",
                "#AB63FA",
                "#FFA15A",
                "#19D3F3",
                "#ef553b"
               ],
               [
                "#1F77B4",
                "#FF7F0E",
                "#2CA02C",
                "#D62728",
                "#9467BD",
                "#8C564B",
                "#ef553b"
               ],
               [
                "#636EFA",
                "#EF553B",
                "#00CC96",
                "#AB63FA",
                "#FFA15A",
                "#19D3F3",
                "#d3d3d3",
                "#ef553b"
               ]
              ],
              "values": [
               [
                133453401.25400001,
                1644509.745999992
               ],
               [
                10165540.08,
                10857932.45,
                9163159.886,
                99686235.958,
                983295,
                2597237.88,
                1644509.745999992
               ],
               [
                5706588.498,
                4817005.733,
                7756761.44,
                8672334.47,
                4270057.826,
                6853662.09,
                1644509.745999992
               ],
               [
                13969294.866,
                13899922.025,
                12724039.845,
                11595695.2,
                10065000.08,
                9361342.31,
                61838106.92799998,
                1644509.745999992
               ]
              ]
             },
             {
              "annotations[0].text": "Global",
              "annotations[1].text": "Semana : 54<br>Presupuesto Total : $135,097,911.00<br>Gasto Total : $133,453,401.25<br>Disponible : $1,644,509.75",
              "annotations[2].text": "Etapas",
              "annotations[3].text": "Semana : 54<br>Presupuesto Total : $135,097,911.00<br>DEVELOPMENT: $10,165,540.08<br>POST: $10,857,932.45<br>PREP: $9,163,159.89<br>SHOOT: $99,686,235.96<br>SOFT: $983,295.00<br>WRAP: $2,597,237.88<br>Disponible : $1,644,509.75",
              "annotations[4].text": "Departamento",
              "annotations[5].text": "Semana : 54<br>Presupuesto Total : $135,097,911.00<br>ANDA: $5,706,588.50<br>ARTE: $4,817,005.73<br>BALU: $7,756,761.44<br>DINAMITA: $8,672,334.47<br>LOCACIONES: $4,270,057.83<br>NOM: $6,853,662.09<br>Disponible : $1,644,509.75",
              "annotations[6].text": "Cuenta General",
              "annotations[7].text": "Semana : 54<br>Presupuesto Total : $135,097,911.00<br>7000: $13,969,294.87<br>1400: $13,899,922.03<br>3400: $12,724,039.85<br>3100: $11,595,695.20<br>1100: $10,065,000.08<br>1200: $9,361,342.31<br>Otros: $61,838,106.93<br>Disponible : $1,644,509.75",
              "title": "Presupuesto vs Gasto – Semana ≤ 54"
             }
            ],
            "label": "54",
            "method": "update"
           },
           {
            "args": [
             {
              "labels": [
               [
                "Gastado",
                "Disponible"
               ],
               [
                "DEVELOPMENT",
                "POST",
                "PREP (EXCESO)",
                "SHOOT",
                "SOFT (EXCESO)",
                "WRAP",
                "Disponible"
               ],
               [
                "ANDA (EXCESO)",
                "ARTE",
                "BALU (EXCESO)",
                "DINAMITA",
                "LOCACIONES",
                "NOM",
                "Disponible"
               ],
               [
                "7000 (EXCESO)",
                "1400 (EXCESO)",
                "3400",
                "3100 (EXCESO)",
                "1100 (EXCESO)",
                "1200",
                "Otros",
                "Disponible"
               ]
              ],
              "marker.colors": [
               [
                "#636efa",
                "#ef553b"
               ],
               [
                "#636EFA",
                "#EF553B",
                "#00CC96",
                "#AB63FA",
                "#FFA15A",
                "#19D3F3",
                "#ef553b"
               ],
               [
                "#1F77B4",
                "#FF7F0E",
                "#2CA02C",
                "#D62728",
                "#9467BD",
                "#8C564B",
                "#ef553b"
               ],
               [
                "#636EFA",
                "#EF553B",
                "#00CC96",
                "#AB63FA",
                "#FFA15A",
                "#19D3F3",
                "#d3d3d3",
                "#ef553b"
               ]
              ],
              "values": [
               [
                133453401.25400001,
                1644509.745999992
               ],
               [
                10165540.08,
                10857932.45,
                9163159.886,
                99686235.958,
                983295,
                2597237.88,
                1644509.745999992
               ],
               [
                5706588.498,
                4817005.733,
                7756761.44,
                8672334.47,
                4270057.826,
                6853662.09,
                1644509.745999992
               ],
               [
                13969294.866,
                13899922.025,
                12724039.845,
                11595695.2,
                10065000.08,
                9361342.31,
                61838106.92799998,
                1644509.745999992
               ]
              ]
             },
             {
              "annotations[0].text": "Global",
              "annotations[1].text": "Semana : 55<br>Presupuesto Total : $135,097,911.00<br>Gasto Total : $133,453,401.25<br>Disponible : $1,644,509.75",
              "annotations[2].text": "Etapas",
              "annotations[3].text": "Semana : 55<br>Presupuesto Total : $135,097,911.00<br>DEVELOPMENT: $10,165,540.08<br>POST: $10,857,932.45<br>PREP: $9,163,159.89<br>SHOOT: $99,686,235.96<br>SOFT: $983,295.00<br>WRAP: $2,597,237.88<br>Disponible : $1,644,509.75",
              "annotations[4].text": "Departamento",
              "annotations[5].text": "Semana : 55<br>Presupuesto Total : $135,097,911.00<br>ANDA: $5,706,588.50<br>ARTE: $4,817,005.73<br>BALU: $7,756,761.44<br>DINAMITA: $8,672,334.47<br>LOCACIONES: $4,270,057.83<br>NOM: $6,853,662.09<br>Disponible : $1,644,509.75",
              "annotations[6].text": "Cuenta General",
              "annotations[7].text": "Semana : 55<br>Presupuesto Total : $135,097,911.00<br>7000: $13,969,294.87<br>1400: $13,899,922.03<br>3400: $12,724,039.85<br>3100: $11,595,695.20<br>1100: $10,065,000.08<br>1200: $9,361,342.31<br>Otros: $61,838,106.93<br>Disponible : $1,644,509.75",
              "title": "Presupuesto vs Gasto – Semana ≤ 55"
             }
            ],
            "label": "55",
            "method": "update"
           },
           {
            "args": [
             {
              "labels": [
               [
                "Gastado",
                "Disponible"
               ],
               [
                "DEVELOPMENT",
                "POST",
                "PREP (EXCESO)",
                "SHOOT",
                "SOFT (EXCESO)",
                "WRAP",
                "Disponible"
               ],
               [
                "ANDA (EXCESO)",
                "ARTE",
                "BALU (EXCESO)",
                "DINAMITA",
                "LOCACIONES",
                "NOM",
                "Disponible"
               ],
               [
                "7000 (EXCESO)",
                "1400 (EXCESO)",
                "3400",
                "3100 (EXCESO)",
                "1100 (EXCESO)",
                "1200",
                "Otros",
                "Disponible"
               ]
              ],
              "marker.colors": [
               [
                "#636efa",
                "#ef553b"
               ],
               [
                "#636EFA",
                "#EF553B",
                "#00CC96",
                "#AB63FA",
                "#FFA15A",
                "#19D3F3",
                "#ef553b"
               ],
               [
                "#1F77B4",
                "#FF7F0E",
                "#2CA02C",
                "#D62728",
                "#9467BD",
                "#8C564B",
                "#ef553b"
               ],
               [
                "#636EFA",
                "#EF553B",
                "#00CC96",
                "#AB63FA",
                "#FFA15A",
                "#19D3F3",
                "#d3d3d3",
                "#ef553b"
               ]
              ],
              "values": [
               [
                133453401.25400001,
                1644509.745999992
               ],
               [
                10165540.08,
                10857932.45,
                9163159.886,
                99686235.958,
                983295,
                2597237.88,
                1644509.745999992
               ],
               [
                5706588.498,
                4817005.733,
                7756761.44,
                8672334.47,
                4270057.826,
                6853662.09,
                1644509.745999992
               ],
               [
                13969294.866,
                13899922.025,
                12724039.845,
                11595695.2,
                10065000.08,
                9361342.31,
                61838106.92799998,
                1644509.745999992
               ]
              ]
             },
             {
              "annotations[0].text": "Global",
              "annotations[1].text": "Semana : 56<br>Presupuesto Total : $135,097,911.00<br>Gasto Total : $133,453,401.25<br>Disponible : $1,644,509.75",
              "annotations[2].text": "Etapas",
              "annotations[3].text": "Semana : 56<br>Presupuesto Total : $135,097,911.00<br>DEVELOPMENT: $10,165,540.08<br>POST: $10,857,932.45<br>PREP: $9,163,159.89<br>SHOOT: $99,686,235.96<br>SOFT: $983,295.00<br>WRAP: $2,597,237.88<br>Disponible : $1,644,509.75",
              "annotations[4].text": "Departamento",
              "annotations[5].text": "Semana : 56<br>Presupuesto Total : $135,097,911.00<br>ANDA: $5,706,588.50<br>ARTE: $4,817,005.73<br>BALU: $7,756,761.44<br>DINAMITA: $8,672,334.47<br>LOCACIONES: $4,270,057.83<br>NOM: $6,853,662.09<br>Disponible : $1,644,509.75",
              "annotations[6].text": "Cuenta General",
              "annotations[7].text": "Semana : 56<br>Presupuesto Total : $135,097,911.00<br>7000: $13,969,294.87<br>1400: $13,899,922.03<br>3400: $12,724,039.85<br>3100: $11,595,695.20<br>1100: $10,065,000.08<br>1200: $9,361,342.31<br>Otros: $61,838,106.93<br>Disponible : $1,644,509.75",
              "title": "Presupuesto vs Gasto – Semana ≤ 56"
             }
            ],
            "label": "56",
            "method": "update"
           },
           {
            "args": [
             {
              "labels": [
               [
                "Gastado",
                "Disponible"
               ],
               [
                "DEVELOPMENT",
                "POST",
                "PREP (EXCESO)",
                "SHOOT",
                "SOFT (EXCESO)",
                "WRAP",
                "Disponible"
               ],
               [
                "ANDA (EXCESO)",
                "ARTE",
                "BALU (EXCESO)",
                "DINAMITA",
                "LOCACIONES",
                "NOM",
                "Disponible"
               ],
               [
                "7000 (EXCESO)",
                "1400 (EXCESO)",
                "3400",
                "3100 (EXCESO)",
                "1100 (EXCESO)",
                "1200",
                "Otros",
                "Disponible"
               ]
              ],
              "marker.colors": [
               [
                "#636efa",
                "#ef553b"
               ],
               [
                "#636EFA",
                "#EF553B",
                "#00CC96",
                "#AB63FA",
                "#FFA15A",
                "#19D3F3",
                "#ef553b"
               ],
               [
                "#1F77B4",
                "#FF7F0E",
                "#2CA02C",
                "#D62728",
                "#9467BD",
                "#8C564B",
                "#ef553b"
               ],
               [
                "#636EFA",
                "#EF553B",
                "#00CC96",
                "#AB63FA",
                "#FFA15A",
                "#19D3F3",
                "#d3d3d3",
                "#ef553b"
               ]
              ],
              "values": [
               [
                133453401.25400001,
                1644509.745999992
               ],
               [
                10165540.08,
                10857932.45,
                9163159.886,
                99686235.958,
                983295,
                2597237.88,
                1644509.745999992
               ],
               [
                5706588.498,
                4817005.733,
                7756761.44,
                8672334.47,
                4270057.826,
                6853662.09,
                1644509.745999992
               ],
               [
                13969294.866,
                13899922.025,
                12724039.845,
                11595695.2,
                10065000.08,
                9361342.31,
                61838106.92799998,
                1644509.745999992
               ]
              ]
             },
             {
              "annotations[0].text": "Global",
              "annotations[1].text": "Semana : 57<br>Presupuesto Total : $135,097,911.00<br>Gasto Total : $133,453,401.25<br>Disponible : $1,644,509.75",
              "annotations[2].text": "Etapas",
              "annotations[3].text": "Semana : 57<br>Presupuesto Total : $135,097,911.00<br>DEVELOPMENT: $10,165,540.08<br>POST: $10,857,932.45<br>PREP: $9,163,159.89<br>SHOOT: $99,686,235.96<br>SOFT: $983,295.00<br>WRAP: $2,597,237.88<br>Disponible : $1,644,509.75",
              "annotations[4].text": "Departamento",
              "annotations[5].text": "Semana : 57<br>Presupuesto Total : $135,097,911.00<br>ANDA: $5,706,588.50<br>ARTE: $4,817,005.73<br>BALU: $7,756,761.44<br>DINAMITA: $8,672,334.47<br>LOCACIONES: $4,270,057.83<br>NOM: $6,853,662.09<br>Disponible : $1,644,509.75",
              "annotations[6].text": "Cuenta General",
              "annotations[7].text": "Semana : 57<br>Presupuesto Total : $135,097,911.00<br>7000: $13,969,294.87<br>1400: $13,899,922.03<br>3400: $12,724,039.85<br>3100: $11,595,695.20<br>1100: $10,065,000.08<br>1200: $9,361,342.31<br>Otros: $61,838,106.93<br>Disponible : $1,644,509.75",
              "title": "Presupuesto vs Gasto – Semana ≤ 57"
             }
            ],
            "label": "57",
            "method": "update"
           },
           {
            "args": [
             {
              "labels": [
               [
                "Gastado",
                "Disponible"
               ],
               [
                "DEVELOPMENT",
                "POST",
                "PREP (EXCESO)",
                "SHOOT",
                "SOFT (EXCESO)",
                "WRAP",
                "Disponible"
               ],
               [
                "ANDA (EXCESO)",
                "ARTE",
                "BALU (EXCESO)",
                "DINAMITA",
                "LOCACIONES",
                "NOM",
                "Disponible"
               ],
               [
                "7000 (EXCESO)",
                "1400 (EXCESO)",
                "3400",
                "3100 (EXCESO)",
                "1100 (EXCESO)",
                "1200",
                "Otros",
                "Disponible"
               ]
              ],
              "marker.colors": [
               [
                "#636efa",
                "#ef553b"
               ],
               [
                "#636EFA",
                "#EF553B",
                "#00CC96",
                "#AB63FA",
                "#FFA15A",
                "#19D3F3",
                "#ef553b"
               ],
               [
                "#1F77B4",
                "#FF7F0E",
                "#2CA02C",
                "#D62728",
                "#9467BD",
                "#8C564B",
                "#ef553b"
               ],
               [
                "#636EFA",
                "#EF553B",
                "#00CC96",
                "#AB63FA",
                "#FFA15A",
                "#19D3F3",
                "#d3d3d3",
                "#ef553b"
               ]
              ],
              "values": [
               [
                133453401.25400001,
                1644509.745999992
               ],
               [
                10165540.08,
                10857932.45,
                9163159.886,
                99686235.958,
                983295,
                2597237.88,
                1644509.745999992
               ],
               [
                5706588.498,
                4817005.733,
                7756761.44,
                8672334.47,
                4270057.826,
                6853662.09,
                1644509.745999992
               ],
               [
                13969294.866,
                13899922.025,
                12724039.845,
                11595695.2,
                10065000.08,
                9361342.31,
                61838106.92799998,
                1644509.745999992
               ]
              ]
             },
             {
              "annotations[0].text": "Global",
              "annotations[1].text": "Semana : 58<br>Presupuesto Total : $135,097,911.00<br>Gasto Total : $133,453,401.25<br>Disponible : $1,644,509.75",
              "annotations[2].text": "Etapas",
              "annotations[3].text": "Semana : 58<br>Presupuesto Total : $135,097,911.00<br>DEVELOPMENT: $10,165,540.08<br>POST: $10,857,932.45<br>PREP: $9,163,159.89<br>SHOOT: $99,686,235.96<br>SOFT: $983,295.00<br>WRAP: $2,597,237.88<br>Disponible : $1,644,509.75",
              "annotations[4].text": "Departamento",
              "annotations[5].text": "Semana : 58<br>Presupuesto Total : $135,097,911.00<br>ANDA: $5,706,588.50<br>ARTE: $4,817,005.73<br>BALU: $7,756,761.44<br>DINAMITA: $8,672,334.47<br>LOCACIONES: $4,270,057.83<br>NOM: $6,853,662.09<br>Disponible : $1,644,509.75",
              "annotations[6].text": "Cuenta General",
              "annotations[7].text": "Semana : 58<br>Presupuesto Total : $135,097,911.00<br>7000: $13,969,294.87<br>1400: $13,899,922.03<br>3400: $12,724,039.85<br>3100: $11,595,695.20<br>1100: $10,065,000.08<br>1200: $9,361,342.31<br>Otros: $61,838,106.93<br>Disponible : $1,644,509.75",
              "title": "Presupuesto vs Gasto – Semana ≤ 58"
             }
            ],
            "label": "58",
            "method": "update"
           },
           {
            "args": [
             {
              "labels": [
               [
                "Gastado",
                "Disponible"
               ],
               [
                "DEVELOPMENT",
                "POST",
                "PREP (EXCESO)",
                "SHOOT",
                "SOFT (EXCESO)",
                "WRAP",
                "Disponible"
               ],
               [
                "ANDA (EXCESO)",
                "ARTE",
                "BALU (EXCESO)",
                "DINAMITA",
                "LOCACIONES",
                "NOM",
                "Disponible"
               ],
               [
                "7000 (EXCESO)",
                "1400 (EXCESO)",
                "3400",
                "3100 (EXCESO)",
                "1100 (EXCESO)",
                "1200",
                "Otros",
                "Disponible"
               ]
              ],
              "marker.colors": [
               [
                "#636efa",
                "#ef553b"
               ],
               [
                "#636EFA",
                "#EF553B",
                "#00CC96",
                "#AB63FA",
                "#FFA15A",
                "#19D3F3",
                "#ef553b"
               ],
               [
                "#1F77B4",
                "#FF7F0E",
                "#2CA02C",
                "#D62728",
                "#9467BD",
                "#8C564B",
                "#ef553b"
               ],
               [
                "#636EFA",
                "#EF553B",
                "#00CC96",
                "#AB63FA",
                "#FFA15A",
                "#19D3F3",
                "#d3d3d3",
                "#ef553b"
               ]
              ],
              "values": [
               [
                133453401.25400001,
                1644509.745999992
               ],
               [
                10165540.08,
                10857932.45,
                9163159.886,
                99686235.958,
                983295,
                2597237.88,
                1644509.745999992
               ],
               [
                5706588.498,
                4817005.733,
                7756761.44,
                8672334.47,
                4270057.826,
                6853662.09,
                1644509.745999992
               ],
               [
                13969294.866,
                13899922.025,
                12724039.845,
                11595695.2,
                10065000.08,
                9361342.31,
                61838106.92799998,
                1644509.745999992
               ]
              ]
             },
             {
              "annotations[0].text": "Global",
              "annotations[1].text": "Semana : 59<br>Presupuesto Total : $135,097,911.00<br>Gasto Total : $133,453,401.25<br>Disponible : $1,644,509.75",
              "annotations[2].text": "Etapas",
              "annotations[3].text": "Semana : 59<br>Presupuesto Total : $135,097,911.00<br>DEVELOPMENT: $10,165,540.08<br>POST: $10,857,932.45<br>PREP: $9,163,159.89<br>SHOOT: $99,686,235.96<br>SOFT: $983,295.00<br>WRAP: $2,597,237.88<br>Disponible : $1,644,509.75",
              "annotations[4].text": "Departamento",
              "annotations[5].text": "Semana : 59<br>Presupuesto Total : $135,097,911.00<br>ANDA: $5,706,588.50<br>ARTE: $4,817,005.73<br>BALU: $7,756,761.44<br>DINAMITA: $8,672,334.47<br>LOCACIONES: $4,270,057.83<br>NOM: $6,853,662.09<br>Disponible : $1,644,509.75",
              "annotations[6].text": "Cuenta General",
              "annotations[7].text": "Semana : 59<br>Presupuesto Total : $135,097,911.00<br>7000: $13,969,294.87<br>1400: $13,899,922.03<br>3400: $12,724,039.85<br>3100: $11,595,695.20<br>1100: $10,065,000.08<br>1200: $9,361,342.31<br>Otros: $61,838,106.93<br>Disponible : $1,644,509.75",
              "title": "Presupuesto vs Gasto – Semana ≤ 59"
             }
            ],
            "label": "59",
            "method": "update"
           },
           {
            "args": [
             {
              "labels": [
               [
                "Gastado",
                "Disponible"
               ],
               [
                "DEVELOPMENT",
                "POST",
                "PREP (EXCESO)",
                "SHOOT (EXCESO)",
                "SOFT (EXCESO)",
                "WRAP",
                "Disponible"
               ],
               [
                "ANDA (EXCESO)",
                "ARTE",
                "BALU (EXCESO)",
                "DINAMITA",
                "LOCACIONES",
                "NOM",
                "Disponible"
               ],
               [
                "7000 (EXCESO)",
                "1400 (EXCESO)",
                "3400",
                "3100 (EXCESO)",
                "1100 (EXCESO)",
                "1200",
                "Otros",
                "Disponible"
               ]
              ],
              "marker.colors": [
               [
                "#636efa",
                "#ef553b"
               ],
               [
                "#636EFA",
                "#EF553B",
                "#00CC96",
                "#AB63FA",
                "#FFA15A",
                "#19D3F3",
                "#ef553b"
               ],
               [
                "#1F77B4",
                "#FF7F0E",
                "#2CA02C",
                "#D62728",
                "#9467BD",
                "#8C564B",
                "#ef553b"
               ],
               [
                "#636EFA",
                "#EF553B",
                "#00CC96",
                "#AB63FA",
                "#FFA15A",
                "#19D3F3",
                "#d3d3d3",
                "#ef553b"
               ]
              ],
              "values": [
               [
                134706241.784,
                391669.2159999907
               ],
               [
                10165540.08,
                10857932.45,
                9163159.886,
                100939076.488,
                983295,
                2597237.88,
                391669.2159999907
               ],
               [
                5706588.498,
                4817005.733,
                7756761.44,
                8672334.47,
                4270057.826,
                6853662.09,
                391669.2159999907
               ],
               [
                13969294.866,
                13899922.025,
                12724039.845,
                11595695.2,
                10065000.08,
                9361342.31,
                63090947.45799998,
                391669.2159999907
               ]
              ]
             },
             {
              "annotations[0].text": "Global",
              "annotations[1].text": "Semana : 60<br>Presupuesto Total : $135,097,911.00<br>Gasto Total : $134,706,241.78<br>Disponible : $391,669.22",
              "annotations[2].text": "Etapas",
              "annotations[3].text": "Semana : 60<br>Presupuesto Total : $135,097,911.00<br>DEVELOPMENT: $10,165,540.08<br>POST: $10,857,932.45<br>PREP: $9,163,159.89<br>SHOOT: $100,939,076.49<br>SOFT: $983,295.00<br>WRAP: $2,597,237.88<br>Disponible : $391,669.22",
              "annotations[4].text": "Departamento",
              "annotations[5].text": "Semana : 60<br>Presupuesto Total : $135,097,911.00<br>ANDA: $5,706,588.50<br>ARTE: $4,817,005.73<br>BALU: $7,756,761.44<br>DINAMITA: $8,672,334.47<br>LOCACIONES: $4,270,057.83<br>NOM: $6,853,662.09<br>Disponible : $391,669.22",
              "annotations[6].text": "Cuenta General",
              "annotations[7].text": "Semana : 60<br>Presupuesto Total : $135,097,911.00<br>7000: $13,969,294.87<br>1400: $13,899,922.03<br>3400: $12,724,039.85<br>3100: $11,595,695.20<br>1100: $10,065,000.08<br>1200: $9,361,342.31<br>Otros: $63,090,947.46<br>Disponible : $391,669.22",
              "title": "Presupuesto vs Gasto – Semana ≤ 60"
             }
            ],
            "label": "60",
            "method": "update"
           },
           {
            "args": [
             {
              "labels": [
               [
                "Gastado",
                "Disponible"
               ],
               [
                "DEVELOPMENT",
                "POST",
                "PREP (EXCESO)",
                "SHOOT (EXCESO)",
                "SOFT (EXCESO)",
                "WRAP",
                "Disponible"
               ],
               [
                "ANDA (EXCESO)",
                "ARTE",
                "BALU (EXCESO)",
                "DINAMITA",
                "LOCACIONES",
                "NOM",
                "Disponible"
               ],
               [
                "7000 (EXCESO)",
                "1400 (EXCESO)",
                "3400",
                "3100 (EXCESO)",
                "1100 (EXCESO)",
                "1200",
                "Otros",
                "Disponible"
               ]
              ],
              "marker.colors": [
               [
                "#636efa",
                "#ef553b"
               ],
               [
                "#636EFA",
                "#EF553B",
                "#00CC96",
                "#AB63FA",
                "#FFA15A",
                "#19D3F3",
                "#ef553b"
               ],
               [
                "#1F77B4",
                "#FF7F0E",
                "#2CA02C",
                "#D62728",
                "#9467BD",
                "#8C564B",
                "#ef553b"
               ],
               [
                "#636EFA",
                "#EF553B",
                "#00CC96",
                "#AB63FA",
                "#FFA15A",
                "#19D3F3",
                "#d3d3d3",
                "#ef553b"
               ]
              ],
              "values": [
               [
                134717774.414,
                380136.58599999547
               ],
               [
                10165540.08,
                10857932.45,
                9163159.886,
                100950609.118,
                983295,
                2597237.88,
                380136.58599999547
               ],
               [
                5706588.498,
                4817005.733,
                7756761.44,
                8672334.47,
                4270057.826,
                6853662.09,
                380136.58599999547
               ],
               [
                13969294.866,
                13899922.025,
                12724039.845,
                11595695.2,
                10065000.08,
                9361342.31,
                63102480.087999985,
                380136.58599999547
               ]
              ]
             },
             {
              "annotations[0].text": "Global",
              "annotations[1].text": "Semana : 61<br>Presupuesto Total : $135,097,911.00<br>Gasto Total : $134,717,774.41<br>Disponible : $380,136.59",
              "annotations[2].text": "Etapas",
              "annotations[3].text": "Semana : 61<br>Presupuesto Total : $135,097,911.00<br>DEVELOPMENT: $10,165,540.08<br>POST: $10,857,932.45<br>PREP: $9,163,159.89<br>SHOOT: $100,950,609.12<br>SOFT: $983,295.00<br>WRAP: $2,597,237.88<br>Disponible : $380,136.59",
              "annotations[4].text": "Departamento",
              "annotations[5].text": "Semana : 61<br>Presupuesto Total : $135,097,911.00<br>ANDA: $5,706,588.50<br>ARTE: $4,817,005.73<br>BALU: $7,756,761.44<br>DINAMITA: $8,672,334.47<br>LOCACIONES: $4,270,057.83<br>NOM: $6,853,662.09<br>Disponible : $380,136.59",
              "annotations[6].text": "Cuenta General",
              "annotations[7].text": "Semana : 61<br>Presupuesto Total : $135,097,911.00<br>7000: $13,969,294.87<br>1400: $13,899,922.03<br>3400: $12,724,039.85<br>3100: $11,595,695.20<br>1100: $10,065,000.08<br>1200: $9,361,342.31<br>Otros: $63,102,480.09<br>Disponible : $380,136.59",
              "title": "Presupuesto vs Gasto – Semana ≤ 61"
             }
            ],
            "label": "61",
            "method": "update"
           },
           {
            "args": [
             {
              "labels": [
               [
                "Gastado",
                "Disponible"
               ],
               [
                "DEVELOPMENT",
                "POST",
                "PREP (EXCESO)",
                "SHOOT (EXCESO)",
                "SOFT (EXCESO)",
                "WRAP",
                "Disponible"
               ],
               [
                "ANDA (EXCESO)",
                "ARTE",
                "BALU (EXCESO)",
                "DINAMITA",
                "LOCACIONES",
                "NOM",
                "Disponible"
               ],
               [
                "7000 (EXCESO)",
                "1400 (EXCESO)",
                "3400",
                "3100 (EXCESO)",
                "1100 (EXCESO)",
                "1200",
                "Otros",
                "Disponible"
               ]
              ],
              "marker.colors": [
               [
                "#636efa",
                "#ef553b"
               ],
               [
                "#636EFA",
                "#EF553B",
                "#00CC96",
                "#AB63FA",
                "#FFA15A",
                "#19D3F3",
                "#ef553b"
               ],
               [
                "#1F77B4",
                "#FF7F0E",
                "#2CA02C",
                "#D62728",
                "#9467BD",
                "#8C564B",
                "#ef553b"
               ],
               [
                "#636EFA",
                "#EF553B",
                "#00CC96",
                "#AB63FA",
                "#FFA15A",
                "#19D3F3",
                "#d3d3d3",
                "#ef553b"
               ]
              ],
              "values": [
               [
                134717774.414,
                380136.58599999547
               ],
               [
                10165540.08,
                10857932.45,
                9163159.886,
                100950609.118,
                983295,
                2597237.88,
                380136.58599999547
               ],
               [
                5706588.498,
                4817005.733,
                7756761.44,
                8672334.47,
                4270057.826,
                6853662.09,
                380136.58599999547
               ],
               [
                13969294.866,
                13899922.025,
                12724039.845,
                11595695.2,
                10065000.08,
                9361342.31,
                63102480.087999985,
                380136.58599999547
               ]
              ]
             },
             {
              "annotations[0].text": "Global",
              "annotations[1].text": "Semana : 62<br>Presupuesto Total : $135,097,911.00<br>Gasto Total : $134,717,774.41<br>Disponible : $380,136.59",
              "annotations[2].text": "Etapas",
              "annotations[3].text": "Semana : 62<br>Presupuesto Total : $135,097,911.00<br>DEVELOPMENT: $10,165,540.08<br>POST: $10,857,932.45<br>PREP: $9,163,159.89<br>SHOOT: $100,950,609.12<br>SOFT: $983,295.00<br>WRAP: $2,597,237.88<br>Disponible : $380,136.59",
              "annotations[4].text": "Departamento",
              "annotations[5].text": "Semana : 62<br>Presupuesto Total : $135,097,911.00<br>ANDA: $5,706,588.50<br>ARTE: $4,817,005.73<br>BALU: $7,756,761.44<br>DINAMITA: $8,672,334.47<br>LOCACIONES: $4,270,057.83<br>NOM: $6,853,662.09<br>Disponible : $380,136.59",
              "annotations[6].text": "Cuenta General",
              "annotations[7].text": "Semana : 62<br>Presupuesto Total : $135,097,911.00<br>7000: $13,969,294.87<br>1400: $13,899,922.03<br>3400: $12,724,039.85<br>3100: $11,595,695.20<br>1100: $10,065,000.08<br>1200: $9,361,342.31<br>Otros: $63,102,480.09<br>Disponible : $380,136.59",
              "title": "Presupuesto vs Gasto – Semana ≤ 62"
             }
            ],
            "label": "62",
            "method": "update"
           },
           {
            "args": [
             {
              "labels": [
               [
                "Gastado",
                "Disponible"
               ],
               [
                "DEVELOPMENT",
                "POST",
                "PREP (EXCESO)",
                "SHOOT (EXCESO)",
                "SOFT (EXCESO)",
                "WRAP",
                "Disponible"
               ],
               [
                "ANDA (EXCESO)",
                "ARTE",
                "BALU (EXCESO)",
                "DINAMITA",
                "LOCACIONES",
                "NOM",
                "Disponible"
               ],
               [
                "7000 (EXCESO)",
                "1400 (EXCESO)",
                "3400",
                "3100 (EXCESO)",
                "1100 (EXCESO)",
                "1200",
                "Otros",
                "Disponible"
               ]
              ],
              "marker.colors": [
               [
                "#636efa",
                "#ef553b"
               ],
               [
                "#636EFA",
                "#EF553B",
                "#00CC96",
                "#AB63FA",
                "#FFA15A",
                "#19D3F3",
                "#ef553b"
               ],
               [
                "#1F77B4",
                "#FF7F0E",
                "#2CA02C",
                "#D62728",
                "#9467BD",
                "#8C564B",
                "#ef553b"
               ],
               [
                "#636EFA",
                "#EF553B",
                "#00CC96",
                "#AB63FA",
                "#FFA15A",
                "#19D3F3",
                "#d3d3d3",
                "#ef553b"
               ]
              ],
              "values": [
               [
                134717774.414,
                380136.58599999547
               ],
               [
                10165540.08,
                10857932.45,
                9163159.886,
                100950609.118,
                983295,
                2597237.88,
                380136.58599999547
               ],
               [
                5706588.498,
                4817005.733,
                7756761.44,
                8672334.47,
                4270057.826,
                6853662.09,
                380136.58599999547
               ],
               [
                13969294.866,
                13899922.025,
                12724039.845,
                11595695.2,
                10065000.08,
                9361342.31,
                63102480.087999985,
                380136.58599999547
               ]
              ]
             },
             {
              "annotations[0].text": "Global",
              "annotations[1].text": "Semana : 63<br>Presupuesto Total : $135,097,911.00<br>Gasto Total : $134,717,774.41<br>Disponible : $380,136.59",
              "annotations[2].text": "Etapas",
              "annotations[3].text": "Semana : 63<br>Presupuesto Total : $135,097,911.00<br>DEVELOPMENT: $10,165,540.08<br>POST: $10,857,932.45<br>PREP: $9,163,159.89<br>SHOOT: $100,950,609.12<br>SOFT: $983,295.00<br>WRAP: $2,597,237.88<br>Disponible : $380,136.59",
              "annotations[4].text": "Departamento",
              "annotations[5].text": "Semana : 63<br>Presupuesto Total : $135,097,911.00<br>ANDA: $5,706,588.50<br>ARTE: $4,817,005.73<br>BALU: $7,756,761.44<br>DINAMITA: $8,672,334.47<br>LOCACIONES: $4,270,057.83<br>NOM: $6,853,662.09<br>Disponible : $380,136.59",
              "annotations[6].text": "Cuenta General",
              "annotations[7].text": "Semana : 63<br>Presupuesto Total : $135,097,911.00<br>7000: $13,969,294.87<br>1400: $13,899,922.03<br>3400: $12,724,039.85<br>3100: $11,595,695.20<br>1100: $10,065,000.08<br>1200: $9,361,342.31<br>Otros: $63,102,480.09<br>Disponible : $380,136.59",
              "title": "Presupuesto vs Gasto – Semana ≤ 63"
             }
            ],
            "label": "63",
            "method": "update"
           },
           {
            "args": [
             {
              "labels": [
               [
                "Gastado",
                "Disponible"
               ],
               [
                "DEVELOPMENT",
                "POST",
                "PREP (EXCESO)",
                "SHOOT (EXCESO)",
                "SOFT (EXCESO)",
                "WRAP",
                "Disponible"
               ],
               [
                "ANDA (EXCESO)",
                "ARTE",
                "BALU (EXCESO)",
                "DINAMITA",
                "LOCACIONES",
                "NOM",
                "Disponible"
               ],
               [
                "7000 (EXCESO)",
                "1400 (EXCESO)",
                "3400",
                "3100 (EXCESO)",
                "1100 (EXCESO)",
                "1200",
                "Otros",
                "Disponible"
               ]
              ],
              "marker.colors": [
               [
                "#636efa",
                "#ef553b"
               ],
               [
                "#636EFA",
                "#EF553B",
                "#00CC96",
                "#AB63FA",
                "#FFA15A",
                "#19D3F3",
                "#ef553b"
               ],
               [
                "#1F77B4",
                "#FF7F0E",
                "#2CA02C",
                "#D62728",
                "#9467BD",
                "#8C564B",
                "#ef553b"
               ],
               [
                "#636EFA",
                "#EF553B",
                "#00CC96",
                "#AB63FA",
                "#FFA15A",
                "#19D3F3",
                "#d3d3d3",
                "#ef553b"
               ]
              ],
              "values": [
               [
                134717774.414,
                380136.58599999547
               ],
               [
                10165540.08,
                10857932.45,
                9163159.886,
                100950609.118,
                983295,
                2597237.88,
                380136.58599999547
               ],
               [
                5706588.498,
                4817005.733,
                7756761.44,
                8672334.47,
                4270057.826,
                6853662.09,
                380136.58599999547
               ],
               [
                13969294.866,
                13899922.025,
                12724039.845,
                11595695.2,
                10065000.08,
                9361342.31,
                63102480.087999985,
                380136.58599999547
               ]
              ]
             },
             {
              "annotations[0].text": "Global",
              "annotations[1].text": "Semana : 64<br>Presupuesto Total : $135,097,911.00<br>Gasto Total : $134,717,774.41<br>Disponible : $380,136.59",
              "annotations[2].text": "Etapas",
              "annotations[3].text": "Semana : 64<br>Presupuesto Total : $135,097,911.00<br>DEVELOPMENT: $10,165,540.08<br>POST: $10,857,932.45<br>PREP: $9,163,159.89<br>SHOOT: $100,950,609.12<br>SOFT: $983,295.00<br>WRAP: $2,597,237.88<br>Disponible : $380,136.59",
              "annotations[4].text": "Departamento",
              "annotations[5].text": "Semana : 64<br>Presupuesto Total : $135,097,911.00<br>ANDA: $5,706,588.50<br>ARTE: $4,817,005.73<br>BALU: $7,756,761.44<br>DINAMITA: $8,672,334.47<br>LOCACIONES: $4,270,057.83<br>NOM: $6,853,662.09<br>Disponible : $380,136.59",
              "annotations[6].text": "Cuenta General",
              "annotations[7].text": "Semana : 64<br>Presupuesto Total : $135,097,911.00<br>7000: $13,969,294.87<br>1400: $13,899,922.03<br>3400: $12,724,039.85<br>3100: $11,595,695.20<br>1100: $10,065,000.08<br>1200: $9,361,342.31<br>Otros: $63,102,480.09<br>Disponible : $380,136.59",
              "title": "Presupuesto vs Gasto – Semana ≤ 64"
             }
            ],
            "label": "64",
            "method": "update"
           },
           {
            "args": [
             {
              "labels": [
               [
                "Gastado",
                "Disponible"
               ],
               [
                "DEVELOPMENT",
                "POST",
                "PREP (EXCESO)",
                "SHOOT (EXCESO)",
                "SOFT (EXCESO)",
                "WRAP",
                "Disponible"
               ],
               [
                "ANDA (EXCESO)",
                "ARTE",
                "BALU (EXCESO)",
                "DINAMITA",
                "LOCACIONES",
                "NOM",
                "Disponible"
               ],
               [
                "7000 (EXCESO)",
                "1400 (EXCESO)",
                "3400",
                "3100 (EXCESO)",
                "1100 (EXCESO)",
                "1200",
                "Otros",
                "Disponible"
               ]
              ],
              "marker.colors": [
               [
                "#636efa",
                "#ef553b"
               ],
               [
                "#636EFA",
                "#EF553B",
                "#00CC96",
                "#AB63FA",
                "#FFA15A",
                "#19D3F3",
                "#ef553b"
               ],
               [
                "#1F77B4",
                "#FF7F0E",
                "#2CA02C",
                "#D62728",
                "#9467BD",
                "#8C564B",
                "#ef553b"
               ],
               [
                "#636EFA",
                "#EF553B",
                "#00CC96",
                "#AB63FA",
                "#FFA15A",
                "#19D3F3",
                "#d3d3d3",
                "#ef553b"
               ]
              ],
              "values": [
               [
                134717774.414,
                380136.58599999547
               ],
               [
                10165540.08,
                10857932.45,
                9163159.886,
                100950609.118,
                983295,
                2597237.88,
                380136.58599999547
               ],
               [
                5706588.498,
                4817005.733,
                7756761.44,
                8672334.47,
                4270057.826,
                6853662.09,
                380136.58599999547
               ],
               [
                13969294.866,
                13899922.025,
                12724039.845,
                11595695.2,
                10065000.08,
                9361342.31,
                63102480.087999985,
                380136.58599999547
               ]
              ]
             },
             {
              "annotations[0].text": "Global",
              "annotations[1].text": "Semana : 65<br>Presupuesto Total : $135,097,911.00<br>Gasto Total : $134,717,774.41<br>Disponible : $380,136.59",
              "annotations[2].text": "Etapas",
              "annotations[3].text": "Semana : 65<br>Presupuesto Total : $135,097,911.00<br>DEVELOPMENT: $10,165,540.08<br>POST: $10,857,932.45<br>PREP: $9,163,159.89<br>SHOOT: $100,950,609.12<br>SOFT: $983,295.00<br>WRAP: $2,597,237.88<br>Disponible : $380,136.59",
              "annotations[4].text": "Departamento",
              "annotations[5].text": "Semana : 65<br>Presupuesto Total : $135,097,911.00<br>ANDA: $5,706,588.50<br>ARTE: $4,817,005.73<br>BALU: $7,756,761.44<br>DINAMITA: $8,672,334.47<br>LOCACIONES: $4,270,057.83<br>NOM: $6,853,662.09<br>Disponible : $380,136.59",
              "annotations[6].text": "Cuenta General",
              "annotations[7].text": "Semana : 65<br>Presupuesto Total : $135,097,911.00<br>7000: $13,969,294.87<br>1400: $13,899,922.03<br>3400: $12,724,039.85<br>3100: $11,595,695.20<br>1100: $10,065,000.08<br>1200: $9,361,342.31<br>Otros: $63,102,480.09<br>Disponible : $380,136.59",
              "title": "Presupuesto vs Gasto – Semana ≤ 65"
             }
            ],
            "label": "65",
            "method": "update"
           },
           {
            "args": [
             {
              "labels": [
               [
                "Gastado",
                "Disponible"
               ],
               [
                "DEVELOPMENT",
                "POST",
                "PREP (EXCESO)",
                "SHOOT (EXCESO)",
                "SOFT (EXCESO)",
                "WRAP",
                "Disponible"
               ],
               [
                "ANDA (EXCESO)",
                "ARTE",
                "BALU (EXCESO)",
                "DINAMITA",
                "LOCACIONES",
                "NOM",
                "Disponible"
               ],
               [
                "7000 (EXCESO)",
                "1400 (EXCESO)",
                "3400",
                "3100 (EXCESO)",
                "1100 (EXCESO)",
                "1200",
                "Otros",
                "Disponible"
               ]
              ],
              "marker.colors": [
               [
                "#636efa",
                "#ef553b"
               ],
               [
                "#636EFA",
                "#EF553B",
                "#00CC96",
                "#AB63FA",
                "#FFA15A",
                "#19D3F3",
                "#ef553b"
               ],
               [
                "#1F77B4",
                "#FF7F0E",
                "#2CA02C",
                "#D62728",
                "#9467BD",
                "#8C564B",
                "#ef553b"
               ],
               [
                "#636EFA",
                "#EF553B",
                "#00CC96",
                "#AB63FA",
                "#FFA15A",
                "#19D3F3",
                "#d3d3d3",
                "#ef553b"
               ]
              ],
              "values": [
               [
                134717774.414,
                380136.58599999547
               ],
               [
                10165540.08,
                10857932.45,
                9163159.886,
                100950609.118,
                983295,
                2597237.88,
                380136.58599999547
               ],
               [
                5706588.498,
                4817005.733,
                7756761.44,
                8672334.47,
                4270057.826,
                6853662.09,
                380136.58599999547
               ],
               [
                13969294.866,
                13899922.025,
                12724039.845,
                11595695.2,
                10065000.08,
                9361342.31,
                63102480.087999985,
                380136.58599999547
               ]
              ]
             },
             {
              "annotations[0].text": "Global",
              "annotations[1].text": "Semana : 66<br>Presupuesto Total : $135,097,911.00<br>Gasto Total : $134,717,774.41<br>Disponible : $380,136.59",
              "annotations[2].text": "Etapas",
              "annotations[3].text": "Semana : 66<br>Presupuesto Total : $135,097,911.00<br>DEVELOPMENT: $10,165,540.08<br>POST: $10,857,932.45<br>PREP: $9,163,159.89<br>SHOOT: $100,950,609.12<br>SOFT: $983,295.00<br>WRAP: $2,597,237.88<br>Disponible : $380,136.59",
              "annotations[4].text": "Departamento",
              "annotations[5].text": "Semana : 66<br>Presupuesto Total : $135,097,911.00<br>ANDA: $5,706,588.50<br>ARTE: $4,817,005.73<br>BALU: $7,756,761.44<br>DINAMITA: $8,672,334.47<br>LOCACIONES: $4,270,057.83<br>NOM: $6,853,662.09<br>Disponible : $380,136.59",
              "annotations[6].text": "Cuenta General",
              "annotations[7].text": "Semana : 66<br>Presupuesto Total : $135,097,911.00<br>7000: $13,969,294.87<br>1400: $13,899,922.03<br>3400: $12,724,039.85<br>3100: $11,595,695.20<br>1100: $10,065,000.08<br>1200: $9,361,342.31<br>Otros: $63,102,480.09<br>Disponible : $380,136.59",
              "title": "Presupuesto vs Gasto – Semana ≤ 66"
             }
            ],
            "label": "66",
            "method": "update"
           },
           {
            "args": [
             {
              "labels": [
               [
                "Presupuesto Agotado",
                "Excedente"
               ],
               [
                "DEVELOPMENT",
                "POST",
                "PREP (EXCESO)",
                "SHOOT (EXCESO)",
                "SOFT (EXCESO)",
                "WRAP",
                "Presupuesto Agotado",
                "Excedente"
               ],
               [
                "ANDA (EXCESO)",
                "ARTE",
                "BALU (EXCESO)",
                "DINAMITA",
                "LOCACIONES",
                "NOM",
                "Presupuesto Agotado",
                "Excedente"
               ],
               [
                "7000 (EXCESO)",
                "1400 (EXCESO)",
                "3400",
                "3100 (EXCESO)",
                "1100 (EXCESO)",
                "1200",
                "Otros (EXCESO)",
                "Presupuesto Agotado",
                "Excedente"
               ]
              ],
              "marker.colors": [
               [
                "#636efa",
                "#00cc96"
               ],
               [
                "#636EFA",
                "#EF553B",
                "#00CC96",
                "#AB63FA",
                "#FFA15A",
                "#19D3F3",
                "#636efa",
                "#00cc96"
               ],
               [
                "#1F77B4",
                "#FF7F0E",
                "#2CA02C",
                "#D62728",
                "#9467BD",
                "#8C564B",
                "#636efa",
                "#00cc96"
               ],
               [
                "#636EFA",
                "#EF553B",
                "#00CC96",
                "#AB63FA",
                "#FFA15A",
                "#19D3F3",
                "#d3d3d3",
                "#636efa",
                "#00cc96"
               ]
              ],
              "values": [
               [
                135097911,
                347713.41400000453
               ],
               [
                10165540.08,
                10857932.45,
                9163159.886,
                101678459.118,
                983295,
                2597237.88,
                0,
                347713.41400000453
               ],
               [
                5706588.498,
                4817005.733,
                7756761.44,
                8672334.47,
                4270057.826,
                6853662.09,
                0,
                347713.41400000453
               ],
               [
                13969294.866,
                13899922.025,
                12724039.845,
                11595695.2,
                10065000.08,
                9361342.31,
                63830330.087999985,
                0,
                347713.41400000453
               ]
              ]
             },
             {
              "annotations[0].text": "Global",
              "annotations[1].text": "Semana : 67<br>Presupuesto Total : $135,097,911.00<br>Gasto Total : $135,445,624.41<br>Excedido : $347,713.41",
              "annotations[2].text": "Etapas",
              "annotations[3].text": "Semana : 67<br>Presupuesto Total : $135,097,911.00<br>DEVELOPMENT: $10,165,540.08<br>POST: $10,857,932.45<br>PREP: $9,163,159.89<br>SHOOT: $101,678,459.12<br>SOFT: $983,295.00<br>WRAP: $2,597,237.88<br>Excedido : $347,713.41",
              "annotations[4].text": "Departamento",
              "annotations[5].text": "Semana : 67<br>Presupuesto Total : $135,097,911.00<br>ANDA: $5,706,588.50<br>ARTE: $4,817,005.73<br>BALU: $7,756,761.44<br>DINAMITA: $8,672,334.47<br>LOCACIONES: $4,270,057.83<br>NOM: $6,853,662.09<br>Excedido : $347,713.41",
              "annotations[6].text": "Cuenta General",
              "annotations[7].text": "Semana : 67<br>Presupuesto Total : $135,097,911.00<br>7000: $13,969,294.87<br>1400: $13,899,922.03<br>3400: $12,724,039.85<br>3100: $11,595,695.20<br>1100: $10,065,000.08<br>1200: $9,361,342.31<br>Otros: $63,830,330.09<br>Excedido : $347,713.41",
              "title": "Presupuesto vs Gasto – Semana ≤ 67"
             }
            ],
            "label": "67",
            "method": "update"
           },
           {
            "args": [
             {
              "labels": [
               [
                "Presupuesto Agotado",
                "Excedente"
               ],
               [
                "DEVELOPMENT",
                "POST",
                "PREP (EXCESO)",
                "SHOOT (EXCESO)",
                "SOFT (EXCESO)",
                "WRAP",
                "Presupuesto Agotado",
                "Excedente"
               ],
               [
                "ANDA (EXCESO)",
                "ARTE",
                "BALU (EXCESO)",
                "DINAMITA",
                "LOCACIONES",
                "NOM",
                "Presupuesto Agotado",
                "Excedente"
               ],
               [
                "7000 (EXCESO)",
                "1400 (EXCESO)",
                "3400",
                "3100 (EXCESO)",
                "1100 (EXCESO)",
                "1200",
                "Otros (EXCESO)",
                "Presupuesto Agotado",
                "Excedente"
               ]
              ],
              "marker.colors": [
               [
                "#636efa",
                "#00cc96"
               ],
               [
                "#636EFA",
                "#EF553B",
                "#00CC96",
                "#AB63FA",
                "#FFA15A",
                "#19D3F3",
                "#636efa",
                "#00cc96"
               ],
               [
                "#1F77B4",
                "#FF7F0E",
                "#2CA02C",
                "#D62728",
                "#9467BD",
                "#8C564B",
                "#636efa",
                "#00cc96"
               ],
               [
                "#636EFA",
                "#EF553B",
                "#00CC96",
                "#AB63FA",
                "#FFA15A",
                "#19D3F3",
                "#d3d3d3",
                "#636efa",
                "#00cc96"
               ]
              ],
              "values": [
               [
                135097911,
                347713.41400000453
               ],
               [
                10165540.08,
                10857932.45,
                9163159.886,
                101678459.118,
                983295,
                2597237.88,
                0,
                347713.41400000453
               ],
               [
                5706588.498,
                4817005.733,
                7756761.44,
                8672334.47,
                4270057.826,
                6853662.09,
                0,
                347713.41400000453
               ],
               [
                13969294.866,
                13899922.025,
                12724039.845,
                11595695.2,
                10065000.08,
                9361342.31,
                63830330.087999985,
                0,
                347713.41400000453
               ]
              ]
             },
             {
              "annotations[0].text": "Global",
              "annotations[1].text": "Semana : Todas<br>Presupuesto Total : $135,097,911.00<br>Gasto Total : $135,445,624.41<br>Excedido : $347,713.41",
              "annotations[2].text": "Etapas",
              "annotations[3].text": "Semana : Todas<br>Presupuesto Total : $135,097,911.00<br>DEVELOPMENT: $10,165,540.08<br>POST: $10,857,932.45<br>PREP: $9,163,159.89<br>SHOOT: $101,678,459.12<br>SOFT: $983,295.00<br>WRAP: $2,597,237.88<br>Excedido : $347,713.41",
              "annotations[4].text": "Departamento",
              "annotations[5].text": "Semana : Todas<br>Presupuesto Total : $135,097,911.00<br>ANDA: $5,706,588.50<br>ARTE: $4,817,005.73<br>BALU: $7,756,761.44<br>DINAMITA: $8,672,334.47<br>LOCACIONES: $4,270,057.83<br>NOM: $6,853,662.09<br>Excedido : $347,713.41",
              "annotations[6].text": "Cuenta General",
              "annotations[7].text": "Semana : Todas<br>Presupuesto Total : $135,097,911.00<br>7000: $13,969,294.87<br>1400: $13,899,922.03<br>3400: $12,724,039.85<br>3100: $11,595,695.20<br>1100: $10,065,000.08<br>1200: $9,361,342.31<br>Otros: $63,830,330.09<br>Excedido : $347,713.41",
              "title": "Presupuesto vs Gasto – Todas las Semanas"
             }
            ],
            "label": "Todas",
            "method": "update"
           }
          ]
         }
        ],
        "template": {
         "data": {
          "bar": [
           {
            "error_x": {
             "color": "#2a3f5f"
            },
            "error_y": {
             "color": "#2a3f5f"
            },
            "marker": {
             "line": {
              "color": "#E5ECF6",
              "width": 0.5
             },
             "pattern": {
              "fillmode": "overlay",
              "size": 10,
              "solidity": 0.2
             }
            },
            "type": "bar"
           }
          ],
          "barpolar": [
           {
            "marker": {
             "line": {
              "color": "#E5ECF6",
              "width": 0.5
             },
             "pattern": {
              "fillmode": "overlay",
              "size": 10,
              "solidity": 0.2
             }
            },
            "type": "barpolar"
           }
          ],
          "carpet": [
           {
            "aaxis": {
             "endlinecolor": "#2a3f5f",
             "gridcolor": "white",
             "linecolor": "white",
             "minorgridcolor": "white",
             "startlinecolor": "#2a3f5f"
            },
            "baxis": {
             "endlinecolor": "#2a3f5f",
             "gridcolor": "white",
             "linecolor": "white",
             "minorgridcolor": "white",
             "startlinecolor": "#2a3f5f"
            },
            "type": "carpet"
           }
          ],
          "choropleth": [
           {
            "colorbar": {
             "outlinewidth": 0,
             "ticks": ""
            },
            "type": "choropleth"
           }
          ],
          "contour": [
           {
            "colorbar": {
             "outlinewidth": 0,
             "ticks": ""
            },
            "colorscale": [
             [
              0,
              "#0d0887"
             ],
             [
              0.1111111111111111,
              "#46039f"
             ],
             [
              0.2222222222222222,
              "#7201a8"
             ],
             [
              0.3333333333333333,
              "#9c179e"
             ],
             [
              0.4444444444444444,
              "#bd3786"
             ],
             [
              0.5555555555555556,
              "#d8576b"
             ],
             [
              0.6666666666666666,
              "#ed7953"
             ],
             [
              0.7777777777777778,
              "#fb9f3a"
             ],
             [
              0.8888888888888888,
              "#fdca26"
             ],
             [
              1,
              "#f0f921"
             ]
            ],
            "type": "contour"
           }
          ],
          "contourcarpet": [
           {
            "colorbar": {
             "outlinewidth": 0,
             "ticks": ""
            },
            "type": "contourcarpet"
           }
          ],
          "heatmap": [
           {
            "colorbar": {
             "outlinewidth": 0,
             "ticks": ""
            },
            "colorscale": [
             [
              0,
              "#0d0887"
             ],
             [
              0.1111111111111111,
              "#46039f"
             ],
             [
              0.2222222222222222,
              "#7201a8"
             ],
             [
              0.3333333333333333,
              "#9c179e"
             ],
             [
              0.4444444444444444,
              "#bd3786"
             ],
             [
              0.5555555555555556,
              "#d8576b"
             ],
             [
              0.6666666666666666,
              "#ed7953"
             ],
             [
              0.7777777777777778,
              "#fb9f3a"
             ],
             [
              0.8888888888888888,
              "#fdca26"
             ],
             [
              1,
              "#f0f921"
             ]
            ],
            "type": "heatmap"
           }
          ],
          "histogram": [
           {
            "marker": {
             "pattern": {
              "fillmode": "overlay",
              "size": 10,
              "solidity": 0.2
             }
            },
            "type": "histogram"
           }
          ],
          "histogram2d": [
           {
            "colorbar": {
             "outlinewidth": 0,
             "ticks": ""
            },
            "colorscale": [
             [
              0,
              "#0d0887"
             ],
             [
              0.1111111111111111,
              "#46039f"
             ],
             [
              0.2222222222222222,
              "#7201a8"
             ],
             [
              0.3333333333333333,
              "#9c179e"
             ],
             [
              0.4444444444444444,
              "#bd3786"
             ],
             [
              0.5555555555555556,
              "#d8576b"
             ],
             [
              0.6666666666666666,
              "#ed7953"
             ],
             [
              0.7777777777777778,
              "#fb9f3a"
             ],
             [
              0.8888888888888888,
              "#fdca26"
             ],
             [
              1,
              "#f0f921"
             ]
            ],
            "type": "histogram2d"
           }
          ],
          "histogram2dcontour": [
           {
            "colorbar": {
             "outlinewidth": 0,
             "ticks": ""
            },
            "colorscale": [
             [
              0,
              "#0d0887"
             ],
             [
              0.1111111111111111,
              "#46039f"
             ],
             [
              0.2222222222222222,
              "#7201a8"
             ],
             [
              0.3333333333333333,
              "#9c179e"
             ],
             [
              0.4444444444444444,
              "#bd3786"
             ],
             [
              0.5555555555555556,
              "#d8576b"
             ],
             [
              0.6666666666666666,
              "#ed7953"
             ],
             [
              0.7777777777777778,
              "#fb9f3a"
             ],
             [
              0.8888888888888888,
              "#fdca26"
             ],
             [
              1,
              "#f0f921"
             ]
            ],
            "type": "histogram2dcontour"
           }
          ],
          "mesh3d": [
           {
            "colorbar": {
             "outlinewidth": 0,
             "ticks": ""
            },
            "type": "mesh3d"
           }
          ],
          "parcoords": [
           {
            "line": {
             "colorbar": {
              "outlinewidth": 0,
              "ticks": ""
             }
            },
            "type": "parcoords"
           }
          ],
          "pie": [
           {
            "automargin": true,
            "type": "pie"
           }
          ],
          "scatter": [
           {
            "fillpattern": {
             "fillmode": "overlay",
             "size": 10,
             "solidity": 0.2
            },
            "type": "scatter"
           }
          ],
          "scatter3d": [
           {
            "line": {
             "colorbar": {
              "outlinewidth": 0,
              "ticks": ""
             }
            },
            "marker": {
             "colorbar": {
              "outlinewidth": 0,
              "ticks": ""
             }
            },
            "type": "scatter3d"
           }
          ],
          "scattercarpet": [
           {
            "marker": {
             "colorbar": {
              "outlinewidth": 0,
              "ticks": ""
             }
            },
            "type": "scattercarpet"
           }
          ],
          "scattergeo": [
           {
            "marker": {
             "colorbar": {
              "outlinewidth": 0,
              "ticks": ""
             }
            },
            "type": "scattergeo"
           }
          ],
          "scattergl": [
           {
            "marker": {
             "colorbar": {
              "outlinewidth": 0,
              "ticks": ""
             }
            },
            "type": "scattergl"
           }
          ],
          "scattermap": [
           {
            "marker": {
             "colorbar": {
              "outlinewidth": 0,
              "ticks": ""
             }
            },
            "type": "scattermap"
           }
          ],
          "scattermapbox": [
           {
            "marker": {
             "colorbar": {
              "outlinewidth": 0,
              "ticks": ""
             }
            },
            "type": "scattermapbox"
           }
          ],
          "scatterpolar": [
           {
            "marker": {
             "colorbar": {
              "outlinewidth": 0,
              "ticks": ""
             }
            },
            "type": "scatterpolar"
           }
          ],
          "scatterpolargl": [
           {
            "marker": {
             "colorbar": {
              "outlinewidth": 0,
              "ticks": ""
             }
            },
            "type": "scatterpolargl"
           }
          ],
          "scatterternary": [
           {
            "marker": {
             "colorbar": {
              "outlinewidth": 0,
              "ticks": ""
             }
            },
            "type": "scatterternary"
           }
          ],
          "surface": [
           {
            "colorbar": {
             "outlinewidth": 0,
             "ticks": ""
            },
            "colorscale": [
             [
              0,
              "#0d0887"
             ],
             [
              0.1111111111111111,
              "#46039f"
             ],
             [
              0.2222222222222222,
              "#7201a8"
             ],
             [
              0.3333333333333333,
              "#9c179e"
             ],
             [
              0.4444444444444444,
              "#bd3786"
             ],
             [
              0.5555555555555556,
              "#d8576b"
             ],
             [
              0.6666666666666666,
              "#ed7953"
             ],
             [
              0.7777777777777778,
              "#fb9f3a"
             ],
             [
              0.8888888888888888,
              "#fdca26"
             ],
             [
              1,
              "#f0f921"
             ]
            ],
            "type": "surface"
           }
          ],
          "table": [
           {
            "cells": {
             "fill": {
              "color": "#EBF0F8"
             },
             "line": {
              "color": "white"
             }
            },
            "header": {
             "fill": {
              "color": "#C8D4E3"
             },
             "line": {
              "color": "white"
             }
            },
            "type": "table"
           }
          ]
         },
         "layout": {
          "annotationdefaults": {
           "arrowcolor": "#2a3f5f",
           "arrowhead": 0,
           "arrowwidth": 1
          },
          "autotypenumbers": "strict",
          "coloraxis": {
           "colorbar": {
            "outlinewidth": 0,
            "ticks": ""
           }
          },
          "colorscale": {
           "diverging": [
            [
             0,
             "#8e0152"
            ],
            [
             0.1,
             "#c51b7d"
            ],
            [
             0.2,
             "#de77ae"
            ],
            [
             0.3,
             "#f1b6da"
            ],
            [
             0.4,
             "#fde0ef"
            ],
            [
             0.5,
             "#f7f7f7"
            ],
            [
             0.6,
             "#e6f5d0"
            ],
            [
             0.7,
             "#b8e186"
            ],
            [
             0.8,
             "#7fbc41"
            ],
            [
             0.9,
             "#4d9221"
            ],
            [
             1,
             "#276419"
            ]
           ],
           "sequential": [
            [
             0,
             "#0d0887"
            ],
            [
             0.1111111111111111,
             "#46039f"
            ],
            [
             0.2222222222222222,
             "#7201a8"
            ],
            [
             0.3333333333333333,
             "#9c179e"
            ],
            [
             0.4444444444444444,
             "#bd3786"
            ],
            [
             0.5555555555555556,
             "#d8576b"
            ],
            [
             0.6666666666666666,
             "#ed7953"
            ],
            [
             0.7777777777777778,
             "#fb9f3a"
            ],
            [
             0.8888888888888888,
             "#fdca26"
            ],
            [
             1,
             "#f0f921"
            ]
           ],
           "sequentialminus": [
            [
             0,
             "#0d0887"
            ],
            [
             0.1111111111111111,
             "#46039f"
            ],
            [
             0.2222222222222222,
             "#7201a8"
            ],
            [
             0.3333333333333333,
             "#9c179e"
            ],
            [
             0.4444444444444444,
             "#bd3786"
            ],
            [
             0.5555555555555556,
             "#d8576b"
            ],
            [
             0.6666666666666666,
             "#ed7953"
            ],
            [
             0.7777777777777778,
             "#fb9f3a"
            ],
            [
             0.8888888888888888,
             "#fdca26"
            ],
            [
             1,
             "#f0f921"
            ]
           ]
          },
          "colorway": [
           "#636efa",
           "#EF553B",
           "#00cc96",
           "#ab63fa",
           "#FFA15A",
           "#19d3f3",
           "#FF6692",
           "#B6E880",
           "#FF97FF",
           "#FECB52"
          ],
          "font": {
           "color": "#2a3f5f"
          },
          "geo": {
           "bgcolor": "white",
           "lakecolor": "white",
           "landcolor": "#E5ECF6",
           "showlakes": true,
           "showland": true,
           "subunitcolor": "white"
          },
          "hoverlabel": {
           "align": "left"
          },
          "hovermode": "closest",
          "mapbox": {
           "style": "light"
          },
          "paper_bgcolor": "white",
          "plot_bgcolor": "#E5ECF6",
          "polar": {
           "angularaxis": {
            "gridcolor": "white",
            "linecolor": "white",
            "ticks": ""
           },
           "bgcolor": "#E5ECF6",
           "radialaxis": {
            "gridcolor": "white",
            "linecolor": "white",
            "ticks": ""
           }
          },
          "scene": {
           "xaxis": {
            "backgroundcolor": "#E5ECF6",
            "gridcolor": "white",
            "gridwidth": 2,
            "linecolor": "white",
            "showbackground": true,
            "ticks": "",
            "zerolinecolor": "white"
           },
           "yaxis": {
            "backgroundcolor": "#E5ECF6",
            "gridcolor": "white",
            "gridwidth": 2,
            "linecolor": "white",
            "showbackground": true,
            "ticks": "",
            "zerolinecolor": "white"
           },
           "zaxis": {
            "backgroundcolor": "#E5ECF6",
            "gridcolor": "white",
            "gridwidth": 2,
            "linecolor": "white",
            "showbackground": true,
            "ticks": "",
            "zerolinecolor": "white"
           }
          },
          "shapedefaults": {
           "line": {
            "color": "#2a3f5f"
           }
          },
          "ternary": {
           "aaxis": {
            "gridcolor": "white",
            "linecolor": "white",
            "ticks": ""
           },
           "baxis": {
            "gridcolor": "white",
            "linecolor": "white",
            "ticks": ""
           },
           "bgcolor": "#E5ECF6",
           "caxis": {
            "gridcolor": "white",
            "linecolor": "white",
            "ticks": ""
           }
          },
          "title": {
           "x": 0.05
          },
          "xaxis": {
           "automargin": true,
           "gridcolor": "white",
           "linecolor": "white",
           "ticks": "",
           "title": {
            "standoff": 15
           },
           "zerolinecolor": "white",
           "zerolinewidth": 2
          },
          "yaxis": {
           "automargin": true,
           "gridcolor": "white",
           "linecolor": "white",
           "ticks": "",
           "title": {
            "standoff": 15
           },
           "zerolinecolor": "white",
           "zerolinewidth": 2
          }
         }
        },
        "title": {
         "text": "Presupuesto vs Gasto – Global"
        },
        "updatemenus": [
         {
          "active": 0,
          "buttons": [
           {
            "args": [
             {
              "visible": [
               true,
               false,
               false,
               false
              ]
             },
             {
              "annotations": [
               {
                "font_size": 20,
                "showarrow": false,
                "text": "Global",
                "visible": true,
                "x": 0.5,
                "y": 0.5
               },
               {
                "align": "left",
                "font_size": 14,
                "showarrow": false,
                "text": "Semana : 0<br>Presupuesto Total : $135,097,911.00<br>Gasto Total : $0.00<br>Disponible : $135,097,911.00",
                "visible": true,
                "x": -0.25,
                "xanchor": "left",
                "y": 0.5,
                "yanchor": "middle"
               },
               {
                "font_size": 20,
                "showarrow": false,
                "text": "Etapas",
                "visible": false,
                "x": 0.5,
                "y": 0.5
               },
               {
                "align": "left",
                "font_size": 14,
                "showarrow": false,
                "text": "Semana : 0<br>Presupuesto Total : $135,097,911.00<br>DEVELOPMENT: $0.00<br>POST: $0.00<br>PREP: $0.00<br>SHOOT: $0.00<br>SOFT: $0.00<br>WRAP: $0.00<br>Disponible : $135,097,911.00",
                "visible": false,
                "x": -0.25,
                "xanchor": "left",
                "y": 0.5,
                "yanchor": "middle"
               },
               {
                "font_size": 20,
                "showarrow": false,
                "text": "Departamento",
                "visible": false,
                "x": 0.5,
                "y": 0.5
               },
               {
                "align": "left",
                "font_size": 14,
                "showarrow": false,
                "text": "Semana : 0<br>Presupuesto Total : $135,097,911.00<br>ANDA: $0.00<br>ARTE: $0.00<br>BALU: $0.00<br>DINAMITA: $0.00<br>LOCACIONES: $0.00<br>NOM: $0.00<br>Disponible : $135,097,911.00",
                "visible": false,
                "x": -0.25,
                "xanchor": "left",
                "y": 0.5,
                "yanchor": "middle"
               },
               {
                "font_size": 20,
                "showarrow": false,
                "text": "Cuenta General",
                "visible": false,
                "x": 0.5,
                "y": 0.5
               },
               {
                "align": "left",
                "font_size": 14,
                "showarrow": false,
                "text": "Semana : 0<br>Presupuesto Total : $135,097,911.00<br>1100: $0.00<br>1200: $0.00<br>1300: $0.00<br>1400: $0.00<br>1600: $0.00<br>2000: $0.00<br>Otros: $0.00<br>Disponible : $135,097,911.00",
                "visible": false,
                "x": -0.25,
                "xanchor": "left",
                "y": 0.5,
                "yanchor": "middle"
               }
              ],
              "title": "Presupuesto vs Gasto – Global"
             }
            ],
            "label": "Global",
            "method": "update"
           },
           {
            "args": [
             {
              "visible": [
               false,
               true,
               false,
               false
              ]
             },
             {
              "annotations": [
               {
                "font_size": 20,
                "showarrow": false,
                "text": "Global",
                "visible": false,
                "x": 0.5,
                "y": 0.5
               },
               {
                "align": "left",
                "font_size": 14,
                "showarrow": false,
                "text": "Semana : 0<br>Presupuesto Total : $135,097,911.00<br>Gasto Total : $0.00<br>Disponible : $135,097,911.00",
                "visible": false,
                "x": -0.25,
                "xanchor": "left",
                "y": 0.5,
                "yanchor": "middle"
               },
               {
                "font_size": 20,
                "showarrow": false,
                "text": "Etapas",
                "visible": true,
                "x": 0.5,
                "y": 0.5
               },
               {
                "align": "left",
                "font_size": 14,
                "showarrow": false,
                "text": "Semana : 0<br>Presupuesto Total : $135,097,911.00<br>DEVELOPMENT: $0.00<br>POST: $0.00<br>PREP: $0.00<br>SHOOT: $0.00<br>SOFT: $0.00<br>WRAP: $0.00<br>Disponible : $135,097,911.00",
                "visible": true,
                "x": -0.25,
                "xanchor": "left",
                "y": 0.5,
                "yanchor": "middle"
               },
               {
                "font_size": 20,
                "showarrow": false,
                "text": "Departamento",
                "visible": false,
                "x": 0.5,
                "y": 0.5
               },
               {
                "align": "left",
                "font_size": 14,
                "showarrow": false,
                "text": "Semana : 0<br>Presupuesto Total : $135,097,911.00<br>ANDA: $0.00<br>ARTE: $0.00<br>BALU: $0.00<br>DINAMITA: $0.00<br>LOCACIONES: $0.00<br>NOM: $0.00<br>Disponible : $135,097,911.00",
                "visible": false,
                "x": -0.25,
                "xanchor": "left",
                "y": 0.5,
                "yanchor": "middle"
               },
               {
                "font_size": 20,
                "showarrow": false,
                "text": "Cuenta General",
                "visible": false,
                "x": 0.5,
                "y": 0.5
               },
               {
                "align": "left",
                "font_size": 14,
                "showarrow": false,
                "text": "Semana : 0<br>Presupuesto Total : $135,097,911.00<br>1100: $0.00<br>1200: $0.00<br>1300: $0.00<br>1400: $0.00<br>1600: $0.00<br>2000: $0.00<br>Otros: $0.00<br>Disponible : $135,097,911.00",
                "visible": false,
                "x": -0.25,
                "xanchor": "left",
                "y": 0.5,
                "yanchor": "middle"
               }
              ],
              "title": "Presupuesto vs Gasto – Etapa"
             }
            ],
            "label": "Etapa",
            "method": "update"
           },
           {
            "args": [
             {
              "visible": [
               false,
               false,
               true,
               false
              ]
             },
             {
              "annotations": [
               {
                "font_size": 20,
                "showarrow": false,
                "text": "Global",
                "visible": false,
                "x": 0.5,
                "y": 0.5
               },
               {
                "align": "left",
                "font_size": 14,
                "showarrow": false,
                "text": "Semana : 0<br>Presupuesto Total : $135,097,911.00<br>Gasto Total : $0.00<br>Disponible : $135,097,911.00",
                "visible": false,
                "x": -0.25,
                "xanchor": "left",
                "y": 0.5,
                "yanchor": "middle"
               },
               {
                "font_size": 20,
                "showarrow": false,
                "text": "Etapas",
                "visible": false,
                "x": 0.5,
                "y": 0.5
               },
               {
                "align": "left",
                "font_size": 14,
                "showarrow": false,
                "text": "Semana : 0<br>Presupuesto Total : $135,097,911.00<br>DEVELOPMENT: $0.00<br>POST: $0.00<br>PREP: $0.00<br>SHOOT: $0.00<br>SOFT: $0.00<br>WRAP: $0.00<br>Disponible : $135,097,911.00",
                "visible": false,
                "x": -0.25,
                "xanchor": "left",
                "y": 0.5,
                "yanchor": "middle"
               },
               {
                "font_size": 20,
                "showarrow": false,
                "text": "Departamento",
                "visible": true,
                "x": 0.5,
                "y": 0.5
               },
               {
                "align": "left",
                "font_size": 14,
                "showarrow": false,
                "text": "Semana : 0<br>Presupuesto Total : $135,097,911.00<br>ANDA: $0.00<br>ARTE: $0.00<br>BALU: $0.00<br>DINAMITA: $0.00<br>LOCACIONES: $0.00<br>NOM: $0.00<br>Disponible : $135,097,911.00",
                "visible": true,
                "x": -0.25,
                "xanchor": "left",
                "y": 0.5,
                "yanchor": "middle"
               },
               {
                "font_size": 20,
                "showarrow": false,
                "text": "Cuenta General",
                "visible": false,
                "x": 0.5,
                "y": 0.5
               },
               {
                "align": "left",
                "font_size": 14,
                "showarrow": false,
                "text": "Semana : 0<br>Presupuesto Total : $135,097,911.00<br>1100: $0.00<br>1200: $0.00<br>1300: $0.00<br>1400: $0.00<br>1600: $0.00<br>2000: $0.00<br>Otros: $0.00<br>Disponible : $135,097,911.00",
                "visible": false,
                "x": -0.25,
                "xanchor": "left",
                "y": 0.5,
                "yanchor": "middle"
               }
              ],
              "title": "Presupuesto vs Gasto – Departamento"
             }
            ],
            "label": "Departamento",
            "method": "update"
           },
           {
            "args": [
             {
              "visible": [
               false,
               false,
               false,
               true
              ]
             },
             {
              "annotations": [
               {
                "font_size": 20,
                "showarrow": false,
                "text": "Global",
                "visible": false,
                "x": 0.5,
                "y": 0.5
               },
               {
                "align": "left",
                "font_size": 14,
                "showarrow": false,
                "text": "Semana : 0<br>Presupuesto Total : $135,097,911.00<br>Gasto Total : $0.00<br>Disponible : $135,097,911.00",
                "visible": false,
                "x": -0.25,
                "xanchor": "left",
                "y": 0.5,
                "yanchor": "middle"
               },
               {
                "font_size": 20,
                "showarrow": false,
                "text": "Etapas",
                "visible": false,
                "x": 0.5,
                "y": 0.5
               },
               {
                "align": "left",
                "font_size": 14,
                "showarrow": false,
                "text": "Semana : 0<br>Presupuesto Total : $135,097,911.00<br>DEVELOPMENT: $0.00<br>POST: $0.00<br>PREP: $0.00<br>SHOOT: $0.00<br>SOFT: $0.00<br>WRAP: $0.00<br>Disponible : $135,097,911.00",
                "visible": false,
                "x": -0.25,
                "xanchor": "left",
                "y": 0.5,
                "yanchor": "middle"
               },
               {
                "font_size": 20,
                "showarrow": false,
                "text": "Departamento",
                "visible": false,
                "x": 0.5,
                "y": 0.5
               },
               {
                "align": "left",
                "font_size": 14,
                "showarrow": false,
                "text": "Semana : 0<br>Presupuesto Total : $135,097,911.00<br>ANDA: $0.00<br>ARTE: $0.00<br>BALU: $0.00<br>DINAMITA: $0.00<br>LOCACIONES: $0.00<br>NOM: $0.00<br>Disponible : $135,097,911.00",
                "visible": false,
                "x": -0.25,
                "xanchor": "left",
                "y": 0.5,
                "yanchor": "middle"
               },
               {
                "font_size": 20,
                "showarrow": false,
                "text": "Cuenta General",
                "visible": true,
                "x": 0.5,
                "y": 0.5
               },
               {
                "align": "left",
                "font_size": 14,
                "showarrow": false,
                "text": "Semana : 0<br>Presupuesto Total : $135,097,911.00<br>1100: $0.00<br>1200: $0.00<br>1300: $0.00<br>1400: $0.00<br>1600: $0.00<br>2000: $0.00<br>Otros: $0.00<br>Disponible : $135,097,911.00",
                "visible": true,
                "x": -0.25,
                "xanchor": "left",
                "y": 0.5,
                "yanchor": "middle"
               }
              ],
              "title": "Presupuesto vs Gasto – Cuenta General"
             }
            ],
            "label": "Cuenta General",
            "method": "update"
           }
          ],
          "x": 0,
          "xanchor": "left",
          "y": 1.15,
          "yanchor": "top"
         }
        ]
       }
      }
     },
     "metadata": {},
     "output_type": "display_data"
    }
   ],
   "source": [
    "# 1. Totales rápidos para verificar en consola\n",
    "suma_budget_final     = df_cost_data_validado[\"BUDGET\"].sum()\n",
    "suma_cost_total_final = df_cost_data_validado[\"Cost_Total\"].sum()\n",
    "print(\"🔍 Totales finales:\")\n",
    "print(f\"  Presupuesto Total   : {suma_budget_final:,.2f}\")\n",
    "print(f\"  Presupuesto Gastado : {suma_cost_total_final:,.2f}\")\n",
    "\n",
    "# 2. Calculamos “Semana” (cada 7 días → 1 semana) y “Sin Semana Asignada”\n",
    "df = df_cost_data_validado.copy()\n",
    "df[\"Semana\"] = df[\"FECHA_NUM_LIMPIA\"].dropna().astype(int) // 7\n",
    "df[\"Semana\"] = df[\"Semana\"].astype(\"Int64\")\n",
    "df[\"SemanaCat\"] = df[\"Semana\"].astype(str).fillna(\"Sin Semana Asignada\")\n",
    "\n",
    "# 3. Rango de semanas (0 … max_week) + índice extra para “Todas las Semanas”\n",
    "max_week = int(df[\"Semana\"].dropna().max()) if not df[\"Semana\"].dropna().empty else 0\n",
    "\n",
    "# 4. Presupuesto global\n",
    "budget_total = df[\"BUDGET\"].sum()\n",
    "\n",
    "# 5. Presupuesto por dimensión\n",
    "budget_by_etapa = df.groupby(\"Etapa Normalizada\")[\"BUDGET\"].sum().to_dict()\n",
    "budget_by_dep   = df.groupby(\"Sección\")[\"BUDGET\"].sum().to_dict()\n",
    "budget_by_cg    = df.groupby(\"Cuenta General\")[\"BUDGET\"].sum().to_dict()\n",
    "\n",
    "# 6. Gasto acumulado por semana (Global)\n",
    "spent_cum_total = {}\n",
    "for w in range(0, max_week + 1):\n",
    "    segmento = df[((df[\"Semana\"].notna()) & (df[\"Semana\"] <= w)) | (df[\"Semana\"].isna())]\n",
    "    spent_cum_total[w] = segmento[\"Cost_Total\"].sum()\n",
    "# Índice “Todas las Semanas” = max_week + 1\n",
    "spent_cum_total[max_week + 1] = df[\"Cost_Total\"].sum()\n",
    "\n",
    "# 7. Función: gasto acumulado por dimensión “dim_col” hasta la semana w\n",
    "def spent_cum_by_dim(dim_col, w):\n",
    "    segmento = df[((df[\"Semana\"].notna()) & (df[\"Semana\"] <= w)) | (df[\"Semana\"].isna())]\n",
    "    return segmento.groupby(dim_col)[\"Cost_Total\"].sum().to_dict()\n",
    "\n",
    "# 8. Categorías ordenadas (Etapas y Departamentos)\n",
    "cats_etapa = sorted(budget_by_etapa.keys())\n",
    "cats_dep   = sorted(budget_by_dep.keys())\n",
    "\n",
    "# 9. Paletas de color para Etapa y Departamento\n",
    "paleta_etapas = px.colors.qualitative.Plotly\n",
    "colors_etapas = [paleta_etapas[i % len(paleta_etapas)] for i in range(len(cats_etapa))]\n",
    "\n",
    "paleta_dep = px.colors.qualitative.D3\n",
    "colors_dep = [paleta_dep[i % len(paleta_dep)] for i in range(len(cats_dep))]\n",
    "\n",
    "# 10. Creamos la figura vacía\n",
    "fig = go.Figure()\n",
    "\n",
    "# ============================================================\n",
    "# 10.1. TRAZO GLOBAL inicial (w0 = 0)\n",
    "# ============================================================\n",
    "w0 = 0\n",
    "spent0_total = spent_cum_total[w0]\n",
    "\n",
    "if spent0_total <= budget_total:\n",
    "    labels_g0 = [\"Gastado\", \"Disponible\"]\n",
    "    vals_g0   = [spent0_total, budget_total - spent0_total]\n",
    "    colors_g0 = [\"#636efa\", \"#ef553b\"]\n",
    "    # Texto de Global en w0\n",
    "    txt_g0_0 = \"Global\"\n",
    "    txt_g0_1 = (\n",
    "        f\"Semana : {w0}<br>\"\n",
    "        f\"Presupuesto Total : ${budget_total:,.2f}<br>\"\n",
    "        f\"Gasto Total : ${spent0_total:,.2f}<br>\"\n",
    "        f\"Disponible : ${budget_total - spent0_total:,.2f}\"\n",
    "    )\n",
    "else:\n",
    "    exced0 = spent0_total - budget_total\n",
    "    labels_g0 = [\"Presupuesto Agotado\", \"Excedente\"]\n",
    "    vals_g0   = [budget_total, exced0]\n",
    "    colors_g0 = [\"#636efa\", \"#00cc96\"]\n",
    "    txt_g0_0 = \"Global\"\n",
    "    txt_g0_1 = (\n",
    "        f\"Semana : {w0}<br>\"\n",
    "        f\"Presupuesto Total : ${budget_total:,.2f}<br>\"\n",
    "        f\"Gasto Total : ${spent0_total:,.2f}<br>\"\n",
    "        f\"Excedido : ${exced0:,.2f}\"\n",
    "    )\n",
    "\n",
    "fig.add_trace(\n",
    "    go.Pie(\n",
    "        labels=labels_g0,\n",
    "        values=vals_g0,\n",
    "        name=\"Global\",\n",
    "        hole=0.5,\n",
    "        sort=False,\n",
    "        textinfo=\"label+percent\",\n",
    "        marker=dict(colors=colors_g0, line=dict(color=\"#FFFFFF\", width=2)),\n",
    "        visible=True,\n",
    "        domain={\"x\": [0, 1], \"y\": [0, 1]}\n",
    "    )\n",
    ")\n",
    "\n",
    "# ============================================================\n",
    "# 10.2. TRAZO ETAPA inicial (w0 = 0)\n",
    "# ============================================================\n",
    "spent0_etapa = spent_cum_by_dim(\"Etapa Normalizada\", w0)\n",
    "labels_e0 = []\n",
    "vals_e0   = []\n",
    "for etapa in cats_etapa:\n",
    "    spent_e = spent0_etapa.get(etapa, 0.0)\n",
    "    budget_e = budget_by_etapa.get(etapa, 0.0)\n",
    "    etiqueta = etapa\n",
    "    if spent_e > budget_e:\n",
    "        etiqueta += \" (EXCESO)\"\n",
    "    labels_e0.append(etiqueta)\n",
    "    vals_e0.append(spent_e)\n",
    "\n",
    "if spent0_total <= budget_total:\n",
    "    labels_e0 = labels_e0 + [\"Disponible\"]\n",
    "    vals_e0   = vals_e0 + [budget_total - spent0_total]\n",
    "    colors_e0 = colors_etapas + [\"#ef553b\"]\n",
    "    txt_e0_0 = \"Etapas\"\n",
    "    txt_e0_1 = (\n",
    "        f\"Semana : {w0}<br>\"\n",
    "        f\"Presupuesto Total : ${budget_total:,.2f}<br>\"\n",
    "        + \"\".join([f\"{e_nm}: ${spent0_etapa.get(e_nm,0.0):,.2f}<br>\" for e_nm in cats_etapa]) +\n",
    "        f\"Disponible : ${budget_total - spent0_total:,.2f}\"\n",
    "    )\n",
    "else:\n",
    "    exced0 = spent0_total - budget_total\n",
    "    labels_e0 = labels_e0 + [\"Presupuesto Agotado\", \"Excedente\"]\n",
    "    vals_e0   = vals_e0 + [0, exced0]\n",
    "    colors_e0 = colors_etapas + [\"#636efa\", \"#00cc96\"]\n",
    "    txt_e0_0 = \"Etapas\"\n",
    "    txt_e0_1 = (\n",
    "        f\"Semana : {w0}<br>\"\n",
    "        f\"Presupuesto Total : ${budget_total:,.2f}<br>\"\n",
    "        + \"\".join([f\"{e_nm}: ${spent0_etapa.get(e_nm,0.0):,.2f}<br>\" for e_nm in cats_etapa]) +\n",
    "        f\"Excedido : ${exced0:,.2f}\"\n",
    "    )\n",
    "\n",
    "fig.add_trace(\n",
    "    go.Pie(\n",
    "        labels=labels_e0,\n",
    "        values=vals_e0,\n",
    "        name=\"Etapa\",\n",
    "        hole=0.5,\n",
    "        sort=False,\n",
    "        textinfo=\"label+percent\",\n",
    "        marker=dict(colors=colors_e0, line=dict(color=\"#FFFFFF\", width=2)),\n",
    "        visible=False,\n",
    "        domain={\"x\": [0, 1], \"y\": [0, 1]}\n",
    "    )\n",
    ")\n",
    "\n",
    "# ============================================================\n",
    "# 10.3. TRAZO DEPARTAMENTO inicial (w0 = 0)\n",
    "# ============================================================\n",
    "spent0_dep = spent_cum_by_dim(\"Sección\", w0)\n",
    "labels_d0 = []\n",
    "vals_d0   = []\n",
    "for dep in cats_dep:\n",
    "    spent_d = spent0_dep.get(dep, 0.0)\n",
    "    budget_d = budget_by_dep.get(dep, 0.0)\n",
    "    etiqueta = dep\n",
    "    if spent_d > budget_d:\n",
    "        etiqueta += \" (EXCESO)\"\n",
    "    labels_d0.append(etiqueta)\n",
    "    vals_d0.append(spent_d)\n",
    "\n",
    "if spent0_total <= budget_total:\n",
    "    labels_d0 = labels_d0 + [\"Disponible\"]\n",
    "    vals_d0   = vals_d0 + [budget_total - spent0_total]\n",
    "    colors_d0 = colors_dep + [\"#ef553b\"]\n",
    "    txt_d0_0 = \"Departamento\"\n",
    "    txt_d0_1 = (\n",
    "        f\"Semana : {w0}<br>\"\n",
    "        f\"Presupuesto Total : ${budget_total:,.2f}<br>\"\n",
    "        + \"\".join([f\"{d_nm}: ${spent0_dep.get(d_nm,0.0):,.2f}<br>\" for d_nm in cats_dep]) +\n",
    "        f\"Disponible : ${budget_total - spent0_total:,.2f}\"\n",
    "    )\n",
    "else:\n",
    "    exced0 = spent0_total - budget_total\n",
    "    labels_d0 = labels_d0 + [\"Presupuesto Agotado\", \"Excedente\"]\n",
    "    vals_d0   = vals_d0 + [0, exced0]\n",
    "    colors_d0 = colors_dep + [\"#636efa\", \"#00cc96\"]\n",
    "    txt_d0_0 = \"Departamento\"\n",
    "    txt_d0_1 = (\n",
    "        f\"Semana : {w0}<br>\"\n",
    "        f\"Presupuesto Total : ${budget_total:,.2f}<br>\"\n",
    "        + \"\".join([f\"{d_nm}: ${spent0_dep.get(d_nm,0.0):,.2f}<br>\" for d_nm in cats_dep]) +\n",
    "        f\"Excedido : ${exced0:,.2f}\"\n",
    "    )\n",
    "\n",
    "fig.add_trace(\n",
    "    go.Pie(\n",
    "        labels=labels_d0,\n",
    "        values=vals_d0,\n",
    "        name=\"Departamento\",\n",
    "        hole=0.5,\n",
    "        sort=False,\n",
    "        textinfo=\"label+percent\",\n",
    "        marker=dict(colors=colors_d0, line=dict(color=\"#FFFFFF\", width=2)),\n",
    "        visible=False,\n",
    "        domain={\"x\": [0, 1], \"y\": [0, 1]}\n",
    "    )\n",
    ")\n",
    "\n",
    "# ============================================================\n",
    "# 10.4. TRAZO CUENTA GENERAL inicial (w0 = 0) – Top 6 + “Otros”\n",
    "# ============================================================\n",
    "spent0_cg = spent_cum_by_dim(\"Cuenta General\", w0)\n",
    "cg_sorted = sorted(spent0_cg.items(), key=lambda x: x[1], reverse=True)\n",
    "top6_cg  = [x[0] for x in cg_sorted[:6]]\n",
    "otros_cg = [x[0] for x in cg_sorted[6:]]\n",
    "\n",
    "labels_cg0 = []\n",
    "vals_cg0   = []\n",
    "for cg_nm in top6_cg:\n",
    "    spent_c = spent0_cg.get(cg_nm, 0.0)\n",
    "    budget_c = budget_by_cg.get(cg_nm, 0.0)\n",
    "    etiqueta = cg_nm\n",
    "    if spent_c > budget_c:\n",
    "        etiqueta += \" (EXCESO)\"\n",
    "    labels_cg0.append(etiqueta)\n",
    "    vals_cg0.append(spent_c)\n",
    "\n",
    "sum_spent_otros0  = sum(spent0_cg[c] for c in otros_cg)\n",
    "sum_budget_otros0 = sum(budget_by_cg.get(c, 0.0) for c in otros_cg)\n",
    "etq_otros0 = \"Otros\"\n",
    "if sum_spent_otros0 > sum_budget_otros0:\n",
    "    etq_otros0 += \" (EXCESO)\"\n",
    "labels_cg0.append(etq_otros0)\n",
    "vals_cg0.append(sum_spent_otros0)\n",
    "\n",
    "if spent0_total <= budget_total:\n",
    "    labels_cg0 = labels_cg0 + [\"Disponible\"]\n",
    "    vals_cg0   = vals_cg0 + [budget_total - spent0_total]\n",
    "    paleta_cg  = px.colors.qualitative.Plotly\n",
    "    colors_cg0 = [paleta_cg[i % len(paleta_cg)] for i in range(len(top6_cg))] + [\"#d3d3d3\", \"#ef553b\"]\n",
    "    txt_cg0_0 = \"Cuenta General\"\n",
    "    txt_cg0_1 = (\n",
    "        f\"Semana : {w0}<br>\"\n",
    "        f\"Presupuesto Total : ${budget_total:,.2f}<br>\"\n",
    "        + \"\".join([f\"{cg_nm}: ${spent0_cg.get(cg_nm,0.0):,.2f}<br>\" for cg_nm in top6_cg]) +\n",
    "        f\"Otros: ${sum_spent_otros0:,.2f}<br>\"\n",
    "        f\"Disponible : ${budget_total - spent0_total:,.2f}\"\n",
    "    )\n",
    "else:\n",
    "    exced0 = spent0_total - budget_total\n",
    "    labels_cg0 = labels_cg0 + [\"Presupuesto Agotado\", \"Excedente\"]\n",
    "    vals_cg0   = vals_cg0 + [0, exced0]\n",
    "    paleta_cg  = px.colors.qualitative.Plotly\n",
    "    colors_cg0 = [paleta_cg[i % len(paleta_cg)] for i in range(len(top6_cg))] + [\"#d3d3d3\", \"#636efa\", \"#00cc96\"]\n",
    "    txt_cg0_0 = \"Cuenta General\"\n",
    "    txt_cg0_1 = (\n",
    "        f\"Semana : {w0}<br>\"\n",
    "        f\"Presupuesto Total : ${budget_total:,.2f}<br>\"\n",
    "        + \"\".join([f\"{cg_nm}: ${spent0_cg.get(cg_nm,0.0):,.2f}<br>\" for cg_nm in top6_cg]) +\n",
    "        f\"Otros: ${sum_spent_otros0:,.2f}<br>\"\n",
    "        f\"Excedido : ${exced0:,.2f}\"\n",
    "    )\n",
    "\n",
    "fig.add_trace(\n",
    "    go.Pie(\n",
    "        labels=labels_cg0,\n",
    "        values=vals_cg0,\n",
    "        name=\"Cuenta General\",\n",
    "        hole=0.5,\n",
    "        sort=False,\n",
    "        textinfo=\"label+percent\",\n",
    "        marker=dict(colors=colors_cg0, line=dict(color=\"#FFFFFF\", width=2)),\n",
    "        visible=False,\n",
    "        domain={\"x\": [0, 1], \"y\": [0, 1]}\n",
    "    )\n",
    ")\n",
    "\n",
    "# ============================================================\n",
    "# 11. DEFINICIÓN DE LAS 8 anotaciones “fijas” (dos por dimensión)\n",
    "#    indices: 0–1 = Global, 2–3 = Etapa, 4–5 = Departamento, 6–7 = Cuenta General\n",
    "# ============================================================\n",
    "annotations = [\n",
    "    # 0: Global – Título central\n",
    "    dict(text=txt_g0_0, x=0.5, y=0.5, font_size=20, showarrow=False, visible=True),\n",
    "    # 1: Global – Texto informativo izquierda\n",
    "    dict(text=txt_g0_1, x=-0.25, y=0.5, xanchor=\"left\", yanchor=\"middle\",align=\"left\", font_size=14, showarrow=False, visible=True),\n",
    "    # 2: Etapa – Título central (invisible al inicio)\n",
    "    dict(text=txt_e0_0, x=0.5, y=0.5, font_size=20, showarrow=False, visible=False),\n",
    "    # 3: Etapa – Texto informativo izquierda (invisible al inicio)\n",
    "    dict(text=txt_e0_1, x=-0.25, y=0.5, xanchor=\"left\", yanchor=\"middle\",align=\"left\", font_size=14, showarrow=False, visible=False),\n",
    "    # 4: Departamento – Título central (invisible al inicio)\n",
    "    dict(text=txt_d0_0, x=0.5, y=0.5, font_size=20, showarrow=False, visible=False),\n",
    "    # 5: Departamento – Texto informativo izquierda (invisible al inicio)\n",
    "    dict(text=txt_d0_1, x=-0.25, y=0.5, xanchor=\"left\", yanchor=\"middle\",align=\"left\", font_size=14, showarrow=False, visible=False),\n",
    "    # 6: Cuenta General – Título central (invisible al inicio)\n",
    "    dict(text=txt_cg0_0, x=0.5, y=0.5, font_size=20, showarrow=False, visible=False),\n",
    "    # 7: Cuenta General – Texto informativo izquierda (invisible al inicio)\n",
    "    dict(text=txt_cg0_1, x=-0.25, y=0.5, xanchor=\"left\", yanchor=\"middle\",align=\"left\", font_size=14, showarrow=False, visible=False)\n",
    "]\n",
    "\n",
    "fig.update_layout(annotations=annotations)\n",
    "\n",
    "# ============================================================\n",
    "# 12. BOTONES DEL DROPDOWN (Global, Etapa, Departamento, Cuenta General)\n",
    "#    Cada botón: enciende su trazo y sus 2 anotaciones, apaga los demás.\n",
    "# ============================================================\n",
    "dropdown_buttons = []\n",
    "dims = [\"Global\", \"Etapa\", \"Departamento\", \"Cuenta General\"]\n",
    "for i, dim in enumerate(dims):\n",
    "    # Visible_ pies:\n",
    "    visible_traces = [False] * 4\n",
    "    visible_traces[i] = True\n",
    "\n",
    "    # Visible_ anotaciones (2 por dimensión)\n",
    "    visible_anns = [False] * 8\n",
    "    visible_anns[2*i]   = True    # título\n",
    "    visible_anns[2*i+1] = True    # texto informativo\n",
    "\n",
    "    dropdown_buttons.append({\n",
    "        \"label\": dim,\n",
    "        \"method\": \"update\",\n",
    "        \"args\": [\n",
    "            {\"visible\": visible_traces},\n",
    "            {\n",
    "                \"title\": f\"Presupuesto vs Gasto – {dim}\",\n",
    "                # Cambiamos sólo la propiedad “visible” de cada anotación\n",
    "                \"annotations\": [\n",
    "                    dict(annotation, visible=visible_anns[idx])\n",
    "                    for idx, annotation in enumerate(annotations)\n",
    "                ]\n",
    "            }\n",
    "        ]\n",
    "    })\n",
    "\n",
    "# ============================================================\n",
    "# 13. SLIDER DE SEMANAS (0 … max_week + “Todas”)\n",
    "#    Aquí: actualiza values, labels, colors, title y ANOTATIONS[].text\n",
    "# ============================================================\n",
    "slider_steps = []\n",
    "for w in range(0, max_week + 1):\n",
    "    # ----- 13.1. Global a semana w -----\n",
    "    spent_w_total = spent_cum_total[w]\n",
    "    if spent_w_total <= budget_total:\n",
    "        labels_g = [\"Gastado\", \"Disponible\"]\n",
    "        vals_g   = [spent_w_total, budget_total - spent_w_total]\n",
    "        colors_g = [\"#636efa\", \"#ef553b\"]\n",
    "        txt_g0 = \"Global\"\n",
    "        txt_g1 = (\n",
    "            f\"Semana : {w}<br>\"\n",
    "            f\"Presupuesto Total : ${budget_total:,.2f}<br>\"\n",
    "            f\"Gasto Total : ${spent_w_total:,.2f}<br>\"\n",
    "            f\"Disponible : ${budget_total - spent_w_total:,.2f}\"\n",
    "        )\n",
    "    else:\n",
    "        exced_w = spent_w_total - budget_total\n",
    "        labels_g = [\"Presupuesto Agotado\", \"Excedente\"]\n",
    "        vals_g   = [budget_total, exced_w]\n",
    "        colors_g = [\"#636efa\", \"#00cc96\"]\n",
    "        txt_g0 = \"Global\"\n",
    "        txt_g1 = (\n",
    "            f\"Semana : {w}<br>\"\n",
    "            f\"Presupuesto Total : ${budget_total:,.2f}<br>\"\n",
    "            f\"Gasto Total : ${spent_w_total:,.2f}<br>\"\n",
    "            f\"Excedido : ${exced_w:,.2f}\"\n",
    "        )\n",
    "\n",
    "    # ----- 13.2. Etapa a semana w -----\n",
    "    spent_w_etapa = spent_cum_by_dim(\"Etapa Normalizada\", w)\n",
    "    labels_e = []\n",
    "    vals_e   = []\n",
    "    for etapa in cats_etapa:\n",
    "        spent_e = spent_w_etapa.get(etapa, 0.0)\n",
    "        budget_e = budget_by_etapa.get(etapa, 0.0)\n",
    "        etiqueta = etapa\n",
    "        if spent_e > budget_e:\n",
    "            etiqueta += \" (EXCESO)\"\n",
    "        labels_e.append(etiqueta)\n",
    "        vals_e.append(spent_e)\n",
    "    if spent_w_total <= budget_total:\n",
    "        labels_e = labels_e + [\"Disponible\"]\n",
    "        vals_e   = vals_e + [budget_total - spent_w_total]\n",
    "        colors_e = colors_etapas + [\"#ef553b\"]\n",
    "        txt_e0 = \"Etapas\"\n",
    "        txt_e1 = (\n",
    "            f\"Semana : {w}<br>\"\n",
    "            f\"Presupuesto Total : ${budget_total:,.2f}<br>\"\n",
    "            + \"\".join([f\"{e_nm}: ${spent_w_etapa.get(e_nm,0.0):,.2f}<br>\" for e_nm in cats_etapa]) +\n",
    "            f\"Disponible : ${budget_total - spent_w_total:,.2f}\"\n",
    "        )\n",
    "    else:\n",
    "        exced_w = spent_w_total - budget_total\n",
    "        labels_e = labels_e + [\"Presupuesto Agotado\", \"Excedente\"]\n",
    "        vals_e   = vals_e + [0, exced_w]\n",
    "        colors_e = colors_etapas + [\"#636efa\", \"#00cc96\"]\n",
    "        txt_e0 = \"Etapas\"\n",
    "        txt_e1 = (\n",
    "            f\"Semana : {w}<br>\"\n",
    "            f\"Presupuesto Total : ${budget_total:,.2f}<br>\"\n",
    "            + \"\".join([f\"{e_nm}: ${spent_w_etapa.get(e_nm,0.0):,.2f}<br>\" for e_nm in cats_etapa]) +\n",
    "            f\"Excedido : ${exced_w:,.2f}\"\n",
    "        )\n",
    "\n",
    "    # ----- 13.3. Departamento a semana w -----\n",
    "    spent_w_dep = spent_cum_by_dim(\"Sección\", w)\n",
    "    labels_d = []\n",
    "    vals_d   = []\n",
    "    for dep in cats_dep:\n",
    "        spent_d = spent_w_dep.get(dep, 0.0)\n",
    "        budget_d = budget_by_dep.get(dep, 0.0)\n",
    "        etiqueta = dep\n",
    "        if spent_d > budget_d:\n",
    "            etiqueta += \" (EXCESO)\"\n",
    "        labels_d.append(etiqueta)\n",
    "        vals_d.append(spent_d)\n",
    "    if spent_w_total <= budget_total:\n",
    "        labels_d = labels_d + [\"Disponible\"]\n",
    "        vals_d   = vals_d + [budget_total - spent_w_total]\n",
    "        colors_d = colors_dep + [\"#ef553b\"]\n",
    "        txt_d0 = \"Departamento\"\n",
    "        txt_d1 = (\n",
    "            f\"Semana : {w}<br>\"\n",
    "            f\"Presupuesto Total : ${budget_total:,.2f}<br>\"\n",
    "            + \"\".join([f\"{d_nm}: ${spent_w_dep.get(d_nm,0.0):,.2f}<br>\" for d_nm in cats_dep]) +\n",
    "            f\"Disponible : ${budget_total - spent_w_total:,.2f}\"\n",
    "        )\n",
    "    else:\n",
    "        exced_w = spent_w_total - budget_total\n",
    "        labels_d = labels_d + [\"Presupuesto Agotado\", \"Excedente\"]\n",
    "        vals_d   = vals_d + [0, exced_w]\n",
    "        colors_d = colors_dep + [\"#636efa\", \"#00cc96\"]\n",
    "        txt_d0 = \"Departamento\"\n",
    "        txt_d1 = (\n",
    "            f\"Semana : {w}<br>\"\n",
    "            f\"Presupuesto Total : ${budget_total:,.2f}<br>\"\n",
    "            + \"\".join([f\"{d_nm}: ${spent_w_dep.get(d_nm,0.0):,.2f}<br>\" for d_nm in cats_dep]) +\n",
    "            f\"Excedido : ${exced_w:,.2f}\"\n",
    "        )\n",
    "\n",
    "    # ----- 13.4. Cuenta General a semana w (Top 6 + “Otros”) -----\n",
    "    spent_w_cg = spent_cum_by_dim(\"Cuenta General\", w)\n",
    "    cg_sorted_w = sorted(spent_w_cg.items(), key=lambda x: x[1], reverse=True)\n",
    "    top6_w  = [x[0] for x in cg_sorted_w[:6]]\n",
    "    otros_w = [x[0] for x in cg_sorted_w[6:]]\n",
    "    labels_cg = []\n",
    "    vals_cg   = []\n",
    "    for cg_nm in top6_w:\n",
    "        spent_c = spent_w_cg.get(cg_nm, 0.0)\n",
    "        budget_c = budget_by_cg.get(cg_nm, 0.0)\n",
    "        etiqueta = cg_nm\n",
    "        if spent_c > budget_c:\n",
    "            etiqueta += \" (EXCESO)\"\n",
    "        labels_cg.append(etiqueta)\n",
    "        vals_cg.append(spent_c)\n",
    "    sum_spent_otros = sum(spent_w_cg[c] for c in otros_w)\n",
    "    sum_budget_otros = sum(budget_by_cg.get(c, 0.0) for c in otros_w)\n",
    "    etq_otros = \"Otros\"\n",
    "    if sum_spent_otros > sum_budget_otros:\n",
    "        etq_otros += \" (EXCESO)\"\n",
    "    labels_cg.append(etq_otros)\n",
    "    vals_cg.append(sum_spent_otros)\n",
    "\n",
    "    if spent_w_total <= budget_total:\n",
    "        labels_cg = labels_cg + [\"Disponible\"]\n",
    "        vals_cg   = vals_cg + [budget_total - spent_w_total]\n",
    "        paleta_cg  = px.colors.qualitative.Plotly\n",
    "        colors_cg  = [paleta_cg[i % len(paleta_cg)] for i in range(len(top6_w))] + [\"#d3d3d3\", \"#ef553b\"]\n",
    "        txt_cg0 = \"Cuenta General\"\n",
    "        txt_cg1 = (\n",
    "            f\"Semana : {w}<br>\"\n",
    "            f\"Presupuesto Total : ${budget_total:,.2f}<br>\"\n",
    "            + \"\".join([f\"{cn}: ${spent_w_cg.get(cn,0.0):,.2f}<br>\" for cn in top6_w]) +\n",
    "            f\"Otros: ${sum_spent_otros:,.2f}<br>\"\n",
    "            f\"Disponible : ${budget_total - spent_w_total:,.2f}\"\n",
    "        )\n",
    "    else:\n",
    "        exced_w = spent_w_total - budget_total\n",
    "        labels_cg = labels_cg + [\"Presupuesto Agotado\", \"Excedente\"]\n",
    "        vals_cg   = vals_cg + [0, exced_w]\n",
    "        paleta_cg = px.colors.qualitative.Plotly\n",
    "        colors_cg = [paleta_cg[i % len(paleta_cg)] for i in range(len(top6_w))] + [\"#d3d3d3\", \"#636efa\", \"#00cc96\"]\n",
    "        txt_cg0 = \"Cuenta General\"\n",
    "        txt_cg1 = (\n",
    "            f\"Semana : {w}<br>\"\n",
    "            f\"Presupuesto Total : ${budget_total:,.2f}<br>\"\n",
    "            + \"\".join([f\"{cn}: ${spent_w_cg.get(cn,0.0):,.2f}<br>\" for cn in top6_w]) +\n",
    "            f\"Otros: ${sum_spent_otros:,.2f}<br>\"\n",
    "            f\"Excedido : ${exced_w:,.2f}\"\n",
    "        )\n",
    "\n",
    "    # ----- 13.5. Construcción del “step” para la semana = w -----\n",
    "    step = {\n",
    "        \"label\": f\"{w}\",\n",
    "        \"method\": \"update\",\n",
    "        \"args\": [\n",
    "            {\n",
    "                # Actualizamos los 4 “values” (Global, Etapa, Departamento, CG)\n",
    "                \"values\": [\n",
    "                    vals_g,    # trace 0\n",
    "                    vals_e,    # trace 1\n",
    "                    vals_d,    # trace 2\n",
    "                    vals_cg    # trace 3\n",
    "                ],\n",
    "                # Actualizamos las 4 “labels”\n",
    "                \"labels\": [\n",
    "                    labels_g,  # trace 0\n",
    "                    labels_e,  # trace 1\n",
    "                    labels_d,  # trace 2\n",
    "                    labels_cg  # trace 3\n",
    "                ],\n",
    "                # Actualizamos “marker.colors” de los 4 trazos\n",
    "                \"marker.colors\": [\n",
    "                    colors_g,  # trace 0\n",
    "                    colors_e,  # trace 1\n",
    "                    colors_d,  # trace 2\n",
    "                    colors_cg  # trace 3\n",
    "                ]\n",
    "            },\n",
    "            {\n",
    "                # Actualizamos el título y los textos de las anotaciones (txt_g0, txt_g1, etc.)\n",
    "                \"title\": f\"Presupuesto vs Gasto – Semana ≤ {w}\",\n",
    "                # Sólo cambiamos el .text de cada anotación, no tocamos .visible\n",
    "                \"annotations[0].text\": txt_g0,\n",
    "                \"annotations[1].text\": txt_g1,\n",
    "                \"annotations[2].text\": txt_e0,\n",
    "                \"annotations[3].text\": txt_e1,\n",
    "                \"annotations[4].text\": txt_d0,\n",
    "                \"annotations[5].text\": txt_d1,\n",
    "                \"annotations[6].text\": txt_cg0,\n",
    "                \"annotations[7].text\": txt_cg1\n",
    "            }\n",
    "        ]\n",
    "    }\n",
    "    slider_steps.append(step)\n",
    "\n",
    "# ------------------------------------------------------------\n",
    "# 13.b IS (max_week + 1) = “Todas las Semanas”\n",
    "# ------------------------------------------------------------\n",
    "w_all = max_week + 1\n",
    "spent_all_total = spent_cum_total[w_all]\n",
    "\n",
    "# – Global “Todas” –\n",
    "if spent_all_total <= budget_total:\n",
    "    labels_g_all = [\"Gastado\", \"Disponible\"]\n",
    "    vals_g_all   = [spent_all_total, budget_total - spent_all_total]\n",
    "    colors_g_all = [\"#636efa\", \"#ef553b\"]\n",
    "    txt_g0_all = \"Global\"\n",
    "    txt_g1_all = (\n",
    "        f\"Semana : Todas<br>\"\n",
    "        f\"Presupuesto Total : ${budget_total:,.2f}<br>\"\n",
    "        f\"Gasto Total : ${spent_all_total:,.2f}<br>\"\n",
    "        f\"Disponible : ${budget_total - spent_all_total:,.2f}\"\n",
    "    )\n",
    "else:\n",
    "    exced_all    = spent_all_total - budget_total\n",
    "    labels_g_all = [\"Presupuesto Agotado\", \"Excedente\"]\n",
    "    vals_g_all   = [budget_total, exced_all]\n",
    "    colors_g_all = [\"#636efa\", \"#00cc96\"]\n",
    "    txt_g0_all = \"Global\"\n",
    "    txt_g1_all = (\n",
    "        f\"Semana : Todas<br>\"\n",
    "        f\"Presupuesto Total : ${budget_total:,.2f}<br>\"\n",
    "        f\"Gasto Total : ${spent_all_total:,.2f}<br>\"\n",
    "        f\"Excedido : ${exced_all:,.2f}\"\n",
    "    )\n",
    "\n",
    "# – Etapa “Todas” –\n",
    "spent_all_etapa = spent_cum_by_dim(\"Etapa Normalizada\", w_all)\n",
    "labels_e_all = []\n",
    "vals_e_all   = []\n",
    "for etapa in cats_etapa:\n",
    "    spent_e = spent_all_etapa.get(etapa, 0.0)\n",
    "    budget_e = budget_by_etapa.get(etapa, 0.0)\n",
    "    etiqueta = etapa\n",
    "    if spent_e > budget_e:\n",
    "        etiqueta += \" (EXCESO)\"\n",
    "    labels_e_all.append(etiqueta)\n",
    "    vals_e_all.append(spent_e)\n",
    "if spent_all_total <= budget_total:\n",
    "    labels_e_all = labels_e_all + [\"Disponible\"]\n",
    "    vals_e_all   = vals_e_all + [budget_total - spent_all_total]\n",
    "    colors_e_all = colors_etapas + [\"#ef553b\"]\n",
    "    txt_e0_all = \"Etapas\"\n",
    "    txt_e1_all = (\n",
    "        f\"Semana : Todas<br>\"\n",
    "        f\"Presupuesto Total : ${budget_total:,.2f}<br>\"\n",
    "        + \"\".join([f\"{e_nm}: ${spent_all_etapa.get(e_nm,0.0):,.2f}<br>\" for e_nm in cats_etapa]) +\n",
    "        f\"Disponible : ${budget_total - spent_all_total:,.2f}\"\n",
    "    )\n",
    "else:\n",
    "    exced_all   = spent_all_total - budget_total\n",
    "    labels_e_all = labels_e_all + [\"Presupuesto Agotado\", \"Excedente\"]\n",
    "    vals_e_all   = vals_e_all + [0, exced_all]\n",
    "    colors_e_all = colors_etapas + [\"#636efa\", \"#00cc96\"]\n",
    "    txt_e0_all = \"Etapas\"\n",
    "    txt_e1_all = (\n",
    "        f\"Semana : Todas<br>\"\n",
    "        f\"Presupuesto Total : ${budget_total:,.2f}<br>\"\n",
    "        + \"\".join([f\"{e_nm}: ${spent_all_etapa.get(e_nm,0.0):,.2f}<br>\" for e_nm in cats_etapa]) +\n",
    "        f\"Excedido : ${exced_all:,.2f}\"\n",
    "    )\n",
    "\n",
    "# – Departamento “Todas” –\n",
    "spent_all_dep = spent_cum_by_dim(\"Sección\", w_all)\n",
    "labels_d_all = []\n",
    "vals_d_all   = []\n",
    "for dep in cats_dep:\n",
    "    spent_d = spent_all_dep.get(dep, 0.0)\n",
    "    budget_d = budget_by_dep.get(dep, 0.0)\n",
    "    etiqueta = dep\n",
    "    if spent_d > budget_d:\n",
    "        etiqueta += \" (EXCESO)\"\n",
    "    labels_d_all.append(etiqueta)\n",
    "    vals_d_all.append(spent_d)\n",
    "if spent_all_total <= budget_total:\n",
    "    labels_d_all = labels_d_all + [\"Disponible\"]\n",
    "    vals_d_all   = vals_d_all + [budget_total - spent_all_total]\n",
    "    colors_d_all = colors_dep + [\"#ef553b\"]\n",
    "    txt_d0_all = \"Departamento\"\n",
    "    txt_d1_all = (\n",
    "        f\"Semana : Todas<br>\"\n",
    "        f\"Presupuesto Total : ${budget_total:,.2f}<br>\"\n",
    "        + \"\".join([f\"{d_nm}: ${spent_all_dep.get(d_nm,0.0):,.2f}<br>\" for d_nm in cats_dep]) +\n",
    "        f\"Disponible : ${budget_total - spent_all_total:,.2f}\"\n",
    "    )\n",
    "else:\n",
    "    exced_all   = spent_all_total - budget_total\n",
    "    labels_d_all = labels_d_all + [\"Presupuesto Agotado\", \"Excedente\"]\n",
    "    vals_d_all   = vals_d_all + [0, exced_all]\n",
    "    colors_d_all = colors_dep + [\"#636efa\", \"#00cc96\"]\n",
    "    txt_d0_all = \"Departamento\"\n",
    "    txt_d1_all = (\n",
    "        f\"Semana : Todas<br>\"\n",
    "        f\"Presupuesto Total : ${budget_total:,.2f}<br>\"\n",
    "        + \"\".join([f\"{d_nm}: ${spent_all_dep.get(d_nm,0.0):,.2f}<br>\" for d_nm in cats_dep]) +\n",
    "        f\"Excedido : ${exced_all:,.2f}\"\n",
    "    )\n",
    "\n",
    "# – Cuenta General “Todas” –\n",
    "spent_all_cg = spent_cum_by_dim(\"Cuenta General\", w_all)\n",
    "cg_sorted_all = sorted(spent_all_cg.items(), key=lambda x: x[1], reverse=True)\n",
    "top6_all  = [x[0] for x in cg_sorted_all[:6]]\n",
    "otros_all = [x[0] for x in cg_sorted_all[6:]]\n",
    "\n",
    "labels_cg_all = []\n",
    "vals_cg_all   = []\n",
    "for cg_nm in top6_all:\n",
    "    spent_c  = spent_all_cg.get(cg_nm, 0.0)\n",
    "    budget_c = budget_by_cg.get(cg_nm, 0.0)\n",
    "    etiqueta = cg_nm\n",
    "    if spent_c > budget_c:\n",
    "        etiqueta += \" (EXCESO)\"\n",
    "    labels_cg_all.append(etiqueta)\n",
    "    vals_cg_all.append(spent_c)\n",
    "\n",
    "sum_spent_otros_all  = sum(spent_all_cg[c] for c in otros_all)\n",
    "sum_budget_otros_all = sum(budget_by_cg.get(c, 0.0) for c in otros_all)\n",
    "etq_otros_all = \"Otros\"\n",
    "if sum_spent_otros_all > sum_budget_otros_all:\n",
    "    etq_otros_all += \" (EXCESO)\"\n",
    "labels_cg_all.append(etq_otros_all)\n",
    "vals_cg_all.append(sum_spent_otros_all)\n",
    "\n",
    "if spent_all_total <= budget_total:\n",
    "    labels_cg_all = labels_cg_all + [\"Disponible\"]\n",
    "    vals_cg_all   = vals_cg_all + [budget_total - spent_all_total]\n",
    "    paleta_cg     = px.colors.qualitative.Plotly\n",
    "    colors_cg_all = [paleta_cg[i % len(paleta_cg)] for i in range(len(top6_all))] + [\"#d3d3d3\", \"#ef553b\"]\n",
    "    txt_cg0_all = \"Cuenta General\"\n",
    "    txt_cg1_all = (\n",
    "        f\"Semana : Todas<br>\"\n",
    "        f\"Presupuesto Total : ${budget_total:,.2f}<br>\"\n",
    "        + \"\".join([f\"{cn}: ${spent_all_cg.get(cn,0.0):,.2f}<br>\" for cn in top6_all]) +\n",
    "        f\"Otros: ${sum_spent_otros_all:,.2f}<br>\"\n",
    "        f\"Disponible : ${budget_total - spent_all_total:,.2f}\"\n",
    "    )\n",
    "else:\n",
    "    exced_all   = spent_all_total - budget_total\n",
    "    labels_cg_all = labels_cg_all + [\"Presupuesto Agotado\", \"Excedente\"]\n",
    "    vals_cg_all   = vals_cg_all + [0, exced_all]\n",
    "    paleta_cg     = px.colors.qualitative.Plotly\n",
    "    colors_cg_all = [paleta_cg[i % len(paleta_cg)] for i in range(len(top6_all))] + [\"#d3d3d3\", \"#636efa\", \"#00cc96\"]\n",
    "    txt_cg0_all = \"Cuenta General\"\n",
    "    txt_cg1_all = (\n",
    "        f\"Semana : Todas<br>\"\n",
    "        f\"Presupuesto Total : ${budget_total:,.2f}<br>\"\n",
    "        + \"\".join([f\"{cn}: ${spent_all_cg.get(cn,0.0):,.2f}<br>\" for cn in top6_all]) +\n",
    "        f\"Otros: ${sum_spent_otros_all:,.2f}<br>\"\n",
    "        f\"Excedido : ${exced_all:,.2f}\"\n",
    "    )\n",
    "\n",
    "step_all = {\n",
    "    \"label\": \"Todas\",\n",
    "    \"method\": \"update\",\n",
    "    \"args\": [\n",
    "        {\n",
    "            \"values\": [\n",
    "                vals_g_all,   # trace 0 = Global\n",
    "                vals_e_all,   # trace 1 = Etapa\n",
    "                vals_d_all,   # trace 2 = Departamento\n",
    "                vals_cg_all   # trace 3 = Cuenta General\n",
    "            ],\n",
    "            \"labels\": [\n",
    "                labels_g_all,   # trace 0\n",
    "                labels_e_all,   # trace 1\n",
    "                labels_d_all,   # trace 2\n",
    "                labels_cg_all   # trace 3\n",
    "            ],\n",
    "            \"marker.colors\": [\n",
    "                colors_g_all,   # trace 0\n",
    "                colors_e_all,   # trace 1\n",
    "                colors_d_all,   # trace 2\n",
    "                colors_cg_all   # trace 3\n",
    "            ]\n",
    "        },\n",
    "        {\n",
    "            \"title\": \"Presupuesto vs Gasto – Todas las Semanas\",\n",
    "            # Sólo actualizamos .text de cada anotación, NO tocamos visible:\n",
    "            \"annotations[0].text\": txt_g0_all,\n",
    "            \"annotations[1].text\": txt_g1_all,\n",
    "            \"annotations[2].text\": txt_e0_all,\n",
    "            \"annotations[3].text\": txt_e1_all,\n",
    "            \"annotations[4].text\": txt_d0_all,\n",
    "            \"annotations[5].text\": txt_d1_all,\n",
    "            \"annotations[6].text\": txt_cg0_all,\n",
    "            \"annotations[7].text\": txt_cg1_all\n",
    "        }\n",
    "    ]\n",
    "}\n",
    "slider_steps.append(step_all)\n",
    "\n",
    "# ============================================================\n",
    "# 14. CONFIGURAR LAYOUT con DROPDOWN + SLIDER\n",
    "# ============================================================\n",
    "fig.update_layout(\n",
    "    title=\"Presupuesto vs Gasto – Global\",\n",
    "    showlegend=True,\n",
    "    updatemenus=[{\n",
    "        \"active\": 0,\n",
    "        \"buttons\": dropdown_buttons,\n",
    "        \"x\": 0.0,\n",
    "        \"y\": 1.15,\n",
    "        \"xanchor\": \"left\",\n",
    "        \"yanchor\": \"top\"\n",
    "    }],\n",
    "    sliders=[{\n",
    "        \"active\": 0,\n",
    "        \"pad\": {\"t\": 50},\n",
    "        \"currentvalue\": {\"prefix\": \"Semana ≤ \"},\n",
    "        \"steps\": slider_steps\n",
    "    }],\n",
    "    annotations=annotations   # Lista inicial de 8 anotaciones\n",
    ")\n",
    "\n",
    "# 15. Mostrar la figura interactiva\n",
    "pio.show(fig)\n"
   ]
  },
  {
   "cell_type": "markdown",
   "id": "40598518",
   "metadata": {},
   "source": [
    "## Conclusión Final\n",
    "El análisis presupuestal y financiero permitió identificar patrones clave en el comportamiento del gasto a lo largo del proyecto. A partir de las tres hipótesis evaluadas, se comprobó que la etapa SHOOT fue la más crítica en términos de control presupuestal, presentando el mayor sobregasto incluso después de aplicar mecanismos de ahorro. Esto refuerza la importancia de implementar medidas preventivas y de seguimiento más estrictas en etapas operativas complejas.\n",
    "\n",
    "Asimismo, se confirmó que la etapa SOFT no generó ahorros debido a la composición de sus cuentas, predominantemente del tipo Below the Line, las cuales mostraron poca capacidad de ahorro en todas las etapas. Esto resalta la necesidad de diversificar el tipo de cuentas o replantear la asignación presupuestal para mejorar la eficiencia.\n",
    "\n",
    "Finalmente, aunque se observó una relación parcial entre el tipo de cuenta y su comportamiento (ahorro, neutralidad o sobregasto), esta se encuentra condicionada por la frecuencia de aparición de cada tipo, especialmente Below the Line. Por lo tanto, cualquier estrategia basada en tipos de cuenta debe considerar su volumen y distribución real.\n",
    "\n",
    "La visualización interactiva del presupuesto vs gasto aportó una herramienta clave para el seguimiento y control, permitiendo observar desviaciones en tiempo real y adaptarse a las condiciones del proyecto. Su utilidad radica en su capacidad para mostrar información a diferentes niveles (global, por etapa o por cuenta), facilitando la toma de decisiones informadas y oportunas.\n",
    "\n",
    "En conjunto, estos hallazgos y herramientas ofrecen un panorama claro sobre la ejecución del presupuesto, sugiriendo que un monitoreo continuo y segmentado es fundamental para mejorar el desempeño financiero de futuras producciones.\n",
    "\n"
   ]
  }
 ],
 "metadata": {
  "kernelspec": {
   "display_name": "AnalisdeDatos",
   "language": "python",
   "name": "python3"
  },
  "language_info": {
   "codemirror_mode": {
    "name": "ipython",
    "version": 3
   },
   "file_extension": ".py",
   "mimetype": "text/x-python",
   "name": "python",
   "nbconvert_exporter": "python",
   "pygments_lexer": "ipython3",
   "version": "3.11.11"
  }
 },
 "nbformat": 4,
 "nbformat_minor": 5
}
