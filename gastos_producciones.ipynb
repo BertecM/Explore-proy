{
 "cells": [
  {
   "cell_type": "markdown",
   "metadata": {},
   "source": [
    "# Proyecto \n"
   ]
  },
  {
   "cell_type": "code",
   "execution_count": 17,
   "metadata": {},
   "outputs": [],
   "source": [
    "import pandas as pd\n",
    "\n",
    "#carga de los datos del archivo excel xlsx \n",
    "df = pd.read_excel('pf excel.xlsx')\n",
    "\n",
    "#mostar los datos de la hoja 1\n",
    "df = pd.read_excel('pf excel.xlsx', sheet_name='Sheet1')\n",
    "\n"
   ]
  },
  {
   "cell_type": "code",
   "execution_count": 18,
   "metadata": {},
   "outputs": [],
   "source": [
    "#definir los datos de la hoja 2\n",
    "af = pd.read_excel('pf excel.xlsx', sheet_name='Sheet2')\n"
   ]
  },
  {
   "cell_type": "markdown",
   "metadata": {},
   "source": [
    "### DESCRIPACIÓN DE DATOS E INSPECCIÓN"
   ]
  },
  {
   "cell_type": "code",
   "execution_count": 19,
   "metadata": {},
   "outputs": [
    {
     "name": "stdout",
     "output_type": "stream",
     "text": [
      "<class 'pandas.core.frame.DataFrame'>\n",
      "RangeIndex: 45 entries, 0 to 44\n",
      "Data columns (total 3 columns):\n",
      " #   Column        Non-Null Count  Dtype  \n",
      "---  ------        --------------  -----  \n",
      " 0   DEPARTAMENTO  39 non-null     object \n",
      " 1   PRESUPUESTO   33 non-null     float64\n",
      " 2   GASTO         33 non-null     float64\n",
      "dtypes: float64(2), object(1)\n",
      "memory usage: 1.2+ KB\n",
      "<class 'pandas.core.frame.DataFrame'>\n",
      "RangeIndex: 78 entries, 0 to 77\n",
      "Data columns (total 4 columns):\n",
      " #   Column        Non-Null Count  Dtype         \n",
      "---  ------        --------------  -----         \n",
      " 0   FECHA         78 non-null     datetime64[ns]\n",
      " 1   DEPARTAMENTO  78 non-null     object        \n",
      " 2   UNIDAD ESP.   78 non-null     object        \n",
      " 3   GASTO         78 non-null     float64       \n",
      "dtypes: datetime64[ns](1), float64(1), object(2)\n",
      "memory usage: 2.6+ KB\n"
     ]
    },
    {
     "data": {
      "text/html": [
       "<div>\n",
       "<style scoped>\n",
       "    .dataframe tbody tr th:only-of-type {\n",
       "        vertical-align: middle;\n",
       "    }\n",
       "\n",
       "    .dataframe tbody tr th {\n",
       "        vertical-align: top;\n",
       "    }\n",
       "\n",
       "    .dataframe thead th {\n",
       "        text-align: right;\n",
       "    }\n",
       "</style>\n",
       "<table border=\"1\" class=\"dataframe\">\n",
       "  <thead>\n",
       "    <tr style=\"text-align: right;\">\n",
       "      <th></th>\n",
       "      <th>FECHA</th>\n",
       "      <th>GASTO</th>\n",
       "    </tr>\n",
       "  </thead>\n",
       "  <tbody>\n",
       "    <tr>\n",
       "      <th>count</th>\n",
       "      <td>78</td>\n",
       "      <td>78.000000</td>\n",
       "    </tr>\n",
       "    <tr>\n",
       "      <th>mean</th>\n",
       "      <td>2025-01-17 05:50:46.153846272</td>\n",
       "      <td>100702.505000</td>\n",
       "    </tr>\n",
       "    <tr>\n",
       "      <th>min</th>\n",
       "      <td>2024-11-11 00:00:00</td>\n",
       "      <td>7936.585800</td>\n",
       "    </tr>\n",
       "    <tr>\n",
       "      <th>25%</th>\n",
       "      <td>2024-12-07 12:00:00</td>\n",
       "      <td>35979.450450</td>\n",
       "    </tr>\n",
       "    <tr>\n",
       "      <th>50%</th>\n",
       "      <td>2025-01-06 12:00:00</td>\n",
       "      <td>77955.434550</td>\n",
       "    </tr>\n",
       "    <tr>\n",
       "      <th>75%</th>\n",
       "      <td>2025-02-26 00:00:00</td>\n",
       "      <td>161589.158800</td>\n",
       "    </tr>\n",
       "    <tr>\n",
       "      <th>max</th>\n",
       "      <td>2025-04-16 00:00:00</td>\n",
       "      <td>383093.240400</td>\n",
       "    </tr>\n",
       "    <tr>\n",
       "      <th>std</th>\n",
       "      <td>NaN</td>\n",
       "      <td>78820.645872</td>\n",
       "    </tr>\n",
       "  </tbody>\n",
       "</table>\n",
       "</div>"
      ],
      "text/plain": [
       "                               FECHA          GASTO\n",
       "count                             78      78.000000\n",
       "mean   2025-01-17 05:50:46.153846272  100702.505000\n",
       "min              2024-11-11 00:00:00    7936.585800\n",
       "25%              2024-12-07 12:00:00   35979.450450\n",
       "50%              2025-01-06 12:00:00   77955.434550\n",
       "75%              2025-02-26 00:00:00  161589.158800\n",
       "max              2025-04-16 00:00:00  383093.240400\n",
       "std                              NaN   78820.645872"
      ]
     },
     "execution_count": 19,
     "metadata": {},
     "output_type": "execute_result"
    }
   ],
   "source": [
    "df.shape         # Tamaño del dataframe (filas, columnas)\n",
    "df.columns       # Nombres de columnas\n",
    "df.info()        # Tipos de datos y valores nulos\n",
    "df.describe()    # Estadísticas para columnas numéricas\n",
    "\n",
    "af.shape         \n",
    "af.columns       \n",
    "af.info()        \n",
    "af.describe()    "
   ]
  },
  {
   "cell_type": "markdown",
   "metadata": {},
   "source": [
    "### LIMPIEZA DE DATOS"
   ]
  },
  {
   "cell_type": "code",
   "execution_count": 23,
   "metadata": {},
   "outputs": [
    {
     "data": {
      "text/html": [
       "<div>\n",
       "<style scoped>\n",
       "    .dataframe tbody tr th:only-of-type {\n",
       "        vertical-align: middle;\n",
       "    }\n",
       "\n",
       "    .dataframe tbody tr th {\n",
       "        vertical-align: top;\n",
       "    }\n",
       "\n",
       "    .dataframe thead th {\n",
       "        text-align: right;\n",
       "    }\n",
       "</style>\n",
       "<table border=\"1\" class=\"dataframe\">\n",
       "  <thead>\n",
       "    <tr style=\"text-align: right;\">\n",
       "      <th></th>\n",
       "      <th>DEPARTAMENTO</th>\n",
       "      <th>PRESUPUESTO</th>\n",
       "      <th>GASTO</th>\n",
       "    </tr>\n",
       "  </thead>\n",
       "  <tbody>\n",
       "    <tr>\n",
       "      <th>0</th>\n",
       "      <td>Contratación</td>\n",
       "      <td>0.00</td>\n",
       "      <td>0.00</td>\n",
       "    </tr>\n",
       "    <tr>\n",
       "      <th>1</th>\n",
       "      <td>Eq. Reparto</td>\n",
       "      <td>681817.84</td>\n",
       "      <td>286542.84</td>\n",
       "    </tr>\n",
       "    <tr>\n",
       "      <th>2</th>\n",
       "      <td>Subtotal</td>\n",
       "      <td>681817.84</td>\n",
       "      <td>286542.84</td>\n",
       "    </tr>\n",
       "    <tr>\n",
       "      <th>4</th>\n",
       "      <td>Arte y Diseño</td>\n",
       "      <td>0.00</td>\n",
       "      <td>0.00</td>\n",
       "    </tr>\n",
       "    <tr>\n",
       "      <th>5</th>\n",
       "      <td>Eq, Caracterización</td>\n",
       "      <td>330920.06</td>\n",
       "      <td>124239.67</td>\n",
       "    </tr>\n",
       "    <tr>\n",
       "      <th>6</th>\n",
       "      <td>Eq. Escenografía</td>\n",
       "      <td>839837.97</td>\n",
       "      <td>657934.63</td>\n",
       "    </tr>\n",
       "    <tr>\n",
       "      <th>7</th>\n",
       "      <td>Eq. Música</td>\n",
       "      <td>414950.29</td>\n",
       "      <td>351484.28</td>\n",
       "    </tr>\n",
       "    <tr>\n",
       "      <th>8</th>\n",
       "      <td>Eq. Coreografía</td>\n",
       "      <td>680475.77</td>\n",
       "      <td>231954.70</td>\n",
       "    </tr>\n",
       "    <tr>\n",
       "      <th>9</th>\n",
       "      <td>Vestuario</td>\n",
       "      <td>869255.28</td>\n",
       "      <td>199356.44</td>\n",
       "    </tr>\n",
       "    <tr>\n",
       "      <th>10</th>\n",
       "      <td>Maquillaje</td>\n",
       "      <td>542888.94</td>\n",
       "      <td>312647.43</td>\n",
       "    </tr>\n",
       "    <tr>\n",
       "      <th>11</th>\n",
       "      <td>Peinado</td>\n",
       "      <td>317821.34</td>\n",
       "      <td>108871.82</td>\n",
       "    </tr>\n",
       "    <tr>\n",
       "      <th>12</th>\n",
       "      <td>Subtotal</td>\n",
       "      <td>3996149.65</td>\n",
       "      <td>1986488.97</td>\n",
       "    </tr>\n",
       "    <tr>\n",
       "      <th>14</th>\n",
       "      <td>Rec. Técnicos</td>\n",
       "      <td>0.00</td>\n",
       "      <td>0.00</td>\n",
       "    </tr>\n",
       "    <tr>\n",
       "      <th>15</th>\n",
       "      <td>Eq. Elécricos y maquinistas</td>\n",
       "      <td>465664.18</td>\n",
       "      <td>368173.56</td>\n",
       "    </tr>\n",
       "    <tr>\n",
       "      <th>16</th>\n",
       "      <td>Eq. Iluminación</td>\n",
       "      <td>252274.63</td>\n",
       "      <td>194479.00</td>\n",
       "    </tr>\n",
       "    <tr>\n",
       "      <th>17</th>\n",
       "      <td>Eq. Sonido Rodaje</td>\n",
       "      <td>109819.66</td>\n",
       "      <td>44869.37</td>\n",
       "    </tr>\n",
       "    <tr>\n",
       "      <th>18</th>\n",
       "      <td>Eq. Efectos Especiales</td>\n",
       "      <td>155297.06</td>\n",
       "      <td>36075.39</td>\n",
       "    </tr>\n",
       "    <tr>\n",
       "      <th>19</th>\n",
       "      <td>Eq. Efectos Digitales</td>\n",
       "      <td>497418.49</td>\n",
       "      <td>436205.33</td>\n",
       "    </tr>\n",
       "    <tr>\n",
       "      <th>20</th>\n",
       "      <td>Eq. Sonido Post</td>\n",
       "      <td>587339.87</td>\n",
       "      <td>566523.73</td>\n",
       "    </tr>\n",
       "    <tr>\n",
       "      <th>21</th>\n",
       "      <td>Eq Difusión Gráfica</td>\n",
       "      <td>382339.69</td>\n",
       "      <td>131535.02</td>\n",
       "    </tr>\n",
       "    <tr>\n",
       "      <th>22</th>\n",
       "      <td>Subtotal</td>\n",
       "      <td>2450153.58</td>\n",
       "      <td>1777861.40</td>\n",
       "    </tr>\n",
       "    <tr>\n",
       "      <th>24</th>\n",
       "      <td>Producción</td>\n",
       "      <td>0.00</td>\n",
       "      <td>0.00</td>\n",
       "    </tr>\n",
       "    <tr>\n",
       "      <th>25</th>\n",
       "      <td>Fotografía</td>\n",
       "      <td>477800.32</td>\n",
       "      <td>411075.85</td>\n",
       "    </tr>\n",
       "    <tr>\n",
       "      <th>26</th>\n",
       "      <td>Eq. Dirección</td>\n",
       "      <td>384647.12</td>\n",
       "      <td>174038.16</td>\n",
       "    </tr>\n",
       "    <tr>\n",
       "      <th>27</th>\n",
       "      <td>Eq. Producción</td>\n",
       "      <td>636536.90</td>\n",
       "      <td>68408.73</td>\n",
       "    </tr>\n",
       "    <tr>\n",
       "      <th>28</th>\n",
       "      <td>Eq. Locaciones</td>\n",
       "      <td>928874.45</td>\n",
       "      <td>105477.41</td>\n",
       "    </tr>\n",
       "    <tr>\n",
       "      <th>29</th>\n",
       "      <td>Distribución</td>\n",
       "      <td>671609.55</td>\n",
       "      <td>610143.01</td>\n",
       "    </tr>\n",
       "    <tr>\n",
       "      <th>30</th>\n",
       "      <td>Eq. Auxiliares</td>\n",
       "      <td>927395.53</td>\n",
       "      <td>81010.26</td>\n",
       "    </tr>\n",
       "    <tr>\n",
       "      <th>31</th>\n",
       "      <td>Subtotal</td>\n",
       "      <td>4026863.87</td>\n",
       "      <td>1450153.42</td>\n",
       "    </tr>\n",
       "    <tr>\n",
       "      <th>33</th>\n",
       "      <td>Creativo</td>\n",
       "      <td>0.00</td>\n",
       "      <td>0.00</td>\n",
       "    </tr>\n",
       "    <tr>\n",
       "      <th>34</th>\n",
       "      <td>Eq. Guión y adaptación</td>\n",
       "      <td>375721.47</td>\n",
       "      <td>293029.84</td>\n",
       "    </tr>\n",
       "    <tr>\n",
       "      <th>35</th>\n",
       "      <td>Editor</td>\n",
       "      <td>864296.47</td>\n",
       "      <td>736717.77</td>\n",
       "    </tr>\n",
       "    <tr>\n",
       "      <th>36</th>\n",
       "      <td>Subtotal</td>\n",
       "      <td>1240017.94</td>\n",
       "      <td>1029747.61</td>\n",
       "    </tr>\n",
       "    <tr>\n",
       "      <th>38</th>\n",
       "      <td>Logística</td>\n",
       "      <td>0.00</td>\n",
       "      <td>0.00</td>\n",
       "    </tr>\n",
       "    <tr>\n",
       "      <th>39</th>\n",
       "      <td>Ensamble y montaje</td>\n",
       "      <td>649375.68</td>\n",
       "      <td>504016.49</td>\n",
       "    </tr>\n",
       "    <tr>\n",
       "      <th>40</th>\n",
       "      <td>Eq. Inventario</td>\n",
       "      <td>679531.68</td>\n",
       "      <td>144538.80</td>\n",
       "    </tr>\n",
       "    <tr>\n",
       "      <th>41</th>\n",
       "      <td>Utilería</td>\n",
       "      <td>841562.56</td>\n",
       "      <td>675445.86</td>\n",
       "    </tr>\n",
       "    <tr>\n",
       "      <th>42</th>\n",
       "      <td>Subtotal</td>\n",
       "      <td>2170469.92</td>\n",
       "      <td>1324001.15</td>\n",
       "    </tr>\n",
       "    <tr>\n",
       "      <th>44</th>\n",
       "      <td>Total</td>\n",
       "      <td>14565472.80</td>\n",
       "      <td>7854795.39</td>\n",
       "    </tr>\n",
       "  </tbody>\n",
       "</table>\n",
       "</div>"
      ],
      "text/plain": [
       "                   DEPARTAMENTO  PRESUPUESTO       GASTO\n",
       "0                  Contratación         0.00        0.00\n",
       "1                   Eq. Reparto    681817.84   286542.84\n",
       "2                      Subtotal    681817.84   286542.84\n",
       "4                 Arte y Diseño         0.00        0.00\n",
       "5           Eq, Caracterización    330920.06   124239.67\n",
       "6              Eq. Escenografía    839837.97   657934.63\n",
       "7                    Eq. Música    414950.29   351484.28\n",
       "8               Eq. Coreografía    680475.77   231954.70\n",
       "9                     Vestuario    869255.28   199356.44\n",
       "10                   Maquillaje    542888.94   312647.43\n",
       "11                      Peinado    317821.34   108871.82\n",
       "12                     Subtotal   3996149.65  1986488.97\n",
       "14                Rec. Técnicos         0.00        0.00\n",
       "15  Eq. Elécricos y maquinistas    465664.18   368173.56\n",
       "16              Eq. Iluminación    252274.63   194479.00\n",
       "17            Eq. Sonido Rodaje    109819.66    44869.37\n",
       "18       Eq. Efectos Especiales    155297.06    36075.39\n",
       "19        Eq. Efectos Digitales    497418.49   436205.33\n",
       "20              Eq. Sonido Post    587339.87   566523.73\n",
       "21          Eq Difusión Gráfica    382339.69   131535.02\n",
       "22                     Subtotal   2450153.58  1777861.40\n",
       "24                   Producción         0.00        0.00\n",
       "25                   Fotografía    477800.32   411075.85\n",
       "26                Eq. Dirección    384647.12   174038.16\n",
       "27               Eq. Producción    636536.90    68408.73\n",
       "28               Eq. Locaciones    928874.45   105477.41\n",
       "29                 Distribución    671609.55   610143.01\n",
       "30               Eq. Auxiliares    927395.53    81010.26\n",
       "31                     Subtotal   4026863.87  1450153.42\n",
       "33                     Creativo         0.00        0.00\n",
       "34       Eq. Guión y adaptación    375721.47   293029.84\n",
       "35                       Editor    864296.47   736717.77\n",
       "36                     Subtotal   1240017.94  1029747.61\n",
       "38                    Logística         0.00        0.00\n",
       "39           Ensamble y montaje    649375.68   504016.49\n",
       "40               Eq. Inventario    679531.68   144538.80\n",
       "41                     Utilería    841562.56   675445.86\n",
       "42                     Subtotal   2170469.92  1324001.15\n",
       "44                        Total  14565472.80  7854795.39"
      ]
     },
     "metadata": {},
     "output_type": "display_data"
    },
    {
     "data": {
      "text/html": [
       "<div>\n",
       "<style scoped>\n",
       "    .dataframe tbody tr th:only-of-type {\n",
       "        vertical-align: middle;\n",
       "    }\n",
       "\n",
       "    .dataframe tbody tr th {\n",
       "        vertical-align: top;\n",
       "    }\n",
       "\n",
       "    .dataframe thead th {\n",
       "        text-align: right;\n",
       "    }\n",
       "</style>\n",
       "<table border=\"1\" class=\"dataframe\">\n",
       "  <thead>\n",
       "    <tr style=\"text-align: right;\">\n",
       "      <th></th>\n",
       "      <th>FECHA</th>\n",
       "      <th>DEPARTAMENTO</th>\n",
       "      <th>UNIDAD ESP.</th>\n",
       "      <th>GASTO</th>\n",
       "    </tr>\n",
       "  </thead>\n",
       "  <tbody>\n",
       "    <tr>\n",
       "      <th>0</th>\n",
       "      <td>2024-11-11</td>\n",
       "      <td>Producción</td>\n",
       "      <td>Eq. Auxiliares</td>\n",
       "      <td>42125.3352</td>\n",
       "    </tr>\n",
       "    <tr>\n",
       "      <th>1</th>\n",
       "      <td>2024-11-11</td>\n",
       "      <td>Producción</td>\n",
       "      <td>Eq. Auxiliares</td>\n",
       "      <td>20252.5650</td>\n",
       "    </tr>\n",
       "    <tr>\n",
       "      <th>2</th>\n",
       "      <td>2024-11-16</td>\n",
       "      <td>Arte y Diseño</td>\n",
       "      <td>Eq, Caracterización</td>\n",
       "      <td>64604.6284</td>\n",
       "    </tr>\n",
       "    <tr>\n",
       "      <th>3</th>\n",
       "      <td>2024-11-16</td>\n",
       "      <td>Arte y Diseño</td>\n",
       "      <td>Eq. Música</td>\n",
       "      <td>182771.8256</td>\n",
       "    </tr>\n",
       "    <tr>\n",
       "      <th>4</th>\n",
       "      <td>2024-11-20</td>\n",
       "      <td>Arte y Diseño</td>\n",
       "      <td>Eq. Escenografía</td>\n",
       "      <td>217118.4279</td>\n",
       "    </tr>\n",
       "    <tr>\n",
       "      <th>...</th>\n",
       "      <td>...</td>\n",
       "      <td>...</td>\n",
       "      <td>...</td>\n",
       "      <td>...</td>\n",
       "    </tr>\n",
       "    <tr>\n",
       "      <th>73</th>\n",
       "      <td>2025-04-04</td>\n",
       "      <td>Creativo</td>\n",
       "      <td>Eq. Guión y adaptación</td>\n",
       "      <td>114281.6376</td>\n",
       "    </tr>\n",
       "    <tr>\n",
       "      <th>74</th>\n",
       "      <td>2025-04-09</td>\n",
       "      <td>Producción</td>\n",
       "      <td>Eq. Auxiliares</td>\n",
       "      <td>18632.3598</td>\n",
       "    </tr>\n",
       "    <tr>\n",
       "      <th>75</th>\n",
       "      <td>2025-04-12</td>\n",
       "      <td>Rec. Técnicos</td>\n",
       "      <td>Eq. Sonido Post</td>\n",
       "      <td>220944.2547</td>\n",
       "    </tr>\n",
       "    <tr>\n",
       "      <th>76</th>\n",
       "      <td>2025-04-14</td>\n",
       "      <td>Rec. Técnicos</td>\n",
       "      <td>Eq. Iluminación</td>\n",
       "      <td>64178.0700</td>\n",
       "    </tr>\n",
       "    <tr>\n",
       "      <th>77</th>\n",
       "      <td>2025-04-16</td>\n",
       "      <td>Producción</td>\n",
       "      <td>Distribución</td>\n",
       "      <td>134231.4622</td>\n",
       "    </tr>\n",
       "  </tbody>\n",
       "</table>\n",
       "<p>78 rows × 4 columns</p>\n",
       "</div>"
      ],
      "text/plain": [
       "        FECHA   DEPARTAMENTO             UNIDAD ESP.        GASTO\n",
       "0  2024-11-11     Producción          Eq. Auxiliares   42125.3352\n",
       "1  2024-11-11     Producción          Eq. Auxiliares   20252.5650\n",
       "2  2024-11-16  Arte y Diseño     Eq, Caracterización   64604.6284\n",
       "3  2024-11-16  Arte y Diseño              Eq. Música  182771.8256\n",
       "4  2024-11-20  Arte y Diseño        Eq. Escenografía  217118.4279\n",
       "..        ...            ...                     ...          ...\n",
       "73 2025-04-04       Creativo  Eq. Guión y adaptación  114281.6376\n",
       "74 2025-04-09     Producción          Eq. Auxiliares   18632.3598\n",
       "75 2025-04-12  Rec. Técnicos         Eq. Sonido Post  220944.2547\n",
       "76 2025-04-14  Rec. Técnicos         Eq. Iluminación   64178.0700\n",
       "77 2025-04-16     Producción            Distribución  134231.4622\n",
       "\n",
       "[78 rows x 4 columns]"
      ]
     },
     "metadata": {},
     "output_type": "display_data"
    }
   ],
   "source": [
    "df.dropna(how='all', inplace=True)  # Elimina filas completamente vacías\n",
    "df.dropna(axis=1, how='all', inplace=True)  # Columnas vacías\n",
    "df.fillna(0, inplace=True)                     # Rellenar con 0\n",
    "\n",
    "#Mostrar datos de las hojas 1 y 2\n",
    "display(df) \n",
    "display(af)\n"
   ]
  },
  {
   "cell_type": "markdown",
   "metadata": {},
   "source": [
    "### COMPARACIÓN ENTRE GASTO Y PRESUPUESTO"
   ]
  },
  {
   "cell_type": "code",
   "execution_count": 48,
   "metadata": {},
   "outputs": [
    {
     "data": {
      "application/vnd.plotly.v1+json": {
       "config": {
        "plotlyServerURL": "https://plot.ly"
       },
       "data": [
        {
         "alignmentgroup": "True",
         "hovertemplate": "Tipo=PRESUPUESTO<br>DEPARTAMENTO=%{x}<br>Monto=%{y}<extra></extra>",
         "legendgroup": "PRESUPUESTO",
         "marker": {
          "color": "#636efa",
          "pattern": {
           "shape": ""
          }
         },
         "name": "PRESUPUESTO",
         "offsetgroup": "PRESUPUESTO",
         "orientation": "v",
         "showlegend": true,
         "textposition": "auto",
         "type": "bar",
         "x": [
          "Contratación",
          "Eq. Reparto",
          "Subtotal",
          "Arte y Diseño",
          "Eq, Caracterización",
          "Eq. Escenografía",
          "Eq. Música",
          "Eq. Coreografía",
          "Vestuario",
          "Maquillaje",
          "Peinado",
          "Subtotal",
          "Rec. Técnicos",
          "Eq. Elécricos y maquinistas",
          "Eq. Iluminación",
          "Eq. Sonido Rodaje",
          "Eq. Efectos Especiales",
          "Eq. Efectos Digitales",
          "Eq. Sonido Post",
          "Eq Difusión Gráfica",
          "Subtotal",
          "Producción",
          "Fotografía",
          "Eq. Dirección",
          "Eq. Producción",
          "Eq. Locaciones",
          "Distribución",
          "Eq. Auxiliares",
          "Subtotal",
          "Creativo",
          "Eq. Guión y adaptación",
          "Editor",
          "Subtotal",
          "Logística",
          "Ensamble y montaje",
          "Eq. Inventario",
          "Utilería",
          "Subtotal",
          "Total"
         ],
         "xaxis": "x",
         "y": {
          "bdata": "AAAAAAAAAADhehSus84kQeF6FK6zziRBAAAAAAAAAADXo3A9oDIUQQrXo/A7oSlBkML1KJlTGUGkcD2KN8QkQfYoXI8OhypBFa5H4VGRIEHD9Shc9WUTQTMzM9P6fE5BAAAAAAAAAACF61G4AGwcQaRwPQqVyw5B9Shcj7rP+kCuR+F6CPUCQVyPwvUpXB5B16NwvZfsIUEpXI/CDlYXQaRwPcp0sUJBAAAAAAAAAAB7FK5HoSkdQa5H4XocehdBzczMzPFsI0FmZmbm1FgsQZqZmRnzfiRB9ihcD0dNLEH2KFzv97hOQQAAAAAAAAAAFa5H4aXuFkEK16PwUGAqQQrXo/DR6zJBAAAAAAAAAADD9ShcP9EjQcP1KFzXvCRB7FG4HrWuKUFcj8L1Mo9AQZqZmRkMyGtB",
          "dtype": "f8"
         },
         "yaxis": "y"
        },
        {
         "alignmentgroup": "True",
         "hovertemplate": "Tipo=GASTO<br>DEPARTAMENTO=%{x}<br>Monto=%{y}<extra></extra>",
         "legendgroup": "GASTO",
         "marker": {
          "color": "#EF553B",
          "pattern": {
           "shape": ""
          }
         },
         "name": "GASTO",
         "offsetgroup": "GASTO",
         "orientation": "v",
         "showlegend": true,
         "textposition": "auto",
         "type": "bar",
         "x": [
          "Contratación",
          "Eq. Reparto",
          "Subtotal",
          "Arte y Diseño",
          "Eq, Caracterización",
          "Eq. Escenografía",
          "Eq. Música",
          "Eq. Coreografía",
          "Vestuario",
          "Maquillaje",
          "Peinado",
          "Subtotal",
          "Rec. Técnicos",
          "Eq. Elécricos y maquinistas",
          "Eq. Iluminación",
          "Eq. Sonido Rodaje",
          "Eq. Efectos Especiales",
          "Eq. Efectos Digitales",
          "Eq. Sonido Post",
          "Eq Difusión Gráfica",
          "Subtotal",
          "Producción",
          "Fotografía",
          "Eq. Dirección",
          "Eq. Producción",
          "Eq. Locaciones",
          "Distribución",
          "Eq. Auxiliares",
          "Subtotal",
          "Creativo",
          "Eq. Guión y adaptación",
          "Editor",
          "Subtotal",
          "Logística",
          "Ensamble y montaje",
          "Eq. Inventario",
          "Utilería",
          "Subtotal",
          "Total"
         ],
         "xaxis": "x",
         "y": {
          "bdata": "AAAAAAAAAADD9ShcO30RQcP1KFw7fRFBAAAAAAAAAACF61G4+lT+QClcj0IdFCRB7FG4HvFzFUGamZmZlVAMQVK4HoXjVQhBhetRuB0VE0HrUbgefZT6QIXrUfi4Tz5BAAAAAAAAAADXo3A9tngWQQAAAAB4vQdBcT0K16vo5UCuR+F6bJ3hQB+F61G1nxpBXI/CdfdJIUGQwvUoeA4AQWdmZmbFIDtBAAAAAAAAAABnZmZmDxcZQXsUrkexPgVB4XoUrouz8ED1KFyPVsD5QFK4HgW+niJBj8L1KCTH80C5HoVrqSA2QQAAAAAAAAAAw/UoXJfiEUGkcD2Km3smQYbrUTjnbC9BAAAAAAAAAABcj8L1QcMeQWdmZmbWpAFBhetRuOucJEFmZmYm4TM0QZDC9diy9l1B",
          "dtype": "f8"
         },
         "yaxis": "y"
        }
       ],
       "layout": {
        "barmode": "group",
        "height": 600,
        "legend": {
         "title": {
          "text": "Tipo"
         },
         "tracegroupgap": 0
        },
        "template": {
         "data": {
          "bar": [
           {
            "error_x": {
             "color": "#2a3f5f"
            },
            "error_y": {
             "color": "#2a3f5f"
            },
            "marker": {
             "line": {
              "color": "#E5ECF6",
              "width": 0.5
             },
             "pattern": {
              "fillmode": "overlay",
              "size": 10,
              "solidity": 0.2
             }
            },
            "type": "bar"
           }
          ],
          "barpolar": [
           {
            "marker": {
             "line": {
              "color": "#E5ECF6",
              "width": 0.5
             },
             "pattern": {
              "fillmode": "overlay",
              "size": 10,
              "solidity": 0.2
             }
            },
            "type": "barpolar"
           }
          ],
          "carpet": [
           {
            "aaxis": {
             "endlinecolor": "#2a3f5f",
             "gridcolor": "white",
             "linecolor": "white",
             "minorgridcolor": "white",
             "startlinecolor": "#2a3f5f"
            },
            "baxis": {
             "endlinecolor": "#2a3f5f",
             "gridcolor": "white",
             "linecolor": "white",
             "minorgridcolor": "white",
             "startlinecolor": "#2a3f5f"
            },
            "type": "carpet"
           }
          ],
          "choropleth": [
           {
            "colorbar": {
             "outlinewidth": 0,
             "ticks": ""
            },
            "type": "choropleth"
           }
          ],
          "contour": [
           {
            "colorbar": {
             "outlinewidth": 0,
             "ticks": ""
            },
            "colorscale": [
             [
              0,
              "#0d0887"
             ],
             [
              0.1111111111111111,
              "#46039f"
             ],
             [
              0.2222222222222222,
              "#7201a8"
             ],
             [
              0.3333333333333333,
              "#9c179e"
             ],
             [
              0.4444444444444444,
              "#bd3786"
             ],
             [
              0.5555555555555556,
              "#d8576b"
             ],
             [
              0.6666666666666666,
              "#ed7953"
             ],
             [
              0.7777777777777778,
              "#fb9f3a"
             ],
             [
              0.8888888888888888,
              "#fdca26"
             ],
             [
              1,
              "#f0f921"
             ]
            ],
            "type": "contour"
           }
          ],
          "contourcarpet": [
           {
            "colorbar": {
             "outlinewidth": 0,
             "ticks": ""
            },
            "type": "contourcarpet"
           }
          ],
          "heatmap": [
           {
            "colorbar": {
             "outlinewidth": 0,
             "ticks": ""
            },
            "colorscale": [
             [
              0,
              "#0d0887"
             ],
             [
              0.1111111111111111,
              "#46039f"
             ],
             [
              0.2222222222222222,
              "#7201a8"
             ],
             [
              0.3333333333333333,
              "#9c179e"
             ],
             [
              0.4444444444444444,
              "#bd3786"
             ],
             [
              0.5555555555555556,
              "#d8576b"
             ],
             [
              0.6666666666666666,
              "#ed7953"
             ],
             [
              0.7777777777777778,
              "#fb9f3a"
             ],
             [
              0.8888888888888888,
              "#fdca26"
             ],
             [
              1,
              "#f0f921"
             ]
            ],
            "type": "heatmap"
           }
          ],
          "histogram": [
           {
            "marker": {
             "pattern": {
              "fillmode": "overlay",
              "size": 10,
              "solidity": 0.2
             }
            },
            "type": "histogram"
           }
          ],
          "histogram2d": [
           {
            "colorbar": {
             "outlinewidth": 0,
             "ticks": ""
            },
            "colorscale": [
             [
              0,
              "#0d0887"
             ],
             [
              0.1111111111111111,
              "#46039f"
             ],
             [
              0.2222222222222222,
              "#7201a8"
             ],
             [
              0.3333333333333333,
              "#9c179e"
             ],
             [
              0.4444444444444444,
              "#bd3786"
             ],
             [
              0.5555555555555556,
              "#d8576b"
             ],
             [
              0.6666666666666666,
              "#ed7953"
             ],
             [
              0.7777777777777778,
              "#fb9f3a"
             ],
             [
              0.8888888888888888,
              "#fdca26"
             ],
             [
              1,
              "#f0f921"
             ]
            ],
            "type": "histogram2d"
           }
          ],
          "histogram2dcontour": [
           {
            "colorbar": {
             "outlinewidth": 0,
             "ticks": ""
            },
            "colorscale": [
             [
              0,
              "#0d0887"
             ],
             [
              0.1111111111111111,
              "#46039f"
             ],
             [
              0.2222222222222222,
              "#7201a8"
             ],
             [
              0.3333333333333333,
              "#9c179e"
             ],
             [
              0.4444444444444444,
              "#bd3786"
             ],
             [
              0.5555555555555556,
              "#d8576b"
             ],
             [
              0.6666666666666666,
              "#ed7953"
             ],
             [
              0.7777777777777778,
              "#fb9f3a"
             ],
             [
              0.8888888888888888,
              "#fdca26"
             ],
             [
              1,
              "#f0f921"
             ]
            ],
            "type": "histogram2dcontour"
           }
          ],
          "mesh3d": [
           {
            "colorbar": {
             "outlinewidth": 0,
             "ticks": ""
            },
            "type": "mesh3d"
           }
          ],
          "parcoords": [
           {
            "line": {
             "colorbar": {
              "outlinewidth": 0,
              "ticks": ""
             }
            },
            "type": "parcoords"
           }
          ],
          "pie": [
           {
            "automargin": true,
            "type": "pie"
           }
          ],
          "scatter": [
           {
            "fillpattern": {
             "fillmode": "overlay",
             "size": 10,
             "solidity": 0.2
            },
            "type": "scatter"
           }
          ],
          "scatter3d": [
           {
            "line": {
             "colorbar": {
              "outlinewidth": 0,
              "ticks": ""
             }
            },
            "marker": {
             "colorbar": {
              "outlinewidth": 0,
              "ticks": ""
             }
            },
            "type": "scatter3d"
           }
          ],
          "scattercarpet": [
           {
            "marker": {
             "colorbar": {
              "outlinewidth": 0,
              "ticks": ""
             }
            },
            "type": "scattercarpet"
           }
          ],
          "scattergeo": [
           {
            "marker": {
             "colorbar": {
              "outlinewidth": 0,
              "ticks": ""
             }
            },
            "type": "scattergeo"
           }
          ],
          "scattergl": [
           {
            "marker": {
             "colorbar": {
              "outlinewidth": 0,
              "ticks": ""
             }
            },
            "type": "scattergl"
           }
          ],
          "scattermap": [
           {
            "marker": {
             "colorbar": {
              "outlinewidth": 0,
              "ticks": ""
             }
            },
            "type": "scattermap"
           }
          ],
          "scattermapbox": [
           {
            "marker": {
             "colorbar": {
              "outlinewidth": 0,
              "ticks": ""
             }
            },
            "type": "scattermapbox"
           }
          ],
          "scatterpolar": [
           {
            "marker": {
             "colorbar": {
              "outlinewidth": 0,
              "ticks": ""
             }
            },
            "type": "scatterpolar"
           }
          ],
          "scatterpolargl": [
           {
            "marker": {
             "colorbar": {
              "outlinewidth": 0,
              "ticks": ""
             }
            },
            "type": "scatterpolargl"
           }
          ],
          "scatterternary": [
           {
            "marker": {
             "colorbar": {
              "outlinewidth": 0,
              "ticks": ""
             }
            },
            "type": "scatterternary"
           }
          ],
          "surface": [
           {
            "colorbar": {
             "outlinewidth": 0,
             "ticks": ""
            },
            "colorscale": [
             [
              0,
              "#0d0887"
             ],
             [
              0.1111111111111111,
              "#46039f"
             ],
             [
              0.2222222222222222,
              "#7201a8"
             ],
             [
              0.3333333333333333,
              "#9c179e"
             ],
             [
              0.4444444444444444,
              "#bd3786"
             ],
             [
              0.5555555555555556,
              "#d8576b"
             ],
             [
              0.6666666666666666,
              "#ed7953"
             ],
             [
              0.7777777777777778,
              "#fb9f3a"
             ],
             [
              0.8888888888888888,
              "#fdca26"
             ],
             [
              1,
              "#f0f921"
             ]
            ],
            "type": "surface"
           }
          ],
          "table": [
           {
            "cells": {
             "fill": {
              "color": "#EBF0F8"
             },
             "line": {
              "color": "white"
             }
            },
            "header": {
             "fill": {
              "color": "#C8D4E3"
             },
             "line": {
              "color": "white"
             }
            },
            "type": "table"
           }
          ]
         },
         "layout": {
          "annotationdefaults": {
           "arrowcolor": "#2a3f5f",
           "arrowhead": 0,
           "arrowwidth": 1
          },
          "autotypenumbers": "strict",
          "coloraxis": {
           "colorbar": {
            "outlinewidth": 0,
            "ticks": ""
           }
          },
          "colorscale": {
           "diverging": [
            [
             0,
             "#8e0152"
            ],
            [
             0.1,
             "#c51b7d"
            ],
            [
             0.2,
             "#de77ae"
            ],
            [
             0.3,
             "#f1b6da"
            ],
            [
             0.4,
             "#fde0ef"
            ],
            [
             0.5,
             "#f7f7f7"
            ],
            [
             0.6,
             "#e6f5d0"
            ],
            [
             0.7,
             "#b8e186"
            ],
            [
             0.8,
             "#7fbc41"
            ],
            [
             0.9,
             "#4d9221"
            ],
            [
             1,
             "#276419"
            ]
           ],
           "sequential": [
            [
             0,
             "#0d0887"
            ],
            [
             0.1111111111111111,
             "#46039f"
            ],
            [
             0.2222222222222222,
             "#7201a8"
            ],
            [
             0.3333333333333333,
             "#9c179e"
            ],
            [
             0.4444444444444444,
             "#bd3786"
            ],
            [
             0.5555555555555556,
             "#d8576b"
            ],
            [
             0.6666666666666666,
             "#ed7953"
            ],
            [
             0.7777777777777778,
             "#fb9f3a"
            ],
            [
             0.8888888888888888,
             "#fdca26"
            ],
            [
             1,
             "#f0f921"
            ]
           ],
           "sequentialminus": [
            [
             0,
             "#0d0887"
            ],
            [
             0.1111111111111111,
             "#46039f"
            ],
            [
             0.2222222222222222,
             "#7201a8"
            ],
            [
             0.3333333333333333,
             "#9c179e"
            ],
            [
             0.4444444444444444,
             "#bd3786"
            ],
            [
             0.5555555555555556,
             "#d8576b"
            ],
            [
             0.6666666666666666,
             "#ed7953"
            ],
            [
             0.7777777777777778,
             "#fb9f3a"
            ],
            [
             0.8888888888888888,
             "#fdca26"
            ],
            [
             1,
             "#f0f921"
            ]
           ]
          },
          "colorway": [
           "#636efa",
           "#EF553B",
           "#00cc96",
           "#ab63fa",
           "#FFA15A",
           "#19d3f3",
           "#FF6692",
           "#B6E880",
           "#FF97FF",
           "#FECB52"
          ],
          "font": {
           "color": "#2a3f5f"
          },
          "geo": {
           "bgcolor": "white",
           "lakecolor": "white",
           "landcolor": "#E5ECF6",
           "showlakes": true,
           "showland": true,
           "subunitcolor": "white"
          },
          "hoverlabel": {
           "align": "left"
          },
          "hovermode": "closest",
          "mapbox": {
           "style": "light"
          },
          "paper_bgcolor": "white",
          "plot_bgcolor": "#E5ECF6",
          "polar": {
           "angularaxis": {
            "gridcolor": "white",
            "linecolor": "white",
            "ticks": ""
           },
           "bgcolor": "#E5ECF6",
           "radialaxis": {
            "gridcolor": "white",
            "linecolor": "white",
            "ticks": ""
           }
          },
          "scene": {
           "xaxis": {
            "backgroundcolor": "#E5ECF6",
            "gridcolor": "white",
            "gridwidth": 2,
            "linecolor": "white",
            "showbackground": true,
            "ticks": "",
            "zerolinecolor": "white"
           },
           "yaxis": {
            "backgroundcolor": "#E5ECF6",
            "gridcolor": "white",
            "gridwidth": 2,
            "linecolor": "white",
            "showbackground": true,
            "ticks": "",
            "zerolinecolor": "white"
           },
           "zaxis": {
            "backgroundcolor": "#E5ECF6",
            "gridcolor": "white",
            "gridwidth": 2,
            "linecolor": "white",
            "showbackground": true,
            "ticks": "",
            "zerolinecolor": "white"
           }
          },
          "shapedefaults": {
           "line": {
            "color": "#2a3f5f"
           }
          },
          "ternary": {
           "aaxis": {
            "gridcolor": "white",
            "linecolor": "white",
            "ticks": ""
           },
           "baxis": {
            "gridcolor": "white",
            "linecolor": "white",
            "ticks": ""
           },
           "bgcolor": "#E5ECF6",
           "caxis": {
            "gridcolor": "white",
            "linecolor": "white",
            "ticks": ""
           }
          },
          "title": {
           "x": 0.05
          },
          "xaxis": {
           "automargin": true,
           "gridcolor": "white",
           "linecolor": "white",
           "ticks": "",
           "title": {
            "standoff": 15
           },
           "zerolinecolor": "white",
           "zerolinewidth": 2
          },
          "yaxis": {
           "automargin": true,
           "gridcolor": "white",
           "linecolor": "white",
           "ticks": "",
           "title": {
            "standoff": 15
           },
           "zerolinecolor": "white",
           "zerolinewidth": 2
          }
         }
        },
        "title": {
         "text": "Comparación de Presupuesto vs Gasto por Departamento"
        },
        "width": 1500,
        "xaxis": {
         "anchor": "y",
         "domain": [
          0,
          1
         ],
         "tickangle": -45,
         "title": {
          "text": "Departamento"
         }
        },
        "yaxis": {
         "anchor": "x",
         "domain": [
          0,
          1
         ],
         "title": {
          "text": "Monto"
         }
        }
       }
      }
     },
     "metadata": {},
     "output_type": "display_data"
    }
   ],
   "source": [
    "import plotly.express as px\n",
    "\n",
    "df_long = df.melt(id_vars=\"DEPARTAMENTO\", \n",
    "                        value_vars=[\"PRESUPUESTO\", \"GASTO\"], \n",
    "                        var_name=\"Tipo\", \n",
    "                        value_name=\"Monto\") \n",
    "\n",
    "# Crear gráfico interactivo de barras\n",
    "fig = px.bar(df_long, \n",
    "             x=\"DEPARTAMENTO\", \n",
    "             y=\"Monto\", \n",
    "             color=\"Tipo\", \n",
    "             barmode=\"group\", \n",
    "             title=\"Comparación de Presupuesto vs Gasto por Departamento\")\n",
    "\n",
    "fig.update_layout(\n",
    "    xaxis_title=\"Departamento\",\n",
    "    yaxis_title=\"Monto\",\n",
    "    xaxis_tickangle=-45,\n",
    "    height=600,\n",
    "    width=1500\n",
    ")\n",
    "\n",
    "fig.show()"
   ]
  },
  {
   "cell_type": "markdown",
   "metadata": {},
   "source": [
    "1. Departamentos con mayor presupuesto asignado: \n",
    "\n",
    "- Total, Subtotales, y algunos bloques técnicos como Recursos Técnicos o Eq. Guión y Adaptativo destacan con montos de presupuesto mucho más altos que otros departamentos.\n",
    "\n",
    "- Estas categorías parecen funcionar como agrupaciones globales, lo cual puede inflar la escala visual si se comparan directamente con unidades pequeñas.\n",
    "\n",
    "2. Departamentos con mayor gasto ejecutado:\n",
    "\n",
    "- Algunos departamentos como Arte y Diseño, Eq. Escenografía, y Dirección muestran un gasto real considerable, cercano a su presupuesto.\n",
    "\n",
    "- Esto sugiere que son áreas clave en la producción y tienen una alta participación en el uso de recursos."
   ]
  }
 ],
 "metadata": {
  "kernelspec": {
   "display_name": "DATAANALISIS",
   "language": "python",
   "name": "python3"
  },
  "language_info": {
   "codemirror_mode": {
    "name": "ipython",
    "version": 3
   },
   "file_extension": ".py",
   "mimetype": "text/x-python",
   "name": "python",
   "nbconvert_exporter": "python",
   "pygments_lexer": "ipython3",
   "version": "3.11.11"
  }
 },
 "nbformat": 4,
 "nbformat_minor": 2
}
