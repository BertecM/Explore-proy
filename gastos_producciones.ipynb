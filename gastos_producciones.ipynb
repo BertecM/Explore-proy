{
 "cells": [
  {
   "cell_type": "markdown",
   "metadata": {},
   "source": [
    "# Módulo 5 \n"
   ]
  },
  {
   "cell_type": "markdown",
   "metadata": {},
   "source": [
    "### 1. Ricardo Villareal Bazán // A01666859\n",
    "### 2. Bertin Flores Silva// A01660604"
   ]
  },
  {
   "cell_type": "code",
   "execution_count": 63,
   "metadata": {},
   "outputs": [
    {
     "name": "stderr",
     "output_type": "stream",
     "text": [
      "c:\\Users\\ultim\\anaconda3\\envs\\IDM\\Lib\\site-packages\\openpyxl\\worksheet\\_reader.py:329: UserWarning: Data Validation extension is not supported and will be removed\n",
      "  warn(msg)\n"
     ]
    },
    {
     "data": {
      "text/plain": [
       "array(['CONTROL', '# CHEQUE', 'PARTIDA PRESUPUESTAL', 'UIDD/FOLIO FISCAL',\n",
       "       'DIRECCION', 'REGIMEN FISCAL', 'NOMBRE REGIMEN FISCAL', 'RFC',\n",
       "       'STATUS', 'FECHA DE RECIBIDO', 'SEMANA QUE SE PAGA', 'TIPO',\n",
       "       'NOMBRE DEL PROVEEDOR', 'CORREO', 'CONCEPTO', 'TIPO2', 'SUBTOTAL',\n",
       "       'IVA', 'OTROS IMPUESTOS', 'RET IVA', 'RET ISR', 'TOTAL',\n",
       "       'CUENTA CLAVE', 'BANCO', 'ESTATUS', 'FECHA DE PAGO ', 'NOTAS',\n",
       "       'Valida', 'MES', 'Column1', 'SUBTOTAL2', 'IVA3', 'RET IVA4',\n",
       "       'RET ISR.1', 'TOTAL.1', 'CAMBIOS', 'Unnamed: 36'], dtype=object)"
      ]
     },
     "execution_count": 5,
     "metadata": {},
     "output_type": "execute_result"
    }
   ],
   "source": [
    "import pandas as pd\n",
    "import plotly.express as px\n",
    "import matplotlib.pyplot as plt\n",
    "import numpy as np\n",
    "\n",
    "\n",
    "df_resumen = pd.read_excel(\"data/CR EJEMPLO MOD.xlsx\", sheet_name=\"Data\")\n",
    "#df_detalle = pd.read_excel(\"pf excel.xlsx\", sheet_name=\"Sheet2\")\n",
    "df_resumen.columns.values\n"
   ]
  },
  {
   "cell_type": "markdown",
   "metadata": {},
   "source": [
    "### LIMPIEZA DE DATOS"
   ]
  },
  {
   "cell_type": "code",
   "execution_count": null,
   "metadata": {},
   "outputs": [
    {
     "data": {
      "text/html": [
       "<div>\n",
       "<style scoped>\n",
       "    .dataframe tbody tr th:only-of-type {\n",
       "        vertical-align: middle;\n",
       "    }\n",
       "\n",
       "    .dataframe tbody tr th {\n",
       "        vertical-align: top;\n",
       "    }\n",
       "\n",
       "    .dataframe thead th {\n",
       "        text-align: right;\n",
       "    }\n",
       "</style>\n",
       "<table border=\"1\" class=\"dataframe\">\n",
       "  <thead>\n",
       "    <tr style=\"text-align: right;\">\n",
       "      <th></th>\n",
       "      <th>CONTROL</th>\n",
       "      <th># CHEQUE</th>\n",
       "      <th>PARTIDA PRESUPUESTAL</th>\n",
       "      <th>UIDD/FOLIO FISCAL</th>\n",
       "      <th>DIRECCION</th>\n",
       "      <th>REGIMEN FISCAL</th>\n",
       "      <th>NOMBRE REGIMEN FISCAL</th>\n",
       "      <th>RFC</th>\n",
       "      <th>STATUS</th>\n",
       "      <th>FECHA DE RECIBIDO</th>\n",
       "      <th>...</th>\n",
       "      <th>Valida</th>\n",
       "      <th>MES</th>\n",
       "      <th>Column1</th>\n",
       "      <th>SUBTOTAL2</th>\n",
       "      <th>IVA3</th>\n",
       "      <th>RET IVA4</th>\n",
       "      <th>RET ISR.1</th>\n",
       "      <th>TOTAL.1</th>\n",
       "      <th>CAMBIOS</th>\n",
       "      <th>Unnamed: 36</th>\n",
       "    </tr>\n",
       "  </thead>\n",
       "  <tbody>\n",
       "    <tr>\n",
       "      <th>0</th>\n",
       "      <td>NaN</td>\n",
       "      <td>NaN</td>\n",
       "      <td>Income (Funding)</td>\n",
       "      <td>NaN</td>\n",
       "      <td>NaN</td>\n",
       "      <td>NaN</td>\n",
       "      <td>NaN</td>\n",
       "      <td>NaN</td>\n",
       "      <td>NaN</td>\n",
       "      <td>NaN</td>\n",
       "      <td>...</td>\n",
       "      <td>Balance</td>\n",
       "      <td>NaN</td>\n",
       "      <td>0</td>\n",
       "      <td>NaN</td>\n",
       "      <td>NaN</td>\n",
       "      <td>NaN</td>\n",
       "      <td>NaN</td>\n",
       "      <td>NaN</td>\n",
       "      <td>NaN</td>\n",
       "      <td>NaN</td>\n",
       "    </tr>\n",
       "    <tr>\n",
       "      <th>1</th>\n",
       "      <td>NaN</td>\n",
       "      <td>NaN</td>\n",
       "      <td>Income (Funding) IVA</td>\n",
       "      <td>NaN</td>\n",
       "      <td>NaN</td>\n",
       "      <td>NaN</td>\n",
       "      <td>NaN</td>\n",
       "      <td>NaN</td>\n",
       "      <td>NaN</td>\n",
       "      <td>NaN</td>\n",
       "      <td>...</td>\n",
       "      <td>Balance</td>\n",
       "      <td>NaN</td>\n",
       "      <td>0</td>\n",
       "      <td>NaN</td>\n",
       "      <td>NaN</td>\n",
       "      <td>NaN</td>\n",
       "      <td>NaN</td>\n",
       "      <td>NaN</td>\n",
       "      <td>NaN</td>\n",
       "      <td>NaN</td>\n",
       "    </tr>\n",
       "    <tr>\n",
       "      <th>2</th>\n",
       "      <td>F1.2</td>\n",
       "      <td>NaN</td>\n",
       "      <td>Income (Funding)</td>\n",
       "      <td>NaN</td>\n",
       "      <td>NaN</td>\n",
       "      <td>Estados Unidos (los)</td>\n",
       "      <td>Estados Unidos (los)</td>\n",
       "      <td>0.0</td>\n",
       "      <td>NaN</td>\n",
       "      <td>NaN</td>\n",
       "      <td>...</td>\n",
       "      <td>Balance</td>\n",
       "      <td>NaN</td>\n",
       "      <td>0</td>\n",
       "      <td>NaN</td>\n",
       "      <td>NaN</td>\n",
       "      <td>NaN</td>\n",
       "      <td>NaN</td>\n",
       "      <td>NaN</td>\n",
       "      <td>NaN</td>\n",
       "      <td>NaN</td>\n",
       "    </tr>\n",
       "    <tr>\n",
       "      <th>3</th>\n",
       "      <td>N001</td>\n",
       "      <td>0001</td>\n",
       "      <td>7007-009</td>\n",
       "      <td>0.0</td>\n",
       "      <td>86127</td>\n",
       "      <td>Régimen Simplificado de Confianza</td>\n",
       "      <td>Régimen Simplificado de Confianza</td>\n",
       "      <td>1.0</td>\n",
       "      <td>NaN</td>\n",
       "      <td>33.0</td>\n",
       "      <td>...</td>\n",
       "      <td>7007-009</td>\n",
       "      <td>NaN</td>\n",
       "      <td>0</td>\n",
       "      <td>NaN</td>\n",
       "      <td>NaN</td>\n",
       "      <td>NaN</td>\n",
       "      <td>NaN</td>\n",
       "      <td>NaN</td>\n",
       "      <td>NaN</td>\n",
       "      <td>-45135.0</td>\n",
       "    </tr>\n",
       "    <tr>\n",
       "      <th>4</th>\n",
       "      <td>N003</td>\n",
       "      <td>0004</td>\n",
       "      <td>1107-009</td>\n",
       "      <td>1.0</td>\n",
       "      <td>4318</td>\n",
       "      <td>Régimen Simplificado de Confianza</td>\n",
       "      <td>Régimen Simplificado de Confianza</td>\n",
       "      <td>2.0</td>\n",
       "      <td>NaN</td>\n",
       "      <td>40.0</td>\n",
       "      <td>...</td>\n",
       "      <td>1107-009</td>\n",
       "      <td>NaN</td>\n",
       "      <td>0</td>\n",
       "      <td>NaN</td>\n",
       "      <td>NaN</td>\n",
       "      <td>NaN</td>\n",
       "      <td>NaN</td>\n",
       "      <td>NaN</td>\n",
       "      <td>NaN</td>\n",
       "      <td>-45128.0</td>\n",
       "    </tr>\n",
       "    <tr>\n",
       "      <th>...</th>\n",
       "      <td>...</td>\n",
       "      <td>...</td>\n",
       "      <td>...</td>\n",
       "      <td>...</td>\n",
       "      <td>...</td>\n",
       "      <td>...</td>\n",
       "      <td>...</td>\n",
       "      <td>...</td>\n",
       "      <td>...</td>\n",
       "      <td>...</td>\n",
       "      <td>...</td>\n",
       "      <td>...</td>\n",
       "      <td>...</td>\n",
       "      <td>...</td>\n",
       "      <td>...</td>\n",
       "      <td>...</td>\n",
       "      <td>...</td>\n",
       "      <td>...</td>\n",
       "      <td>...</td>\n",
       "      <td>...</td>\n",
       "      <td>...</td>\n",
       "    </tr>\n",
       "    <tr>\n",
       "      <th>6762</th>\n",
       "      <td>T13</td>\n",
       "      <td>-</td>\n",
       "      <td>Impuestos Pagados (IVA)</td>\n",
       "      <td>NaN</td>\n",
       "      <td>NaN</td>\n",
       "      <td>NaN</td>\n",
       "      <td>NaN</td>\n",
       "      <td>NaN</td>\n",
       "      <td>NaN</td>\n",
       "      <td>NaN</td>\n",
       "      <td>...</td>\n",
       "      <td>Balance</td>\n",
       "      <td>NaN</td>\n",
       "      <td>0</td>\n",
       "      <td>NaN</td>\n",
       "      <td>NaN</td>\n",
       "      <td>NaN</td>\n",
       "      <td>NaN</td>\n",
       "      <td>NaN</td>\n",
       "      <td>NaN</td>\n",
       "      <td>NaN</td>\n",
       "    </tr>\n",
       "    <tr>\n",
       "      <th>6763</th>\n",
       "      <td>T13.1</td>\n",
       "      <td>-</td>\n",
       "      <td>Impuestos Pagados (ISR)</td>\n",
       "      <td>NaN</td>\n",
       "      <td>NaN</td>\n",
       "      <td>NaN</td>\n",
       "      <td>NaN</td>\n",
       "      <td>NaN</td>\n",
       "      <td>NaN</td>\n",
       "      <td>NaN</td>\n",
       "      <td>...</td>\n",
       "      <td>Balance</td>\n",
       "      <td>NaN</td>\n",
       "      <td>0</td>\n",
       "      <td>NaN</td>\n",
       "      <td>NaN</td>\n",
       "      <td>NaN</td>\n",
       "      <td>NaN</td>\n",
       "      <td>NaN</td>\n",
       "      <td>NaN</td>\n",
       "      <td>NaN</td>\n",
       "    </tr>\n",
       "    <tr>\n",
       "      <th>7337</th>\n",
       "      <td>NaN</td>\n",
       "      <td>NaN</td>\n",
       "      <td>DEV IVA</td>\n",
       "      <td>NaN</td>\n",
       "      <td>NaN</td>\n",
       "      <td>NaN</td>\n",
       "      <td>NaN</td>\n",
       "      <td>NaN</td>\n",
       "      <td>NaN</td>\n",
       "      <td>NaN</td>\n",
       "      <td>...</td>\n",
       "      <td>Balance</td>\n",
       "      <td>NaN</td>\n",
       "      <td>0</td>\n",
       "      <td>NaN</td>\n",
       "      <td>NaN</td>\n",
       "      <td>NaN</td>\n",
       "      <td>NaN</td>\n",
       "      <td>NaN</td>\n",
       "      <td>NaN</td>\n",
       "      <td>NaN</td>\n",
       "    </tr>\n",
       "    <tr>\n",
       "      <th>7338</th>\n",
       "      <td>NaN</td>\n",
       "      <td>NaN</td>\n",
       "      <td>DEV IVA</td>\n",
       "      <td>NaN</td>\n",
       "      <td>NaN</td>\n",
       "      <td>NaN</td>\n",
       "      <td>NaN</td>\n",
       "      <td>NaN</td>\n",
       "      <td>NaN</td>\n",
       "      <td>NaN</td>\n",
       "      <td>...</td>\n",
       "      <td>Balance</td>\n",
       "      <td>NaN</td>\n",
       "      <td>0</td>\n",
       "      <td>NaN</td>\n",
       "      <td>NaN</td>\n",
       "      <td>NaN</td>\n",
       "      <td>NaN</td>\n",
       "      <td>NaN</td>\n",
       "      <td>NaN</td>\n",
       "      <td>NaN</td>\n",
       "    </tr>\n",
       "    <tr>\n",
       "      <th>7339</th>\n",
       "      <td>NaN</td>\n",
       "      <td>NaN</td>\n",
       "      <td>DEV IVA</td>\n",
       "      <td>NaN</td>\n",
       "      <td>NaN</td>\n",
       "      <td>NaN</td>\n",
       "      <td>NaN</td>\n",
       "      <td>NaN</td>\n",
       "      <td>NaN</td>\n",
       "      <td>NaN</td>\n",
       "      <td>...</td>\n",
       "      <td>Balance</td>\n",
       "      <td>NaN</td>\n",
       "      <td>0</td>\n",
       "      <td>NaN</td>\n",
       "      <td>NaN</td>\n",
       "      <td>NaN</td>\n",
       "      <td>NaN</td>\n",
       "      <td>NaN</td>\n",
       "      <td>NaN</td>\n",
       "      <td>NaN</td>\n",
       "    </tr>\n",
       "  </tbody>\n",
       "</table>\n",
       "<p>6381 rows × 37 columns</p>\n",
       "</div>"
      ],
      "text/plain": [
       "     CONTROL # CHEQUE     PARTIDA PRESUPUESTAL  UIDD/FOLIO FISCAL DIRECCION  \\\n",
       "0        NaN      NaN         Income (Funding)                NaN       NaN   \n",
       "1        NaN      NaN     Income (Funding) IVA                NaN       NaN   \n",
       "2       F1.2      NaN         Income (Funding)                NaN       NaN   \n",
       "3       N001     0001                 7007-009                0.0     86127   \n",
       "4       N003     0004                 1107-009                1.0      4318   \n",
       "...      ...      ...                      ...                ...       ...   \n",
       "6762     T13        -  Impuestos Pagados (IVA)                NaN       NaN   \n",
       "6763   T13.1        -  Impuestos Pagados (ISR)                NaN       NaN   \n",
       "7337     NaN      NaN                  DEV IVA                NaN       NaN   \n",
       "7338     NaN      NaN                  DEV IVA                NaN       NaN   \n",
       "7339     NaN      NaN                  DEV IVA                NaN       NaN   \n",
       "\n",
       "                         REGIMEN FISCAL              NOMBRE REGIMEN FISCAL  \\\n",
       "0                                   NaN                                NaN   \n",
       "1                                   NaN                                NaN   \n",
       "2                 Estados Unidos (los)               Estados Unidos (los)    \n",
       "3     Régimen Simplificado de Confianza  Régimen Simplificado de Confianza   \n",
       "4     Régimen Simplificado de Confianza  Régimen Simplificado de Confianza   \n",
       "...                                 ...                                ...   \n",
       "6762                                NaN                                NaN   \n",
       "6763                                NaN                                NaN   \n",
       "7337                                NaN                                NaN   \n",
       "7338                                NaN                                NaN   \n",
       "7339                                NaN                                NaN   \n",
       "\n",
       "      RFC STATUS  FECHA DE RECIBIDO  ...    Valida  MES  Column1  SUBTOTAL2  \\\n",
       "0     NaN    NaN                NaN  ...   Balance  NaN        0        NaN   \n",
       "1     NaN    NaN                NaN  ...   Balance  NaN        0        NaN   \n",
       "2     0.0    NaN                NaN  ...   Balance  NaN        0        NaN   \n",
       "3     1.0    NaN               33.0  ...  7007-009  NaN        0        NaN   \n",
       "4     2.0    NaN               40.0  ...  1107-009  NaN        0        NaN   \n",
       "...   ...    ...                ...  ...       ...  ...      ...        ...   \n",
       "6762  NaN    NaN                NaN  ...   Balance  NaN        0        NaN   \n",
       "6763  NaN    NaN                NaN  ...   Balance  NaN        0        NaN   \n",
       "7337  NaN    NaN                NaN  ...   Balance  NaN        0        NaN   \n",
       "7338  NaN    NaN                NaN  ...   Balance  NaN        0        NaN   \n",
       "7339  NaN    NaN                NaN  ...   Balance  NaN        0        NaN   \n",
       "\n",
       "      IVA3 RET IVA4  RET ISR.1 TOTAL.1 CAMBIOS Unnamed: 36  \n",
       "0      NaN      NaN        NaN     NaN     NaN         NaN  \n",
       "1      NaN      NaN        NaN     NaN     NaN         NaN  \n",
       "2      NaN      NaN        NaN     NaN     NaN         NaN  \n",
       "3      NaN      NaN        NaN     NaN     NaN    -45135.0  \n",
       "4      NaN      NaN        NaN     NaN     NaN    -45128.0  \n",
       "...    ...      ...        ...     ...     ...         ...  \n",
       "6762   NaN      NaN        NaN     NaN     NaN         NaN  \n",
       "6763   NaN      NaN        NaN     NaN     NaN         NaN  \n",
       "7337   NaN      NaN        NaN     NaN     NaN         NaN  \n",
       "7338   NaN      NaN        NaN     NaN     NaN         NaN  \n",
       "7339   NaN      NaN        NaN     NaN     NaN         NaN  \n",
       "\n",
       "[6381 rows x 37 columns]"
      ]
     },
     "metadata": {},
     "output_type": "display_data"
    }
   ],
   "source": [
    "# Eliminar filas vacías o irrelevantes en df_resumen\n",
    "df_resumen = df_resumen.dropna(subset=[\"TIPO\", \"Valida\", \"TIPO\",\"TOTAL\",\"FECHA DE PAGO \"], how='all')\n",
    "#df_resumen = df_resumen[~df_resumen[\"DEPARTAMENTO\"].str.contains(\"Subtotal|Total\", na=False)]\n",
    "\n",
    "# Asegurar que los datos numéricos estén en el formato correcto\n",
    "df_numeros = df_resumen[pd.to_numeric(df_resumen['FECHA DE PAGO '], errors='coerce').notna()]\n",
    "df_numeros.loc[df_numeros[\"FECHA DE PAGO \"] != -45168, :]\n",
    "#df_resumen[\"PRESUPUESTO\"] = pd.to_numeric(df_resumen[\"PRESUPUESTO\"], errors=\"coerce\")\n",
    "#df_resumen[\"GASTO\"] = pd.to_numeric(df_resumen[\"GASTO\"], errors=\"coerce\")\n",
    "# Convertir fechas en df_detalle\n",
    "#df_detalle[\"FECHA\"] = pd.to_datetime(df_detalle[\"FECHA\"])\n",
    "\n",
    "#display(df_detalle)\n",
    "display(df_numeros)"
   ]
  },
  {
   "cell_type": "code",
   "execution_count": 23,
   "metadata": {},
   "outputs": [
    {
     "name": "stdout",
     "output_type": "stream",
     "text": [
      "       UIDD/FOLIO FISCAL          RFC  FECHA DE RECIBIDO  \\\n",
      "count        6233.000000  5742.000000         990.000000   \n",
      "mean         2102.756618   280.222745         247.435837   \n",
      "std          1306.970398   282.846292          72.615092   \n",
      "min             0.000000     0.000000        -190.000000   \n",
      "25%           782.000000    37.000000         204.498264   \n",
      "50%          2054.000000   172.000000         260.782975   \n",
      "75%          3249.000000   454.000000         282.861490   \n",
      "max          4611.000000  1118.000000         467.694468   \n",
      "\n",
      "       NOMBRE DEL PROVEEDOR       CORREO     CONCEPTO      SUBTOTAL  \\\n",
      "count           6372.000000  6040.000000  6375.000000  6.381000e+03   \n",
      "mean             484.481481    37.346523  2052.081569  4.745918e+04   \n",
      "std              404.641606    60.403467  1247.523366  7.307709e+05   \n",
      "min                0.000000     0.000000     0.000000 -5.674003e+05   \n",
      "25%              149.000000     1.000000   974.000000  5.163800e+02   \n",
      "50%              343.000000    17.000000  1943.000000  3.200000e+03   \n",
      "75%              729.000000    29.000000  3115.000000  1.500000e+04   \n",
      "max             1586.000000   284.000000  4498.000000  4.683772e+07   \n",
      "\n",
      "              TOTAL  CUENTA CLAVE     RET ISR.1  TOTAL.1   Unnamed: 36  \n",
      "count  6.381000e+03   5686.000000  1.790000e+02      0.0    990.000000  \n",
      "mean   4.978774e+04    158.519873  5.694235e+04      NaN -44920.564163  \n",
      "std    7.378032e+05    130.368276  2.571842e+05      NaN     72.615092  \n",
      "min   -5.674003e+05      0.000000  1.962200e+02      NaN -45358.000000  \n",
      "25%    5.916000e+02     56.000000  1.949915e+03      NaN -44963.501736  \n",
      "50%    3.575000e+03    119.000000  3.173460e+03      NaN -44907.217025  \n",
      "75%    1.624000e+04    242.000000  1.196476e+04      NaN -44885.138510  \n",
      "max    4.683772e+07    562.000000  2.415566e+06      NaN -44700.305532  \n",
      "[20 23 0 37 49 55 58 62 72 79 92 97 107 112 48 63 119 120 -226 -224 135\n",
      " 142 149 154 127 140 163 162 161 166 156 170 174 175 173 167 169 164 168\n",
      " -198 -190 153 183 176 178 179 180 181 182 177 -192 188 191 197 202 203\n",
      " 210 190 308 339 198 195 187 189 194 196 199 200 201 204 205 206 207 208\n",
      " 209 193 -173 184 215 216 217 219 225 233 211 213 214 212 186 -169 222 223\n",
      " 224 248 226 185 218 158 401 269 160 229 220 -153 227 230 231 232 221 236\n",
      " 237 239 240 -147 244 247 462 238 234 241 243 235 606 250 251 252 253 254\n",
      " 604 245 246 128 242 280 341 372 257 258 259 260 261 402 433 159 371 249\n",
      " 255 262 264 265 266 268 228 256 463 267 271 274 272 275 310 282 279 273\n",
      " 289 286 287 288 283 276 281 278 285 311 403 434 293 294 296 340 307 299\n",
      " 300 303 309 313 297 316 317 320 314 324 331 330 318 334 335 337 -45168\n",
      " 345 352 359 356 363 344 338 366 373 378 380 384 387 386 369 393 376 388\n",
      " 405 408 419 425 439 442 457 449 471 468 474 475 476 520]\n"
     ]
    }
   ],
   "source": [
    "# Resumen general\n",
    "print(df_numeros.describe())\n",
    "#print(df_detalle.describe())\n",
    "\n",
    "# Departamentos únicos\n",
    "print(df_numeros[\"FECHA DE PAGO \"].unique())\n",
    "#print(df_detalle[\"DEPARTAMENTO\"].unique())\n"
   ]
  },
  {
   "cell_type": "markdown",
   "metadata": {},
   "source": [
    "## Gasto vs Presupuesto"
   ]
  },
  {
   "cell_type": "code",
   "execution_count": 66,
   "metadata": {},
   "outputs": [
    {
     "data": {
      "application/vnd.plotly.v1+json": {
       "config": {
        "plotlyServerURL": "https://plot.ly"
       },
       "data": [
        {
         "alignmentgroup": "True",
         "hovertemplate": "Tipo=PRESUPUESTO<br>DEPARTAMENTO=%{x}<br>Monto=%{y}<extra></extra>",
         "legendgroup": "PRESUPUESTO",
         "marker": {
          "color": "#636efa",
          "pattern": {
           "shape": ""
          }
         },
         "name": "PRESUPUESTO",
         "offsetgroup": "PRESUPUESTO",
         "orientation": "v",
         "showlegend": true,
         "textposition": "auto",
         "type": "bar",
         "x": [
          "Contratación",
          "Eq. Reparto",
          "Arte y Diseño",
          "Eq, Caracterización",
          "Eq. Escenografía",
          "Eq. Música",
          "Eq. Coreografía",
          "Vestuario",
          "Maquillaje",
          "Peinado",
          "Rec. Técnicos",
          "Eq. Elécricos y maquinistas",
          "Eq. Iluminación",
          "Eq. Sonido Rodaje",
          "Eq. Efectos Especiales",
          "Eq. Efectos Digitales",
          "Eq. Sonido Post",
          "Eq Difusión Gráfica",
          "Producción",
          "Fotografía",
          "Eq. Dirección",
          "Eq. Producción",
          "Eq. Locaciones",
          "Distribución",
          "Eq. Auxiliares",
          "Creativo",
          "Eq. Guión y adaptación",
          "Editor",
          "Logística",
          "Ensamble y montaje",
          "Eq. Inventario",
          "Utilería"
         ],
         "xaxis": "x",
         "y": {
          "bdata": "AAAAAAAA+H/hehSus84kQQAAAAAAAPh/16NwPaAyFEEK16PwO6EpQZDC9SiZUxlBpHA9ijfEJEH2KFyPDocqQRWuR+FRkSBBw/UoXPVlE0EAAAAAAAD4f4XrUbgAbBxBpHA9CpXLDkH1KFyPus/6QK5H4XoI9QJBXI/C9SlcHkHXo3C9l+whQSlcj8IOVhdBAAAAAAAA+H97FK5HoSkdQa5H4XocehdBzczMzPFsI0FmZmbm1FgsQZqZmRnzfiRB9ihcD0dNLEEAAAAAAAD4fxWuR+Gl7hZBCtej8FBgKkEAAAAAAAD4f8P1KFw/0SNBw/UoXNe8JEHsUbgeta4pQQ==",
          "dtype": "f8"
         },
         "yaxis": "y"
        },
        {
         "alignmentgroup": "True",
         "hovertemplate": "Tipo=GASTO<br>DEPARTAMENTO=%{x}<br>Monto=%{y}<extra></extra>",
         "legendgroup": "GASTO",
         "marker": {
          "color": "#EF553B",
          "pattern": {
           "shape": ""
          }
         },
         "name": "GASTO",
         "offsetgroup": "GASTO",
         "orientation": "v",
         "showlegend": true,
         "textposition": "auto",
         "type": "bar",
         "x": [
          "Contratación",
          "Eq. Reparto",
          "Arte y Diseño",
          "Eq, Caracterización",
          "Eq. Escenografía",
          "Eq. Música",
          "Eq. Coreografía",
          "Vestuario",
          "Maquillaje",
          "Peinado",
          "Rec. Técnicos",
          "Eq. Elécricos y maquinistas",
          "Eq. Iluminación",
          "Eq. Sonido Rodaje",
          "Eq. Efectos Especiales",
          "Eq. Efectos Digitales",
          "Eq. Sonido Post",
          "Eq Difusión Gráfica",
          "Producción",
          "Fotografía",
          "Eq. Dirección",
          "Eq. Producción",
          "Eq. Locaciones",
          "Distribución",
          "Eq. Auxiliares",
          "Creativo",
          "Eq. Guión y adaptación",
          "Editor",
          "Logística",
          "Ensamble y montaje",
          "Eq. Inventario",
          "Utilería"
         ],
         "xaxis": "x",
         "y": {
          "bdata": "AAAAAAAA+H/D9ShcO30RQQAAAAAAAPh/hetRuPpU/kApXI9CHRQkQexRuB7xcxVBmpmZmZVQDEFSuB6F41UIQYXrUbgdFRNB61G4Hn2U+kAAAAAAAAD4f9ejcD22eBZBAAAAAHi9B0FxPQrXq+jlQK5H4XpsneFAH4XrUbWfGkFcj8J190khQZDC9Sh4DgBBAAAAAAAA+H9nZmZmDxcZQXsUrkexPgVB4XoUrouz8ED1KFyPVsD5QFK4HgW+niJBj8L1KCTH80AAAAAAAAD4f8P1KFyX4hFBpHA9ipt7JkEAAAAAAAD4f1yPwvVBwx5BZ2ZmZtakAUGF61G465wkQQ==",
          "dtype": "f8"
         },
         "yaxis": "y"
        }
       ],
       "layout": {
        "barmode": "group",
        "legend": {
         "title": {
          "text": "Tipo"
         },
         "tracegroupgap": 0
        },
        "template": {
         "data": {
          "bar": [
           {
            "error_x": {
             "color": "#2a3f5f"
            },
            "error_y": {
             "color": "#2a3f5f"
            },
            "marker": {
             "line": {
              "color": "#E5ECF6",
              "width": 0.5
             },
             "pattern": {
              "fillmode": "overlay",
              "size": 10,
              "solidity": 0.2
             }
            },
            "type": "bar"
           }
          ],
          "barpolar": [
           {
            "marker": {
             "line": {
              "color": "#E5ECF6",
              "width": 0.5
             },
             "pattern": {
              "fillmode": "overlay",
              "size": 10,
              "solidity": 0.2
             }
            },
            "type": "barpolar"
           }
          ],
          "carpet": [
           {
            "aaxis": {
             "endlinecolor": "#2a3f5f",
             "gridcolor": "white",
             "linecolor": "white",
             "minorgridcolor": "white",
             "startlinecolor": "#2a3f5f"
            },
            "baxis": {
             "endlinecolor": "#2a3f5f",
             "gridcolor": "white",
             "linecolor": "white",
             "minorgridcolor": "white",
             "startlinecolor": "#2a3f5f"
            },
            "type": "carpet"
           }
          ],
          "choropleth": [
           {
            "colorbar": {
             "outlinewidth": 0,
             "ticks": ""
            },
            "type": "choropleth"
           }
          ],
          "contour": [
           {
            "colorbar": {
             "outlinewidth": 0,
             "ticks": ""
            },
            "colorscale": [
             [
              0,
              "#0d0887"
             ],
             [
              0.1111111111111111,
              "#46039f"
             ],
             [
              0.2222222222222222,
              "#7201a8"
             ],
             [
              0.3333333333333333,
              "#9c179e"
             ],
             [
              0.4444444444444444,
              "#bd3786"
             ],
             [
              0.5555555555555556,
              "#d8576b"
             ],
             [
              0.6666666666666666,
              "#ed7953"
             ],
             [
              0.7777777777777778,
              "#fb9f3a"
             ],
             [
              0.8888888888888888,
              "#fdca26"
             ],
             [
              1,
              "#f0f921"
             ]
            ],
            "type": "contour"
           }
          ],
          "contourcarpet": [
           {
            "colorbar": {
             "outlinewidth": 0,
             "ticks": ""
            },
            "type": "contourcarpet"
           }
          ],
          "heatmap": [
           {
            "colorbar": {
             "outlinewidth": 0,
             "ticks": ""
            },
            "colorscale": [
             [
              0,
              "#0d0887"
             ],
             [
              0.1111111111111111,
              "#46039f"
             ],
             [
              0.2222222222222222,
              "#7201a8"
             ],
             [
              0.3333333333333333,
              "#9c179e"
             ],
             [
              0.4444444444444444,
              "#bd3786"
             ],
             [
              0.5555555555555556,
              "#d8576b"
             ],
             [
              0.6666666666666666,
              "#ed7953"
             ],
             [
              0.7777777777777778,
              "#fb9f3a"
             ],
             [
              0.8888888888888888,
              "#fdca26"
             ],
             [
              1,
              "#f0f921"
             ]
            ],
            "type": "heatmap"
           }
          ],
          "histogram": [
           {
            "marker": {
             "pattern": {
              "fillmode": "overlay",
              "size": 10,
              "solidity": 0.2
             }
            },
            "type": "histogram"
           }
          ],
          "histogram2d": [
           {
            "colorbar": {
             "outlinewidth": 0,
             "ticks": ""
            },
            "colorscale": [
             [
              0,
              "#0d0887"
             ],
             [
              0.1111111111111111,
              "#46039f"
             ],
             [
              0.2222222222222222,
              "#7201a8"
             ],
             [
              0.3333333333333333,
              "#9c179e"
             ],
             [
              0.4444444444444444,
              "#bd3786"
             ],
             [
              0.5555555555555556,
              "#d8576b"
             ],
             [
              0.6666666666666666,
              "#ed7953"
             ],
             [
              0.7777777777777778,
              "#fb9f3a"
             ],
             [
              0.8888888888888888,
              "#fdca26"
             ],
             [
              1,
              "#f0f921"
             ]
            ],
            "type": "histogram2d"
           }
          ],
          "histogram2dcontour": [
           {
            "colorbar": {
             "outlinewidth": 0,
             "ticks": ""
            },
            "colorscale": [
             [
              0,
              "#0d0887"
             ],
             [
              0.1111111111111111,
              "#46039f"
             ],
             [
              0.2222222222222222,
              "#7201a8"
             ],
             [
              0.3333333333333333,
              "#9c179e"
             ],
             [
              0.4444444444444444,
              "#bd3786"
             ],
             [
              0.5555555555555556,
              "#d8576b"
             ],
             [
              0.6666666666666666,
              "#ed7953"
             ],
             [
              0.7777777777777778,
              "#fb9f3a"
             ],
             [
              0.8888888888888888,
              "#fdca26"
             ],
             [
              1,
              "#f0f921"
             ]
            ],
            "type": "histogram2dcontour"
           }
          ],
          "mesh3d": [
           {
            "colorbar": {
             "outlinewidth": 0,
             "ticks": ""
            },
            "type": "mesh3d"
           }
          ],
          "parcoords": [
           {
            "line": {
             "colorbar": {
              "outlinewidth": 0,
              "ticks": ""
             }
            },
            "type": "parcoords"
           }
          ],
          "pie": [
           {
            "automargin": true,
            "type": "pie"
           }
          ],
          "scatter": [
           {
            "fillpattern": {
             "fillmode": "overlay",
             "size": 10,
             "solidity": 0.2
            },
            "type": "scatter"
           }
          ],
          "scatter3d": [
           {
            "line": {
             "colorbar": {
              "outlinewidth": 0,
              "ticks": ""
             }
            },
            "marker": {
             "colorbar": {
              "outlinewidth": 0,
              "ticks": ""
             }
            },
            "type": "scatter3d"
           }
          ],
          "scattercarpet": [
           {
            "marker": {
             "colorbar": {
              "outlinewidth": 0,
              "ticks": ""
             }
            },
            "type": "scattercarpet"
           }
          ],
          "scattergeo": [
           {
            "marker": {
             "colorbar": {
              "outlinewidth": 0,
              "ticks": ""
             }
            },
            "type": "scattergeo"
           }
          ],
          "scattergl": [
           {
            "marker": {
             "colorbar": {
              "outlinewidth": 0,
              "ticks": ""
             }
            },
            "type": "scattergl"
           }
          ],
          "scattermap": [
           {
            "marker": {
             "colorbar": {
              "outlinewidth": 0,
              "ticks": ""
             }
            },
            "type": "scattermap"
           }
          ],
          "scattermapbox": [
           {
            "marker": {
             "colorbar": {
              "outlinewidth": 0,
              "ticks": ""
             }
            },
            "type": "scattermapbox"
           }
          ],
          "scatterpolar": [
           {
            "marker": {
             "colorbar": {
              "outlinewidth": 0,
              "ticks": ""
             }
            },
            "type": "scatterpolar"
           }
          ],
          "scatterpolargl": [
           {
            "marker": {
             "colorbar": {
              "outlinewidth": 0,
              "ticks": ""
             }
            },
            "type": "scatterpolargl"
           }
          ],
          "scatterternary": [
           {
            "marker": {
             "colorbar": {
              "outlinewidth": 0,
              "ticks": ""
             }
            },
            "type": "scatterternary"
           }
          ],
          "surface": [
           {
            "colorbar": {
             "outlinewidth": 0,
             "ticks": ""
            },
            "colorscale": [
             [
              0,
              "#0d0887"
             ],
             [
              0.1111111111111111,
              "#46039f"
             ],
             [
              0.2222222222222222,
              "#7201a8"
             ],
             [
              0.3333333333333333,
              "#9c179e"
             ],
             [
              0.4444444444444444,
              "#bd3786"
             ],
             [
              0.5555555555555556,
              "#d8576b"
             ],
             [
              0.6666666666666666,
              "#ed7953"
             ],
             [
              0.7777777777777778,
              "#fb9f3a"
             ],
             [
              0.8888888888888888,
              "#fdca26"
             ],
             [
              1,
              "#f0f921"
             ]
            ],
            "type": "surface"
           }
          ],
          "table": [
           {
            "cells": {
             "fill": {
              "color": "#EBF0F8"
             },
             "line": {
              "color": "white"
             }
            },
            "header": {
             "fill": {
              "color": "#C8D4E3"
             },
             "line": {
              "color": "white"
             }
            },
            "type": "table"
           }
          ]
         },
         "layout": {
          "annotationdefaults": {
           "arrowcolor": "#2a3f5f",
           "arrowhead": 0,
           "arrowwidth": 1
          },
          "autotypenumbers": "strict",
          "coloraxis": {
           "colorbar": {
            "outlinewidth": 0,
            "ticks": ""
           }
          },
          "colorscale": {
           "diverging": [
            [
             0,
             "#8e0152"
            ],
            [
             0.1,
             "#c51b7d"
            ],
            [
             0.2,
             "#de77ae"
            ],
            [
             0.3,
             "#f1b6da"
            ],
            [
             0.4,
             "#fde0ef"
            ],
            [
             0.5,
             "#f7f7f7"
            ],
            [
             0.6,
             "#e6f5d0"
            ],
            [
             0.7,
             "#b8e186"
            ],
            [
             0.8,
             "#7fbc41"
            ],
            [
             0.9,
             "#4d9221"
            ],
            [
             1,
             "#276419"
            ]
           ],
           "sequential": [
            [
             0,
             "#0d0887"
            ],
            [
             0.1111111111111111,
             "#46039f"
            ],
            [
             0.2222222222222222,
             "#7201a8"
            ],
            [
             0.3333333333333333,
             "#9c179e"
            ],
            [
             0.4444444444444444,
             "#bd3786"
            ],
            [
             0.5555555555555556,
             "#d8576b"
            ],
            [
             0.6666666666666666,
             "#ed7953"
            ],
            [
             0.7777777777777778,
             "#fb9f3a"
            ],
            [
             0.8888888888888888,
             "#fdca26"
            ],
            [
             1,
             "#f0f921"
            ]
           ],
           "sequentialminus": [
            [
             0,
             "#0d0887"
            ],
            [
             0.1111111111111111,
             "#46039f"
            ],
            [
             0.2222222222222222,
             "#7201a8"
            ],
            [
             0.3333333333333333,
             "#9c179e"
            ],
            [
             0.4444444444444444,
             "#bd3786"
            ],
            [
             0.5555555555555556,
             "#d8576b"
            ],
            [
             0.6666666666666666,
             "#ed7953"
            ],
            [
             0.7777777777777778,
             "#fb9f3a"
            ],
            [
             0.8888888888888888,
             "#fdca26"
            ],
            [
             1,
             "#f0f921"
            ]
           ]
          },
          "colorway": [
           "#636efa",
           "#EF553B",
           "#00cc96",
           "#ab63fa",
           "#FFA15A",
           "#19d3f3",
           "#FF6692",
           "#B6E880",
           "#FF97FF",
           "#FECB52"
          ],
          "font": {
           "color": "#2a3f5f"
          },
          "geo": {
           "bgcolor": "white",
           "lakecolor": "white",
           "landcolor": "#E5ECF6",
           "showlakes": true,
           "showland": true,
           "subunitcolor": "white"
          },
          "hoverlabel": {
           "align": "left"
          },
          "hovermode": "closest",
          "mapbox": {
           "style": "light"
          },
          "paper_bgcolor": "white",
          "plot_bgcolor": "#E5ECF6",
          "polar": {
           "angularaxis": {
            "gridcolor": "white",
            "linecolor": "white",
            "ticks": ""
           },
           "bgcolor": "#E5ECF6",
           "radialaxis": {
            "gridcolor": "white",
            "linecolor": "white",
            "ticks": ""
           }
          },
          "scene": {
           "xaxis": {
            "backgroundcolor": "#E5ECF6",
            "gridcolor": "white",
            "gridwidth": 2,
            "linecolor": "white",
            "showbackground": true,
            "ticks": "",
            "zerolinecolor": "white"
           },
           "yaxis": {
            "backgroundcolor": "#E5ECF6",
            "gridcolor": "white",
            "gridwidth": 2,
            "linecolor": "white",
            "showbackground": true,
            "ticks": "",
            "zerolinecolor": "white"
           },
           "zaxis": {
            "backgroundcolor": "#E5ECF6",
            "gridcolor": "white",
            "gridwidth": 2,
            "linecolor": "white",
            "showbackground": true,
            "ticks": "",
            "zerolinecolor": "white"
           }
          },
          "shapedefaults": {
           "line": {
            "color": "#2a3f5f"
           }
          },
          "ternary": {
           "aaxis": {
            "gridcolor": "white",
            "linecolor": "white",
            "ticks": ""
           },
           "baxis": {
            "gridcolor": "white",
            "linecolor": "white",
            "ticks": ""
           },
           "bgcolor": "#E5ECF6",
           "caxis": {
            "gridcolor": "white",
            "linecolor": "white",
            "ticks": ""
           }
          },
          "title": {
           "x": 0.05
          },
          "xaxis": {
           "automargin": true,
           "gridcolor": "white",
           "linecolor": "white",
           "ticks": "",
           "title": {
            "standoff": 15
           },
           "zerolinecolor": "white",
           "zerolinewidth": 2
          },
          "yaxis": {
           "automargin": true,
           "gridcolor": "white",
           "linecolor": "white",
           "ticks": "",
           "title": {
            "standoff": 15
           },
           "zerolinecolor": "white",
           "zerolinewidth": 2
          }
         }
        },
        "title": {
         "text": "Presupuesto vs Gasto por Departamento"
        },
        "xaxis": {
         "anchor": "y",
         "domain": [
          0,
          1
         ],
         "tickangle": -45,
         "title": {
          "text": "Departamento"
         }
        },
        "yaxis": {
         "anchor": "x",
         "domain": [
          0,
          1
         ],
         "title": {
          "text": "Monto"
         }
        }
       }
      }
     },
     "metadata": {},
     "output_type": "display_data"
    }
   ],
   "source": [
    "df_melted = df_resumen.melt(id_vars=\"DEPARTAMENTO\", value_vars=[\"PRESUPUESTO\", \"GASTO\"],\n",
    "                            var_name=\"Tipo\", value_name=\"Monto\")\n",
    "\n",
    "# Gráfico interactivo\n",
    "fig = px.bar(df_melted, x=\"DEPARTAMENTO\", y=\"Monto\", color=\"Tipo\", barmode=\"group\",\n",
    "             title=\"Presupuesto vs Gasto por Departamento\")\n",
    "\n",
    "fig.update_layout(xaxis_title=\"Departamento\", yaxis_title=\"Monto\", xaxis_tickangle=-45)\n",
    "fig.show()"
   ]
  },
  {
   "cell_type": "markdown",
   "metadata": {},
   "source": [
    "1. Departamentos con mayor presupuesto asignado: \n",
    "\n",
    "- Total, Subtotales, y algunos bloques técnicos como Recursos Técnicos o Eq. Guión y Adaptativo destacan con montos de presupuesto mucho más altos que otros departamentos.\n",
    "\n",
    "- Estas categorías parecen funcionar como agrupaciones globales, lo cual puede inflar la escala visual si se comparan directamente con unidades pequeñas.\n",
    "\n",
    "2. Departamentos con mayor gasto ejecutado:\n",
    "\n",
    "- Algunos departamentos como Arte y Diseño, Eq. Escenografía, y Dirección muestran un gasto real considerable, cercano a su presupuesto.\n",
    "\n",
    "- Esto sugiere que son áreas clave en la producción y tienen una alta participación en el uso de recursos."
   ]
  },
  {
   "cell_type": "markdown",
   "metadata": {},
   "source": [
    "## Porcentaje del gasto por unidad específica (UNIDAD ESP.) dentro de cada departamento"
   ]
  },
  {
   "cell_type": "code",
   "execution_count": 69,
   "metadata": {},
   "outputs": [
    {
     "data": {
      "image/png": "[encoded data removed]",
      "text/plain": [
       "<Figure size 600x600 with 1 Axes>"
      ]
     },
     "metadata": {},
     "output_type": "display_data"
    },
    {
     "data": {
      "image/png": "[encoded data removed]",
      "text/plain": [
       "<Figure size 600x600 with 1 Axes>"
      ]
     },
     "metadata": {},
     "output_type": "display_data"
    },
    {
     "data": {
      "image/png": "[encoded data removed]",
      "text/plain": [
       "<Figure size 600x600 with 1 Axes>"
      ]
     },
     "metadata": {},
     "output_type": "display_data"
    },
    {
     "data": {
      "image/png": "[encoded data removed]",
      "text/plain": [
       "<Figure size 600x600 with 1 Axes>"
      ]
     },
     "metadata": {},
     "output_type": "display_data"
    },
    {
     "data": {
      "image/png": "[encoded data removed]",
      "text/plain": [
       "<Figure size 600x600 with 1 Axes>"
      ]
     },
     "metadata": {},
     "output_type": "display_data"
    },
    {
     "data": {
      "text/plain": [
       "5"
      ]
     },
     "execution_count": 69,
     "metadata": {},
     "output_type": "execute_result"
    }
   ],
   "source": [
    "# Obtener los departamentos únicos\n",
    "departamentos = df_detalle[\"DEPARTAMENTO\"].unique()\n",
    "\n",
    "# Crear un gráfico de pastel por cada departamento\n",
    "num_departamentos = len(departamentos)\n",
    "fig_count = 0\n",
    "\n",
    "for dept in departamentos:\n",
    "    unidades = df_detalle[df_detalle[\"DEPARTAMENTO\"] == dept].groupby(\"UNIDAD ESP.\")[\"GASTO\"].sum()\n",
    "    \n",
    "    # Solo graficar si hay más de una unidad\n",
    "    if len(unidades) > 1:\n",
    "        fig, ax = plt.subplots(figsize=(6, 6))\n",
    "        ax.pie(unidades, labels=unidades.index, autopct='%1.1f%%', startangle=90)\n",
    "        ax.set_title(f'Distribución del Gasto por Unidad - {dept}')\n",
    "        plt.tight_layout()\n",
    "        plt.show()\n",
    "        fig_count += 1\n",
    "\n",
    "fig_count\n"
   ]
  },
  {
   "cell_type": "markdown",
   "metadata": {},
   "source": [
    "### Hipótesis: \"Los departamentos con mayor presupuesto tienen un mayor gasto acumulado\""
   ]
  },
  {
   "cell_type": "code",
   "execution_count": 67,
   "metadata": {},
   "outputs": [
    {
     "name": "stdout",
     "output_type": "stream",
     "text": [
      "Correlación entre presupuesto y gasto:  0.4207121801725367\n"
     ]
    },
    {
     "data": {
      "image/png": "[encoded data removed]",
      "text/plain": [
       "<Figure size 800x600 with 1 Axes>"
      ]
     },
     "metadata": {},
     "output_type": "display_data"
    }
   ],
   "source": [
    "# Calcular la correlación de Pearson entre Presupuesto y Gasto\n",
    "correlation = df_resumen[\"PRESUPUESTO\"].corr(df_resumen[\"GASTO\"])\n",
    "print(\"Correlación entre presupuesto y gasto: \", correlation)\n",
    "\n",
    "# Gráfico de dispersión con línea de tendencia\n",
    "plt.figure(figsize=(8, 6))\n",
    "plt.scatter(df_resumen[\"PRESUPUESTO\"], df_resumen[\"GASTO\"], alpha=0.7)\n",
    "plt.title(\"Relación entre Presupuesto y Gasto por Departamento\")\n",
    "plt.xlabel(\"Presupuesto\")\n",
    "plt.ylabel(\"Gasto\")\n",
    "plt.grid(True)\n",
    "\n",
    "# Añadir línea de referencia 1:1 para comparar igualdad\n",
    "max_val = max(df_resumen[\"PRESUPUESTO\"].max(), df_resumen[\"GASTO\"].max())\n",
    "plt.plot([0, max_val], [0, max_val], color='red', linestyle='--', label='Igualdad Gasto = Presupuesto')\n",
    "plt.legend()\n",
    "\n",
    "plt.tight_layout()\n",
    "plt.show()"
   ]
  },
  {
   "cell_type": "markdown",
   "metadata": {},
   "source": [
    "La correlación entre el presupuesto y el gasto es de aproximadamente 0.42.\n",
    "\n",
    "Esto indica una correlación moderada y positiva: en general, los departamentos con mayor presupuesto tienden a gastar más, aunque no es una relación muy fuerte. Hay cierta dispersión que sugiere que otros factores podrían influir en el gasto real.\n",
    "\n"
   ]
  },
  {
   "cell_type": "markdown",
   "metadata": {},
   "source": [
    "### Hipótesis 2: \"Producción y Arte y Diseño son los departamentos con mayor variabilidad en el gasto por unidad específica\""
   ]
  },
  {
   "cell_type": "code",
   "execution_count": 68,
   "metadata": {},
   "outputs": [
    {
     "data": {
      "image/png": "[encoded data removed]",
      "text/plain": [
       "<Figure size 1000x600 with 1 Axes>"
      ]
     },
     "metadata": {},
     "output_type": "display_data"
    }
   ],
   "source": [
    "# Agrupar por departamento y calcular la desviación estándar del gasto\n",
    "std_gasto_por_departamento = df_detalle.groupby(\"DEPARTAMENTO\")[\"GASTO\"].std().sort_values(ascending=False)\n",
    "\n",
    "# Crear gráfico de barras\n",
    "plt.figure(figsize=(10, 6))\n",
    "std_gasto_por_departamento.plot(kind='bar', color='skyblue')\n",
    "plt.title(\"Desviación Estándar del Gasto por Departamento (Variabilidad)\")\n",
    "plt.xlabel(\"Departamento\")\n",
    "plt.ylabel(\"Desviación Estándar del Gasto\")\n",
    "plt.xticks(rotation=45)\n",
    "plt.grid(axis='y')\n",
    "\n",
    "plt.tight_layout()\n",
    "plt.show()"
   ]
  },
  {
   "cell_type": "markdown",
   "metadata": {},
   "source": [
    "- Se confirma que Producción y Arte y Diseño están entre los departamentos con mayor variabilidad, lo que respalda parcialmente la hipótesis.\n",
    "\n",
    "- Cuanto mayor la barra, mayor la dispersión de los montos de gasto entre sus unidades específicas.\n",
    "\n",
    "- Alta desviación estándar = el gasto no es consistente entre las unidades.\n",
    "\n",
    "- Baja desviación estándar = el gasto es similar entre todas las unidades.\n",
    "\n",
    "Sí, la hipótesis se confirma. Ambos departamentos presentan una de las mayores variabilidades en el gasto, lo cual puede ser indicio de gestión descentralizada o necesidades muy distintas entre sus unidades.\n",
    "\n",
    "\n",
    "\n"
   ]
  },
  {
   "cell_type": "markdown",
   "metadata": {},
   "source": [
    "### Hipótesis 3: \"La mayoría del gasto ocurre durante el mes de noviembre.\""
   ]
  },
  {
   "cell_type": "code",
   "execution_count": 71,
   "metadata": {},
   "outputs": [
    {
     "data": {
      "application/vnd.plotly.v1+json": {
       "config": {
        "plotlyServerURL": "https://plot.ly"
       },
       "data": [
        {
         "hovertemplate": "Mes=%{x}<br>Gasto Total=%{marker.color}<extra></extra>",
         "legendgroup": "",
         "marker": {
          "color": {
           "bdata": "oImwGYUcQ0FcIEGh6Zo2QYnS3kBaNTNBMQisvH+7MEEpXI/C9IAsQaabxGAGqyFB",
           "dtype": "f8"
          },
          "coloraxis": "coloraxis",
          "pattern": {
           "shape": ""
          }
         },
         "name": "",
         "orientation": "v",
         "showlegend": false,
         "textposition": "auto",
         "type": "bar",
         "x": [
          "December",
          "March",
          "January",
          "November",
          "February",
          "April"
         ],
         "xaxis": "x",
         "y": {
          "bdata": "oImwGYUcQ0FcIEGh6Zo2QYnS3kBaNTNBMQisvH+7MEEpXI/C9IAsQaabxGAGqyFB",
          "dtype": "f8"
         },
         "yaxis": "y"
        }
       ],
       "layout": {
        "barmode": "relative",
        "coloraxis": {
         "colorbar": {
          "title": {
           "text": "Gasto Total"
          }
         },
         "colorscale": [
          [
           0,
           "#0d0887"
          ],
          [
           0.1111111111111111,
           "#46039f"
          ],
          [
           0.2222222222222222,
           "#7201a8"
          ],
          [
           0.3333333333333333,
           "#9c179e"
          ],
          [
           0.4444444444444444,
           "#bd3786"
          ],
          [
           0.5555555555555556,
           "#d8576b"
          ],
          [
           0.6666666666666666,
           "#ed7953"
          ],
          [
           0.7777777777777778,
           "#fb9f3a"
          ],
          [
           0.8888888888888888,
           "#fdca26"
          ],
          [
           1,
           "#f0f921"
          ]
         ]
        },
        "legend": {
         "tracegroupgap": 0
        },
        "template": {
         "data": {
          "bar": [
           {
            "error_x": {
             "color": "#2a3f5f"
            },
            "error_y": {
             "color": "#2a3f5f"
            },
            "marker": {
             "line": {
              "color": "#E5ECF6",
              "width": 0.5
             },
             "pattern": {
              "fillmode": "overlay",
              "size": 10,
              "solidity": 0.2
             }
            },
            "type": "bar"
           }
          ],
          "barpolar": [
           {
            "marker": {
             "line": {
              "color": "#E5ECF6",
              "width": 0.5
             },
             "pattern": {
              "fillmode": "overlay",
              "size": 10,
              "solidity": 0.2
             }
            },
            "type": "barpolar"
           }
          ],
          "carpet": [
           {
            "aaxis": {
             "endlinecolor": "#2a3f5f",
             "gridcolor": "white",
             "linecolor": "white",
             "minorgridcolor": "white",
             "startlinecolor": "#2a3f5f"
            },
            "baxis": {
             "endlinecolor": "#2a3f5f",
             "gridcolor": "white",
             "linecolor": "white",
             "minorgridcolor": "white",
             "startlinecolor": "#2a3f5f"
            },
            "type": "carpet"
           }
          ],
          "choropleth": [
           {
            "colorbar": {
             "outlinewidth": 0,
             "ticks": ""
            },
            "type": "choropleth"
           }
          ],
          "contour": [
           {
            "colorbar": {
             "outlinewidth": 0,
             "ticks": ""
            },
            "colorscale": [
             [
              0,
              "#0d0887"
             ],
             [
              0.1111111111111111,
              "#46039f"
             ],
             [
              0.2222222222222222,
              "#7201a8"
             ],
             [
              0.3333333333333333,
              "#9c179e"
             ],
             [
              0.4444444444444444,
              "#bd3786"
             ],
             [
              0.5555555555555556,
              "#d8576b"
             ],
             [
              0.6666666666666666,
              "#ed7953"
             ],
             [
              0.7777777777777778,
              "#fb9f3a"
             ],
             [
              0.8888888888888888,
              "#fdca26"
             ],
             [
              1,
              "#f0f921"
             ]
            ],
            "type": "contour"
           }
          ],
          "contourcarpet": [
           {
            "colorbar": {
             "outlinewidth": 0,
             "ticks": ""
            },
            "type": "contourcarpet"
           }
          ],
          "heatmap": [
           {
            "colorbar": {
             "outlinewidth": 0,
             "ticks": ""
            },
            "colorscale": [
             [
              0,
              "#0d0887"
             ],
             [
              0.1111111111111111,
              "#46039f"
             ],
             [
              0.2222222222222222,
              "#7201a8"
             ],
             [
              0.3333333333333333,
              "#9c179e"
             ],
             [
              0.4444444444444444,
              "#bd3786"
             ],
             [
              0.5555555555555556,
              "#d8576b"
             ],
             [
              0.6666666666666666,
              "#ed7953"
             ],
             [
              0.7777777777777778,
              "#fb9f3a"
             ],
             [
              0.8888888888888888,
              "#fdca26"
             ],
             [
              1,
              "#f0f921"
             ]
            ],
            "type": "heatmap"
           }
          ],
          "histogram": [
           {
            "marker": {
             "pattern": {
              "fillmode": "overlay",
              "size": 10,
              "solidity": 0.2
             }
            },
            "type": "histogram"
           }
          ],
          "histogram2d": [
           {
            "colorbar": {
             "outlinewidth": 0,
             "ticks": ""
            },
            "colorscale": [
             [
              0,
              "#0d0887"
             ],
             [
              0.1111111111111111,
              "#46039f"
             ],
             [
              0.2222222222222222,
              "#7201a8"
             ],
             [
              0.3333333333333333,
              "#9c179e"
             ],
             [
              0.4444444444444444,
              "#bd3786"
             ],
             [
              0.5555555555555556,
              "#d8576b"
             ],
             [
              0.6666666666666666,
              "#ed7953"
             ],
             [
              0.7777777777777778,
              "#fb9f3a"
             ],
             [
              0.8888888888888888,
              "#fdca26"
             ],
             [
              1,
              "#f0f921"
             ]
            ],
            "type": "histogram2d"
           }
          ],
          "histogram2dcontour": [
           {
            "colorbar": {
             "outlinewidth": 0,
             "ticks": ""
            },
            "colorscale": [
             [
              0,
              "#0d0887"
             ],
             [
              0.1111111111111111,
              "#46039f"
             ],
             [
              0.2222222222222222,
              "#7201a8"
             ],
             [
              0.3333333333333333,
              "#9c179e"
             ],
             [
              0.4444444444444444,
              "#bd3786"
             ],
             [
              0.5555555555555556,
              "#d8576b"
             ],
             [
              0.6666666666666666,
              "#ed7953"
             ],
             [
              0.7777777777777778,
              "#fb9f3a"
             ],
             [
              0.8888888888888888,
              "#fdca26"
             ],
             [
              1,
              "#f0f921"
             ]
            ],
            "type": "histogram2dcontour"
           }
          ],
          "mesh3d": [
           {
            "colorbar": {
             "outlinewidth": 0,
             "ticks": ""
            },
            "type": "mesh3d"
           }
          ],
          "parcoords": [
           {
            "line": {
             "colorbar": {
              "outlinewidth": 0,
              "ticks": ""
             }
            },
            "type": "parcoords"
           }
          ],
          "pie": [
           {
            "automargin": true,
            "type": "pie"
           }
          ],
          "scatter": [
           {
            "fillpattern": {
             "fillmode": "overlay",
             "size": 10,
             "solidity": 0.2
            },
            "type": "scatter"
           }
          ],
          "scatter3d": [
           {
            "line": {
             "colorbar": {
              "outlinewidth": 0,
              "ticks": ""
             }
            },
            "marker": {
             "colorbar": {
              "outlinewidth": 0,
              "ticks": ""
             }
            },
            "type": "scatter3d"
           }
          ],
          "scattercarpet": [
           {
            "marker": {
             "colorbar": {
              "outlinewidth": 0,
              "ticks": ""
             }
            },
            "type": "scattercarpet"
           }
          ],
          "scattergeo": [
           {
            "marker": {
             "colorbar": {
              "outlinewidth": 0,
              "ticks": ""
             }
            },
            "type": "scattergeo"
           }
          ],
          "scattergl": [
           {
            "marker": {
             "colorbar": {
              "outlinewidth": 0,
              "ticks": ""
             }
            },
            "type": "scattergl"
           }
          ],
          "scattermap": [
           {
            "marker": {
             "colorbar": {
              "outlinewidth": 0,
              "ticks": ""
             }
            },
            "type": "scattermap"
           }
          ],
          "scattermapbox": [
           {
            "marker": {
             "colorbar": {
              "outlinewidth": 0,
              "ticks": ""
             }
            },
            "type": "scattermapbox"
           }
          ],
          "scatterpolar": [
           {
            "marker": {
             "colorbar": {
              "outlinewidth": 0,
              "ticks": ""
             }
            },
            "type": "scatterpolar"
           }
          ],
          "scatterpolargl": [
           {
            "marker": {
             "colorbar": {
              "outlinewidth": 0,
              "ticks": ""
             }
            },
            "type": "scatterpolargl"
           }
          ],
          "scatterternary": [
           {
            "marker": {
             "colorbar": {
              "outlinewidth": 0,
              "ticks": ""
             }
            },
            "type": "scatterternary"
           }
          ],
          "surface": [
           {
            "colorbar": {
             "outlinewidth": 0,
             "ticks": ""
            },
            "colorscale": [
             [
              0,
              "#0d0887"
             ],
             [
              0.1111111111111111,
              "#46039f"
             ],
             [
              0.2222222222222222,
              "#7201a8"
             ],
             [
              0.3333333333333333,
              "#9c179e"
             ],
             [
              0.4444444444444444,
              "#bd3786"
             ],
             [
              0.5555555555555556,
              "#d8576b"
             ],
             [
              0.6666666666666666,
              "#ed7953"
             ],
             [
              0.7777777777777778,
              "#fb9f3a"
             ],
             [
              0.8888888888888888,
              "#fdca26"
             ],
             [
              1,
              "#f0f921"
             ]
            ],
            "type": "surface"
           }
          ],
          "table": [
           {
            "cells": {
             "fill": {
              "color": "#EBF0F8"
             },
             "line": {
              "color": "white"
             }
            },
            "header": {
             "fill": {
              "color": "#C8D4E3"
             },
             "line": {
              "color": "white"
             }
            },
            "type": "table"
           }
          ]
         },
         "layout": {
          "annotationdefaults": {
           "arrowcolor": "#2a3f5f",
           "arrowhead": 0,
           "arrowwidth": 1
          },
          "autotypenumbers": "strict",
          "coloraxis": {
           "colorbar": {
            "outlinewidth": 0,
            "ticks": ""
           }
          },
          "colorscale": {
           "diverging": [
            [
             0,
             "#8e0152"
            ],
            [
             0.1,
             "#c51b7d"
            ],
            [
             0.2,
             "#de77ae"
            ],
            [
             0.3,
             "#f1b6da"
            ],
            [
             0.4,
             "#fde0ef"
            ],
            [
             0.5,
             "#f7f7f7"
            ],
            [
             0.6,
             "#e6f5d0"
            ],
            [
             0.7,
             "#b8e186"
            ],
            [
             0.8,
             "#7fbc41"
            ],
            [
             0.9,
             "#4d9221"
            ],
            [
             1,
             "#276419"
            ]
           ],
           "sequential": [
            [
             0,
             "#0d0887"
            ],
            [
             0.1111111111111111,
             "#46039f"
            ],
            [
             0.2222222222222222,
             "#7201a8"
            ],
            [
             0.3333333333333333,
             "#9c179e"
            ],
            [
             0.4444444444444444,
             "#bd3786"
            ],
            [
             0.5555555555555556,
             "#d8576b"
            ],
            [
             0.6666666666666666,
             "#ed7953"
            ],
            [
             0.7777777777777778,
             "#fb9f3a"
            ],
            [
             0.8888888888888888,
             "#fdca26"
            ],
            [
             1,
             "#f0f921"
            ]
           ],
           "sequentialminus": [
            [
             0,
             "#0d0887"
            ],
            [
             0.1111111111111111,
             "#46039f"
            ],
            [
             0.2222222222222222,
             "#7201a8"
            ],
            [
             0.3333333333333333,
             "#9c179e"
            ],
            [
             0.4444444444444444,
             "#bd3786"
            ],
            [
             0.5555555555555556,
             "#d8576b"
            ],
            [
             0.6666666666666666,
             "#ed7953"
            ],
            [
             0.7777777777777778,
             "#fb9f3a"
            ],
            [
             0.8888888888888888,
             "#fdca26"
            ],
            [
             1,
             "#f0f921"
            ]
           ]
          },
          "colorway": [
           "#636efa",
           "#EF553B",
           "#00cc96",
           "#ab63fa",
           "#FFA15A",
           "#19d3f3",
           "#FF6692",
           "#B6E880",
           "#FF97FF",
           "#FECB52"
          ],
          "font": {
           "color": "#2a3f5f"
          },
          "geo": {
           "bgcolor": "white",
           "lakecolor": "white",
           "landcolor": "#E5ECF6",
           "showlakes": true,
           "showland": true,
           "subunitcolor": "white"
          },
          "hoverlabel": {
           "align": "left"
          },
          "hovermode": "closest",
          "mapbox": {
           "style": "light"
          },
          "paper_bgcolor": "white",
          "plot_bgcolor": "#E5ECF6",
          "polar": {
           "angularaxis": {
            "gridcolor": "white",
            "linecolor": "white",
            "ticks": ""
           },
           "bgcolor": "#E5ECF6",
           "radialaxis": {
            "gridcolor": "white",
            "linecolor": "white",
            "ticks": ""
           }
          },
          "scene": {
           "xaxis": {
            "backgroundcolor": "#E5ECF6",
            "gridcolor": "white",
            "gridwidth": 2,
            "linecolor": "white",
            "showbackground": true,
            "ticks": "",
            "zerolinecolor": "white"
           },
           "yaxis": {
            "backgroundcolor": "#E5ECF6",
            "gridcolor": "white",
            "gridwidth": 2,
            "linecolor": "white",
            "showbackground": true,
            "ticks": "",
            "zerolinecolor": "white"
           },
           "zaxis": {
            "backgroundcolor": "#E5ECF6",
            "gridcolor": "white",
            "gridwidth": 2,
            "linecolor": "white",
            "showbackground": true,
            "ticks": "",
            "zerolinecolor": "white"
           }
          },
          "shapedefaults": {
           "line": {
            "color": "#2a3f5f"
           }
          },
          "ternary": {
           "aaxis": {
            "gridcolor": "white",
            "linecolor": "white",
            "ticks": ""
           },
           "baxis": {
            "gridcolor": "white",
            "linecolor": "white",
            "ticks": ""
           },
           "bgcolor": "#E5ECF6",
           "caxis": {
            "gridcolor": "white",
            "linecolor": "white",
            "ticks": ""
           }
          },
          "title": {
           "x": 0.05
          },
          "xaxis": {
           "automargin": true,
           "gridcolor": "white",
           "linecolor": "white",
           "ticks": "",
           "title": {
            "standoff": 15
           },
           "zerolinecolor": "white",
           "zerolinewidth": 2
          },
          "yaxis": {
           "automargin": true,
           "gridcolor": "white",
           "linecolor": "white",
           "ticks": "",
           "title": {
            "standoff": 15
           },
           "zerolinecolor": "white",
           "zerolinewidth": 2
          }
         }
        },
        "title": {
         "text": "Gasto Total por Mes"
        },
        "xaxis": {
         "anchor": "y",
         "domain": [
          0,
          1
         ],
         "tickangle": -45,
         "title": {
          "text": "Mes"
         }
        },
        "yaxis": {
         "anchor": "x",
         "domain": [
          0,
          1
         ],
         "title": {
          "text": "Gasto Total"
         }
        }
       }
      }
     },
     "metadata": {},
     "output_type": "display_data"
    }
   ],
   "source": [
    "# Asegurar formato de fecha y extraer el nombre del mes\n",
    "df_detalle[\"FECHA\"] = pd.to_datetime(df_detalle[\"FECHA\"], errors=\"coerce\")\n",
    "df_detalle[\"MES\"] = df_detalle[\"FECHA\"].dt.month_name()\n",
    "\n",
    "# Agrupar gasto por mes\n",
    "gasto_mensual = df_detalle.groupby(\"MES\")[\"GASTO\"].sum().reset_index()\n",
    "gasto_mensual = gasto_mensual.sort_values(\"GASTO\", ascending=False)\n",
    "\n",
    "# Gráfico de barras interactivo\n",
    "fig = px.bar(\n",
    "    gasto_mensual,\n",
    "    x=\"MES\",\n",
    "    y=\"GASTO\",\n",
    "    title=\"Gasto Total por Mes\",\n",
    "    labels={\"GASTO\": \"Gasto Total\", \"MES\": \"Mes\"},\n",
    "    color=\"GASTO\"\n",
    ")\n",
    "\n",
    "fig.update_layout(xaxis_tickangle=-45)\n",
    "fig.show()"
   ]
  },
  {
   "cell_type": "markdown",
   "metadata": {},
   "source": [
    "Noviembre no es el mes con mayor gasto. Diciembre ocupa ese lugar con más del doble del gasto de noviembre."
   ]
  }
 ],
 "metadata": {
  "kernelspec": {
   "display_name": "IDM",
   "language": "python",
   "name": "python3"
  },
  "language_info": {
   "codemirror_mode": {
    "name": "ipython",
    "version": 3
   },
   "file_extension": ".py",
   "mimetype": "text/x-python",
   "name": "python",
   "nbconvert_exporter": "python",
   "pygments_lexer": "ipython3",
   "version": "3.12.9"
  }
 },
 "nbformat": 4,
 "nbformat_minor": 2
}
