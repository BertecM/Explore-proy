{
 "cells": [
  {
   "cell_type": "markdown",
   "id": "8553bdec",
   "metadata": {},
   "source": [
    "<h2 align=\"center\">INSTITUTO TECNOLÓGICO Y DE ESTUDIOS<br>SUPERIORES DE MONTERREY</h2>\n",
    "<h3 align=\"center\">Campus Ciudad de México<br>Escuela de Ingeniería y Ciencias</h3>\n",
    "\n",
    "<br>\n",
    "\n",
    "<h3 align=\"center\">Análisis de Ciencia de Datos</h3>\n",
    "\n",
    "<h4 align=\"center\">Profesores: Leonardo Cañete-Sifuentes y Enrique González Núñez</h4>\n",
    "\n",
    "<br>\n",
    "\n",
    "<h3 align=\"center\">Proyecto integrador:</h3>\n",
    "\n",
    "<h3 align=\"center\">Análisis Financiero y Presupuestal en Producciones Audiovisuales</h3>\n",
    "\n",
    "<br><br>\n",
    "\n",
    "#### Integrantes del equipo:\n",
    "- **Victor Angel Martínez Vidaurri** – A01665456  \n",
    "- **Uziel Heredia Estrada** – A01XXXXXXX  \n",
    "- **Alan Ulises Luna Hernandez** – A01424523  \n",
    "- **Bertin Flores Silva** – A01XXXXXXX\n",
    "- **Bertin Flores Silva** – A01XXXXXXX    \n",
    "\n",
    "**Grupo:** 641  \n",
    "**Fecha:** junio, 2025\n",
    "\n"
   ]
  },
  {
   "cell_type": "markdown",
   "id": "19460400",
   "metadata": {},
   "source": [
    "# 🧪 Análisis Exploratorio de Datos (EDA) y Desarrollo\n",
    "\n",
    "En esta sección se incluye el desarrollo técnico del proyecto: lectura de archivos, transformación de datos, visualizaciones y cálculos estadísticos necesarios para comprobar las hipótesis planteadas.\n",
    "\n",
    "A continuación, se presenta el paso a paso del análisis.\n"
   ]
  },
  {
   "cell_type": "markdown",
   "id": "81242c98",
   "metadata": {},
   "source": [
    "## 📦 Bloque 1 – Importación de librerías\n",
    "Se cargan las bibliotecas necesarias para manipulación de datos, visualización y lectura de archivos Excel con múltiples hojas.\n"
   ]
  },
  {
   "cell_type": "code",
   "execution_count": 1,
   "id": "883c79ff",
   "metadata": {},
   "outputs": [],
   "source": [
    "# ==================== BLOQUE 1 – LIBRERÍAS ====================\n",
    "\n",
    "# Manipulación y análisis de datos\n",
    "import pandas as pd\n",
    "import numpy as np\n",
    "\n",
    "# Visualización estática y estadística\n",
    "import matplotlib.pyplot as plt\n",
    "import seaborn as sns\n",
    "\n",
    "# Visualización interactiva\n",
    "import plotly.express as px\n",
    "import plotly.graph_objects as go\n",
    "import plotly.io as pio\n",
    "\n",
    "# Lectura de archivos Excel con múltiples hojas\n",
    "import openpyxl\n"
   ]
  },
  {
   "cell_type": "markdown",
   "id": "8f024485",
   "metadata": {},
   "source": [
    "## 📥 Bloque 2 – Carga de Datos\n",
    "Se cargan las tres hojas principales del archivo Excel: `Summary`, `Cost Report` y `Data`.  \n",
    "Se omiten filas irrelevantes en la hoja de costos y se seleccionan sólo las columnas útiles (C:Z).\n"
   ]
  },
  {
   "cell_type": "code",
   "execution_count": 2,
   "id": "79bb7133",
   "metadata": {},
   "outputs": [
    {
     "name": "stdout",
     "output_type": "stream",
     "text": [
      "📄 Hojas disponibles en el archivo:\n",
      "['Summary', 'Comprometidos', 'Cost Report', 'Balance Sheet', 'Budget', 'Data Commitments', 'Data', 'Commitments', 'Tablas', 'Conciliación Bancaria']\n"
     ]
    },
    {
     "name": "stderr",
     "output_type": "stream",
     "text": [
      "c:\\Users\\ultim\\anaconda3\\envs\\IDM\\Lib\\site-packages\\openpyxl\\worksheet\\_reader.py:329: UserWarning: Data Validation extension is not supported and will be removed\n",
      "  warn(msg)\n",
      "c:\\Users\\ultim\\anaconda3\\envs\\IDM\\Lib\\site-packages\\openpyxl\\worksheet\\_reader.py:329: UserWarning: Data Validation extension is not supported and will be removed\n",
      "  warn(msg)\n"
     ]
    },
    {
     "name": "stdout",
     "output_type": "stream",
     "text": [
      "\n",
      "📊 Hoja 'Summary':\n"
     ]
    },
    {
     "data": {
      "text/html": [
       "<div>\n",
       "<style scoped>\n",
       "    .dataframe tbody tr th:only-of-type {\n",
       "        vertical-align: middle;\n",
       "    }\n",
       "\n",
       "    .dataframe tbody tr th {\n",
       "        vertical-align: top;\n",
       "    }\n",
       "\n",
       "    .dataframe thead th {\n",
       "        text-align: right;\n",
       "    }\n",
       "</style>\n",
       "<table border=\"1\" class=\"dataframe\">\n",
       "  <thead>\n",
       "    <tr style=\"text-align: right;\">\n",
       "      <th></th>\n",
       "      <th>Unnamed: 0</th>\n",
       "      <th>Unnamed: 1</th>\n",
       "      <th>Unnamed: 2</th>\n",
       "      <th>Unnamed: 3</th>\n",
       "      <th>Unnamed: 4</th>\n",
       "      <th>Unnamed: 5</th>\n",
       "      <th>Unnamed: 6</th>\n",
       "      <th>Unnamed: 7</th>\n",
       "      <th>Unnamed: 8</th>\n",
       "      <th>Unnamed: 9</th>\n",
       "      <th>Unnamed: 10</th>\n",
       "      <th>Unnamed: 11</th>\n",
       "      <th>Unnamed: 12</th>\n",
       "      <th>Unnamed: 13</th>\n",
       "      <th>Unnamed: 14</th>\n",
       "    </tr>\n",
       "  </thead>\n",
       "  <tbody>\n",
       "    <tr>\n",
       "      <th>0</th>\n",
       "      <td>NaN</td>\n",
       "      <td>NaN</td>\n",
       "      <td>NaN</td>\n",
       "      <td>NaN</td>\n",
       "      <td>NaN</td>\n",
       "      <td>NaN</td>\n",
       "      <td>NaN</td>\n",
       "      <td>NaN</td>\n",
       "      <td>NaN</td>\n",
       "      <td>NaN</td>\n",
       "      <td>NaN</td>\n",
       "      <td>NaN</td>\n",
       "      <td>NaN</td>\n",
       "      <td>NaN</td>\n",
       "      <td>NaN</td>\n",
       "    </tr>\n",
       "    <tr>\n",
       "      <th>1</th>\n",
       "      <td>NaN</td>\n",
       "      <td>NaN</td>\n",
       "      <td>NaN</td>\n",
       "      <td>NaN</td>\n",
       "      <td>NaN</td>\n",
       "      <td>NaN</td>\n",
       "      <td>NaN</td>\n",
       "      <td>NaN</td>\n",
       "      <td>NaN</td>\n",
       "      <td>NaN</td>\n",
       "      <td>NaN</td>\n",
       "      <td>NaN</td>\n",
       "      <td>NaN</td>\n",
       "      <td>NaN</td>\n",
       "      <td>NaN</td>\n",
       "    </tr>\n",
       "    <tr>\n",
       "      <th>2</th>\n",
       "      <td>NaN</td>\n",
       "      <td>NaN</td>\n",
       "      <td>NaN</td>\n",
       "      <td>NaN</td>\n",
       "      <td>NaN</td>\n",
       "      <td>NaN</td>\n",
       "      <td>NaN</td>\n",
       "      <td>NaN</td>\n",
       "      <td>NaN</td>\n",
       "      <td>NaN</td>\n",
       "      <td>NaN</td>\n",
       "      <td>NaN</td>\n",
       "      <td>NaN</td>\n",
       "      <td>NaN</td>\n",
       "      <td>NaN</td>\n",
       "    </tr>\n",
       "    <tr>\n",
       "      <th>3</th>\n",
       "      <td>NaN</td>\n",
       "      <td>NaN</td>\n",
       "      <td>NaN</td>\n",
       "      <td>COST REPORT</td>\n",
       "      <td>NaN</td>\n",
       "      <td>NaN</td>\n",
       "      <td>NaN</td>\n",
       "      <td>NaN</td>\n",
       "      <td>NaN</td>\n",
       "      <td>NaN</td>\n",
       "      <td>NaN</td>\n",
       "      <td>NaN</td>\n",
       "      <td>NaN</td>\n",
       "      <td>NaN</td>\n",
       "      <td>NaN</td>\n",
       "    </tr>\n",
       "    <tr>\n",
       "      <th>4</th>\n",
       "      <td>NaN</td>\n",
       "      <td>NaN</td>\n",
       "      <td>NaN</td>\n",
       "      <td>Etapa:</td>\n",
       "      <td>ALL</td>\n",
       "      <td>NaN</td>\n",
       "      <td>NaN</td>\n",
       "      <td>NaN</td>\n",
       "      <td>1</td>\n",
       "      <td>0</td>\n",
       "      <td>NaN</td>\n",
       "      <td>NaN</td>\n",
       "      <td>NaN</td>\n",
       "      <td>NaN</td>\n",
       "      <td>NaN</td>\n",
       "    </tr>\n",
       "  </tbody>\n",
       "</table>\n",
       "</div>"
      ],
      "text/plain": [
       "   Unnamed: 0 Unnamed: 1 Unnamed: 2   Unnamed: 3 Unnamed: 4 Unnamed: 5  \\\n",
       "0         NaN        NaN        NaN          NaN        NaN        NaN   \n",
       "1         NaN        NaN        NaN          NaN        NaN        NaN   \n",
       "2         NaN        NaN        NaN          NaN        NaN        NaN   \n",
       "3         NaN        NaN        NaN  COST REPORT        NaN        NaN   \n",
       "4         NaN        NaN        NaN       Etapa:        ALL        NaN   \n",
       "\n",
       "  Unnamed: 6 Unnamed: 7 Unnamed: 8 Unnamed: 9 Unnamed: 10 Unnamed: 11  \\\n",
       "0        NaN        NaN        NaN        NaN         NaN         NaN   \n",
       "1        NaN        NaN        NaN        NaN         NaN         NaN   \n",
       "2        NaN        NaN        NaN        NaN         NaN         NaN   \n",
       "3        NaN        NaN        NaN        NaN         NaN         NaN   \n",
       "4        NaN        NaN          1          0         NaN         NaN   \n",
       "\n",
       "  Unnamed: 12 Unnamed: 13 Unnamed: 14  \n",
       "0         NaN         NaN         NaN  \n",
       "1         NaN         NaN         NaN  \n",
       "2         NaN         NaN         NaN  \n",
       "3         NaN         NaN         NaN  \n",
       "4         NaN         NaN         NaN  "
      ]
     },
     "metadata": {},
     "output_type": "display_data"
    },
    {
     "name": "stdout",
     "output_type": "stream",
     "text": [
      "\n",
      "📊 Hoja 'Cost Report':\n"
     ]
    },
    {
     "data": {
      "text/html": [
       "<div>\n",
       "<style scoped>\n",
       "    .dataframe tbody tr th:only-of-type {\n",
       "        vertical-align: middle;\n",
       "    }\n",
       "\n",
       "    .dataframe tbody tr th {\n",
       "        vertical-align: top;\n",
       "    }\n",
       "\n",
       "    .dataframe thead th {\n",
       "        text-align: right;\n",
       "    }\n",
       "</style>\n",
       "<table border=\"1\" class=\"dataframe\">\n",
       "  <thead>\n",
       "    <tr style=\"text-align: right;\">\n",
       "      <th></th>\n",
       "      <th>TIPO</th>\n",
       "      <th>REF</th>\n",
       "      <th>Etapa</th>\n",
       "      <th>Sección</th>\n",
       "      <th>ACCT</th>\n",
       "      <th>Unnamed: 7</th>\n",
       "      <th>1</th>\n",
       "      <th>COST TO DATE</th>\n",
       "      <th>COMMITMENTS</th>\n",
       "      <th>TOTAL CTD</th>\n",
       "      <th>...</th>\n",
       "      <th>INDEX</th>\n",
       "      <th>2</th>\n",
       "      <th>P ESTIMATE FINAL COST</th>\n",
       "      <th>VARIANCE VS PFCST</th>\n",
       "      <th>INDEX.1</th>\n",
       "      <th>Comentarios</th>\n",
       "      <th>Unnamed: 22</th>\n",
       "      <th>Unnamed: 23</th>\n",
       "      <th>Unnamed: 24</th>\n",
       "      <th>Unnamed: 25</th>\n",
       "    </tr>\n",
       "  </thead>\n",
       "  <tbody>\n",
       "    <tr>\n",
       "      <th>0</th>\n",
       "      <td>Above the Line</td>\n",
       "      <td>Cuenta General</td>\n",
       "      <td>NaN</td>\n",
       "      <td>NaN</td>\n",
       "      <td>1100</td>\n",
       "      <td>NaN</td>\n",
       "      <td>NaN</td>\n",
       "      <td>10065000.08</td>\n",
       "      <td>0.0</td>\n",
       "      <td>10065000.08</td>\n",
       "      <td>...</td>\n",
       "      <td>NaN</td>\n",
       "      <td>NaN</td>\n",
       "      <td>10065000.08</td>\n",
       "      <td>0.0</td>\n",
       "      <td>NaN</td>\n",
       "      <td>NaN</td>\n",
       "      <td>NaN</td>\n",
       "      <td>NaN</td>\n",
       "      <td>NaN</td>\n",
       "      <td>NaN</td>\n",
       "    </tr>\n",
       "    <tr>\n",
       "      <th>1</th>\n",
       "      <td>Above the Line</td>\n",
       "      <td>Sub cuenta</td>\n",
       "      <td>NaN</td>\n",
       "      <td>NaN</td>\n",
       "      <td>1101</td>\n",
       "      <td>NaN</td>\n",
       "      <td>NaN</td>\n",
       "      <td>8340000.02</td>\n",
       "      <td>0.0</td>\n",
       "      <td>8340000.02</td>\n",
       "      <td>...</td>\n",
       "      <td>NaN</td>\n",
       "      <td>NaN</td>\n",
       "      <td>8340000.02</td>\n",
       "      <td>0.0</td>\n",
       "      <td>NaN</td>\n",
       "      <td>NaN</td>\n",
       "      <td>NaN</td>\n",
       "      <td>NaN</td>\n",
       "      <td>NaN</td>\n",
       "      <td>11.0</td>\n",
       "    </tr>\n",
       "    <tr>\n",
       "      <th>2</th>\n",
       "      <td>Above the Line</td>\n",
       "      <td>Detalle</td>\n",
       "      <td>NaN</td>\n",
       "      <td>NaN</td>\n",
       "      <td>1101-002</td>\n",
       "      <td>NaN</td>\n",
       "      <td>NaN</td>\n",
       "      <td>0.00</td>\n",
       "      <td>0.0</td>\n",
       "      <td>0.00</td>\n",
       "      <td>...</td>\n",
       "      <td>NaN</td>\n",
       "      <td>NaN</td>\n",
       "      <td>0.00</td>\n",
       "      <td>0.0</td>\n",
       "      <td>NaN</td>\n",
       "      <td>NaN</td>\n",
       "      <td>NaN</td>\n",
       "      <td>NaN</td>\n",
       "      <td>1101.0</td>\n",
       "      <td>NaN</td>\n",
       "    </tr>\n",
       "    <tr>\n",
       "      <th>3</th>\n",
       "      <td>Above the Line</td>\n",
       "      <td>Detalle</td>\n",
       "      <td>NaN</td>\n",
       "      <td>NaN</td>\n",
       "      <td>1101-004</td>\n",
       "      <td>NaN</td>\n",
       "      <td>NaN</td>\n",
       "      <td>0.00</td>\n",
       "      <td>0.0</td>\n",
       "      <td>0.00</td>\n",
       "      <td>...</td>\n",
       "      <td>NaN</td>\n",
       "      <td>NaN</td>\n",
       "      <td>0.00</td>\n",
       "      <td>0.0</td>\n",
       "      <td>NaN</td>\n",
       "      <td>NaN</td>\n",
       "      <td>NaN</td>\n",
       "      <td>NaN</td>\n",
       "      <td>1101.0</td>\n",
       "      <td>NaN</td>\n",
       "    </tr>\n",
       "    <tr>\n",
       "      <th>4</th>\n",
       "      <td>Above the Line</td>\n",
       "      <td>Detalle</td>\n",
       "      <td>DEVELOPMENT</td>\n",
       "      <td>NaN</td>\n",
       "      <td>1101-005</td>\n",
       "      <td>NaN</td>\n",
       "      <td>NaN</td>\n",
       "      <td>1400000.00</td>\n",
       "      <td>0.0</td>\n",
       "      <td>1400000.00</td>\n",
       "      <td>...</td>\n",
       "      <td>NaN</td>\n",
       "      <td>NaN</td>\n",
       "      <td>1400000.00</td>\n",
       "      <td>0.0</td>\n",
       "      <td>NaN</td>\n",
       "      <td>NaN</td>\n",
       "      <td>NaN</td>\n",
       "      <td>NaN</td>\n",
       "      <td>1101.0</td>\n",
       "      <td>NaN</td>\n",
       "    </tr>\n",
       "  </tbody>\n",
       "</table>\n",
       "<p>5 rows × 24 columns</p>\n",
       "</div>"
      ],
      "text/plain": [
       "             TIPO             REF        Etapa Sección      ACCT  Unnamed: 7  \\\n",
       "0  Above the Line  Cuenta General          NaN     NaN      1100         NaN   \n",
       "1  Above the Line      Sub cuenta          NaN     NaN      1101         NaN   \n",
       "2  Above the Line         Detalle          NaN     NaN  1101-002         NaN   \n",
       "3  Above the Line         Detalle          NaN     NaN  1101-004         NaN   \n",
       "4  Above the Line         Detalle  DEVELOPMENT     NaN  1101-005         NaN   \n",
       "\n",
       "    1  COST TO DATE  COMMITMENTS    TOTAL CTD  ...  INDEX   2  \\\n",
       "0 NaN   10065000.08          0.0  10065000.08  ...    NaN NaN   \n",
       "1 NaN    8340000.02          0.0   8340000.02  ...    NaN NaN   \n",
       "2 NaN          0.00          0.0         0.00  ...    NaN NaN   \n",
       "3 NaN          0.00          0.0         0.00  ...    NaN NaN   \n",
       "4 NaN    1400000.00          0.0   1400000.00  ...    NaN NaN   \n",
       "\n",
       "   P ESTIMATE FINAL COST  VARIANCE VS PFCST INDEX.1  Comentarios  Unnamed: 22  \\\n",
       "0            10065000.08                0.0     NaN          NaN          NaN   \n",
       "1             8340000.02                0.0     NaN          NaN          NaN   \n",
       "2                   0.00                0.0     NaN          NaN          NaN   \n",
       "3                   0.00                0.0     NaN          NaN          NaN   \n",
       "4             1400000.00                0.0     NaN          NaN          NaN   \n",
       "\n",
       "   Unnamed: 23  Unnamed: 24  Unnamed: 25  \n",
       "0          NaN          NaN          NaN  \n",
       "1          NaN          NaN         11.0  \n",
       "2          NaN       1101.0          NaN  \n",
       "3          NaN       1101.0          NaN  \n",
       "4          NaN       1101.0          NaN  \n",
       "\n",
       "[5 rows x 24 columns]"
      ]
     },
     "metadata": {},
     "output_type": "display_data"
    },
    {
     "name": "stdout",
     "output_type": "stream",
     "text": [
      "\n",
      "📊 Hoja 'Data':\n"
     ]
    },
    {
     "data": {
      "text/html": [
       "<div>\n",
       "<style scoped>\n",
       "    .dataframe tbody tr th:only-of-type {\n",
       "        vertical-align: middle;\n",
       "    }\n",
       "\n",
       "    .dataframe tbody tr th {\n",
       "        vertical-align: top;\n",
       "    }\n",
       "\n",
       "    .dataframe thead th {\n",
       "        text-align: right;\n",
       "    }\n",
       "</style>\n",
       "<table border=\"1\" class=\"dataframe\">\n",
       "  <thead>\n",
       "    <tr style=\"text-align: right;\">\n",
       "      <th></th>\n",
       "      <th>CONTROL</th>\n",
       "      <th># CHEQUE</th>\n",
       "      <th>PARTIDA PRESUPUESTAL</th>\n",
       "      <th>UIDD/FOLIO FISCAL</th>\n",
       "      <th>DIRECCION</th>\n",
       "      <th>REGIMEN FISCAL</th>\n",
       "      <th>NOMBRE REGIMEN FISCAL</th>\n",
       "      <th>RFC</th>\n",
       "      <th>STATUS</th>\n",
       "      <th>FECHA DE RECIBIDO</th>\n",
       "      <th>...</th>\n",
       "      <th>Valida</th>\n",
       "      <th>MES</th>\n",
       "      <th>Column1</th>\n",
       "      <th>SUBTOTAL2</th>\n",
       "      <th>IVA3</th>\n",
       "      <th>RET IVA4</th>\n",
       "      <th>RET ISR.1</th>\n",
       "      <th>TOTAL.1</th>\n",
       "      <th>CAMBIOS</th>\n",
       "      <th>Unnamed: 36</th>\n",
       "    </tr>\n",
       "  </thead>\n",
       "  <tbody>\n",
       "    <tr>\n",
       "      <th>0</th>\n",
       "      <td>NaN</td>\n",
       "      <td>NaN</td>\n",
       "      <td>Income (Funding)</td>\n",
       "      <td>NaN</td>\n",
       "      <td>NaN</td>\n",
       "      <td>NaN</td>\n",
       "      <td>NaN</td>\n",
       "      <td>NaN</td>\n",
       "      <td>NaN</td>\n",
       "      <td>NaN</td>\n",
       "      <td>...</td>\n",
       "      <td>Balance</td>\n",
       "      <td>NaN</td>\n",
       "      <td>0</td>\n",
       "      <td>NaN</td>\n",
       "      <td>NaN</td>\n",
       "      <td>NaN</td>\n",
       "      <td>NaN</td>\n",
       "      <td>NaN</td>\n",
       "      <td>NaN</td>\n",
       "      <td>NaN</td>\n",
       "    </tr>\n",
       "    <tr>\n",
       "      <th>1</th>\n",
       "      <td>NaN</td>\n",
       "      <td>NaN</td>\n",
       "      <td>Income (Funding) IVA</td>\n",
       "      <td>NaN</td>\n",
       "      <td>NaN</td>\n",
       "      <td>NaN</td>\n",
       "      <td>NaN</td>\n",
       "      <td>NaN</td>\n",
       "      <td>NaN</td>\n",
       "      <td>NaN</td>\n",
       "      <td>...</td>\n",
       "      <td>Balance</td>\n",
       "      <td>NaN</td>\n",
       "      <td>0</td>\n",
       "      <td>NaN</td>\n",
       "      <td>NaN</td>\n",
       "      <td>NaN</td>\n",
       "      <td>NaN</td>\n",
       "      <td>NaN</td>\n",
       "      <td>NaN</td>\n",
       "      <td>NaN</td>\n",
       "    </tr>\n",
       "    <tr>\n",
       "      <th>2</th>\n",
       "      <td>F1.2</td>\n",
       "      <td>NaN</td>\n",
       "      <td>Income (Funding)</td>\n",
       "      <td>NaN</td>\n",
       "      <td>NaN</td>\n",
       "      <td>Estados Unidos (los)</td>\n",
       "      <td>Estados Unidos (los)</td>\n",
       "      <td>0.0</td>\n",
       "      <td>NaN</td>\n",
       "      <td>NaN</td>\n",
       "      <td>...</td>\n",
       "      <td>Balance</td>\n",
       "      <td>NaN</td>\n",
       "      <td>0</td>\n",
       "      <td>NaN</td>\n",
       "      <td>NaN</td>\n",
       "      <td>NaN</td>\n",
       "      <td>NaN</td>\n",
       "      <td>NaN</td>\n",
       "      <td>NaN</td>\n",
       "      <td>NaN</td>\n",
       "    </tr>\n",
       "    <tr>\n",
       "      <th>3</th>\n",
       "      <td>N001</td>\n",
       "      <td>0001</td>\n",
       "      <td>7007-009</td>\n",
       "      <td>0.0</td>\n",
       "      <td>86127</td>\n",
       "      <td>Régimen Simplificado de Confianza</td>\n",
       "      <td>Régimen Simplificado de Confianza</td>\n",
       "      <td>1.0</td>\n",
       "      <td>NaN</td>\n",
       "      <td>33.0</td>\n",
       "      <td>...</td>\n",
       "      <td>7007-009</td>\n",
       "      <td>NaN</td>\n",
       "      <td>0</td>\n",
       "      <td>NaN</td>\n",
       "      <td>NaN</td>\n",
       "      <td>NaN</td>\n",
       "      <td>NaN</td>\n",
       "      <td>NaN</td>\n",
       "      <td>NaN</td>\n",
       "      <td>-45135.0</td>\n",
       "    </tr>\n",
       "    <tr>\n",
       "      <th>4</th>\n",
       "      <td>N003</td>\n",
       "      <td>0004</td>\n",
       "      <td>1107-009</td>\n",
       "      <td>1.0</td>\n",
       "      <td>4318</td>\n",
       "      <td>Régimen Simplificado de Confianza</td>\n",
       "      <td>Régimen Simplificado de Confianza</td>\n",
       "      <td>2.0</td>\n",
       "      <td>NaN</td>\n",
       "      <td>40.0</td>\n",
       "      <td>...</td>\n",
       "      <td>1107-009</td>\n",
       "      <td>NaN</td>\n",
       "      <td>0</td>\n",
       "      <td>NaN</td>\n",
       "      <td>NaN</td>\n",
       "      <td>NaN</td>\n",
       "      <td>NaN</td>\n",
       "      <td>NaN</td>\n",
       "      <td>NaN</td>\n",
       "      <td>-45128.0</td>\n",
       "    </tr>\n",
       "  </tbody>\n",
       "</table>\n",
       "<p>5 rows × 37 columns</p>\n",
       "</div>"
      ],
      "text/plain": [
       "  CONTROL # CHEQUE  PARTIDA PRESUPUESTAL  UIDD/FOLIO FISCAL DIRECCION  \\\n",
       "0     NaN      NaN      Income (Funding)                NaN       NaN   \n",
       "1     NaN      NaN  Income (Funding) IVA                NaN       NaN   \n",
       "2    F1.2      NaN      Income (Funding)                NaN       NaN   \n",
       "3    N001     0001              7007-009                0.0     86127   \n",
       "4    N003     0004              1107-009                1.0      4318   \n",
       "\n",
       "                      REGIMEN FISCAL              NOMBRE REGIMEN FISCAL  RFC  \\\n",
       "0                                NaN                                NaN  NaN   \n",
       "1                                NaN                                NaN  NaN   \n",
       "2              Estados Unidos (los)               Estados Unidos (los)   0.0   \n",
       "3  Régimen Simplificado de Confianza  Régimen Simplificado de Confianza  1.0   \n",
       "4  Régimen Simplificado de Confianza  Régimen Simplificado de Confianza  2.0   \n",
       "\n",
       "  STATUS  FECHA DE RECIBIDO  ...    Valida  MES  Column1  SUBTOTAL2  IVA3  \\\n",
       "0    NaN                NaN  ...   Balance  NaN        0        NaN   NaN   \n",
       "1    NaN                NaN  ...   Balance  NaN        0        NaN   NaN   \n",
       "2    NaN                NaN  ...   Balance  NaN        0        NaN   NaN   \n",
       "3    NaN               33.0  ...  7007-009  NaN        0        NaN   NaN   \n",
       "4    NaN               40.0  ...  1107-009  NaN        0        NaN   NaN   \n",
       "\n",
       "  RET IVA4  RET ISR.1 TOTAL.1 CAMBIOS Unnamed: 36  \n",
       "0      NaN        NaN     NaN     NaN         NaN  \n",
       "1      NaN        NaN     NaN     NaN         NaN  \n",
       "2      NaN        NaN     NaN     NaN         NaN  \n",
       "3      NaN        NaN     NaN     NaN    -45135.0  \n",
       "4      NaN        NaN     NaN     NaN    -45128.0  \n",
       "\n",
       "[5 rows x 37 columns]"
      ]
     },
     "metadata": {},
     "output_type": "display_data"
    }
   ],
   "source": [
    "# ==================== BLOQUE 2 – CARGA DE DATOS ====================\n",
    "\n",
    "# Cargar archivo Excel con múltiples hojas\n",
    "archivo = \"data/CR EJEMPLO MOD.xlsx\"\n",
    "xlsx = pd.ExcelFile(archivo)\n",
    "\n",
    "# Mostrar nombres de hojas disponibles\n",
    "print(\"📄 Hojas disponibles en el archivo:\")\n",
    "print(xlsx.sheet_names)\n",
    "\n",
    "# Leer hoja 'Summary' sin transformación adicional\n",
    "df_summary = pd.read_excel(xlsx, sheet_name=\"Summary\")\n",
    "\n",
    "# Leer hoja 'Data' completa\n",
    "df_data = pd.read_excel(xlsx, sheet_name=\"Data\")\n",
    "\n",
    "# Leer hoja 'Cost Report', omitiendo encabezados y tomando columnas útiles (C:Z)\n",
    "df_costreport = pd.read_excel(\n",
    "    xlsx,\n",
    "    sheet_name=\"Cost Report\",\n",
    "    skiprows=8,\n",
    "    usecols=\"C:Z\"\n",
    ")\n",
    "\n",
    "# Vista preliminar de los tres DataFrames cargados\n",
    "print(\"\\n📊 Hoja 'Summary':\")\n",
    "display(df_summary.head())\n",
    "\n",
    "print(\"\\n📊 Hoja 'Cost Report':\")\n",
    "display(df_costreport.head())\n",
    "\n",
    "print(\"\\n📊 Hoja 'Data':\")\n",
    "display(df_data.head())\n"
   ]
  },
  {
   "cell_type": "markdown",
   "id": "aeabb393",
   "metadata": {},
   "source": [
    "## 🧹 Bloque 3 – Preprocesamiento del Cost Report\n",
    "Se limpia y transforma la hoja `Cost Report` para dejarla lista para el análisis.  \n",
    "Se eliminan columnas irrelevantes, se filtran registros útiles (detalles), y se normalizan campos como `ACCT`, `Etapa` y `COMMITMENTS`. También se crea la jerarquía contable.\n"
   ]
  },
  {
   "cell_type": "code",
   "execution_count": null,
   "id": "3f617a65",
   "metadata": {},
   "outputs": [
    {
     "name": "stdout",
     "output_type": "stream",
     "text": [
      "Suma Cost Report original      : 402,840,948.29\n",
      "Suma tras filtrar 'detalle'    : 134,371,982.76\n",
      "Diferencia                      : 268,468,965.53\n",
      "\n",
      "Vista final de Cost Report preprocesado:\n"
     ]
    },
    {
     "name": "stderr",
     "output_type": "stream",
     "text": [
      "C:\\Users\\ultim\\AppData\\Local\\Temp\\ipykernel_9204\\1486106629.py:72: FutureWarning: Series.fillna with 'method' is deprecated and will raise in a future version. Use obj.ffill() or obj.bfill() instead.\n",
      "  df_cost[\"Etapa Normalizada\"] = df_cost[\"Etapa Normalizada\"].fillna(method=\"ffill\").fillna(method=\"bfill\")\n"
     ]
    },
    {
     "data": {
      "text/html": [
       "<div>\n",
       "<style scoped>\n",
       "    .dataframe tbody tr th:only-of-type {\n",
       "        vertical-align: middle;\n",
       "    }\n",
       "\n",
       "    .dataframe tbody tr th {\n",
       "        vertical-align: top;\n",
       "    }\n",
       "\n",
       "    .dataframe thead th {\n",
       "        text-align: right;\n",
       "    }\n",
       "</style>\n",
       "<table border=\"1\" class=\"dataframe\">\n",
       "  <thead>\n",
       "    <tr style=\"text-align: right;\">\n",
       "      <th></th>\n",
       "      <th>TIPO</th>\n",
       "      <th>REF</th>\n",
       "      <th>Etapa</th>\n",
       "      <th>Etapa Normalizada</th>\n",
       "      <th>Sección</th>\n",
       "      <th>ACCT</th>\n",
       "      <th>COST TO DATE</th>\n",
       "      <th>COMMITMENTS</th>\n",
       "      <th>TOTAL CTD</th>\n",
       "      <th>ESTIMATE TO COMPLETE (ETC)</th>\n",
       "      <th>ESTIMATE FINAL COST (EFC)</th>\n",
       "      <th>BUDGET</th>\n",
       "      <th>VARIANCE $</th>\n",
       "      <th>INDEX</th>\n",
       "      <th>Cuenta General</th>\n",
       "      <th>Cuenta Madre</th>\n",
       "      <th>Es Detalle</th>\n",
       "      <th>Nivel</th>\n",
       "      <th>Etiqueta</th>\n",
       "    </tr>\n",
       "  </thead>\n",
       "  <tbody>\n",
       "    <tr>\n",
       "      <th>0</th>\n",
       "      <td>Above the Line</td>\n",
       "      <td>Detalle</td>\n",
       "      <td>NaN</td>\n",
       "      <td>DEVELOPMENT</td>\n",
       "      <td>NaN</td>\n",
       "      <td>1101-002</td>\n",
       "      <td>0.00</td>\n",
       "      <td>0.0</td>\n",
       "      <td>0.00</td>\n",
       "      <td>0.0</td>\n",
       "      <td>0.00</td>\n",
       "      <td>0.0</td>\n",
       "      <td>0.00</td>\n",
       "      <td>NaN</td>\n",
       "      <td>1100</td>\n",
       "      <td>1101</td>\n",
       "      <td>True</td>\n",
       "      <td>Detalle</td>\n",
       "      <td>1101-002</td>\n",
       "    </tr>\n",
       "    <tr>\n",
       "      <th>1</th>\n",
       "      <td>Above the Line</td>\n",
       "      <td>Detalle</td>\n",
       "      <td>NaN</td>\n",
       "      <td>DEVELOPMENT</td>\n",
       "      <td>NaN</td>\n",
       "      <td>1101-004</td>\n",
       "      <td>0.00</td>\n",
       "      <td>0.0</td>\n",
       "      <td>0.00</td>\n",
       "      <td>0.0</td>\n",
       "      <td>0.00</td>\n",
       "      <td>0.0</td>\n",
       "      <td>0.00</td>\n",
       "      <td>NaN</td>\n",
       "      <td>1100</td>\n",
       "      <td>1101</td>\n",
       "      <td>True</td>\n",
       "      <td>Detalle</td>\n",
       "      <td>1101-004</td>\n",
       "    </tr>\n",
       "    <tr>\n",
       "      <th>2</th>\n",
       "      <td>Above the Line</td>\n",
       "      <td>Detalle</td>\n",
       "      <td>DEVELOPMENT</td>\n",
       "      <td>DEVELOPMENT</td>\n",
       "      <td>NaN</td>\n",
       "      <td>1101-005</td>\n",
       "      <td>1400000.00</td>\n",
       "      <td>0.0</td>\n",
       "      <td>1400000.00</td>\n",
       "      <td>0.0</td>\n",
       "      <td>1400000.00</td>\n",
       "      <td>1400000.0</td>\n",
       "      <td>0.00</td>\n",
       "      <td>NaN</td>\n",
       "      <td>1100</td>\n",
       "      <td>1101</td>\n",
       "      <td>True</td>\n",
       "      <td>Detalle</td>\n",
       "      <td>1101-005</td>\n",
       "    </tr>\n",
       "    <tr>\n",
       "      <th>3</th>\n",
       "      <td>Above the Line</td>\n",
       "      <td>Detalle</td>\n",
       "      <td>DEVELOPMENT</td>\n",
       "      <td>DEVELOPMENT</td>\n",
       "      <td>NaN</td>\n",
       "      <td>1101-006</td>\n",
       "      <td>100000.03</td>\n",
       "      <td>0.0</td>\n",
       "      <td>100000.03</td>\n",
       "      <td>0.0</td>\n",
       "      <td>100000.03</td>\n",
       "      <td>100000.0</td>\n",
       "      <td>-0.03</td>\n",
       "      <td>NaN</td>\n",
       "      <td>1100</td>\n",
       "      <td>1101</td>\n",
       "      <td>True</td>\n",
       "      <td>Detalle</td>\n",
       "      <td>1101-006</td>\n",
       "    </tr>\n",
       "    <tr>\n",
       "      <th>4</th>\n",
       "      <td>Above the Line</td>\n",
       "      <td>Detalle</td>\n",
       "      <td>DEVELOPMENT</td>\n",
       "      <td>DEVELOPMENT</td>\n",
       "      <td>NaN</td>\n",
       "      <td>1101-007</td>\n",
       "      <td>100000.00</td>\n",
       "      <td>0.0</td>\n",
       "      <td>100000.00</td>\n",
       "      <td>0.0</td>\n",
       "      <td>100000.00</td>\n",
       "      <td>100000.0</td>\n",
       "      <td>0.00</td>\n",
       "      <td>NaN</td>\n",
       "      <td>1100</td>\n",
       "      <td>1101</td>\n",
       "      <td>True</td>\n",
       "      <td>Detalle</td>\n",
       "      <td>1101-007</td>\n",
       "    </tr>\n",
       "  </tbody>\n",
       "</table>\n",
       "</div>"
      ],
      "text/plain": [
       "             TIPO      REF        Etapa Etapa Normalizada Sección      ACCT  \\\n",
       "0  Above the Line  Detalle          NaN       DEVELOPMENT     NaN  1101-002   \n",
       "1  Above the Line  Detalle          NaN       DEVELOPMENT     NaN  1101-004   \n",
       "2  Above the Line  Detalle  DEVELOPMENT       DEVELOPMENT     NaN  1101-005   \n",
       "3  Above the Line  Detalle  DEVELOPMENT       DEVELOPMENT     NaN  1101-006   \n",
       "4  Above the Line  Detalle  DEVELOPMENT       DEVELOPMENT     NaN  1101-007   \n",
       "\n",
       "   COST TO DATE  COMMITMENTS   TOTAL CTD  ESTIMATE TO COMPLETE (ETC)  \\\n",
       "0          0.00          0.0        0.00                         0.0   \n",
       "1          0.00          0.0        0.00                         0.0   \n",
       "2    1400000.00          0.0  1400000.00                         0.0   \n",
       "3     100000.03          0.0   100000.03                         0.0   \n",
       "4     100000.00          0.0   100000.00                         0.0   \n",
       "\n",
       "   ESTIMATE FINAL COST (EFC)     BUDGET  VARIANCE $  INDEX Cuenta General  \\\n",
       "0                       0.00        0.0        0.00    NaN           1100   \n",
       "1                       0.00        0.0        0.00    NaN           1100   \n",
       "2                 1400000.00  1400000.0        0.00    NaN           1100   \n",
       "3                  100000.03   100000.0       -0.03    NaN           1100   \n",
       "4                  100000.00   100000.0        0.00    NaN           1100   \n",
       "\n",
       "  Cuenta Madre  Es Detalle    Nivel  Etiqueta  \n",
       "0         1101        True  Detalle  1101-002  \n",
       "1         1101        True  Detalle  1101-004  \n",
       "2         1101        True  Detalle  1101-005  \n",
       "3         1101        True  Detalle  1101-006  \n",
       "4         1101        True  Detalle  1101-007  "
      ]
     },
     "metadata": {},
     "output_type": "display_data"
    }
   ],
   "source": [
    "# ============== BLOQUE 3 – PREPROCESAMIENTO DE COST REPORT ==============\n",
    "\n",
    "# Copia de seguridad del DataFrame original\n",
    "df_cost = df_costreport.copy()\n",
    "\n",
    "# Eliminar columnas generadas por Excel con encabezados vacíos\n",
    "df_cost = df_cost.loc[:, ~df_cost.columns.str.contains(r'^Unnamed', na=False)]\n",
    "\n",
    "# Limpiar espacios en los nombres de columna\n",
    "df_cost.columns = df_cost.columns.str.strip()\n",
    "\n",
    "# Convertir columnas numéricas relevantes a tipo float (forzando errores como NaN)\n",
    "cols_numericas = [\n",
    "    \"COST TO DATE\", \"COMMITMENTS\", \"TOTAL CTD\",\n",
    "    \"ESTIMATE TO COMPLETE (ETC)\", \"ESTIMATE FINAL COST (EFC)\",\n",
    "    \"BUDGET\", \"VARIANCE $\", \"INDEX\", \"P FCST\", \"VARIANCE $ \"\n",
    "]\n",
    "for col in cols_numericas:\n",
    "    if col in df_cost.columns:\n",
    "        df_cost[col] = pd.to_numeric(df_cost[col], errors=\"coerce\")\n",
    "\n",
    "# Filtrar filas que hacen referencia a \"detalle\" en la columna REF (sin importar mayúsculas/minúsculas)\n",
    "df_cost = df_cost[\n",
    "    df_cost[\"REF\"]\n",
    "        .astype(str)\n",
    "        .str.strip()\n",
    "        .str.lower()\n",
    "        .str.contains(r\"\\bdetalle\\b\", regex=True)\n",
    "].copy()\n",
    "\n",
    "# Validación: comparación de suma de “COST TO DATE” antes y después del filtrado\n",
    "suma_original = df_costreport[\"COST TO DATE\"].sum()\n",
    "suma_filtrado = df_cost[\"COST TO DATE\"].sum()\n",
    "print(f\"Suma Cost Report original      : {suma_original:,.2f}\")\n",
    "print(f\"Suma tras filtrar 'detalle'    : {suma_filtrado:,.2f}\")\n",
    "print(f\"Diferencia                      : {(suma_original - suma_filtrado):,.2f}\")\n",
    "\n",
    "# Convertir columna “ACCT” a texto limpio (sin espacios)\n",
    "df_cost[\"ACCT\"] = df_cost[\"ACCT\"].astype(str).str.strip()\n",
    "\n",
    "# Limpiar y convertir \"COMMITMENTS\", reemplazando valores no numéricos con 0\n",
    "df_cost[\"COMMITMENTS\"] = pd.to_numeric(df_cost[\"COMMITMENTS\"], errors=\"coerce\").fillna(0)\n",
    "\n",
    "# Crear jerarquía contable\n",
    "df_cost[\"Cuenta Madre\"] = df_cost[\"ACCT\"].str.split(\"-\").str[0]\n",
    "df_cost[\"Es Detalle\"] = df_cost[\"ACCT\"].str.contains(\"-\")\n",
    "\n",
    "def asignar_nivel(acct):\n",
    "    if \"-\" in acct:\n",
    "        return \"Detalle\"\n",
    "    elif len(acct) == 4:\n",
    "        return \"Subcuenta\"\n",
    "    else:\n",
    "        return \"Cuenta General\"\n",
    "\n",
    "df_cost[\"Nivel\"] = df_cost[\"ACCT\"].apply(asignar_nivel)\n",
    "\n",
    "# Crear campo “Cuenta General” (primeros dos dígitos + \"00\")\n",
    "df_cost[\"Cuenta General\"] = df_cost[\"Cuenta Madre\"].str[:2] + \"00\"\n",
    "\n",
    "# Etiqueta para gráficas: \"ACCT - Sección\" si la sección existe\n",
    "df_cost[\"Etiqueta\"] = df_cost.apply(\n",
    "    lambda row: f\"{row['ACCT']} - {row['Sección']}\" if pd.notna(row.get(\"Sección\")) else row[\"ACCT\"],\n",
    "    axis=1\n",
    ")\n",
    "\n",
    "# Normalizar columna “Etapa”\n",
    "etapas_validas = [\"DEVELOPMENT\", \"SOFT\", \"PREP\", \"SHOOT\", \"WRAP\", \"POST\"]\n",
    "df_cost[\"Etapa_str\"] = df_cost[\"Etapa\"].astype(str).str.strip().str.upper()\n",
    "df_cost[\"Etapa Normalizada\"] = df_cost[\"Etapa_str\"].apply(lambda x: x if x in etapas_validas else \"SHOOT\")\n",
    "df_cost.loc[df_cost[\"Etapa\"].isna(), \"Etapa Normalizada\"] = None\n",
    "df_cost[\"Etapa Normalizada\"] = df_cost[\"Etapa Normalizada\"].fillna(method=\"ffill\").fillna(method=\"bfill\")\n",
    "df_cost.drop(columns=[\"Etapa_str\"], inplace=True)\n",
    "\n",
    "# Seleccionar solo columnas útiles\n",
    "columnas_validas = [\n",
    "    \"TIPO\", \"REF\", \"Etapa\", \"Etapa Normalizada\", \"Sección\", \"ACCT\",\n",
    "    \"COST TO DATE\", \"COMMITMENTS\", \"TOTAL CTD\",\n",
    "    \"ESTIMATE TO COMPLETE (ETC)\", \"ESTIMATE FINAL COST (EFC)\",\n",
    "    \"BUDGET\", \"VARIANCE $\", \"INDEX\", \"P FCST\", \"VARIANCE $ \",\n",
    "    \"Cuenta General\", \"Cuenta Madre\", \"Es Detalle\", \"Nivel\", \"Etiqueta\"\n",
    "]\n",
    "df_cost = df_cost[[col for col in columnas_validas if col in df_cost.columns]].copy()\n",
    "\n",
    "# Resetear índice y guardar versión limpia\n",
    "df_cost.reset_index(drop=True, inplace=True)\n",
    "df_cost_clean = df_cost.copy()\n",
    "\n",
    "# Vista previa del DataFrame preprocesado\n",
    "print(\"\\nVista final de Cost Report preprocesado:\")\n",
    "display(df_cost_clean.head())\n"
   ]
  },
  {
   "cell_type": "markdown",
   "id": "1e71d547",
   "metadata": {},
   "source": [
    "## 🔗 Bloque 4 – Integración de Gasto Real y Normalización de Fechas\n",
    "Se integran los subtotales reales (`SUBTOTAL`) desde la hoja `Data` al `Cost Report` limpio.  \n",
    "Además, se limpian, rellenan y asignan fechas de pago (`FECHA DE PAGO`) de forma consistente para cada partida.\n"
   ]
  },
  {
   "cell_type": "code",
   "execution_count": 4,
   "id": "94f9db68",
   "metadata": {},
   "outputs": [
    {
     "data": {
      "text/plain": [
       "array(['CONTROL', '# CHEQUE', 'PARTIDA PRESUPUESTAL', 'UIDD/FOLIO FISCAL',\n",
       "       'DIRECCION', 'REGIMEN FISCAL', 'NOMBRE REGIMEN FISCAL', 'RFC',\n",
       "       'STATUS', 'FECHA DE RECIBIDO', 'SEMANA QUE SE PAGA', 'TIPO',\n",
       "       'NOMBRE DEL PROVEEDOR', 'CORREO', 'CONCEPTO', 'TIPO2', 'SUBTOTAL',\n",
       "       'IVA', 'OTROS IMPUESTOS', 'RET IVA', 'RET ISR', 'TOTAL',\n",
       "       'CUENTA CLAVE', 'BANCO', 'ESTATUS', 'FECHA DE PAGO ', 'NOTAS',\n",
       "       'Valida', 'MES', 'Column1', 'SUBTOTAL2', 'IVA3', 'RET IVA4',\n",
       "       'RET ISR.1', 'TOTAL.1', 'CAMBIOS', 'Unnamed: 36'], dtype=object)"
      ]
     },
     "execution_count": 4,
     "metadata": {},
     "output_type": "execute_result"
    }
   ],
   "source": [
    "df_data.columns.values"
   ]
  },
  {
   "cell_type": "code",
   "execution_count": 5,
   "id": "e820a462",
   "metadata": {},
   "outputs": [
    {
     "name": "stdout",
     "output_type": "stream",
     "text": [
      "7886\n",
      "🔍 Totales tras integrar fechas (sin ceros):\n",
      "  • Total Cost_Total general : 135,445,624.41\n",
      "  • Con fecha limpia         : 135,445,624.41 (1049 partidas)\n",
      "  • Sin fecha limpia         : 0.00 (1185 partidas)\n",
      "  • Verificación parcial     : 135,445,624.41 == 135,445,624.41\n"
     ]
    },
    {
     "name": "stderr",
     "output_type": "stream",
     "text": [
      "c:\\Users\\ultim\\anaconda3\\envs\\IDM\\Lib\\site-packages\\numpy\\lib\\nanfunctions.py:1215: RuntimeWarning: Mean of empty slice\n",
      "  return np.nanmean(a, axis, out=out, keepdims=keepdims)\n",
      "c:\\Users\\ultim\\anaconda3\\envs\\IDM\\Lib\\site-packages\\numpy\\lib\\nanfunctions.py:1215: RuntimeWarning: Mean of empty slice\n",
      "  return np.nanmean(a, axis, out=out, keepdims=keepdims)\n",
      "c:\\Users\\ultim\\anaconda3\\envs\\IDM\\Lib\\site-packages\\numpy\\lib\\nanfunctions.py:1215: RuntimeWarning: Mean of empty slice\n",
      "  return np.nanmean(a, axis, out=out, keepdims=keepdims)\n",
      "c:\\Users\\ultim\\anaconda3\\envs\\IDM\\Lib\\site-packages\\numpy\\lib\\nanfunctions.py:1215: RuntimeWarning: Mean of empty slice\n",
      "  return np.nanmean(a, axis, out=out, keepdims=keepdims)\n",
      "c:\\Users\\ultim\\anaconda3\\envs\\IDM\\Lib\\site-packages\\numpy\\lib\\nanfunctions.py:1215: RuntimeWarning: Mean of empty slice\n",
      "  return np.nanmean(a, axis, out=out, keepdims=keepdims)\n",
      "c:\\Users\\ultim\\anaconda3\\envs\\IDM\\Lib\\site-packages\\numpy\\lib\\nanfunctions.py:1215: RuntimeWarning: Mean of empty slice\n",
      "  return np.nanmean(a, axis, out=out, keepdims=keepdims)\n",
      "c:\\Users\\ultim\\anaconda3\\envs\\IDM\\Lib\\site-packages\\numpy\\lib\\nanfunctions.py:1215: RuntimeWarning: Mean of empty slice\n",
      "  return np.nanmean(a, axis, out=out, keepdims=keepdims)\n",
      "c:\\Users\\ultim\\anaconda3\\envs\\IDM\\Lib\\site-packages\\numpy\\lib\\nanfunctions.py:1215: RuntimeWarning: Mean of empty slice\n",
      "  return np.nanmean(a, axis, out=out, keepdims=keepdims)\n",
      "c:\\Users\\ultim\\anaconda3\\envs\\IDM\\Lib\\site-packages\\numpy\\lib\\nanfunctions.py:1215: RuntimeWarning: Mean of empty slice\n",
      "  return np.nanmean(a, axis, out=out, keepdims=keepdims)\n",
      "c:\\Users\\ultim\\anaconda3\\envs\\IDM\\Lib\\site-packages\\numpy\\lib\\nanfunctions.py:1215: RuntimeWarning: Mean of empty slice\n",
      "  return np.nanmean(a, axis, out=out, keepdims=keepdims)\n",
      "c:\\Users\\ultim\\anaconda3\\envs\\IDM\\Lib\\site-packages\\numpy\\lib\\nanfunctions.py:1215: RuntimeWarning: Mean of empty slice\n",
      "  return np.nanmean(a, axis, out=out, keepdims=keepdims)\n",
      "c:\\Users\\ultim\\anaconda3\\envs\\IDM\\Lib\\site-packages\\numpy\\lib\\nanfunctions.py:1215: RuntimeWarning: Mean of empty slice\n",
      "  return np.nanmean(a, axis, out=out, keepdims=keepdims)\n",
      "c:\\Users\\ultim\\anaconda3\\envs\\IDM\\Lib\\site-packages\\numpy\\lib\\nanfunctions.py:1215: RuntimeWarning: Mean of empty slice\n",
      "  return np.nanmean(a, axis, out=out, keepdims=keepdims)\n",
      "c:\\Users\\ultim\\anaconda3\\envs\\IDM\\Lib\\site-packages\\numpy\\lib\\nanfunctions.py:1215: RuntimeWarning: Mean of empty slice\n",
      "  return np.nanmean(a, axis, out=out, keepdims=keepdims)\n",
      "c:\\Users\\ultim\\anaconda3\\envs\\IDM\\Lib\\site-packages\\numpy\\lib\\nanfunctions.py:1215: RuntimeWarning: Mean of empty slice\n",
      "  return np.nanmean(a, axis, out=out, keepdims=keepdims)\n",
      "c:\\Users\\ultim\\anaconda3\\envs\\IDM\\Lib\\site-packages\\numpy\\lib\\nanfunctions.py:1215: RuntimeWarning: Mean of empty slice\n",
      "  return np.nanmean(a, axis, out=out, keepdims=keepdims)\n",
      "c:\\Users\\ultim\\anaconda3\\envs\\IDM\\Lib\\site-packages\\numpy\\lib\\nanfunctions.py:1215: RuntimeWarning: Mean of empty slice\n",
      "  return np.nanmean(a, axis, out=out, keepdims=keepdims)\n",
      "c:\\Users\\ultim\\anaconda3\\envs\\IDM\\Lib\\site-packages\\numpy\\lib\\nanfunctions.py:1215: RuntimeWarning: Mean of empty slice\n",
      "  return np.nanmean(a, axis, out=out, keepdims=keepdims)\n",
      "c:\\Users\\ultim\\anaconda3\\envs\\IDM\\Lib\\site-packages\\numpy\\lib\\nanfunctions.py:1215: RuntimeWarning: Mean of empty slice\n",
      "  return np.nanmean(a, axis, out=out, keepdims=keepdims)\n",
      "C:\\Users\\ultim\\AppData\\Local\\Temp\\ipykernel_9204\\1771372534.py:64: FutureWarning: A value is trying to be set on a copy of a DataFrame or Series through chained assignment using an inplace method.\n",
      "The behavior will change in pandas 3.0. This inplace method will never work because the intermediate object on which we are setting values always behaves as a copy.\n",
      "\n",
      "For example, when doing 'df[col].method(value, inplace=True)', try using 'df.method({col: value}, inplace=True)' or df[col] = df[col].method(value) instead, to perform the operation inplace on the original object.\n",
      "\n",
      "\n",
      "  df_dates[\"FECHA_NUM_LIMPIA\"].fillna(global_med, inplace=True)\n"
     ]
    }
   ],
   "source": [
    "# ============== BLOQUE 4 – INTEGRACIÓN DE GASTO REAL Y FECHAS ==============\n",
    "\n",
    "# Copia del DataFrame original y limpieza de nombres de columna\n",
    "df_d = df_data.copy()\n",
    "df_d.columns = df_d.columns.str.strip()\n",
    "\n",
    "# Convertir SUBTOTAL a numérico y calcular total por partida\n",
    "df_d[\"SUBTOTAL\"] = pd.to_numeric(df_d[\"SUBTOTAL\"], errors=\"coerce\")\n",
    "df_d_agg = (\n",
    "    df_d\n",
    "    .groupby(\"PARTIDA PRESUPUESTAL\")[[\"SUBTOTAL\"]]\n",
    "    .sum()\n",
    "    .reset_index()\n",
    "    .rename(columns={\"SUBTOTAL\": \"Total_Data\"})\n",
    ")\n",
    "\n",
    "# Unir gasto real al Cost Report limpio\n",
    "df_join = df_cost_clean.merge(\n",
    "    df_d_agg,\n",
    "    left_on=\"ACCT\",\n",
    "    right_on=\"PARTIDA PRESUPUESTAL\",\n",
    "    how=\"left\"\n",
    ")\n",
    "print(len(df_d[\"SUBTOTAL\"]))\n",
    "df_join[\"Total_Data\"] = df_join[\"Total_Data\"].fillna(0)\n",
    "\n",
    "# Calcular gasto total (SUBTOTAL + COMMITMENTS)\n",
    "df_join[\"COMMITMENTS\"] = pd.to_numeric(df_join[\"COMMITMENTS\"], errors=\"coerce\").fillna(0)\n",
    "df_join[\"Cost_Total\"] = df_join[\"Total_Data\"] + df_join[\"COMMITMENTS\"]\n",
    "df_join.drop(columns=[\"PARTIDA PRESUPUESTAL\"], inplace=True)\n",
    "\n",
    "# Preparar DataFrame de fechas de pago\n",
    "df_dates = df_data.copy()\n",
    "df_dates.columns = df_dates.columns.str.strip()\n",
    "df_dates = df_dates[[\"PARTIDA PRESUPUESTAL\", \"FECHA DE PAGO\", \"SUBTOTAL\"]].copy()\n",
    "df_dates[\"FECHA_NUM\"] = pd.to_numeric(df_dates[\"FECHA DE PAGO\"], errors=\"coerce\")\n",
    "\n",
    "# Reemplazar fechas negativas con NaN\n",
    "df_dates.loc[df_dates[\"FECHA_NUM\"] < 0, \"FECHA_NUM\"] = np.nan\n",
    "\n",
    "# Filtrar sólo partidas válidas (presentes en df_join)\n",
    "validas = df_join[\"ACCT\"].astype(str).tolist()\n",
    "df_dates = df_dates[df_dates[\"PARTIDA PRESUPUESTAL\"].astype(str).isin(validas)].copy()\n",
    "\n",
    "# Ordenar por partida y por número de fecha\n",
    "df_dates.sort_values([\"PARTIDA PRESUPUESTAL\", \"FECHA_NUM\"], inplace=True)\n",
    "\n",
    "# Rellenar fechas faltantes con backfill y forward-fill por partida\n",
    "df_dates[\"FECHA_NUM_LIMPIA\"] = (\n",
    "    df_dates\n",
    "    .groupby(\"PARTIDA PRESUPUESTAL\")[\"FECHA_NUM\"]\n",
    "    .transform(lambda s: s.bfill().ffill())\n",
    ")\n",
    "\n",
    "# Para los que aún falten, usar la mediana de su propia partida\n",
    "df_dates[\"FECHA_NUM_LIMPIA\"] = (\n",
    "    df_dates\n",
    "    .groupby(\"PARTIDA PRESUPUESTAL\")[\"FECHA_NUM_LIMPIA\"]\n",
    "    .transform(lambda s: s.fillna(s.median()))\n",
    ")\n",
    "\n",
    "# Rellenar con la mediana global si alguna partida sigue sin fecha\n",
    "global_med = df_dates[\"FECHA_NUM\"].median()\n",
    "df_dates[\"FECHA_NUM_LIMPIA\"].fillna(global_med, inplace=True)\n",
    "\n",
    "# Seleccionar un solo valor mínimo por partida\n",
    "fechas_unique = (\n",
    "    df_dates\n",
    "    .groupby(\"PARTIDA PRESUPUESTAL\", as_index=False)[[\"FECHA_NUM_LIMPIA\"]]\n",
    "    .max()\n",
    ")\n",
    "\n",
    "# Mapear fechas limpias de vuelta al DataFrame principal\n",
    "map_fechas = dict(zip(fechas_unique[\"PARTIDA PRESUPUESTAL\"],\n",
    "                      fechas_unique[\"FECHA_NUM_LIMPIA\"]))\n",
    "df_join[\"FECHA_NUM_LIMPIA\"] = df_join[\"ACCT\"].map(map_fechas)\n",
    "\n",
    "# Opcional: marcar como NaN aquellas partidas con gasto total 0\n",
    "df_join.loc[df_join[\"Cost_Total\"] == 0, \"FECHA_NUM_LIMPIA\"] = np.nan\n",
    "\n",
    "# Verificación de totales tras integración de fechas\n",
    "total_general = df_join[\"Cost_Total\"].sum()\n",
    "with_date     = df_join.loc[df_join[\"FECHA_NUM_LIMPIA\"].notna(), \"Cost_Total\"].sum()\n",
    "without_date  = df_join.loc[df_join[\"FECHA_NUM_LIMPIA\"].isna(),   \"Cost_Total\"].sum()\n",
    "cnt_with      = df_join[\"FECHA_NUM_LIMPIA\"].notna().sum()\n",
    "cnt_without   = df_join[\"FECHA_NUM_LIMPIA\"].isna().sum()\n",
    "\n",
    "print(\"🔍 Totales tras integrar fechas (sin ceros):\")\n",
    "print(f\"  • Total Cost_Total general : {total_general:,.2f}\")\n",
    "print(f\"  • Con fecha limpia         : {with_date:,.2f} ({cnt_with} partidas)\")\n",
    "print(f\"  • Sin fecha limpia         : {without_date:,.2f} ({cnt_without} partidas)\")\n",
    "print(f\"  • Verificación parcial     : {with_date + without_date:,.2f} == {total_general:,.2f}\")\n",
    "\n",
    "# Mostrar partidas que aún tienen gasto pero sin fecha\n",
    "conf = df_join[\n",
    "    df_join[\"FECHA_NUM_LIMPIA\"].isna() &\n",
    "    (df_join[\"Cost_Total\"] != 0)\n",
    "][[\"ACCT\", \"Cost_Total\"]]\n",
    "if not conf.empty:\n",
    "    print(\"\\n⚠️ Partidas sin fecha aún con gasto real:\")\n",
    "    display(conf.reset_index(drop=True))\n",
    "\n",
    "# Guardar resultado final validado\n",
    "df_cost_data_validado = df_join.copy()\n"
   ]
  },
  {
   "cell_type": "markdown",
   "id": "1c935488",
   "metadata": {},
   "source": [
    "## 🎯 Hipótesis de Análisis\n",
    "\n",
    "Se plantea identificar **cuáles fueron las cuentas a detalle que presentaron una variación negativa significativa** (es decir, aquellas donde el costo real superó el presupuesto asignado).\n",
    "\n",
    "El objetivo es:\n",
    "\n",
    "- Detectar **cuentas específicas** responsables del exceso de gasto.\n",
    "- Verificar si **estas cuentas están concentradas en una o más etapas específicas** del proyecto.\n",
    "- Visualizar los resultados para facilitar su interpretación y toma de decisiones.\n",
    "\n",
    "Este análisis permitirá entender **dónde y cuándo** se produjo el desvío presupuestal, facilitando medidas correctivas o preventivas en futuras producciones.\n"
   ]
  },
  {
   "cell_type": "code",
   "execution_count": 50,
   "id": "e48e76f5",
   "metadata": {},
   "outputs": [
    {
     "name": "stderr",
     "output_type": "stream",
     "text": [
      "C:\\Users\\ultim\\AppData\\Local\\Temp\\ipykernel_9204\\1142247088.py:10: FutureWarning:\n",
      "\n",
      "Series.fillna with 'method' is deprecated and will raise in a future version. Use obj.ffill() or obj.bfill() instead.\n",
      "\n",
      "C:\\Users\\ultim\\AppData\\Local\\Temp\\ipykernel_9204\\1142247088.py:10: FutureWarning:\n",
      "\n",
      "Downcasting object dtype arrays on .fillna, .ffill, .bfill is deprecated and will change in a future version. Call result.infer_objects(copy=False) instead. To opt-in to the future behavior, set `pd.set_option('future.no_silent_downcasting', True)`\n",
      "\n"
     ]
    }
   ],
   "source": [
    "import datetime\n",
    "df_odates=df_data.copy()\n",
    "# Eliminar filas vacías o irrelevantes en df_resumen\n",
    "df_odates = df_odates.dropna(subset=[\"TIPO\", \"Valida\", \"TIPO\",\"TOTAL\",\"FECHA DE PAGO \",\"SUBTOTAL\",\"PARTIDA PRESUPUESTAL\"], how='all')\n",
    "df_odates = df_odates[~df_odates['FECHA DE PAGO '].apply(lambda x: isinstance(x, datetime.time))]\n",
    "df_odates.loc[df_odates['FECHA DE PAGO '] < 0, 'FECHA DE PAGO '] = np.nan\n",
    "\n",
    "\n",
    "# Asegurar que los datos numéricos estén en el formato correcto\n",
    "df_odates[\"FECHA DE PAGO \"]=df_odates[\"FECHA DE PAGO \"].fillna(method=\"bfill\")\n",
    "df_odates = df_odates[pd.to_numeric(df_odates['FECHA DE PAGO '], errors='coerce').notna()]\n",
    "\n",
    "\n",
    "df_odates=df_odates.loc[df_odates[\"FECHA DE PAGO \"] != -45168, :]\n",
    "cuentas=df_join[\"ACCT\"].unique()\n",
    "df_odates=df_odates[df_odates['PARTIDA PRESUPUESTAL'].isin(cuentas)]\n",
    "df_odates = df_odates.dropna(subset=['TOTAL'])\n",
    "df_odates = df_odates.dropna(subset=['SUBTOTAL'])\n",
    "df_odates = df_odates.dropna(subset=['PARTIDA PRESUPUESTAL'])\n",
    "df_odates.rename(columns={'FECHA DE PAGO ': 'FECHA_NUM_LIMPIA'}, inplace=True)\n",
    "df_odates.sort_values(by=\"FECHA_NUM_LIMPIA\", ascending=True, inplace=True)"
   ]
  },
  {
   "cell_type": "code",
   "execution_count": 51,
   "id": "27d372ce",
   "metadata": {},
   "outputs": [
    {
     "name": "stderr",
     "output_type": "stream",
     "text": [
      "C:\\Users\\ultim\\AppData\\Local\\Temp\\ipykernel_9204\\4001823348.py:5: UserWarning:\n",
      "\n",
      "Boolean Series key will be reindexed to match DataFrame index.\n",
      "\n"
     ]
    },
    {
     "data": {
      "application/vnd.plotly.v1+json": {
       "config": {
        "plotlyServerURL": "https://plot.ly"
       },
       "data": [
        {
         "hovertemplate": "%{y}%{_xother}",
         "name": "Gasto Acumulado",
         "type": "scatter",
         "x": {
          "bdata": "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",
          "dtype": "f8"
         },
         "y": {
          "bdata": "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",
          "dtype": "f8"
         }
        },
        {
         "hovertemplate": "%{y}%{_xother}",
         "name": "Budget",
         "type": "scatter",
         "x": {
          "bdata": "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",
          "dtype": "f8"
         },
         "y": {
          "bdata": "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",
          "dtype": "f8"
         }
        },
        {
         "name": "Gasto acumulado: 135.098M",
         "type": "scatter",
         "x": {
          "bdata": "AAAAAADwgkA=",
          "dtype": "f8"
         },
         "y": {
          "bdata": "mcQgOtwaoEE=",
          "dtype": "f8"
         }
        },
        {
         "name": "Budget: 135.781M",
         "type": "scatter",
         "x": {
          "bdata": "AAAAAADwgkA=",
          "dtype": "f8"
         },
         "y": {
          "bdata": "cz0KTbcvoEE=",
          "dtype": "f8"
         }
        }
       ],
       "layout": {
        "hovermode": "x unified",
        "template": {
         "data": {
          "bar": [
           {
            "error_x": {
             "color": "#2a3f5f"
            },
            "error_y": {
             "color": "#2a3f5f"
            },
            "marker": {
             "line": {
              "color": "#E5ECF6",
              "width": 0.5
             },
             "pattern": {
              "fillmode": "overlay",
              "size": 10,
              "solidity": 0.2
             }
            },
            "type": "bar"
           }
          ],
          "barpolar": [
           {
            "marker": {
             "line": {
              "color": "#E5ECF6",
              "width": 0.5
             },
             "pattern": {
              "fillmode": "overlay",
              "size": 10,
              "solidity": 0.2
             }
            },
            "type": "barpolar"
           }
          ],
          "carpet": [
           {
            "aaxis": {
             "endlinecolor": "#2a3f5f",
             "gridcolor": "white",
             "linecolor": "white",
             "minorgridcolor": "white",
             "startlinecolor": "#2a3f5f"
            },
            "baxis": {
             "endlinecolor": "#2a3f5f",
             "gridcolor": "white",
             "linecolor": "white",
             "minorgridcolor": "white",
             "startlinecolor": "#2a3f5f"
            },
            "type": "carpet"
           }
          ],
          "choropleth": [
           {
            "colorbar": {
             "outlinewidth": 0,
             "ticks": ""
            },
            "type": "choropleth"
           }
          ],
          "contour": [
           {
            "colorbar": {
             "outlinewidth": 0,
             "ticks": ""
            },
            "colorscale": [
             [
              0,
              "#0d0887"
             ],
             [
              0.1111111111111111,
              "#46039f"
             ],
             [
              0.2222222222222222,
              "#7201a8"
             ],
             [
              0.3333333333333333,
              "#9c179e"
             ],
             [
              0.4444444444444444,
              "#bd3786"
             ],
             [
              0.5555555555555556,
              "#d8576b"
             ],
             [
              0.6666666666666666,
              "#ed7953"
             ],
             [
              0.7777777777777778,
              "#fb9f3a"
             ],
             [
              0.8888888888888888,
              "#fdca26"
             ],
             [
              1,
              "#f0f921"
             ]
            ],
            "type": "contour"
           }
          ],
          "contourcarpet": [
           {
            "colorbar": {
             "outlinewidth": 0,
             "ticks": ""
            },
            "type": "contourcarpet"
           }
          ],
          "heatmap": [
           {
            "colorbar": {
             "outlinewidth": 0,
             "ticks": ""
            },
            "colorscale": [
             [
              0,
              "#0d0887"
             ],
             [
              0.1111111111111111,
              "#46039f"
             ],
             [
              0.2222222222222222,
              "#7201a8"
             ],
             [
              0.3333333333333333,
              "#9c179e"
             ],
             [
              0.4444444444444444,
              "#bd3786"
             ],
             [
              0.5555555555555556,
              "#d8576b"
             ],
             [
              0.6666666666666666,
              "#ed7953"
             ],
             [
              0.7777777777777778,
              "#fb9f3a"
             ],
             [
              0.8888888888888888,
              "#fdca26"
             ],
             [
              1,
              "#f0f921"
             ]
            ],
            "type": "heatmap"
           }
          ],
          "histogram": [
           {
            "marker": {
             "pattern": {
              "fillmode": "overlay",
              "size": 10,
              "solidity": 0.2
             }
            },
            "type": "histogram"
           }
          ],
          "histogram2d": [
           {
            "colorbar": {
             "outlinewidth": 0,
             "ticks": ""
            },
            "colorscale": [
             [
              0,
              "#0d0887"
             ],
             [
              0.1111111111111111,
              "#46039f"
             ],
             [
              0.2222222222222222,
              "#7201a8"
             ],
             [
              0.3333333333333333,
              "#9c179e"
             ],
             [
              0.4444444444444444,
              "#bd3786"
             ],
             [
              0.5555555555555556,
              "#d8576b"
             ],
             [
              0.6666666666666666,
              "#ed7953"
             ],
             [
              0.7777777777777778,
              "#fb9f3a"
             ],
             [
              0.8888888888888888,
              "#fdca26"
             ],
             [
              1,
              "#f0f921"
             ]
            ],
            "type": "histogram2d"
           }
          ],
          "histogram2dcontour": [
           {
            "colorbar": {
             "outlinewidth": 0,
             "ticks": ""
            },
            "colorscale": [
             [
              0,
              "#0d0887"
             ],
             [
              0.1111111111111111,
              "#46039f"
             ],
             [
              0.2222222222222222,
              "#7201a8"
             ],
             [
              0.3333333333333333,
              "#9c179e"
             ],
             [
              0.4444444444444444,
              "#bd3786"
             ],
             [
              0.5555555555555556,
              "#d8576b"
             ],
             [
              0.6666666666666666,
              "#ed7953"
             ],
             [
              0.7777777777777778,
              "#fb9f3a"
             ],
             [
              0.8888888888888888,
              "#fdca26"
             ],
             [
              1,
              "#f0f921"
             ]
            ],
            "type": "histogram2dcontour"
           }
          ],
          "mesh3d": [
           {
            "colorbar": {
             "outlinewidth": 0,
             "ticks": ""
            },
            "type": "mesh3d"
           }
          ],
          "parcoords": [
           {
            "line": {
             "colorbar": {
              "outlinewidth": 0,
              "ticks": ""
             }
            },
            "type": "parcoords"
           }
          ],
          "pie": [
           {
            "automargin": true,
            "type": "pie"
           }
          ],
          "scatter": [
           {
            "fillpattern": {
             "fillmode": "overlay",
             "size": 10,
             "solidity": 0.2
            },
            "type": "scatter"
           }
          ],
          "scatter3d": [
           {
            "line": {
             "colorbar": {
              "outlinewidth": 0,
              "ticks": ""
             }
            },
            "marker": {
             "colorbar": {
              "outlinewidth": 0,
              "ticks": ""
             }
            },
            "type": "scatter3d"
           }
          ],
          "scattercarpet": [
           {
            "marker": {
             "colorbar": {
              "outlinewidth": 0,
              "ticks": ""
             }
            },
            "type": "scattercarpet"
           }
          ],
          "scattergeo": [
           {
            "marker": {
             "colorbar": {
              "outlinewidth": 0,
              "ticks": ""
             }
            },
            "type": "scattergeo"
           }
          ],
          "scattergl": [
           {
            "marker": {
             "colorbar": {
              "outlinewidth": 0,
              "ticks": ""
             }
            },
            "type": "scattergl"
           }
          ],
          "scattermap": [
           {
            "marker": {
             "colorbar": {
              "outlinewidth": 0,
              "ticks": ""
             }
            },
            "type": "scattermap"
           }
          ],
          "scattermapbox": [
           {
            "marker": {
             "colorbar": {
              "outlinewidth": 0,
              "ticks": ""
             }
            },
            "type": "scattermapbox"
           }
          ],
          "scatterpolar": [
           {
            "marker": {
             "colorbar": {
              "outlinewidth": 0,
              "ticks": ""
             }
            },
            "type": "scatterpolar"
           }
          ],
          "scatterpolargl": [
           {
            "marker": {
             "colorbar": {
              "outlinewidth": 0,
              "ticks": ""
             }
            },
            "type": "scatterpolargl"
           }
          ],
          "scatterternary": [
           {
            "marker": {
             "colorbar": {
              "outlinewidth": 0,
              "ticks": ""
             }
            },
            "type": "scatterternary"
           }
          ],
          "surface": [
           {
            "colorbar": {
             "outlinewidth": 0,
             "ticks": ""
            },
            "colorscale": [
             [
              0,
              "#0d0887"
             ],
             [
              0.1111111111111111,
              "#46039f"
             ],
             [
              0.2222222222222222,
              "#7201a8"
             ],
             [
              0.3333333333333333,
              "#9c179e"
             ],
             [
              0.4444444444444444,
              "#bd3786"
             ],
             [
              0.5555555555555556,
              "#d8576b"
             ],
             [
              0.6666666666666666,
              "#ed7953"
             ],
             [
              0.7777777777777778,
              "#fb9f3a"
             ],
             [
              0.8888888888888888,
              "#fdca26"
             ],
             [
              1,
              "#f0f921"
             ]
            ],
            "type": "surface"
           }
          ],
          "table": [
           {
            "cells": {
             "fill": {
              "color": "#EBF0F8"
             },
             "line": {
              "color": "white"
             }
            },
            "header": {
             "fill": {
              "color": "#C8D4E3"
             },
             "line": {
              "color": "white"
             }
            },
            "type": "table"
           }
          ]
         },
         "layout": {
          "annotationdefaults": {
           "arrowcolor": "#2a3f5f",
           "arrowhead": 0,
           "arrowwidth": 1
          },
          "autotypenumbers": "strict",
          "coloraxis": {
           "colorbar": {
            "outlinewidth": 0,
            "ticks": ""
           }
          },
          "colorscale": {
           "diverging": [
            [
             0,
             "#8e0152"
            ],
            [
             0.1,
             "#c51b7d"
            ],
            [
             0.2,
             "#de77ae"
            ],
            [
             0.3,
             "#f1b6da"
            ],
            [
             0.4,
             "#fde0ef"
            ],
            [
             0.5,
             "#f7f7f7"
            ],
            [
             0.6,
             "#e6f5d0"
            ],
            [
             0.7,
             "#b8e186"
            ],
            [
             0.8,
             "#7fbc41"
            ],
            [
             0.9,
             "#4d9221"
            ],
            [
             1,
             "#276419"
            ]
           ],
           "sequential": [
            [
             0,
             "#0d0887"
            ],
            [
             0.1111111111111111,
             "#46039f"
            ],
            [
             0.2222222222222222,
             "#7201a8"
            ],
            [
             0.3333333333333333,
             "#9c179e"
            ],
            [
             0.4444444444444444,
             "#bd3786"
            ],
            [
             0.5555555555555556,
             "#d8576b"
            ],
            [
             0.6666666666666666,
             "#ed7953"
            ],
            [
             0.7777777777777778,
             "#fb9f3a"
            ],
            [
             0.8888888888888888,
             "#fdca26"
            ],
            [
             1,
             "#f0f921"
            ]
           ],
           "sequentialminus": [
            [
             0,
             "#0d0887"
            ],
            [
             0.1111111111111111,
             "#46039f"
            ],
            [
             0.2222222222222222,
             "#7201a8"
            ],
            [
             0.3333333333333333,
             "#9c179e"
            ],
            [
             0.4444444444444444,
             "#bd3786"
            ],
            [
             0.5555555555555556,
             "#d8576b"
            ],
            [
             0.6666666666666666,
             "#ed7953"
            ],
            [
             0.7777777777777778,
             "#fb9f3a"
            ],
            [
             0.8888888888888888,
             "#fdca26"
            ],
            [
             1,
             "#f0f921"
            ]
           ]
          },
          "colorway": [
           "#636efa",
           "#EF553B",
           "#00cc96",
           "#ab63fa",
           "#FFA15A",
           "#19d3f3",
           "#FF6692",
           "#B6E880",
           "#FF97FF",
           "#FECB52"
          ],
          "font": {
           "color": "#2a3f5f"
          },
          "geo": {
           "bgcolor": "white",
           "lakecolor": "white",
           "landcolor": "#E5ECF6",
           "showlakes": true,
           "showland": true,
           "subunitcolor": "white"
          },
          "hoverlabel": {
           "align": "left"
          },
          "hovermode": "closest",
          "mapbox": {
           "style": "light"
          },
          "paper_bgcolor": "white",
          "plot_bgcolor": "#E5ECF6",
          "polar": {
           "angularaxis": {
            "gridcolor": "white",
            "linecolor": "white",
            "ticks": ""
           },
           "bgcolor": "#E5ECF6",
           "radialaxis": {
            "gridcolor": "white",
            "linecolor": "white",
            "ticks": ""
           }
          },
          "scene": {
           "xaxis": {
            "backgroundcolor": "#E5ECF6",
            "gridcolor": "white",
            "gridwidth": 2,
            "linecolor": "white",
            "showbackground": true,
            "ticks": "",
            "zerolinecolor": "white"
           },
           "yaxis": {
            "backgroundcolor": "#E5ECF6",
            "gridcolor": "white",
            "gridwidth": 2,
            "linecolor": "white",
            "showbackground": true,
            "ticks": "",
            "zerolinecolor": "white"
           },
           "zaxis": {
            "backgroundcolor": "#E5ECF6",
            "gridcolor": "white",
            "gridwidth": 2,
            "linecolor": "white",
            "showbackground": true,
            "ticks": "",
            "zerolinecolor": "white"
           }
          },
          "shapedefaults": {
           "line": {
            "color": "#2a3f5f"
           }
          },
          "ternary": {
           "aaxis": {
            "gridcolor": "white",
            "linecolor": "white",
            "ticks": ""
           },
           "baxis": {
            "gridcolor": "white",
            "linecolor": "white",
            "ticks": ""
           },
           "bgcolor": "#E5ECF6",
           "caxis": {
            "gridcolor": "white",
            "linecolor": "white",
            "ticks": ""
           }
          },
          "title": {
           "x": 0.05
          },
          "xaxis": {
           "automargin": true,
           "gridcolor": "white",
           "linecolor": "white",
           "ticks": "",
           "title": {
            "standoff": 15
           },
           "zerolinecolor": "white",
           "zerolinewidth": 2
          },
          "yaxis": {
           "automargin": true,
           "gridcolor": "white",
           "linecolor": "white",
           "ticks": "",
           "title": {
            "standoff": 15
           },
           "zerolinecolor": "white",
           "zerolinewidth": 2
          }
         }
        },
        "title": {
         "text": "Gasto acumulado vs Budget"
        },
        "xaxis": {
         "title": {
          "text": "Dias"
         }
        },
        "yaxis": {
         "title": {
          "text": "Gasto"
         }
        }
       }
      }
     },
     "metadata": {},
     "output_type": "display_data"
    }
   ],
   "source": [
    "import plotly.graph_objects as go\n",
    "df_ojoin = df_join.copy()\n",
    "df_ojoin.sort_values(by=\"FECHA_NUM_LIMPIA\", inplace=True)\n",
    "df_odates.loc[(df_odates[\"PARTIDA PRESUPUESTAL\"]==\"7003-004\") & (df_odates['SUBTOTAL'] == df_odates[df_odates[\"PARTIDA PRESUPUESTAL\"]==\"7003-004\"][\"SUBTOTAL\"].max()), 'SUBTOTAL'] += 1069395.97 - 486500\n",
    "df_odates.loc[(df_odates[\"PARTIDA PRESUPUESTAL\"]==\"7038-008\") & (df_odates['SUBTOTAL'] == df_odates[df_dates[\"PARTIDA PRESUPUESTAL\"]==\"7038-008\"][\"SUBTOTAL\"].max()), 'SUBTOTAL'] += 4245.68 \n",
    "df_odates[\"ACUMULADO\"]=np.cumsum(df_odates[\"SUBTOTAL\"])\n",
    "Acumulado_budget=np.cumsum(df_ojoin[\"BUDGET\"])\n",
    "#df_dates[df_dates[\"PARTIDA PRESUPUESTAL\"]==\"7003-004\"][\"SUBTOTAL\"].max()=df_dates[df_dates[\"PARTIDA PRESUPUESTAL\"]==\"7003-004\"][\"SUBTOTAL\"].max()+ 1069395.97 \n",
    "#df_dates[df_dates[\"PARTIDA PRESUPUESTAL\"]==\"7038-008\"][\"SUBTOTAL\"].max()=df_dates[df_dates[\"PARTIDA PRESUPUESTAL\"]==\"7038-008\"][\"SUBTOTAL\"].max()+ 4245.68 \n",
    "fig = go.Figure()\n",
    "\n",
    "fig.add_trace(go.Scatter(\n",
    "    name=\"Gasto Acumulado\",\n",
    "    x=df_odates[\"FECHA_NUM_LIMPIA\"],\n",
    "    y=df_odates[\"ACUMULADO\"],\n",
    "    hovertemplate=\"%{y}%{_xother}\"\n",
    "))\n",
    "\n",
    "fig.add_trace(go.Scatter(\n",
    "    name=\"Budget\",\n",
    "    x=df_ojoin[\"FECHA_NUM_LIMPIA\"],\n",
    "    y=Acumulado_budget,\n",
    "    hovertemplate=\"%{y}%{_xother}\"\n",
    "))\n",
    "valormaximo=f\"Gasto acumulado: {round(df_odates[\"ACUMULADO\"].max()/1000000,3)}M\"\n",
    "ultimovalor= pd.DataFrame(dict(\n",
    "    x=[df_odates[\"FECHA_NUM_LIMPIA\"].max()],\n",
    "    y=[df_odates[\"ACUMULADO\"].max()]\n",
    "))\n",
    "\n",
    "fig.add_trace(go.Scatter(\n",
    "    name=valormaximo,\n",
    "    x=ultimovalor[\"x\"],\n",
    "    y=ultimovalor[\"y\"]\n",
    "))\n",
    "\n",
    "budgetmaximo=f\"Budget: {round(Acumulado_budget.max()/1000000,3)}M\"\n",
    "ultimobudget= pd.DataFrame(dict(\n",
    "    x=[df_ojoin[\"FECHA_NUM_LIMPIA\"].max()],\n",
    "    y=[Acumulado_budget.max()]\n",
    "))\n",
    "\n",
    "fig.add_trace(go.Scatter(\n",
    "    name=budgetmaximo,\n",
    "    x=ultimobudget[\"x\"],\n",
    "    y=ultimobudget[\"y\"]\n",
    "))\n",
    "\n",
    "fig.update_xaxes(title_text=\"Dias\")\n",
    "fig.update_yaxes(title_text=\"Gasto\")\n",
    "fig.update_layout(title=\"Gasto acumulado vs Budget\")\n",
    "fig.update_layout(hovermode=\"x unified\")\n",
    "fig.show()\n"
   ]
  },
  {
   "cell_type": "markdown",
   "id": "ecc3e435",
   "metadata": {},
   "source": [
    "### 📉 Análisis de Cuentas Detalle con Mayor Desviación Presupuestal\n",
    "\n",
    "Se identifican las cuentas a nivel **detalle** que superaron su presupuesto, y se agrupan por etapa para observar si existe una relación significativa entre las **desviaciones negativas** y la **etapa del proyecto** en la que ocurrieron.\n"
   ]
  },
  {
   "cell_type": "code",
   "execution_count": 7,
   "id": "c6b1f708",
   "metadata": {},
   "outputs": [
    {
     "name": "stdout",
     "output_type": "stream",
     "text": [
      "Resumen de partidas de detalle que excedieron el presupuesto, por etapa:\n"
     ]
    },
    {
     "data": {
      "text/html": [
       "<div>\n",
       "<style scoped>\n",
       "    .dataframe tbody tr th:only-of-type {\n",
       "        vertical-align: middle;\n",
       "    }\n",
       "\n",
       "    .dataframe tbody tr th {\n",
       "        vertical-align: top;\n",
       "    }\n",
       "\n",
       "    .dataframe thead th {\n",
       "        text-align: right;\n",
       "    }\n",
       "</style>\n",
       "<table border=\"1\" class=\"dataframe\">\n",
       "  <thead>\n",
       "    <tr style=\"text-align: right;\">\n",
       "      <th></th>\n",
       "      <th>Etapa</th>\n",
       "      <th>Cantidad de Desviaciones</th>\n",
       "      <th>Suma de Desviaciones</th>\n",
       "    </tr>\n",
       "  </thead>\n",
       "  <tbody>\n",
       "    <tr>\n",
       "      <th>0</th>\n",
       "      <td>DEVELOPMENT</td>\n",
       "      <td>2</td>\n",
       "      <td>-0.09</td>\n",
       "    </tr>\n",
       "    <tr>\n",
       "      <th>1</th>\n",
       "      <td>POST</td>\n",
       "      <td>5</td>\n",
       "      <td>-943,044.54</td>\n",
       "    </tr>\n",
       "    <tr>\n",
       "      <th>2</th>\n",
       "      <td>PREP</td>\n",
       "      <td>38</td>\n",
       "      <td>-1,056,115.76</td>\n",
       "    </tr>\n",
       "    <tr>\n",
       "      <th>3</th>\n",
       "      <td>SHOOT</td>\n",
       "      <td>321</td>\n",
       "      <td>-14,388,276.07</td>\n",
       "    </tr>\n",
       "    <tr>\n",
       "      <th>4</th>\n",
       "      <td>SOFT</td>\n",
       "      <td>2</td>\n",
       "      <td>-26,250.00</td>\n",
       "    </tr>\n",
       "    <tr>\n",
       "      <th>5</th>\n",
       "      <td>WRAP</td>\n",
       "      <td>27</td>\n",
       "      <td>-372,008.90</td>\n",
       "    </tr>\n",
       "  </tbody>\n",
       "</table>\n",
       "</div>"
      ],
      "text/plain": [
       "         Etapa  Cantidad de Desviaciones Suma de Desviaciones\n",
       "0  DEVELOPMENT                         2                -0.09\n",
       "1         POST                         5          -943,044.54\n",
       "2         PREP                        38        -1,056,115.76\n",
       "3        SHOOT                       321       -14,388,276.07\n",
       "4         SOFT                         2           -26,250.00\n",
       "5         WRAP                        27          -372,008.90"
      ]
     },
     "metadata": {},
     "output_type": "display_data"
    }
   ],
   "source": [
    "# ==================== ANÁLISIS DE DESVIACIONES POR ETAPA ====================\n",
    "\n",
    "# 1. Filtrar cuentas a nivel \"Detalle\"\n",
    "df_detalle = df_cost_clean[df_cost_clean[\"Nivel\"] == \"Detalle\"].copy()\n",
    "\n",
    "# 2. Calcular el costo total real (COST TO DATE + COMMITMENTS)\n",
    "df_detalle[\"TOTAL COSTO\"] = df_detalle[\"COST TO DATE\"].fillna(0) + df_detalle[\"COMMITMENTS\"].fillna(0)\n",
    "\n",
    "# 3. Calcular la diferencia respecto al presupuesto (negativo si se excede)\n",
    "df_detalle[\"DIFERENCIA vs BUDGET\"] = df_detalle[\"BUDGET\"].fillna(0) - df_detalle[\"TOTAL COSTO\"]\n",
    "\n",
    "# 4. Filtrar sólo partidas donde el gasto total superó el presupuesto (desviación negativa)\n",
    "df_detalle_desviado = df_detalle[df_detalle[\"DIFERENCIA vs BUDGET\"] < 0].copy()\n",
    "\n",
    "# 5. Agrupar por etapa para obtener cantidad y monto total de desviaciones\n",
    "resumen_por_etapa = (\n",
    "    df_detalle_desviado\n",
    "    .groupby(\"Etapa Normalizada\")\n",
    "    .agg(\n",
    "        **{\n",
    "            \"Cantidad de Desviaciones\": (\"DIFERENCIA vs BUDGET\", \"count\"),\n",
    "            \"Suma de Desviaciones\": (\"DIFERENCIA vs BUDGET\", \"sum\")\n",
    "        }\n",
    "    )\n",
    "    .reset_index()\n",
    "    .rename(columns={\"Etapa Normalizada\": \"Etapa\"})\n",
    ")\n",
    "\n",
    "# 6. Formatear monto total para mayor legibilidad\n",
    "resumen_por_etapa[\"Suma de Desviaciones\"] = resumen_por_etapa[\"Suma de Desviaciones\"].apply(lambda x: f\"{x:,.2f}\")\n",
    "\n",
    "# 7. Mostrar resumen final\n",
    "print(\"Resumen de partidas de detalle que excedieron el presupuesto, por etapa:\")\n",
    "display(resumen_por_etapa)\n",
    "\n"
   ]
  },
  {
   "cell_type": "markdown",
   "id": "0d3bef20",
   "metadata": {},
   "source": [
    "### 📊 Visualización de Desviaciones por Etapa\n",
    "\n",
    "Se grafica la **suma total de desviaciones negativas** por etapa del proyecto.  \n",
    "Esto permite identificar visualmente en qué fases hubo mayor sobrepaso del presupuesto.\n"
   ]
  },
  {
   "cell_type": "code",
   "execution_count": 8,
   "id": "c2702974",
   "metadata": {},
   "outputs": [
    {
     "data": {
      "application/vnd.plotly.v1+json": {
       "config": {
        "plotlyServerURL": "https://plot.ly"
       },
       "data": [
        {
         "hovertemplate": "<b>%{x}</b><br>Desviación: $%{y:,.2f}",
         "legendgroup": "",
         "marker": {
          "color": "#1F77B4",
          "pattern": {
           "shape": ""
          }
         },
         "name": "",
         "orientation": "v",
         "showlegend": false,
         "text": {
          "bdata": "pHA9goZxa8EpXI/Ccx0wwUjhehSJxyzBmpmZmaO0FsEAAAAAgKLZwArXo3A9Cre/",
          "dtype": "f8"
         },
         "textposition": "auto",
         "texttemplate": "$%{text:,.2f}",
         "type": "bar",
         "x": [
          "SHOOT",
          "PREP",
          "POST",
          "WRAP",
          "SOFT",
          "DEVELOPMENT"
         ],
         "xaxis": "x",
         "y": {
          "bdata": "pHA9goZxa8EpXI/Ccx0wwUjhehSJxyzBmpmZmaO0FsEAAAAAgKLZwArXo3A9Cre/",
          "dtype": "f8"
         },
         "yaxis": "y"
        }
       ],
       "layout": {
        "barmode": "relative",
        "legend": {
         "tracegroupgap": 0
        },
        "template": {
         "data": {
          "bar": [
           {
            "error_x": {
             "color": "#2a3f5f"
            },
            "error_y": {
             "color": "#2a3f5f"
            },
            "marker": {
             "line": {
              "color": "#E5ECF6",
              "width": 0.5
             },
             "pattern": {
              "fillmode": "overlay",
              "size": 10,
              "solidity": 0.2
             }
            },
            "type": "bar"
           }
          ],
          "barpolar": [
           {
            "marker": {
             "line": {
              "color": "#E5ECF6",
              "width": 0.5
             },
             "pattern": {
              "fillmode": "overlay",
              "size": 10,
              "solidity": 0.2
             }
            },
            "type": "barpolar"
           }
          ],
          "carpet": [
           {
            "aaxis": {
             "endlinecolor": "#2a3f5f",
             "gridcolor": "white",
             "linecolor": "white",
             "minorgridcolor": "white",
             "startlinecolor": "#2a3f5f"
            },
            "baxis": {
             "endlinecolor": "#2a3f5f",
             "gridcolor": "white",
             "linecolor": "white",
             "minorgridcolor": "white",
             "startlinecolor": "#2a3f5f"
            },
            "type": "carpet"
           }
          ],
          "choropleth": [
           {
            "colorbar": {
             "outlinewidth": 0,
             "ticks": ""
            },
            "type": "choropleth"
           }
          ],
          "contour": [
           {
            "colorbar": {
             "outlinewidth": 0,
             "ticks": ""
            },
            "colorscale": [
             [
              0,
              "#0d0887"
             ],
             [
              0.1111111111111111,
              "#46039f"
             ],
             [
              0.2222222222222222,
              "#7201a8"
             ],
             [
              0.3333333333333333,
              "#9c179e"
             ],
             [
              0.4444444444444444,
              "#bd3786"
             ],
             [
              0.5555555555555556,
              "#d8576b"
             ],
             [
              0.6666666666666666,
              "#ed7953"
             ],
             [
              0.7777777777777778,
              "#fb9f3a"
             ],
             [
              0.8888888888888888,
              "#fdca26"
             ],
             [
              1,
              "#f0f921"
             ]
            ],
            "type": "contour"
           }
          ],
          "contourcarpet": [
           {
            "colorbar": {
             "outlinewidth": 0,
             "ticks": ""
            },
            "type": "contourcarpet"
           }
          ],
          "heatmap": [
           {
            "colorbar": {
             "outlinewidth": 0,
             "ticks": ""
            },
            "colorscale": [
             [
              0,
              "#0d0887"
             ],
             [
              0.1111111111111111,
              "#46039f"
             ],
             [
              0.2222222222222222,
              "#7201a8"
             ],
             [
              0.3333333333333333,
              "#9c179e"
             ],
             [
              0.4444444444444444,
              "#bd3786"
             ],
             [
              0.5555555555555556,
              "#d8576b"
             ],
             [
              0.6666666666666666,
              "#ed7953"
             ],
             [
              0.7777777777777778,
              "#fb9f3a"
             ],
             [
              0.8888888888888888,
              "#fdca26"
             ],
             [
              1,
              "#f0f921"
             ]
            ],
            "type": "heatmap"
           }
          ],
          "histogram": [
           {
            "marker": {
             "pattern": {
              "fillmode": "overlay",
              "size": 10,
              "solidity": 0.2
             }
            },
            "type": "histogram"
           }
          ],
          "histogram2d": [
           {
            "colorbar": {
             "outlinewidth": 0,
             "ticks": ""
            },
            "colorscale": [
             [
              0,
              "#0d0887"
             ],
             [
              0.1111111111111111,
              "#46039f"
             ],
             [
              0.2222222222222222,
              "#7201a8"
             ],
             [
              0.3333333333333333,
              "#9c179e"
             ],
             [
              0.4444444444444444,
              "#bd3786"
             ],
             [
              0.5555555555555556,
              "#d8576b"
             ],
             [
              0.6666666666666666,
              "#ed7953"
             ],
             [
              0.7777777777777778,
              "#fb9f3a"
             ],
             [
              0.8888888888888888,
              "#fdca26"
             ],
             [
              1,
              "#f0f921"
             ]
            ],
            "type": "histogram2d"
           }
          ],
          "histogram2dcontour": [
           {
            "colorbar": {
             "outlinewidth": 0,
             "ticks": ""
            },
            "colorscale": [
             [
              0,
              "#0d0887"
             ],
             [
              0.1111111111111111,
              "#46039f"
             ],
             [
              0.2222222222222222,
              "#7201a8"
             ],
             [
              0.3333333333333333,
              "#9c179e"
             ],
             [
              0.4444444444444444,
              "#bd3786"
             ],
             [
              0.5555555555555556,
              "#d8576b"
             ],
             [
              0.6666666666666666,
              "#ed7953"
             ],
             [
              0.7777777777777778,
              "#fb9f3a"
             ],
             [
              0.8888888888888888,
              "#fdca26"
             ],
             [
              1,
              "#f0f921"
             ]
            ],
            "type": "histogram2dcontour"
           }
          ],
          "mesh3d": [
           {
            "colorbar": {
             "outlinewidth": 0,
             "ticks": ""
            },
            "type": "mesh3d"
           }
          ],
          "parcoords": [
           {
            "line": {
             "colorbar": {
              "outlinewidth": 0,
              "ticks": ""
             }
            },
            "type": "parcoords"
           }
          ],
          "pie": [
           {
            "automargin": true,
            "type": "pie"
           }
          ],
          "scatter": [
           {
            "fillpattern": {
             "fillmode": "overlay",
             "size": 10,
             "solidity": 0.2
            },
            "type": "scatter"
           }
          ],
          "scatter3d": [
           {
            "line": {
             "colorbar": {
              "outlinewidth": 0,
              "ticks": ""
             }
            },
            "marker": {
             "colorbar": {
              "outlinewidth": 0,
              "ticks": ""
             }
            },
            "type": "scatter3d"
           }
          ],
          "scattercarpet": [
           {
            "marker": {
             "colorbar": {
              "outlinewidth": 0,
              "ticks": ""
             }
            },
            "type": "scattercarpet"
           }
          ],
          "scattergeo": [
           {
            "marker": {
             "colorbar": {
              "outlinewidth": 0,
              "ticks": ""
             }
            },
            "type": "scattergeo"
           }
          ],
          "scattergl": [
           {
            "marker": {
             "colorbar": {
              "outlinewidth": 0,
              "ticks": ""
             }
            },
            "type": "scattergl"
           }
          ],
          "scattermap": [
           {
            "marker": {
             "colorbar": {
              "outlinewidth": 0,
              "ticks": ""
             }
            },
            "type": "scattermap"
           }
          ],
          "scattermapbox": [
           {
            "marker": {
             "colorbar": {
              "outlinewidth": 0,
              "ticks": ""
             }
            },
            "type": "scattermapbox"
           }
          ],
          "scatterpolar": [
           {
            "marker": {
             "colorbar": {
              "outlinewidth": 0,
              "ticks": ""
             }
            },
            "type": "scatterpolar"
           }
          ],
          "scatterpolargl": [
           {
            "marker": {
             "colorbar": {
              "outlinewidth": 0,
              "ticks": ""
             }
            },
            "type": "scatterpolargl"
           }
          ],
          "scatterternary": [
           {
            "marker": {
             "colorbar": {
              "outlinewidth": 0,
              "ticks": ""
             }
            },
            "type": "scatterternary"
           }
          ],
          "surface": [
           {
            "colorbar": {
             "outlinewidth": 0,
             "ticks": ""
            },
            "colorscale": [
             [
              0,
              "#0d0887"
             ],
             [
              0.1111111111111111,
              "#46039f"
             ],
             [
              0.2222222222222222,
              "#7201a8"
             ],
             [
              0.3333333333333333,
              "#9c179e"
             ],
             [
              0.4444444444444444,
              "#bd3786"
             ],
             [
              0.5555555555555556,
              "#d8576b"
             ],
             [
              0.6666666666666666,
              "#ed7953"
             ],
             [
              0.7777777777777778,
              "#fb9f3a"
             ],
             [
              0.8888888888888888,
              "#fdca26"
             ],
             [
              1,
              "#f0f921"
             ]
            ],
            "type": "surface"
           }
          ],
          "table": [
           {
            "cells": {
             "fill": {
              "color": "#EBF0F8"
             },
             "line": {
              "color": "white"
             }
            },
            "header": {
             "fill": {
              "color": "#C8D4E3"
             },
             "line": {
              "color": "white"
             }
            },
            "type": "table"
           }
          ]
         },
         "layout": {
          "annotationdefaults": {
           "arrowcolor": "#2a3f5f",
           "arrowhead": 0,
           "arrowwidth": 1
          },
          "autotypenumbers": "strict",
          "coloraxis": {
           "colorbar": {
            "outlinewidth": 0,
            "ticks": ""
           }
          },
          "colorscale": {
           "diverging": [
            [
             0,
             "#8e0152"
            ],
            [
             0.1,
             "#c51b7d"
            ],
            [
             0.2,
             "#de77ae"
            ],
            [
             0.3,
             "#f1b6da"
            ],
            [
             0.4,
             "#fde0ef"
            ],
            [
             0.5,
             "#f7f7f7"
            ],
            [
             0.6,
             "#e6f5d0"
            ],
            [
             0.7,
             "#b8e186"
            ],
            [
             0.8,
             "#7fbc41"
            ],
            [
             0.9,
             "#4d9221"
            ],
            [
             1,
             "#276419"
            ]
           ],
           "sequential": [
            [
             0,
             "#0d0887"
            ],
            [
             0.1111111111111111,
             "#46039f"
            ],
            [
             0.2222222222222222,
             "#7201a8"
            ],
            [
             0.3333333333333333,
             "#9c179e"
            ],
            [
             0.4444444444444444,
             "#bd3786"
            ],
            [
             0.5555555555555556,
             "#d8576b"
            ],
            [
             0.6666666666666666,
             "#ed7953"
            ],
            [
             0.7777777777777778,
             "#fb9f3a"
            ],
            [
             0.8888888888888888,
             "#fdca26"
            ],
            [
             1,
             "#f0f921"
            ]
           ],
           "sequentialminus": [
            [
             0,
             "#0d0887"
            ],
            [
             0.1111111111111111,
             "#46039f"
            ],
            [
             0.2222222222222222,
             "#7201a8"
            ],
            [
             0.3333333333333333,
             "#9c179e"
            ],
            [
             0.4444444444444444,
             "#bd3786"
            ],
            [
             0.5555555555555556,
             "#d8576b"
            ],
            [
             0.6666666666666666,
             "#ed7953"
            ],
            [
             0.7777777777777778,
             "#fb9f3a"
            ],
            [
             0.8888888888888888,
             "#fdca26"
            ],
            [
             1,
             "#f0f921"
            ]
           ]
          },
          "colorway": [
           "#636efa",
           "#EF553B",
           "#00cc96",
           "#ab63fa",
           "#FFA15A",
           "#19d3f3",
           "#FF6692",
           "#B6E880",
           "#FF97FF",
           "#FECB52"
          ],
          "font": {
           "color": "#2a3f5f"
          },
          "geo": {
           "bgcolor": "white",
           "lakecolor": "white",
           "landcolor": "#E5ECF6",
           "showlakes": true,
           "showland": true,
           "subunitcolor": "white"
          },
          "hoverlabel": {
           "align": "left"
          },
          "hovermode": "closest",
          "mapbox": {
           "style": "light"
          },
          "paper_bgcolor": "white",
          "plot_bgcolor": "#E5ECF6",
          "polar": {
           "angularaxis": {
            "gridcolor": "white",
            "linecolor": "white",
            "ticks": ""
           },
           "bgcolor": "#E5ECF6",
           "radialaxis": {
            "gridcolor": "white",
            "linecolor": "white",
            "ticks": ""
           }
          },
          "scene": {
           "xaxis": {
            "backgroundcolor": "#E5ECF6",
            "gridcolor": "white",
            "gridwidth": 2,
            "linecolor": "white",
            "showbackground": true,
            "ticks": "",
            "zerolinecolor": "white"
           },
           "yaxis": {
            "backgroundcolor": "#E5ECF6",
            "gridcolor": "white",
            "gridwidth": 2,
            "linecolor": "white",
            "showbackground": true,
            "ticks": "",
            "zerolinecolor": "white"
           },
           "zaxis": {
            "backgroundcolor": "#E5ECF6",
            "gridcolor": "white",
            "gridwidth": 2,
            "linecolor": "white",
            "showbackground": true,
            "ticks": "",
            "zerolinecolor": "white"
           }
          },
          "shapedefaults": {
           "line": {
            "color": "#2a3f5f"
           }
          },
          "ternary": {
           "aaxis": {
            "gridcolor": "white",
            "linecolor": "white",
            "ticks": ""
           },
           "baxis": {
            "gridcolor": "white",
            "linecolor": "white",
            "ticks": ""
           },
           "bgcolor": "#E5ECF6",
           "caxis": {
            "gridcolor": "white",
            "linecolor": "white",
            "ticks": ""
           }
          },
          "title": {
           "x": 0.05
          },
          "xaxis": {
           "automargin": true,
           "gridcolor": "white",
           "linecolor": "white",
           "ticks": "",
           "title": {
            "standoff": 15
           },
           "zerolinecolor": "white",
           "zerolinewidth": 2
          },
          "yaxis": {
           "automargin": true,
           "gridcolor": "white",
           "linecolor": "white",
           "ticks": "",
           "title": {
            "standoff": 15
           },
           "zerolinecolor": "white",
           "zerolinewidth": 2
          }
         }
        },
        "title": {
         "text": "Desviaciones Negativas por Etapa"
        },
        "uniformtext": {
         "minsize": 12,
         "mode": "hide"
        },
        "xaxis": {
         "anchor": "y",
         "domain": [
          0,
          1
         ],
         "title": {
          "text": "Etapa del Proyecto"
         }
        },
        "yaxis": {
         "anchor": "x",
         "domain": [
          0,
          1
         ],
         "tickformat": ",.2f",
         "title": {
          "text": "Desviación Total ($)"
         }
        }
       }
      }
     },
     "metadata": {},
     "output_type": "display_data"
    }
   ],
   "source": [
    "# 1. Preparar copia del resumen y convertir montos a formato numérico\n",
    "resumen_plot = resumen_por_etapa.copy()\n",
    "resumen_plot[\"Suma_num\"] = (\n",
    "    resumen_plot[\"Suma de Desviaciones\"]\n",
    "    .str.replace(\",\", \"\", regex=False)\n",
    "    .astype(float)\n",
    ")\n",
    "\n",
    "# 2. Ordenar por monto de desviación (más negativo primero)\n",
    "resumen_plot = resumen_plot.sort_values(by=\"Suma_num\")\n",
    "\n",
    "# 3. Crear gráfico de barras\n",
    "fig = px.bar(\n",
    "    resumen_plot,\n",
    "    x=\"Etapa\",\n",
    "    y=\"Suma_num\",\n",
    "    title=\"Desviaciones Negativas por Etapa\",\n",
    "    text=\"Suma_num\",\n",
    "    labels={\"Suma_num\": \"Desviación Total ($)\", \"Etapa\": \"Etapa del Proyecto\"},\n",
    "    color_discrete_sequence=[\"#1F77B4\"]\n",
    ")\n",
    "\n",
    "# 4. Formato del texto dentro de las barras y tooltip\n",
    "fig.update_traces(\n",
    "    texttemplate=\"$%{text:,.2f}\",\n",
    "    hovertemplate=\"<b>%{x}</b><br>Desviación: $%{y:,.2f}\"\n",
    ")\n",
    "\n",
    "# 5. Ajustes de formato general\n",
    "fig.update_layout(\n",
    "    yaxis_tickformat=\",.2f\",\n",
    "    uniformtext_minsize=12,\n",
    "    uniformtext_mode=\"hide\"\n",
    ")\n",
    "\n",
    "# 6. Mostrar la visualización\n",
    "fig.show()\n"
   ]
  },
  {
   "cell_type": "markdown",
   "id": "965ebd2e",
   "metadata": {},
   "source": [
    "### 💰 Análisis de Ahorros por Etapa\n",
    "\n",
    "Se identifican las cuentas a detalle que **gastaron menos de lo presupuestado**, y se agrupan por etapa.  \n",
    "Este análisis permite visualizar **en qué fases del proyecto hubo eficiencia financiera**.\n"
   ]
  },
  {
   "cell_type": "code",
   "execution_count": 10,
   "id": "a7ac40dc",
   "metadata": {},
   "outputs": [
    {
     "name": "stdout",
     "output_type": "stream",
     "text": [
      "Resumen de partidas detalle que quedaron con ahorro, por etapa:\n"
     ]
    },
    {
     "data": {
      "text/html": [
       "<div>\n",
       "<style scoped>\n",
       "    .dataframe tbody tr th:only-of-type {\n",
       "        vertical-align: middle;\n",
       "    }\n",
       "\n",
       "    .dataframe tbody tr th {\n",
       "        vertical-align: top;\n",
       "    }\n",
       "\n",
       "    .dataframe thead th {\n",
       "        text-align: right;\n",
       "    }\n",
       "</style>\n",
       "<table border=\"1\" class=\"dataframe\">\n",
       "  <thead>\n",
       "    <tr style=\"text-align: right;\">\n",
       "      <th></th>\n",
       "      <th>Etapa</th>\n",
       "      <th>Cantidad_con_Ahorro</th>\n",
       "      <th>Suma_de_Ahorros</th>\n",
       "    </tr>\n",
       "  </thead>\n",
       "  <tbody>\n",
       "    <tr>\n",
       "      <th>0</th>\n",
       "      <td>DEVELOPMENT</td>\n",
       "      <td>3</td>\n",
       "      <td>$5,460.01</td>\n",
       "    </tr>\n",
       "    <tr>\n",
       "      <th>1</th>\n",
       "      <td>POST</td>\n",
       "      <td>85</td>\n",
       "      <td>$1,744,465.53</td>\n",
       "    </tr>\n",
       "    <tr>\n",
       "      <th>2</th>\n",
       "      <td>PREP</td>\n",
       "      <td>81</td>\n",
       "      <td>$997,453.76</td>\n",
       "    </tr>\n",
       "    <tr>\n",
       "      <th>3</th>\n",
       "      <td>SHOOT</td>\n",
       "      <td>391</td>\n",
       "      <td>$13,038,734.79</td>\n",
       "    </tr>\n",
       "    <tr>\n",
       "      <th>4</th>\n",
       "      <td>WRAP</td>\n",
       "      <td>45</td>\n",
       "      <td>$651,867.85</td>\n",
       "    </tr>\n",
       "  </tbody>\n",
       "</table>\n",
       "</div>"
      ],
      "text/plain": [
       "         Etapa  Cantidad_con_Ahorro Suma_de_Ahorros\n",
       "0  DEVELOPMENT                    3       $5,460.01\n",
       "1         POST                   85   $1,744,465.53\n",
       "2         PREP                   81     $997,453.76\n",
       "3        SHOOT                  391  $13,038,734.79\n",
       "4         WRAP                   45     $651,867.85"
      ]
     },
     "metadata": {},
     "output_type": "display_data"
    }
   ],
   "source": [
    "# ==================== ANÁLISIS DE AHORROS POR ETAPA ====================\n",
    "\n",
    "# 1. Filtrar cuentas a detalle que presentaron ahorro (gasto menor al presupuesto)\n",
    "df_detalle_ahorro = df_detalle[\n",
    "    df_detalle[\"DIFERENCIA vs BUDGET\"] > 0\n",
    "].copy()\n",
    "\n",
    "# 2. Agrupar por etapa y calcular cantidad de ahorros y suma total\n",
    "resumen_ahorro_etapa = (\n",
    "    df_detalle_ahorro\n",
    "    .groupby(\"Etapa Normalizada\")\n",
    "    .agg(\n",
    "        Cantidad_con_Ahorro = (\"DIFERENCIA vs BUDGET\", \"count\"),\n",
    "        Suma_de_Ahorros    = (\"DIFERENCIA vs BUDGET\", \"sum\")\n",
    "    )\n",
    "    .reset_index()\n",
    "    .rename(columns={\"Etapa Normalizada\": \"Etapa\"})\n",
    ")\n",
    "\n",
    "# 3. Formatear la suma total para mayor legibilidad\n",
    "resumen_ahorro_etapa[\"Suma_de_Ahorros\"] = \\\n",
    "    resumen_ahorro_etapa[\"Suma_de_Ahorros\"].map(lambda x: f\"${x:,.2f}\")\n",
    "\n",
    "# 4. Mostrar el resumen final de ahorros\n",
    "print(\"Resumen de partidas detalle que quedaron con ahorro, por etapa:\")\n",
    "display(resumen_ahorro_etapa)\n"
   ]
  },
  {
   "cell_type": "markdown",
   "id": "0310a4ee",
   "metadata": {},
   "source": [
    "### 📈 Visualización de Ahorros por Etapa\n",
    "\n",
    "Se representa gráficamente el **ahorro total por etapa**, es decir, la diferencia positiva entre el presupuesto y el gasto real.  \n",
    "Esto permite identificar las fases del proyecto que tuvieron **mejor control financiero**.\n"
   ]
  },
  {
   "cell_type": "code",
   "execution_count": 11,
   "id": "75ce32fd",
   "metadata": {},
   "outputs": [
    {
     "data": {
      "application/vnd.plotly.v1+json": {
       "config": {
        "plotlyServerURL": "https://plot.ly"
       },
       "data": [
        {
         "hovertemplate": "<b>%{x}</b><br>Ahorro: $%{y:,.2f}",
         "legendgroup": "",
         "marker": {
          "color": "#2CA02C",
          "pattern": {
           "shape": ""
          }
         },
         "name": "",
         "orientation": "v",
         "showlegend": false,
         "text": {
          "bdata": "FK5H2ZHeaEF7FK6HUZ46QVK4HoWbcC5BMzMzs7fkI0H2KFyPAlS1QA==",
          "dtype": "f8"
         },
         "textposition": "auto",
         "texttemplate": "$%{text:,.2f}",
         "type": "bar",
         "x": [
          "SHOOT",
          "POST",
          "PREP",
          "WRAP",
          "DEVELOPMENT"
         ],
         "xaxis": "x",
         "y": {
          "bdata": "FK5H2ZHeaEF7FK6HUZ46QVK4HoWbcC5BMzMzs7fkI0H2KFyPAlS1QA==",
          "dtype": "f8"
         },
         "yaxis": "y"
        }
       ],
       "layout": {
        "barmode": "relative",
        "legend": {
         "tracegroupgap": 0
        },
        "margin": {
         "b": 150,
         "t": 50
        },
        "template": {
         "data": {
          "bar": [
           {
            "error_x": {
             "color": "#2a3f5f"
            },
            "error_y": {
             "color": "#2a3f5f"
            },
            "marker": {
             "line": {
              "color": "#E5ECF6",
              "width": 0.5
             },
             "pattern": {
              "fillmode": "overlay",
              "size": 10,
              "solidity": 0.2
             }
            },
            "type": "bar"
           }
          ],
          "barpolar": [
           {
            "marker": {
             "line": {
              "color": "#E5ECF6",
              "width": 0.5
             },
             "pattern": {
              "fillmode": "overlay",
              "size": 10,
              "solidity": 0.2
             }
            },
            "type": "barpolar"
           }
          ],
          "carpet": [
           {
            "aaxis": {
             "endlinecolor": "#2a3f5f",
             "gridcolor": "white",
             "linecolor": "white",
             "minorgridcolor": "white",
             "startlinecolor": "#2a3f5f"
            },
            "baxis": {
             "endlinecolor": "#2a3f5f",
             "gridcolor": "white",
             "linecolor": "white",
             "minorgridcolor": "white",
             "startlinecolor": "#2a3f5f"
            },
            "type": "carpet"
           }
          ],
          "choropleth": [
           {
            "colorbar": {
             "outlinewidth": 0,
             "ticks": ""
            },
            "type": "choropleth"
           }
          ],
          "contour": [
           {
            "colorbar": {
             "outlinewidth": 0,
             "ticks": ""
            },
            "colorscale": [
             [
              0,
              "#0d0887"
             ],
             [
              0.1111111111111111,
              "#46039f"
             ],
             [
              0.2222222222222222,
              "#7201a8"
             ],
             [
              0.3333333333333333,
              "#9c179e"
             ],
             [
              0.4444444444444444,
              "#bd3786"
             ],
             [
              0.5555555555555556,
              "#d8576b"
             ],
             [
              0.6666666666666666,
              "#ed7953"
             ],
             [
              0.7777777777777778,
              "#fb9f3a"
             ],
             [
              0.8888888888888888,
              "#fdca26"
             ],
             [
              1,
              "#f0f921"
             ]
            ],
            "type": "contour"
           }
          ],
          "contourcarpet": [
           {
            "colorbar": {
             "outlinewidth": 0,
             "ticks": ""
            },
            "type": "contourcarpet"
           }
          ],
          "heatmap": [
           {
            "colorbar": {
             "outlinewidth": 0,
             "ticks": ""
            },
            "colorscale": [
             [
              0,
              "#0d0887"
             ],
             [
              0.1111111111111111,
              "#46039f"
             ],
             [
              0.2222222222222222,
              "#7201a8"
             ],
             [
              0.3333333333333333,
              "#9c179e"
             ],
             [
              0.4444444444444444,
              "#bd3786"
             ],
             [
              0.5555555555555556,
              "#d8576b"
             ],
             [
              0.6666666666666666,
              "#ed7953"
             ],
             [
              0.7777777777777778,
              "#fb9f3a"
             ],
             [
              0.8888888888888888,
              "#fdca26"
             ],
             [
              1,
              "#f0f921"
             ]
            ],
            "type": "heatmap"
           }
          ],
          "histogram": [
           {
            "marker": {
             "pattern": {
              "fillmode": "overlay",
              "size": 10,
              "solidity": 0.2
             }
            },
            "type": "histogram"
           }
          ],
          "histogram2d": [
           {
            "colorbar": {
             "outlinewidth": 0,
             "ticks": ""
            },
            "colorscale": [
             [
              0,
              "#0d0887"
             ],
             [
              0.1111111111111111,
              "#46039f"
             ],
             [
              0.2222222222222222,
              "#7201a8"
             ],
             [
              0.3333333333333333,
              "#9c179e"
             ],
             [
              0.4444444444444444,
              "#bd3786"
             ],
             [
              0.5555555555555556,
              "#d8576b"
             ],
             [
              0.6666666666666666,
              "#ed7953"
             ],
             [
              0.7777777777777778,
              "#fb9f3a"
             ],
             [
              0.8888888888888888,
              "#fdca26"
             ],
             [
              1,
              "#f0f921"
             ]
            ],
            "type": "histogram2d"
           }
          ],
          "histogram2dcontour": [
           {
            "colorbar": {
             "outlinewidth": 0,
             "ticks": ""
            },
            "colorscale": [
             [
              0,
              "#0d0887"
             ],
             [
              0.1111111111111111,
              "#46039f"
             ],
             [
              0.2222222222222222,
              "#7201a8"
             ],
             [
              0.3333333333333333,
              "#9c179e"
             ],
             [
              0.4444444444444444,
              "#bd3786"
             ],
             [
              0.5555555555555556,
              "#d8576b"
             ],
             [
              0.6666666666666666,
              "#ed7953"
             ],
             [
              0.7777777777777778,
              "#fb9f3a"
             ],
             [
              0.8888888888888888,
              "#fdca26"
             ],
             [
              1,
              "#f0f921"
             ]
            ],
            "type": "histogram2dcontour"
           }
          ],
          "mesh3d": [
           {
            "colorbar": {
             "outlinewidth": 0,
             "ticks": ""
            },
            "type": "mesh3d"
           }
          ],
          "parcoords": [
           {
            "line": {
             "colorbar": {
              "outlinewidth": 0,
              "ticks": ""
             }
            },
            "type": "parcoords"
           }
          ],
          "pie": [
           {
            "automargin": true,
            "type": "pie"
           }
          ],
          "scatter": [
           {
            "fillpattern": {
             "fillmode": "overlay",
             "size": 10,
             "solidity": 0.2
            },
            "type": "scatter"
           }
          ],
          "scatter3d": [
           {
            "line": {
             "colorbar": {
              "outlinewidth": 0,
              "ticks": ""
             }
            },
            "marker": {
             "colorbar": {
              "outlinewidth": 0,
              "ticks": ""
             }
            },
            "type": "scatter3d"
           }
          ],
          "scattercarpet": [
           {
            "marker": {
             "colorbar": {
              "outlinewidth": 0,
              "ticks": ""
             }
            },
            "type": "scattercarpet"
           }
          ],
          "scattergeo": [
           {
            "marker": {
             "colorbar": {
              "outlinewidth": 0,
              "ticks": ""
             }
            },
            "type": "scattergeo"
           }
          ],
          "scattergl": [
           {
            "marker": {
             "colorbar": {
              "outlinewidth": 0,
              "ticks": ""
             }
            },
            "type": "scattergl"
           }
          ],
          "scattermap": [
           {
            "marker": {
             "colorbar": {
              "outlinewidth": 0,
              "ticks": ""
             }
            },
            "type": "scattermap"
           }
          ],
          "scattermapbox": [
           {
            "marker": {
             "colorbar": {
              "outlinewidth": 0,
              "ticks": ""
             }
            },
            "type": "scattermapbox"
           }
          ],
          "scatterpolar": [
           {
            "marker": {
             "colorbar": {
              "outlinewidth": 0,
              "ticks": ""
             }
            },
            "type": "scatterpolar"
           }
          ],
          "scatterpolargl": [
           {
            "marker": {
             "colorbar": {
              "outlinewidth": 0,
              "ticks": ""
             }
            },
            "type": "scatterpolargl"
           }
          ],
          "scatterternary": [
           {
            "marker": {
             "colorbar": {
              "outlinewidth": 0,
              "ticks": ""
             }
            },
            "type": "scatterternary"
           }
          ],
          "surface": [
           {
            "colorbar": {
             "outlinewidth": 0,
             "ticks": ""
            },
            "colorscale": [
             [
              0,
              "#0d0887"
             ],
             [
              0.1111111111111111,
              "#46039f"
             ],
             [
              0.2222222222222222,
              "#7201a8"
             ],
             [
              0.3333333333333333,
              "#9c179e"
             ],
             [
              0.4444444444444444,
              "#bd3786"
             ],
             [
              0.5555555555555556,
              "#d8576b"
             ],
             [
              0.6666666666666666,
              "#ed7953"
             ],
             [
              0.7777777777777778,
              "#fb9f3a"
             ],
             [
              0.8888888888888888,
              "#fdca26"
             ],
             [
              1,
              "#f0f921"
             ]
            ],
            "type": "surface"
           }
          ],
          "table": [
           {
            "cells": {
             "fill": {
              "color": "#EBF0F8"
             },
             "line": {
              "color": "white"
             }
            },
            "header": {
             "fill": {
              "color": "#C8D4E3"
             },
             "line": {
              "color": "white"
             }
            },
            "type": "table"
           }
          ]
         },
         "layout": {
          "annotationdefaults": {
           "arrowcolor": "#2a3f5f",
           "arrowhead": 0,
           "arrowwidth": 1
          },
          "autotypenumbers": "strict",
          "coloraxis": {
           "colorbar": {
            "outlinewidth": 0,
            "ticks": ""
           }
          },
          "colorscale": {
           "diverging": [
            [
             0,
             "#8e0152"
            ],
            [
             0.1,
             "#c51b7d"
            ],
            [
             0.2,
             "#de77ae"
            ],
            [
             0.3,
             "#f1b6da"
            ],
            [
             0.4,
             "#fde0ef"
            ],
            [
             0.5,
             "#f7f7f7"
            ],
            [
             0.6,
             "#e6f5d0"
            ],
            [
             0.7,
             "#b8e186"
            ],
            [
             0.8,
             "#7fbc41"
            ],
            [
             0.9,
             "#4d9221"
            ],
            [
             1,
             "#276419"
            ]
           ],
           "sequential": [
            [
             0,
             "#0d0887"
            ],
            [
             0.1111111111111111,
             "#46039f"
            ],
            [
             0.2222222222222222,
             "#7201a8"
            ],
            [
             0.3333333333333333,
             "#9c179e"
            ],
            [
             0.4444444444444444,
             "#bd3786"
            ],
            [
             0.5555555555555556,
             "#d8576b"
            ],
            [
             0.6666666666666666,
             "#ed7953"
            ],
            [
             0.7777777777777778,
             "#fb9f3a"
            ],
            [
             0.8888888888888888,
             "#fdca26"
            ],
            [
             1,
             "#f0f921"
            ]
           ],
           "sequentialminus": [
            [
             0,
             "#0d0887"
            ],
            [
             0.1111111111111111,
             "#46039f"
            ],
            [
             0.2222222222222222,
             "#7201a8"
            ],
            [
             0.3333333333333333,
             "#9c179e"
            ],
            [
             0.4444444444444444,
             "#bd3786"
            ],
            [
             0.5555555555555556,
             "#d8576b"
            ],
            [
             0.6666666666666666,
             "#ed7953"
            ],
            [
             0.7777777777777778,
             "#fb9f3a"
            ],
            [
             0.8888888888888888,
             "#fdca26"
            ],
            [
             1,
             "#f0f921"
            ]
           ]
          },
          "colorway": [
           "#636efa",
           "#EF553B",
           "#00cc96",
           "#ab63fa",
           "#FFA15A",
           "#19d3f3",
           "#FF6692",
           "#B6E880",
           "#FF97FF",
           "#FECB52"
          ],
          "font": {
           "color": "#2a3f5f"
          },
          "geo": {
           "bgcolor": "white",
           "lakecolor": "white",
           "landcolor": "#E5ECF6",
           "showlakes": true,
           "showland": true,
           "subunitcolor": "white"
          },
          "hoverlabel": {
           "align": "left"
          },
          "hovermode": "closest",
          "mapbox": {
           "style": "light"
          },
          "paper_bgcolor": "white",
          "plot_bgcolor": "#E5ECF6",
          "polar": {
           "angularaxis": {
            "gridcolor": "white",
            "linecolor": "white",
            "ticks": ""
           },
           "bgcolor": "#E5ECF6",
           "radialaxis": {
            "gridcolor": "white",
            "linecolor": "white",
            "ticks": ""
           }
          },
          "scene": {
           "xaxis": {
            "backgroundcolor": "#E5ECF6",
            "gridcolor": "white",
            "gridwidth": 2,
            "linecolor": "white",
            "showbackground": true,
            "ticks": "",
            "zerolinecolor": "white"
           },
           "yaxis": {
            "backgroundcolor": "#E5ECF6",
            "gridcolor": "white",
            "gridwidth": 2,
            "linecolor": "white",
            "showbackground": true,
            "ticks": "",
            "zerolinecolor": "white"
           },
           "zaxis": {
            "backgroundcolor": "#E5ECF6",
            "gridcolor": "white",
            "gridwidth": 2,
            "linecolor": "white",
            "showbackground": true,
            "ticks": "",
            "zerolinecolor": "white"
           }
          },
          "shapedefaults": {
           "line": {
            "color": "#2a3f5f"
           }
          },
          "ternary": {
           "aaxis": {
            "gridcolor": "white",
            "linecolor": "white",
            "ticks": ""
           },
           "baxis": {
            "gridcolor": "white",
            "linecolor": "white",
            "ticks": ""
           },
           "bgcolor": "#E5ECF6",
           "caxis": {
            "gridcolor": "white",
            "linecolor": "white",
            "ticks": ""
           }
          },
          "title": {
           "x": 0.05
          },
          "xaxis": {
           "automargin": true,
           "gridcolor": "white",
           "linecolor": "white",
           "ticks": "",
           "title": {
            "standoff": 15
           },
           "zerolinecolor": "white",
           "zerolinewidth": 2
          },
          "yaxis": {
           "automargin": true,
           "gridcolor": "white",
           "linecolor": "white",
           "ticks": "",
           "title": {
            "standoff": 15
           },
           "zerolinecolor": "white",
           "zerolinewidth": 2
          }
         }
        },
        "title": {
         "text": "Ahorros Presupuestarios por Etapa"
        },
        "xaxis": {
         "anchor": "y",
         "domain": [
          0,
          1
         ],
         "tickangle": -45,
         "title": {
          "text": "Etapa del Proyecto"
         }
        },
        "yaxis": {
         "anchor": "x",
         "domain": [
          0,
          1
         ],
         "tickformat": ",.2f",
         "title": {
          "text": "Ahorro Total ($)"
         }
        }
       }
      }
     },
     "metadata": {},
     "output_type": "display_data"
    }
   ],
   "source": [
    "# ==================== VISUALIZACIÓN DE AHORROS POR ETAPA ====================\n",
    "\n",
    "# 1. Crear copia del resumen original de ahorros\n",
    "res_ahorro = resumen_ahorro_etapa.copy()\n",
    "\n",
    "# 2. Asegurar que los valores estén en formato numérico (por si vienen como string con $)\n",
    "res_ahorro[\"Suma de Ahorros\"] = (\n",
    "    res_ahorro[\"Suma_de_Ahorros\"]\n",
    "    .replace({\"[$,]\": \"\"}, regex=True)\n",
    "    .astype(float)\n",
    ")\n",
    "\n",
    "# 3. Ordenar etapas por monto de ahorro (mayor primero)\n",
    "res_ahorro = res_ahorro.sort_values(by=\"Suma de Ahorros\", ascending=False)\n",
    "\n",
    "# 4. Crear gráfico de barras\n",
    "fig = px.bar(\n",
    "    res_ahorro,\n",
    "    x=\"Etapa\",\n",
    "    y=\"Suma de Ahorros\",\n",
    "    title=\"Ahorros Presupuestarios por Etapa\",\n",
    "    text=\"Suma de Ahorros\",\n",
    "    labels={\n",
    "        \"Suma de Ahorros\": \"Ahorro Total ($)\",\n",
    "        \"Etapa\": \"Etapa del Proyecto\"\n",
    "    },\n",
    "    color_discrete_sequence=[\"#2CA02C\"]  # Verde accesible y positivo\n",
    ")\n",
    "\n",
    "# 5. Ajuste de texto y etiquetas de hover\n",
    "fig.update_traces(\n",
    "    texttemplate=\"$%{text:,.2f}\",\n",
    "    hovertemplate=\"<b>%{x}</b><br>Ahorro: $%{y:,.2f}\"\n",
    ")\n",
    "\n",
    "# 6. Configuración de ejes y márgenes\n",
    "fig.update_layout(\n",
    "    yaxis_tickformat=\",.2f\",\n",
    "    xaxis_tickangle=-45,\n",
    "    margin={\"t\":50, \"b\":150}\n",
    ")\n",
    "\n",
    "# 7. Mostrar el gráfico\n",
    "fig.show()\n"
   ]
  },
  {
   "cell_type": "markdown",
   "id": "cbf4aefb",
   "metadata": {},
   "source": [
    "#### 🔍 Interpretación del gráfico de ahorros\n",
    "\n",
    "Como se observa en el gráfico, la etapa **SOFT** no aparece, lo que indica que en dicha fase **no se generaron ahorros**. Esto puede deberse a dos razones:\n",
    "\n",
    "- Todas las cuentas asociadas a SOFT **mantuvieron el gasto igual al presupuesto** (es decir, sin diferencia).\n",
    "- O bien, **hubo pérdidas** que superaron el presupuesto, por lo que no se clasifican como ahorro.\n",
    "\n",
    "Por otro lado, destaca la etapa **SHOOT**, que concentra el mayor monto de ahorro presupuestario, con más de $13 millones, lo que puede **sugerir** una optimización significativa en esa fase del proyecto, sin embargo falta comparar las perdidas .\n"
   ]
  },
  {
   "cell_type": "markdown",
   "id": "b92f12fd",
   "metadata": {},
   "source": [
    "#### 🧭 Hallazgo específico: Etapa SOFT\n",
    "\n",
    "Se analizaron las 16 cuentas de detalle asociadas a la etapa **SOFT** y se observó lo siguiente:\n",
    "\n",
    "- Ninguna generó **ahorro**.\n",
    "- Sólo **2 partidas presentaron sobregasto** (es decir, superaron el presupuesto).\n",
    "- Las **14 restantes se ejecutaron exactamente como estaban previstas**, sin desvíos significativos.\n",
    "\n",
    "Este comportamiento sugiere que en esta etapa hubo una **planeación financiera precisa**, pero sin espacio para optimización presupuestal.\n"
   ]
  },
  {
   "cell_type": "code",
   "execution_count": 13,
   "id": "cf0bacd9",
   "metadata": {},
   "outputs": [
    {
     "name": "stdout",
     "output_type": "stream",
     "text": [
      "Estados de las partidas Detalle en SOFT:\n"
     ]
    },
    {
     "data": {
      "text/html": [
       "<div>\n",
       "<style scoped>\n",
       "    .dataframe tbody tr th:only-of-type {\n",
       "        vertical-align: middle;\n",
       "    }\n",
       "\n",
       "    .dataframe tbody tr th {\n",
       "        vertical-align: top;\n",
       "    }\n",
       "\n",
       "    .dataframe thead th {\n",
       "        text-align: right;\n",
       "    }\n",
       "</style>\n",
       "<table border=\"1\" class=\"dataframe\">\n",
       "  <thead>\n",
       "    <tr style=\"text-align: right;\">\n",
       "      <th></th>\n",
       "      <th>Cantidad</th>\n",
       "      <th>count</th>\n",
       "    </tr>\n",
       "  </thead>\n",
       "  <tbody>\n",
       "    <tr>\n",
       "      <th>0</th>\n",
       "      <td>Neutral</td>\n",
       "      <td>14</td>\n",
       "    </tr>\n",
       "    <tr>\n",
       "      <th>1</th>\n",
       "      <td>Sobregasto</td>\n",
       "      <td>2</td>\n",
       "    </tr>\n",
       "  </tbody>\n",
       "</table>\n",
       "</div>"
      ],
      "text/plain": [
       "     Cantidad  count\n",
       "0     Neutral     14\n",
       "1  Sobregasto      2"
      ]
     },
     "metadata": {},
     "output_type": "display_data"
    }
   ],
   "source": [
    "# 1. Asegurarnos de partir de df_cost_clean y recalcular DIFERENCIA vs BUDGET\n",
    "df_detalle = df_cost_clean[df_cost_clean[\"Nivel\"] == \"Detalle\"].copy()\n",
    "\n",
    "# 2. TOTAL COSTO = COST TO DATE + COMMITMENTS\n",
    "df_detalle[\"TOTAL COSTO\"] = df_detalle[\"COST TO DATE\"].fillna(0) + df_detalle[\"COMMITMENTS\"].fillna(0)\n",
    "\n",
    "# 3. DIFERENCIA vs BUDGET = BUDGET − TOTAL COSTO\n",
    "df_detalle[\"DIFERENCIA vs BUDGET\"] = df_detalle[\"BUDGET\"].fillna(0) - df_detalle[\"TOTAL COSTO\"]\n",
    "\n",
    "# 4. Filtrar solo la etapa SOFT\n",
    "df_soft = df_detalle[df_detalle[\"Etapa Normalizada\"] == \"SOFT\"].copy()\n",
    "\n",
    "# 5. Función de clasificación\n",
    "import numpy as np\n",
    "def clasificar_diferencia(val):\n",
    "    if np.isclose(val, 0, atol=1):\n",
    "        return \"Neutral\"\n",
    "    elif val < 0:\n",
    "        return \"Sobregasto\"\n",
    "    else:\n",
    "        return \"Ahorro\"\n",
    "\n",
    "# 6. Aplicar clasificación\n",
    "df_soft[\"Estado\"] = df_soft[\"DIFERENCIA vs BUDGET\"].apply(clasificar_diferencia)\n",
    "\n",
    "# 7. Contar por estado\n",
    "conteo_estado = (\n",
    "    df_soft[\"Estado\"]\n",
    "    .value_counts()\n",
    "    .reset_index()\n",
    "    .rename(columns={\"index\": \"Estado\", \"Estado\": \"Cantidad\"})\n",
    ")\n",
    "\n",
    "# 8. Mostrar resultados\n",
    "print(\"Estados de las partidas Detalle en SOFT:\")\n",
    "display(conteo_estado)\n"
   ]
  },
  {
   "cell_type": "code",
   "execution_count": 14,
   "id": "50fe7649",
   "metadata": {},
   "outputs": [
    {
     "data": {
      "application/vnd.plotly.v1+json": {
       "config": {
        "plotlyServerURL": "https://plot.ly"
       },
       "data": [
        {
         "customdata": [
          [
           "Neutral"
          ],
          [
           "Sobregasto"
          ]
         ],
         "domain": {
          "x": [
           0,
           1
          ],
          "y": [
           0,
           1
          ]
         },
         "hole": 0.4,
         "hovertemplate": "<b>%{label}</b><br>Porcentaje: %{percent:.2%}<br>Cuentas: %{value}",
         "labels": [
          "Neutral",
          "Sobregasto"
         ],
         "legendgroup": "",
         "marker": {
          "colors": [
           "#7F7F7F",
           "#D62728"
          ]
         },
         "name": "",
         "showlegend": true,
         "textinfo": "percent+label",
         "type": "pie",
         "values": {
          "bdata": "DgI=",
          "dtype": "i1"
         }
        }
       ],
       "layout": {
        "legend": {
         "tracegroupgap": 0
        },
        "template": {
         "data": {
          "bar": [
           {
            "error_x": {
             "color": "#2a3f5f"
            },
            "error_y": {
             "color": "#2a3f5f"
            },
            "marker": {
             "line": {
              "color": "#E5ECF6",
              "width": 0.5
             },
             "pattern": {
              "fillmode": "overlay",
              "size": 10,
              "solidity": 0.2
             }
            },
            "type": "bar"
           }
          ],
          "barpolar": [
           {
            "marker": {
             "line": {
              "color": "#E5ECF6",
              "width": 0.5
             },
             "pattern": {
              "fillmode": "overlay",
              "size": 10,
              "solidity": 0.2
             }
            },
            "type": "barpolar"
           }
          ],
          "carpet": [
           {
            "aaxis": {
             "endlinecolor": "#2a3f5f",
             "gridcolor": "white",
             "linecolor": "white",
             "minorgridcolor": "white",
             "startlinecolor": "#2a3f5f"
            },
            "baxis": {
             "endlinecolor": "#2a3f5f",
             "gridcolor": "white",
             "linecolor": "white",
             "minorgridcolor": "white",
             "startlinecolor": "#2a3f5f"
            },
            "type": "carpet"
           }
          ],
          "choropleth": [
           {
            "colorbar": {
             "outlinewidth": 0,
             "ticks": ""
            },
            "type": "choropleth"
           }
          ],
          "contour": [
           {
            "colorbar": {
             "outlinewidth": 0,
             "ticks": ""
            },
            "colorscale": [
             [
              0,
              "#0d0887"
             ],
             [
              0.1111111111111111,
              "#46039f"
             ],
             [
              0.2222222222222222,
              "#7201a8"
             ],
             [
              0.3333333333333333,
              "#9c179e"
             ],
             [
              0.4444444444444444,
              "#bd3786"
             ],
             [
              0.5555555555555556,
              "#d8576b"
             ],
             [
              0.6666666666666666,
              "#ed7953"
             ],
             [
              0.7777777777777778,
              "#fb9f3a"
             ],
             [
              0.8888888888888888,
              "#fdca26"
             ],
             [
              1,
              "#f0f921"
             ]
            ],
            "type": "contour"
           }
          ],
          "contourcarpet": [
           {
            "colorbar": {
             "outlinewidth": 0,
             "ticks": ""
            },
            "type": "contourcarpet"
           }
          ],
          "heatmap": [
           {
            "colorbar": {
             "outlinewidth": 0,
             "ticks": ""
            },
            "colorscale": [
             [
              0,
              "#0d0887"
             ],
             [
              0.1111111111111111,
              "#46039f"
             ],
             [
              0.2222222222222222,
              "#7201a8"
             ],
             [
              0.3333333333333333,
              "#9c179e"
             ],
             [
              0.4444444444444444,
              "#bd3786"
             ],
             [
              0.5555555555555556,
              "#d8576b"
             ],
             [
              0.6666666666666666,
              "#ed7953"
             ],
             [
              0.7777777777777778,
              "#fb9f3a"
             ],
             [
              0.8888888888888888,
              "#fdca26"
             ],
             [
              1,
              "#f0f921"
             ]
            ],
            "type": "heatmap"
           }
          ],
          "histogram": [
           {
            "marker": {
             "pattern": {
              "fillmode": "overlay",
              "size": 10,
              "solidity": 0.2
             }
            },
            "type": "histogram"
           }
          ],
          "histogram2d": [
           {
            "colorbar": {
             "outlinewidth": 0,
             "ticks": ""
            },
            "colorscale": [
             [
              0,
              "#0d0887"
             ],
             [
              0.1111111111111111,
              "#46039f"
             ],
             [
              0.2222222222222222,
              "#7201a8"
             ],
             [
              0.3333333333333333,
              "#9c179e"
             ],
             [
              0.4444444444444444,
              "#bd3786"
             ],
             [
              0.5555555555555556,
              "#d8576b"
             ],
             [
              0.6666666666666666,
              "#ed7953"
             ],
             [
              0.7777777777777778,
              "#fb9f3a"
             ],
             [
              0.8888888888888888,
              "#fdca26"
             ],
             [
              1,
              "#f0f921"
             ]
            ],
            "type": "histogram2d"
           }
          ],
          "histogram2dcontour": [
           {
            "colorbar": {
             "outlinewidth": 0,
             "ticks": ""
            },
            "colorscale": [
             [
              0,
              "#0d0887"
             ],
             [
              0.1111111111111111,
              "#46039f"
             ],
             [
              0.2222222222222222,
              "#7201a8"
             ],
             [
              0.3333333333333333,
              "#9c179e"
             ],
             [
              0.4444444444444444,
              "#bd3786"
             ],
             [
              0.5555555555555556,
              "#d8576b"
             ],
             [
              0.6666666666666666,
              "#ed7953"
             ],
             [
              0.7777777777777778,
              "#fb9f3a"
             ],
             [
              0.8888888888888888,
              "#fdca26"
             ],
             [
              1,
              "#f0f921"
             ]
            ],
            "type": "histogram2dcontour"
           }
          ],
          "mesh3d": [
           {
            "colorbar": {
             "outlinewidth": 0,
             "ticks": ""
            },
            "type": "mesh3d"
           }
          ],
          "parcoords": [
           {
            "line": {
             "colorbar": {
              "outlinewidth": 0,
              "ticks": ""
             }
            },
            "type": "parcoords"
           }
          ],
          "pie": [
           {
            "automargin": true,
            "type": "pie"
           }
          ],
          "scatter": [
           {
            "fillpattern": {
             "fillmode": "overlay",
             "size": 10,
             "solidity": 0.2
            },
            "type": "scatter"
           }
          ],
          "scatter3d": [
           {
            "line": {
             "colorbar": {
              "outlinewidth": 0,
              "ticks": ""
             }
            },
            "marker": {
             "colorbar": {
              "outlinewidth": 0,
              "ticks": ""
             }
            },
            "type": "scatter3d"
           }
          ],
          "scattercarpet": [
           {
            "marker": {
             "colorbar": {
              "outlinewidth": 0,
              "ticks": ""
             }
            },
            "type": "scattercarpet"
           }
          ],
          "scattergeo": [
           {
            "marker": {
             "colorbar": {
              "outlinewidth": 0,
              "ticks": ""
             }
            },
            "type": "scattergeo"
           }
          ],
          "scattergl": [
           {
            "marker": {
             "colorbar": {
              "outlinewidth": 0,
              "ticks": ""
             }
            },
            "type": "scattergl"
           }
          ],
          "scattermap": [
           {
            "marker": {
             "colorbar": {
              "outlinewidth": 0,
              "ticks": ""
             }
            },
            "type": "scattermap"
           }
          ],
          "scattermapbox": [
           {
            "marker": {
             "colorbar": {
              "outlinewidth": 0,
              "ticks": ""
             }
            },
            "type": "scattermapbox"
           }
          ],
          "scatterpolar": [
           {
            "marker": {
             "colorbar": {
              "outlinewidth": 0,
              "ticks": ""
             }
            },
            "type": "scatterpolar"
           }
          ],
          "scatterpolargl": [
           {
            "marker": {
             "colorbar": {
              "outlinewidth": 0,
              "ticks": ""
             }
            },
            "type": "scatterpolargl"
           }
          ],
          "scatterternary": [
           {
            "marker": {
             "colorbar": {
              "outlinewidth": 0,
              "ticks": ""
             }
            },
            "type": "scatterternary"
           }
          ],
          "surface": [
           {
            "colorbar": {
             "outlinewidth": 0,
             "ticks": ""
            },
            "colorscale": [
             [
              0,
              "#0d0887"
             ],
             [
              0.1111111111111111,
              "#46039f"
             ],
             [
              0.2222222222222222,
              "#7201a8"
             ],
             [
              0.3333333333333333,
              "#9c179e"
             ],
             [
              0.4444444444444444,
              "#bd3786"
             ],
             [
              0.5555555555555556,
              "#d8576b"
             ],
             [
              0.6666666666666666,
              "#ed7953"
             ],
             [
              0.7777777777777778,
              "#fb9f3a"
             ],
             [
              0.8888888888888888,
              "#fdca26"
             ],
             [
              1,
              "#f0f921"
             ]
            ],
            "type": "surface"
           }
          ],
          "table": [
           {
            "cells": {
             "fill": {
              "color": "#EBF0F8"
             },
             "line": {
              "color": "white"
             }
            },
            "header": {
             "fill": {
              "color": "#C8D4E3"
             },
             "line": {
              "color": "white"
             }
            },
            "type": "table"
           }
          ]
         },
         "layout": {
          "annotationdefaults": {
           "arrowcolor": "#2a3f5f",
           "arrowhead": 0,
           "arrowwidth": 1
          },
          "autotypenumbers": "strict",
          "coloraxis": {
           "colorbar": {
            "outlinewidth": 0,
            "ticks": ""
           }
          },
          "colorscale": {
           "diverging": [
            [
             0,
             "#8e0152"
            ],
            [
             0.1,
             "#c51b7d"
            ],
            [
             0.2,
             "#de77ae"
            ],
            [
             0.3,
             "#f1b6da"
            ],
            [
             0.4,
             "#fde0ef"
            ],
            [
             0.5,
             "#f7f7f7"
            ],
            [
             0.6,
             "#e6f5d0"
            ],
            [
             0.7,
             "#b8e186"
            ],
            [
             0.8,
             "#7fbc41"
            ],
            [
             0.9,
             "#4d9221"
            ],
            [
             1,
             "#276419"
            ]
           ],
           "sequential": [
            [
             0,
             "#0d0887"
            ],
            [
             0.1111111111111111,
             "#46039f"
            ],
            [
             0.2222222222222222,
             "#7201a8"
            ],
            [
             0.3333333333333333,
             "#9c179e"
            ],
            [
             0.4444444444444444,
             "#bd3786"
            ],
            [
             0.5555555555555556,
             "#d8576b"
            ],
            [
             0.6666666666666666,
             "#ed7953"
            ],
            [
             0.7777777777777778,
             "#fb9f3a"
            ],
            [
             0.8888888888888888,
             "#fdca26"
            ],
            [
             1,
             "#f0f921"
            ]
           ],
           "sequentialminus": [
            [
             0,
             "#0d0887"
            ],
            [
             0.1111111111111111,
             "#46039f"
            ],
            [
             0.2222222222222222,
             "#7201a8"
            ],
            [
             0.3333333333333333,
             "#9c179e"
            ],
            [
             0.4444444444444444,
             "#bd3786"
            ],
            [
             0.5555555555555556,
             "#d8576b"
            ],
            [
             0.6666666666666666,
             "#ed7953"
            ],
            [
             0.7777777777777778,
             "#fb9f3a"
            ],
            [
             0.8888888888888888,
             "#fdca26"
            ],
            [
             1,
             "#f0f921"
            ]
           ]
          },
          "colorway": [
           "#636efa",
           "#EF553B",
           "#00cc96",
           "#ab63fa",
           "#FFA15A",
           "#19d3f3",
           "#FF6692",
           "#B6E880",
           "#FF97FF",
           "#FECB52"
          ],
          "font": {
           "color": "#2a3f5f"
          },
          "geo": {
           "bgcolor": "white",
           "lakecolor": "white",
           "landcolor": "#E5ECF6",
           "showlakes": true,
           "showland": true,
           "subunitcolor": "white"
          },
          "hoverlabel": {
           "align": "left"
          },
          "hovermode": "closest",
          "mapbox": {
           "style": "light"
          },
          "paper_bgcolor": "white",
          "plot_bgcolor": "#E5ECF6",
          "polar": {
           "angularaxis": {
            "gridcolor": "white",
            "linecolor": "white",
            "ticks": ""
           },
           "bgcolor": "#E5ECF6",
           "radialaxis": {
            "gridcolor": "white",
            "linecolor": "white",
            "ticks": ""
           }
          },
          "scene": {
           "xaxis": {
            "backgroundcolor": "#E5ECF6",
            "gridcolor": "white",
            "gridwidth": 2,
            "linecolor": "white",
            "showbackground": true,
            "ticks": "",
            "zerolinecolor": "white"
           },
           "yaxis": {
            "backgroundcolor": "#E5ECF6",
            "gridcolor": "white",
            "gridwidth": 2,
            "linecolor": "white",
            "showbackground": true,
            "ticks": "",
            "zerolinecolor": "white"
           },
           "zaxis": {
            "backgroundcolor": "#E5ECF6",
            "gridcolor": "white",
            "gridwidth": 2,
            "linecolor": "white",
            "showbackground": true,
            "ticks": "",
            "zerolinecolor": "white"
           }
          },
          "shapedefaults": {
           "line": {
            "color": "#2a3f5f"
           }
          },
          "ternary": {
           "aaxis": {
            "gridcolor": "white",
            "linecolor": "white",
            "ticks": ""
           },
           "baxis": {
            "gridcolor": "white",
            "linecolor": "white",
            "ticks": ""
           },
           "bgcolor": "#E5ECF6",
           "caxis": {
            "gridcolor": "white",
            "linecolor": "white",
            "ticks": ""
           }
          },
          "title": {
           "x": 0.05
          },
          "xaxis": {
           "automargin": true,
           "gridcolor": "white",
           "linecolor": "white",
           "ticks": "",
           "title": {
            "standoff": 15
           },
           "zerolinecolor": "white",
           "zerolinewidth": 2
          },
          "yaxis": {
           "automargin": true,
           "gridcolor": "white",
           "linecolor": "white",
           "ticks": "",
           "title": {
            "standoff": 15
           },
           "zerolinecolor": "white",
           "zerolinewidth": 2
          }
         }
        },
        "title": {
         "text": "Distribución de Cuentas Detalladas en SOFT"
        }
       }
      }
     },
     "metadata": {},
     "output_type": "display_data"
    },
    {
     "data": {
      "text/html": [
       "<div>\n",
       "<style scoped>\n",
       "    .dataframe tbody tr th:only-of-type {\n",
       "        vertical-align: middle;\n",
       "    }\n",
       "\n",
       "    .dataframe tbody tr th {\n",
       "        vertical-align: top;\n",
       "    }\n",
       "\n",
       "    .dataframe thead th {\n",
       "        text-align: right;\n",
       "    }\n",
       "</style>\n",
       "<table border=\"1\" class=\"dataframe\">\n",
       "  <thead>\n",
       "    <tr style=\"text-align: right;\">\n",
       "      <th></th>\n",
       "      <th>ACCT</th>\n",
       "      <th>Etiqueta</th>\n",
       "      <th>COST TO DATE</th>\n",
       "      <th>COMMITMENTS</th>\n",
       "      <th>TOTAL COSTO</th>\n",
       "      <th>BUDGET</th>\n",
       "      <th>DIFERENCIA vs BUDGET</th>\n",
       "      <th>Estado</th>\n",
       "    </tr>\n",
       "  </thead>\n",
       "  <tbody>\n",
       "    <tr>\n",
       "      <th>56</th>\n",
       "      <td>1202-003</td>\n",
       "      <td>1202-003</td>\n",
       "      <td>$125,000.00</td>\n",
       "      <td>$0.00</td>\n",
       "      <td>$125,000.00</td>\n",
       "      <td>$125,000.00</td>\n",
       "      <td>$0.00</td>\n",
       "      <td>Neutral</td>\n",
       "    </tr>\n",
       "    <tr>\n",
       "      <th>61</th>\n",
       "      <td>1204-003</td>\n",
       "      <td>1204-003</td>\n",
       "      <td>$210,000.00</td>\n",
       "      <td>$0.00</td>\n",
       "      <td>$210,000.00</td>\n",
       "      <td>$210,000.00</td>\n",
       "      <td>$0.00</td>\n",
       "      <td>Neutral</td>\n",
       "    </tr>\n",
       "    <tr>\n",
       "      <th>69</th>\n",
       "      <td>1222-008</td>\n",
       "      <td>1222-008</td>\n",
       "      <td>$50,000.00</td>\n",
       "      <td>$0.00</td>\n",
       "      <td>$50,000.00</td>\n",
       "      <td>$50,000.00</td>\n",
       "      <td>$0.00</td>\n",
       "      <td>Neutral</td>\n",
       "    </tr>\n",
       "    <tr>\n",
       "      <th>483</th>\n",
       "      <td>2001-003</td>\n",
       "      <td>2001-003</td>\n",
       "      <td>$60,000.00</td>\n",
       "      <td>$0.00</td>\n",
       "      <td>$60,000.00</td>\n",
       "      <td>$60,000.00</td>\n",
       "      <td>$0.00</td>\n",
       "      <td>Neutral</td>\n",
       "    </tr>\n",
       "    <tr>\n",
       "      <th>502</th>\n",
       "      <td>2004-003</td>\n",
       "      <td>2004-003</td>\n",
       "      <td>$131,250.00</td>\n",
       "      <td>$0.00</td>\n",
       "      <td>$131,250.00</td>\n",
       "      <td>$131,250.00</td>\n",
       "      <td>$0.00</td>\n",
       "      <td>Neutral</td>\n",
       "    </tr>\n",
       "    <tr>\n",
       "      <th>506</th>\n",
       "      <td>2005-003</td>\n",
       "      <td>2005-003</td>\n",
       "      <td>$31,500.00</td>\n",
       "      <td>$0.00</td>\n",
       "      <td>$31,500.00</td>\n",
       "      <td>$31,500.00</td>\n",
       "      <td>$0.00</td>\n",
       "      <td>Neutral</td>\n",
       "    </tr>\n",
       "    <tr>\n",
       "      <th>540</th>\n",
       "      <td>2010-010</td>\n",
       "      <td>2010-010</td>\n",
       "      <td>$28,750.00</td>\n",
       "      <td>$0.00</td>\n",
       "      <td>$28,750.00</td>\n",
       "      <td>$28,750.00</td>\n",
       "      <td>$0.00</td>\n",
       "      <td>Neutral</td>\n",
       "    </tr>\n",
       "    <tr>\n",
       "      <th>546</th>\n",
       "      <td>2011-003</td>\n",
       "      <td>2011-003</td>\n",
       "      <td>$15,000.00</td>\n",
       "      <td>$0.00</td>\n",
       "      <td>$15,000.00</td>\n",
       "      <td>$15,000.00</td>\n",
       "      <td>$0.00</td>\n",
       "      <td>Neutral</td>\n",
       "    </tr>\n",
       "    <tr>\n",
       "      <th>552</th>\n",
       "      <td>2011-011</td>\n",
       "      <td>2011-011</td>\n",
       "      <td>$12,500.00</td>\n",
       "      <td>$0.00</td>\n",
       "      <td>$12,500.00</td>\n",
       "      <td>$12,500.00</td>\n",
       "      <td>$0.00</td>\n",
       "      <td>Neutral</td>\n",
       "    </tr>\n",
       "    <tr>\n",
       "      <th>558</th>\n",
       "      <td>2011-019</td>\n",
       "      <td>2011-019</td>\n",
       "      <td>$18,000.00</td>\n",
       "      <td>$0.00</td>\n",
       "      <td>$18,000.00</td>\n",
       "      <td>$18,000.00</td>\n",
       "      <td>$0.00</td>\n",
       "      <td>Neutral</td>\n",
       "    </tr>\n",
       "    <tr>\n",
       "      <th>564</th>\n",
       "      <td>2013-003</td>\n",
       "      <td>2013-003</td>\n",
       "      <td>$94,500.00</td>\n",
       "      <td>$0.00</td>\n",
       "      <td>$94,500.00</td>\n",
       "      <td>$94,500.00</td>\n",
       "      <td>$0.00</td>\n",
       "      <td>Neutral</td>\n",
       "    </tr>\n",
       "    <tr>\n",
       "      <th>657</th>\n",
       "      <td>2201-003</td>\n",
       "      <td>2201-003</td>\n",
       "      <td>$16,170.00</td>\n",
       "      <td>$0.00</td>\n",
       "      <td>$16,170.00</td>\n",
       "      <td>$16,170.00</td>\n",
       "      <td>$0.00</td>\n",
       "      <td>Neutral</td>\n",
       "    </tr>\n",
       "    <tr>\n",
       "      <th>1153</th>\n",
       "      <td>3101-003</td>\n",
       "      <td>3101-003</td>\n",
       "      <td>$21,000.00</td>\n",
       "      <td>$0.00</td>\n",
       "      <td>$21,000.00</td>\n",
       "      <td>$21,000.00</td>\n",
       "      <td>$0.00</td>\n",
       "      <td>Neutral</td>\n",
       "    </tr>\n",
       "    <tr>\n",
       "      <th>2183</th>\n",
       "      <td>7001-003</td>\n",
       "      <td>7001-003</td>\n",
       "      <td>$6,875.00</td>\n",
       "      <td>$0.00</td>\n",
       "      <td>$6,875.00</td>\n",
       "      <td>$6,875.00</td>\n",
       "      <td>$0.00</td>\n",
       "      <td>Neutral</td>\n",
       "    </tr>\n",
       "    <tr>\n",
       "      <th>1449</th>\n",
       "      <td>3402-003</td>\n",
       "      <td>3402-003</td>\n",
       "      <td>$120,750.00</td>\n",
       "      <td>$0.00</td>\n",
       "      <td>$120,750.00</td>\n",
       "      <td>$105,000.00</td>\n",
       "      <td>$-15,750.00</td>\n",
       "      <td>Sobregasto</td>\n",
       "    </tr>\n",
       "    <tr>\n",
       "      <th>1458</th>\n",
       "      <td>3403-009</td>\n",
       "      <td>3403-009 - NOM</td>\n",
       "      <td>$42,000.00</td>\n",
       "      <td>$0.00</td>\n",
       "      <td>$42,000.00</td>\n",
       "      <td>$31,500.00</td>\n",
       "      <td>$-10,500.00</td>\n",
       "      <td>Sobregasto</td>\n",
       "    </tr>\n",
       "  </tbody>\n",
       "</table>\n",
       "</div>"
      ],
      "text/plain": [
       "          ACCT        Etiqueta COST TO DATE COMMITMENTS  TOTAL COSTO  \\\n",
       "56    1202-003        1202-003  $125,000.00       $0.00  $125,000.00   \n",
       "61    1204-003        1204-003  $210,000.00       $0.00  $210,000.00   \n",
       "69    1222-008        1222-008   $50,000.00       $0.00   $50,000.00   \n",
       "483   2001-003        2001-003   $60,000.00       $0.00   $60,000.00   \n",
       "502   2004-003        2004-003  $131,250.00       $0.00  $131,250.00   \n",
       "506   2005-003        2005-003   $31,500.00       $0.00   $31,500.00   \n",
       "540   2010-010        2010-010   $28,750.00       $0.00   $28,750.00   \n",
       "546   2011-003        2011-003   $15,000.00       $0.00   $15,000.00   \n",
       "552   2011-011        2011-011   $12,500.00       $0.00   $12,500.00   \n",
       "558   2011-019        2011-019   $18,000.00       $0.00   $18,000.00   \n",
       "564   2013-003        2013-003   $94,500.00       $0.00   $94,500.00   \n",
       "657   2201-003        2201-003   $16,170.00       $0.00   $16,170.00   \n",
       "1153  3101-003        3101-003   $21,000.00       $0.00   $21,000.00   \n",
       "2183  7001-003        7001-003    $6,875.00       $0.00    $6,875.00   \n",
       "1449  3402-003        3402-003  $120,750.00       $0.00  $120,750.00   \n",
       "1458  3403-009  3403-009 - NOM   $42,000.00       $0.00   $42,000.00   \n",
       "\n",
       "           BUDGET DIFERENCIA vs BUDGET      Estado  \n",
       "56    $125,000.00                $0.00     Neutral  \n",
       "61    $210,000.00                $0.00     Neutral  \n",
       "69     $50,000.00                $0.00     Neutral  \n",
       "483    $60,000.00                $0.00     Neutral  \n",
       "502   $131,250.00                $0.00     Neutral  \n",
       "506    $31,500.00                $0.00     Neutral  \n",
       "540    $28,750.00                $0.00     Neutral  \n",
       "546    $15,000.00                $0.00     Neutral  \n",
       "552    $12,500.00                $0.00     Neutral  \n",
       "558    $18,000.00                $0.00     Neutral  \n",
       "564    $94,500.00                $0.00     Neutral  \n",
       "657    $16,170.00                $0.00     Neutral  \n",
       "1153   $21,000.00                $0.00     Neutral  \n",
       "2183    $6,875.00                $0.00     Neutral  \n",
       "1449  $105,000.00          $-15,750.00  Sobregasto  \n",
       "1458   $31,500.00          $-10,500.00  Sobregasto  "
      ]
     },
     "metadata": {},
     "output_type": "display_data"
    }
   ],
   "source": [
    "import plotly.express as px\n",
    "\n",
    "# 1. Reconstruir conteo_estado desde df_soft ———\n",
    "conteo_estado = (\n",
    "    df_soft[\"Estado\"]\n",
    "    .value_counts()\n",
    "    .rename_axis(\"Estado\")\n",
    "    .reset_index(name=\"Cantidad\")\n",
    ")\n",
    "\n",
    "# 2. Gráfico de pastel de estados en SOFT ———\n",
    "fig = px.pie(\n",
    "    conteo_estado,\n",
    "    names=\"Estado\",\n",
    "    values=\"Cantidad\",\n",
    "    title=\"Distribución de Cuentas Detalladas en SOFT\",\n",
    "    hole=0.4,\n",
    "    color=\"Estado\",\n",
    "    color_discrete_map={\n",
    "        \"Sobregasto\": \"#D62728\",\n",
    "        \"Ahorro\":     \"#2CA02C\",\n",
    "        \"Neutral\":    \"#7F7F7F\"\n",
    "    }\n",
    ")\n",
    "\n",
    "# 3. Etiquetas y hover\n",
    "fig.update_traces(\n",
    "    textinfo=\"percent+label\",\n",
    "    hovertemplate=\"<b>%{label}</b><br>Porcentaje: %{percent:.2%}<br>Cuentas: %{value}\"\n",
    ")\n",
    "\n",
    "fig.show()\n",
    "\n",
    "\n",
    "# 4. Tabla detallada de SOFT ———\n",
    "columnas = [\n",
    "    \"ACCT\", \"Etiqueta\", \"COST TO DATE\", \"COMMITMENTS\", \"TOTAL COSTO\",\n",
    "    \"BUDGET\", \"DIFERENCIA vs BUDGET\", \"Estado\"\n",
    "]\n",
    "\n",
    "tabla_detalle_soft = (\n",
    "    df_soft[columnas]\n",
    "    .copy()\n",
    "    .sort_values(by=[\"Estado\", \"DIFERENCIA vs BUDGET\"])\n",
    ")\n",
    "\n",
    "# 5. Formatear montos sin notación exponencial\n",
    "for col in [\"COST TO DATE\", \"COMMITMENTS\", \"TOTAL COSTO\", \"BUDGET\", \"DIFERENCIA vs BUDGET\"]:\n",
    "    tabla_detalle_soft[col] = tabla_detalle_soft[col].map(lambda x: f\"${x:,.2f}\")\n",
    "\n",
    "display(tabla_detalle_soft)\n"
   ]
  },
  {
   "cell_type": "markdown",
   "id": "0ed7907e",
   "metadata": {},
   "source": [
    "### ⚖️ Visualización del Balance Real entre Ahorros y Sobregastos\n",
    "\n",
    "En este análisis se calcula el **balance neto por etapa**, combinando los **ahorros** y los **sobregastos**.  \n",
    "El resultado permite observar en qué fases del proyecto se logró un equilibrio positivo (ahorro neto) o negativo (sobregasto neto).\n"
   ]
  },
  {
   "cell_type": "code",
   "execution_count": 17,
   "id": "dcc5cbac",
   "metadata": {},
   "outputs": [
    {
     "name": "stdout",
     "output_type": "stream",
     "text": [
      "Resumen de Ahorros vs Sobregastos por Etapa:\n"
     ]
    },
    {
     "data": {
      "text/html": [
       "<div>\n",
       "<style scoped>\n",
       "    .dataframe tbody tr th:only-of-type {\n",
       "        vertical-align: middle;\n",
       "    }\n",
       "\n",
       "    .dataframe tbody tr th {\n",
       "        vertical-align: top;\n",
       "    }\n",
       "\n",
       "    .dataframe thead th {\n",
       "        text-align: right;\n",
       "    }\n",
       "</style>\n",
       "<table border=\"1\" class=\"dataframe\">\n",
       "  <thead>\n",
       "    <tr style=\"text-align: right;\">\n",
       "      <th></th>\n",
       "      <th>Ahorros Totales</th>\n",
       "      <th>Sobregastos Totales</th>\n",
       "      <th>Balance Neto</th>\n",
       "    </tr>\n",
       "    <tr>\n",
       "      <th>Etapa Normalizada</th>\n",
       "      <th></th>\n",
       "      <th></th>\n",
       "      <th></th>\n",
       "    </tr>\n",
       "  </thead>\n",
       "  <tbody>\n",
       "    <tr>\n",
       "      <th>SHOOT</th>\n",
       "      <td>$13,038,734.79</td>\n",
       "      <td>$-14,388,276.07</td>\n",
       "      <td>$-1,349,541.28</td>\n",
       "    </tr>\n",
       "    <tr>\n",
       "      <th>PREP</th>\n",
       "      <td>$997,453.76</td>\n",
       "      <td>$-1,056,115.76</td>\n",
       "      <td>$-58,662.00</td>\n",
       "    </tr>\n",
       "    <tr>\n",
       "      <th>SOFT</th>\n",
       "      <td>$0.00</td>\n",
       "      <td>$-26,250.00</td>\n",
       "      <td>$-26,250.00</td>\n",
       "    </tr>\n",
       "    <tr>\n",
       "      <th>DEVELOPMENT</th>\n",
       "      <td>$5,460.01</td>\n",
       "      <td>$-0.09</td>\n",
       "      <td>$5,459.92</td>\n",
       "    </tr>\n",
       "    <tr>\n",
       "      <th>WRAP</th>\n",
       "      <td>$651,867.85</td>\n",
       "      <td>$-372,008.90</td>\n",
       "      <td>$279,858.95</td>\n",
       "    </tr>\n",
       "    <tr>\n",
       "      <th>POST</th>\n",
       "      <td>$1,744,465.53</td>\n",
       "      <td>$-943,044.54</td>\n",
       "      <td>$801,420.99</td>\n",
       "    </tr>\n",
       "  </tbody>\n",
       "</table>\n",
       "</div>"
      ],
      "text/plain": [
       "                  Ahorros Totales Sobregastos Totales    Balance Neto\n",
       "Etapa Normalizada                                                    \n",
       "SHOOT              $13,038,734.79     $-14,388,276.07  $-1,349,541.28\n",
       "PREP                  $997,453.76      $-1,056,115.76     $-58,662.00\n",
       "SOFT                        $0.00         $-26,250.00     $-26,250.00\n",
       "DEVELOPMENT             $5,460.01              $-0.09       $5,459.92\n",
       "WRAP                  $651,867.85        $-372,008.90     $279,858.95\n",
       "POST                $1,744,465.53        $-943,044.54     $801,420.99"
      ]
     },
     "metadata": {},
     "output_type": "display_data"
    }
   ],
   "source": [
    "# ==================== RESUMEN DE AHORROS Y SOBREGASTOS POR ETAPA ====================\n",
    "\n",
    "# 1. Filtrar cuentas con ahorro (>0) y sobregasto (<0), y agrupar por etapa\n",
    "ahorros = (\n",
    "    df_detalle[df_detalle[\"DIFERENCIA vs BUDGET\"] > 0]\n",
    "    .groupby(\"Etapa Normalizada\")[\"DIFERENCIA vs BUDGET\"]\n",
    "    .sum()\n",
    ")\n",
    "sobregastos = (\n",
    "    df_detalle[df_detalle[\"DIFERENCIA vs BUDGET\"] < 0]\n",
    "    .groupby(\"Etapa Normalizada\")[\"DIFERENCIA vs BUDGET\"]\n",
    "    .sum()\n",
    ")\n",
    "\n",
    "# 2. Combinar resultados en un solo DataFrame\n",
    "resumen_balance = pd.DataFrame({\n",
    "    \"Ahorros Totales\": ahorros,\n",
    "    \"Sobregastos Totales\": sobregastos\n",
    "}).fillna(0)\n",
    "\n",
    "# 3. Calcular el balance neto (ahorros + sobregastos)\n",
    "resumen_balance[\"Balance Neto\"] = (\n",
    "    resumen_balance[\"Ahorros Totales\"] + resumen_balance[\"Sobregastos Totales\"]\n",
    ")\n",
    "\n",
    "# 4. Ordenar etapas por balance neto ascendente (mayor sobregasto primero)\n",
    "resumen_balance = resumen_balance.sort_values(by=\"Balance Neto\")\n",
    "\n",
    "# 5. Formatear columnas como montos en pesos\n",
    "for col in [\"Ahorros Totales\", \"Sobregastos Totales\", \"Balance Neto\"]:\n",
    "    resumen_balance[col] = resumen_balance[col].map(lambda x: f\"${x:,.2f}\")\n",
    "\n",
    "# 6. Mostrar tabla final\n",
    "print(\"Resumen de Ahorros vs Sobregastos por Etapa:\")\n",
    "display(resumen_balance)\n"
   ]
  },
  {
   "cell_type": "code",
   "execution_count": 19,
   "id": "924939c0",
   "metadata": {},
   "outputs": [
    {
     "data": {
      "application/vnd.plotly.v1+json": {
       "config": {
        "plotlyServerURL": "https://plot.ly"
       },
       "data": [
        {
         "hovertemplate": "<b>%{x}</b><br>Balance Neto: $%{y:,.2f}<extra></extra>",
         "marker": {
          "color": [
           "#D62728",
           "#D62728",
           "#D62728",
           "#2CA02C",
           "#2CA02C",
           "#2CA02C"
          ]
         },
         "text": [
          "$-1,349,541.28",
          "$-58,662.00",
          "$-26,250.00",
          "$5,459.92",
          "$279,858.95",
          "$801,420.99"
         ],
         "textposition": "outside",
         "type": "bar",
         "x": [
          "SHOOT",
          "PREP",
          "SOFT",
          "DEVELOPMENT",
          "WRAP",
          "POST"
         ],
         "y": {
          "bdata": "exSuR6WXNMEAAAAAwKTswAAAAACAotnAUrgehetTtUDNzMzMyxQRQa5H4foZdShB",
          "dtype": "f8"
         }
        }
       ],
       "layout": {
        "margin": {
         "b": 150
        },
        "plot_bgcolor": "white",
        "showlegend": false,
        "template": {
         "data": {
          "bar": [
           {
            "error_x": {
             "color": "#2a3f5f"
            },
            "error_y": {
             "color": "#2a3f5f"
            },
            "marker": {
             "line": {
              "color": "#E5ECF6",
              "width": 0.5
             },
             "pattern": {
              "fillmode": "overlay",
              "size": 10,
              "solidity": 0.2
             }
            },
            "type": "bar"
           }
          ],
          "barpolar": [
           {
            "marker": {
             "line": {
              "color": "#E5ECF6",
              "width": 0.5
             },
             "pattern": {
              "fillmode": "overlay",
              "size": 10,
              "solidity": 0.2
             }
            },
            "type": "barpolar"
           }
          ],
          "carpet": [
           {
            "aaxis": {
             "endlinecolor": "#2a3f5f",
             "gridcolor": "white",
             "linecolor": "white",
             "minorgridcolor": "white",
             "startlinecolor": "#2a3f5f"
            },
            "baxis": {
             "endlinecolor": "#2a3f5f",
             "gridcolor": "white",
             "linecolor": "white",
             "minorgridcolor": "white",
             "startlinecolor": "#2a3f5f"
            },
            "type": "carpet"
           }
          ],
          "choropleth": [
           {
            "colorbar": {
             "outlinewidth": 0,
             "ticks": ""
            },
            "type": "choropleth"
           }
          ],
          "contour": [
           {
            "colorbar": {
             "outlinewidth": 0,
             "ticks": ""
            },
            "colorscale": [
             [
              0,
              "#0d0887"
             ],
             [
              0.1111111111111111,
              "#46039f"
             ],
             [
              0.2222222222222222,
              "#7201a8"
             ],
             [
              0.3333333333333333,
              "#9c179e"
             ],
             [
              0.4444444444444444,
              "#bd3786"
             ],
             [
              0.5555555555555556,
              "#d8576b"
             ],
             [
              0.6666666666666666,
              "#ed7953"
             ],
             [
              0.7777777777777778,
              "#fb9f3a"
             ],
             [
              0.8888888888888888,
              "#fdca26"
             ],
             [
              1,
              "#f0f921"
             ]
            ],
            "type": "contour"
           }
          ],
          "contourcarpet": [
           {
            "colorbar": {
             "outlinewidth": 0,
             "ticks": ""
            },
            "type": "contourcarpet"
           }
          ],
          "heatmap": [
           {
            "colorbar": {
             "outlinewidth": 0,
             "ticks": ""
            },
            "colorscale": [
             [
              0,
              "#0d0887"
             ],
             [
              0.1111111111111111,
              "#46039f"
             ],
             [
              0.2222222222222222,
              "#7201a8"
             ],
             [
              0.3333333333333333,
              "#9c179e"
             ],
             [
              0.4444444444444444,
              "#bd3786"
             ],
             [
              0.5555555555555556,
              "#d8576b"
             ],
             [
              0.6666666666666666,
              "#ed7953"
             ],
             [
              0.7777777777777778,
              "#fb9f3a"
             ],
             [
              0.8888888888888888,
              "#fdca26"
             ],
             [
              1,
              "#f0f921"
             ]
            ],
            "type": "heatmap"
           }
          ],
          "histogram": [
           {
            "marker": {
             "pattern": {
              "fillmode": "overlay",
              "size": 10,
              "solidity": 0.2
             }
            },
            "type": "histogram"
           }
          ],
          "histogram2d": [
           {
            "colorbar": {
             "outlinewidth": 0,
             "ticks": ""
            },
            "colorscale": [
             [
              0,
              "#0d0887"
             ],
             [
              0.1111111111111111,
              "#46039f"
             ],
             [
              0.2222222222222222,
              "#7201a8"
             ],
             [
              0.3333333333333333,
              "#9c179e"
             ],
             [
              0.4444444444444444,
              "#bd3786"
             ],
             [
              0.5555555555555556,
              "#d8576b"
             ],
             [
              0.6666666666666666,
              "#ed7953"
             ],
             [
              0.7777777777777778,
              "#fb9f3a"
             ],
             [
              0.8888888888888888,
              "#fdca26"
             ],
             [
              1,
              "#f0f921"
             ]
            ],
            "type": "histogram2d"
           }
          ],
          "histogram2dcontour": [
           {
            "colorbar": {
             "outlinewidth": 0,
             "ticks": ""
            },
            "colorscale": [
             [
              0,
              "#0d0887"
             ],
             [
              0.1111111111111111,
              "#46039f"
             ],
             [
              0.2222222222222222,
              "#7201a8"
             ],
             [
              0.3333333333333333,
              "#9c179e"
             ],
             [
              0.4444444444444444,
              "#bd3786"
             ],
             [
              0.5555555555555556,
              "#d8576b"
             ],
             [
              0.6666666666666666,
              "#ed7953"
             ],
             [
              0.7777777777777778,
              "#fb9f3a"
             ],
             [
              0.8888888888888888,
              "#fdca26"
             ],
             [
              1,
              "#f0f921"
             ]
            ],
            "type": "histogram2dcontour"
           }
          ],
          "mesh3d": [
           {
            "colorbar": {
             "outlinewidth": 0,
             "ticks": ""
            },
            "type": "mesh3d"
           }
          ],
          "parcoords": [
           {
            "line": {
             "colorbar": {
              "outlinewidth": 0,
              "ticks": ""
             }
            },
            "type": "parcoords"
           }
          ],
          "pie": [
           {
            "automargin": true,
            "type": "pie"
           }
          ],
          "scatter": [
           {
            "fillpattern": {
             "fillmode": "overlay",
             "size": 10,
             "solidity": 0.2
            },
            "type": "scatter"
           }
          ],
          "scatter3d": [
           {
            "line": {
             "colorbar": {
              "outlinewidth": 0,
              "ticks": ""
             }
            },
            "marker": {
             "colorbar": {
              "outlinewidth": 0,
              "ticks": ""
             }
            },
            "type": "scatter3d"
           }
          ],
          "scattercarpet": [
           {
            "marker": {
             "colorbar": {
              "outlinewidth": 0,
              "ticks": ""
             }
            },
            "type": "scattercarpet"
           }
          ],
          "scattergeo": [
           {
            "marker": {
             "colorbar": {
              "outlinewidth": 0,
              "ticks": ""
             }
            },
            "type": "scattergeo"
           }
          ],
          "scattergl": [
           {
            "marker": {
             "colorbar": {
              "outlinewidth": 0,
              "ticks": ""
             }
            },
            "type": "scattergl"
           }
          ],
          "scattermap": [
           {
            "marker": {
             "colorbar": {
              "outlinewidth": 0,
              "ticks": ""
             }
            },
            "type": "scattermap"
           }
          ],
          "scattermapbox": [
           {
            "marker": {
             "colorbar": {
              "outlinewidth": 0,
              "ticks": ""
             }
            },
            "type": "scattermapbox"
           }
          ],
          "scatterpolar": [
           {
            "marker": {
             "colorbar": {
              "outlinewidth": 0,
              "ticks": ""
             }
            },
            "type": "scatterpolar"
           }
          ],
          "scatterpolargl": [
           {
            "marker": {
             "colorbar": {
              "outlinewidth": 0,
              "ticks": ""
             }
            },
            "type": "scatterpolargl"
           }
          ],
          "scatterternary": [
           {
            "marker": {
             "colorbar": {
              "outlinewidth": 0,
              "ticks": ""
             }
            },
            "type": "scatterternary"
           }
          ],
          "surface": [
           {
            "colorbar": {
             "outlinewidth": 0,
             "ticks": ""
            },
            "colorscale": [
             [
              0,
              "#0d0887"
             ],
             [
              0.1111111111111111,
              "#46039f"
             ],
             [
              0.2222222222222222,
              "#7201a8"
             ],
             [
              0.3333333333333333,
              "#9c179e"
             ],
             [
              0.4444444444444444,
              "#bd3786"
             ],
             [
              0.5555555555555556,
              "#d8576b"
             ],
             [
              0.6666666666666666,
              "#ed7953"
             ],
             [
              0.7777777777777778,
              "#fb9f3a"
             ],
             [
              0.8888888888888888,
              "#fdca26"
             ],
             [
              1,
              "#f0f921"
             ]
            ],
            "type": "surface"
           }
          ],
          "table": [
           {
            "cells": {
             "fill": {
              "color": "#EBF0F8"
             },
             "line": {
              "color": "white"
             }
            },
            "header": {
             "fill": {
              "color": "#C8D4E3"
             },
             "line": {
              "color": "white"
             }
            },
            "type": "table"
           }
          ]
         },
         "layout": {
          "annotationdefaults": {
           "arrowcolor": "#2a3f5f",
           "arrowhead": 0,
           "arrowwidth": 1
          },
          "autotypenumbers": "strict",
          "coloraxis": {
           "colorbar": {
            "outlinewidth": 0,
            "ticks": ""
           }
          },
          "colorscale": {
           "diverging": [
            [
             0,
             "#8e0152"
            ],
            [
             0.1,
             "#c51b7d"
            ],
            [
             0.2,
             "#de77ae"
            ],
            [
             0.3,
             "#f1b6da"
            ],
            [
             0.4,
             "#fde0ef"
            ],
            [
             0.5,
             "#f7f7f7"
            ],
            [
             0.6,
             "#e6f5d0"
            ],
            [
             0.7,
             "#b8e186"
            ],
            [
             0.8,
             "#7fbc41"
            ],
            [
             0.9,
             "#4d9221"
            ],
            [
             1,
             "#276419"
            ]
           ],
           "sequential": [
            [
             0,
             "#0d0887"
            ],
            [
             0.1111111111111111,
             "#46039f"
            ],
            [
             0.2222222222222222,
             "#7201a8"
            ],
            [
             0.3333333333333333,
             "#9c179e"
            ],
            [
             0.4444444444444444,
             "#bd3786"
            ],
            [
             0.5555555555555556,
             "#d8576b"
            ],
            [
             0.6666666666666666,
             "#ed7953"
            ],
            [
             0.7777777777777778,
             "#fb9f3a"
            ],
            [
             0.8888888888888888,
             "#fdca26"
            ],
            [
             1,
             "#f0f921"
            ]
           ],
           "sequentialminus": [
            [
             0,
             "#0d0887"
            ],
            [
             0.1111111111111111,
             "#46039f"
            ],
            [
             0.2222222222222222,
             "#7201a8"
            ],
            [
             0.3333333333333333,
             "#9c179e"
            ],
            [
             0.4444444444444444,
             "#bd3786"
            ],
            [
             0.5555555555555556,
             "#d8576b"
            ],
            [
             0.6666666666666666,
             "#ed7953"
            ],
            [
             0.7777777777777778,
             "#fb9f3a"
            ],
            [
             0.8888888888888888,
             "#fdca26"
            ],
            [
             1,
             "#f0f921"
            ]
           ]
          },
          "colorway": [
           "#636efa",
           "#EF553B",
           "#00cc96",
           "#ab63fa",
           "#FFA15A",
           "#19d3f3",
           "#FF6692",
           "#B6E880",
           "#FF97FF",
           "#FECB52"
          ],
          "font": {
           "color": "#2a3f5f"
          },
          "geo": {
           "bgcolor": "white",
           "lakecolor": "white",
           "landcolor": "#E5ECF6",
           "showlakes": true,
           "showland": true,
           "subunitcolor": "white"
          },
          "hoverlabel": {
           "align": "left"
          },
          "hovermode": "closest",
          "mapbox": {
           "style": "light"
          },
          "paper_bgcolor": "white",
          "plot_bgcolor": "#E5ECF6",
          "polar": {
           "angularaxis": {
            "gridcolor": "white",
            "linecolor": "white",
            "ticks": ""
           },
           "bgcolor": "#E5ECF6",
           "radialaxis": {
            "gridcolor": "white",
            "linecolor": "white",
            "ticks": ""
           }
          },
          "scene": {
           "xaxis": {
            "backgroundcolor": "#E5ECF6",
            "gridcolor": "white",
            "gridwidth": 2,
            "linecolor": "white",
            "showbackground": true,
            "ticks": "",
            "zerolinecolor": "white"
           },
           "yaxis": {
            "backgroundcolor": "#E5ECF6",
            "gridcolor": "white",
            "gridwidth": 2,
            "linecolor": "white",
            "showbackground": true,
            "ticks": "",
            "zerolinecolor": "white"
           },
           "zaxis": {
            "backgroundcolor": "#E5ECF6",
            "gridcolor": "white",
            "gridwidth": 2,
            "linecolor": "white",
            "showbackground": true,
            "ticks": "",
            "zerolinecolor": "white"
           }
          },
          "shapedefaults": {
           "line": {
            "color": "#2a3f5f"
           }
          },
          "ternary": {
           "aaxis": {
            "gridcolor": "white",
            "linecolor": "white",
            "ticks": ""
           },
           "baxis": {
            "gridcolor": "white",
            "linecolor": "white",
            "ticks": ""
           },
           "bgcolor": "#E5ECF6",
           "caxis": {
            "gridcolor": "white",
            "linecolor": "white",
            "ticks": ""
           }
          },
          "title": {
           "x": 0.05
          },
          "xaxis": {
           "automargin": true,
           "gridcolor": "white",
           "linecolor": "white",
           "ticks": "",
           "title": {
            "standoff": 15
           },
           "zerolinecolor": "white",
           "zerolinewidth": 2
          },
          "yaxis": {
           "automargin": true,
           "gridcolor": "white",
           "linecolor": "white",
           "ticks": "",
           "title": {
            "standoff": 15
           },
           "zerolinecolor": "white",
           "zerolinewidth": 2
          }
         }
        },
        "title": {
         "text": "Balance Presupuestario Neto por Etapa"
        },
        "uniformtext": {
         "minsize": 8,
         "mode": "hide"
        },
        "xaxis": {
         "title": {
          "text": "Etapa"
         }
        },
        "yaxis": {
         "title": {
          "text": "Balance Neto ($)"
         }
        }
       }
      }
     },
     "metadata": {},
     "output_type": "display_data"
    }
   ],
   "source": [
    "# ==================== GRÁFICO DEL BALANCE NETO POR ETAPA ====================\n",
    "\n",
    "# 1. Copiar DataFrame resumen y preparar datos\n",
    "bal = resumen_balance.copy()\n",
    "\n",
    "# 2. Convertir columna 'Balance Neto' a numérico si aún está en formato string con símbolos\n",
    "if bal['Balance Neto'].dtype == object:\n",
    "    bal['Balance Neto num'] = (\n",
    "        bal['Balance Neto']\n",
    "        .str.replace(r'[\\$,]', '', regex=True)\n",
    "        .astype(float)\n",
    "    )\n",
    "else:\n",
    "    bal['Balance Neto num'] = bal['Balance Neto']\n",
    "\n",
    "# 3. Resetear índice para convertir la etapa en columna explícita\n",
    "bal_reset = bal.reset_index()\n",
    "etapa_col = 'Etapa' if 'Etapa' in bal_reset.columns else bal_reset.columns[0]\n",
    "\n",
    "# 4. Extraer valores para el gráfico\n",
    "etapas   = bal_reset[etapa_col]\n",
    "balances = bal_reset['Balance Neto num']\n",
    "\n",
    "# 5. Definir colores: verde para ahorro neto, rojo para sobregasto neto\n",
    "colores = ['#2CA02C' if v >= 0 else '#D62728' for v in balances]\n",
    "\n",
    "# 6. Crear gráfico de barras verticales\n",
    "fig = go.Figure(go.Bar(\n",
    "    x=etapas,\n",
    "    y=balances,\n",
    "    marker_color=colores,\n",
    "    text=[f\"${v:,.2f}\" for v in balances],\n",
    "    textposition='outside',\n",
    "    hovertemplate='<b>%{x}</b><br>Balance Neto: $%{y:,.2f}<extra></extra>'\n",
    "))\n",
    "\n",
    "# 7. Ajustes estéticos del gráfico\n",
    "fig.update_layout(\n",
    "    title='Balance Presupuestario Neto por Etapa',\n",
    "    xaxis_title='Etapa',\n",
    "    yaxis_title='Balance Neto ($)',\n",
    "    plot_bgcolor='white',\n",
    "    showlegend=False,\n",
    "    uniformtext_minsize=8,\n",
    "    uniformtext_mode='hide',\n",
    "    margin=dict(b=150)\n",
    ")\n",
    "\n",
    "# 8. Mostrar gráfico\n",
    "fig.show()\n"
   ]
  },
  {
   "cell_type": "markdown",
   "id": "1b9156df",
   "metadata": {},
   "source": [
    "## 📋 Tabla Interactiva: Resumen de Producción (Hoja “Summary”)\n",
    "\n",
    "Se presenta una tabla interactiva basada en la hoja **Summary** del archivo Excel original.  \n",
    "Este resumen muestra indicadores clave como:\n",
    "\n",
    "- **Costo a la semana actual**\n",
    "- **Compromisos**\n",
    "- **Estimados finales**\n",
    "- **Presupuesto**\n",
    "- **Diferencias positivas o negativas**\n",
    "\n",
    "Características destacadas de la visualización:\n",
    "\n",
    "- El diseño incluye **colores accesibles para personas con daltonismo**, alternando azul y naranja en los encabezados.\n",
    "- La columna `VARIANCE $` está coloreada dinámicamente:\n",
    "  - Azul claro para diferencias positivas (ahorro).\n",
    "  - Naranja claro para diferencias negativas (sobregasto).\n",
    "- Los valores numéricos están **formateados con separador de miles**, para facilitar su lectura.\n",
    "\n",
    "> Esta tabla es útil para presentar un resumen ejecutivo visual, exportar reportes o realizar revisiones rápidas antes de pasar al análisis detallado.\n"
   ]
  },
  {
   "cell_type": "code",
   "execution_count": 24,
   "id": "0c276320",
   "metadata": {},
   "outputs": [
    {
     "name": "stderr",
     "output_type": "stream",
     "text": [
      "c:\\Users\\angel\\anaconda3\\envs\\AnalisdeDatos\\Lib\\site-packages\\openpyxl\\worksheet\\_reader.py:329: UserWarning:\n",
      "\n",
      "Data Validation extension is not supported and will be removed\n",
      "\n"
     ]
    },
    {
     "data": {
      "application/vnd.plotly.v1+json": {
       "config": {
        "plotlyServerURL": "https://plot.ly"
       },
       "data": [
        {
         "cells": {
          "align": "center",
          "fill": {
           "color": [
            [
             "white",
             "white",
             "white",
             "white",
             "white"
            ],
            [
             "white",
             "white",
             "white",
             "white",
             "white"
            ],
            [
             "white",
             "white",
             "white",
             "white",
             "white"
            ],
            [
             "white",
             "white",
             "white",
             "white",
             "white"
            ],
            [
             "white",
             "white",
             "white",
             "white",
             "white"
            ],
            [
             "white",
             "white",
             "white",
             "white",
             "white"
            ],
            [
             "white",
             "white",
             "white",
             "white",
             "white"
            ],
            [
             "#FDEBD0",
             "#D4E6F1",
             "#FDEBD0",
             "#FDEBD0",
             "#FDEBD0"
            ],
            [
             "white",
             "white",
             "white",
             "white",
             "white"
            ]
           ]
          },
          "font": {
           "family": "Arial",
           "size": 11
          },
          "values": [
           [
            "Above the Line",
            "Below the Line",
            "Post",
            "Others",
            "TOTAL"
           ],
           [
            "37,179,095",
            "68,434,405",
            "14,491,072",
            "14,267,410",
            "134,371,983"
           ],
           [
            "0",
            "0",
            "0",
            "1,073,642",
            "1,073,642"
           ],
           [
            "37,179,095",
            "68,434,405",
            "14,491,072",
            "15,341,052",
            "135,445,624"
           ],
           [
            "0",
            "0",
            "0",
            "0",
            "0"
           ],
           [
            "37,179,095",
            "68,434,405",
            "14,491,072",
            "15,341,052",
            "135,445,624"
           ],
           [
            "35,701,887",
            "69,999,853",
            "14,406,986",
            "14,989,184",
            "135,097,911"
           ],
           [
            "-1,477,207",
            "1,565,448",
            "-84,086",
            "-351,868",
            "-347,713"
           ],
           [
            104.13761670743264,
            97.7636406362739,
            100.58365067023864,
            102.34747906896922,
            100.25737882357042
           ]
          ]
         },
         "header": {
          "align": "center",
          "fill": {
           "color": [
            "lightgrey",
            "#1f77b4",
            "#ff7f0e",
            "#1f77b4",
            "#ff7f0e",
            "#1f77b4",
            "#ff7f0e",
            "#1f77b4",
            "#ff7f0e"
           ]
          },
          "font": {
           "color": [
            "black",
            "white",
            "white",
            "white",
            "white",
            "white",
            "white",
            "white",
            "white"
           ],
           "family": "Arial",
           "size": 12
          },
          "values": [
           "Concept",
           "COST TO DATE (CURRENT WEEK)",
           "COMMITMENTS",
           "TOTAL CTD",
           "ESTIMATE TO COMPLETE (ETC)",
           "ESTIMATE FINAL COST (EFC)",
           "BUDGET",
           "VARIANCE $",
           "INDEX"
          ]
         },
         "type": "table"
        }
       ],
       "layout": {
        "height": 350,
        "margin": {
         "b": 20,
         "l": 20,
         "r": 20,
         "t": 40
        },
        "template": {
         "data": {
          "bar": [
           {
            "error_x": {
             "color": "#2a3f5f"
            },
            "error_y": {
             "color": "#2a3f5f"
            },
            "marker": {
             "line": {
              "color": "#E5ECF6",
              "width": 0.5
             },
             "pattern": {
              "fillmode": "overlay",
              "size": 10,
              "solidity": 0.2
             }
            },
            "type": "bar"
           }
          ],
          "barpolar": [
           {
            "marker": {
             "line": {
              "color": "#E5ECF6",
              "width": 0.5
             },
             "pattern": {
              "fillmode": "overlay",
              "size": 10,
              "solidity": 0.2
             }
            },
            "type": "barpolar"
           }
          ],
          "carpet": [
           {
            "aaxis": {
             "endlinecolor": "#2a3f5f",
             "gridcolor": "white",
             "linecolor": "white",
             "minorgridcolor": "white",
             "startlinecolor": "#2a3f5f"
            },
            "baxis": {
             "endlinecolor": "#2a3f5f",
             "gridcolor": "white",
             "linecolor": "white",
             "minorgridcolor": "white",
             "startlinecolor": "#2a3f5f"
            },
            "type": "carpet"
           }
          ],
          "choropleth": [
           {
            "colorbar": {
             "outlinewidth": 0,
             "ticks": ""
            },
            "type": "choropleth"
           }
          ],
          "contour": [
           {
            "colorbar": {
             "outlinewidth": 0,
             "ticks": ""
            },
            "colorscale": [
             [
              0,
              "#0d0887"
             ],
             [
              0.1111111111111111,
              "#46039f"
             ],
             [
              0.2222222222222222,
              "#7201a8"
             ],
             [
              0.3333333333333333,
              "#9c179e"
             ],
             [
              0.4444444444444444,
              "#bd3786"
             ],
             [
              0.5555555555555556,
              "#d8576b"
             ],
             [
              0.6666666666666666,
              "#ed7953"
             ],
             [
              0.7777777777777778,
              "#fb9f3a"
             ],
             [
              0.8888888888888888,
              "#fdca26"
             ],
             [
              1,
              "#f0f921"
             ]
            ],
            "type": "contour"
           }
          ],
          "contourcarpet": [
           {
            "colorbar": {
             "outlinewidth": 0,
             "ticks": ""
            },
            "type": "contourcarpet"
           }
          ],
          "heatmap": [
           {
            "colorbar": {
             "outlinewidth": 0,
             "ticks": ""
            },
            "colorscale": [
             [
              0,
              "#0d0887"
             ],
             [
              0.1111111111111111,
              "#46039f"
             ],
             [
              0.2222222222222222,
              "#7201a8"
             ],
             [
              0.3333333333333333,
              "#9c179e"
             ],
             [
              0.4444444444444444,
              "#bd3786"
             ],
             [
              0.5555555555555556,
              "#d8576b"
             ],
             [
              0.6666666666666666,
              "#ed7953"
             ],
             [
              0.7777777777777778,
              "#fb9f3a"
             ],
             [
              0.8888888888888888,
              "#fdca26"
             ],
             [
              1,
              "#f0f921"
             ]
            ],
            "type": "heatmap"
           }
          ],
          "histogram": [
           {
            "marker": {
             "pattern": {
              "fillmode": "overlay",
              "size": 10,
              "solidity": 0.2
             }
            },
            "type": "histogram"
           }
          ],
          "histogram2d": [
           {
            "colorbar": {
             "outlinewidth": 0,
             "ticks": ""
            },
            "colorscale": [
             [
              0,
              "#0d0887"
             ],
             [
              0.1111111111111111,
              "#46039f"
             ],
             [
              0.2222222222222222,
              "#7201a8"
             ],
             [
              0.3333333333333333,
              "#9c179e"
             ],
             [
              0.4444444444444444,
              "#bd3786"
             ],
             [
              0.5555555555555556,
              "#d8576b"
             ],
             [
              0.6666666666666666,
              "#ed7953"
             ],
             [
              0.7777777777777778,
              "#fb9f3a"
             ],
             [
              0.8888888888888888,
              "#fdca26"
             ],
             [
              1,
              "#f0f921"
             ]
            ],
            "type": "histogram2d"
           }
          ],
          "histogram2dcontour": [
           {
            "colorbar": {
             "outlinewidth": 0,
             "ticks": ""
            },
            "colorscale": [
             [
              0,
              "#0d0887"
             ],
             [
              0.1111111111111111,
              "#46039f"
             ],
             [
              0.2222222222222222,
              "#7201a8"
             ],
             [
              0.3333333333333333,
              "#9c179e"
             ],
             [
              0.4444444444444444,
              "#bd3786"
             ],
             [
              0.5555555555555556,
              "#d8576b"
             ],
             [
              0.6666666666666666,
              "#ed7953"
             ],
             [
              0.7777777777777778,
              "#fb9f3a"
             ],
             [
              0.8888888888888888,
              "#fdca26"
             ],
             [
              1,
              "#f0f921"
             ]
            ],
            "type": "histogram2dcontour"
           }
          ],
          "mesh3d": [
           {
            "colorbar": {
             "outlinewidth": 0,
             "ticks": ""
            },
            "type": "mesh3d"
           }
          ],
          "parcoords": [
           {
            "line": {
             "colorbar": {
              "outlinewidth": 0,
              "ticks": ""
             }
            },
            "type": "parcoords"
           }
          ],
          "pie": [
           {
            "automargin": true,
            "type": "pie"
           }
          ],
          "scatter": [
           {
            "fillpattern": {
             "fillmode": "overlay",
             "size": 10,
             "solidity": 0.2
            },
            "type": "scatter"
           }
          ],
          "scatter3d": [
           {
            "line": {
             "colorbar": {
              "outlinewidth": 0,
              "ticks": ""
             }
            },
            "marker": {
             "colorbar": {
              "outlinewidth": 0,
              "ticks": ""
             }
            },
            "type": "scatter3d"
           }
          ],
          "scattercarpet": [
           {
            "marker": {
             "colorbar": {
              "outlinewidth": 0,
              "ticks": ""
             }
            },
            "type": "scattercarpet"
           }
          ],
          "scattergeo": [
           {
            "marker": {
             "colorbar": {
              "outlinewidth": 0,
              "ticks": ""
             }
            },
            "type": "scattergeo"
           }
          ],
          "scattergl": [
           {
            "marker": {
             "colorbar": {
              "outlinewidth": 0,
              "ticks": ""
             }
            },
            "type": "scattergl"
           }
          ],
          "scattermap": [
           {
            "marker": {
             "colorbar": {
              "outlinewidth": 0,
              "ticks": ""
             }
            },
            "type": "scattermap"
           }
          ],
          "scattermapbox": [
           {
            "marker": {
             "colorbar": {
              "outlinewidth": 0,
              "ticks": ""
             }
            },
            "type": "scattermapbox"
           }
          ],
          "scatterpolar": [
           {
            "marker": {
             "colorbar": {
              "outlinewidth": 0,
              "ticks": ""
             }
            },
            "type": "scatterpolar"
           }
          ],
          "scatterpolargl": [
           {
            "marker": {
             "colorbar": {
              "outlinewidth": 0,
              "ticks": ""
             }
            },
            "type": "scatterpolargl"
           }
          ],
          "scatterternary": [
           {
            "marker": {
             "colorbar": {
              "outlinewidth": 0,
              "ticks": ""
             }
            },
            "type": "scatterternary"
           }
          ],
          "surface": [
           {
            "colorbar": {
             "outlinewidth": 0,
             "ticks": ""
            },
            "colorscale": [
             [
              0,
              "#0d0887"
             ],
             [
              0.1111111111111111,
              "#46039f"
             ],
             [
              0.2222222222222222,
              "#7201a8"
             ],
             [
              0.3333333333333333,
              "#9c179e"
             ],
             [
              0.4444444444444444,
              "#bd3786"
             ],
             [
              0.5555555555555556,
              "#d8576b"
             ],
             [
              0.6666666666666666,
              "#ed7953"
             ],
             [
              0.7777777777777778,
              "#fb9f3a"
             ],
             [
              0.8888888888888888,
              "#fdca26"
             ],
             [
              1,
              "#f0f921"
             ]
            ],
            "type": "surface"
           }
          ],
          "table": [
           {
            "cells": {
             "fill": {
              "color": "#EBF0F8"
             },
             "line": {
              "color": "white"
             }
            },
            "header": {
             "fill": {
              "color": "#C8D4E3"
             },
             "line": {
              "color": "white"
             }
            },
            "type": "table"
           }
          ]
         },
         "layout": {
          "annotationdefaults": {
           "arrowcolor": "#2a3f5f",
           "arrowhead": 0,
           "arrowwidth": 1
          },
          "autotypenumbers": "strict",
          "coloraxis": {
           "colorbar": {
            "outlinewidth": 0,
            "ticks": ""
           }
          },
          "colorscale": {
           "diverging": [
            [
             0,
             "#8e0152"
            ],
            [
             0.1,
             "#c51b7d"
            ],
            [
             0.2,
             "#de77ae"
            ],
            [
             0.3,
             "#f1b6da"
            ],
            [
             0.4,
             "#fde0ef"
            ],
            [
             0.5,
             "#f7f7f7"
            ],
            [
             0.6,
             "#e6f5d0"
            ],
            [
             0.7,
             "#b8e186"
            ],
            [
             0.8,
             "#7fbc41"
            ],
            [
             0.9,
             "#4d9221"
            ],
            [
             1,
             "#276419"
            ]
           ],
           "sequential": [
            [
             0,
             "#0d0887"
            ],
            [
             0.1111111111111111,
             "#46039f"
            ],
            [
             0.2222222222222222,
             "#7201a8"
            ],
            [
             0.3333333333333333,
             "#9c179e"
            ],
            [
             0.4444444444444444,
             "#bd3786"
            ],
            [
             0.5555555555555556,
             "#d8576b"
            ],
            [
             0.6666666666666666,
             "#ed7953"
            ],
            [
             0.7777777777777778,
             "#fb9f3a"
            ],
            [
             0.8888888888888888,
             "#fdca26"
            ],
            [
             1,
             "#f0f921"
            ]
           ],
           "sequentialminus": [
            [
             0,
             "#0d0887"
            ],
            [
             0.1111111111111111,
             "#46039f"
            ],
            [
             0.2222222222222222,
             "#7201a8"
            ],
            [
             0.3333333333333333,
             "#9c179e"
            ],
            [
             0.4444444444444444,
             "#bd3786"
            ],
            [
             0.5555555555555556,
             "#d8576b"
            ],
            [
             0.6666666666666666,
             "#ed7953"
            ],
            [
             0.7777777777777778,
             "#fb9f3a"
            ],
            [
             0.8888888888888888,
             "#fdca26"
            ],
            [
             1,
             "#f0f921"
            ]
           ]
          },
          "colorway": [
           "#636efa",
           "#EF553B",
           "#00cc96",
           "#ab63fa",
           "#FFA15A",
           "#19d3f3",
           "#FF6692",
           "#B6E880",
           "#FF97FF",
           "#FECB52"
          ],
          "font": {
           "color": "#2a3f5f"
          },
          "geo": {
           "bgcolor": "white",
           "lakecolor": "white",
           "landcolor": "#E5ECF6",
           "showlakes": true,
           "showland": true,
           "subunitcolor": "white"
          },
          "hoverlabel": {
           "align": "left"
          },
          "hovermode": "closest",
          "mapbox": {
           "style": "light"
          },
          "paper_bgcolor": "white",
          "plot_bgcolor": "#E5ECF6",
          "polar": {
           "angularaxis": {
            "gridcolor": "white",
            "linecolor": "white",
            "ticks": ""
           },
           "bgcolor": "#E5ECF6",
           "radialaxis": {
            "gridcolor": "white",
            "linecolor": "white",
            "ticks": ""
           }
          },
          "scene": {
           "xaxis": {
            "backgroundcolor": "#E5ECF6",
            "gridcolor": "white",
            "gridwidth": 2,
            "linecolor": "white",
            "showbackground": true,
            "ticks": "",
            "zerolinecolor": "white"
           },
           "yaxis": {
            "backgroundcolor": "#E5ECF6",
            "gridcolor": "white",
            "gridwidth": 2,
            "linecolor": "white",
            "showbackground": true,
            "ticks": "",
            "zerolinecolor": "white"
           },
           "zaxis": {
            "backgroundcolor": "#E5ECF6",
            "gridcolor": "white",
            "gridwidth": 2,
            "linecolor": "white",
            "showbackground": true,
            "ticks": "",
            "zerolinecolor": "white"
           }
          },
          "shapedefaults": {
           "line": {
            "color": "#2a3f5f"
           }
          },
          "ternary": {
           "aaxis": {
            "gridcolor": "white",
            "linecolor": "white",
            "ticks": ""
           },
           "baxis": {
            "gridcolor": "white",
            "linecolor": "white",
            "ticks": ""
           },
           "bgcolor": "#E5ECF6",
           "caxis": {
            "gridcolor": "white",
            "linecolor": "white",
            "ticks": ""
           }
          },
          "title": {
           "x": 0.05
          },
          "xaxis": {
           "automargin": true,
           "gridcolor": "white",
           "linecolor": "white",
           "ticks": "",
           "title": {
            "standoff": 15
           },
           "zerolinecolor": "white",
           "zerolinewidth": 2
          },
          "yaxis": {
           "automargin": true,
           "gridcolor": "white",
           "linecolor": "white",
           "ticks": "",
           "title": {
            "standoff": 15
           },
           "zerolinecolor": "white",
           "zerolinewidth": 2
          }
         }
        },
        "title": {
         "text": "Resumen interactivo - Summary",
         "x": 0.5
        },
        "width": 1000
       }
      }
     },
     "metadata": {},
     "output_type": "display_data"
    }
   ],
   "source": [
    "# 1. Carga y limpieza\n",
    "archivo = \"CR EJEMPLO MOD.xlsm\"  # ajústalo a tu ruta real\n",
    "df_raw = pd.read_excel(\n",
    "    archivo,\n",
    "    sheet_name=\"Summary\",\n",
    "    engine=\"openpyxl\",\n",
    "    header=11  # la fila 12 es tu header real\n",
    ")\n",
    "\n",
    "# 2. Eliminamos la primera columna vacía y tomamos solo las 9 primeras columnas\n",
    "df_tmp = df_raw.drop(columns=[df_raw.columns[0]]).iloc[:, :9]\n",
    "df_tmp.columns = df_tmp.iloc[0].tolist()   # renombramos con la fila de títulos\n",
    "df = df_tmp[1:].reset_index(drop=True)     # quitamos esa fila de títulos\n",
    "df = df.dropna(subset=['Concept'])         # solo filas con Concept\n",
    "\n",
    "# 3. Filtrar hasta la fila 'TOTAL'\n",
    "mask = df['Concept'].astype(str).str.strip().str.upper() == 'TOTAL'\n",
    "if mask.any():\n",
    "    idx = mask.idxmax()\n",
    "    df = df.loc[:idx]\n",
    "\n",
    "# 4. Preparar valores formateados\n",
    "numeric_cols = [\n",
    "    \"COST TO DATE (CURRENT WEEK)\",\n",
    "    \"COMMITMENTS\",\n",
    "    \"TOTAL CTD\",\n",
    "    \"ESTIMATE TO COMPLETE (ETC)\",\n",
    "    \"ESTIMATE FINAL COST (EFC)\",\n",
    "    \"BUDGET\",\n",
    "    \"VARIANCE $\"\n",
    "]\n",
    "\n",
    "cells_vals = []\n",
    "for c in df.columns:\n",
    "    if c in numeric_cols:\n",
    "        # formateo con separador de miles, sin decimales\n",
    "        cells_vals.append([f\"{v:,.0f}\" for v in df[c].astype(float)])\n",
    "    else:\n",
    "        cells_vals.append(df[c].tolist())\n",
    "\n",
    "# 5. Colores accesibles y atractivos\n",
    "# Header: alterna azul/naranja (daltonismo-friendly)\n",
    "header_fill = [\n",
    "    \"lightgrey\",  # Concept\n",
    "    \"#1f77b4\",    # azul\n",
    "    \"#ff7f0e\",    # naranja\n",
    "    \"#1f77b4\",\n",
    "    \"#ff7f0e\",\n",
    "    \"#1f77b4\",\n",
    "    \"#ff7f0e\",\n",
    "    \"#1f77b4\",\n",
    "    \"#ff7f0e\"\n",
    "]\n",
    "header_font = [\"black\"] + [\"white\"] * (len(header_fill)-1)\n",
    "\n",
    "# Celdas: fondo blanco, pero VARIANCE $ con azul claro/ naranja claro\n",
    "cell_fill = []\n",
    "for c in df.columns:\n",
    "    if c == \"VARIANCE $\":\n",
    "        nums = df[c].astype(float)\n",
    "        cell_fill.append([\n",
    "            \"#D4E6F1\" if x >= 0 else \"#FDEBD0\"\n",
    "            for x in nums\n",
    "        ])\n",
    "    else:\n",
    "        cell_fill.append([\"white\"] * len(df))\n",
    "\n",
    "# 6. Construcción de la tabla interactiva\n",
    "fig = go.Figure(data=[go.Table(\n",
    "    header=dict(\n",
    "        values=df.columns,\n",
    "        fill_color=header_fill,\n",
    "        font_color=header_font,\n",
    "        align='center',\n",
    "        font=dict(size=12, family=\"Arial\")\n",
    "    ),\n",
    "    cells=dict(\n",
    "        values=cells_vals,\n",
    "        fill_color=cell_fill,\n",
    "        align='center',\n",
    "        font=dict(size=11, family=\"Arial\")\n",
    "    )\n",
    ")])\n",
    "\n",
    "fig.update_layout(\n",
    "    width=1000,\n",
    "    height=350,\n",
    "    margin=dict(l=20, r=20, t=40, b=20),\n",
    "    title_text=\"Resumen interactivo - Summary\",\n",
    "    title_x=0.5\n",
    ")\n",
    "\n",
    "fig.show()\n"
   ]
  },
  {
   "cell_type": "markdown",
   "id": "160d6ff9",
   "metadata": {},
   "source": [
    "## 🧮 Visualización Interactiva: Presupuesto vs Gasto\n",
    "\n",
    "Este dashboard dinámico permite explorar cómo evoluciona el gasto a lo largo del tiempo en relación con el presupuesto, desde distintas dimensiones:\n",
    "\n",
    "- **Global**: visión general acumulada del gasto total.\n",
    "- **Etapa**: compara presupuestos y gastos por fase del proyecto (PREP, SHOOT, POST, etc.).\n",
    "- **Departamento**: analiza el comportamiento por área o sección.\n",
    "- **Cuenta General**: muestra las 6 cuentas con mayor gasto y agrupa el resto como “Otros”.\n",
    "\n",
    "Cada visualización es un **gráfico tipo dona (Pie chart)** que:\n",
    "- Cambia dinámicamente según la **semana seleccionada** (slider).\n",
    "- Muestra si se mantuvo dentro del presupuesto o hubo **excedente**.\n",
    "- Colorea automáticamente los segmentos: azul/gastado, rojo/disponible, verde/excedente.\n",
    "\n",
    "El botón desplegable (dropdown) permite alternar entre las diferentes dimensiones, mientras que el slider permite simular la evolución semana a semana (o ver el acumulado total).\n",
    "\n",
    "> Esta visualización facilita identificar **en qué momento y en qué área** comenzaron los excesos, y si el proyecto globalmente se mantuvo bajo control.\n"
   ]
  },
  {
   "cell_type": "code",
   "execution_count": null,
   "id": "f8221058",
   "metadata": {},
   "outputs": [
    {
     "name": "stdout",
     "output_type": "stream",
     "text": [
      "🔍 Totales finales:\n",
      "  Presupuesto Total   : 135,097,911.00\n",
      "  Presupuesto Gastado : 135,445,624.41\n"
     ]
    },
    {
     "data": {
      "application/vnd.plotly.v1+json": {
       "config": {
        "plotlyServerURL": "https://plot.ly"
       },
       "data": [
        {
         "domain": {
          "x": [
           0,
           1
          ],
          "y": [
           0,
           1
          ]
         },
         "hole": 0.5,
         "labels": [
          "Gastado",
          "Disponible"
         ],
         "marker": {
          "colors": [
           "#636efa",
           "#ef553b"
          ],
          "line": {
           "color": "#FFFFFF",
           "width": 2
          }
         },
         "name": "Global",
         "sort": false,
         "textinfo": "label+percent",
         "type": "pie",
         "values": [
          0,
          135097911
         ],
         "visible": true
        },
        {
         "domain": {
          "x": [
           0,
           1
          ],
          "y": [
           0,
           1
          ]
         },
         "hole": 0.5,
         "labels": [
          "DEVELOPMENT",
          "POST",
          "PREP",
          "SHOOT",
          "SOFT",
          "WRAP",
          "Disponible"
         ],
         "marker": {
          "colors": [
           "#636EFA",
           "#EF553B",
           "#00CC96",
           "#AB63FA",
           "#FFA15A",
           "#19D3F3",
           "#ef553b"
          ],
          "line": {
           "color": "#FFFFFF",
           "width": 2
          }
         },
         "name": "Etapa",
         "sort": false,
         "textinfo": "label+percent",
         "type": "pie",
         "values": [
          0,
          0,
          0,
          0,
          0,
          0,
          135097911
         ],
         "visible": false
        },
        {
         "domain": {
          "x": [
           0,
           1
          ],
          "y": [
           0,
           1
          ]
         },
         "hole": 0.5,
         "labels": [
          "ANDA",
          "ARTE",
          "BALU",
          "DINAMITA",
          "LOCACIONES",
          "NOM",
          "Disponible"
         ],
         "marker": {
          "colors": [
           "#1F77B4",
           "#FF7F0E",
           "#2CA02C",
           "#D62728",
           "#9467BD",
           "#8C564B",
           "#ef553b"
          ],
          "line": {
           "color": "#FFFFFF",
           "width": 2
          }
         },
         "name": "Departamento",
         "sort": false,
         "textinfo": "label+percent",
         "type": "pie",
         "values": [
          0,
          0,
          0,
          0,
          0,
          0,
          135097911
         ],
         "visible": false
        },
        {
         "domain": {
          "x": [
           0,
           1
          ],
          "y": [
           0,
           1
          ]
         },
         "hole": 0.5,
         "labels": [
          "1100",
          "1200",
          "1300",
          "1400",
          "1600",
          "2000",
          "Otros",
          "Disponible"
         ],
         "marker": {
          "colors": [
           "#636EFA",
           "#EF553B",
           "#00CC96",
           "#AB63FA",
           "#FFA15A",
           "#19D3F3",
           "#d3d3d3",
           "#ef553b"
          ],
          "line": {
           "color": "#FFFFFF",
           "width": 2
          }
         },
         "name": "Cuenta General",
         "sort": false,
         "textinfo": "label+percent",
         "type": "pie",
         "values": [
          0,
          0,
          0,
          0,
          0,
          0,
          0,
          135097911
         ],
         "visible": false
        }
       ],
       "layout": {
        "annotations": [
         {
          "font": {
           "size": 20
          },
          "showarrow": false,
          "text": "Global",
          "visible": true,
          "x": 0.5,
          "y": 0.5
         },
         {
          "font": {
           "size": 14
          },
          "showarrow": false,
          "text": "Semana : 0<br>Presupuesto Total : $135,097,911.00<br>Gasto Total : $0.00<br>Disponible : $135,097,911.00",
          "visible": true,
          "x": -0.25,
          "xanchor": "left",
          "y": 0.5,
          "yanchor": "middle"
         },
         {
          "font": {
           "size": 20
          },
          "showarrow": false,
          "text": "Etapas",
          "visible": false,
          "x": 0.5,
          "y": 0.5
         },
         {
          "font": {
           "size": 14
          },
          "showarrow": false,
          "text": "Semana : 0<br>Presupuesto Total : $135,097,911.00<br>DEVELOPMENT: $0.00<br>POST: $0.00<br>PREP: $0.00<br>SHOOT: $0.00<br>SOFT: $0.00<br>WRAP: $0.00<br>Disponible : $135,097,911.00",
          "visible": false,
          "x": -0.25,
          "xanchor": "left",
          "y": 0.5,
          "yanchor": "middle"
         },
         {
          "font": {
           "size": 20
          },
          "showarrow": false,
          "text": "Departamento",
          "visible": false,
          "x": 0.5,
          "y": 0.5
         },
         {
          "font": {
           "size": 14
          },
          "showarrow": false,
          "text": "Semana : 0<br>Presupuesto Total : $135,097,911.00<br>ANDA: $0.00<br>ARTE: $0.00<br>BALU: $0.00<br>DINAMITA: $0.00<br>LOCACIONES: $0.00<br>NOM: $0.00<br>Disponible : $135,097,911.00",
          "visible": false,
          "x": -0.25,
          "xanchor": "left",
          "y": 0.5,
          "yanchor": "middle"
         },
         {
          "font": {
           "size": 20
          },
          "showarrow": false,
          "text": "Cuenta General",
          "visible": false,
          "x": 0.5,
          "y": 0.5
         },
         {
          "font": {
           "size": 14
          },
          "showarrow": false,
          "text": "Semana : 0<br>Presupuesto Total : $135,097,911.00<br>1100: $0.00<br>1200: $0.00<br>1300: $0.00<br>1400: $0.00<br>1600: $0.00<br>2000: $0.00<br>Otros: $0.00<br>Disponible : $135,097,911.00",
          "visible": false,
          "x": -0.25,
          "xanchor": "left",
          "y": 0.5,
          "yanchor": "middle"
         }
        ],
        "showlegend": true,
        "sliders": [
         {
          "active": 0,
          "currentvalue": {
           "prefix": "Semana ≤ "
          },
          "pad": {
           "t": 50
          },
          "steps": [
           {
            "args": [
             {
              "labels": [
               [
                "Gastado",
                "Disponible"
               ],
               [
                "DEVELOPMENT",
                "POST",
                "PREP",
                "SHOOT",
                "SOFT",
                "WRAP",
                "Disponible"
               ],
               [
                "ANDA",
                "ARTE",
                "BALU",
                "DINAMITA",
                "LOCACIONES",
                "NOM",
                "Disponible"
               ],
               [
                "1100",
                "1200",
                "1300",
                "1400",
                "1600",
                "2000",
                "Otros",
                "Disponible"
               ]
              ],
              "marker.colors": [
               [
                "#636efa",
                "#ef553b"
               ],
               [
                "#636EFA",
                "#EF553B",
                "#00CC96",
                "#AB63FA",
                "#FFA15A",
                "#19D3F3",
                "#ef553b"
               ],
               [
                "#1F77B4",
                "#FF7F0E",
                "#2CA02C",
                "#D62728",
                "#9467BD",
                "#8C564B",
                "#ef553b"
               ],
               [
                "#636EFA",
                "#EF553B",
                "#00CC96",
                "#AB63FA",
                "#FFA15A",
                "#19D3F3",
                "#d3d3d3",
                "#ef553b"
               ]
              ],
              "values": [
               [
                0,
                135097911
               ],
               [
                0,
                0,
                0,
                0,
                0,
                0,
                135097911
               ],
               [
                0,
                0,
                0,
                0,
                0,
                0,
                135097911
               ],
               [
                0,
                0,
                0,
                0,
                0,
                0,
                0,
                135097911
               ]
              ]
             },
             {
              "annotations[0].text": "Global",
              "annotations[1].text": "Semana : 0<br>Presupuesto Total : $135,097,911.00<br>Gasto Total : $0.00<br>Disponible : $135,097,911.00",
              "annotations[2].text": "Etapas",
              "annotations[3].text": "Semana : 0<br>Presupuesto Total : $135,097,911.00<br>DEVELOPMENT: $0.00<br>POST: $0.00<br>PREP: $0.00<br>SHOOT: $0.00<br>SOFT: $0.00<br>WRAP: $0.00<br>Disponible : $135,097,911.00",
              "annotations[4].text": "Departamento",
              "annotations[5].text": "Semana : 0<br>Presupuesto Total : $135,097,911.00<br>ANDA: $0.00<br>ARTE: $0.00<br>BALU: $0.00<br>DINAMITA: $0.00<br>LOCACIONES: $0.00<br>NOM: $0.00<br>Disponible : $135,097,911.00",
              "annotations[6].text": "Cuenta General",
              "annotations[7].text": "Semana : 0<br>Presupuesto Total : $135,097,911.00<br>1100: $0.00<br>1200: $0.00<br>1300: $0.00<br>1400: $0.00<br>1600: $0.00<br>2000: $0.00<br>Otros: $0.00<br>Disponible : $135,097,911.00",
              "title": "Presupuesto vs Gasto – Semana ≤ 0"
             }
            ],
            "label": "0",
            "method": "update"
           },
           {
            "args": [
             {
              "labels": [
               [
                "Gastado",
                "Disponible"
               ],
               [
                "DEVELOPMENT",
                "POST",
                "PREP",
                "SHOOT",
                "SOFT",
                "WRAP",
                "Disponible"
               ],
               [
                "ANDA",
                "ARTE",
                "BALU",
                "DINAMITA",
                "LOCACIONES",
                "NOM",
                "Disponible"
               ],
               [
                "1100",
                "1200",
                "1300",
                "1400",
                "1600",
                "2000",
                "Otros",
                "Disponible"
               ]
              ],
              "marker.colors": [
               [
                "#636efa",
                "#ef553b"
               ],
               [
                "#636EFA",
                "#EF553B",
                "#00CC96",
                "#AB63FA",
                "#FFA15A",
                "#19D3F3",
                "#ef553b"
               ],
               [
                "#1F77B4",
                "#FF7F0E",
                "#2CA02C",
                "#D62728",
                "#9467BD",
                "#8C564B",
                "#ef553b"
               ],
               [
                "#636EFA",
                "#EF553B",
                "#00CC96",
                "#AB63FA",
                "#FFA15A",
                "#19D3F3",
                "#d3d3d3",
                "#ef553b"
               ]
              ],
              "values": [
               [
                0,
                135097911
               ],
               [
                0,
                0,
                0,
                0,
                0,
                0,
                135097911
               ],
               [
                0,
                0,
                0,
                0,
                0,
                0,
                135097911
               ],
               [
                0,
                0,
                0,
                0,
                0,
                0,
                0,
                135097911
               ]
              ]
             },
             {
              "annotations[0].text": "Global",
              "annotations[1].text": "Semana : 1<br>Presupuesto Total : $135,097,911.00<br>Gasto Total : $0.00<br>Disponible : $135,097,911.00",
              "annotations[2].text": "Etapas",
              "annotations[3].text": "Semana : 1<br>Presupuesto Total : $135,097,911.00<br>DEVELOPMENT: $0.00<br>POST: $0.00<br>PREP: $0.00<br>SHOOT: $0.00<br>SOFT: $0.00<br>WRAP: $0.00<br>Disponible : $135,097,911.00",
              "annotations[4].text": "Departamento",
              "annotations[5].text": "Semana : 1<br>Presupuesto Total : $135,097,911.00<br>ANDA: $0.00<br>ARTE: $0.00<br>BALU: $0.00<br>DINAMITA: $0.00<br>LOCACIONES: $0.00<br>NOM: $0.00<br>Disponible : $135,097,911.00",
              "annotations[6].text": "Cuenta General",
              "annotations[7].text": "Semana : 1<br>Presupuesto Total : $135,097,911.00<br>1100: $0.00<br>1200: $0.00<br>1300: $0.00<br>1400: $0.00<br>1600: $0.00<br>2000: $0.00<br>Otros: $0.00<br>Disponible : $135,097,911.00",
              "title": "Presupuesto vs Gasto – Semana ≤ 1"
             }
            ],
            "label": "1",
            "method": "update"
           },
           {
            "args": [
             {
              "labels": [
               [
                "Gastado",
                "Disponible"
               ],
               [
                "DEVELOPMENT",
                "POST",
                "PREP",
                "SHOOT",
                "SOFT",
                "WRAP",
                "Disponible"
               ],
               [
                "ANDA",
                "ARTE",
                "BALU",
                "DINAMITA",
                "LOCACIONES",
                "NOM",
                "Disponible"
               ],
               [
                "1100",
                "1200",
                "1300",
                "1400",
                "1600",
                "2000",
                "Otros",
                "Disponible"
               ]
              ],
              "marker.colors": [
               [
                "#636efa",
                "#ef553b"
               ],
               [
                "#636EFA",
                "#EF553B",
                "#00CC96",
                "#AB63FA",
                "#FFA15A",
                "#19D3F3",
                "#ef553b"
               ],
               [
                "#1F77B4",
                "#FF7F0E",
                "#2CA02C",
                "#D62728",
                "#9467BD",
                "#8C564B",
                "#ef553b"
               ],
               [
                "#636EFA",
                "#EF553B",
                "#00CC96",
                "#AB63FA",
                "#FFA15A",
                "#19D3F3",
                "#d3d3d3",
                "#ef553b"
               ]
              ],
              "values": [
               [
                0,
                135097911
               ],
               [
                0,
                0,
                0,
                0,
                0,
                0,
                135097911
               ],
               [
                0,
                0,
                0,
                0,
                0,
                0,
                135097911
               ],
               [
                0,
                0,
                0,
                0,
                0,
                0,
                0,
                135097911
               ]
              ]
             },
             {
              "annotations[0].text": "Global",
              "annotations[1].text": "Semana : 2<br>Presupuesto Total : $135,097,911.00<br>Gasto Total : $0.00<br>Disponible : $135,097,911.00",
              "annotations[2].text": "Etapas",
              "annotations[3].text": "Semana : 2<br>Presupuesto Total : $135,097,911.00<br>DEVELOPMENT: $0.00<br>POST: $0.00<br>PREP: $0.00<br>SHOOT: $0.00<br>SOFT: $0.00<br>WRAP: $0.00<br>Disponible : $135,097,911.00",
              "annotations[4].text": "Departamento",
              "annotations[5].text": "Semana : 2<br>Presupuesto Total : $135,097,911.00<br>ANDA: $0.00<br>ARTE: $0.00<br>BALU: $0.00<br>DINAMITA: $0.00<br>LOCACIONES: $0.00<br>NOM: $0.00<br>Disponible : $135,097,911.00",
              "annotations[6].text": "Cuenta General",
              "annotations[7].text": "Semana : 2<br>Presupuesto Total : $135,097,911.00<br>1100: $0.00<br>1200: $0.00<br>1300: $0.00<br>1400: $0.00<br>1600: $0.00<br>2000: $0.00<br>Otros: $0.00<br>Disponible : $135,097,911.00",
              "title": "Presupuesto vs Gasto – Semana ≤ 2"
             }
            ],
            "label": "2",
            "method": "update"
           },
           {
            "args": [
             {
              "labels": [
               [
                "Gastado",
                "Disponible"
               ],
               [
                "DEVELOPMENT",
                "POST",
                "PREP",
                "SHOOT",
                "SOFT",
                "WRAP",
                "Disponible"
               ],
               [
                "ANDA",
                "ARTE",
                "BALU",
                "DINAMITA",
                "LOCACIONES",
                "NOM",
                "Disponible"
               ],
               [
                "1100",
                "1200",
                "1300",
                "1400",
                "1600",
                "2000",
                "Otros",
                "Disponible"
               ]
              ],
              "marker.colors": [
               [
                "#636efa",
                "#ef553b"
               ],
               [
                "#636EFA",
                "#EF553B",
                "#00CC96",
                "#AB63FA",
                "#FFA15A",
                "#19D3F3",
                "#ef553b"
               ],
               [
                "#1F77B4",
                "#FF7F0E",
                "#2CA02C",
                "#D62728",
                "#9467BD",
                "#8C564B",
                "#ef553b"
               ],
               [
                "#636EFA",
                "#EF553B",
                "#00CC96",
                "#AB63FA",
                "#FFA15A",
                "#19D3F3",
                "#d3d3d3",
                "#ef553b"
               ]
              ],
              "values": [
               [
                0,
                135097911
               ],
               [
                0,
                0,
                0,
                0,
                0,
                0,
                135097911
               ],
               [
                0,
                0,
                0,
                0,
                0,
                0,
                135097911
               ],
               [
                0,
                0,
                0,
                0,
                0,
                0,
                0,
                135097911
               ]
              ]
             },
             {
              "annotations[0].text": "Global",
              "annotations[1].text": "Semana : 3<br>Presupuesto Total : $135,097,911.00<br>Gasto Total : $0.00<br>Disponible : $135,097,911.00",
              "annotations[2].text": "Etapas",
              "annotations[3].text": "Semana : 3<br>Presupuesto Total : $135,097,911.00<br>DEVELOPMENT: $0.00<br>POST: $0.00<br>PREP: $0.00<br>SHOOT: $0.00<br>SOFT: $0.00<br>WRAP: $0.00<br>Disponible : $135,097,911.00",
              "annotations[4].text": "Departamento",
              "annotations[5].text": "Semana : 3<br>Presupuesto Total : $135,097,911.00<br>ANDA: $0.00<br>ARTE: $0.00<br>BALU: $0.00<br>DINAMITA: $0.00<br>LOCACIONES: $0.00<br>NOM: $0.00<br>Disponible : $135,097,911.00",
              "annotations[6].text": "Cuenta General",
              "annotations[7].text": "Semana : 3<br>Presupuesto Total : $135,097,911.00<br>1100: $0.00<br>1200: $0.00<br>1300: $0.00<br>1400: $0.00<br>1600: $0.00<br>2000: $0.00<br>Otros: $0.00<br>Disponible : $135,097,911.00",
              "title": "Presupuesto vs Gasto – Semana ≤ 3"
             }
            ],
            "label": "3",
            "method": "update"
           },
           {
            "args": [
             {
              "labels": [
               [
                "Gastado",
                "Disponible"
               ],
               [
                "DEVELOPMENT",
                "POST",
                "PREP",
                "SHOOT",
                "SOFT",
                "WRAP",
                "Disponible"
               ],
               [
                "ANDA",
                "ARTE",
                "BALU",
                "DINAMITA",
                "LOCACIONES",
                "NOM",
                "Disponible"
               ],
               [
                "1100",
                "1200",
                "1300",
                "1400",
                "1600",
                "2000",
                "Otros",
                "Disponible"
               ]
              ],
              "marker.colors": [
               [
                "#636efa",
                "#ef553b"
               ],
               [
                "#636EFA",
                "#EF553B",
                "#00CC96",
                "#AB63FA",
                "#FFA15A",
                "#19D3F3",
                "#ef553b"
               ],
               [
                "#1F77B4",
                "#FF7F0E",
                "#2CA02C",
                "#D62728",
                "#9467BD",
                "#8C564B",
                "#ef553b"
               ],
               [
                "#636EFA",
                "#EF553B",
                "#00CC96",
                "#AB63FA",
                "#FFA15A",
                "#19D3F3",
                "#d3d3d3",
                "#ef553b"
               ]
              ],
              "values": [
               [
                0,
                135097911
               ],
               [
                0,
                0,
                0,
                0,
                0,
                0,
                135097911
               ],
               [
                0,
                0,
                0,
                0,
                0,
                0,
                135097911
               ],
               [
                0,
                0,
                0,
                0,
                0,
                0,
                0,
                135097911
               ]
              ]
             },
             {
              "annotations[0].text": "Global",
              "annotations[1].text": "Semana : 4<br>Presupuesto Total : $135,097,911.00<br>Gasto Total : $0.00<br>Disponible : $135,097,911.00",
              "annotations[2].text": "Etapas",
              "annotations[3].text": "Semana : 4<br>Presupuesto Total : $135,097,911.00<br>DEVELOPMENT: $0.00<br>POST: $0.00<br>PREP: $0.00<br>SHOOT: $0.00<br>SOFT: $0.00<br>WRAP: $0.00<br>Disponible : $135,097,911.00",
              "annotations[4].text": "Departamento",
              "annotations[5].text": "Semana : 4<br>Presupuesto Total : $135,097,911.00<br>ANDA: $0.00<br>ARTE: $0.00<br>BALU: $0.00<br>DINAMITA: $0.00<br>LOCACIONES: $0.00<br>NOM: $0.00<br>Disponible : $135,097,911.00",
              "annotations[6].text": "Cuenta General",
              "annotations[7].text": "Semana : 4<br>Presupuesto Total : $135,097,911.00<br>1100: $0.00<br>1200: $0.00<br>1300: $0.00<br>1400: $0.00<br>1600: $0.00<br>2000: $0.00<br>Otros: $0.00<br>Disponible : $135,097,911.00",
              "title": "Presupuesto vs Gasto – Semana ≤ 4"
             }
            ],
            "label": "4",
            "method": "update"
           },
           {
            "args": [
             {
              "labels": [
               [
                "Gastado",
                "Disponible"
               ],
               [
                "DEVELOPMENT",
                "POST",
                "PREP",
                "SHOOT",
                "SOFT",
                "WRAP",
                "Disponible"
               ],
               [
                "ANDA",
                "ARTE",
                "BALU",
                "DINAMITA",
                "LOCACIONES",
                "NOM",
                "Disponible"
               ],
               [
                "7000",
                "1100",
                "1200",
                "1300",
                "1400",
                "1600",
                "Otros",
                "Disponible"
               ]
              ],
              "marker.colors": [
               [
                "#636efa",
                "#ef553b"
               ],
               [
                "#636EFA",
                "#EF553B",
                "#00CC96",
                "#AB63FA",
                "#FFA15A",
                "#19D3F3",
                "#ef553b"
               ],
               [
                "#1F77B4",
                "#FF7F0E",
                "#2CA02C",
                "#D62728",
                "#9467BD",
                "#8C564B",
                "#ef553b"
               ],
               [
                "#636EFA",
                "#EF553B",
                "#00CC96",
                "#AB63FA",
                "#FFA15A",
                "#19D3F3",
                "#d3d3d3",
                "#ef553b"
               ]
              ],
              "values": [
               [
                14182,
                135083729
               ],
               [
                0,
                0,
                0,
                14182,
                0,
                0,
                135083729
               ],
               [
                0,
                0,
                0,
                0,
                0,
                0,
                135083729
               ],
               [
                14182,
                0,
                0,
                0,
                0,
                0,
                0,
                135083729
               ]
              ]
             },
             {
              "annotations[0].text": "Global",
              "annotations[1].text": "Semana : 5<br>Presupuesto Total : $135,097,911.00<br>Gasto Total : $14,182.00<br>Disponible : $135,083,729.00",
              "annotations[2].text": "Etapas",
              "annotations[3].text": "Semana : 5<br>Presupuesto Total : $135,097,911.00<br>DEVELOPMENT: $0.00<br>POST: $0.00<br>PREP: $0.00<br>SHOOT: $14,182.00<br>SOFT: $0.00<br>WRAP: $0.00<br>Disponible : $135,083,729.00",
              "annotations[4].text": "Departamento",
              "annotations[5].text": "Semana : 5<br>Presupuesto Total : $135,097,911.00<br>ANDA: $0.00<br>ARTE: $0.00<br>BALU: $0.00<br>DINAMITA: $0.00<br>LOCACIONES: $0.00<br>NOM: $0.00<br>Disponible : $135,083,729.00",
              "annotations[6].text": "Cuenta General",
              "annotations[7].text": "Semana : 5<br>Presupuesto Total : $135,097,911.00<br>7000: $14,182.00<br>1100: $0.00<br>1200: $0.00<br>1300: $0.00<br>1400: $0.00<br>1600: $0.00<br>Otros: $0.00<br>Disponible : $135,083,729.00",
              "title": "Presupuesto vs Gasto – Semana ≤ 5"
             }
            ],
            "label": "5",
            "method": "update"
           },
           {
            "args": [
             {
              "labels": [
               [
                "Gastado",
                "Disponible"
               ],
               [
                "DEVELOPMENT",
                "POST",
                "PREP",
                "SHOOT",
                "SOFT",
                "WRAP",
                "Disponible"
               ],
               [
                "ANDA",
                "ARTE",
                "BALU",
                "DINAMITA",
                "LOCACIONES",
                "NOM",
                "Disponible"
               ],
               [
                "1100",
                "7000",
                "1200",
                "1300",
                "1400",
                "1600",
                "Otros",
                "Disponible"
               ]
              ],
              "marker.colors": [
               [
                "#636efa",
                "#ef553b"
               ],
               [
                "#636EFA",
                "#EF553B",
                "#00CC96",
                "#AB63FA",
                "#FFA15A",
                "#19D3F3",
                "#ef553b"
               ],
               [
                "#1F77B4",
                "#FF7F0E",
                "#2CA02C",
                "#D62728",
                "#9467BD",
                "#8C564B",
                "#ef553b"
               ],
               [
                "#636EFA",
                "#EF553B",
                "#00CC96",
                "#AB63FA",
                "#FFA15A",
                "#19D3F3",
                "#d3d3d3",
                "#ef553b"
               ]
              ],
              "values": [
               [
                2814182,
                132283729
               ],
               [
                2800000,
                0,
                0,
                14182,
                0,
                0,
                132283729
               ],
               [
                0,
                0,
                0,
                0,
                0,
                0,
                132283729
               ],
               [
                2800000,
                14182,
                0,
                0,
                0,
                0,
                0,
                132283729
               ]
              ]
             },
             {
              "annotations[0].text": "Global",
              "annotations[1].text": "Semana : 6<br>Presupuesto Total : $135,097,911.00<br>Gasto Total : $2,814,182.00<br>Disponible : $132,283,729.00",
              "annotations[2].text": "Etapas",
              "annotations[3].text": "Semana : 6<br>Presupuesto Total : $135,097,911.00<br>DEVELOPMENT: $2,800,000.00<br>POST: $0.00<br>PREP: $0.00<br>SHOOT: $14,182.00<br>SOFT: $0.00<br>WRAP: $0.00<br>Disponible : $132,283,729.00",
              "annotations[4].text": "Departamento",
              "annotations[5].text": "Semana : 6<br>Presupuesto Total : $135,097,911.00<br>ANDA: $0.00<br>ARTE: $0.00<br>BALU: $0.00<br>DINAMITA: $0.00<br>LOCACIONES: $0.00<br>NOM: $0.00<br>Disponible : $132,283,729.00",
              "annotations[6].text": "Cuenta General",
              "annotations[7].text": "Semana : 6<br>Presupuesto Total : $135,097,911.00<br>1100: $2,800,000.00<br>7000: $14,182.00<br>1200: $0.00<br>1300: $0.00<br>1400: $0.00<br>1600: $0.00<br>Otros: $0.00<br>Disponible : $132,283,729.00",
              "title": "Presupuesto vs Gasto – Semana ≤ 6"
             }
            ],
            "label": "6",
            "method": "update"
           },
           {
            "args": [
             {
              "labels": [
               [
                "Gastado",
                "Disponible"
               ],
               [
                "DEVELOPMENT",
                "POST",
                "PREP",
                "SHOOT",
                "SOFT",
                "WRAP",
                "Disponible"
               ],
               [
                "ANDA",
                "ARTE",
                "BALU",
                "DINAMITA",
                "LOCACIONES",
                "NOM",
                "Disponible"
               ],
               [
                "1100",
                "7000",
                "1200",
                "1300",
                "1400",
                "1600",
                "Otros",
                "Disponible"
               ]
              ],
              "marker.colors": [
               [
                "#636efa",
                "#ef553b"
               ],
               [
                "#636EFA",
                "#EF553B",
                "#00CC96",
                "#AB63FA",
                "#FFA15A",
                "#19D3F3",
                "#ef553b"
               ],
               [
                "#1F77B4",
                "#FF7F0E",
                "#2CA02C",
                "#D62728",
                "#9467BD",
                "#8C564B",
                "#ef553b"
               ],
               [
                "#636EFA",
                "#EF553B",
                "#00CC96",
                "#AB63FA",
                "#FFA15A",
                "#19D3F3",
                "#d3d3d3",
                "#ef553b"
               ]
              ],
              "values": [
               [
                4989182.0600000005,
                130108728.94
               ],
               [
                4975000.06,
                0,
                0,
                14182,
                0,
                0,
                130108728.94
               ],
               [
                0,
                0,
                0,
                0,
                0,
                0,
                130108728.94
               ],
               [
                4975000.06,
                14182,
                0,
                0,
                0,
                0,
                0,
                130108728.94
               ]
              ]
             },
             {
              "annotations[0].text": "Global",
              "annotations[1].text": "Semana : 7<br>Presupuesto Total : $135,097,911.00<br>Gasto Total : $4,989,182.06<br>Disponible : $130,108,728.94",
              "annotations[2].text": "Etapas",
              "annotations[3].text": "Semana : 7<br>Presupuesto Total : $135,097,911.00<br>DEVELOPMENT: $4,975,000.06<br>POST: $0.00<br>PREP: $0.00<br>SHOOT: $14,182.00<br>SOFT: $0.00<br>WRAP: $0.00<br>Disponible : $130,108,728.94",
              "annotations[4].text": "Departamento",
              "annotations[5].text": "Semana : 7<br>Presupuesto Total : $135,097,911.00<br>ANDA: $0.00<br>ARTE: $0.00<br>BALU: $0.00<br>DINAMITA: $0.00<br>LOCACIONES: $0.00<br>NOM: $0.00<br>Disponible : $130,108,728.94",
              "annotations[6].text": "Cuenta General",
              "annotations[7].text": "Semana : 7<br>Presupuesto Total : $135,097,911.00<br>1100: $4,975,000.06<br>7000: $14,182.00<br>1200: $0.00<br>1300: $0.00<br>1400: $0.00<br>1600: $0.00<br>Otros: $0.00<br>Disponible : $130,108,728.94",
              "title": "Presupuesto vs Gasto – Semana ≤ 7"
             }
            ],
            "label": "7",
            "method": "update"
           },
           {
            "args": [
             {
              "labels": [
               [
                "Gastado",
                "Disponible"
               ],
               [
                "DEVELOPMENT",
                "POST",
                "PREP",
                "SHOOT",
                "SOFT",
                "WRAP",
                "Disponible"
               ],
               [
                "ANDA",
                "ARTE",
                "BALU",
                "DINAMITA",
                "LOCACIONES",
                "NOM",
                "Disponible"
               ],
               [
                "1100",
                "2000",
                "7000",
                "1200",
                "1300",
                "1400",
                "Otros",
                "Disponible"
               ]
              ],
              "marker.colors": [
               [
                "#636efa",
                "#ef553b"
               ],
               [
                "#636EFA",
                "#EF553B",
                "#00CC96",
                "#AB63FA",
                "#FFA15A",
                "#19D3F3",
                "#ef553b"
               ],
               [
                "#1F77B4",
                "#FF7F0E",
                "#2CA02C",
                "#D62728",
                "#9467BD",
                "#8C564B",
                "#ef553b"
               ],
               [
                "#636EFA",
                "#EF553B",
                "#00CC96",
                "#AB63FA",
                "#FFA15A",
                "#19D3F3",
                "#d3d3d3",
                "#ef553b"
               ]
              ],
              "values": [
               [
                5239182.09,
                129858728.91
               ],
               [
                5225000.09,
                0,
                0,
                14182,
                0,
                0,
                129858728.91
               ],
               [
                0,
                0,
                0,
                0,
                0,
                0,
                129858728.91
               ],
               [
                5175000.09,
                50000,
                14182,
                0,
                0,
                0,
                0,
                129858728.91
               ]
              ]
             },
             {
              "annotations[0].text": "Global",
              "annotations[1].text": "Semana : 8<br>Presupuesto Total : $135,097,911.00<br>Gasto Total : $5,239,182.09<br>Disponible : $129,858,728.91",
              "annotations[2].text": "Etapas",
              "annotations[3].text": "Semana : 8<br>Presupuesto Total : $135,097,911.00<br>DEVELOPMENT: $5,225,000.09<br>POST: $0.00<br>PREP: $0.00<br>SHOOT: $14,182.00<br>SOFT: $0.00<br>WRAP: $0.00<br>Disponible : $129,858,728.91",
              "annotations[4].text": "Departamento",
              "annotations[5].text": "Semana : 8<br>Presupuesto Total : $135,097,911.00<br>ANDA: $0.00<br>ARTE: $0.00<br>BALU: $0.00<br>DINAMITA: $0.00<br>LOCACIONES: $0.00<br>NOM: $0.00<br>Disponible : $129,858,728.91",
              "annotations[6].text": "Cuenta General",
              "annotations[7].text": "Semana : 8<br>Presupuesto Total : $135,097,911.00<br>1100: $5,175,000.09<br>2000: $50,000.00<br>7000: $14,182.00<br>1200: $0.00<br>1300: $0.00<br>1400: $0.00<br>Otros: $0.00<br>Disponible : $129,858,728.91",
              "title": "Presupuesto vs Gasto – Semana ≤ 8"
             }
            ],
            "label": "8",
            "method": "update"
           },
           {
            "args": [
             {
              "labels": [
               [
                "Gastado",
                "Disponible"
               ],
               [
                "DEVELOPMENT",
                "POST",
                "PREP",
                "SHOOT",
                "SOFT",
                "WRAP",
                "Disponible"
               ],
               [
                "ANDA",
                "ARTE",
                "BALU",
                "DINAMITA",
                "LOCACIONES",
                "NOM",
                "Disponible"
               ],
               [
                "1100",
                "2000",
                "7000",
                "1200",
                "1300",
                "1400",
                "Otros",
                "Disponible"
               ]
              ],
              "marker.colors": [
               [
                "#636efa",
                "#ef553b"
               ],
               [
                "#636EFA",
                "#EF553B",
                "#00CC96",
                "#AB63FA",
                "#FFA15A",
                "#19D3F3",
                "#ef553b"
               ],
               [
                "#1F77B4",
                "#FF7F0E",
                "#2CA02C",
                "#D62728",
                "#9467BD",
                "#8C564B",
                "#ef553b"
               ],
               [
                "#636EFA",
                "#EF553B",
                "#00CC96",
                "#AB63FA",
                "#FFA15A",
                "#19D3F3",
                "#d3d3d3",
                "#ef553b"
               ]
              ],
              "values": [
               [
                6639182.09,
                128458728.91
               ],
               [
                6625000.09,
                0,
                0,
                14182,
                0,
                0,
                128458728.91
               ],
               [
                0,
                0,
                0,
                0,
                0,
                0,
                128458728.91
               ],
               [
                6575000.09,
                50000,
                14182,
                0,
                0,
                0,
                0,
                128458728.91
               ]
              ]
             },
             {
              "annotations[0].text": "Global",
              "annotations[1].text": "Semana : 9<br>Presupuesto Total : $135,097,911.00<br>Gasto Total : $6,639,182.09<br>Disponible : $128,458,728.91",
              "annotations[2].text": "Etapas",
              "annotations[3].text": "Semana : 9<br>Presupuesto Total : $135,097,911.00<br>DEVELOPMENT: $6,625,000.09<br>POST: $0.00<br>PREP: $0.00<br>SHOOT: $14,182.00<br>SOFT: $0.00<br>WRAP: $0.00<br>Disponible : $128,458,728.91",
              "annotations[4].text": "Departamento",
              "annotations[5].text": "Semana : 9<br>Presupuesto Total : $135,097,911.00<br>ANDA: $0.00<br>ARTE: $0.00<br>BALU: $0.00<br>DINAMITA: $0.00<br>LOCACIONES: $0.00<br>NOM: $0.00<br>Disponible : $128,458,728.91",
              "annotations[6].text": "Cuenta General",
              "annotations[7].text": "Semana : 9<br>Presupuesto Total : $135,097,911.00<br>1100: $6,575,000.09<br>2000: $50,000.00<br>7000: $14,182.00<br>1200: $0.00<br>1300: $0.00<br>1400: $0.00<br>Otros: $0.00<br>Disponible : $128,458,728.91",
              "title": "Presupuesto vs Gasto – Semana ≤ 9"
             }
            ],
            "label": "9",
            "method": "update"
           },
           {
            "args": [
             {
              "labels": [
               [
                "Gastado",
                "Disponible"
               ],
               [
                "DEVELOPMENT",
                "POST",
                "PREP",
                "SHOOT",
                "SOFT",
                "WRAP",
                "Disponible"
               ],
               [
                "ANDA",
                "ARTE",
                "BALU",
                "DINAMITA",
                "LOCACIONES",
                "NOM",
                "Disponible"
               ],
               [
                "1100",
                "2000",
                "7000",
                "1200",
                "1300",
                "1400",
                "Otros",
                "Disponible"
               ]
              ],
              "marker.colors": [
               [
                "#636efa",
                "#ef553b"
               ],
               [
                "#636EFA",
                "#EF553B",
                "#00CC96",
                "#AB63FA",
                "#FFA15A",
                "#19D3F3",
                "#ef553b"
               ],
               [
                "#1F77B4",
                "#FF7F0E",
                "#2CA02C",
                "#D62728",
                "#9467BD",
                "#8C564B",
                "#ef553b"
               ],
               [
                "#636EFA",
                "#EF553B",
                "#00CC96",
                "#AB63FA",
                "#FFA15A",
                "#19D3F3",
                "#d3d3d3",
                "#ef553b"
               ]
              ],
              "values": [
               [
                6639182.09,
                128458728.91
               ],
               [
                6625000.09,
                0,
                0,
                14182,
                0,
                0,
                128458728.91
               ],
               [
                0,
                0,
                0,
                0,
                0,
                0,
                128458728.91
               ],
               [
                6575000.09,
                50000,
                14182,
                0,
                0,
                0,
                0,
                128458728.91
               ]
              ]
             },
             {
              "annotations[0].text": "Global",
              "annotations[1].text": "Semana : 10<br>Presupuesto Total : $135,097,911.00<br>Gasto Total : $6,639,182.09<br>Disponible : $128,458,728.91",
              "annotations[2].text": "Etapas",
              "annotations[3].text": "Semana : 10<br>Presupuesto Total : $135,097,911.00<br>DEVELOPMENT: $6,625,000.09<br>POST: $0.00<br>PREP: $0.00<br>SHOOT: $14,182.00<br>SOFT: $0.00<br>WRAP: $0.00<br>Disponible : $128,458,728.91",
              "annotations[4].text": "Departamento",
              "annotations[5].text": "Semana : 10<br>Presupuesto Total : $135,097,911.00<br>ANDA: $0.00<br>ARTE: $0.00<br>BALU: $0.00<br>DINAMITA: $0.00<br>LOCACIONES: $0.00<br>NOM: $0.00<br>Disponible : $128,458,728.91",
              "annotations[6].text": "Cuenta General",
              "annotations[7].text": "Semana : 10<br>Presupuesto Total : $135,097,911.00<br>1100: $6,575,000.09<br>2000: $50,000.00<br>7000: $14,182.00<br>1200: $0.00<br>1300: $0.00<br>1400: $0.00<br>Otros: $0.00<br>Disponible : $128,458,728.91",
              "title": "Presupuesto vs Gasto – Semana ≤ 10"
             }
            ],
            "label": "10",
            "method": "update"
           },
           {
            "args": [
             {
              "labels": [
               [
                "Gastado",
                "Disponible"
               ],
               [
                "DEVELOPMENT",
                "POST",
                "PREP",
                "SHOOT",
                "SOFT",
                "WRAP",
                "Disponible"
               ],
               [
                "ANDA",
                "ARTE",
                "BALU",
                "DINAMITA",
                "LOCACIONES",
                "NOM",
                "Disponible"
               ],
               [
                "1100",
                "2000",
                "7000",
                "1200",
                "1300",
                "1400",
                "Otros",
                "Disponible"
               ]
              ],
              "marker.colors": [
               [
                "#636efa",
                "#ef553b"
               ],
               [
                "#636EFA",
                "#EF553B",
                "#00CC96",
                "#AB63FA",
                "#FFA15A",
                "#19D3F3",
                "#ef553b"
               ],
               [
                "#1F77B4",
                "#FF7F0E",
                "#2CA02C",
                "#D62728",
                "#9467BD",
                "#8C564B",
                "#ef553b"
               ],
               [
                "#636EFA",
                "#EF553B",
                "#00CC96",
                "#AB63FA",
                "#FFA15A",
                "#19D3F3",
                "#d3d3d3",
                "#ef553b"
               ]
              ],
              "values": [
               [
                6639182.09,
                128458728.91
               ],
               [
                6625000.09,
                0,
                0,
                14182,
                0,
                0,
                128458728.91
               ],
               [
                0,
                0,
                0,
                0,
                0,
                0,
                128458728.91
               ],
               [
                6575000.09,
                50000,
                14182,
                0,
                0,
                0,
                0,
                128458728.91
               ]
              ]
             },
             {
              "annotations[0].text": "Global",
              "annotations[1].text": "Semana : 11<br>Presupuesto Total : $135,097,911.00<br>Gasto Total : $6,639,182.09<br>Disponible : $128,458,728.91",
              "annotations[2].text": "Etapas",
              "annotations[3].text": "Semana : 11<br>Presupuesto Total : $135,097,911.00<br>DEVELOPMENT: $6,625,000.09<br>POST: $0.00<br>PREP: $0.00<br>SHOOT: $14,182.00<br>SOFT: $0.00<br>WRAP: $0.00<br>Disponible : $128,458,728.91",
              "annotations[4].text": "Departamento",
              "annotations[5].text": "Semana : 11<br>Presupuesto Total : $135,097,911.00<br>ANDA: $0.00<br>ARTE: $0.00<br>BALU: $0.00<br>DINAMITA: $0.00<br>LOCACIONES: $0.00<br>NOM: $0.00<br>Disponible : $128,458,728.91",
              "annotations[6].text": "Cuenta General",
              "annotations[7].text": "Semana : 11<br>Presupuesto Total : $135,097,911.00<br>1100: $6,575,000.09<br>2000: $50,000.00<br>7000: $14,182.00<br>1200: $0.00<br>1300: $0.00<br>1400: $0.00<br>Otros: $0.00<br>Disponible : $128,458,728.91",
              "title": "Presupuesto vs Gasto – Semana ≤ 11"
             }
            ],
            "label": "11",
            "method": "update"
           },
           {
            "args": [
             {
              "labels": [
               [
                "Gastado",
                "Disponible"
               ],
               [
                "DEVELOPMENT",
                "POST",
                "PREP",
                "SHOOT",
                "SOFT",
                "WRAP",
                "Disponible"
               ],
               [
                "ANDA",
                "ARTE",
                "BALU",
                "DINAMITA",
                "LOCACIONES",
                "NOM",
                "Disponible"
               ],
               [
                "1100",
                "2000",
                "7000",
                "1200",
                "1300",
                "1400",
                "Otros",
                "Disponible"
               ]
              ],
              "marker.colors": [
               [
                "#636efa",
                "#ef553b"
               ],
               [
                "#636EFA",
                "#EF553B",
                "#00CC96",
                "#AB63FA",
                "#FFA15A",
                "#19D3F3",
                "#ef553b"
               ],
               [
                "#1F77B4",
                "#FF7F0E",
                "#2CA02C",
                "#D62728",
                "#9467BD",
                "#8C564B",
                "#ef553b"
               ],
               [
                "#636EFA",
                "#EF553B",
                "#00CC96",
                "#AB63FA",
                "#FFA15A",
                "#19D3F3",
                "#d3d3d3",
                "#ef553b"
               ]
              ],
              "values": [
               [
                6639182.09,
                128458728.91
               ],
               [
                6625000.09,
                0,
                0,
                14182,
                0,
                0,
                128458728.91
               ],
               [
                0,
                0,
                0,
                0,
                0,
                0,
                128458728.91
               ],
               [
                6575000.09,
                50000,
                14182,
                0,
                0,
                0,
                0,
                128458728.91
               ]
              ]
             },
             {
              "annotations[0].text": "Global",
              "annotations[1].text": "Semana : 12<br>Presupuesto Total : $135,097,911.00<br>Gasto Total : $6,639,182.09<br>Disponible : $128,458,728.91",
              "annotations[2].text": "Etapas",
              "annotations[3].text": "Semana : 12<br>Presupuesto Total : $135,097,911.00<br>DEVELOPMENT: $6,625,000.09<br>POST: $0.00<br>PREP: $0.00<br>SHOOT: $14,182.00<br>SOFT: $0.00<br>WRAP: $0.00<br>Disponible : $128,458,728.91",
              "annotations[4].text": "Departamento",
              "annotations[5].text": "Semana : 12<br>Presupuesto Total : $135,097,911.00<br>ANDA: $0.00<br>ARTE: $0.00<br>BALU: $0.00<br>DINAMITA: $0.00<br>LOCACIONES: $0.00<br>NOM: $0.00<br>Disponible : $128,458,728.91",
              "annotations[6].text": "Cuenta General",
              "annotations[7].text": "Semana : 12<br>Presupuesto Total : $135,097,911.00<br>1100: $6,575,000.09<br>2000: $50,000.00<br>7000: $14,182.00<br>1200: $0.00<br>1300: $0.00<br>1400: $0.00<br>Otros: $0.00<br>Disponible : $128,458,728.91",
              "title": "Presupuesto vs Gasto – Semana ≤ 12"
             }
            ],
            "label": "12",
            "method": "update"
           },
           {
            "args": [
             {
              "labels": [
               [
                "Gastado",
                "Disponible"
               ],
               [
                "DEVELOPMENT",
                "POST",
                "PREP",
                "SHOOT",
                "SOFT",
                "WRAP",
                "Disponible"
               ],
               [
                "ANDA",
                "ARTE",
                "BALU",
                "DINAMITA",
                "LOCACIONES",
                "NOM",
                "Disponible"
               ],
               [
                "1100",
                "2000",
                "7000",
                "1200",
                "1300",
                "1400",
                "Otros",
                "Disponible"
               ]
              ],
              "marker.colors": [
               [
                "#636efa",
                "#ef553b"
               ],
               [
                "#636EFA",
                "#EF553B",
                "#00CC96",
                "#AB63FA",
                "#FFA15A",
                "#19D3F3",
                "#ef553b"
               ],
               [
                "#1F77B4",
                "#FF7F0E",
                "#2CA02C",
                "#D62728",
                "#9467BD",
                "#8C564B",
                "#ef553b"
               ],
               [
                "#636EFA",
                "#EF553B",
                "#00CC96",
                "#AB63FA",
                "#FFA15A",
                "#19D3F3",
                "#d3d3d3",
                "#ef553b"
               ]
              ],
              "values": [
               [
                6939182.09,
                128158728.91
               ],
               [
                6925000.09,
                0,
                0,
                14182,
                0,
                0,
                128158728.91
               ],
               [
                0,
                0,
                0,
                0,
                0,
                0,
                128158728.91
               ],
               [
                6875000.09,
                50000,
                14182,
                0,
                0,
                0,
                0,
                128158728.91
               ]
              ]
             },
             {
              "annotations[0].text": "Global",
              "annotations[1].text": "Semana : 13<br>Presupuesto Total : $135,097,911.00<br>Gasto Total : $6,939,182.09<br>Disponible : $128,158,728.91",
              "annotations[2].text": "Etapas",
              "annotations[3].text": "Semana : 13<br>Presupuesto Total : $135,097,911.00<br>DEVELOPMENT: $6,925,000.09<br>POST: $0.00<br>PREP: $0.00<br>SHOOT: $14,182.00<br>SOFT: $0.00<br>WRAP: $0.00<br>Disponible : $128,158,728.91",
              "annotations[4].text": "Departamento",
              "annotations[5].text": "Semana : 13<br>Presupuesto Total : $135,097,911.00<br>ANDA: $0.00<br>ARTE: $0.00<br>BALU: $0.00<br>DINAMITA: $0.00<br>LOCACIONES: $0.00<br>NOM: $0.00<br>Disponible : $128,158,728.91",
              "annotations[6].text": "Cuenta General",
              "annotations[7].text": "Semana : 13<br>Presupuesto Total : $135,097,911.00<br>1100: $6,875,000.09<br>2000: $50,000.00<br>7000: $14,182.00<br>1200: $0.00<br>1300: $0.00<br>1400: $0.00<br>Otros: $0.00<br>Disponible : $128,158,728.91",
              "title": "Presupuesto vs Gasto – Semana ≤ 13"
             }
            ],
            "label": "13",
            "method": "update"
           },
           {
            "args": [
             {
              "labels": [
               [
                "Gastado",
                "Disponible"
               ],
               [
                "DEVELOPMENT",
                "POST",
                "PREP",
                "SHOOT",
                "SOFT",
                "WRAP",
                "Disponible"
               ],
               [
                "ANDA",
                "ARTE",
                "BALU",
                "DINAMITA",
                "LOCACIONES",
                "NOM",
                "Disponible"
               ],
               [
                "1100",
                "2000",
                "7000",
                "1200",
                "1300",
                "1400",
                "Otros",
                "Disponible"
               ]
              ],
              "marker.colors": [
               [
                "#636efa",
                "#ef553b"
               ],
               [
                "#636EFA",
                "#EF553B",
                "#00CC96",
                "#AB63FA",
                "#FFA15A",
                "#19D3F3",
                "#ef553b"
               ],
               [
                "#1F77B4",
                "#FF7F0E",
                "#2CA02C",
                "#D62728",
                "#9467BD",
                "#8C564B",
                "#ef553b"
               ],
               [
                "#636EFA",
                "#EF553B",
                "#00CC96",
                "#AB63FA",
                "#FFA15A",
                "#19D3F3",
                "#d3d3d3",
                "#ef553b"
               ]
              ],
              "values": [
               [
                6939182.09,
                128158728.91
               ],
               [
                6925000.09,
                0,
                0,
                14182,
                0,
                0,
                128158728.91
               ],
               [
                0,
                0,
                0,
                0,
                0,
                0,
                128158728.91
               ],
               [
                6875000.09,
                50000,
                14182,
                0,
                0,
                0,
                0,
                128158728.91
               ]
              ]
             },
             {
              "annotations[0].text": "Global",
              "annotations[1].text": "Semana : 14<br>Presupuesto Total : $135,097,911.00<br>Gasto Total : $6,939,182.09<br>Disponible : $128,158,728.91",
              "annotations[2].text": "Etapas",
              "annotations[3].text": "Semana : 14<br>Presupuesto Total : $135,097,911.00<br>DEVELOPMENT: $6,925,000.09<br>POST: $0.00<br>PREP: $0.00<br>SHOOT: $14,182.00<br>SOFT: $0.00<br>WRAP: $0.00<br>Disponible : $128,158,728.91",
              "annotations[4].text": "Departamento",
              "annotations[5].text": "Semana : 14<br>Presupuesto Total : $135,097,911.00<br>ANDA: $0.00<br>ARTE: $0.00<br>BALU: $0.00<br>DINAMITA: $0.00<br>LOCACIONES: $0.00<br>NOM: $0.00<br>Disponible : $128,158,728.91",
              "annotations[6].text": "Cuenta General",
              "annotations[7].text": "Semana : 14<br>Presupuesto Total : $135,097,911.00<br>1100: $6,875,000.09<br>2000: $50,000.00<br>7000: $14,182.00<br>1200: $0.00<br>1300: $0.00<br>1400: $0.00<br>Otros: $0.00<br>Disponible : $128,158,728.91",
              "title": "Presupuesto vs Gasto – Semana ≤ 14"
             }
            ],
            "label": "14",
            "method": "update"
           },
           {
            "args": [
             {
              "labels": [
               [
                "Gastado",
                "Disponible"
               ],
               [
                "DEVELOPMENT",
                "POST",
                "PREP",
                "SHOOT",
                "SOFT",
                "WRAP",
                "Disponible"
               ],
               [
                "ANDA",
                "ARTE",
                "BALU",
                "DINAMITA",
                "LOCACIONES",
                "NOM",
                "Disponible"
               ],
               [
                "1100",
                "2000",
                "3400",
                "7000",
                "1200",
                "1300",
                "Otros",
                "Disponible"
               ]
              ],
              "marker.colors": [
               [
                "#636efa",
                "#ef553b"
               ],
               [
                "#636EFA",
                "#EF553B",
                "#00CC96",
                "#AB63FA",
                "#FFA15A",
                "#19D3F3",
                "#ef553b"
               ],
               [
                "#1F77B4",
                "#FF7F0E",
                "#2CA02C",
                "#D62728",
                "#9467BD",
                "#8C564B",
                "#ef553b"
               ],
               [
                "#636EFA",
                "#EF553B",
                "#00CC96",
                "#AB63FA",
                "#FFA15A",
                "#19D3F3",
                "#d3d3d3",
                "#ef553b"
               ]
              ],
              "values": [
               [
                8704307.08,
                126393603.92
               ],
               [
                8375000.08,
                0,
                0,
                14182,
                315125,
                0,
                126393603.92
               ],
               [
                0,
                0,
                0,
                0,
                0,
                0,
                126393603.92
               ],
               [
                8275000.08,
                287500,
                120750,
                21057,
                0,
                0,
                0,
                126393603.92
               ]
              ]
             },
             {
              "annotations[0].text": "Global",
              "annotations[1].text": "Semana : 15<br>Presupuesto Total : $135,097,911.00<br>Gasto Total : $8,704,307.08<br>Disponible : $126,393,603.92",
              "annotations[2].text": "Etapas",
              "annotations[3].text": "Semana : 15<br>Presupuesto Total : $135,097,911.00<br>DEVELOPMENT: $8,375,000.08<br>POST: $0.00<br>PREP: $0.00<br>SHOOT: $14,182.00<br>SOFT: $315,125.00<br>WRAP: $0.00<br>Disponible : $126,393,603.92",
              "annotations[4].text": "Departamento",
              "annotations[5].text": "Semana : 15<br>Presupuesto Total : $135,097,911.00<br>ANDA: $0.00<br>ARTE: $0.00<br>BALU: $0.00<br>DINAMITA: $0.00<br>LOCACIONES: $0.00<br>NOM: $0.00<br>Disponible : $126,393,603.92",
              "annotations[6].text": "Cuenta General",
              "annotations[7].text": "Semana : 15<br>Presupuesto Total : $135,097,911.00<br>1100: $8,275,000.08<br>2000: $287,500.00<br>3400: $120,750.00<br>7000: $21,057.00<br>1200: $0.00<br>1300: $0.00<br>Otros: $0.00<br>Disponible : $126,393,603.92",
              "title": "Presupuesto vs Gasto – Semana ≤ 15"
             }
            ],
            "label": "15",
            "method": "update"
           },
           {
            "args": [
             {
              "labels": [
               [
                "Gastado",
                "Disponible"
               ],
               [
                "DEVELOPMENT",
                "POST",
                "PREP",
                "SHOOT",
                "SOFT",
                "WRAP",
                "Disponible"
               ],
               [
                "ANDA",
                "ARTE",
                "BALU",
                "DINAMITA",
                "LOCACIONES",
                "NOM",
                "Disponible"
               ],
               [
                "1100",
                "2000",
                "3400",
                "1200",
                "7000",
                "1300",
                "Otros",
                "Disponible"
               ]
              ],
              "marker.colors": [
               [
                "#636efa",
                "#ef553b"
               ],
               [
                "#636EFA",
                "#EF553B",
                "#00CC96",
                "#AB63FA",
                "#FFA15A",
                "#19D3F3",
                "#ef553b"
               ],
               [
                "#1F77B4",
                "#FF7F0E",
                "#2CA02C",
                "#D62728",
                "#9467BD",
                "#8C564B",
                "#ef553b"
               ],
               [
                "#636EFA",
                "#EF553B",
                "#00CC96",
                "#AB63FA",
                "#FFA15A",
                "#19D3F3",
                "#d3d3d3",
                "#ef553b"
               ]
              ],
              "values": [
               [
                9021307.08,
                126076603.92
               ],
               [
                8525000.08,
                0,
                0,
                14182,
                482125,
                0,
                126076603.92
               ],
               [
                0,
                0,
                0,
                0,
                0,
                42000,
                126076603.92
               ],
               [
                8425000.08,
                287500,
                162750,
                125000,
                21057,
                0,
                0,
                126076603.92
               ]
              ]
             },
             {
              "annotations[0].text": "Global",
              "annotations[1].text": "Semana : 16<br>Presupuesto Total : $135,097,911.00<br>Gasto Total : $9,021,307.08<br>Disponible : $126,076,603.92",
              "annotations[2].text": "Etapas",
              "annotations[3].text": "Semana : 16<br>Presupuesto Total : $135,097,911.00<br>DEVELOPMENT: $8,525,000.08<br>POST: $0.00<br>PREP: $0.00<br>SHOOT: $14,182.00<br>SOFT: $482,125.00<br>WRAP: $0.00<br>Disponible : $126,076,603.92",
              "annotations[4].text": "Departamento",
              "annotations[5].text": "Semana : 16<br>Presupuesto Total : $135,097,911.00<br>ANDA: $0.00<br>ARTE: $0.00<br>BALU: $0.00<br>DINAMITA: $0.00<br>LOCACIONES: $0.00<br>NOM: $42,000.00<br>Disponible : $126,076,603.92",
              "annotations[6].text": "Cuenta General",
              "annotations[7].text": "Semana : 16<br>Presupuesto Total : $135,097,911.00<br>1100: $8,425,000.08<br>2000: $287,500.00<br>3400: $162,750.00<br>1200: $125,000.00<br>7000: $21,057.00<br>1300: $0.00<br>Otros: $0.00<br>Disponible : $126,076,603.92",
              "title": "Presupuesto vs Gasto – Semana ≤ 16"
             }
            ],
            "label": "16",
            "method": "update"
           },
           {
            "args": [
             {
              "labels": [
               [
                "Gastado",
                "Disponible"
               ],
               [
                "DEVELOPMENT",
                "POST",
                "PREP",
                "SHOOT",
                "SOFT",
                "WRAP",
                "Disponible"
               ],
               [
                "ANDA",
                "ARTE",
                "BALU",
                "DINAMITA",
                "LOCACIONES",
                "NOM",
                "Disponible"
               ],
               [
                "1100",
                "2000",
                "3400",
                "1200",
                "7000",
                "1300",
                "Otros",
                "Disponible"
               ]
              ],
              "marker.colors": [
               [
                "#636efa",
                "#ef553b"
               ],
               [
                "#636EFA",
                "#EF553B",
                "#00CC96",
                "#AB63FA",
                "#FFA15A",
                "#19D3F3",
                "#ef553b"
               ],
               [
                "#1F77B4",
                "#FF7F0E",
                "#2CA02C",
                "#D62728",
                "#9467BD",
                "#8C564B",
                "#ef553b"
               ],
               [
                "#636EFA",
                "#EF553B",
                "#00CC96",
                "#AB63FA",
                "#FFA15A",
                "#19D3F3",
                "#d3d3d3",
                "#ef553b"
               ]
              ],
              "values": [
               [
                9115807.08,
                125982103.92
               ],
               [
                8525000.08,
                0,
                0,
                14182,
                576625,
                0,
                125982103.92
               ],
               [
                0,
                0,
                0,
                0,
                0,
                42000,
                125982103.92
               ],
               [
                8425000.08,
                382000,
                162750,
                125000,
                21057,
                0,
                0,
                125982103.92
               ]
              ]
             },
             {
              "annotations[0].text": "Global",
              "annotations[1].text": "Semana : 17<br>Presupuesto Total : $135,097,911.00<br>Gasto Total : $9,115,807.08<br>Disponible : $125,982,103.92",
              "annotations[2].text": "Etapas",
              "annotations[3].text": "Semana : 17<br>Presupuesto Total : $135,097,911.00<br>DEVELOPMENT: $8,525,000.08<br>POST: $0.00<br>PREP: $0.00<br>SHOOT: $14,182.00<br>SOFT: $576,625.00<br>WRAP: $0.00<br>Disponible : $125,982,103.92",
              "annotations[4].text": "Departamento",
              "annotations[5].text": "Semana : 17<br>Presupuesto Total : $135,097,911.00<br>ANDA: $0.00<br>ARTE: $0.00<br>BALU: $0.00<br>DINAMITA: $0.00<br>LOCACIONES: $0.00<br>NOM: $42,000.00<br>Disponible : $125,982,103.92",
              "annotations[6].text": "Cuenta General",
              "annotations[7].text": "Semana : 17<br>Presupuesto Total : $135,097,911.00<br>1100: $8,425,000.08<br>2000: $382,000.00<br>3400: $162,750.00<br>1200: $125,000.00<br>7000: $21,057.00<br>1300: $0.00<br>Otros: $0.00<br>Disponible : $125,982,103.92",
              "title": "Presupuesto vs Gasto – Semana ≤ 17"
             }
            ],
            "label": "17",
            "method": "update"
           },
           {
            "args": [
             {
              "labels": [
               [
                "Gastado",
                "Disponible"
               ],
               [
                "DEVELOPMENT",
                "POST",
                "PREP",
                "SHOOT",
                "SOFT",
                "WRAP",
                "Disponible"
               ],
               [
                "ANDA",
                "ARTE",
                "BALU",
                "DINAMITA",
                "LOCACIONES",
                "NOM",
                "Disponible"
               ],
               [
                "1100",
                "2000",
                "3400",
                "3900",
                "1200",
                "7000",
                "Otros",
                "Disponible"
               ]
              ],
              "marker.colors": [
               [
                "#636efa",
                "#ef553b"
               ],
               [
                "#636EFA",
                "#EF553B",
                "#00CC96",
                "#AB63FA",
                "#FFA15A",
                "#19D3F3",
                "#ef553b"
               ],
               [
                "#1F77B4",
                "#FF7F0E",
                "#2CA02C",
                "#D62728",
                "#9467BD",
                "#8C564B",
                "#ef553b"
               ],
               [
                "#636EFA",
                "#EF553B",
                "#00CC96",
                "#AB63FA",
                "#FFA15A",
                "#19D3F3",
                "#d3d3d3",
                "#ef553b"
               ]
              ],
              "values": [
               [
                9390264.596,
                125707646.404
               ],
               [
                8525000.08,
                0,
                0,
                288639.516,
                576625,
                0,
                125707646.404
               ],
               [
                0,
                0,
                0,
                0,
                0,
                42000,
                125707646.404
               ],
               [
                8425000.08,
                382000,
                256748.67200000002,
                180458.844,
                125000,
                21057,
                0,
                125707646.404
               ]
              ]
             },
             {
              "annotations[0].text": "Global",
              "annotations[1].text": "Semana : 18<br>Presupuesto Total : $135,097,911.00<br>Gasto Total : $9,390,264.60<br>Disponible : $125,707,646.40",
              "annotations[2].text": "Etapas",
              "annotations[3].text": "Semana : 18<br>Presupuesto Total : $135,097,911.00<br>DEVELOPMENT: $8,525,000.08<br>POST: $0.00<br>PREP: $0.00<br>SHOOT: $288,639.52<br>SOFT: $576,625.00<br>WRAP: $0.00<br>Disponible : $125,707,646.40",
              "annotations[4].text": "Departamento",
              "annotations[5].text": "Semana : 18<br>Presupuesto Total : $135,097,911.00<br>ANDA: $0.00<br>ARTE: $0.00<br>BALU: $0.00<br>DINAMITA: $0.00<br>LOCACIONES: $0.00<br>NOM: $42,000.00<br>Disponible : $125,707,646.40",
              "annotations[6].text": "Cuenta General",
              "annotations[7].text": "Semana : 18<br>Presupuesto Total : $135,097,911.00<br>1100: $8,425,000.08<br>2000: $382,000.00<br>3400: $256,748.67<br>3900: $180,458.84<br>1200: $125,000.00<br>7000: $21,057.00<br>Otros: $0.00<br>Disponible : $125,707,646.40",
              "title": "Presupuesto vs Gasto – Semana ≤ 18"
             }
            ],
            "label": "18",
            "method": "update"
           },
           {
            "args": [
             {
              "labels": [
               [
                "Gastado",
                "Disponible"
               ],
               [
                "DEVELOPMENT",
                "POST",
                "PREP",
                "SHOOT",
                "SOFT",
                "WRAP",
                "Disponible"
               ],
               [
                "ANDA",
                "ARTE",
                "BALU",
                "DINAMITA",
                "LOCACIONES",
                "NOM",
                "Disponible"
               ],
               [
                "1100",
                "2000",
                "3400",
                "3900",
                "1200",
                "7000",
                "Otros",
                "Disponible"
               ]
              ],
              "marker.colors": [
               [
                "#636efa",
                "#ef553b"
               ],
               [
                "#636EFA",
                "#EF553B",
                "#00CC96",
                "#AB63FA",
                "#FFA15A",
                "#19D3F3",
                "#ef553b"
               ],
               [
                "#1F77B4",
                "#FF7F0E",
                "#2CA02C",
                "#D62728",
                "#9467BD",
                "#8C564B",
                "#ef553b"
               ],
               [
                "#636EFA",
                "#EF553B",
                "#00CC96",
                "#AB63FA",
                "#FFA15A",
                "#19D3F3",
                "#d3d3d3",
                "#ef553b"
               ]
              ],
              "values": [
               [
                9390264.596,
                125707646.404
               ],
               [
                8525000.08,
                0,
                0,
                288639.516,
                576625,
                0,
                125707646.404
               ],
               [
                0,
                0,
                0,
                0,
                0,
                42000,
                125707646.404
               ],
               [
                8425000.08,
                382000,
                256748.67200000002,
                180458.844,
                125000,
                21057,
                0,
                125707646.404
               ]
              ]
             },
             {
              "annotations[0].text": "Global",
              "annotations[1].text": "Semana : 19<br>Presupuesto Total : $135,097,911.00<br>Gasto Total : $9,390,264.60<br>Disponible : $125,707,646.40",
              "annotations[2].text": "Etapas",
              "annotations[3].text": "Semana : 19<br>Presupuesto Total : $135,097,911.00<br>DEVELOPMENT: $8,525,000.08<br>POST: $0.00<br>PREP: $0.00<br>SHOOT: $288,639.52<br>SOFT: $576,625.00<br>WRAP: $0.00<br>Disponible : $125,707,646.40",
              "annotations[4].text": "Departamento",
              "annotations[5].text": "Semana : 19<br>Presupuesto Total : $135,097,911.00<br>ANDA: $0.00<br>ARTE: $0.00<br>BALU: $0.00<br>DINAMITA: $0.00<br>LOCACIONES: $0.00<br>NOM: $42,000.00<br>Disponible : $125,707,646.40",
              "annotations[6].text": "Cuenta General",
              "annotations[7].text": "Semana : 19<br>Presupuesto Total : $135,097,911.00<br>1100: $8,425,000.08<br>2000: $382,000.00<br>3400: $256,748.67<br>3900: $180,458.84<br>1200: $125,000.00<br>7000: $21,057.00<br>Otros: $0.00<br>Disponible : $125,707,646.40",
              "title": "Presupuesto vs Gasto – Semana ≤ 19"
             }
            ],
            "label": "19",
            "method": "update"
           },
           {
            "args": [
             {
              "labels": [
               [
                "Gastado",
                "Disponible"
               ],
               [
                "DEVELOPMENT",
                "POST",
                "PREP",
                "SHOOT",
                "SOFT",
                "WRAP",
                "Disponible"
               ],
               [
                "ANDA",
                "ARTE",
                "BALU",
                "DINAMITA",
                "LOCACIONES",
                "NOM",
                "Disponible"
               ],
               [
                "1100",
                "2000",
                "1200",
                "3400",
                "3900",
                "7000",
                "Otros",
                "Disponible"
               ]
              ],
              "marker.colors": [
               [
                "#636efa",
                "#ef553b"
               ],
               [
                "#636EFA",
                "#EF553B",
                "#00CC96",
                "#AB63FA",
                "#FFA15A",
                "#19D3F3",
                "#ef553b"
               ],
               [
                "#1F77B4",
                "#FF7F0E",
                "#2CA02C",
                "#D62728",
                "#9467BD",
                "#8C564B",
                "#ef553b"
               ],
               [
                "#636EFA",
                "#EF553B",
                "#00CC96",
                "#AB63FA",
                "#FFA15A",
                "#19D3F3",
                "#d3d3d3",
                "#ef553b"
               ]
              ],
              "values": [
               [
                9741764.596,
                125356146.404
               ],
               [
                8525000.08,
                0,
                0,
                288639.516,
                928125,
                0,
                125356146.404
               ],
               [
                0,
                0,
                0,
                0,
                0,
                42000,
                125356146.404
               ],
               [
                8425000.08,
                473500,
                385000,
                256748.67200000002,
                180458.844,
                21057,
                0,
                125356146.404
               ]
              ]
             },
             {
              "annotations[0].text": "Global",
              "annotations[1].text": "Semana : 20<br>Presupuesto Total : $135,097,911.00<br>Gasto Total : $9,741,764.60<br>Disponible : $125,356,146.40",
              "annotations[2].text": "Etapas",
              "annotations[3].text": "Semana : 20<br>Presupuesto Total : $135,097,911.00<br>DEVELOPMENT: $8,525,000.08<br>POST: $0.00<br>PREP: $0.00<br>SHOOT: $288,639.52<br>SOFT: $928,125.00<br>WRAP: $0.00<br>Disponible : $125,356,146.40",
              "annotations[4].text": "Departamento",
              "annotations[5].text": "Semana : 20<br>Presupuesto Total : $135,097,911.00<br>ANDA: $0.00<br>ARTE: $0.00<br>BALU: $0.00<br>DINAMITA: $0.00<br>LOCACIONES: $0.00<br>NOM: $42,000.00<br>Disponible : $125,356,146.40",
              "annotations[6].text": "Cuenta General",
              "annotations[7].text": "Semana : 20<br>Presupuesto Total : $135,097,911.00<br>1100: $8,425,000.08<br>2000: $473,500.00<br>1200: $385,000.00<br>3400: $256,748.67<br>3900: $180,458.84<br>7000: $21,057.00<br>Otros: $0.00<br>Disponible : $125,356,146.40",
              "title": "Presupuesto vs Gasto – Semana ≤ 20"
             }
            ],
            "label": "20",
            "method": "update"
           },
           {
            "args": [
             {
              "labels": [
               [
                "Gastado",
                "Disponible"
               ],
               [
                "DEVELOPMENT",
                "POST",
                "PREP",
                "SHOOT",
                "SOFT",
                "WRAP",
                "Disponible"
               ],
               [
                "ANDA",
                "ARTE",
                "BALU",
                "DINAMITA",
                "LOCACIONES",
                "NOM",
                "Disponible"
               ],
               [
                "1100",
                "2000",
                "1200",
                "3400",
                "3900",
                "7000",
                "Otros",
                "Disponible"
               ]
              ],
              "marker.colors": [
               [
                "#636efa",
                "#ef553b"
               ],
               [
                "#636EFA",
                "#EF553B",
                "#00CC96",
                "#AB63FA",
                "#FFA15A",
                "#19D3F3",
                "#ef553b"
               ],
               [
                "#1F77B4",
                "#FF7F0E",
                "#2CA02C",
                "#D62728",
                "#9467BD",
                "#8C564B",
                "#ef553b"
               ],
               [
                "#636EFA",
                "#EF553B",
                "#00CC96",
                "#AB63FA",
                "#FFA15A",
                "#19D3F3",
                "#d3d3d3",
                "#ef553b"
               ]
              ],
              "values": [
               [
                9741764.596,
                125356146.404
               ],
               [
                8525000.08,
                0,
                0,
                288639.516,
                928125,
                0,
                125356146.404
               ],
               [
                0,
                0,
                0,
                0,
                0,
                42000,
                125356146.404
               ],
               [
                8425000.08,
                473500,
                385000,
                256748.67200000002,
                180458.844,
                21057,
                0,
                125356146.404
               ]
              ]
             },
             {
              "annotations[0].text": "Global",
              "annotations[1].text": "Semana : 21<br>Presupuesto Total : $135,097,911.00<br>Gasto Total : $9,741,764.60<br>Disponible : $125,356,146.40",
              "annotations[2].text": "Etapas",
              "annotations[3].text": "Semana : 21<br>Presupuesto Total : $135,097,911.00<br>DEVELOPMENT: $8,525,000.08<br>POST: $0.00<br>PREP: $0.00<br>SHOOT: $288,639.52<br>SOFT: $928,125.00<br>WRAP: $0.00<br>Disponible : $125,356,146.40",
              "annotations[4].text": "Departamento",
              "annotations[5].text": "Semana : 21<br>Presupuesto Total : $135,097,911.00<br>ANDA: $0.00<br>ARTE: $0.00<br>BALU: $0.00<br>DINAMITA: $0.00<br>LOCACIONES: $0.00<br>NOM: $42,000.00<br>Disponible : $125,356,146.40",
              "annotations[6].text": "Cuenta General",
              "annotations[7].text": "Semana : 21<br>Presupuesto Total : $135,097,911.00<br>1100: $8,425,000.08<br>2000: $473,500.00<br>1200: $385,000.00<br>3400: $256,748.67<br>3900: $180,458.84<br>7000: $21,057.00<br>Otros: $0.00<br>Disponible : $125,356,146.40",
              "title": "Presupuesto vs Gasto – Semana ≤ 21"
             }
            ],
            "label": "21",
            "method": "update"
           },
           {
            "args": [
             {
              "labels": [
               [
                "Gastado",
                "Disponible"
               ],
               [
                "DEVELOPMENT",
                "POST",
                "PREP",
                "SHOOT",
                "SOFT",
                "WRAP",
                "Disponible"
               ],
               [
                "ANDA",
                "ARTE",
                "BALU",
                "DINAMITA",
                "LOCACIONES",
                "NOM",
                "Disponible"
               ],
               [
                "1100",
                "2000",
                "1200",
                "3400",
                "2200",
                "3900",
                "Otros",
                "Disponible"
               ]
              ],
              "marker.colors": [
               [
                "#636efa",
                "#ef553b"
               ],
               [
                "#636EFA",
                "#EF553B",
                "#00CC96",
                "#AB63FA",
                "#FFA15A",
                "#19D3F3",
                "#ef553b"
               ],
               [
                "#1F77B4",
                "#FF7F0E",
                "#2CA02C",
                "#D62728",
                "#9467BD",
                "#8C564B",
                "#ef553b"
               ],
               [
                "#636EFA",
                "#EF553B",
                "#00CC96",
                "#AB63FA",
                "#FFA15A",
                "#19D3F3",
                "#d3d3d3",
                "#ef553b"
               ]
              ],
              "values": [
               [
                13627238.261,
                121470672.739
               ],
               [
                9495000.08,
                0,
                2040440.304,
                1147502.877,
                944295,
                0,
                121470672.739
               ],
               [
                0,
                0,
                77054.31,
                0,
                31867.38,
                136500,
                121470672.739
               ],
               [
                9395000.08,
                1474335.817,
                1432000,
                633420.362,
                307230,
                243591.054,
                141660.948,
                121470672.739
               ]
              ]
             },
             {
              "annotations[0].text": "Global",
              "annotations[1].text": "Semana : 22<br>Presupuesto Total : $135,097,911.00<br>Gasto Total : $13,627,238.26<br>Disponible : $121,470,672.74",
              "annotations[2].text": "Etapas",
              "annotations[3].text": "Semana : 22<br>Presupuesto Total : $135,097,911.00<br>DEVELOPMENT: $9,495,000.08<br>POST: $0.00<br>PREP: $2,040,440.30<br>SHOOT: $1,147,502.88<br>SOFT: $944,295.00<br>WRAP: $0.00<br>Disponible : $121,470,672.74",
              "annotations[4].text": "Departamento",
              "annotations[5].text": "Semana : 22<br>Presupuesto Total : $135,097,911.00<br>ANDA: $0.00<br>ARTE: $0.00<br>BALU: $77,054.31<br>DINAMITA: $0.00<br>LOCACIONES: $31,867.38<br>NOM: $136,500.00<br>Disponible : $121,470,672.74",
              "annotations[6].text": "Cuenta General",
              "annotations[7].text": "Semana : 22<br>Presupuesto Total : $135,097,911.00<br>1100: $9,395,000.08<br>2000: $1,474,335.82<br>1200: $1,432,000.00<br>3400: $633,420.36<br>2200: $307,230.00<br>3900: $243,591.05<br>Otros: $141,660.95<br>Disponible : $121,470,672.74",
              "title": "Presupuesto vs Gasto – Semana ≤ 22"
             }
            ],
            "label": "22",
            "method": "update"
           },
           {
            "args": [
             {
              "labels": [
               [
                "Gastado",
                "Disponible"
               ],
               [
                "DEVELOPMENT",
                "POST",
                "PREP",
                "SHOOT",
                "SOFT",
                "WRAP",
                "Disponible"
               ],
               [
                "ANDA",
                "ARTE",
                "BALU",
                "DINAMITA",
                "LOCACIONES",
                "NOM",
                "Disponible"
               ],
               [
                "1100",
                "1200",
                "2000",
                "3400",
                "1600",
                "2200",
                "Otros",
                "Disponible"
               ]
              ],
              "marker.colors": [
               [
                "#636efa",
                "#ef553b"
               ],
               [
                "#636EFA",
                "#EF553B",
                "#00CC96",
                "#AB63FA",
                "#FFA15A",
                "#19D3F3",
                "#ef553b"
               ],
               [
                "#1F77B4",
                "#FF7F0E",
                "#2CA02C",
                "#D62728",
                "#9467BD",
                "#8C564B",
                "#ef553b"
               ],
               [
                "#636EFA",
                "#EF553B",
                "#00CC96",
                "#AB63FA",
                "#FFA15A",
                "#19D3F3",
                "#d3d3d3",
                "#ef553b"
               ]
              ],
              "values": [
               [
                15788500.341000002,
                119309410.659
               ],
               [
                9495000.08,
                0,
                2085692.056,
                3263513.205,
                944295,
                0,
                119309410.659
               ],
               [
                0,
                0,
                124025.65,
                0,
                31867.38,
                136500,
                119309410.659
               ],
               [
                9395000.08,
                3158971.34,
                1474335.817,
                678672.1140000001,
                351363.974,
                307230,
                422927.016,
                119309410.659
               ]
              ]
             },
             {
              "annotations[0].text": "Global",
              "annotations[1].text": "Semana : 23<br>Presupuesto Total : $135,097,911.00<br>Gasto Total : $15,788,500.34<br>Disponible : $119,309,410.66",
              "annotations[2].text": "Etapas",
              "annotations[3].text": "Semana : 23<br>Presupuesto Total : $135,097,911.00<br>DEVELOPMENT: $9,495,000.08<br>POST: $0.00<br>PREP: $2,085,692.06<br>SHOOT: $3,263,513.21<br>SOFT: $944,295.00<br>WRAP: $0.00<br>Disponible : $119,309,410.66",
              "annotations[4].text": "Departamento",
              "annotations[5].text": "Semana : 23<br>Presupuesto Total : $135,097,911.00<br>ANDA: $0.00<br>ARTE: $0.00<br>BALU: $124,025.65<br>DINAMITA: $0.00<br>LOCACIONES: $31,867.38<br>NOM: $136,500.00<br>Disponible : $119,309,410.66",
              "annotations[6].text": "Cuenta General",
              "annotations[7].text": "Semana : 23<br>Presupuesto Total : $135,097,911.00<br>1100: $9,395,000.08<br>1200: $3,158,971.34<br>2000: $1,474,335.82<br>3400: $678,672.11<br>1600: $351,363.97<br>2200: $307,230.00<br>Otros: $422,927.02<br>Disponible : $119,309,410.66",
              "title": "Presupuesto vs Gasto – Semana ≤ 23"
             }
            ],
            "label": "23",
            "method": "update"
           },
           {
            "args": [
             {
              "labels": [
               [
                "Gastado",
                "Disponible"
               ],
               [
                "DEVELOPMENT",
                "POST",
                "PREP",
                "SHOOT",
                "SOFT",
                "WRAP",
                "Disponible"
               ],
               [
                "ANDA",
                "ARTE",
                "BALU",
                "DINAMITA",
                "LOCACIONES",
                "NOM",
                "Disponible"
               ],
               [
                "7000",
                "1100",
                "1200",
                "2000",
                "7200",
                "3400",
                "Otros",
                "Disponible"
               ]
              ],
              "marker.colors": [
               [
                "#636efa",
                "#ef553b"
               ],
               [
                "#636EFA",
                "#EF553B",
                "#00CC96",
                "#AB63FA",
                "#FFA15A",
                "#19D3F3",
                "#ef553b"
               ],
               [
                "#1F77B4",
                "#FF7F0E",
                "#2CA02C",
                "#D62728",
                "#9467BD",
                "#8C564B",
                "#ef553b"
               ],
               [
                "#636EFA",
                "#EF553B",
                "#00CC96",
                "#AB63FA",
                "#FFA15A",
                "#19D3F3",
                "#d3d3d3",
                "#ef553b"
               ]
              ],
              "values": [
               [
                30537371.261,
                104560539.739
               ],
               [
                9830000.08,
                0,
                3234774.586,
                16528301.595,
                944295,
                0,
                104560539.739
               ],
               [
                0,
                0,
                124025.65,
                0,
                31867.38,
                231000,
                104560539.739
               ],
               [
                11800678.978,
                9730000.08,
                3158971.34,
                1879335.817,
                1332744.52,
                836179.644,
                1799460.882,
                104560539.739
               ]
              ]
             },
             {
              "annotations[0].text": "Global",
              "annotations[1].text": "Semana : 24<br>Presupuesto Total : $135,097,911.00<br>Gasto Total : $30,537,371.26<br>Disponible : $104,560,539.74",
              "annotations[2].text": "Etapas",
              "annotations[3].text": "Semana : 24<br>Presupuesto Total : $135,097,911.00<br>DEVELOPMENT: $9,830,000.08<br>POST: $0.00<br>PREP: $3,234,774.59<br>SHOOT: $16,528,301.60<br>SOFT: $944,295.00<br>WRAP: $0.00<br>Disponible : $104,560,539.74",
              "annotations[4].text": "Departamento",
              "annotations[5].text": "Semana : 24<br>Presupuesto Total : $135,097,911.00<br>ANDA: $0.00<br>ARTE: $0.00<br>BALU: $124,025.65<br>DINAMITA: $0.00<br>LOCACIONES: $31,867.38<br>NOM: $231,000.00<br>Disponible : $104,560,539.74",
              "annotations[6].text": "Cuenta General",
              "annotations[7].text": "Semana : 24<br>Presupuesto Total : $135,097,911.00<br>7000: $11,800,678.98<br>1100: $9,730,000.08<br>1200: $3,158,971.34<br>2000: $1,879,335.82<br>7200: $1,332,744.52<br>3400: $836,179.64<br>Otros: $1,799,460.88<br>Disponible : $104,560,539.74",
              "title": "Presupuesto vs Gasto – Semana ≤ 24"
             }
            ],
            "label": "24",
            "method": "update"
           },
           {
            "args": [
             {
              "labels": [
               [
                "Gastado",
                "Disponible"
               ],
               [
                "DEVELOPMENT",
                "POST",
                "PREP",
                "SHOOT",
                "SOFT",
                "WRAP",
                "Disponible"
               ],
               [
                "ANDA",
                "ARTE",
                "BALU",
                "DINAMITA",
                "LOCACIONES",
                "NOM",
                "Disponible"
               ],
               [
                "7000",
                "1100",
                "1200",
                "2000",
                "2700",
                "7200",
                "Otros",
                "Disponible"
               ]
              ],
              "marker.colors": [
               [
                "#636efa",
                "#ef553b"
               ],
               [
                "#636EFA",
                "#EF553B",
                "#00CC96",
                "#AB63FA",
                "#FFA15A",
                "#19D3F3",
                "#ef553b"
               ],
               [
                "#1F77B4",
                "#FF7F0E",
                "#2CA02C",
                "#D62728",
                "#9467BD",
                "#8C564B",
                "#ef553b"
               ],
               [
                "#636EFA",
                "#EF553B",
                "#00CC96",
                "#AB63FA",
                "#FFA15A",
                "#19D3F3",
                "#d3d3d3",
                "#ef553b"
               ]
              ],
              "values": [
               [
                32263225.66,
                102834685.34
               ],
               [
                9830000.08,
                0,
                3281119.156,
                18207811.424000002,
                944295,
                0,
                102834685.34
               ],
               [
                0,
                0,
                153082.68,
                0,
                31867.38,
                231000,
                102834685.34
               ],
               [
                11827018.488,
                9730000.08,
                3158971.34,
                1879335.817,
                1714426.147,
                1332744.52,
                2620729.268,
                102834685.34
               ]
              ]
             },
             {
              "annotations[0].text": "Global",
              "annotations[1].text": "Semana : 25<br>Presupuesto Total : $135,097,911.00<br>Gasto Total : $32,263,225.66<br>Disponible : $102,834,685.34",
              "annotations[2].text": "Etapas",
              "annotations[3].text": "Semana : 25<br>Presupuesto Total : $135,097,911.00<br>DEVELOPMENT: $9,830,000.08<br>POST: $0.00<br>PREP: $3,281,119.16<br>SHOOT: $18,207,811.42<br>SOFT: $944,295.00<br>WRAP: $0.00<br>Disponible : $102,834,685.34",
              "annotations[4].text": "Departamento",
              "annotations[5].text": "Semana : 25<br>Presupuesto Total : $135,097,911.00<br>ANDA: $0.00<br>ARTE: $0.00<br>BALU: $153,082.68<br>DINAMITA: $0.00<br>LOCACIONES: $31,867.38<br>NOM: $231,000.00<br>Disponible : $102,834,685.34",
              "annotations[6].text": "Cuenta General",
              "annotations[7].text": "Semana : 25<br>Presupuesto Total : $135,097,911.00<br>7000: $11,827,018.49<br>1100: $9,730,000.08<br>1200: $3,158,971.34<br>2000: $1,879,335.82<br>2700: $1,714,426.15<br>7200: $1,332,744.52<br>Otros: $2,620,729.27<br>Disponible : $102,834,685.34",
              "title": "Presupuesto vs Gasto – Semana ≤ 25"
             }
            ],
            "label": "25",
            "method": "update"
           },
           {
            "args": [
             {
              "labels": [
               [
                "Gastado",
                "Disponible"
               ],
               [
                "DEVELOPMENT",
                "POST",
                "PREP",
                "SHOOT",
                "SOFT",
                "WRAP",
                "Disponible"
               ],
               [
                "ANDA",
                "ARTE",
                "BALU",
                "DINAMITA",
                "LOCACIONES",
                "NOM",
                "Disponible"
               ],
               [
                "7000",
                "1100",
                "1200",
                "2000",
                "2700",
                "7200",
                "Otros",
                "Disponible"
               ]
              ],
              "marker.colors": [
               [
                "#636efa",
                "#ef553b"
               ],
               [
                "#636EFA",
                "#EF553B",
                "#00CC96",
                "#AB63FA",
                "#FFA15A",
                "#19D3F3",
                "#ef553b"
               ],
               [
                "#1F77B4",
                "#FF7F0E",
                "#2CA02C",
                "#D62728",
                "#9467BD",
                "#8C564B",
                "#ef553b"
               ],
               [
                "#636EFA",
                "#EF553B",
                "#00CC96",
                "#AB63FA",
                "#FFA15A",
                "#19D3F3",
                "#d3d3d3",
                "#ef553b"
               ]
              ],
              "values": [
               [
                34869896.122999996,
                100228014.877
               ],
               [
                10040000.08,
                0,
                4791609.079,
                19093991.964,
                944295,
                0,
                100228014.877
               ],
               [
                0,
                709660.1799999999,
                153082.68,
                0,
                31867.38,
                484150,
                100228014.877
               ],
               [
                12162018.488,
                9940000.08,
                3158971.34,
                2408985.817,
                2084426.147,
                1332744.52,
                3782749.7309999997,
                100228014.877
               ]
              ]
             },
             {
              "annotations[0].text": "Global",
              "annotations[1].text": "Semana : 26<br>Presupuesto Total : $135,097,911.00<br>Gasto Total : $34,869,896.12<br>Disponible : $100,228,014.88",
              "annotations[2].text": "Etapas",
              "annotations[3].text": "Semana : 26<br>Presupuesto Total : $135,097,911.00<br>DEVELOPMENT: $10,040,000.08<br>POST: $0.00<br>PREP: $4,791,609.08<br>SHOOT: $19,093,991.96<br>SOFT: $944,295.00<br>WRAP: $0.00<br>Disponible : $100,228,014.88",
              "annotations[4].text": "Departamento",
              "annotations[5].text": "Semana : 26<br>Presupuesto Total : $135,097,911.00<br>ANDA: $0.00<br>ARTE: $709,660.18<br>BALU: $153,082.68<br>DINAMITA: $0.00<br>LOCACIONES: $31,867.38<br>NOM: $484,150.00<br>Disponible : $100,228,014.88",
              "annotations[6].text": "Cuenta General",
              "annotations[7].text": "Semana : 26<br>Presupuesto Total : $135,097,911.00<br>7000: $12,162,018.49<br>1100: $9,940,000.08<br>1200: $3,158,971.34<br>2000: $2,408,985.82<br>2700: $2,084,426.15<br>7200: $1,332,744.52<br>Otros: $3,782,749.73<br>Disponible : $100,228,014.88",
              "title": "Presupuesto vs Gasto – Semana ≤ 26"
             }
            ],
            "label": "26",
            "method": "update"
           },
           {
            "args": [
             {
              "labels": [
               [
                "Gastado",
                "Disponible"
               ],
               [
                "DEVELOPMENT",
                "POST",
                "PREP",
                "SHOOT",
                "SOFT",
                "WRAP",
                "Disponible"
               ],
               [
                "ANDA",
                "ARTE",
                "BALU",
                "DINAMITA",
                "LOCACIONES",
                "NOM",
                "Disponible"
               ],
               [
                "7000",
                "1100",
                "3400",
                "1200",
                "2000",
                "2400",
                "Otros",
                "Disponible"
               ]
              ],
              "marker.colors": [
               [
                "#636efa",
                "#ef553b"
               ],
               [
                "#636EFA",
                "#EF553B",
                "#00CC96",
                "#AB63FA",
                "#FFA15A",
                "#19D3F3",
                "#ef553b"
               ],
               [
                "#1F77B4",
                "#FF7F0E",
                "#2CA02C",
                "#D62728",
                "#9467BD",
                "#8C564B",
                "#ef553b"
               ],
               [
                "#636EFA",
                "#EF553B",
                "#00CC96",
                "#AB63FA",
                "#FFA15A",
                "#19D3F3",
                "#d3d3d3",
                "#ef553b"
               ]
              ],
              "values": [
               [
                41567042.14,
                93530868.86
               ],
               [
                10040000.08,
                0,
                4903459.659,
                25679287.401,
                944295,
                0,
                93530868.86
               ],
               [
                0,
                2329211.387,
                153082.68,
                0,
                31867.38,
                484150,
                93530868.86
               ],
               [
                12162018.488,
                9940000.08,
                4429016.853999999,
                3158971.34,
                2408985.817,
                2157703.897,
                7310345.664,
                93530868.86
               ]
              ]
             },
             {
              "annotations[0].text": "Global",
              "annotations[1].text": "Semana : 27<br>Presupuesto Total : $135,097,911.00<br>Gasto Total : $41,567,042.14<br>Disponible : $93,530,868.86",
              "annotations[2].text": "Etapas",
              "annotations[3].text": "Semana : 27<br>Presupuesto Total : $135,097,911.00<br>DEVELOPMENT: $10,040,000.08<br>POST: $0.00<br>PREP: $4,903,459.66<br>SHOOT: $25,679,287.40<br>SOFT: $944,295.00<br>WRAP: $0.00<br>Disponible : $93,530,868.86",
              "annotations[4].text": "Departamento",
              "annotations[5].text": "Semana : 27<br>Presupuesto Total : $135,097,911.00<br>ANDA: $0.00<br>ARTE: $2,329,211.39<br>BALU: $153,082.68<br>DINAMITA: $0.00<br>LOCACIONES: $31,867.38<br>NOM: $484,150.00<br>Disponible : $93,530,868.86",
              "annotations[6].text": "Cuenta General",
              "annotations[7].text": "Semana : 27<br>Presupuesto Total : $135,097,911.00<br>7000: $12,162,018.49<br>1100: $9,940,000.08<br>3400: $4,429,016.85<br>1200: $3,158,971.34<br>2000: $2,408,985.82<br>2400: $2,157,703.90<br>Otros: $7,310,345.66<br>Disponible : $93,530,868.86",
              "title": "Presupuesto vs Gasto – Semana ≤ 27"
             }
            ],
            "label": "27",
            "method": "update"
           },
           {
            "args": [
             {
              "labels": [
               [
                "Gastado",
                "Disponible"
               ],
               [
                "DEVELOPMENT",
                "POST",
                "PREP",
                "SHOOT",
                "SOFT (EXCESO)",
                "WRAP",
                "Disponible"
               ],
               [
                "ANDA",
                "ARTE",
                "BALU",
                "DINAMITA",
                "LOCACIONES",
                "NOM",
                "Disponible"
               ],
               [
                "7000",
                "1100",
                "3400",
                "3600",
                "1200",
                "2400",
                "Otros",
                "Disponible"
               ]
              ],
              "marker.colors": [
               [
                "#636efa",
                "#ef553b"
               ],
               [
                "#636EFA",
                "#EF553B",
                "#00CC96",
                "#AB63FA",
                "#FFA15A",
                "#19D3F3",
                "#ef553b"
               ],
               [
                "#1F77B4",
                "#FF7F0E",
                "#2CA02C",
                "#D62728",
                "#9467BD",
                "#8C564B",
                "#ef553b"
               ],
               [
                "#636EFA",
                "#EF553B",
                "#00CC96",
                "#AB63FA",
                "#FFA15A",
                "#19D3F3",
                "#d3d3d3",
                "#ef553b"
               ]
              ],
              "values": [
               [
                56092251.721,
                79005659.279
               ],
               [
                10040000.08,
                3461000,
                7183910.336,
                34442046.305,
                965295,
                0,
                79005659.279
               ],
               [
                0,
                3060685.683,
                6493415.54,
                3508400,
                31867.38,
                739175,
                79005659.279
               ],
               [
                12194672.916000001,
                9940000.08,
                5978977.2809999995,
                5972821.64,
                3309224.68,
                2878289.987,
                15818265.137,
                79005659.279
               ]
              ]
             },
             {
              "annotations[0].text": "Global",
              "annotations[1].text": "Semana : 28<br>Presupuesto Total : $135,097,911.00<br>Gasto Total : $56,092,251.72<br>Disponible : $79,005,659.28",
              "annotations[2].text": "Etapas",
              "annotations[3].text": "Semana : 28<br>Presupuesto Total : $135,097,911.00<br>DEVELOPMENT: $10,040,000.08<br>POST: $3,461,000.00<br>PREP: $7,183,910.34<br>SHOOT: $34,442,046.30<br>SOFT: $965,295.00<br>WRAP: $0.00<br>Disponible : $79,005,659.28",
              "annotations[4].text": "Departamento",
              "annotations[5].text": "Semana : 28<br>Presupuesto Total : $135,097,911.00<br>ANDA: $0.00<br>ARTE: $3,060,685.68<br>BALU: $6,493,415.54<br>DINAMITA: $3,508,400.00<br>LOCACIONES: $31,867.38<br>NOM: $739,175.00<br>Disponible : $79,005,659.28",
              "annotations[6].text": "Cuenta General",
              "annotations[7].text": "Semana : 28<br>Presupuesto Total : $135,097,911.00<br>7000: $12,194,672.92<br>1100: $9,940,000.08<br>3400: $5,978,977.28<br>3600: $5,972,821.64<br>1200: $3,309,224.68<br>2400: $2,878,289.99<br>Otros: $15,818,265.14<br>Disponible : $79,005,659.28",
              "title": "Presupuesto vs Gasto – Semana ≤ 28"
             }
            ],
            "label": "28",
            "method": "update"
           },
           {
            "args": [
             {
              "labels": [
               [
                "Gastado",
                "Disponible"
               ],
               [
                "DEVELOPMENT",
                "POST",
                "PREP",
                "SHOOT",
                "SOFT (EXCESO)",
                "WRAP",
                "Disponible"
               ],
               [
                "ANDA",
                "ARTE",
                "BALU",
                "DINAMITA",
                "LOCACIONES",
                "NOM",
                "Disponible"
               ],
               [
                "7000",
                "1100",
                "3400",
                "3600",
                "1200",
                "2400",
                "Otros",
                "Disponible"
               ]
              ],
              "marker.colors": [
               [
                "#636efa",
                "#ef553b"
               ],
               [
                "#636EFA",
                "#EF553B",
                "#00CC96",
                "#AB63FA",
                "#FFA15A",
                "#19D3F3",
                "#ef553b"
               ],
               [
                "#1F77B4",
                "#FF7F0E",
                "#2CA02C",
                "#D62728",
                "#9467BD",
                "#8C564B",
                "#ef553b"
               ],
               [
                "#636EFA",
                "#EF553B",
                "#00CC96",
                "#AB63FA",
                "#FFA15A",
                "#19D3F3",
                "#d3d3d3",
                "#ef553b"
               ]
              ],
              "values": [
               [
                57353883.104,
                77744027.896
               ],
               [
                10040000.08,
                3679577.98,
                7381756.086,
                35287253.958000004,
                965295,
                0,
                77744027.896
               ],
               [
                0,
                3226889.803,
                6662476.03,
                3508400,
                542367.38,
                739175,
                77744027.896
               ],
               [
                12194672.916000001,
                9940000.08,
                6689910.109,
                5972821.64,
                3309224.68,
                2878289.987,
                16368963.692,
                77744027.896
               ]
              ]
             },
             {
              "annotations[0].text": "Global",
              "annotations[1].text": "Semana : 29<br>Presupuesto Total : $135,097,911.00<br>Gasto Total : $57,353,883.10<br>Disponible : $77,744,027.90",
              "annotations[2].text": "Etapas",
              "annotations[3].text": "Semana : 29<br>Presupuesto Total : $135,097,911.00<br>DEVELOPMENT: $10,040,000.08<br>POST: $3,679,577.98<br>PREP: $7,381,756.09<br>SHOOT: $35,287,253.96<br>SOFT: $965,295.00<br>WRAP: $0.00<br>Disponible : $77,744,027.90",
              "annotations[4].text": "Departamento",
              "annotations[5].text": "Semana : 29<br>Presupuesto Total : $135,097,911.00<br>ANDA: $0.00<br>ARTE: $3,226,889.80<br>BALU: $6,662,476.03<br>DINAMITA: $3,508,400.00<br>LOCACIONES: $542,367.38<br>NOM: $739,175.00<br>Disponible : $77,744,027.90",
              "annotations[6].text": "Cuenta General",
              "annotations[7].text": "Semana : 29<br>Presupuesto Total : $135,097,911.00<br>7000: $12,194,672.92<br>1100: $9,940,000.08<br>3400: $6,689,910.11<br>3600: $5,972,821.64<br>1200: $3,309,224.68<br>2400: $2,878,289.99<br>Otros: $16,368,963.69<br>Disponible : $77,744,027.90",
              "title": "Presupuesto vs Gasto – Semana ≤ 29"
             }
            ],
            "label": "29",
            "method": "update"
           },
           {
            "args": [
             {
              "labels": [
               [
                "Gastado",
                "Disponible"
               ],
               [
                "DEVELOPMENT",
                "POST",
                "PREP",
                "SHOOT",
                "SOFT (EXCESO)",
                "WRAP",
                "Disponible"
               ],
               [
                "ANDA",
                "ARTE",
                "BALU",
                "DINAMITA",
                "LOCACIONES",
                "NOM",
                "Disponible"
               ],
               [
                "7000",
                "1100",
                "3400",
                "3600",
                "2400",
                "1200",
                "Otros",
                "Disponible"
               ]
              ],
              "marker.colors": [
               [
                "#636efa",
                "#ef553b"
               ],
               [
                "#636EFA",
                "#EF553B",
                "#00CC96",
                "#AB63FA",
                "#FFA15A",
                "#19D3F3",
                "#ef553b"
               ],
               [
                "#1F77B4",
                "#FF7F0E",
                "#2CA02C",
                "#D62728",
                "#9467BD",
                "#8C564B",
                "#ef553b"
               ],
               [
                "#636EFA",
                "#EF553B",
                "#00CC96",
                "#AB63FA",
                "#FFA15A",
                "#19D3F3",
                "#d3d3d3",
                "#ef553b"
               ]
              ],
              "values": [
               [
                60591073.409,
                74506837.59099999
               ],
               [
                10040000.08,
                3679577.98,
                7879103.176,
                38027097.173,
                965295,
                0,
                74506837.59099999
               ],
               [
                0,
                3613669.973,
                6948006.49,
                3508400,
                542367.38,
                893375,
                74506837.59099999
               ],
               [
                12194672.916000001,
                9940000.08,
                6835853.949,
                6293352.1,
                3336995.8170000003,
                3309224.68,
                18680973.867000006,
                74506837.59099999
               ]
              ]
             },
             {
              "annotations[0].text": "Global",
              "annotations[1].text": "Semana : 30<br>Presupuesto Total : $135,097,911.00<br>Gasto Total : $60,591,073.41<br>Disponible : $74,506,837.59",
              "annotations[2].text": "Etapas",
              "annotations[3].text": "Semana : 30<br>Presupuesto Total : $135,097,911.00<br>DEVELOPMENT: $10,040,000.08<br>POST: $3,679,577.98<br>PREP: $7,879,103.18<br>SHOOT: $38,027,097.17<br>SOFT: $965,295.00<br>WRAP: $0.00<br>Disponible : $74,506,837.59",
              "annotations[4].text": "Departamento",
              "annotations[5].text": "Semana : 30<br>Presupuesto Total : $135,097,911.00<br>ANDA: $0.00<br>ARTE: $3,613,669.97<br>BALU: $6,948,006.49<br>DINAMITA: $3,508,400.00<br>LOCACIONES: $542,367.38<br>NOM: $893,375.00<br>Disponible : $74,506,837.59",
              "annotations[6].text": "Cuenta General",
              "annotations[7].text": "Semana : 30<br>Presupuesto Total : $135,097,911.00<br>7000: $12,194,672.92<br>1100: $9,940,000.08<br>3400: $6,835,853.95<br>3600: $6,293,352.10<br>2400: $3,336,995.82<br>1200: $3,309,224.68<br>Otros: $18,680,973.87<br>Disponible : $74,506,837.59",
              "title": "Presupuesto vs Gasto – Semana ≤ 30"
             }
            ],
            "label": "30",
            "method": "update"
           },
           {
            "args": [
             {
              "labels": [
               [
                "Gastado",
                "Disponible"
               ],
               [
                "DEVELOPMENT",
                "POST",
                "PREP",
                "SHOOT",
                "SOFT (EXCESO)",
                "WRAP",
                "Disponible"
               ],
               [
                "ANDA",
                "ARTE",
                "BALU",
                "DINAMITA",
                "LOCACIONES",
                "NOM",
                "Disponible"
               ],
               [
                "7000",
                "1100",
                "3400",
                "3600",
                "2400",
                "1200",
                "Otros",
                "Disponible"
               ]
              ],
              "marker.colors": [
               [
                "#636efa",
                "#ef553b"
               ],
               [
                "#636EFA",
                "#EF553B",
                "#00CC96",
                "#AB63FA",
                "#FFA15A",
                "#19D3F3",
                "#ef553b"
               ],
               [
                "#1F77B4",
                "#FF7F0E",
                "#2CA02C",
                "#D62728",
                "#9467BD",
                "#8C564B",
                "#ef553b"
               ],
               [
                "#636EFA",
                "#EF553B",
                "#00CC96",
                "#AB63FA",
                "#FFA15A",
                "#19D3F3",
                "#d3d3d3",
                "#ef553b"
               ]
              ],
              "values": [
               [
                67122576.785,
                67975334.215
               ],
               [
                10040000.08,
                4768162.45,
                8243952.075999999,
                43105167.179,
                965295,
                0,
                67975334.215
               ],
               [
                0,
                3978294.393,
                7305200.75,
                4796984.47,
                1958664.066,
                909875,
                67975334.215
               ],
               [
                12194672.916000001,
                9940000.08,
                8268650.635,
                6766865.37,
                3553797.467,
                3309224.68,
                23089365.637000006,
                67975334.215
               ]
              ]
             },
             {
              "annotations[0].text": "Global",
              "annotations[1].text": "Semana : 31<br>Presupuesto Total : $135,097,911.00<br>Gasto Total : $67,122,576.78<br>Disponible : $67,975,334.22",
              "annotations[2].text": "Etapas",
              "annotations[3].text": "Semana : 31<br>Presupuesto Total : $135,097,911.00<br>DEVELOPMENT: $10,040,000.08<br>POST: $4,768,162.45<br>PREP: $8,243,952.08<br>SHOOT: $43,105,167.18<br>SOFT: $965,295.00<br>WRAP: $0.00<br>Disponible : $67,975,334.22",
              "annotations[4].text": "Departamento",
              "annotations[5].text": "Semana : 31<br>Presupuesto Total : $135,097,911.00<br>ANDA: $0.00<br>ARTE: $3,978,294.39<br>BALU: $7,305,200.75<br>DINAMITA: $4,796,984.47<br>LOCACIONES: $1,958,664.07<br>NOM: $909,875.00<br>Disponible : $67,975,334.22",
              "annotations[6].text": "Cuenta General",
              "annotations[7].text": "Semana : 31<br>Presupuesto Total : $135,097,911.00<br>7000: $12,194,672.92<br>1100: $9,940,000.08<br>3400: $8,268,650.63<br>3600: $6,766,865.37<br>2400: $3,553,797.47<br>1200: $3,309,224.68<br>Otros: $23,089,365.64<br>Disponible : $67,975,334.22",
              "title": "Presupuesto vs Gasto – Semana ≤ 31"
             }
            ],
            "label": "31",
            "method": "update"
           },
           {
            "args": [
             {
              "labels": [
               [
                "Gastado",
                "Disponible"
               ],
               [
                "DEVELOPMENT",
                "POST",
                "PREP",
                "SHOOT",
                "SOFT (EXCESO)",
                "WRAP",
                "Disponible"
               ],
               [
                "ANDA",
                "ARTE",
                "BALU",
                "DINAMITA",
                "LOCACIONES",
                "NOM",
                "Disponible"
               ],
               [
                "7000",
                "1100",
                "3400",
                "3600",
                "1200",
                "2000",
                "Otros",
                "Disponible"
               ]
              ],
              "marker.colors": [
               [
                "#636efa",
                "#ef553b"
               ],
               [
                "#636EFA",
                "#EF553B",
                "#00CC96",
                "#AB63FA",
                "#FFA15A",
                "#19D3F3",
                "#ef553b"
               ],
               [
                "#1F77B4",
                "#FF7F0E",
                "#2CA02C",
                "#D62728",
                "#9467BD",
                "#8C564B",
                "#ef553b"
               ],
               [
                "#636EFA",
                "#EF553B",
                "#00CC96",
                "#AB63FA",
                "#FFA15A",
                "#19D3F3",
                "#d3d3d3",
                "#ef553b"
               ]
              ],
              "values": [
               [
                84730837.065,
                50367073.935
               ],
               [
                10040000.08,
                5675662.45,
                8484131.906,
                59547747.629,
                983295,
                0,
                50367073.935
               ],
               [
                0,
                4112953.273,
                7305200.75,
                4796984.47,
                2033664.066,
                3622073.66,
                50367073.935
               ],
               [
                12233172.916000001,
                9940000.08,
                9198093.655,
                6790865.37,
                6061719.09,
                5211973.102,
                35295012.852,
                50367073.935
               ]
              ]
             },
             {
              "annotations[0].text": "Global",
              "annotations[1].text": "Semana : 32<br>Presupuesto Total : $135,097,911.00<br>Gasto Total : $84,730,837.06<br>Disponible : $50,367,073.94",
              "annotations[2].text": "Etapas",
              "annotations[3].text": "Semana : 32<br>Presupuesto Total : $135,097,911.00<br>DEVELOPMENT: $10,040,000.08<br>POST: $5,675,662.45<br>PREP: $8,484,131.91<br>SHOOT: $59,547,747.63<br>SOFT: $983,295.00<br>WRAP: $0.00<br>Disponible : $50,367,073.94",
              "annotations[4].text": "Departamento",
              "annotations[5].text": "Semana : 32<br>Presupuesto Total : $135,097,911.00<br>ANDA: $0.00<br>ARTE: $4,112,953.27<br>BALU: $7,305,200.75<br>DINAMITA: $4,796,984.47<br>LOCACIONES: $2,033,664.07<br>NOM: $3,622,073.66<br>Disponible : $50,367,073.94",
              "annotations[6].text": "Cuenta General",
              "annotations[7].text": "Semana : 32<br>Presupuesto Total : $135,097,911.00<br>7000: $12,233,172.92<br>1100: $9,940,000.08<br>3400: $9,198,093.65<br>3600: $6,790,865.37<br>1200: $6,061,719.09<br>2000: $5,211,973.10<br>Otros: $35,295,012.85<br>Disponible : $50,367,073.94",
              "title": "Presupuesto vs Gasto – Semana ≤ 32"
             }
            ],
            "label": "32",
            "method": "update"
           },
           {
            "args": [
             {
              "labels": [
               [
                "Gastado",
                "Disponible"
               ],
               [
                "DEVELOPMENT",
                "POST",
                "PREP",
                "SHOOT",
                "SOFT (EXCESO)",
                "WRAP",
                "Disponible"
               ],
               [
                "ANDA (EXCESO)",
                "ARTE",
                "BALU",
                "DINAMITA",
                "LOCACIONES",
                "NOM",
                "Disponible"
               ],
               [
                "7000",
                "3400",
                "1100",
                "3100",
                "1200",
                "1400",
                "Otros",
                "Disponible"
               ]
              ],
              "marker.colors": [
               [
                "#636efa",
                "#ef553b"
               ],
               [
                "#636EFA",
                "#EF553B",
                "#00CC96",
                "#AB63FA",
                "#FFA15A",
                "#19D3F3",
                "#ef553b"
               ],
               [
                "#1F77B4",
                "#FF7F0E",
                "#2CA02C",
                "#D62728",
                "#9467BD",
                "#8C564B",
                "#ef553b"
               ],
               [
                "#636EFA",
                "#EF553B",
                "#00CC96",
                "#AB63FA",
                "#FFA15A",
                "#19D3F3",
                "#d3d3d3",
                "#ef553b"
               ]
              ],
              "values": [
               [
                101924120.26300001,
                33173790.73699999
               ],
               [
                10040000.08,
                5675662.45,
                8592131.906,
                76633030.827,
                983295,
                0,
                33173790.73699999
               ],
               [
                4282699.148,
                4150709.403,
                7394984.220000001,
                4796984.47,
                2651303.806,
                3695573.66,
                33173790.73699999
               ],
               [
                12233172.916000001,
                10259903.625,
                9940000.08,
                9315471.94,
                8211279.09,
                7565251.595000001,
                44399041.017000005,
                33173790.73699999
               ]
              ]
             },
             {
              "annotations[0].text": "Global",
              "annotations[1].text": "Semana : 33<br>Presupuesto Total : $135,097,911.00<br>Gasto Total : $101,924,120.26<br>Disponible : $33,173,790.74",
              "annotations[2].text": "Etapas",
              "annotations[3].text": "Semana : 33<br>Presupuesto Total : $135,097,911.00<br>DEVELOPMENT: $10,040,000.08<br>POST: $5,675,662.45<br>PREP: $8,592,131.91<br>SHOOT: $76,633,030.83<br>SOFT: $983,295.00<br>WRAP: $0.00<br>Disponible : $33,173,790.74",
              "annotations[4].text": "Departamento",
              "annotations[5].text": "Semana : 33<br>Presupuesto Total : $135,097,911.00<br>ANDA: $4,282,699.15<br>ARTE: $4,150,709.40<br>BALU: $7,394,984.22<br>DINAMITA: $4,796,984.47<br>LOCACIONES: $2,651,303.81<br>NOM: $3,695,573.66<br>Disponible : $33,173,790.74",
              "annotations[6].text": "Cuenta General",
              "annotations[7].text": "Semana : 33<br>Presupuesto Total : $135,097,911.00<br>7000: $12,233,172.92<br>3400: $10,259,903.62<br>1100: $9,940,000.08<br>3100: $9,315,471.94<br>1200: $8,211,279.09<br>1400: $7,565,251.60<br>Otros: $44,399,041.02<br>Disponible : $33,173,790.74",
              "title": "Presupuesto vs Gasto – Semana ≤ 33"
             }
            ],
            "label": "33",
            "method": "update"
           },
           {
            "args": [
             {
              "labels": [
               [
                "Gastado",
                "Disponible"
               ],
               [
                "DEVELOPMENT",
                "POST",
                "PREP",
                "SHOOT",
                "SOFT (EXCESO)",
                "WRAP",
                "Disponible"
               ],
               [
                "ANDA (EXCESO)",
                "ARTE",
                "BALU",
                "DINAMITA",
                "LOCACIONES",
                "NOM",
                "Disponible"
               ],
               [
                "7000",
                "3400",
                "1400",
                "1100 (EXCESO)",
                "3100",
                "1200",
                "Otros",
                "Disponible"
               ]
              ],
              "marker.colors": [
               [
                "#636efa",
                "#ef553b"
               ],
               [
                "#636EFA",
                "#EF553B",
                "#00CC96",
                "#AB63FA",
                "#FFA15A",
                "#19D3F3",
                "#ef553b"
               ],
               [
                "#1F77B4",
                "#FF7F0E",
                "#2CA02C",
                "#D62728",
                "#9467BD",
                "#8C564B",
                "#ef553b"
               ],
               [
                "#636EFA",
                "#EF553B",
                "#00CC96",
                "#AB63FA",
                "#FFA15A",
                "#19D3F3",
                "#d3d3d3",
                "#ef553b"
               ]
              ],
              "values": [
               [
                110047921.433,
                25049989.567
               ],
               [
                10165540.08,
                5978662.45,
                8871812.276,
                84048611.627,
                983295,
                0,
                25049989.567
               ],
               [
                5323549.098,
                4529453.173,
                7394984.220000001,
                4796984.47,
                3565890.016,
                4913169.48,
                25049989.567
               ],
               [
                12266712.916000001,
                11547585.165,
                10450374.805,
                10065000.08,
                9737563.57,
                8211279.09,
                47769405.807,
                25049989.567
               ]
              ]
             },
             {
              "annotations[0].text": "Global",
              "annotations[1].text": "Semana : 34<br>Presupuesto Total : $135,097,911.00<br>Gasto Total : $110,047,921.43<br>Disponible : $25,049,989.57",
              "annotations[2].text": "Etapas",
              "annotations[3].text": "Semana : 34<br>Presupuesto Total : $135,097,911.00<br>DEVELOPMENT: $10,165,540.08<br>POST: $5,978,662.45<br>PREP: $8,871,812.28<br>SHOOT: $84,048,611.63<br>SOFT: $983,295.00<br>WRAP: $0.00<br>Disponible : $25,049,989.57",
              "annotations[4].text": "Departamento",
              "annotations[5].text": "Semana : 34<br>Presupuesto Total : $135,097,911.00<br>ANDA: $5,323,549.10<br>ARTE: $4,529,453.17<br>BALU: $7,394,984.22<br>DINAMITA: $4,796,984.47<br>LOCACIONES: $3,565,890.02<br>NOM: $4,913,169.48<br>Disponible : $25,049,989.57",
              "annotations[6].text": "Cuenta General",
              "annotations[7].text": "Semana : 34<br>Presupuesto Total : $135,097,911.00<br>7000: $12,266,712.92<br>3400: $11,547,585.16<br>1400: $10,450,374.80<br>1100: $10,065,000.08<br>3100: $9,737,563.57<br>1200: $8,211,279.09<br>Otros: $47,769,405.81<br>Disponible : $25,049,989.57",
              "title": "Presupuesto vs Gasto – Semana ≤ 34"
             }
            ],
            "label": "34",
            "method": "update"
           },
           {
            "args": [
             {
              "labels": [
               [
                "Gastado",
                "Disponible"
               ],
               [
                "DEVELOPMENT",
                "POST",
                "PREP",
                "SHOOT",
                "SOFT (EXCESO)",
                "WRAP",
                "Disponible"
               ],
               [
                "ANDA (EXCESO)",
                "ARTE",
                "BALU (EXCESO)",
                "DINAMITA",
                "LOCACIONES",
                "NOM",
                "Disponible"
               ],
               [
                "7000",
                "3400",
                "1400",
                "1100 (EXCESO)",
                "3100",
                "1200",
                "Otros",
                "Disponible"
               ]
              ],
              "marker.colors": [
               [
                "#636efa",
                "#ef553b"
               ],
               [
                "#636EFA",
                "#EF553B",
                "#00CC96",
                "#AB63FA",
                "#FFA15A",
                "#19D3F3",
                "#ef553b"
               ],
               [
                "#1F77B4",
                "#FF7F0E",
                "#2CA02C",
                "#D62728",
                "#9467BD",
                "#8C564B",
                "#ef553b"
               ],
               [
                "#636EFA",
                "#EF553B",
                "#00CC96",
                "#AB63FA",
                "#FFA15A",
                "#19D3F3",
                "#d3d3d3",
                "#ef553b"
               ]
              ],
              "values": [
               [
                115590722.373,
                19507188.627000004
               ],
               [
                10165540.08,
                9634762.45,
                8904812.276,
                85902312.567,
                983295,
                0,
                19507188.627000004
               ],
               [
                5555568.928,
                4550053.173,
                7467982.220000001,
                8672334.47,
                3595890.016,
                4913169.48,
                19507188.627000004
               ],
               [
                12266712.916000001,
                11592585.165,
                10604890.375,
                10065000.08,
                9951463.57,
                8640279.09,
                52469791.17699999,
                19507188.627000004
               ]
              ]
             },
             {
              "annotations[0].text": "Global",
              "annotations[1].text": "Semana : 35<br>Presupuesto Total : $135,097,911.00<br>Gasto Total : $115,590,722.37<br>Disponible : $19,507,188.63",
              "annotations[2].text": "Etapas",
              "annotations[3].text": "Semana : 35<br>Presupuesto Total : $135,097,911.00<br>DEVELOPMENT: $10,165,540.08<br>POST: $9,634,762.45<br>PREP: $8,904,812.28<br>SHOOT: $85,902,312.57<br>SOFT: $983,295.00<br>WRAP: $0.00<br>Disponible : $19,507,188.63",
              "annotations[4].text": "Departamento",
              "annotations[5].text": "Semana : 35<br>Presupuesto Total : $135,097,911.00<br>ANDA: $5,555,568.93<br>ARTE: $4,550,053.17<br>BALU: $7,467,982.22<br>DINAMITA: $8,672,334.47<br>LOCACIONES: $3,595,890.02<br>NOM: $4,913,169.48<br>Disponible : $19,507,188.63",
              "annotations[6].text": "Cuenta General",
              "annotations[7].text": "Semana : 35<br>Presupuesto Total : $135,097,911.00<br>7000: $12,266,712.92<br>3400: $11,592,585.16<br>1400: $10,604,890.38<br>1100: $10,065,000.08<br>3100: $9,951,463.57<br>1200: $8,640,279.09<br>Otros: $52,469,791.18<br>Disponible : $19,507,188.63",
              "title": "Presupuesto vs Gasto – Semana ≤ 35"
             }
            ],
            "label": "35",
            "method": "update"
           },
           {
            "args": [
             {
              "labels": [
               [
                "Gastado",
                "Disponible"
               ],
               [
                "DEVELOPMENT",
                "POST",
                "PREP",
                "SHOOT",
                "SOFT (EXCESO)",
                "WRAP",
                "Disponible"
               ],
               [
                "ANDA (EXCESO)",
                "ARTE",
                "BALU (EXCESO)",
                "DINAMITA",
                "LOCACIONES",
                "NOM",
                "Disponible"
               ],
               [
                "7000",
                "3400",
                "3100",
                "1400",
                "1100 (EXCESO)",
                "1200",
                "Otros",
                "Disponible"
               ]
              ],
              "marker.colors": [
               [
                "#636efa",
                "#ef553b"
               ],
               [
                "#636EFA",
                "#EF553B",
                "#00CC96",
                "#AB63FA",
                "#FFA15A",
                "#19D3F3",
                "#ef553b"
               ],
               [
                "#1F77B4",
                "#FF7F0E",
                "#2CA02C",
                "#D62728",
                "#9467BD",
                "#8C564B",
                "#ef553b"
               ],
               [
                "#636EFA",
                "#EF553B",
                "#00CC96",
                "#AB63FA",
                "#FFA15A",
                "#19D3F3",
                "#d3d3d3",
                "#ef553b"
               ]
              ],
              "values": [
               [
                119209825.323,
                15888085.677000001
               ],
               [
                10165540.08,
                9634762.45,
                8915895.606,
                89459760.327,
                983295,
                50571.86,
                15888085.677000001
               ],
               [
                5555568.928,
                4575023.633,
                7588948.22,
                8672334.47,
                3800640.016,
                5721527.27,
                15888085.677000001
               ],
               [
                12299654.466,
                11902261.035,
                11309129.89,
                10972805.375,
                10065000.08,
                8640279.09,
                54020695.386999995,
                15888085.677000001
               ]
              ]
             },
             {
              "annotations[0].text": "Global",
              "annotations[1].text": "Semana : 36<br>Presupuesto Total : $135,097,911.00<br>Gasto Total : $119,209,825.32<br>Disponible : $15,888,085.68",
              "annotations[2].text": "Etapas",
              "annotations[3].text": "Semana : 36<br>Presupuesto Total : $135,097,911.00<br>DEVELOPMENT: $10,165,540.08<br>POST: $9,634,762.45<br>PREP: $8,915,895.61<br>SHOOT: $89,459,760.33<br>SOFT: $983,295.00<br>WRAP: $50,571.86<br>Disponible : $15,888,085.68",
              "annotations[4].text": "Departamento",
              "annotations[5].text": "Semana : 36<br>Presupuesto Total : $135,097,911.00<br>ANDA: $5,555,568.93<br>ARTE: $4,575,023.63<br>BALU: $7,588,948.22<br>DINAMITA: $8,672,334.47<br>LOCACIONES: $3,800,640.02<br>NOM: $5,721,527.27<br>Disponible : $15,888,085.68",
              "annotations[6].text": "Cuenta General",
              "annotations[7].text": "Semana : 36<br>Presupuesto Total : $135,097,911.00<br>7000: $12,299,654.47<br>3400: $11,902,261.04<br>3100: $11,309,129.89<br>1400: $10,972,805.38<br>1100: $10,065,000.08<br>1200: $8,640,279.09<br>Otros: $54,020,695.39<br>Disponible : $15,888,085.68",
              "title": "Presupuesto vs Gasto – Semana ≤ 36"
             }
            ],
            "label": "36",
            "method": "update"
           },
           {
            "args": [
             {
              "labels": [
               [
                "Gastado",
                "Disponible"
               ],
               [
                "DEVELOPMENT",
                "POST",
                "PREP",
                "SHOOT",
                "SOFT (EXCESO)",
                "WRAP",
                "Disponible"
               ],
               [
                "ANDA (EXCESO)",
                "ARTE",
                "BALU (EXCESO)",
                "DINAMITA",
                "LOCACIONES",
                "NOM",
                "Disponible"
               ],
               [
                "7000",
                "3400",
                "1400",
                "3100",
                "1100 (EXCESO)",
                "1200",
                "Otros",
                "Disponible"
               ]
              ],
              "marker.colors": [
               [
                "#636efa",
                "#ef553b"
               ],
               [
                "#636EFA",
                "#EF553B",
                "#00CC96",
                "#AB63FA",
                "#FFA15A",
                "#19D3F3",
                "#ef553b"
               ],
               [
                "#1F77B4",
                "#FF7F0E",
                "#2CA02C",
                "#D62728",
                "#9467BD",
                "#8C564B",
                "#ef553b"
               ],
               [
                "#636EFA",
                "#EF553B",
                "#00CC96",
                "#AB63FA",
                "#FFA15A",
                "#19D3F3",
                "#d3d3d3",
                "#ef553b"
               ]
              ],
              "values": [
               [
                120761267.22299999,
                14336643.77700001
               ],
               [
                10165540.08,
                9634762.45,
                8915895.606,
                91011202.227,
                983295,
                50571.86,
                14336643.77700001
               ],
               [
                5557620.228,
                4575023.633,
                7588948.22,
                8672334.47,
                3840640.016,
                5721527.27,
                14336643.77700001
               ],
               [
                12505084.506000001,
                11942261.035,
                11356099.675,
                11309129.89,
                10065000.08,
                8640279.09,
                54943412.94699999,
                14336643.77700001
               ]
              ]
             },
             {
              "annotations[0].text": "Global",
              "annotations[1].text": "Semana : 37<br>Presupuesto Total : $135,097,911.00<br>Gasto Total : $120,761,267.22<br>Disponible : $14,336,643.78",
              "annotations[2].text": "Etapas",
              "annotations[3].text": "Semana : 37<br>Presupuesto Total : $135,097,911.00<br>DEVELOPMENT: $10,165,540.08<br>POST: $9,634,762.45<br>PREP: $8,915,895.61<br>SHOOT: $91,011,202.23<br>SOFT: $983,295.00<br>WRAP: $50,571.86<br>Disponible : $14,336,643.78",
              "annotations[4].text": "Departamento",
              "annotations[5].text": "Semana : 37<br>Presupuesto Total : $135,097,911.00<br>ANDA: $5,557,620.23<br>ARTE: $4,575,023.63<br>BALU: $7,588,948.22<br>DINAMITA: $8,672,334.47<br>LOCACIONES: $3,840,640.02<br>NOM: $5,721,527.27<br>Disponible : $14,336,643.78",
              "annotations[6].text": "Cuenta General",
              "annotations[7].text": "Semana : 37<br>Presupuesto Total : $135,097,911.00<br>7000: $12,505,084.51<br>3400: $11,942,261.04<br>1400: $11,356,099.68<br>3100: $11,309,129.89<br>1100: $10,065,000.08<br>1200: $8,640,279.09<br>Otros: $54,943,412.95<br>Disponible : $14,336,643.78",
              "title": "Presupuesto vs Gasto – Semana ≤ 37"
             }
            ],
            "label": "37",
            "method": "update"
           },
           {
            "args": [
             {
              "labels": [
               [
                "Gastado",
                "Disponible"
               ],
               [
                "DEVELOPMENT",
                "POST",
                "PREP",
                "SHOOT",
                "SOFT (EXCESO)",
                "WRAP",
                "Disponible"
               ],
               [
                "ANDA (EXCESO)",
                "ARTE",
                "BALU (EXCESO)",
                "DINAMITA",
                "LOCACIONES",
                "NOM",
                "Disponible"
               ],
               [
                "7000",
                "3400",
                "1400",
                "3100",
                "1100 (EXCESO)",
                "1200",
                "Otros",
                "Disponible"
               ]
              ],
              "marker.colors": [
               [
                "#636efa",
                "#ef553b"
               ],
               [
                "#636EFA",
                "#EF553B",
                "#00CC96",
                "#AB63FA",
                "#FFA15A",
                "#19D3F3",
                "#ef553b"
               ],
               [
                "#1F77B4",
                "#FF7F0E",
                "#2CA02C",
                "#D62728",
                "#9467BD",
                "#8C564B",
                "#ef553b"
               ],
               [
                "#636EFA",
                "#EF553B",
                "#00CC96",
                "#AB63FA",
                "#FFA15A",
                "#19D3F3",
                "#d3d3d3",
                "#ef553b"
               ]
              ],
              "values": [
               [
                121827304.64299998,
                13270606.357000023
               ],
               [
                10165540.08,
                9634762.45,
                8948445.606,
                91796689.647,
                983295,
                298571.86,
                13270606.357000023
               ],
               [
                5572146.578,
                4781005.733,
                7588948.22,
                8672334.47,
                4059281.946,
                5783827.27,
                13270606.357000023
               ],
               [
                12527084.506000001,
                12175943.965,
                11466952.025,
                11309129.89,
                10065000.08,
                8640279.09,
                55642915.08699999,
                13270606.357000023
               ]
              ]
             },
             {
              "annotations[0].text": "Global",
              "annotations[1].text": "Semana : 38<br>Presupuesto Total : $135,097,911.00<br>Gasto Total : $121,827,304.64<br>Disponible : $13,270,606.36",
              "annotations[2].text": "Etapas",
              "annotations[3].text": "Semana : 38<br>Presupuesto Total : $135,097,911.00<br>DEVELOPMENT: $10,165,540.08<br>POST: $9,634,762.45<br>PREP: $8,948,445.61<br>SHOOT: $91,796,689.65<br>SOFT: $983,295.00<br>WRAP: $298,571.86<br>Disponible : $13,270,606.36",
              "annotations[4].text": "Departamento",
              "annotations[5].text": "Semana : 38<br>Presupuesto Total : $135,097,911.00<br>ANDA: $5,572,146.58<br>ARTE: $4,781,005.73<br>BALU: $7,588,948.22<br>DINAMITA: $8,672,334.47<br>LOCACIONES: $4,059,281.95<br>NOM: $5,783,827.27<br>Disponible : $13,270,606.36",
              "annotations[6].text": "Cuenta General",
              "annotations[7].text": "Semana : 38<br>Presupuesto Total : $135,097,911.00<br>7000: $12,527,084.51<br>3400: $12,175,943.96<br>1400: $11,466,952.03<br>3100: $11,309,129.89<br>1100: $10,065,000.08<br>1200: $8,640,279.09<br>Otros: $55,642,915.09<br>Disponible : $13,270,606.36",
              "title": "Presupuesto vs Gasto – Semana ≤ 38"
             }
            ],
            "label": "38",
            "method": "update"
           },
           {
            "args": [
             {
              "labels": [
               [
                "Gastado",
                "Disponible"
               ],
               [
                "DEVELOPMENT",
                "POST",
                "PREP",
                "SHOOT",
                "SOFT (EXCESO)",
                "WRAP",
                "Disponible"
               ],
               [
                "ANDA (EXCESO)",
                "ARTE",
                "BALU (EXCESO)",
                "DINAMITA",
                "LOCACIONES",
                "NOM",
                "Disponible"
               ],
               [
                "1400 (EXCESO)",
                "7000",
                "3400",
                "3100 (EXCESO)",
                "1100 (EXCESO)",
                "1200",
                "Otros",
                "Disponible"
               ]
              ],
              "marker.colors": [
               [
                "#636efa",
                "#ef553b"
               ],
               [
                "#636EFA",
                "#EF553B",
                "#00CC96",
                "#AB63FA",
                "#FFA15A",
                "#19D3F3",
                "#ef553b"
               ],
               [
                "#1F77B4",
                "#FF7F0E",
                "#2CA02C",
                "#D62728",
                "#9467BD",
                "#8C564B",
                "#ef553b"
               ],
               [
                "#636EFA",
                "#EF553B",
                "#00CC96",
                "#AB63FA",
                "#FFA15A",
                "#19D3F3",
                "#d3d3d3",
                "#ef553b"
               ]
              ],
              "values": [
               [
                125371793.95299998,
                9726117.04700002
               ],
               [
                10165540.08,
                9634762.45,
                8964445.606,
                93867246.037,
                983295,
                1756504.78,
                9726117.04700002
               ],
               [
                5706588.498,
                4781005.733,
                7588948.22,
                8672334.47,
                4061437.116,
                6467972.04,
                9726117.04700002
               ],
               [
                12643852.025,
                12527084.506000001,
                12227099.135,
                11486361.870000001,
                10065000.08,
                8812029.09,
                57610367.24699999,
                9726117.04700002
               ]
              ]
             },
             {
              "annotations[0].text": "Global",
              "annotations[1].text": "Semana : 39<br>Presupuesto Total : $135,097,911.00<br>Gasto Total : $125,371,793.95<br>Disponible : $9,726,117.05",
              "annotations[2].text": "Etapas",
              "annotations[3].text": "Semana : 39<br>Presupuesto Total : $135,097,911.00<br>DEVELOPMENT: $10,165,540.08<br>POST: $9,634,762.45<br>PREP: $8,964,445.61<br>SHOOT: $93,867,246.04<br>SOFT: $983,295.00<br>WRAP: $1,756,504.78<br>Disponible : $9,726,117.05",
              "annotations[4].text": "Departamento",
              "annotations[5].text": "Semana : 39<br>Presupuesto Total : $135,097,911.00<br>ANDA: $5,706,588.50<br>ARTE: $4,781,005.73<br>BALU: $7,588,948.22<br>DINAMITA: $8,672,334.47<br>LOCACIONES: $4,061,437.12<br>NOM: $6,467,972.04<br>Disponible : $9,726,117.05",
              "annotations[6].text": "Cuenta General",
              "annotations[7].text": "Semana : 39<br>Presupuesto Total : $135,097,911.00<br>1400: $12,643,852.03<br>7000: $12,527,084.51<br>3400: $12,227,099.13<br>3100: $11,486,361.87<br>1100: $10,065,000.08<br>1200: $8,812,029.09<br>Otros: $57,610,367.25<br>Disponible : $9,726,117.05",
              "title": "Presupuesto vs Gasto – Semana ≤ 39"
             }
            ],
            "label": "39",
            "method": "update"
           },
           {
            "args": [
             {
              "labels": [
               [
                "Gastado",
                "Disponible"
               ],
               [
                "DEVELOPMENT",
                "POST",
                "PREP",
                "SHOOT",
                "SOFT (EXCESO)",
                "WRAP",
                "Disponible"
               ],
               [
                "ANDA (EXCESO)",
                "ARTE",
                "BALU (EXCESO)",
                "DINAMITA",
                "LOCACIONES",
                "NOM",
                "Disponible"
               ],
               [
                "1400 (EXCESO)",
                "7000",
                "3400",
                "3100 (EXCESO)",
                "1100 (EXCESO)",
                "1200",
                "Otros",
                "Disponible"
               ]
              ],
              "marker.colors": [
               [
                "#636efa",
                "#ef553b"
               ],
               [
                "#636EFA",
                "#EF553B",
                "#00CC96",
                "#AB63FA",
                "#FFA15A",
                "#19D3F3",
                "#ef553b"
               ],
               [
                "#1F77B4",
                "#FF7F0E",
                "#2CA02C",
                "#D62728",
                "#9467BD",
                "#8C564B",
                "#ef553b"
               ],
               [
                "#636EFA",
                "#EF553B",
                "#00CC96",
                "#AB63FA",
                "#FFA15A",
                "#19D3F3",
                "#d3d3d3",
                "#ef553b"
               ]
              ],
              "values": [
               [
                126525043.95299998,
                8572867.04700002
               ],
               [
                10165540.08,
                9634762.45,
                8998445.606,
                94954496.037,
                983295,
                1788504.78,
                8572867.04700002
               ],
               [
                5706588.498,
                4817005.733,
                7588948.22,
                8672334.47,
                4201437.116,
                6475472.04,
                8572867.04700002
               ],
               [
                13583602.025,
                12527084.506000001,
                12367099.135,
                11486361.870000001,
                10065000.08,
                8812029.09,
                57683867.24699999,
                8572867.04700002
               ]
              ]
             },
             {
              "annotations[0].text": "Global",
              "annotations[1].text": "Semana : 40<br>Presupuesto Total : $135,097,911.00<br>Gasto Total : $126,525,043.95<br>Disponible : $8,572,867.05",
              "annotations[2].text": "Etapas",
              "annotations[3].text": "Semana : 40<br>Presupuesto Total : $135,097,911.00<br>DEVELOPMENT: $10,165,540.08<br>POST: $9,634,762.45<br>PREP: $8,998,445.61<br>SHOOT: $94,954,496.04<br>SOFT: $983,295.00<br>WRAP: $1,788,504.78<br>Disponible : $8,572,867.05",
              "annotations[4].text": "Departamento",
              "annotations[5].text": "Semana : 40<br>Presupuesto Total : $135,097,911.00<br>ANDA: $5,706,588.50<br>ARTE: $4,817,005.73<br>BALU: $7,588,948.22<br>DINAMITA: $8,672,334.47<br>LOCACIONES: $4,201,437.12<br>NOM: $6,475,472.04<br>Disponible : $8,572,867.05",
              "annotations[6].text": "Cuenta General",
              "annotations[7].text": "Semana : 40<br>Presupuesto Total : $135,097,911.00<br>1400: $13,583,602.03<br>7000: $12,527,084.51<br>3400: $12,367,099.13<br>3100: $11,486,361.87<br>1100: $10,065,000.08<br>1200: $8,812,029.09<br>Otros: $57,683,867.25<br>Disponible : $8,572,867.05",
              "title": "Presupuesto vs Gasto – Semana ≤ 40"
             }
            ],
            "label": "40",
            "method": "update"
           },
           {
            "args": [
             {
              "labels": [
               [
                "Gastado",
                "Disponible"
               ],
               [
                "DEVELOPMENT",
                "POST",
                "PREP",
                "SHOOT",
                "SOFT (EXCESO)",
                "WRAP",
                "Disponible"
               ],
               [
                "ANDA (EXCESO)",
                "ARTE",
                "BALU (EXCESO)",
                "DINAMITA",
                "LOCACIONES",
                "NOM",
                "Disponible"
               ],
               [
                "1400 (EXCESO)",
                "7000",
                "3400",
                "3100 (EXCESO)",
                "1100 (EXCESO)",
                "1200",
                "Otros",
                "Disponible"
               ]
              ],
              "marker.colors": [
               [
                "#636efa",
                "#ef553b"
               ],
               [
                "#636EFA",
                "#EF553B",
                "#00CC96",
                "#AB63FA",
                "#FFA15A",
                "#19D3F3",
                "#ef553b"
               ],
               [
                "#1F77B4",
                "#FF7F0E",
                "#2CA02C",
                "#D62728",
                "#9467BD",
                "#8C564B",
                "#ef553b"
               ],
               [
                "#636EFA",
                "#EF553B",
                "#00CC96",
                "#AB63FA",
                "#FFA15A",
                "#19D3F3",
                "#d3d3d3",
                "#ef553b"
               ]
              ],
              "values": [
               [
                128440169.963,
                6657741.0370000005
               ],
               [
                10165540.08,
                9656762.45,
                9058826.556,
                96153165.397,
                983295,
                2422580.48,
                6657741.0370000005
               ],
               [
                5706588.498,
                4817005.733,
                7609448.22,
                8672334.47,
                4261437.116,
                6819550.69,
                6657741.0370000005
               ],
               [
                13864068.025,
                13124561.866,
                12701169.135,
                11486361.870000001,
                10065000.08,
                9214029.09,
                57984979.89699998,
                6657741.0370000005
               ]
              ]
             },
             {
              "annotations[0].text": "Global",
              "annotations[1].text": "Semana : 41<br>Presupuesto Total : $135,097,911.00<br>Gasto Total : $128,440,169.96<br>Disponible : $6,657,741.04",
              "annotations[2].text": "Etapas",
              "annotations[3].text": "Semana : 41<br>Presupuesto Total : $135,097,911.00<br>DEVELOPMENT: $10,165,540.08<br>POST: $9,656,762.45<br>PREP: $9,058,826.56<br>SHOOT: $96,153,165.40<br>SOFT: $983,295.00<br>WRAP: $2,422,580.48<br>Disponible : $6,657,741.04",
              "annotations[4].text": "Departamento",
              "annotations[5].text": "Semana : 41<br>Presupuesto Total : $135,097,911.00<br>ANDA: $5,706,588.50<br>ARTE: $4,817,005.73<br>BALU: $7,609,448.22<br>DINAMITA: $8,672,334.47<br>LOCACIONES: $4,261,437.12<br>NOM: $6,819,550.69<br>Disponible : $6,657,741.04",
              "annotations[6].text": "Cuenta General",
              "annotations[7].text": "Semana : 41<br>Presupuesto Total : $135,097,911.00<br>1400: $13,864,068.03<br>7000: $13,124,561.87<br>3400: $12,701,169.13<br>3100: $11,486,361.87<br>1100: $10,065,000.08<br>1200: $9,214,029.09<br>Otros: $57,984,979.90<br>Disponible : $6,657,741.04",
              "title": "Presupuesto vs Gasto – Semana ≤ 41"
             }
            ],
            "label": "41",
            "method": "update"
           },
           {
            "args": [
             {
              "labels": [
               [
                "Gastado",
                "Disponible"
               ],
               [
                "DEVELOPMENT",
                "POST",
                "PREP",
                "SHOOT",
                "SOFT (EXCESO)",
                "WRAP",
                "Disponible"
               ],
               [
                "ANDA (EXCESO)",
                "ARTE",
                "BALU (EXCESO)",
                "DINAMITA",
                "LOCACIONES",
                "NOM",
                "Disponible"
               ],
               [
                "1400 (EXCESO)",
                "7000",
                "3400",
                "3100 (EXCESO)",
                "1100 (EXCESO)",
                "1200",
                "Otros",
                "Disponible"
               ]
              ],
              "marker.colors": [
               [
                "#636efa",
                "#ef553b"
               ],
               [
                "#636EFA",
                "#EF553B",
                "#00CC96",
                "#AB63FA",
                "#FFA15A",
                "#19D3F3",
                "#ef553b"
               ],
               [
                "#1F77B4",
                "#FF7F0E",
                "#2CA02C",
                "#D62728",
                "#9467BD",
                "#8C564B",
                "#ef553b"
               ],
               [
                "#636EFA",
                "#EF553B",
                "#00CC96",
                "#AB63FA",
                "#FFA15A",
                "#19D3F3",
                "#d3d3d3",
                "#ef553b"
               ]
              ],
              "values": [
               [
                128806535.403,
                6291375.597000003
               ],
               [
                10165540.08,
                9985762.45,
                9063159.886,
                96179040.107,
                983295,
                2429737.88,
                6291375.597000003
               ],
               [
                5706588.498,
                4817005.733,
                7609448.22,
                8672334.47,
                4270057.826,
                6840662.09,
                6291375.597000003
               ],
               [
                13871522.025,
                13124561.866,
                12709789.845,
                11490695.2,
                10065000.08,
                9214029.09,
                58330937.29699998,
                6291375.597000003
               ]
              ]
             },
             {
              "annotations[0].text": "Global",
              "annotations[1].text": "Semana : 42<br>Presupuesto Total : $135,097,911.00<br>Gasto Total : $128,806,535.40<br>Disponible : $6,291,375.60",
              "annotations[2].text": "Etapas",
              "annotations[3].text": "Semana : 42<br>Presupuesto Total : $135,097,911.00<br>DEVELOPMENT: $10,165,540.08<br>POST: $9,985,762.45<br>PREP: $9,063,159.89<br>SHOOT: $96,179,040.11<br>SOFT: $983,295.00<br>WRAP: $2,429,737.88<br>Disponible : $6,291,375.60",
              "annotations[4].text": "Departamento",
              "annotations[5].text": "Semana : 42<br>Presupuesto Total : $135,097,911.00<br>ANDA: $5,706,588.50<br>ARTE: $4,817,005.73<br>BALU: $7,609,448.22<br>DINAMITA: $8,672,334.47<br>LOCACIONES: $4,270,057.83<br>NOM: $6,840,662.09<br>Disponible : $6,291,375.60",
              "annotations[6].text": "Cuenta General",
              "annotations[7].text": "Semana : 42<br>Presupuesto Total : $135,097,911.00<br>1400: $13,871,522.03<br>7000: $13,124,561.87<br>3400: $12,709,789.85<br>3100: $11,490,695.20<br>1100: $10,065,000.08<br>1200: $9,214,029.09<br>Otros: $58,330,937.30<br>Disponible : $6,291,375.60",
              "title": "Presupuesto vs Gasto – Semana ≤ 42"
             }
            ],
            "label": "42",
            "method": "update"
           },
           {
            "args": [
             {
              "labels": [
               [
                "Gastado",
                "Disponible"
               ],
               [
                "DEVELOPMENT",
                "POST",
                "PREP",
                "SHOOT",
                "SOFT (EXCESO)",
                "WRAP",
                "Disponible"
               ],
               [
                "ANDA (EXCESO)",
                "ARTE",
                "BALU (EXCESO)",
                "DINAMITA",
                "LOCACIONES",
                "NOM",
                "Disponible"
               ],
               [
                "1400 (EXCESO)",
                "7000",
                "3400",
                "3100 (EXCESO)",
                "1100 (EXCESO)",
                "1200",
                "Otros",
                "Disponible"
               ]
              ],
              "marker.colors": [
               [
                "#636efa",
                "#ef553b"
               ],
               [
                "#636EFA",
                "#EF553B",
                "#00CC96",
                "#AB63FA",
                "#FFA15A",
                "#19D3F3",
                "#ef553b"
               ],
               [
                "#1F77B4",
                "#FF7F0E",
                "#2CA02C",
                "#D62728",
                "#9467BD",
                "#8C564B",
                "#ef553b"
               ],
               [
                "#636EFA",
                "#EF553B",
                "#00CC96",
                "#AB63FA",
                "#FFA15A",
                "#19D3F3",
                "#d3d3d3",
                "#ef553b"
               ]
              ],
              "values": [
               [
                129014716.403,
                6083194.597000003
               ],
               [
                10165540.08,
                9985762.45,
                9068159.886,
                96382221.107,
                983295,
                2429737.88,
                6083194.597000003
               ],
               [
                5706588.498,
                4817005.733,
                7609448.22,
                8672334.47,
                4270057.826,
                6845662.09,
                6083194.597000003
               ],
               [
                13899922.025,
                13124561.866,
                12709789.845,
                11495695.2,
                10065000.08,
                9214029.09,
                58505718.29699998,
                6083194.597000003
               ]
              ]
             },
             {
              "annotations[0].text": "Global",
              "annotations[1].text": "Semana : 43<br>Presupuesto Total : $135,097,911.00<br>Gasto Total : $129,014,716.40<br>Disponible : $6,083,194.60",
              "annotations[2].text": "Etapas",
              "annotations[3].text": "Semana : 43<br>Presupuesto Total : $135,097,911.00<br>DEVELOPMENT: $10,165,540.08<br>POST: $9,985,762.45<br>PREP: $9,068,159.89<br>SHOOT: $96,382,221.11<br>SOFT: $983,295.00<br>WRAP: $2,429,737.88<br>Disponible : $6,083,194.60",
              "annotations[4].text": "Departamento",
              "annotations[5].text": "Semana : 43<br>Presupuesto Total : $135,097,911.00<br>ANDA: $5,706,588.50<br>ARTE: $4,817,005.73<br>BALU: $7,609,448.22<br>DINAMITA: $8,672,334.47<br>LOCACIONES: $4,270,057.83<br>NOM: $6,845,662.09<br>Disponible : $6,083,194.60",
              "annotations[6].text": "Cuenta General",
              "annotations[7].text": "Semana : 43<br>Presupuesto Total : $135,097,911.00<br>1400: $13,899,922.03<br>7000: $13,124,561.87<br>3400: $12,709,789.85<br>3100: $11,495,695.20<br>1100: $10,065,000.08<br>1200: $9,214,029.09<br>Otros: $58,505,718.30<br>Disponible : $6,083,194.60",
              "title": "Presupuesto vs Gasto – Semana ≤ 43"
             }
            ],
            "label": "43",
            "method": "update"
           },
           {
            "args": [
             {
              "labels": [
               [
                "Gastado",
                "Disponible"
               ],
               [
                "DEVELOPMENT",
                "POST",
                "PREP",
                "SHOOT",
                "SOFT (EXCESO)",
                "WRAP",
                "Disponible"
               ],
               [
                "ANDA (EXCESO)",
                "ARTE",
                "BALU (EXCESO)",
                "DINAMITA",
                "LOCACIONES",
                "NOM",
                "Disponible"
               ],
               [
                "1400 (EXCESO)",
                "7000",
                "3400",
                "3100 (EXCESO)",
                "1100 (EXCESO)",
                "1200",
                "Otros",
                "Disponible"
               ]
              ],
              "marker.colors": [
               [
                "#636efa",
                "#ef553b"
               ],
               [
                "#636EFA",
                "#EF553B",
                "#00CC96",
                "#AB63FA",
                "#FFA15A",
                "#19D3F3",
                "#ef553b"
               ],
               [
                "#1F77B4",
                "#FF7F0E",
                "#2CA02C",
                "#D62728",
                "#9467BD",
                "#8C564B",
                "#ef553b"
               ],
               [
                "#636EFA",
                "#EF553B",
                "#00CC96",
                "#AB63FA",
                "#FFA15A",
                "#19D3F3",
                "#d3d3d3",
                "#ef553b"
               ]
              ],
              "values": [
               [
                129270029.623,
                5827881.377000004
               ],
               [
                10165540.08,
                9985762.45,
                9068159.886,
                96537534.327,
                983295,
                2529737.88,
                5827881.377000004
               ],
               [
                5706588.498,
                4817005.733,
                7756761.44,
                8672334.47,
                4270057.826,
                6853662.09,
                5827881.377000004
               ],
               [
                13899922.025,
                13124561.866,
                12709789.845,
                11595695.2,
                10065000.08,
                9361342.31,
                58513718.29699998,
                5827881.377000004
               ]
              ]
             },
             {
              "annotations[0].text": "Global",
              "annotations[1].text": "Semana : 44<br>Presupuesto Total : $135,097,911.00<br>Gasto Total : $129,270,029.62<br>Disponible : $5,827,881.38",
              "annotations[2].text": "Etapas",
              "annotations[3].text": "Semana : 44<br>Presupuesto Total : $135,097,911.00<br>DEVELOPMENT: $10,165,540.08<br>POST: $9,985,762.45<br>PREP: $9,068,159.89<br>SHOOT: $96,537,534.33<br>SOFT: $983,295.00<br>WRAP: $2,529,737.88<br>Disponible : $5,827,881.38",
              "annotations[4].text": "Departamento",
              "annotations[5].text": "Semana : 44<br>Presupuesto Total : $135,097,911.00<br>ANDA: $5,706,588.50<br>ARTE: $4,817,005.73<br>BALU: $7,756,761.44<br>DINAMITA: $8,672,334.47<br>LOCACIONES: $4,270,057.83<br>NOM: $6,853,662.09<br>Disponible : $5,827,881.38",
              "annotations[6].text": "Cuenta General",
              "annotations[7].text": "Semana : 44<br>Presupuesto Total : $135,097,911.00<br>1400: $13,899,922.03<br>7000: $13,124,561.87<br>3400: $12,709,789.85<br>3100: $11,595,695.20<br>1100: $10,065,000.08<br>1200: $9,361,342.31<br>Otros: $58,513,718.30<br>Disponible : $5,827,881.38",
              "title": "Presupuesto vs Gasto – Semana ≤ 44"
             }
            ],
            "label": "44",
            "method": "update"
           },
           {
            "args": [
             {
              "labels": [
               [
                "Gastado",
                "Disponible"
               ],
               [
                "DEVELOPMENT",
                "POST",
                "PREP",
                "SHOOT",
                "SOFT (EXCESO)",
                "WRAP",
                "Disponible"
               ],
               [
                "ANDA (EXCESO)",
                "ARTE",
                "BALU (EXCESO)",
                "DINAMITA",
                "LOCACIONES",
                "NOM",
                "Disponible"
               ],
               [
                "1400 (EXCESO)",
                "7000",
                "3400",
                "3100 (EXCESO)",
                "1100 (EXCESO)",
                "1200",
                "Otros",
                "Disponible"
               ]
              ],
              "marker.colors": [
               [
                "#636efa",
                "#ef553b"
               ],
               [
                "#636EFA",
                "#EF553B",
                "#00CC96",
                "#AB63FA",
                "#FFA15A",
                "#19D3F3",
                "#ef553b"
               ],
               [
                "#1F77B4",
                "#FF7F0E",
                "#2CA02C",
                "#D62728",
                "#9467BD",
                "#8C564B",
                "#ef553b"
               ],
               [
                "#636EFA",
                "#EF553B",
                "#00CC96",
                "#AB63FA",
                "#FFA15A",
                "#19D3F3",
                "#d3d3d3",
                "#ef553b"
               ]
              ],
              "values": [
               [
                129274762.623,
                5823148.377000004
               ],
               [
                10165540.08,
                9985762.45,
                9068159.886,
                96542267.327,
                983295,
                2529737.88,
                5823148.377000004
               ],
               [
                5706588.498,
                4817005.733,
                7756761.44,
                8672334.47,
                4270057.826,
                6853662.09,
                5823148.377000004
               ],
               [
                13899922.025,
                13129294.866,
                12709789.845,
                11595695.2,
                10065000.08,
                9361342.31,
                58513718.29699998,
                5823148.377000004
               ]
              ]
             },
             {
              "annotations[0].text": "Global",
              "annotations[1].text": "Semana : 45<br>Presupuesto Total : $135,097,911.00<br>Gasto Total : $129,274,762.62<br>Disponible : $5,823,148.38",
              "annotations[2].text": "Etapas",
              "annotations[3].text": "Semana : 45<br>Presupuesto Total : $135,097,911.00<br>DEVELOPMENT: $10,165,540.08<br>POST: $9,985,762.45<br>PREP: $9,068,159.89<br>SHOOT: $96,542,267.33<br>SOFT: $983,295.00<br>WRAP: $2,529,737.88<br>Disponible : $5,823,148.38",
              "annotations[4].text": "Departamento",
              "annotations[5].text": "Semana : 45<br>Presupuesto Total : $135,097,911.00<br>ANDA: $5,706,588.50<br>ARTE: $4,817,005.73<br>BALU: $7,756,761.44<br>DINAMITA: $8,672,334.47<br>LOCACIONES: $4,270,057.83<br>NOM: $6,853,662.09<br>Disponible : $5,823,148.38",
              "annotations[6].text": "Cuenta General",
              "annotations[7].text": "Semana : 45<br>Presupuesto Total : $135,097,911.00<br>1400: $13,899,922.03<br>7000: $13,129,294.87<br>3400: $12,709,789.85<br>3100: $11,595,695.20<br>1100: $10,065,000.08<br>1200: $9,361,342.31<br>Otros: $58,513,718.30<br>Disponible : $5,823,148.38",
              "title": "Presupuesto vs Gasto – Semana ≤ 45"
             }
            ],
            "label": "45",
            "method": "update"
           },
           {
            "args": [
             {
              "labels": [
               [
                "Gastado",
                "Disponible"
               ],
               [
                "DEVELOPMENT",
                "POST",
                "PREP",
                "SHOOT",
                "SOFT (EXCESO)",
                "WRAP",
                "Disponible"
               ],
               [
                "ANDA (EXCESO)",
                "ARTE",
                "BALU (EXCESO)",
                "DINAMITA",
                "LOCACIONES",
                "NOM",
                "Disponible"
               ],
               [
                "1400 (EXCESO)",
                "7000",
                "3400",
                "3100 (EXCESO)",
                "1100 (EXCESO)",
                "1200",
                "Otros",
                "Disponible"
               ]
              ],
              "marker.colors": [
               [
                "#636efa",
                "#ef553b"
               ],
               [
                "#636EFA",
                "#EF553B",
                "#00CC96",
                "#AB63FA",
                "#FFA15A",
                "#19D3F3",
                "#ef553b"
               ],
               [
                "#1F77B4",
                "#FF7F0E",
                "#2CA02C",
                "#D62728",
                "#9467BD",
                "#8C564B",
                "#ef553b"
               ],
               [
                "#636EFA",
                "#EF553B",
                "#00CC96",
                "#AB63FA",
                "#FFA15A",
                "#19D3F3",
                "#d3d3d3",
                "#ef553b"
               ]
              ],
              "values": [
               [
                129274762.623,
                5823148.377000004
               ],
               [
                10165540.08,
                9985762.45,
                9068159.886,
                96542267.327,
                983295,
                2529737.88,
                5823148.377000004
               ],
               [
                5706588.498,
                4817005.733,
                7756761.44,
                8672334.47,
                4270057.826,
                6853662.09,
                5823148.377000004
               ],
               [
                13899922.025,
                13129294.866,
                12709789.845,
                11595695.2,
                10065000.08,
                9361342.31,
                58513718.29699998,
                5823148.377000004
               ]
              ]
             },
             {
              "annotations[0].text": "Global",
              "annotations[1].text": "Semana : 46<br>Presupuesto Total : $135,097,911.00<br>Gasto Total : $129,274,762.62<br>Disponible : $5,823,148.38",
              "annotations[2].text": "Etapas",
              "annotations[3].text": "Semana : 46<br>Presupuesto Total : $135,097,911.00<br>DEVELOPMENT: $10,165,540.08<br>POST: $9,985,762.45<br>PREP: $9,068,159.89<br>SHOOT: $96,542,267.33<br>SOFT: $983,295.00<br>WRAP: $2,529,737.88<br>Disponible : $5,823,148.38",
              "annotations[4].text": "Departamento",
              "annotations[5].text": "Semana : 46<br>Presupuesto Total : $135,097,911.00<br>ANDA: $5,706,588.50<br>ARTE: $4,817,005.73<br>BALU: $7,756,761.44<br>DINAMITA: $8,672,334.47<br>LOCACIONES: $4,270,057.83<br>NOM: $6,853,662.09<br>Disponible : $5,823,148.38",
              "annotations[6].text": "Cuenta General",
              "annotations[7].text": "Semana : 46<br>Presupuesto Total : $135,097,911.00<br>1400: $13,899,922.03<br>7000: $13,129,294.87<br>3400: $12,709,789.85<br>3100: $11,595,695.20<br>1100: $10,065,000.08<br>1200: $9,361,342.31<br>Otros: $58,513,718.30<br>Disponible : $5,823,148.38",
              "title": "Presupuesto vs Gasto – Semana ≤ 46"
             }
            ],
            "label": "46",
            "method": "update"
           },
           {
            "args": [
             {
              "labels": [
               [
                "Gastado",
                "Disponible"
               ],
               [
                "DEVELOPMENT",
                "POST",
                "PREP",
                "SHOOT",
                "SOFT (EXCESO)",
                "WRAP",
                "Disponible"
               ],
               [
                "ANDA (EXCESO)",
                "ARTE",
                "BALU (EXCESO)",
                "DINAMITA",
                "LOCACIONES",
                "NOM",
                "Disponible"
               ],
               [
                "1400 (EXCESO)",
                "7000",
                "3400",
                "3100 (EXCESO)",
                "1100 (EXCESO)",
                "1200",
                "Otros",
                "Disponible"
               ]
              ],
              "marker.colors": [
               [
                "#636efa",
                "#ef553b"
               ],
               [
                "#636EFA",
                "#EF553B",
                "#00CC96",
                "#AB63FA",
                "#FFA15A",
                "#19D3F3",
                "#ef553b"
               ],
               [
                "#1F77B4",
                "#FF7F0E",
                "#2CA02C",
                "#D62728",
                "#9467BD",
                "#8C564B",
                "#ef553b"
               ],
               [
                "#636EFA",
                "#EF553B",
                "#00CC96",
                "#AB63FA",
                "#FFA15A",
                "#19D3F3",
                "#d3d3d3",
                "#ef553b"
               ]
              ],
              "values": [
               [
                130068962.623,
                5028948.377000004
               ],
               [
                10165540.08,
                10724962.45,
                9068159.886,
                96597267.327,
                983295,
                2529737.88,
                5028948.377000004
               ],
               [
                5706588.498,
                4817005.733,
                7756761.44,
                8672334.47,
                4270057.826,
                6853662.09,
                5028948.377000004
               ],
               [
                13899922.025,
                13129294.866,
                12709789.845,
                11595695.2,
                10065000.08,
                9361342.31,
                59307918.29699998,
                5028948.377000004
               ]
              ]
             },
             {
              "annotations[0].text": "Global",
              "annotations[1].text": "Semana : 47<br>Presupuesto Total : $135,097,911.00<br>Gasto Total : $130,068,962.62<br>Disponible : $5,028,948.38",
              "annotations[2].text": "Etapas",
              "annotations[3].text": "Semana : 47<br>Presupuesto Total : $135,097,911.00<br>DEVELOPMENT: $10,165,540.08<br>POST: $10,724,962.45<br>PREP: $9,068,159.89<br>SHOOT: $96,597,267.33<br>SOFT: $983,295.00<br>WRAP: $2,529,737.88<br>Disponible : $5,028,948.38",
              "annotations[4].text": "Departamento",
              "annotations[5].text": "Semana : 47<br>Presupuesto Total : $135,097,911.00<br>ANDA: $5,706,588.50<br>ARTE: $4,817,005.73<br>BALU: $7,756,761.44<br>DINAMITA: $8,672,334.47<br>LOCACIONES: $4,270,057.83<br>NOM: $6,853,662.09<br>Disponible : $5,028,948.38",
              "annotations[6].text": "Cuenta General",
              "annotations[7].text": "Semana : 47<br>Presupuesto Total : $135,097,911.00<br>1400: $13,899,922.03<br>7000: $13,129,294.87<br>3400: $12,709,789.85<br>3100: $11,595,695.20<br>1100: $10,065,000.08<br>1200: $9,361,342.31<br>Otros: $59,307,918.30<br>Disponible : $5,028,948.38",
              "title": "Presupuesto vs Gasto – Semana ≤ 47"
             }
            ],
            "label": "47",
            "method": "update"
           },
           {
            "args": [
             {
              "labels": [
               [
                "Gastado",
                "Disponible"
               ],
               [
                "DEVELOPMENT",
                "POST",
                "PREP",
                "SHOOT",
                "SOFT (EXCESO)",
                "WRAP",
                "Disponible"
               ],
               [
                "ANDA (EXCESO)",
                "ARTE",
                "BALU (EXCESO)",
                "DINAMITA",
                "LOCACIONES",
                "NOM",
                "Disponible"
               ],
               [
                "1400 (EXCESO)",
                "7000",
                "3400",
                "3100 (EXCESO)",
                "1100 (EXCESO)",
                "1200",
                "Otros",
                "Disponible"
               ]
              ],
              "marker.colors": [
               [
                "#636efa",
                "#ef553b"
               ],
               [
                "#636EFA",
                "#EF553B",
                "#00CC96",
                "#AB63FA",
                "#FFA15A",
                "#19D3F3",
                "#ef553b"
               ],
               [
                "#1F77B4",
                "#FF7F0E",
                "#2CA02C",
                "#D62728",
                "#9467BD",
                "#8C564B",
                "#ef553b"
               ],
               [
                "#636EFA",
                "#EF553B",
                "#00CC96",
                "#AB63FA",
                "#FFA15A",
                "#19D3F3",
                "#d3d3d3",
                "#ef553b"
               ]
              ],
              "values": [
               [
                130470229.64199999,
                4627681.35800001
               ],
               [
                10165540.08,
                10747532.45,
                9068159.886,
                96975964.346,
                983295,
                2529737.88,
                4627681.35800001
               ],
               [
                5706588.498,
                4817005.733,
                7756761.44,
                8672334.47,
                4270057.826,
                6853662.09,
                4627681.35800001
               ],
               [
                13899922.025,
                13129294.866,
                12709789.845,
                11595695.2,
                10065000.08,
                9361342.31,
                59709185.315999985,
                4627681.35800001
               ]
              ]
             },
             {
              "annotations[0].text": "Global",
              "annotations[1].text": "Semana : 48<br>Presupuesto Total : $135,097,911.00<br>Gasto Total : $130,470,229.64<br>Disponible : $4,627,681.36",
              "annotations[2].text": "Etapas",
              "annotations[3].text": "Semana : 48<br>Presupuesto Total : $135,097,911.00<br>DEVELOPMENT: $10,165,540.08<br>POST: $10,747,532.45<br>PREP: $9,068,159.89<br>SHOOT: $96,975,964.35<br>SOFT: $983,295.00<br>WRAP: $2,529,737.88<br>Disponible : $4,627,681.36",
              "annotations[4].text": "Departamento",
              "annotations[5].text": "Semana : 48<br>Presupuesto Total : $135,097,911.00<br>ANDA: $5,706,588.50<br>ARTE: $4,817,005.73<br>BALU: $7,756,761.44<br>DINAMITA: $8,672,334.47<br>LOCACIONES: $4,270,057.83<br>NOM: $6,853,662.09<br>Disponible : $4,627,681.36",
              "annotations[6].text": "Cuenta General",
              "annotations[7].text": "Semana : 48<br>Presupuesto Total : $135,097,911.00<br>1400: $13,899,922.03<br>7000: $13,129,294.87<br>3400: $12,709,789.85<br>3100: $11,595,695.20<br>1100: $10,065,000.08<br>1200: $9,361,342.31<br>Otros: $59,709,185.32<br>Disponible : $4,627,681.36",
              "title": "Presupuesto vs Gasto – Semana ≤ 48"
             }
            ],
            "label": "48",
            "method": "update"
           },
           {
            "args": [
             {
              "labels": [
               [
                "Gastado",
                "Disponible"
               ],
               [
                "DEVELOPMENT",
                "POST",
                "PREP",
                "SHOOT",
                "SOFT (EXCESO)",
                "WRAP",
                "Disponible"
               ],
               [
                "ANDA (EXCESO)",
                "ARTE",
                "BALU (EXCESO)",
                "DINAMITA",
                "LOCACIONES",
                "NOM",
                "Disponible"
               ],
               [
                "1400 (EXCESO)",
                "7000",
                "3400",
                "3100 (EXCESO)",
                "1100 (EXCESO)",
                "1200",
                "Otros",
                "Disponible"
               ]
              ],
              "marker.colors": [
               [
                "#636efa",
                "#ef553b"
               ],
               [
                "#636EFA",
                "#EF553B",
                "#00CC96",
                "#AB63FA",
                "#FFA15A",
                "#19D3F3",
                "#ef553b"
               ],
               [
                "#1F77B4",
                "#FF7F0E",
                "#2CA02C",
                "#D62728",
                "#9467BD",
                "#8C564B",
                "#ef553b"
               ],
               [
                "#636EFA",
                "#EF553B",
                "#00CC96",
                "#AB63FA",
                "#FFA15A",
                "#19D3F3",
                "#d3d3d3",
                "#ef553b"
               ]
              ],
              "values": [
               [
                130484479.64199999,
                4613431.35800001
               ],
               [
                10165540.08,
                10747532.45,
                9068159.886,
                96990214.346,
                983295,
                2529737.88,
                4613431.35800001
               ],
               [
                5706588.498,
                4817005.733,
                7756761.44,
                8672334.47,
                4270057.826,
                6853662.09,
                4613431.35800001
               ],
               [
                13899922.025,
                13129294.866,
                12724039.845,
                11595695.2,
                10065000.08,
                9361342.31,
                59709185.315999985,
                4613431.35800001
               ]
              ]
             },
             {
              "annotations[0].text": "Global",
              "annotations[1].text": "Semana : 49<br>Presupuesto Total : $135,097,911.00<br>Gasto Total : $130,484,479.64<br>Disponible : $4,613,431.36",
              "annotations[2].text": "Etapas",
              "annotations[3].text": "Semana : 49<br>Presupuesto Total : $135,097,911.00<br>DEVELOPMENT: $10,165,540.08<br>POST: $10,747,532.45<br>PREP: $9,068,159.89<br>SHOOT: $96,990,214.35<br>SOFT: $983,295.00<br>WRAP: $2,529,737.88<br>Disponible : $4,613,431.36",
              "annotations[4].text": "Departamento",
              "annotations[5].text": "Semana : 49<br>Presupuesto Total : $135,097,911.00<br>ANDA: $5,706,588.50<br>ARTE: $4,817,005.73<br>BALU: $7,756,761.44<br>DINAMITA: $8,672,334.47<br>LOCACIONES: $4,270,057.83<br>NOM: $6,853,662.09<br>Disponible : $4,613,431.36",
              "annotations[6].text": "Cuenta General",
              "annotations[7].text": "Semana : 49<br>Presupuesto Total : $135,097,911.00<br>1400: $13,899,922.03<br>7000: $13,129,294.87<br>3400: $12,724,039.85<br>3100: $11,595,695.20<br>1100: $10,065,000.08<br>1200: $9,361,342.31<br>Otros: $59,709,185.32<br>Disponible : $4,613,431.36",
              "title": "Presupuesto vs Gasto – Semana ≤ 49"
             }
            ],
            "label": "49",
            "method": "update"
           },
           {
            "args": [
             {
              "labels": [
               [
                "Gastado",
                "Disponible"
               ],
               [
                "DEVELOPMENT",
                "POST",
                "PREP",
                "SHOOT",
                "SOFT (EXCESO)",
                "WRAP",
                "Disponible"
               ],
               [
                "ANDA (EXCESO)",
                "ARTE",
                "BALU (EXCESO)",
                "DINAMITA",
                "LOCACIONES",
                "NOM",
                "Disponible"
               ],
               [
                "1400 (EXCESO)",
                "7000",
                "3400",
                "3100 (EXCESO)",
                "1100 (EXCESO)",
                "1200",
                "Otros",
                "Disponible"
               ]
              ],
              "marker.colors": [
               [
                "#636efa",
                "#ef553b"
               ],
               [
                "#636EFA",
                "#EF553B",
                "#00CC96",
                "#AB63FA",
                "#FFA15A",
                "#19D3F3",
                "#ef553b"
               ],
               [
                "#1F77B4",
                "#FF7F0E",
                "#2CA02C",
                "#D62728",
                "#9467BD",
                "#8C564B",
                "#ef553b"
               ],
               [
                "#636EFA",
                "#EF553B",
                "#00CC96",
                "#AB63FA",
                "#FFA15A",
                "#19D3F3",
                "#d3d3d3",
                "#ef553b"
               ]
              ],
              "values": [
               [
                130484479.64199999,
                4613431.35800001
               ],
               [
                10165540.08,
                10747532.45,
                9068159.886,
                96990214.346,
                983295,
                2529737.88,
                4613431.35800001
               ],
               [
                5706588.498,
                4817005.733,
                7756761.44,
                8672334.47,
                4270057.826,
                6853662.09,
                4613431.35800001
               ],
               [
                13899922.025,
                13129294.866,
                12724039.845,
                11595695.2,
                10065000.08,
                9361342.31,
                59709185.315999985,
                4613431.35800001
               ]
              ]
             },
             {
              "annotations[0].text": "Global",
              "annotations[1].text": "Semana : 50<br>Presupuesto Total : $135,097,911.00<br>Gasto Total : $130,484,479.64<br>Disponible : $4,613,431.36",
              "annotations[2].text": "Etapas",
              "annotations[3].text": "Semana : 50<br>Presupuesto Total : $135,097,911.00<br>DEVELOPMENT: $10,165,540.08<br>POST: $10,747,532.45<br>PREP: $9,068,159.89<br>SHOOT: $96,990,214.35<br>SOFT: $983,295.00<br>WRAP: $2,529,737.88<br>Disponible : $4,613,431.36",
              "annotations[4].text": "Departamento",
              "annotations[5].text": "Semana : 50<br>Presupuesto Total : $135,097,911.00<br>ANDA: $5,706,588.50<br>ARTE: $4,817,005.73<br>BALU: $7,756,761.44<br>DINAMITA: $8,672,334.47<br>LOCACIONES: $4,270,057.83<br>NOM: $6,853,662.09<br>Disponible : $4,613,431.36",
              "annotations[6].text": "Cuenta General",
              "annotations[7].text": "Semana : 50<br>Presupuesto Total : $135,097,911.00<br>1400: $13,899,922.03<br>7000: $13,129,294.87<br>3400: $12,724,039.85<br>3100: $11,595,695.20<br>1100: $10,065,000.08<br>1200: $9,361,342.31<br>Otros: $59,709,185.32<br>Disponible : $4,613,431.36",
              "title": "Presupuesto vs Gasto – Semana ≤ 50"
             }
            ],
            "label": "50",
            "method": "update"
           },
           {
            "args": [
             {
              "labels": [
               [
                "Gastado",
                "Disponible"
               ],
               [
                "DEVELOPMENT",
                "POST",
                "PREP",
                "SHOOT",
                "SOFT (EXCESO)",
                "WRAP",
                "Disponible"
               ],
               [
                "ANDA (EXCESO)",
                "ARTE",
                "BALU (EXCESO)",
                "DINAMITA",
                "LOCACIONES",
                "NOM",
                "Disponible"
               ],
               [
                "1400 (EXCESO)",
                "7000",
                "3400",
                "3100 (EXCESO)",
                "1100 (EXCESO)",
                "1200",
                "Otros",
                "Disponible"
               ]
              ],
              "marker.colors": [
               [
                "#636efa",
                "#ef553b"
               ],
               [
                "#636EFA",
                "#EF553B",
                "#00CC96",
                "#AB63FA",
                "#FFA15A",
                "#19D3F3",
                "#ef553b"
               ],
               [
                "#1F77B4",
                "#FF7F0E",
                "#2CA02C",
                "#D62728",
                "#9467BD",
                "#8C564B",
                "#ef553b"
               ],
               [
                "#636EFA",
                "#EF553B",
                "#00CC96",
                "#AB63FA",
                "#FFA15A",
                "#19D3F3",
                "#d3d3d3",
                "#ef553b"
               ]
              ],
              "values": [
               [
                130484479.64199999,
                4613431.35800001
               ],
               [
                10165540.08,
                10747532.45,
                9068159.886,
                96990214.346,
                983295,
                2529737.88,
                4613431.35800001
               ],
               [
                5706588.498,
                4817005.733,
                7756761.44,
                8672334.47,
                4270057.826,
                6853662.09,
                4613431.35800001
               ],
               [
                13899922.025,
                13129294.866,
                12724039.845,
                11595695.2,
                10065000.08,
                9361342.31,
                59709185.315999985,
                4613431.35800001
               ]
              ]
             },
             {
              "annotations[0].text": "Global",
              "annotations[1].text": "Semana : 51<br>Presupuesto Total : $135,097,911.00<br>Gasto Total : $130,484,479.64<br>Disponible : $4,613,431.36",
              "annotations[2].text": "Etapas",
              "annotations[3].text": "Semana : 51<br>Presupuesto Total : $135,097,911.00<br>DEVELOPMENT: $10,165,540.08<br>POST: $10,747,532.45<br>PREP: $9,068,159.89<br>SHOOT: $96,990,214.35<br>SOFT: $983,295.00<br>WRAP: $2,529,737.88<br>Disponible : $4,613,431.36",
              "annotations[4].text": "Departamento",
              "annotations[5].text": "Semana : 51<br>Presupuesto Total : $135,097,911.00<br>ANDA: $5,706,588.50<br>ARTE: $4,817,005.73<br>BALU: $7,756,761.44<br>DINAMITA: $8,672,334.47<br>LOCACIONES: $4,270,057.83<br>NOM: $6,853,662.09<br>Disponible : $4,613,431.36",
              "annotations[6].text": "Cuenta General",
              "annotations[7].text": "Semana : 51<br>Presupuesto Total : $135,097,911.00<br>1400: $13,899,922.03<br>7000: $13,129,294.87<br>3400: $12,724,039.85<br>3100: $11,595,695.20<br>1100: $10,065,000.08<br>1200: $9,361,342.31<br>Otros: $59,709,185.32<br>Disponible : $4,613,431.36",
              "title": "Presupuesto vs Gasto – Semana ≤ 51"
             }
            ],
            "label": "51",
            "method": "update"
           },
           {
            "args": [
             {
              "labels": [
               [
                "Gastado",
                "Disponible"
               ],
               [
                "DEVELOPMENT",
                "POST",
                "PREP (EXCESO)",
                "SHOOT",
                "SOFT (EXCESO)",
                "WRAP",
                "Disponible"
               ],
               [
                "ANDA (EXCESO)",
                "ARTE",
                "BALU (EXCESO)",
                "DINAMITA",
                "LOCACIONES",
                "NOM",
                "Disponible"
               ],
               [
                "7000 (EXCESO)",
                "1400 (EXCESO)",
                "3400",
                "3100 (EXCESO)",
                "1100 (EXCESO)",
                "1200",
                "Otros",
                "Disponible"
               ]
              ],
              "marker.colors": [
               [
                "#636efa",
                "#ef553b"
               ],
               [
                "#636EFA",
                "#EF553B",
                "#00CC96",
                "#AB63FA",
                "#FFA15A",
                "#19D3F3",
                "#ef553b"
               ],
               [
                "#1F77B4",
                "#FF7F0E",
                "#2CA02C",
                "#D62728",
                "#9467BD",
                "#8C564B",
                "#ef553b"
               ],
               [
                "#636EFA",
                "#EF553B",
                "#00CC96",
                "#AB63FA",
                "#FFA15A",
                "#19D3F3",
                "#d3d3d3",
                "#ef553b"
               ]
              ],
              "values": [
               [
                131873256.312,
                3224654.6879999936
               ],
               [
                10165540.08,
                10747532.45,
                9163159.886,
                98216491.016,
                983295,
                2597237.88,
                3224654.6879999936
               ],
               [
                5706588.498,
                4817005.733,
                7756761.44,
                8672334.47,
                4270057.826,
                6853662.09,
                3224654.6879999936
               ],
               [
                13969294.866,
                13899922.025,
                12724039.845,
                11595695.2,
                10065000.08,
                9361342.31,
                60257961.98599999,
                3224654.6879999936
               ]
              ]
             },
             {
              "annotations[0].text": "Global",
              "annotations[1].text": "Semana : 52<br>Presupuesto Total : $135,097,911.00<br>Gasto Total : $131,873,256.31<br>Disponible : $3,224,654.69",
              "annotations[2].text": "Etapas",
              "annotations[3].text": "Semana : 52<br>Presupuesto Total : $135,097,911.00<br>DEVELOPMENT: $10,165,540.08<br>POST: $10,747,532.45<br>PREP: $9,163,159.89<br>SHOOT: $98,216,491.02<br>SOFT: $983,295.00<br>WRAP: $2,597,237.88<br>Disponible : $3,224,654.69",
              "annotations[4].text": "Departamento",
              "annotations[5].text": "Semana : 52<br>Presupuesto Total : $135,097,911.00<br>ANDA: $5,706,588.50<br>ARTE: $4,817,005.73<br>BALU: $7,756,761.44<br>DINAMITA: $8,672,334.47<br>LOCACIONES: $4,270,057.83<br>NOM: $6,853,662.09<br>Disponible : $3,224,654.69",
              "annotations[6].text": "Cuenta General",
              "annotations[7].text": "Semana : 52<br>Presupuesto Total : $135,097,911.00<br>7000: $13,969,294.87<br>1400: $13,899,922.03<br>3400: $12,724,039.85<br>3100: $11,595,695.20<br>1100: $10,065,000.08<br>1200: $9,361,342.31<br>Otros: $60,257,961.99<br>Disponible : $3,224,654.69",
              "title": "Presupuesto vs Gasto – Semana ≤ 52"
             }
            ],
            "label": "52",
            "method": "update"
           },
           {
            "args": [
             {
              "labels": [
               [
                "Gastado",
                "Disponible"
               ],
               [
                "DEVELOPMENT",
                "POST",
                "PREP (EXCESO)",
                "SHOOT",
                "SOFT (EXCESO)",
                "WRAP",
                "Disponible"
               ],
               [
                "ANDA (EXCESO)",
                "ARTE",
                "BALU (EXCESO)",
                "DINAMITA",
                "LOCACIONES",
                "NOM",
                "Disponible"
               ],
               [
                "7000 (EXCESO)",
                "1400 (EXCESO)",
                "3400",
                "3100 (EXCESO)",
                "1100 (EXCESO)",
                "1200",
                "Otros",
                "Disponible"
               ]
              ],
              "marker.colors": [
               [
                "#636efa",
                "#ef553b"
               ],
               [
                "#636EFA",
                "#EF553B",
                "#00CC96",
                "#AB63FA",
                "#FFA15A",
                "#19D3F3",
                "#ef553b"
               ],
               [
                "#1F77B4",
                "#FF7F0E",
                "#2CA02C",
                "#D62728",
                "#9467BD",
                "#8C564B",
                "#ef553b"
               ],
               [
                "#636EFA",
                "#EF553B",
                "#00CC96",
                "#AB63FA",
                "#FFA15A",
                "#19D3F3",
                "#d3d3d3",
                "#ef553b"
               ]
              ],
              "values": [
               [
                131995835.232,
                3102075.7680000067
               ],
               [
                10165540.08,
                10857932.45,
                9163159.886,
                98228669.936,
                983295,
                2597237.88,
                3102075.7680000067
               ],
               [
                5706588.498,
                4817005.733,
                7756761.44,
                8672334.47,
                4270057.826,
                6853662.09,
                3102075.7680000067
               ],
               [
                13969294.866,
                13899922.025,
                12724039.845,
                11595695.2,
                10065000.08,
                9361342.31,
                60380540.90599999,
                3102075.7680000067
               ]
              ]
             },
             {
              "annotations[0].text": "Global",
              "annotations[1].text": "Semana : 53<br>Presupuesto Total : $135,097,911.00<br>Gasto Total : $131,995,835.23<br>Disponible : $3,102,075.77",
              "annotations[2].text": "Etapas",
              "annotations[3].text": "Semana : 53<br>Presupuesto Total : $135,097,911.00<br>DEVELOPMENT: $10,165,540.08<br>POST: $10,857,932.45<br>PREP: $9,163,159.89<br>SHOOT: $98,228,669.94<br>SOFT: $983,295.00<br>WRAP: $2,597,237.88<br>Disponible : $3,102,075.77",
              "annotations[4].text": "Departamento",
              "annotations[5].text": "Semana : 53<br>Presupuesto Total : $135,097,911.00<br>ANDA: $5,706,588.50<br>ARTE: $4,817,005.73<br>BALU: $7,756,761.44<br>DINAMITA: $8,672,334.47<br>LOCACIONES: $4,270,057.83<br>NOM: $6,853,662.09<br>Disponible : $3,102,075.77",
              "annotations[6].text": "Cuenta General",
              "annotations[7].text": "Semana : 53<br>Presupuesto Total : $135,097,911.00<br>7000: $13,969,294.87<br>1400: $13,899,922.03<br>3400: $12,724,039.85<br>3100: $11,595,695.20<br>1100: $10,065,000.08<br>1200: $9,361,342.31<br>Otros: $60,380,540.91<br>Disponible : $3,102,075.77",
              "title": "Presupuesto vs Gasto – Semana ≤ 53"
             }
            ],
            "label": "53",
            "method": "update"
           },
           {
            "args": [
             {
              "labels": [
               [
                "Gastado",
                "Disponible"
               ],
               [
                "DEVELOPMENT",
                "POST",
                "PREP (EXCESO)",
                "SHOOT",
                "SOFT (EXCESO)",
                "WRAP",
                "Disponible"
               ],
               [
                "ANDA (EXCESO)",
                "ARTE",
                "BALU (EXCESO)",
                "DINAMITA",
                "LOCACIONES",
                "NOM",
                "Disponible"
               ],
               [
                "7000 (EXCESO)",
                "1400 (EXCESO)",
                "3400",
                "3100 (EXCESO)",
                "1100 (EXCESO)",
                "1200",
                "Otros",
                "Disponible"
               ]
              ],
              "marker.colors": [
               [
                "#636efa",
                "#ef553b"
               ],
               [
                "#636EFA",
                "#EF553B",
                "#00CC96",
                "#AB63FA",
                "#FFA15A",
                "#19D3F3",
                "#ef553b"
               ],
               [
                "#1F77B4",
                "#FF7F0E",
                "#2CA02C",
                "#D62728",
                "#9467BD",
                "#8C564B",
                "#ef553b"
               ],
               [
                "#636EFA",
                "#EF553B",
                "#00CC96",
                "#AB63FA",
                "#FFA15A",
                "#19D3F3",
                "#d3d3d3",
                "#ef553b"
               ]
              ],
              "values": [
               [
                133453401.25400001,
                1644509.745999992
               ],
               [
                10165540.08,
                10857932.45,
                9163159.886,
                99686235.958,
                983295,
                2597237.88,
                1644509.745999992
               ],
               [
                5706588.498,
                4817005.733,
                7756761.44,
                8672334.47,
                4270057.826,
                6853662.09,
                1644509.745999992
               ],
               [
                13969294.866,
                13899922.025,
                12724039.845,
                11595695.2,
                10065000.08,
                9361342.31,
                61838106.92799998,
                1644509.745999992
               ]
              ]
             },
             {
              "annotations[0].text": "Global",
              "annotations[1].text": "Semana : 54<br>Presupuesto Total : $135,097,911.00<br>Gasto Total : $133,453,401.25<br>Disponible : $1,644,509.75",
              "annotations[2].text": "Etapas",
              "annotations[3].text": "Semana : 54<br>Presupuesto Total : $135,097,911.00<br>DEVELOPMENT: $10,165,540.08<br>POST: $10,857,932.45<br>PREP: $9,163,159.89<br>SHOOT: $99,686,235.96<br>SOFT: $983,295.00<br>WRAP: $2,597,237.88<br>Disponible : $1,644,509.75",
              "annotations[4].text": "Departamento",
              "annotations[5].text": "Semana : 54<br>Presupuesto Total : $135,097,911.00<br>ANDA: $5,706,588.50<br>ARTE: $4,817,005.73<br>BALU: $7,756,761.44<br>DINAMITA: $8,672,334.47<br>LOCACIONES: $4,270,057.83<br>NOM: $6,853,662.09<br>Disponible : $1,644,509.75",
              "annotations[6].text": "Cuenta General",
              "annotations[7].text": "Semana : 54<br>Presupuesto Total : $135,097,911.00<br>7000: $13,969,294.87<br>1400: $13,899,922.03<br>3400: $12,724,039.85<br>3100: $11,595,695.20<br>1100: $10,065,000.08<br>1200: $9,361,342.31<br>Otros: $61,838,106.93<br>Disponible : $1,644,509.75",
              "title": "Presupuesto vs Gasto – Semana ≤ 54"
             }
            ],
            "label": "54",
            "method": "update"
           },
           {
            "args": [
             {
              "labels": [
               [
                "Gastado",
                "Disponible"
               ],
               [
                "DEVELOPMENT",
                "POST",
                "PREP (EXCESO)",
                "SHOOT",
                "SOFT (EXCESO)",
                "WRAP",
                "Disponible"
               ],
               [
                "ANDA (EXCESO)",
                "ARTE",
                "BALU (EXCESO)",
                "DINAMITA",
                "LOCACIONES",
                "NOM",
                "Disponible"
               ],
               [
                "7000 (EXCESO)",
                "1400 (EXCESO)",
                "3400",
                "3100 (EXCESO)",
                "1100 (EXCESO)",
                "1200",
                "Otros",
                "Disponible"
               ]
              ],
              "marker.colors": [
               [
                "#636efa",
                "#ef553b"
               ],
               [
                "#636EFA",
                "#EF553B",
                "#00CC96",
                "#AB63FA",
                "#FFA15A",
                "#19D3F3",
                "#ef553b"
               ],
               [
                "#1F77B4",
                "#FF7F0E",
                "#2CA02C",
                "#D62728",
                "#9467BD",
                "#8C564B",
                "#ef553b"
               ],
               [
                "#636EFA",
                "#EF553B",
                "#00CC96",
                "#AB63FA",
                "#FFA15A",
                "#19D3F3",
                "#d3d3d3",
                "#ef553b"
               ]
              ],
              "values": [
               [
                133453401.25400001,
                1644509.745999992
               ],
               [
                10165540.08,
                10857932.45,
                9163159.886,
                99686235.958,
                983295,
                2597237.88,
                1644509.745999992
               ],
               [
                5706588.498,
                4817005.733,
                7756761.44,
                8672334.47,
                4270057.826,
                6853662.09,
                1644509.745999992
               ],
               [
                13969294.866,
                13899922.025,
                12724039.845,
                11595695.2,
                10065000.08,
                9361342.31,
                61838106.92799998,
                1644509.745999992
               ]
              ]
             },
             {
              "annotations[0].text": "Global",
              "annotations[1].text": "Semana : 55<br>Presupuesto Total : $135,097,911.00<br>Gasto Total : $133,453,401.25<br>Disponible : $1,644,509.75",
              "annotations[2].text": "Etapas",
              "annotations[3].text": "Semana : 55<br>Presupuesto Total : $135,097,911.00<br>DEVELOPMENT: $10,165,540.08<br>POST: $10,857,932.45<br>PREP: $9,163,159.89<br>SHOOT: $99,686,235.96<br>SOFT: $983,295.00<br>WRAP: $2,597,237.88<br>Disponible : $1,644,509.75",
              "annotations[4].text": "Departamento",
              "annotations[5].text": "Semana : 55<br>Presupuesto Total : $135,097,911.00<br>ANDA: $5,706,588.50<br>ARTE: $4,817,005.73<br>BALU: $7,756,761.44<br>DINAMITA: $8,672,334.47<br>LOCACIONES: $4,270,057.83<br>NOM: $6,853,662.09<br>Disponible : $1,644,509.75",
              "annotations[6].text": "Cuenta General",
              "annotations[7].text": "Semana : 55<br>Presupuesto Total : $135,097,911.00<br>7000: $13,969,294.87<br>1400: $13,899,922.03<br>3400: $12,724,039.85<br>3100: $11,595,695.20<br>1100: $10,065,000.08<br>1200: $9,361,342.31<br>Otros: $61,838,106.93<br>Disponible : $1,644,509.75",
              "title": "Presupuesto vs Gasto – Semana ≤ 55"
             }
            ],
            "label": "55",
            "method": "update"
           },
           {
            "args": [
             {
              "labels": [
               [
                "Gastado",
                "Disponible"
               ],
               [
                "DEVELOPMENT",
                "POST",
                "PREP (EXCESO)",
                "SHOOT",
                "SOFT (EXCESO)",
                "WRAP",
                "Disponible"
               ],
               [
                "ANDA (EXCESO)",
                "ARTE",
                "BALU (EXCESO)",
                "DINAMITA",
                "LOCACIONES",
                "NOM",
                "Disponible"
               ],
               [
                "7000 (EXCESO)",
                "1400 (EXCESO)",
                "3400",
                "3100 (EXCESO)",
                "1100 (EXCESO)",
                "1200",
                "Otros",
                "Disponible"
               ]
              ],
              "marker.colors": [
               [
                "#636efa",
                "#ef553b"
               ],
               [
                "#636EFA",
                "#EF553B",
                "#00CC96",
                "#AB63FA",
                "#FFA15A",
                "#19D3F3",
                "#ef553b"
               ],
               [
                "#1F77B4",
                "#FF7F0E",
                "#2CA02C",
                "#D62728",
                "#9467BD",
                "#8C564B",
                "#ef553b"
               ],
               [
                "#636EFA",
                "#EF553B",
                "#00CC96",
                "#AB63FA",
                "#FFA15A",
                "#19D3F3",
                "#d3d3d3",
                "#ef553b"
               ]
              ],
              "values": [
               [
                133453401.25400001,
                1644509.745999992
               ],
               [
                10165540.08,
                10857932.45,
                9163159.886,
                99686235.958,
                983295,
                2597237.88,
                1644509.745999992
               ],
               [
                5706588.498,
                4817005.733,
                7756761.44,
                8672334.47,
                4270057.826,
                6853662.09,
                1644509.745999992
               ],
               [
                13969294.866,
                13899922.025,
                12724039.845,
                11595695.2,
                10065000.08,
                9361342.31,
                61838106.92799998,
                1644509.745999992
               ]
              ]
             },
             {
              "annotations[0].text": "Global",
              "annotations[1].text": "Semana : 56<br>Presupuesto Total : $135,097,911.00<br>Gasto Total : $133,453,401.25<br>Disponible : $1,644,509.75",
              "annotations[2].text": "Etapas",
              "annotations[3].text": "Semana : 56<br>Presupuesto Total : $135,097,911.00<br>DEVELOPMENT: $10,165,540.08<br>POST: $10,857,932.45<br>PREP: $9,163,159.89<br>SHOOT: $99,686,235.96<br>SOFT: $983,295.00<br>WRAP: $2,597,237.88<br>Disponible : $1,644,509.75",
              "annotations[4].text": "Departamento",
              "annotations[5].text": "Semana : 56<br>Presupuesto Total : $135,097,911.00<br>ANDA: $5,706,588.50<br>ARTE: $4,817,005.73<br>BALU: $7,756,761.44<br>DINAMITA: $8,672,334.47<br>LOCACIONES: $4,270,057.83<br>NOM: $6,853,662.09<br>Disponible : $1,644,509.75",
              "annotations[6].text": "Cuenta General",
              "annotations[7].text": "Semana : 56<br>Presupuesto Total : $135,097,911.00<br>7000: $13,969,294.87<br>1400: $13,899,922.03<br>3400: $12,724,039.85<br>3100: $11,595,695.20<br>1100: $10,065,000.08<br>1200: $9,361,342.31<br>Otros: $61,838,106.93<br>Disponible : $1,644,509.75",
              "title": "Presupuesto vs Gasto – Semana ≤ 56"
             }
            ],
            "label": "56",
            "method": "update"
           },
           {
            "args": [
             {
              "labels": [
               [
                "Gastado",
                "Disponible"
               ],
               [
                "DEVELOPMENT",
                "POST",
                "PREP (EXCESO)",
                "SHOOT",
                "SOFT (EXCESO)",
                "WRAP",
                "Disponible"
               ],
               [
                "ANDA (EXCESO)",
                "ARTE",
                "BALU (EXCESO)",
                "DINAMITA",
                "LOCACIONES",
                "NOM",
                "Disponible"
               ],
               [
                "7000 (EXCESO)",
                "1400 (EXCESO)",
                "3400",
                "3100 (EXCESO)",
                "1100 (EXCESO)",
                "1200",
                "Otros",
                "Disponible"
               ]
              ],
              "marker.colors": [
               [
                "#636efa",
                "#ef553b"
               ],
               [
                "#636EFA",
                "#EF553B",
                "#00CC96",
                "#AB63FA",
                "#FFA15A",
                "#19D3F3",
                "#ef553b"
               ],
               [
                "#1F77B4",
                "#FF7F0E",
                "#2CA02C",
                "#D62728",
                "#9467BD",
                "#8C564B",
                "#ef553b"
               ],
               [
                "#636EFA",
                "#EF553B",
                "#00CC96",
                "#AB63FA",
                "#FFA15A",
                "#19D3F3",
                "#d3d3d3",
                "#ef553b"
               ]
              ],
              "values": [
               [
                133453401.25400001,
                1644509.745999992
               ],
               [
                10165540.08,
                10857932.45,
                9163159.886,
                99686235.958,
                983295,
                2597237.88,
                1644509.745999992
               ],
               [
                5706588.498,
                4817005.733,
                7756761.44,
                8672334.47,
                4270057.826,
                6853662.09,
                1644509.745999992
               ],
               [
                13969294.866,
                13899922.025,
                12724039.845,
                11595695.2,
                10065000.08,
                9361342.31,
                61838106.92799998,
                1644509.745999992
               ]
              ]
             },
             {
              "annotations[0].text": "Global",
              "annotations[1].text": "Semana : 57<br>Presupuesto Total : $135,097,911.00<br>Gasto Total : $133,453,401.25<br>Disponible : $1,644,509.75",
              "annotations[2].text": "Etapas",
              "annotations[3].text": "Semana : 57<br>Presupuesto Total : $135,097,911.00<br>DEVELOPMENT: $10,165,540.08<br>POST: $10,857,932.45<br>PREP: $9,163,159.89<br>SHOOT: $99,686,235.96<br>SOFT: $983,295.00<br>WRAP: $2,597,237.88<br>Disponible : $1,644,509.75",
              "annotations[4].text": "Departamento",
              "annotations[5].text": "Semana : 57<br>Presupuesto Total : $135,097,911.00<br>ANDA: $5,706,588.50<br>ARTE: $4,817,005.73<br>BALU: $7,756,761.44<br>DINAMITA: $8,672,334.47<br>LOCACIONES: $4,270,057.83<br>NOM: $6,853,662.09<br>Disponible : $1,644,509.75",
              "annotations[6].text": "Cuenta General",
              "annotations[7].text": "Semana : 57<br>Presupuesto Total : $135,097,911.00<br>7000: $13,969,294.87<br>1400: $13,899,922.03<br>3400: $12,724,039.85<br>3100: $11,595,695.20<br>1100: $10,065,000.08<br>1200: $9,361,342.31<br>Otros: $61,838,106.93<br>Disponible : $1,644,509.75",
              "title": "Presupuesto vs Gasto – Semana ≤ 57"
             }
            ],
            "label": "57",
            "method": "update"
           },
           {
            "args": [
             {
              "labels": [
               [
                "Gastado",
                "Disponible"
               ],
               [
                "DEVELOPMENT",
                "POST",
                "PREP (EXCESO)",
                "SHOOT",
                "SOFT (EXCESO)",
                "WRAP",
                "Disponible"
               ],
               [
                "ANDA (EXCESO)",
                "ARTE",
                "BALU (EXCESO)",
                "DINAMITA",
                "LOCACIONES",
                "NOM",
                "Disponible"
               ],
               [
                "7000 (EXCESO)",
                "1400 (EXCESO)",
                "3400",
                "3100 (EXCESO)",
                "1100 (EXCESO)",
                "1200",
                "Otros",
                "Disponible"
               ]
              ],
              "marker.colors": [
               [
                "#636efa",
                "#ef553b"
               ],
               [
                "#636EFA",
                "#EF553B",
                "#00CC96",
                "#AB63FA",
                "#FFA15A",
                "#19D3F3",
                "#ef553b"
               ],
               [
                "#1F77B4",
                "#FF7F0E",
                "#2CA02C",
                "#D62728",
                "#9467BD",
                "#8C564B",
                "#ef553b"
               ],
               [
                "#636EFA",
                "#EF553B",
                "#00CC96",
                "#AB63FA",
                "#FFA15A",
                "#19D3F3",
                "#d3d3d3",
                "#ef553b"
               ]
              ],
              "values": [
               [
                133453401.25400001,
                1644509.745999992
               ],
               [
                10165540.08,
                10857932.45,
                9163159.886,
                99686235.958,
                983295,
                2597237.88,
                1644509.745999992
               ],
               [
                5706588.498,
                4817005.733,
                7756761.44,
                8672334.47,
                4270057.826,
                6853662.09,
                1644509.745999992
               ],
               [
                13969294.866,
                13899922.025,
                12724039.845,
                11595695.2,
                10065000.08,
                9361342.31,
                61838106.92799998,
                1644509.745999992
               ]
              ]
             },
             {
              "annotations[0].text": "Global",
              "annotations[1].text": "Semana : 58<br>Presupuesto Total : $135,097,911.00<br>Gasto Total : $133,453,401.25<br>Disponible : $1,644,509.75",
              "annotations[2].text": "Etapas",
              "annotations[3].text": "Semana : 58<br>Presupuesto Total : $135,097,911.00<br>DEVELOPMENT: $10,165,540.08<br>POST: $10,857,932.45<br>PREP: $9,163,159.89<br>SHOOT: $99,686,235.96<br>SOFT: $983,295.00<br>WRAP: $2,597,237.88<br>Disponible : $1,644,509.75",
              "annotations[4].text": "Departamento",
              "annotations[5].text": "Semana : 58<br>Presupuesto Total : $135,097,911.00<br>ANDA: $5,706,588.50<br>ARTE: $4,817,005.73<br>BALU: $7,756,761.44<br>DINAMITA: $8,672,334.47<br>LOCACIONES: $4,270,057.83<br>NOM: $6,853,662.09<br>Disponible : $1,644,509.75",
              "annotations[6].text": "Cuenta General",
              "annotations[7].text": "Semana : 58<br>Presupuesto Total : $135,097,911.00<br>7000: $13,969,294.87<br>1400: $13,899,922.03<br>3400: $12,724,039.85<br>3100: $11,595,695.20<br>1100: $10,065,000.08<br>1200: $9,361,342.31<br>Otros: $61,838,106.93<br>Disponible : $1,644,509.75",
              "title": "Presupuesto vs Gasto – Semana ≤ 58"
             }
            ],
            "label": "58",
            "method": "update"
           },
           {
            "args": [
             {
              "labels": [
               [
                "Gastado",
                "Disponible"
               ],
               [
                "DEVELOPMENT",
                "POST",
                "PREP (EXCESO)",
                "SHOOT",
                "SOFT (EXCESO)",
                "WRAP",
                "Disponible"
               ],
               [
                "ANDA (EXCESO)",
                "ARTE",
                "BALU (EXCESO)",
                "DINAMITA",
                "LOCACIONES",
                "NOM",
                "Disponible"
               ],
               [
                "7000 (EXCESO)",
                "1400 (EXCESO)",
                "3400",
                "3100 (EXCESO)",
                "1100 (EXCESO)",
                "1200",
                "Otros",
                "Disponible"
               ]
              ],
              "marker.colors": [
               [
                "#636efa",
                "#ef553b"
               ],
               [
                "#636EFA",
                "#EF553B",
                "#00CC96",
                "#AB63FA",
                "#FFA15A",
                "#19D3F3",
                "#ef553b"
               ],
               [
                "#1F77B4",
                "#FF7F0E",
                "#2CA02C",
                "#D62728",
                "#9467BD",
                "#8C564B",
                "#ef553b"
               ],
               [
                "#636EFA",
                "#EF553B",
                "#00CC96",
                "#AB63FA",
                "#FFA15A",
                "#19D3F3",
                "#d3d3d3",
                "#ef553b"
               ]
              ],
              "values": [
               [
                133453401.25400001,
                1644509.745999992
               ],
               [
                10165540.08,
                10857932.45,
                9163159.886,
                99686235.958,
                983295,
                2597237.88,
                1644509.745999992
               ],
               [
                5706588.498,
                4817005.733,
                7756761.44,
                8672334.47,
                4270057.826,
                6853662.09,
                1644509.745999992
               ],
               [
                13969294.866,
                13899922.025,
                12724039.845,
                11595695.2,
                10065000.08,
                9361342.31,
                61838106.92799998,
                1644509.745999992
               ]
              ]
             },
             {
              "annotations[0].text": "Global",
              "annotations[1].text": "Semana : 59<br>Presupuesto Total : $135,097,911.00<br>Gasto Total : $133,453,401.25<br>Disponible : $1,644,509.75",
              "annotations[2].text": "Etapas",
              "annotations[3].text": "Semana : 59<br>Presupuesto Total : $135,097,911.00<br>DEVELOPMENT: $10,165,540.08<br>POST: $10,857,932.45<br>PREP: $9,163,159.89<br>SHOOT: $99,686,235.96<br>SOFT: $983,295.00<br>WRAP: $2,597,237.88<br>Disponible : $1,644,509.75",
              "annotations[4].text": "Departamento",
              "annotations[5].text": "Semana : 59<br>Presupuesto Total : $135,097,911.00<br>ANDA: $5,706,588.50<br>ARTE: $4,817,005.73<br>BALU: $7,756,761.44<br>DINAMITA: $8,672,334.47<br>LOCACIONES: $4,270,057.83<br>NOM: $6,853,662.09<br>Disponible : $1,644,509.75",
              "annotations[6].text": "Cuenta General",
              "annotations[7].text": "Semana : 59<br>Presupuesto Total : $135,097,911.00<br>7000: $13,969,294.87<br>1400: $13,899,922.03<br>3400: $12,724,039.85<br>3100: $11,595,695.20<br>1100: $10,065,000.08<br>1200: $9,361,342.31<br>Otros: $61,838,106.93<br>Disponible : $1,644,509.75",
              "title": "Presupuesto vs Gasto – Semana ≤ 59"
             }
            ],
            "label": "59",
            "method": "update"
           },
           {
            "args": [
             {
              "labels": [
               [
                "Gastado",
                "Disponible"
               ],
               [
                "DEVELOPMENT",
                "POST",
                "PREP (EXCESO)",
                "SHOOT (EXCESO)",
                "SOFT (EXCESO)",
                "WRAP",
                "Disponible"
               ],
               [
                "ANDA (EXCESO)",
                "ARTE",
                "BALU (EXCESO)",
                "DINAMITA",
                "LOCACIONES",
                "NOM",
                "Disponible"
               ],
               [
                "7000 (EXCESO)",
                "1400 (EXCESO)",
                "3400",
                "3100 (EXCESO)",
                "1100 (EXCESO)",
                "1200",
                "Otros",
                "Disponible"
               ]
              ],
              "marker.colors": [
               [
                "#636efa",
                "#ef553b"
               ],
               [
                "#636EFA",
                "#EF553B",
                "#00CC96",
                "#AB63FA",
                "#FFA15A",
                "#19D3F3",
                "#ef553b"
               ],
               [
                "#1F77B4",
                "#FF7F0E",
                "#2CA02C",
                "#D62728",
                "#9467BD",
                "#8C564B",
                "#ef553b"
               ],
               [
                "#636EFA",
                "#EF553B",
                "#00CC96",
                "#AB63FA",
                "#FFA15A",
                "#19D3F3",
                "#d3d3d3",
                "#ef553b"
               ]
              ],
              "values": [
               [
                134706241.784,
                391669.2159999907
               ],
               [
                10165540.08,
                10857932.45,
                9163159.886,
                100939076.488,
                983295,
                2597237.88,
                391669.2159999907
               ],
               [
                5706588.498,
                4817005.733,
                7756761.44,
                8672334.47,
                4270057.826,
                6853662.09,
                391669.2159999907
               ],
               [
                13969294.866,
                13899922.025,
                12724039.845,
                11595695.2,
                10065000.08,
                9361342.31,
                63090947.45799998,
                391669.2159999907
               ]
              ]
             },
             {
              "annotations[0].text": "Global",
              "annotations[1].text": "Semana : 60<br>Presupuesto Total : $135,097,911.00<br>Gasto Total : $134,706,241.78<br>Disponible : $391,669.22",
              "annotations[2].text": "Etapas",
              "annotations[3].text": "Semana : 60<br>Presupuesto Total : $135,097,911.00<br>DEVELOPMENT: $10,165,540.08<br>POST: $10,857,932.45<br>PREP: $9,163,159.89<br>SHOOT: $100,939,076.49<br>SOFT: $983,295.00<br>WRAP: $2,597,237.88<br>Disponible : $391,669.22",
              "annotations[4].text": "Departamento",
              "annotations[5].text": "Semana : 60<br>Presupuesto Total : $135,097,911.00<br>ANDA: $5,706,588.50<br>ARTE: $4,817,005.73<br>BALU: $7,756,761.44<br>DINAMITA: $8,672,334.47<br>LOCACIONES: $4,270,057.83<br>NOM: $6,853,662.09<br>Disponible : $391,669.22",
              "annotations[6].text": "Cuenta General",
              "annotations[7].text": "Semana : 60<br>Presupuesto Total : $135,097,911.00<br>7000: $13,969,294.87<br>1400: $13,899,922.03<br>3400: $12,724,039.85<br>3100: $11,595,695.20<br>1100: $10,065,000.08<br>1200: $9,361,342.31<br>Otros: $63,090,947.46<br>Disponible : $391,669.22",
              "title": "Presupuesto vs Gasto – Semana ≤ 60"
             }
            ],
            "label": "60",
            "method": "update"
           },
           {
            "args": [
             {
              "labels": [
               [
                "Gastado",
                "Disponible"
               ],
               [
                "DEVELOPMENT",
                "POST",
                "PREP (EXCESO)",
                "SHOOT (EXCESO)",
                "SOFT (EXCESO)",
                "WRAP",
                "Disponible"
               ],
               [
                "ANDA (EXCESO)",
                "ARTE",
                "BALU (EXCESO)",
                "DINAMITA",
                "LOCACIONES",
                "NOM",
                "Disponible"
               ],
               [
                "7000 (EXCESO)",
                "1400 (EXCESO)",
                "3400",
                "3100 (EXCESO)",
                "1100 (EXCESO)",
                "1200",
                "Otros",
                "Disponible"
               ]
              ],
              "marker.colors": [
               [
                "#636efa",
                "#ef553b"
               ],
               [
                "#636EFA",
                "#EF553B",
                "#00CC96",
                "#AB63FA",
                "#FFA15A",
                "#19D3F3",
                "#ef553b"
               ],
               [
                "#1F77B4",
                "#FF7F0E",
                "#2CA02C",
                "#D62728",
                "#9467BD",
                "#8C564B",
                "#ef553b"
               ],
               [
                "#636EFA",
                "#EF553B",
                "#00CC96",
                "#AB63FA",
                "#FFA15A",
                "#19D3F3",
                "#d3d3d3",
                "#ef553b"
               ]
              ],
              "values": [
               [
                134717774.414,
                380136.58599999547
               ],
               [
                10165540.08,
                10857932.45,
                9163159.886,
                100950609.118,
                983295,
                2597237.88,
                380136.58599999547
               ],
               [
                5706588.498,
                4817005.733,
                7756761.44,
                8672334.47,
                4270057.826,
                6853662.09,
                380136.58599999547
               ],
               [
                13969294.866,
                13899922.025,
                12724039.845,
                11595695.2,
                10065000.08,
                9361342.31,
                63102480.087999985,
                380136.58599999547
               ]
              ]
             },
             {
              "annotations[0].text": "Global",
              "annotations[1].text": "Semana : 61<br>Presupuesto Total : $135,097,911.00<br>Gasto Total : $134,717,774.41<br>Disponible : $380,136.59",
              "annotations[2].text": "Etapas",
              "annotations[3].text": "Semana : 61<br>Presupuesto Total : $135,097,911.00<br>DEVELOPMENT: $10,165,540.08<br>POST: $10,857,932.45<br>PREP: $9,163,159.89<br>SHOOT: $100,950,609.12<br>SOFT: $983,295.00<br>WRAP: $2,597,237.88<br>Disponible : $380,136.59",
              "annotations[4].text": "Departamento",
              "annotations[5].text": "Semana : 61<br>Presupuesto Total : $135,097,911.00<br>ANDA: $5,706,588.50<br>ARTE: $4,817,005.73<br>BALU: $7,756,761.44<br>DINAMITA: $8,672,334.47<br>LOCACIONES: $4,270,057.83<br>NOM: $6,853,662.09<br>Disponible : $380,136.59",
              "annotations[6].text": "Cuenta General",
              "annotations[7].text": "Semana : 61<br>Presupuesto Total : $135,097,911.00<br>7000: $13,969,294.87<br>1400: $13,899,922.03<br>3400: $12,724,039.85<br>3100: $11,595,695.20<br>1100: $10,065,000.08<br>1200: $9,361,342.31<br>Otros: $63,102,480.09<br>Disponible : $380,136.59",
              "title": "Presupuesto vs Gasto – Semana ≤ 61"
             }
            ],
            "label": "61",
            "method": "update"
           },
           {
            "args": [
             {
              "labels": [
               [
                "Gastado",
                "Disponible"
               ],
               [
                "DEVELOPMENT",
                "POST",
                "PREP (EXCESO)",
                "SHOOT (EXCESO)",
                "SOFT (EXCESO)",
                "WRAP",
                "Disponible"
               ],
               [
                "ANDA (EXCESO)",
                "ARTE",
                "BALU (EXCESO)",
                "DINAMITA",
                "LOCACIONES",
                "NOM",
                "Disponible"
               ],
               [
                "7000 (EXCESO)",
                "1400 (EXCESO)",
                "3400",
                "3100 (EXCESO)",
                "1100 (EXCESO)",
                "1200",
                "Otros",
                "Disponible"
               ]
              ],
              "marker.colors": [
               [
                "#636efa",
                "#ef553b"
               ],
               [
                "#636EFA",
                "#EF553B",
                "#00CC96",
                "#AB63FA",
                "#FFA15A",
                "#19D3F3",
                "#ef553b"
               ],
               [
                "#1F77B4",
                "#FF7F0E",
                "#2CA02C",
                "#D62728",
                "#9467BD",
                "#8C564B",
                "#ef553b"
               ],
               [
                "#636EFA",
                "#EF553B",
                "#00CC96",
                "#AB63FA",
                "#FFA15A",
                "#19D3F3",
                "#d3d3d3",
                "#ef553b"
               ]
              ],
              "values": [
               [
                134717774.414,
                380136.58599999547
               ],
               [
                10165540.08,
                10857932.45,
                9163159.886,
                100950609.118,
                983295,
                2597237.88,
                380136.58599999547
               ],
               [
                5706588.498,
                4817005.733,
                7756761.44,
                8672334.47,
                4270057.826,
                6853662.09,
                380136.58599999547
               ],
               [
                13969294.866,
                13899922.025,
                12724039.845,
                11595695.2,
                10065000.08,
                9361342.31,
                63102480.087999985,
                380136.58599999547
               ]
              ]
             },
             {
              "annotations[0].text": "Global",
              "annotations[1].text": "Semana : 62<br>Presupuesto Total : $135,097,911.00<br>Gasto Total : $134,717,774.41<br>Disponible : $380,136.59",
              "annotations[2].text": "Etapas",
              "annotations[3].text": "Semana : 62<br>Presupuesto Total : $135,097,911.00<br>DEVELOPMENT: $10,165,540.08<br>POST: $10,857,932.45<br>PREP: $9,163,159.89<br>SHOOT: $100,950,609.12<br>SOFT: $983,295.00<br>WRAP: $2,597,237.88<br>Disponible : $380,136.59",
              "annotations[4].text": "Departamento",
              "annotations[5].text": "Semana : 62<br>Presupuesto Total : $135,097,911.00<br>ANDA: $5,706,588.50<br>ARTE: $4,817,005.73<br>BALU: $7,756,761.44<br>DINAMITA: $8,672,334.47<br>LOCACIONES: $4,270,057.83<br>NOM: $6,853,662.09<br>Disponible : $380,136.59",
              "annotations[6].text": "Cuenta General",
              "annotations[7].text": "Semana : 62<br>Presupuesto Total : $135,097,911.00<br>7000: $13,969,294.87<br>1400: $13,899,922.03<br>3400: $12,724,039.85<br>3100: $11,595,695.20<br>1100: $10,065,000.08<br>1200: $9,361,342.31<br>Otros: $63,102,480.09<br>Disponible : $380,136.59",
              "title": "Presupuesto vs Gasto – Semana ≤ 62"
             }
            ],
            "label": "62",
            "method": "update"
           },
           {
            "args": [
             {
              "labels": [
               [
                "Gastado",
                "Disponible"
               ],
               [
                "DEVELOPMENT",
                "POST",
                "PREP (EXCESO)",
                "SHOOT (EXCESO)",
                "SOFT (EXCESO)",
                "WRAP",
                "Disponible"
               ],
               [
                "ANDA (EXCESO)",
                "ARTE",
                "BALU (EXCESO)",
                "DINAMITA",
                "LOCACIONES",
                "NOM",
                "Disponible"
               ],
               [
                "7000 (EXCESO)",
                "1400 (EXCESO)",
                "3400",
                "3100 (EXCESO)",
                "1100 (EXCESO)",
                "1200",
                "Otros",
                "Disponible"
               ]
              ],
              "marker.colors": [
               [
                "#636efa",
                "#ef553b"
               ],
               [
                "#636EFA",
                "#EF553B",
                "#00CC96",
                "#AB63FA",
                "#FFA15A",
                "#19D3F3",
                "#ef553b"
               ],
               [
                "#1F77B4",
                "#FF7F0E",
                "#2CA02C",
                "#D62728",
                "#9467BD",
                "#8C564B",
                "#ef553b"
               ],
               [
                "#636EFA",
                "#EF553B",
                "#00CC96",
                "#AB63FA",
                "#FFA15A",
                "#19D3F3",
                "#d3d3d3",
                "#ef553b"
               ]
              ],
              "values": [
               [
                134717774.414,
                380136.58599999547
               ],
               [
                10165540.08,
                10857932.45,
                9163159.886,
                100950609.118,
                983295,
                2597237.88,
                380136.58599999547
               ],
               [
                5706588.498,
                4817005.733,
                7756761.44,
                8672334.47,
                4270057.826,
                6853662.09,
                380136.58599999547
               ],
               [
                13969294.866,
                13899922.025,
                12724039.845,
                11595695.2,
                10065000.08,
                9361342.31,
                63102480.087999985,
                380136.58599999547
               ]
              ]
             },
             {
              "annotations[0].text": "Global",
              "annotations[1].text": "Semana : 63<br>Presupuesto Total : $135,097,911.00<br>Gasto Total : $134,717,774.41<br>Disponible : $380,136.59",
              "annotations[2].text": "Etapas",
              "annotations[3].text": "Semana : 63<br>Presupuesto Total : $135,097,911.00<br>DEVELOPMENT: $10,165,540.08<br>POST: $10,857,932.45<br>PREP: $9,163,159.89<br>SHOOT: $100,950,609.12<br>SOFT: $983,295.00<br>WRAP: $2,597,237.88<br>Disponible : $380,136.59",
              "annotations[4].text": "Departamento",
              "annotations[5].text": "Semana : 63<br>Presupuesto Total : $135,097,911.00<br>ANDA: $5,706,588.50<br>ARTE: $4,817,005.73<br>BALU: $7,756,761.44<br>DINAMITA: $8,672,334.47<br>LOCACIONES: $4,270,057.83<br>NOM: $6,853,662.09<br>Disponible : $380,136.59",
              "annotations[6].text": "Cuenta General",
              "annotations[7].text": "Semana : 63<br>Presupuesto Total : $135,097,911.00<br>7000: $13,969,294.87<br>1400: $13,899,922.03<br>3400: $12,724,039.85<br>3100: $11,595,695.20<br>1100: $10,065,000.08<br>1200: $9,361,342.31<br>Otros: $63,102,480.09<br>Disponible : $380,136.59",
              "title": "Presupuesto vs Gasto – Semana ≤ 63"
             }
            ],
            "label": "63",
            "method": "update"
           },
           {
            "args": [
             {
              "labels": [
               [
                "Gastado",
                "Disponible"
               ],
               [
                "DEVELOPMENT",
                "POST",
                "PREP (EXCESO)",
                "SHOOT (EXCESO)",
                "SOFT (EXCESO)",
                "WRAP",
                "Disponible"
               ],
               [
                "ANDA (EXCESO)",
                "ARTE",
                "BALU (EXCESO)",
                "DINAMITA",
                "LOCACIONES",
                "NOM",
                "Disponible"
               ],
               [
                "7000 (EXCESO)",
                "1400 (EXCESO)",
                "3400",
                "3100 (EXCESO)",
                "1100 (EXCESO)",
                "1200",
                "Otros",
                "Disponible"
               ]
              ],
              "marker.colors": [
               [
                "#636efa",
                "#ef553b"
               ],
               [
                "#636EFA",
                "#EF553B",
                "#00CC96",
                "#AB63FA",
                "#FFA15A",
                "#19D3F3",
                "#ef553b"
               ],
               [
                "#1F77B4",
                "#FF7F0E",
                "#2CA02C",
                "#D62728",
                "#9467BD",
                "#8C564B",
                "#ef553b"
               ],
               [
                "#636EFA",
                "#EF553B",
                "#00CC96",
                "#AB63FA",
                "#FFA15A",
                "#19D3F3",
                "#d3d3d3",
                "#ef553b"
               ]
              ],
              "values": [
               [
                134717774.414,
                380136.58599999547
               ],
               [
                10165540.08,
                10857932.45,
                9163159.886,
                100950609.118,
                983295,
                2597237.88,
                380136.58599999547
               ],
               [
                5706588.498,
                4817005.733,
                7756761.44,
                8672334.47,
                4270057.826,
                6853662.09,
                380136.58599999547
               ],
               [
                13969294.866,
                13899922.025,
                12724039.845,
                11595695.2,
                10065000.08,
                9361342.31,
                63102480.087999985,
                380136.58599999547
               ]
              ]
             },
             {
              "annotations[0].text": "Global",
              "annotations[1].text": "Semana : 64<br>Presupuesto Total : $135,097,911.00<br>Gasto Total : $134,717,774.41<br>Disponible : $380,136.59",
              "annotations[2].text": "Etapas",
              "annotations[3].text": "Semana : 64<br>Presupuesto Total : $135,097,911.00<br>DEVELOPMENT: $10,165,540.08<br>POST: $10,857,932.45<br>PREP: $9,163,159.89<br>SHOOT: $100,950,609.12<br>SOFT: $983,295.00<br>WRAP: $2,597,237.88<br>Disponible : $380,136.59",
              "annotations[4].text": "Departamento",
              "annotations[5].text": "Semana : 64<br>Presupuesto Total : $135,097,911.00<br>ANDA: $5,706,588.50<br>ARTE: $4,817,005.73<br>BALU: $7,756,761.44<br>DINAMITA: $8,672,334.47<br>LOCACIONES: $4,270,057.83<br>NOM: $6,853,662.09<br>Disponible : $380,136.59",
              "annotations[6].text": "Cuenta General",
              "annotations[7].text": "Semana : 64<br>Presupuesto Total : $135,097,911.00<br>7000: $13,969,294.87<br>1400: $13,899,922.03<br>3400: $12,724,039.85<br>3100: $11,595,695.20<br>1100: $10,065,000.08<br>1200: $9,361,342.31<br>Otros: $63,102,480.09<br>Disponible : $380,136.59",
              "title": "Presupuesto vs Gasto – Semana ≤ 64"
             }
            ],
            "label": "64",
            "method": "update"
           },
           {
            "args": [
             {
              "labels": [
               [
                "Gastado",
                "Disponible"
               ],
               [
                "DEVELOPMENT",
                "POST",
                "PREP (EXCESO)",
                "SHOOT (EXCESO)",
                "SOFT (EXCESO)",
                "WRAP",
                "Disponible"
               ],
               [
                "ANDA (EXCESO)",
                "ARTE",
                "BALU (EXCESO)",
                "DINAMITA",
                "LOCACIONES",
                "NOM",
                "Disponible"
               ],
               [
                "7000 (EXCESO)",
                "1400 (EXCESO)",
                "3400",
                "3100 (EXCESO)",
                "1100 (EXCESO)",
                "1200",
                "Otros",
                "Disponible"
               ]
              ],
              "marker.colors": [
               [
                "#636efa",
                "#ef553b"
               ],
               [
                "#636EFA",
                "#EF553B",
                "#00CC96",
                "#AB63FA",
                "#FFA15A",
                "#19D3F3",
                "#ef553b"
               ],
               [
                "#1F77B4",
                "#FF7F0E",
                "#2CA02C",
                "#D62728",
                "#9467BD",
                "#8C564B",
                "#ef553b"
               ],
               [
                "#636EFA",
                "#EF553B",
                "#00CC96",
                "#AB63FA",
                "#FFA15A",
                "#19D3F3",
                "#d3d3d3",
                "#ef553b"
               ]
              ],
              "values": [
               [
                134717774.414,
                380136.58599999547
               ],
               [
                10165540.08,
                10857932.45,
                9163159.886,
                100950609.118,
                983295,
                2597237.88,
                380136.58599999547
               ],
               [
                5706588.498,
                4817005.733,
                7756761.44,
                8672334.47,
                4270057.826,
                6853662.09,
                380136.58599999547
               ],
               [
                13969294.866,
                13899922.025,
                12724039.845,
                11595695.2,
                10065000.08,
                9361342.31,
                63102480.087999985,
                380136.58599999547
               ]
              ]
             },
             {
              "annotations[0].text": "Global",
              "annotations[1].text": "Semana : 65<br>Presupuesto Total : $135,097,911.00<br>Gasto Total : $134,717,774.41<br>Disponible : $380,136.59",
              "annotations[2].text": "Etapas",
              "annotations[3].text": "Semana : 65<br>Presupuesto Total : $135,097,911.00<br>DEVELOPMENT: $10,165,540.08<br>POST: $10,857,932.45<br>PREP: $9,163,159.89<br>SHOOT: $100,950,609.12<br>SOFT: $983,295.00<br>WRAP: $2,597,237.88<br>Disponible : $380,136.59",
              "annotations[4].text": "Departamento",
              "annotations[5].text": "Semana : 65<br>Presupuesto Total : $135,097,911.00<br>ANDA: $5,706,588.50<br>ARTE: $4,817,005.73<br>BALU: $7,756,761.44<br>DINAMITA: $8,672,334.47<br>LOCACIONES: $4,270,057.83<br>NOM: $6,853,662.09<br>Disponible : $380,136.59",
              "annotations[6].text": "Cuenta General",
              "annotations[7].text": "Semana : 65<br>Presupuesto Total : $135,097,911.00<br>7000: $13,969,294.87<br>1400: $13,899,922.03<br>3400: $12,724,039.85<br>3100: $11,595,695.20<br>1100: $10,065,000.08<br>1200: $9,361,342.31<br>Otros: $63,102,480.09<br>Disponible : $380,136.59",
              "title": "Presupuesto vs Gasto – Semana ≤ 65"
             }
            ],
            "label": "65",
            "method": "update"
           },
           {
            "args": [
             {
              "labels": [
               [
                "Gastado",
                "Disponible"
               ],
               [
                "DEVELOPMENT",
                "POST",
                "PREP (EXCESO)",
                "SHOOT (EXCESO)",
                "SOFT (EXCESO)",
                "WRAP",
                "Disponible"
               ],
               [
                "ANDA (EXCESO)",
                "ARTE",
                "BALU (EXCESO)",
                "DINAMITA",
                "LOCACIONES",
                "NOM",
                "Disponible"
               ],
               [
                "7000 (EXCESO)",
                "1400 (EXCESO)",
                "3400",
                "3100 (EXCESO)",
                "1100 (EXCESO)",
                "1200",
                "Otros",
                "Disponible"
               ]
              ],
              "marker.colors": [
               [
                "#636efa",
                "#ef553b"
               ],
               [
                "#636EFA",
                "#EF553B",
                "#00CC96",
                "#AB63FA",
                "#FFA15A",
                "#19D3F3",
                "#ef553b"
               ],
               [
                "#1F77B4",
                "#FF7F0E",
                "#2CA02C",
                "#D62728",
                "#9467BD",
                "#8C564B",
                "#ef553b"
               ],
               [
                "#636EFA",
                "#EF553B",
                "#00CC96",
                "#AB63FA",
                "#FFA15A",
                "#19D3F3",
                "#d3d3d3",
                "#ef553b"
               ]
              ],
              "values": [
               [
                134717774.414,
                380136.58599999547
               ],
               [
                10165540.08,
                10857932.45,
                9163159.886,
                100950609.118,
                983295,
                2597237.88,
                380136.58599999547
               ],
               [
                5706588.498,
                4817005.733,
                7756761.44,
                8672334.47,
                4270057.826,
                6853662.09,
                380136.58599999547
               ],
               [
                13969294.866,
                13899922.025,
                12724039.845,
                11595695.2,
                10065000.08,
                9361342.31,
                63102480.087999985,
                380136.58599999547
               ]
              ]
             },
             {
              "annotations[0].text": "Global",
              "annotations[1].text": "Semana : 66<br>Presupuesto Total : $135,097,911.00<br>Gasto Total : $134,717,774.41<br>Disponible : $380,136.59",
              "annotations[2].text": "Etapas",
              "annotations[3].text": "Semana : 66<br>Presupuesto Total : $135,097,911.00<br>DEVELOPMENT: $10,165,540.08<br>POST: $10,857,932.45<br>PREP: $9,163,159.89<br>SHOOT: $100,950,609.12<br>SOFT: $983,295.00<br>WRAP: $2,597,237.88<br>Disponible : $380,136.59",
              "annotations[4].text": "Departamento",
              "annotations[5].text": "Semana : 66<br>Presupuesto Total : $135,097,911.00<br>ANDA: $5,706,588.50<br>ARTE: $4,817,005.73<br>BALU: $7,756,761.44<br>DINAMITA: $8,672,334.47<br>LOCACIONES: $4,270,057.83<br>NOM: $6,853,662.09<br>Disponible : $380,136.59",
              "annotations[6].text": "Cuenta General",
              "annotations[7].text": "Semana : 66<br>Presupuesto Total : $135,097,911.00<br>7000: $13,969,294.87<br>1400: $13,899,922.03<br>3400: $12,724,039.85<br>3100: $11,595,695.20<br>1100: $10,065,000.08<br>1200: $9,361,342.31<br>Otros: $63,102,480.09<br>Disponible : $380,136.59",
              "title": "Presupuesto vs Gasto – Semana ≤ 66"
             }
            ],
            "label": "66",
            "method": "update"
           },
           {
            "args": [
             {
              "labels": [
               [
                "Presupuesto Agotado",
                "Excedente"
               ],
               [
                "DEVELOPMENT",
                "POST",
                "PREP (EXCESO)",
                "SHOOT (EXCESO)",
                "SOFT (EXCESO)",
                "WRAP",
                "Presupuesto Agotado",
                "Excedente"
               ],
               [
                "ANDA (EXCESO)",
                "ARTE",
                "BALU (EXCESO)",
                "DINAMITA",
                "LOCACIONES",
                "NOM",
                "Presupuesto Agotado",
                "Excedente"
               ],
               [
                "7000 (EXCESO)",
                "1400 (EXCESO)",
                "3400",
                "3100 (EXCESO)",
                "1100 (EXCESO)",
                "1200",
                "Otros (EXCESO)",
                "Presupuesto Agotado",
                "Excedente"
               ]
              ],
              "marker.colors": [
               [
                "#636efa",
                "#00cc96"
               ],
               [
                "#636EFA",
                "#EF553B",
                "#00CC96",
                "#AB63FA",
                "#FFA15A",
                "#19D3F3",
                "#636efa",
                "#00cc96"
               ],
               [
                "#1F77B4",
                "#FF7F0E",
                "#2CA02C",
                "#D62728",
                "#9467BD",
                "#8C564B",
                "#636efa",
                "#00cc96"
               ],
               [
                "#636EFA",
                "#EF553B",
                "#00CC96",
                "#AB63FA",
                "#FFA15A",
                "#19D3F3",
                "#d3d3d3",
                "#636efa",
                "#00cc96"
               ]
              ],
              "values": [
               [
                135097911,
                347713.41400000453
               ],
               [
                10165540.08,
                10857932.45,
                9163159.886,
                101678459.118,
                983295,
                2597237.88,
                0,
                347713.41400000453
               ],
               [
                5706588.498,
                4817005.733,
                7756761.44,
                8672334.47,
                4270057.826,
                6853662.09,
                0,
                347713.41400000453
               ],
               [
                13969294.866,
                13899922.025,
                12724039.845,
                11595695.2,
                10065000.08,
                9361342.31,
                63830330.087999985,
                0,
                347713.41400000453
               ]
              ]
             },
             {
              "annotations[0].text": "Global",
              "annotations[1].text": "Semana : 67<br>Presupuesto Total : $135,097,911.00<br>Gasto Total : $135,445,624.41<br>Excedido : $347,713.41",
              "annotations[2].text": "Etapas",
              "annotations[3].text": "Semana : 67<br>Presupuesto Total : $135,097,911.00<br>DEVELOPMENT: $10,165,540.08<br>POST: $10,857,932.45<br>PREP: $9,163,159.89<br>SHOOT: $101,678,459.12<br>SOFT: $983,295.00<br>WRAP: $2,597,237.88<br>Excedido : $347,713.41",
              "annotations[4].text": "Departamento",
              "annotations[5].text": "Semana : 67<br>Presupuesto Total : $135,097,911.00<br>ANDA: $5,706,588.50<br>ARTE: $4,817,005.73<br>BALU: $7,756,761.44<br>DINAMITA: $8,672,334.47<br>LOCACIONES: $4,270,057.83<br>NOM: $6,853,662.09<br>Excedido : $347,713.41",
              "annotations[6].text": "Cuenta General",
              "annotations[7].text": "Semana : 67<br>Presupuesto Total : $135,097,911.00<br>7000: $13,969,294.87<br>1400: $13,899,922.03<br>3400: $12,724,039.85<br>3100: $11,595,695.20<br>1100: $10,065,000.08<br>1200: $9,361,342.31<br>Otros: $63,830,330.09<br>Excedido : $347,713.41",
              "title": "Presupuesto vs Gasto – Semana ≤ 67"
             }
            ],
            "label": "67",
            "method": "update"
           },
           {
            "args": [
             {
              "labels": [
               [
                "Presupuesto Agotado",
                "Excedente"
               ],
               [
                "DEVELOPMENT",
                "POST",
                "PREP (EXCESO)",
                "SHOOT (EXCESO)",
                "SOFT (EXCESO)",
                "WRAP",
                "Presupuesto Agotado",
                "Excedente"
               ],
               [
                "ANDA (EXCESO)",
                "ARTE",
                "BALU (EXCESO)",
                "DINAMITA",
                "LOCACIONES",
                "NOM",
                "Presupuesto Agotado",
                "Excedente"
               ],
               [
                "7000 (EXCESO)",
                "1400 (EXCESO)",
                "3400",
                "3100 (EXCESO)",
                "1100 (EXCESO)",
                "1200",
                "Otros (EXCESO)",
                "Presupuesto Agotado",
                "Excedente"
               ]
              ],
              "marker.colors": [
               [
                "#636efa",
                "#00cc96"
               ],
               [
                "#636EFA",
                "#EF553B",
                "#00CC96",
                "#AB63FA",
                "#FFA15A",
                "#19D3F3",
                "#636efa",
                "#00cc96"
               ],
               [
                "#1F77B4",
                "#FF7F0E",
                "#2CA02C",
                "#D62728",
                "#9467BD",
                "#8C564B",
                "#636efa",
                "#00cc96"
               ],
               [
                "#636EFA",
                "#EF553B",
                "#00CC96",
                "#AB63FA",
                "#FFA15A",
                "#19D3F3",
                "#d3d3d3",
                "#636efa",
                "#00cc96"
               ]
              ],
              "values": [
               [
                135097911,
                347713.41400000453
               ],
               [
                10165540.08,
                10857932.45,
                9163159.886,
                101678459.118,
                983295,
                2597237.88,
                0,
                347713.41400000453
               ],
               [
                5706588.498,
                4817005.733,
                7756761.44,
                8672334.47,
                4270057.826,
                6853662.09,
                0,
                347713.41400000453
               ],
               [
                13969294.866,
                13899922.025,
                12724039.845,
                11595695.2,
                10065000.08,
                9361342.31,
                63830330.087999985,
                0,
                347713.41400000453
               ]
              ]
             },
             {
              "annotations[0].text": "Global",
              "annotations[1].text": "Semana : Todas<br>Presupuesto Total : $135,097,911.00<br>Gasto Total : $135,445,624.41<br>Excedido : $347,713.41",
              "annotations[2].text": "Etapas",
              "annotations[3].text": "Semana : Todas<br>Presupuesto Total : $135,097,911.00<br>DEVELOPMENT: $10,165,540.08<br>POST: $10,857,932.45<br>PREP: $9,163,159.89<br>SHOOT: $101,678,459.12<br>SOFT: $983,295.00<br>WRAP: $2,597,237.88<br>Excedido : $347,713.41",
              "annotations[4].text": "Departamento",
              "annotations[5].text": "Semana : Todas<br>Presupuesto Total : $135,097,911.00<br>ANDA: $5,706,588.50<br>ARTE: $4,817,005.73<br>BALU: $7,756,761.44<br>DINAMITA: $8,672,334.47<br>LOCACIONES: $4,270,057.83<br>NOM: $6,853,662.09<br>Excedido : $347,713.41",
              "annotations[6].text": "Cuenta General",
              "annotations[7].text": "Semana : Todas<br>Presupuesto Total : $135,097,911.00<br>7000: $13,969,294.87<br>1400: $13,899,922.03<br>3400: $12,724,039.85<br>3100: $11,595,695.20<br>1100: $10,065,000.08<br>1200: $9,361,342.31<br>Otros: $63,830,330.09<br>Excedido : $347,713.41",
              "title": "Presupuesto vs Gasto – Todas las Semanas"
             }
            ],
            "label": "Todas",
            "method": "update"
           }
          ]
         }
        ],
        "template": {
         "data": {
          "bar": [
           {
            "error_x": {
             "color": "#2a3f5f"
            },
            "error_y": {
             "color": "#2a3f5f"
            },
            "marker": {
             "line": {
              "color": "#E5ECF6",
              "width": 0.5
             },
             "pattern": {
              "fillmode": "overlay",
              "size": 10,
              "solidity": 0.2
             }
            },
            "type": "bar"
           }
          ],
          "barpolar": [
           {
            "marker": {
             "line": {
              "color": "#E5ECF6",
              "width": 0.5
             },
             "pattern": {
              "fillmode": "overlay",
              "size": 10,
              "solidity": 0.2
             }
            },
            "type": "barpolar"
           }
          ],
          "carpet": [
           {
            "aaxis": {
             "endlinecolor": "#2a3f5f",
             "gridcolor": "white",
             "linecolor": "white",
             "minorgridcolor": "white",
             "startlinecolor": "#2a3f5f"
            },
            "baxis": {
             "endlinecolor": "#2a3f5f",
             "gridcolor": "white",
             "linecolor": "white",
             "minorgridcolor": "white",
             "startlinecolor": "#2a3f5f"
            },
            "type": "carpet"
           }
          ],
          "choropleth": [
           {
            "colorbar": {
             "outlinewidth": 0,
             "ticks": ""
            },
            "type": "choropleth"
           }
          ],
          "contour": [
           {
            "colorbar": {
             "outlinewidth": 0,
             "ticks": ""
            },
            "colorscale": [
             [
              0,
              "#0d0887"
             ],
             [
              0.1111111111111111,
              "#46039f"
             ],
             [
              0.2222222222222222,
              "#7201a8"
             ],
             [
              0.3333333333333333,
              "#9c179e"
             ],
             [
              0.4444444444444444,
              "#bd3786"
             ],
             [
              0.5555555555555556,
              "#d8576b"
             ],
             [
              0.6666666666666666,
              "#ed7953"
             ],
             [
              0.7777777777777778,
              "#fb9f3a"
             ],
             [
              0.8888888888888888,
              "#fdca26"
             ],
             [
              1,
              "#f0f921"
             ]
            ],
            "type": "contour"
           }
          ],
          "contourcarpet": [
           {
            "colorbar": {
             "outlinewidth": 0,
             "ticks": ""
            },
            "type": "contourcarpet"
           }
          ],
          "heatmap": [
           {
            "colorbar": {
             "outlinewidth": 0,
             "ticks": ""
            },
            "colorscale": [
             [
              0,
              "#0d0887"
             ],
             [
              0.1111111111111111,
              "#46039f"
             ],
             [
              0.2222222222222222,
              "#7201a8"
             ],
             [
              0.3333333333333333,
              "#9c179e"
             ],
             [
              0.4444444444444444,
              "#bd3786"
             ],
             [
              0.5555555555555556,
              "#d8576b"
             ],
             [
              0.6666666666666666,
              "#ed7953"
             ],
             [
              0.7777777777777778,
              "#fb9f3a"
             ],
             [
              0.8888888888888888,
              "#fdca26"
             ],
             [
              1,
              "#f0f921"
             ]
            ],
            "type": "heatmap"
           }
          ],
          "histogram": [
           {
            "marker": {
             "pattern": {
              "fillmode": "overlay",
              "size": 10,
              "solidity": 0.2
             }
            },
            "type": "histogram"
           }
          ],
          "histogram2d": [
           {
            "colorbar": {
             "outlinewidth": 0,
             "ticks": ""
            },
            "colorscale": [
             [
              0,
              "#0d0887"
             ],
             [
              0.1111111111111111,
              "#46039f"
             ],
             [
              0.2222222222222222,
              "#7201a8"
             ],
             [
              0.3333333333333333,
              "#9c179e"
             ],
             [
              0.4444444444444444,
              "#bd3786"
             ],
             [
              0.5555555555555556,
              "#d8576b"
             ],
             [
              0.6666666666666666,
              "#ed7953"
             ],
             [
              0.7777777777777778,
              "#fb9f3a"
             ],
             [
              0.8888888888888888,
              "#fdca26"
             ],
             [
              1,
              "#f0f921"
             ]
            ],
            "type": "histogram2d"
           }
          ],
          "histogram2dcontour": [
           {
            "colorbar": {
             "outlinewidth": 0,
             "ticks": ""
            },
            "colorscale": [
             [
              0,
              "#0d0887"
             ],
             [
              0.1111111111111111,
              "#46039f"
             ],
             [
              0.2222222222222222,
              "#7201a8"
             ],
             [
              0.3333333333333333,
              "#9c179e"
             ],
             [
              0.4444444444444444,
              "#bd3786"
             ],
             [
              0.5555555555555556,
              "#d8576b"
             ],
             [
              0.6666666666666666,
              "#ed7953"
             ],
             [
              0.7777777777777778,
              "#fb9f3a"
             ],
             [
              0.8888888888888888,
              "#fdca26"
             ],
             [
              1,
              "#f0f921"
             ]
            ],
            "type": "histogram2dcontour"
           }
          ],
          "mesh3d": [
           {
            "colorbar": {
             "outlinewidth": 0,
             "ticks": ""
            },
            "type": "mesh3d"
           }
          ],
          "parcoords": [
           {
            "line": {
             "colorbar": {
              "outlinewidth": 0,
              "ticks": ""
             }
            },
            "type": "parcoords"
           }
          ],
          "pie": [
           {
            "automargin": true,
            "type": "pie"
           }
          ],
          "scatter": [
           {
            "fillpattern": {
             "fillmode": "overlay",
             "size": 10,
             "solidity": 0.2
            },
            "type": "scatter"
           }
          ],
          "scatter3d": [
           {
            "line": {
             "colorbar": {
              "outlinewidth": 0,
              "ticks": ""
             }
            },
            "marker": {
             "colorbar": {
              "outlinewidth": 0,
              "ticks": ""
             }
            },
            "type": "scatter3d"
           }
          ],
          "scattercarpet": [
           {
            "marker": {
             "colorbar": {
              "outlinewidth": 0,
              "ticks": ""
             }
            },
            "type": "scattercarpet"
           }
          ],
          "scattergeo": [
           {
            "marker": {
             "colorbar": {
              "outlinewidth": 0,
              "ticks": ""
             }
            },
            "type": "scattergeo"
           }
          ],
          "scattergl": [
           {
            "marker": {
             "colorbar": {
              "outlinewidth": 0,
              "ticks": ""
             }
            },
            "type": "scattergl"
           }
          ],
          "scattermap": [
           {
            "marker": {
             "colorbar": {
              "outlinewidth": 0,
              "ticks": ""
             }
            },
            "type": "scattermap"
           }
          ],
          "scattermapbox": [
           {
            "marker": {
             "colorbar": {
              "outlinewidth": 0,
              "ticks": ""
             }
            },
            "type": "scattermapbox"
           }
          ],
          "scatterpolar": [
           {
            "marker": {
             "colorbar": {
              "outlinewidth": 0,
              "ticks": ""
             }
            },
            "type": "scatterpolar"
           }
          ],
          "scatterpolargl": [
           {
            "marker": {
             "colorbar": {
              "outlinewidth": 0,
              "ticks": ""
             }
            },
            "type": "scatterpolargl"
           }
          ],
          "scatterternary": [
           {
            "marker": {
             "colorbar": {
              "outlinewidth": 0,
              "ticks": ""
             }
            },
            "type": "scatterternary"
           }
          ],
          "surface": [
           {
            "colorbar": {
             "outlinewidth": 0,
             "ticks": ""
            },
            "colorscale": [
             [
              0,
              "#0d0887"
             ],
             [
              0.1111111111111111,
              "#46039f"
             ],
             [
              0.2222222222222222,
              "#7201a8"
             ],
             [
              0.3333333333333333,
              "#9c179e"
             ],
             [
              0.4444444444444444,
              "#bd3786"
             ],
             [
              0.5555555555555556,
              "#d8576b"
             ],
             [
              0.6666666666666666,
              "#ed7953"
             ],
             [
              0.7777777777777778,
              "#fb9f3a"
             ],
             [
              0.8888888888888888,
              "#fdca26"
             ],
             [
              1,
              "#f0f921"
             ]
            ],
            "type": "surface"
           }
          ],
          "table": [
           {
            "cells": {
             "fill": {
              "color": "#EBF0F8"
             },
             "line": {
              "color": "white"
             }
            },
            "header": {
             "fill": {
              "color": "#C8D4E3"
             },
             "line": {
              "color": "white"
             }
            },
            "type": "table"
           }
          ]
         },
         "layout": {
          "annotationdefaults": {
           "arrowcolor": "#2a3f5f",
           "arrowhead": 0,
           "arrowwidth": 1
          },
          "autotypenumbers": "strict",
          "coloraxis": {
           "colorbar": {
            "outlinewidth": 0,
            "ticks": ""
           }
          },
          "colorscale": {
           "diverging": [
            [
             0,
             "#8e0152"
            ],
            [
             0.1,
             "#c51b7d"
            ],
            [
             0.2,
             "#de77ae"
            ],
            [
             0.3,
             "#f1b6da"
            ],
            [
             0.4,
             "#fde0ef"
            ],
            [
             0.5,
             "#f7f7f7"
            ],
            [
             0.6,
             "#e6f5d0"
            ],
            [
             0.7,
             "#b8e186"
            ],
            [
             0.8,
             "#7fbc41"
            ],
            [
             0.9,
             "#4d9221"
            ],
            [
             1,
             "#276419"
            ]
           ],
           "sequential": [
            [
             0,
             "#0d0887"
            ],
            [
             0.1111111111111111,
             "#46039f"
            ],
            [
             0.2222222222222222,
             "#7201a8"
            ],
            [
             0.3333333333333333,
             "#9c179e"
            ],
            [
             0.4444444444444444,
             "#bd3786"
            ],
            [
             0.5555555555555556,
             "#d8576b"
            ],
            [
             0.6666666666666666,
             "#ed7953"
            ],
            [
             0.7777777777777778,
             "#fb9f3a"
            ],
            [
             0.8888888888888888,
             "#fdca26"
            ],
            [
             1,
             "#f0f921"
            ]
           ],
           "sequentialminus": [
            [
             0,
             "#0d0887"
            ],
            [
             0.1111111111111111,
             "#46039f"
            ],
            [
             0.2222222222222222,
             "#7201a8"
            ],
            [
             0.3333333333333333,
             "#9c179e"
            ],
            [
             0.4444444444444444,
             "#bd3786"
            ],
            [
             0.5555555555555556,
             "#d8576b"
            ],
            [
             0.6666666666666666,
             "#ed7953"
            ],
            [
             0.7777777777777778,
             "#fb9f3a"
            ],
            [
             0.8888888888888888,
             "#fdca26"
            ],
            [
             1,
             "#f0f921"
            ]
           ]
          },
          "colorway": [
           "#636efa",
           "#EF553B",
           "#00cc96",
           "#ab63fa",
           "#FFA15A",
           "#19d3f3",
           "#FF6692",
           "#B6E880",
           "#FF97FF",
           "#FECB52"
          ],
          "font": {
           "color": "#2a3f5f"
          },
          "geo": {
           "bgcolor": "white",
           "lakecolor": "white",
           "landcolor": "#E5ECF6",
           "showlakes": true,
           "showland": true,
           "subunitcolor": "white"
          },
          "hoverlabel": {
           "align": "left"
          },
          "hovermode": "closest",
          "mapbox": {
           "style": "light"
          },
          "paper_bgcolor": "white",
          "plot_bgcolor": "#E5ECF6",
          "polar": {
           "angularaxis": {
            "gridcolor": "white",
            "linecolor": "white",
            "ticks": ""
           },
           "bgcolor": "#E5ECF6",
           "radialaxis": {
            "gridcolor": "white",
            "linecolor": "white",
            "ticks": ""
           }
          },
          "scene": {
           "xaxis": {
            "backgroundcolor": "#E5ECF6",
            "gridcolor": "white",
            "gridwidth": 2,
            "linecolor": "white",
            "showbackground": true,
            "ticks": "",
            "zerolinecolor": "white"
           },
           "yaxis": {
            "backgroundcolor": "#E5ECF6",
            "gridcolor": "white",
            "gridwidth": 2,
            "linecolor": "white",
            "showbackground": true,
            "ticks": "",
            "zerolinecolor": "white"
           },
           "zaxis": {
            "backgroundcolor": "#E5ECF6",
            "gridcolor": "white",
            "gridwidth": 2,
            "linecolor": "white",
            "showbackground": true,
            "ticks": "",
            "zerolinecolor": "white"
           }
          },
          "shapedefaults": {
           "line": {
            "color": "#2a3f5f"
           }
          },
          "ternary": {
           "aaxis": {
            "gridcolor": "white",
            "linecolor": "white",
            "ticks": ""
           },
           "baxis": {
            "gridcolor": "white",
            "linecolor": "white",
            "ticks": ""
           },
           "bgcolor": "#E5ECF6",
           "caxis": {
            "gridcolor": "white",
            "linecolor": "white",
            "ticks": ""
           }
          },
          "title": {
           "x": 0.05
          },
          "xaxis": {
           "automargin": true,
           "gridcolor": "white",
           "linecolor": "white",
           "ticks": "",
           "title": {
            "standoff": 15
           },
           "zerolinecolor": "white",
           "zerolinewidth": 2
          },
          "yaxis": {
           "automargin": true,
           "gridcolor": "white",
           "linecolor": "white",
           "ticks": "",
           "title": {
            "standoff": 15
           },
           "zerolinecolor": "white",
           "zerolinewidth": 2
          }
         }
        },
        "title": {
         "text": "Presupuesto vs Gasto – Global"
        },
        "updatemenus": [
         {
          "active": 0,
          "buttons": [
           {
            "args": [
             {
              "visible": [
               true,
               false,
               false,
               false
              ]
             },
             {
              "annotations": [
               {
                "font_size": 20,
                "showarrow": false,
                "text": "Global",
                "visible": true,
                "x": 0.5,
                "y": 0.5
               },
               {
                "font_size": 14,
                "showarrow": false,
                "text": "Semana : 0<br>Presupuesto Total : $135,097,911.00<br>Gasto Total : $0.00<br>Disponible : $135,097,911.00",
                "visible": true,
                "x": -0.25,
                "xanchor": "left",
                "y": 0.5,
                "yanchor": "middle"
               },
               {
                "font_size": 20,
                "showarrow": false,
                "text": "Etapas",
                "visible": false,
                "x": 0.5,
                "y": 0.5
               },
               {
                "font_size": 14,
                "showarrow": false,
                "text": "Semana : 0<br>Presupuesto Total : $135,097,911.00<br>DEVELOPMENT: $0.00<br>POST: $0.00<br>PREP: $0.00<br>SHOOT: $0.00<br>SOFT: $0.00<br>WRAP: $0.00<br>Disponible : $135,097,911.00",
                "visible": false,
                "x": -0.25,
                "xanchor": "left",
                "y": 0.5,
                "yanchor": "middle"
               },
               {
                "font_size": 20,
                "showarrow": false,
                "text": "Departamento",
                "visible": false,
                "x": 0.5,
                "y": 0.5
               },
               {
                "font_size": 14,
                "showarrow": false,
                "text": "Semana : 0<br>Presupuesto Total : $135,097,911.00<br>ANDA: $0.00<br>ARTE: $0.00<br>BALU: $0.00<br>DINAMITA: $0.00<br>LOCACIONES: $0.00<br>NOM: $0.00<br>Disponible : $135,097,911.00",
                "visible": false,
                "x": -0.25,
                "xanchor": "left",
                "y": 0.5,
                "yanchor": "middle"
               },
               {
                "font_size": 20,
                "showarrow": false,
                "text": "Cuenta General",
                "visible": false,
                "x": 0.5,
                "y": 0.5
               },
               {
                "font_size": 14,
                "showarrow": false,
                "text": "Semana : 0<br>Presupuesto Total : $135,097,911.00<br>1100: $0.00<br>1200: $0.00<br>1300: $0.00<br>1400: $0.00<br>1600: $0.00<br>2000: $0.00<br>Otros: $0.00<br>Disponible : $135,097,911.00",
                "visible": false,
                "x": -0.25,
                "xanchor": "left",
                "y": 0.5,
                "yanchor": "middle"
               }
              ],
              "title": "Presupuesto vs Gasto – Global"
             }
            ],
            "label": "Global",
            "method": "update"
           },
           {
            "args": [
             {
              "visible": [
               false,
               true,
               false,
               false
              ]
             },
             {
              "annotations": [
               {
                "font_size": 20,
                "showarrow": false,
                "text": "Global",
                "visible": false,
                "x": 0.5,
                "y": 0.5
               },
               {
                "font_size": 14,
                "showarrow": false,
                "text": "Semana : 0<br>Presupuesto Total : $135,097,911.00<br>Gasto Total : $0.00<br>Disponible : $135,097,911.00",
                "visible": false,
                "x": -0.25,
                "xanchor": "left",
                "y": 0.5,
                "yanchor": "middle"
               },
               {
                "font_size": 20,
                "showarrow": false,
                "text": "Etapas",
                "visible": true,
                "x": 0.5,
                "y": 0.5
               },
               {
                "font_size": 14,
                "showarrow": false,
                "text": "Semana : 0<br>Presupuesto Total : $135,097,911.00<br>DEVELOPMENT: $0.00<br>POST: $0.00<br>PREP: $0.00<br>SHOOT: $0.00<br>SOFT: $0.00<br>WRAP: $0.00<br>Disponible : $135,097,911.00",
                "visible": true,
                "x": -0.25,
                "xanchor": "left",
                "y": 0.5,
                "yanchor": "middle"
               },
               {
                "font_size": 20,
                "showarrow": false,
                "text": "Departamento",
                "visible": false,
                "x": 0.5,
                "y": 0.5
               },
               {
                "font_size": 14,
                "showarrow": false,
                "text": "Semana : 0<br>Presupuesto Total : $135,097,911.00<br>ANDA: $0.00<br>ARTE: $0.00<br>BALU: $0.00<br>DINAMITA: $0.00<br>LOCACIONES: $0.00<br>NOM: $0.00<br>Disponible : $135,097,911.00",
                "visible": false,
                "x": -0.25,
                "xanchor": "left",
                "y": 0.5,
                "yanchor": "middle"
               },
               {
                "font_size": 20,
                "showarrow": false,
                "text": "Cuenta General",
                "visible": false,
                "x": 0.5,
                "y": 0.5
               },
               {
                "font_size": 14,
                "showarrow": false,
                "text": "Semana : 0<br>Presupuesto Total : $135,097,911.00<br>1100: $0.00<br>1200: $0.00<br>1300: $0.00<br>1400: $0.00<br>1600: $0.00<br>2000: $0.00<br>Otros: $0.00<br>Disponible : $135,097,911.00",
                "visible": false,
                "x": -0.25,
                "xanchor": "left",
                "y": 0.5,
                "yanchor": "middle"
               }
              ],
              "title": "Presupuesto vs Gasto – Etapa"
             }
            ],
            "label": "Etapa",
            "method": "update"
           },
           {
            "args": [
             {
              "visible": [
               false,
               false,
               true,
               false
              ]
             },
             {
              "annotations": [
               {
                "font_size": 20,
                "showarrow": false,
                "text": "Global",
                "visible": false,
                "x": 0.5,
                "y": 0.5
               },
               {
                "font_size": 14,
                "showarrow": false,
                "text": "Semana : 0<br>Presupuesto Total : $135,097,911.00<br>Gasto Total : $0.00<br>Disponible : $135,097,911.00",
                "visible": false,
                "x": -0.25,
                "xanchor": "left",
                "y": 0.5,
                "yanchor": "middle"
               },
               {
                "font_size": 20,
                "showarrow": false,
                "text": "Etapas",
                "visible": false,
                "x": 0.5,
                "y": 0.5
               },
               {
                "font_size": 14,
                "showarrow": false,
                "text": "Semana : 0<br>Presupuesto Total : $135,097,911.00<br>DEVELOPMENT: $0.00<br>POST: $0.00<br>PREP: $0.00<br>SHOOT: $0.00<br>SOFT: $0.00<br>WRAP: $0.00<br>Disponible : $135,097,911.00",
                "visible": false,
                "x": -0.25,
                "xanchor": "left",
                "y": 0.5,
                "yanchor": "middle"
               },
               {
                "font_size": 20,
                "showarrow": false,
                "text": "Departamento",
                "visible": true,
                "x": 0.5,
                "y": 0.5
               },
               {
                "font_size": 14,
                "showarrow": false,
                "text": "Semana : 0<br>Presupuesto Total : $135,097,911.00<br>ANDA: $0.00<br>ARTE: $0.00<br>BALU: $0.00<br>DINAMITA: $0.00<br>LOCACIONES: $0.00<br>NOM: $0.00<br>Disponible : $135,097,911.00",
                "visible": true,
                "x": -0.25,
                "xanchor": "left",
                "y": 0.5,
                "yanchor": "middle"
               },
               {
                "font_size": 20,
                "showarrow": false,
                "text": "Cuenta General",
                "visible": false,
                "x": 0.5,
                "y": 0.5
               },
               {
                "font_size": 14,
                "showarrow": false,
                "text": "Semana : 0<br>Presupuesto Total : $135,097,911.00<br>1100: $0.00<br>1200: $0.00<br>1300: $0.00<br>1400: $0.00<br>1600: $0.00<br>2000: $0.00<br>Otros: $0.00<br>Disponible : $135,097,911.00",
                "visible": false,
                "x": -0.25,
                "xanchor": "left",
                "y": 0.5,
                "yanchor": "middle"
               }
              ],
              "title": "Presupuesto vs Gasto – Departamento"
             }
            ],
            "label": "Departamento",
            "method": "update"
           },
           {
            "args": [
             {
              "visible": [
               false,
               false,
               false,
               true
              ]
             },
             {
              "annotations": [
               {
                "font_size": 20,
                "showarrow": false,
                "text": "Global",
                "visible": false,
                "x": 0.5,
                "y": 0.5
               },
               {
                "font_size": 14,
                "showarrow": false,
                "text": "Semana : 0<br>Presupuesto Total : $135,097,911.00<br>Gasto Total : $0.00<br>Disponible : $135,097,911.00",
                "visible": false,
                "x": -0.25,
                "xanchor": "left",
                "y": 0.5,
                "yanchor": "middle"
               },
               {
                "font_size": 20,
                "showarrow": false,
                "text": "Etapas",
                "visible": false,
                "x": 0.5,
                "y": 0.5
               },
               {
                "font_size": 14,
                "showarrow": false,
                "text": "Semana : 0<br>Presupuesto Total : $135,097,911.00<br>DEVELOPMENT: $0.00<br>POST: $0.00<br>PREP: $0.00<br>SHOOT: $0.00<br>SOFT: $0.00<br>WRAP: $0.00<br>Disponible : $135,097,911.00",
                "visible": false,
                "x": -0.25,
                "xanchor": "left",
                "y": 0.5,
                "yanchor": "middle"
               },
               {
                "font_size": 20,
                "showarrow": false,
                "text": "Departamento",
                "visible": false,
                "x": 0.5,
                "y": 0.5
               },
               {
                "font_size": 14,
                "showarrow": false,
                "text": "Semana : 0<br>Presupuesto Total : $135,097,911.00<br>ANDA: $0.00<br>ARTE: $0.00<br>BALU: $0.00<br>DINAMITA: $0.00<br>LOCACIONES: $0.00<br>NOM: $0.00<br>Disponible : $135,097,911.00",
                "visible": false,
                "x": -0.25,
                "xanchor": "left",
                "y": 0.5,
                "yanchor": "middle"
               },
               {
                "font_size": 20,
                "showarrow": false,
                "text": "Cuenta General",
                "visible": true,
                "x": 0.5,
                "y": 0.5
               },
               {
                "font_size": 14,
                "showarrow": false,
                "text": "Semana : 0<br>Presupuesto Total : $135,097,911.00<br>1100: $0.00<br>1200: $0.00<br>1300: $0.00<br>1400: $0.00<br>1600: $0.00<br>2000: $0.00<br>Otros: $0.00<br>Disponible : $135,097,911.00",
                "visible": true,
                "x": -0.25,
                "xanchor": "left",
                "y": 0.5,
                "yanchor": "middle"
               }
              ],
              "title": "Presupuesto vs Gasto – Cuenta General"
             }
            ],
            "label": "Cuenta General",
            "method": "update"
           }
          ],
          "x": 0,
          "xanchor": "left",
          "y": 1.15,
          "yanchor": "top"
         }
        ]
       }
      }
     },
     "metadata": {},
     "output_type": "display_data"
    }
   ],
   "source": [
    "# 1. Totales rápidos para verificar en consola\n",
    "suma_budget_final     = df_cost_data_validado[\"BUDGET\"].sum()\n",
    "suma_cost_total_final = df_cost_data_validado[\"Cost_Total\"].sum()\n",
    "print(\"🔍 Totales finales:\")\n",
    "print(f\"  Presupuesto Total   : {suma_budget_final:,.2f}\")\n",
    "print(f\"  Presupuesto Gastado : {suma_cost_total_final:,.2f}\")\n",
    "\n",
    "# 2. Calculamos “Semana” (cada 7 días → 1 semana) y “Sin Semana Asignada”\n",
    "df = df_cost_data_validado.copy()\n",
    "df[\"Semana\"] = df[\"FECHA_NUM_LIMPIA\"].dropna().astype(int) // 7\n",
    "df[\"Semana\"] = df[\"Semana\"].astype(\"Int64\")\n",
    "df[\"SemanaCat\"] = df[\"Semana\"].astype(str).fillna(\"Sin Semana Asignada\")\n",
    "\n",
    "# 3. Rango de semanas (0 … max_week) + índice extra para “Todas las Semanas”\n",
    "max_week = int(df[\"Semana\"].dropna().max()) if not df[\"Semana\"].dropna().empty else 0\n",
    "\n",
    "# 4. Presupuesto global\n",
    "budget_total = df[\"BUDGET\"].sum()\n",
    "\n",
    "# 5. Presupuesto por dimensión\n",
    "budget_by_etapa = df.groupby(\"Etapa Normalizada\")[\"BUDGET\"].sum().to_dict()\n",
    "budget_by_dep   = df.groupby(\"Sección\")[\"BUDGET\"].sum().to_dict()\n",
    "budget_by_cg    = df.groupby(\"Cuenta General\")[\"BUDGET\"].sum().to_dict()\n",
    "\n",
    "# 6. Gasto acumulado por semana (Global)\n",
    "spent_cum_total = {}\n",
    "for w in range(0, max_week + 1):\n",
    "    segmento = df[((df[\"Semana\"].notna()) & (df[\"Semana\"] <= w)) | (df[\"Semana\"].isna())]\n",
    "    spent_cum_total[w] = segmento[\"Cost_Total\"].sum()\n",
    "# Índice “Todas las Semanas” = max_week + 1\n",
    "spent_cum_total[max_week + 1] = df[\"Cost_Total\"].sum()\n",
    "\n",
    "# 7. Función: gasto acumulado por dimensión “dim_col” hasta la semana w\n",
    "def spent_cum_by_dim(dim_col, w):\n",
    "    segmento = df[((df[\"Semana\"].notna()) & (df[\"Semana\"] <= w)) | (df[\"Semana\"].isna())]\n",
    "    return segmento.groupby(dim_col)[\"Cost_Total\"].sum().to_dict()\n",
    "\n",
    "# 8. Categorías ordenadas (Etapas y Departamentos)\n",
    "cats_etapa = sorted(budget_by_etapa.keys())\n",
    "cats_dep   = sorted(budget_by_dep.keys())\n",
    "\n",
    "# 9. Paletas de color para Etapa y Departamento\n",
    "paleta_etapas = px.colors.qualitative.Plotly\n",
    "colors_etapas = [paleta_etapas[i % len(paleta_etapas)] for i in range(len(cats_etapa))]\n",
    "\n",
    "paleta_dep = px.colors.qualitative.D3\n",
    "colors_dep = [paleta_dep[i % len(paleta_dep)] for i in range(len(cats_dep))]\n",
    "\n",
    "# 10. Creamos la figura vacía\n",
    "fig = go.Figure()\n",
    "\n",
    "# ============================================================\n",
    "# 10.1. TRAZO GLOBAL inicial (w0 = 0)\n",
    "# ============================================================\n",
    "w0 = 0\n",
    "spent0_total = spent_cum_total[w0]\n",
    "\n",
    "if spent0_total <= budget_total:\n",
    "    labels_g0 = [\"Gastado\", \"Disponible\"]\n",
    "    vals_g0   = [spent0_total, budget_total - spent0_total]\n",
    "    colors_g0 = [\"#636efa\", \"#ef553b\"]\n",
    "    # Texto de Global en w0\n",
    "    txt_g0_0 = \"Global\"\n",
    "    txt_g0_1 = (\n",
    "        f\"Semana : {w0}<br>\"\n",
    "        f\"Presupuesto Total : ${budget_total:,.2f}<br>\"\n",
    "        f\"Gasto Total : ${spent0_total:,.2f}<br>\"\n",
    "        f\"Disponible : ${budget_total - spent0_total:,.2f}\"\n",
    "    )\n",
    "else:\n",
    "    exced0 = spent0_total - budget_total\n",
    "    labels_g0 = [\"Presupuesto Agotado\", \"Excedente\"]\n",
    "    vals_g0   = [budget_total, exced0]\n",
    "    colors_g0 = [\"#636efa\", \"#00cc96\"]\n",
    "    txt_g0_0 = \"Global\"\n",
    "    txt_g0_1 = (\n",
    "        f\"Semana : {w0}<br>\"\n",
    "        f\"Presupuesto Total : ${budget_total:,.2f}<br>\"\n",
    "        f\"Gasto Total : ${spent0_total:,.2f}<br>\"\n",
    "        f\"Excedido : ${exced0:,.2f}\"\n",
    "    )\n",
    "\n",
    "fig.add_trace(\n",
    "    go.Pie(\n",
    "        labels=labels_g0,\n",
    "        values=vals_g0,\n",
    "        name=\"Global\",\n",
    "        hole=0.5,\n",
    "        sort=False,\n",
    "        textinfo=\"label+percent\",\n",
    "        marker=dict(colors=colors_g0, line=dict(color=\"#FFFFFF\", width=2)),\n",
    "        visible=True,\n",
    "        domain={\"x\": [0, 1], \"y\": [0, 1]}\n",
    "    )\n",
    ")\n",
    "\n",
    "# ============================================================\n",
    "# 10.2. TRAZO ETAPA inicial (w0 = 0)\n",
    "# ============================================================\n",
    "spent0_etapa = spent_cum_by_dim(\"Etapa Normalizada\", w0)\n",
    "labels_e0 = []\n",
    "vals_e0   = []\n",
    "for etapa in cats_etapa:\n",
    "    spent_e = spent0_etapa.get(etapa, 0.0)\n",
    "    budget_e = budget_by_etapa.get(etapa, 0.0)\n",
    "    etiqueta = etapa\n",
    "    if spent_e > budget_e:\n",
    "        etiqueta += \" (EXCESO)\"\n",
    "    labels_e0.append(etiqueta)\n",
    "    vals_e0.append(spent_e)\n",
    "\n",
    "if spent0_total <= budget_total:\n",
    "    labels_e0 = labels_e0 + [\"Disponible\"]\n",
    "    vals_e0   = vals_e0 + [budget_total - spent0_total]\n",
    "    colors_e0 = colors_etapas + [\"#ef553b\"]\n",
    "    txt_e0_0 = \"Etapas\"\n",
    "    txt_e0_1 = (\n",
    "        f\"Semana : {w0}<br>\"\n",
    "        f\"Presupuesto Total : ${budget_total:,.2f}<br>\"\n",
    "        + \"\".join([f\"{e_nm}: ${spent0_etapa.get(e_nm,0.0):,.2f}<br>\" for e_nm in cats_etapa]) +\n",
    "        f\"Disponible : ${budget_total - spent0_total:,.2f}\"\n",
    "    )\n",
    "else:\n",
    "    exced0 = spent0_total - budget_total\n",
    "    labels_e0 = labels_e0 + [\"Presupuesto Agotado\", \"Excedente\"]\n",
    "    vals_e0   = vals_e0 + [0, exced0]\n",
    "    colors_e0 = colors_etapas + [\"#636efa\", \"#00cc96\"]\n",
    "    txt_e0_0 = \"Etapas\"\n",
    "    txt_e0_1 = (\n",
    "        f\"Semana : {w0}<br>\"\n",
    "        f\"Presupuesto Total : ${budget_total:,.2f}<br>\"\n",
    "        + \"\".join([f\"{e_nm}: ${spent0_etapa.get(e_nm,0.0):,.2f}<br>\" for e_nm in cats_etapa]) +\n",
    "        f\"Excedido : ${exced0:,.2f}\"\n",
    "    )\n",
    "\n",
    "fig.add_trace(\n",
    "    go.Pie(\n",
    "        labels=labels_e0,\n",
    "        values=vals_e0,\n",
    "        name=\"Etapa\",\n",
    "        hole=0.5,\n",
    "        sort=False,\n",
    "        textinfo=\"label+percent\",\n",
    "        marker=dict(colors=colors_e0, line=dict(color=\"#FFFFFF\", width=2)),\n",
    "        visible=False,\n",
    "        domain={\"x\": [0, 1], \"y\": [0, 1]}\n",
    "    )\n",
    ")\n",
    "\n",
    "# ============================================================\n",
    "# 10.3. TRAZO DEPARTAMENTO inicial (w0 = 0)\n",
    "# ============================================================\n",
    "spent0_dep = spent_cum_by_dim(\"Sección\", w0)\n",
    "labels_d0 = []\n",
    "vals_d0   = []\n",
    "for dep in cats_dep:\n",
    "    spent_d = spent0_dep.get(dep, 0.0)\n",
    "    budget_d = budget_by_dep.get(dep, 0.0)\n",
    "    etiqueta = dep\n",
    "    if spent_d > budget_d:\n",
    "        etiqueta += \" (EXCESO)\"\n",
    "    labels_d0.append(etiqueta)\n",
    "    vals_d0.append(spent_d)\n",
    "\n",
    "if spent0_total <= budget_total:\n",
    "    labels_d0 = labels_d0 + [\"Disponible\"]\n",
    "    vals_d0   = vals_d0 + [budget_total - spent0_total]\n",
    "    colors_d0 = colors_dep + [\"#ef553b\"]\n",
    "    txt_d0_0 = \"Departamento\"\n",
    "    txt_d0_1 = (\n",
    "        f\"Semana : {w0}<br>\"\n",
    "        f\"Presupuesto Total : ${budget_total:,.2f}<br>\"\n",
    "        + \"\".join([f\"{d_nm}: ${spent0_dep.get(d_nm,0.0):,.2f}<br>\" for d_nm in cats_dep]) +\n",
    "        f\"Disponible : ${budget_total - spent0_total:,.2f}\"\n",
    "    )\n",
    "else:\n",
    "    exced0 = spent0_total - budget_total\n",
    "    labels_d0 = labels_d0 + [\"Presupuesto Agotado\", \"Excedente\"]\n",
    "    vals_d0   = vals_d0 + [0, exced0]\n",
    "    colors_d0 = colors_dep + [\"#636efa\", \"#00cc96\"]\n",
    "    txt_d0_0 = \"Departamento\"\n",
    "    txt_d0_1 = (\n",
    "        f\"Semana : {w0}<br>\"\n",
    "        f\"Presupuesto Total : ${budget_total:,.2f}<br>\"\n",
    "        + \"\".join([f\"{d_nm}: ${spent0_dep.get(d_nm,0.0):,.2f}<br>\" for d_nm in cats_dep]) +\n",
    "        f\"Excedido : ${exced0:,.2f}\"\n",
    "    )\n",
    "\n",
    "fig.add_trace(\n",
    "    go.Pie(\n",
    "        labels=labels_d0,\n",
    "        values=vals_d0,\n",
    "        name=\"Departamento\",\n",
    "        hole=0.5,\n",
    "        sort=False,\n",
    "        textinfo=\"label+percent\",\n",
    "        marker=dict(colors=colors_d0, line=dict(color=\"#FFFFFF\", width=2)),\n",
    "        visible=False,\n",
    "        domain={\"x\": [0, 1], \"y\": [0, 1]}\n",
    "    )\n",
    ")\n",
    "\n",
    "# ============================================================\n",
    "# 10.4. TRAZO CUENTA GENERAL inicial (w0 = 0) – Top 6 + “Otros”\n",
    "# ============================================================\n",
    "spent0_cg = spent_cum_by_dim(\"Cuenta General\", w0)\n",
    "cg_sorted = sorted(spent0_cg.items(), key=lambda x: x[1], reverse=True)\n",
    "top6_cg  = [x[0] for x in cg_sorted[:6]]\n",
    "otros_cg = [x[0] for x in cg_sorted[6:]]\n",
    "\n",
    "labels_cg0 = []\n",
    "vals_cg0   = []\n",
    "for cg_nm in top6_cg:\n",
    "    spent_c = spent0_cg.get(cg_nm, 0.0)\n",
    "    budget_c = budget_by_cg.get(cg_nm, 0.0)\n",
    "    etiqueta = cg_nm\n",
    "    if spent_c > budget_c:\n",
    "        etiqueta += \" (EXCESO)\"\n",
    "    labels_cg0.append(etiqueta)\n",
    "    vals_cg0.append(spent_c)\n",
    "\n",
    "sum_spent_otros0  = sum(spent0_cg[c] for c in otros_cg)\n",
    "sum_budget_otros0 = sum(budget_by_cg.get(c, 0.0) for c in otros_cg)\n",
    "etq_otros0 = \"Otros\"\n",
    "if sum_spent_otros0 > sum_budget_otros0:\n",
    "    etq_otros0 += \" (EXCESO)\"\n",
    "labels_cg0.append(etq_otros0)\n",
    "vals_cg0.append(sum_spent_otros0)\n",
    "\n",
    "if spent0_total <= budget_total:\n",
    "    labels_cg0 = labels_cg0 + [\"Disponible\"]\n",
    "    vals_cg0   = vals_cg0 + [budget_total - spent0_total]\n",
    "    paleta_cg  = px.colors.qualitative.Plotly\n",
    "    colors_cg0 = [paleta_cg[i % len(paleta_cg)] for i in range(len(top6_cg))] + [\"#d3d3d3\", \"#ef553b\"]\n",
    "    txt_cg0_0 = \"Cuenta General\"\n",
    "    txt_cg0_1 = (\n",
    "        f\"Semana : {w0}<br>\"\n",
    "        f\"Presupuesto Total : ${budget_total:,.2f}<br>\"\n",
    "        + \"\".join([f\"{cg_nm}: ${spent0_cg.get(cg_nm,0.0):,.2f}<br>\" for cg_nm in top6_cg]) +\n",
    "        f\"Otros: ${sum_spent_otros0:,.2f}<br>\"\n",
    "        f\"Disponible : ${budget_total - spent0_total:,.2f}\"\n",
    "    )\n",
    "else:\n",
    "    exced0 = spent0_total - budget_total\n",
    "    labels_cg0 = labels_cg0 + [\"Presupuesto Agotado\", \"Excedente\"]\n",
    "    vals_cg0   = vals_cg0 + [0, exced0]\n",
    "    paleta_cg  = px.colors.qualitative.Plotly\n",
    "    colors_cg0 = [paleta_cg[i % len(paleta_cg)] for i in range(len(top6_cg))] + [\"#d3d3d3\", \"#636efa\", \"#00cc96\"]\n",
    "    txt_cg0_0 = \"Cuenta General\"\n",
    "    txt_cg0_1 = (\n",
    "        f\"Semana : {w0}<br>\"\n",
    "        f\"Presupuesto Total : ${budget_total:,.2f}<br>\"\n",
    "        + \"\".join([f\"{cg_nm}: ${spent0_cg.get(cg_nm,0.0):,.2f}<br>\" for cg_nm in top6_cg]) +\n",
    "        f\"Otros: ${sum_spent_otros0:,.2f}<br>\"\n",
    "        f\"Excedido : ${exced0:,.2f}\"\n",
    "    )\n",
    "\n",
    "fig.add_trace(\n",
    "    go.Pie(\n",
    "        labels=labels_cg0,\n",
    "        values=vals_cg0,\n",
    "        name=\"Cuenta General\",\n",
    "        hole=0.5,\n",
    "        sort=False,\n",
    "        textinfo=\"label+percent\",\n",
    "        marker=dict(colors=colors_cg0, line=dict(color=\"#FFFFFF\", width=2)),\n",
    "        visible=False,\n",
    "        domain={\"x\": [0, 1], \"y\": [0, 1]}\n",
    "    )\n",
    ")\n",
    "\n",
    "# ============================================================\n",
    "# 11. DEFINICIÓN DE LAS 8 anotaciones “fijas” (dos por dimensión)\n",
    "#    indices: 0–1 = Global, 2–3 = Etapa, 4–5 = Departamento, 6–7 = Cuenta General\n",
    "# ============================================================\n",
    "annotations = [\n",
    "    # 0: Global – Título central\n",
    "    dict(text=txt_g0_0, x=0.5, y=0.5, font_size=20, showarrow=False, visible=True),\n",
    "    # 1: Global – Texto informativo izquierda\n",
    "    dict(text=txt_g0_1, x=-0.25, y=0.5, xanchor=\"left\", yanchor=\"middle\", font_size=14, showarrow=False, visible=True),\n",
    "    # 2: Etapa – Título central (invisible al inicio)\n",
    "    dict(text=txt_e0_0, x=0.5, y=0.5, font_size=20, showarrow=False, visible=False),\n",
    "    # 3: Etapa – Texto informativo izquierda (invisible al inicio)\n",
    "    dict(text=txt_e0_1, x=-0.25, y=0.5, xanchor=\"left\", yanchor=\"middle\", font_size=14, showarrow=False, visible=False),\n",
    "    # 4: Departamento – Título central (invisible al inicio)\n",
    "    dict(text=txt_d0_0, x=0.5, y=0.5, font_size=20, showarrow=False, visible=False),\n",
    "    # 5: Departamento – Texto informativo izquierda (invisible al inicio)\n",
    "    dict(text=txt_d0_1, x=-0.25, y=0.5, xanchor=\"left\", yanchor=\"middle\", font_size=14, showarrow=False, visible=False),\n",
    "    # 6: Cuenta General – Título central (invisible al inicio)\n",
    "    dict(text=txt_cg0_0, x=0.5, y=0.5, font_size=20, showarrow=False, visible=False),\n",
    "    # 7: Cuenta General – Texto informativo izquierda (invisible al inicio)\n",
    "    dict(text=txt_cg0_1, x=-0.25, y=0.5, xanchor=\"left\", yanchor=\"middle\", font_size=14, showarrow=False, visible=False)\n",
    "]\n",
    "\n",
    "fig.update_layout(annotations=annotations)\n",
    "\n",
    "# ============================================================\n",
    "# 12. BOTONES DEL DROPDOWN (Global, Etapa, Departamento, Cuenta General)\n",
    "#    Cada botón: enciende su trazo y sus 2 anotaciones, apaga los demás.\n",
    "# ============================================================\n",
    "dropdown_buttons = []\n",
    "dims = [\"Global\", \"Etapa\", \"Departamento\", \"Cuenta General\"]\n",
    "for i, dim in enumerate(dims):\n",
    "    # Visible_ pies:\n",
    "    visible_traces = [False] * 4\n",
    "    visible_traces[i] = True\n",
    "\n",
    "    # Visible_ anotaciones (2 por dimensión)\n",
    "    visible_anns = [False] * 8\n",
    "    visible_anns[2*i]   = True    # título\n",
    "    visible_anns[2*i+1] = True    # texto informativo\n",
    "\n",
    "    dropdown_buttons.append({\n",
    "        \"label\": dim,\n",
    "        \"method\": \"update\",\n",
    "        \"args\": [\n",
    "            {\"visible\": visible_traces},\n",
    "            {\n",
    "                \"title\": f\"Presupuesto vs Gasto – {dim}\",\n",
    "                # Cambiamos sólo la propiedad “visible” de cada anotación\n",
    "                \"annotations\": [\n",
    "                    dict(annotation, visible=visible_anns[idx])\n",
    "                    for idx, annotation in enumerate(annotations)\n",
    "                ]\n",
    "            }\n",
    "        ]\n",
    "    })\n",
    "\n",
    "# ============================================================\n",
    "# 13. SLIDER DE SEMANAS (0 … max_week + “Todas”)\n",
    "#    Aquí: actualiza values, labels, colors, title y ANOTATIONS[].text\n",
    "# ============================================================\n",
    "slider_steps = []\n",
    "for w in range(0, max_week + 1):\n",
    "    # ----- 13.1. Global a semana w -----\n",
    "    spent_w_total = spent_cum_total[w]\n",
    "    if spent_w_total <= budget_total:\n",
    "        labels_g = [\"Gastado\", \"Disponible\"]\n",
    "        vals_g   = [spent_w_total, budget_total - spent_w_total]\n",
    "        colors_g = [\"#636efa\", \"#ef553b\"]\n",
    "        txt_g0 = \"Global\"\n",
    "        txt_g1 = (\n",
    "            f\"Semana : {w}<br>\"\n",
    "            f\"Presupuesto Total : ${budget_total:,.2f}<br>\"\n",
    "            f\"Gasto Total : ${spent_w_total:,.2f}<br>\"\n",
    "            f\"Disponible : ${budget_total - spent_w_total:,.2f}\"\n",
    "        )\n",
    "    else:\n",
    "        exced_w = spent_w_total - budget_total\n",
    "        labels_g = [\"Presupuesto Agotado\", \"Excedente\"]\n",
    "        vals_g   = [budget_total, exced_w]\n",
    "        colors_g = [\"#636efa\", \"#00cc96\"]\n",
    "        txt_g0 = \"Global\"\n",
    "        txt_g1 = (\n",
    "            f\"Semana : {w}<br>\"\n",
    "            f\"Presupuesto Total : ${budget_total:,.2f}<br>\"\n",
    "            f\"Gasto Total : ${spent_w_total:,.2f}<br>\"\n",
    "            f\"Excedido : ${exced_w:,.2f}\"\n",
    "        )\n",
    "\n",
    "    # ----- 13.2. Etapa a semana w -----\n",
    "    spent_w_etapa = spent_cum_by_dim(\"Etapa Normalizada\", w)\n",
    "    labels_e = []\n",
    "    vals_e   = []\n",
    "    for etapa in cats_etapa:\n",
    "        spent_e = spent_w_etapa.get(etapa, 0.0)\n",
    "        budget_e = budget_by_etapa.get(etapa, 0.0)\n",
    "        etiqueta = etapa\n",
    "        if spent_e > budget_e:\n",
    "            etiqueta += \" (EXCESO)\"\n",
    "        labels_e.append(etiqueta)\n",
    "        vals_e.append(spent_e)\n",
    "    if spent_w_total <= budget_total:\n",
    "        labels_e = labels_e + [\"Disponible\"]\n",
    "        vals_e   = vals_e + [budget_total - spent_w_total]\n",
    "        colors_e = colors_etapas + [\"#ef553b\"]\n",
    "        txt_e0 = \"Etapas\"\n",
    "        txt_e1 = (\n",
    "            f\"Semana : {w}<br>\"\n",
    "            f\"Presupuesto Total : ${budget_total:,.2f}<br>\"\n",
    "            + \"\".join([f\"{e_nm}: ${spent_w_etapa.get(e_nm,0.0):,.2f}<br>\" for e_nm in cats_etapa]) +\n",
    "            f\"Disponible : ${budget_total - spent_w_total:,.2f}\"\n",
    "        )\n",
    "    else:\n",
    "        exced_w = spent_w_total - budget_total\n",
    "        labels_e = labels_e + [\"Presupuesto Agotado\", \"Excedente\"]\n",
    "        vals_e   = vals_e + [0, exced_w]\n",
    "        colors_e = colors_etapas + [\"#636efa\", \"#00cc96\"]\n",
    "        txt_e0 = \"Etapas\"\n",
    "        txt_e1 = (\n",
    "            f\"Semana : {w}<br>\"\n",
    "            f\"Presupuesto Total : ${budget_total:,.2f}<br>\"\n",
    "            + \"\".join([f\"{e_nm}: ${spent_w_etapa.get(e_nm,0.0):,.2f}<br>\" for e_nm in cats_etapa]) +\n",
    "            f\"Excedido : ${exced_w:,.2f}\"\n",
    "        )\n",
    "\n",
    "    # ----- 13.3. Departamento a semana w -----\n",
    "    spent_w_dep = spent_cum_by_dim(\"Sección\", w)\n",
    "    labels_d = []\n",
    "    vals_d   = []\n",
    "    for dep in cats_dep:\n",
    "        spent_d = spent_w_dep.get(dep, 0.0)\n",
    "        budget_d = budget_by_dep.get(dep, 0.0)\n",
    "        etiqueta = dep\n",
    "        if spent_d > budget_d:\n",
    "            etiqueta += \" (EXCESO)\"\n",
    "        labels_d.append(etiqueta)\n",
    "        vals_d.append(spent_d)\n",
    "    if spent_w_total <= budget_total:\n",
    "        labels_d = labels_d + [\"Disponible\"]\n",
    "        vals_d   = vals_d + [budget_total - spent_w_total]\n",
    "        colors_d = colors_dep + [\"#ef553b\"]\n",
    "        txt_d0 = \"Departamento\"\n",
    "        txt_d1 = (\n",
    "            f\"Semana : {w}<br>\"\n",
    "            f\"Presupuesto Total : ${budget_total:,.2f}<br>\"\n",
    "            + \"\".join([f\"{d_nm}: ${spent_w_dep.get(d_nm,0.0):,.2f}<br>\" for d_nm in cats_dep]) +\n",
    "            f\"Disponible : ${budget_total - spent_w_total:,.2f}\"\n",
    "        )\n",
    "    else:\n",
    "        exced_w = spent_w_total - budget_total\n",
    "        labels_d = labels_d + [\"Presupuesto Agotado\", \"Excedente\"]\n",
    "        vals_d   = vals_d + [0, exced_w]\n",
    "        colors_d = colors_dep + [\"#636efa\", \"#00cc96\"]\n",
    "        txt_d0 = \"Departamento\"\n",
    "        txt_d1 = (\n",
    "            f\"Semana : {w}<br>\"\n",
    "            f\"Presupuesto Total : ${budget_total:,.2f}<br>\"\n",
    "            + \"\".join([f\"{d_nm}: ${spent_w_dep.get(d_nm,0.0):,.2f}<br>\" for d_nm in cats_dep]) +\n",
    "            f\"Excedido : ${exced_w:,.2f}\"\n",
    "        )\n",
    "\n",
    "    # ----- 13.4. Cuenta General a semana w (Top 6 + “Otros”) -----\n",
    "    spent_w_cg = spent_cum_by_dim(\"Cuenta General\", w)\n",
    "    cg_sorted_w = sorted(spent_w_cg.items(), key=lambda x: x[1], reverse=True)\n",
    "    top6_w  = [x[0] for x in cg_sorted_w[:6]]\n",
    "    otros_w = [x[0] for x in cg_sorted_w[6:]]\n",
    "    labels_cg = []\n",
    "    vals_cg   = []\n",
    "    for cg_nm in top6_w:\n",
    "        spent_c = spent_w_cg.get(cg_nm, 0.0)\n",
    "        budget_c = budget_by_cg.get(cg_nm, 0.0)\n",
    "        etiqueta = cg_nm\n",
    "        if spent_c > budget_c:\n",
    "            etiqueta += \" (EXCESO)\"\n",
    "        labels_cg.append(etiqueta)\n",
    "        vals_cg.append(spent_c)\n",
    "    sum_spent_otros = sum(spent_w_cg[c] for c in otros_w)\n",
    "    sum_budget_otros = sum(budget_by_cg.get(c, 0.0) for c in otros_w)\n",
    "    etq_otros = \"Otros\"\n",
    "    if sum_spent_otros > sum_budget_otros:\n",
    "        etq_otros += \" (EXCESO)\"\n",
    "    labels_cg.append(etq_otros)\n",
    "    vals_cg.append(sum_spent_otros)\n",
    "\n",
    "    if spent_w_total <= budget_total:\n",
    "        labels_cg = labels_cg + [\"Disponible\"]\n",
    "        vals_cg   = vals_cg + [budget_total - spent_w_total]\n",
    "        paleta_cg  = px.colors.qualitative.Plotly\n",
    "        colors_cg  = [paleta_cg[i % len(paleta_cg)] for i in range(len(top6_w))] + [\"#d3d3d3\", \"#ef553b\"]\n",
    "        txt_cg0 = \"Cuenta General\"\n",
    "        txt_cg1 = (\n",
    "            f\"Semana : {w}<br>\"\n",
    "            f\"Presupuesto Total : ${budget_total:,.2f}<br>\"\n",
    "            + \"\".join([f\"{cn}: ${spent_w_cg.get(cn,0.0):,.2f}<br>\" for cn in top6_w]) +\n",
    "            f\"Otros: ${sum_spent_otros:,.2f}<br>\"\n",
    "            f\"Disponible : ${budget_total - spent_w_total:,.2f}\"\n",
    "        )\n",
    "    else:\n",
    "        exced_w = spent_w_total - budget_total\n",
    "        labels_cg = labels_cg + [\"Presupuesto Agotado\", \"Excedente\"]\n",
    "        vals_cg   = vals_cg + [0, exced_w]\n",
    "        paleta_cg = px.colors.qualitative.Plotly\n",
    "        colors_cg = [paleta_cg[i % len(paleta_cg)] for i in range(len(top6_w))] + [\"#d3d3d3\", \"#636efa\", \"#00cc96\"]\n",
    "        txt_cg0 = \"Cuenta General\"\n",
    "        txt_cg1 = (\n",
    "            f\"Semana : {w}<br>\"\n",
    "            f\"Presupuesto Total : ${budget_total:,.2f}<br>\"\n",
    "            + \"\".join([f\"{cn}: ${spent_w_cg.get(cn,0.0):,.2f}<br>\" for cn in top6_w]) +\n",
    "            f\"Otros: ${sum_spent_otros:,.2f}<br>\"\n",
    "            f\"Excedido : ${exced_w:,.2f}\"\n",
    "        )\n",
    "\n",
    "    # ----- 13.5. Construcción del “step” para la semana = w -----\n",
    "    step = {\n",
    "        \"label\": f\"{w}\",\n",
    "        \"method\": \"update\",\n",
    "        \"args\": [\n",
    "            {\n",
    "                # Actualizamos los 4 “values” (Global, Etapa, Departamento, CG)\n",
    "                \"values\": [\n",
    "                    vals_g,    # trace 0\n",
    "                    vals_e,    # trace 1\n",
    "                    vals_d,    # trace 2\n",
    "                    vals_cg    # trace 3\n",
    "                ],\n",
    "                # Actualizamos las 4 “labels”\n",
    "                \"labels\": [\n",
    "                    labels_g,  # trace 0\n",
    "                    labels_e,  # trace 1\n",
    "                    labels_d,  # trace 2\n",
    "                    labels_cg  # trace 3\n",
    "                ],\n",
    "                # Actualizamos “marker.colors” de los 4 trazos\n",
    "                \"marker.colors\": [\n",
    "                    colors_g,  # trace 0\n",
    "                    colors_e,  # trace 1\n",
    "                    colors_d,  # trace 2\n",
    "                    colors_cg  # trace 3\n",
    "                ]\n",
    "            },\n",
    "            {\n",
    "                # Actualizamos el título y los textos de las anotaciones (txt_g0, txt_g1, etc.)\n",
    "                \"title\": f\"Presupuesto vs Gasto – Semana ≤ {w}\",\n",
    "                # Sólo cambiamos el .text de cada anotación, no tocamos .visible\n",
    "                \"annotations[0].text\": txt_g0,\n",
    "                \"annotations[1].text\": txt_g1,\n",
    "                \"annotations[2].text\": txt_e0,\n",
    "                \"annotations[3].text\": txt_e1,\n",
    "                \"annotations[4].text\": txt_d0,\n",
    "                \"annotations[5].text\": txt_d1,\n",
    "                \"annotations[6].text\": txt_cg0,\n",
    "                \"annotations[7].text\": txt_cg1\n",
    "            }\n",
    "        ]\n",
    "    }\n",
    "    slider_steps.append(step)\n",
    "\n",
    "# ------------------------------------------------------------\n",
    "# 13.b IS (max_week + 1) = “Todas las Semanas”\n",
    "# ------------------------------------------------------------\n",
    "w_all = max_week + 1\n",
    "spent_all_total = spent_cum_total[w_all]\n",
    "\n",
    "# – Global “Todas” –\n",
    "if spent_all_total <= budget_total:\n",
    "    labels_g_all = [\"Gastado\", \"Disponible\"]\n",
    "    vals_g_all   = [spent_all_total, budget_total - spent_all_total]\n",
    "    colors_g_all = [\"#636efa\", \"#ef553b\"]\n",
    "    txt_g0_all = \"Global\"\n",
    "    txt_g1_all = (\n",
    "        f\"Semana : Todas<br>\"\n",
    "        f\"Presupuesto Total : ${budget_total:,.2f}<br>\"\n",
    "        f\"Gasto Total : ${spent_all_total:,.2f}<br>\"\n",
    "        f\"Disponible : ${budget_total - spent_all_total:,.2f}\"\n",
    "    )\n",
    "else:\n",
    "    exced_all    = spent_all_total - budget_total\n",
    "    labels_g_all = [\"Presupuesto Agotado\", \"Excedente\"]\n",
    "    vals_g_all   = [budget_total, exced_all]\n",
    "    colors_g_all = [\"#636efa\", \"#00cc96\"]\n",
    "    txt_g0_all = \"Global\"\n",
    "    txt_g1_all = (\n",
    "        f\"Semana : Todas<br>\"\n",
    "        f\"Presupuesto Total : ${budget_total:,.2f}<br>\"\n",
    "        f\"Gasto Total : ${spent_all_total:,.2f}<br>\"\n",
    "        f\"Excedido : ${exced_all:,.2f}\"\n",
    "    )\n",
    "\n",
    "# – Etapa “Todas” –\n",
    "spent_all_etapa = spent_cum_by_dim(\"Etapa Normalizada\", w_all)\n",
    "labels_e_all = []\n",
    "vals_e_all   = []\n",
    "for etapa in cats_etapa:\n",
    "    spent_e = spent_all_etapa.get(etapa, 0.0)\n",
    "    budget_e = budget_by_etapa.get(etapa, 0.0)\n",
    "    etiqueta = etapa\n",
    "    if spent_e > budget_e:\n",
    "        etiqueta += \" (EXCESO)\"\n",
    "    labels_e_all.append(etiqueta)\n",
    "    vals_e_all.append(spent_e)\n",
    "if spent_all_total <= budget_total:\n",
    "    labels_e_all = labels_e_all + [\"Disponible\"]\n",
    "    vals_e_all   = vals_e_all + [budget_total - spent_all_total]\n",
    "    colors_e_all = colors_etapas + [\"#ef553b\"]\n",
    "    txt_e0_all = \"Etapas\"\n",
    "    txt_e1_all = (\n",
    "        f\"Semana : Todas<br>\"\n",
    "        f\"Presupuesto Total : ${budget_total:,.2f}<br>\"\n",
    "        + \"\".join([f\"{e_nm}: ${spent_all_etapa.get(e_nm,0.0):,.2f}<br>\" for e_nm in cats_etapa]) +\n",
    "        f\"Disponible : ${budget_total - spent_all_total:,.2f}\"\n",
    "    )\n",
    "else:\n",
    "    exced_all   = spent_all_total - budget_total\n",
    "    labels_e_all = labels_e_all + [\"Presupuesto Agotado\", \"Excedente\"]\n",
    "    vals_e_all   = vals_e_all + [0, exced_all]\n",
    "    colors_e_all = colors_etapas + [\"#636efa\", \"#00cc96\"]\n",
    "    txt_e0_all = \"Etapas\"\n",
    "    txt_e1_all = (\n",
    "        f\"Semana : Todas<br>\"\n",
    "        f\"Presupuesto Total : ${budget_total:,.2f}<br>\"\n",
    "        + \"\".join([f\"{e_nm}: ${spent_all_etapa.get(e_nm,0.0):,.2f}<br>\" for e_nm in cats_etapa]) +\n",
    "        f\"Excedido : ${exced_all:,.2f}\"\n",
    "    )\n",
    "\n",
    "# – Departamento “Todas” –\n",
    "spent_all_dep = spent_cum_by_dim(\"Sección\", w_all)\n",
    "labels_d_all = []\n",
    "vals_d_all   = []\n",
    "for dep in cats_dep:\n",
    "    spent_d = spent_all_dep.get(dep, 0.0)\n",
    "    budget_d = budget_by_dep.get(dep, 0.0)\n",
    "    etiqueta = dep\n",
    "    if spent_d > budget_d:\n",
    "        etiqueta += \" (EXCESO)\"\n",
    "    labels_d_all.append(etiqueta)\n",
    "    vals_d_all.append(spent_d)\n",
    "if spent_all_total <= budget_total:\n",
    "    labels_d_all = labels_d_all + [\"Disponible\"]\n",
    "    vals_d_all   = vals_d_all + [budget_total - spent_all_total]\n",
    "    colors_d_all = colors_dep + [\"#ef553b\"]\n",
    "    txt_d0_all = \"Departamento\"\n",
    "    txt_d1_all = (\n",
    "        f\"Semana : Todas<br>\"\n",
    "        f\"Presupuesto Total : ${budget_total:,.2f}<br>\"\n",
    "        + \"\".join([f\"{d_nm}: ${spent_all_dep.get(d_nm,0.0):,.2f}<br>\" for d_nm in cats_dep]) +\n",
    "        f\"Disponible : ${budget_total - spent_all_total:,.2f}\"\n",
    "    )\n",
    "else:\n",
    "    exced_all   = spent_all_total - budget_total\n",
    "    labels_d_all = labels_d_all + [\"Presupuesto Agotado\", \"Excedente\"]\n",
    "    vals_d_all   = vals_d_all + [0, exced_all]\n",
    "    colors_d_all = colors_dep + [\"#636efa\", \"#00cc96\"]\n",
    "    txt_d0_all = \"Departamento\"\n",
    "    txt_d1_all = (\n",
    "        f\"Semana : Todas<br>\"\n",
    "        f\"Presupuesto Total : ${budget_total:,.2f}<br>\"\n",
    "        + \"\".join([f\"{d_nm}: ${spent_all_dep.get(d_nm,0.0):,.2f}<br>\" for d_nm in cats_dep]) +\n",
    "        f\"Excedido : ${exced_all:,.2f}\"\n",
    "    )\n",
    "\n",
    "# – Cuenta General “Todas” –\n",
    "spent_all_cg = spent_cum_by_dim(\"Cuenta General\", w_all)\n",
    "cg_sorted_all = sorted(spent_all_cg.items(), key=lambda x: x[1], reverse=True)\n",
    "top6_all  = [x[0] for x in cg_sorted_all[:6]]\n",
    "otros_all = [x[0] for x in cg_sorted_all[6:]]\n",
    "\n",
    "labels_cg_all = []\n",
    "vals_cg_all   = []\n",
    "for cg_nm in top6_all:\n",
    "    spent_c  = spent_all_cg.get(cg_nm, 0.0)\n",
    "    budget_c = budget_by_cg.get(cg_nm, 0.0)\n",
    "    etiqueta = cg_nm\n",
    "    if spent_c > budget_c:\n",
    "        etiqueta += \" (EXCESO)\"\n",
    "    labels_cg_all.append(etiqueta)\n",
    "    vals_cg_all.append(spent_c)\n",
    "\n",
    "sum_spent_otros_all  = sum(spent_all_cg[c] for c in otros_all)\n",
    "sum_budget_otros_all = sum(budget_by_cg.get(c, 0.0) for c in otros_all)\n",
    "etq_otros_all = \"Otros\"\n",
    "if sum_spent_otros_all > sum_budget_otros_all:\n",
    "    etq_otros_all += \" (EXCESO)\"\n",
    "labels_cg_all.append(etq_otros_all)\n",
    "vals_cg_all.append(sum_spent_otros_all)\n",
    "\n",
    "if spent_all_total <= budget_total:\n",
    "    labels_cg_all = labels_cg_all + [\"Disponible\"]\n",
    "    vals_cg_all   = vals_cg_all + [budget_total - spent_all_total]\n",
    "    paleta_cg     = px.colors.qualitative.Plotly\n",
    "    colors_cg_all = [paleta_cg[i % len(paleta_cg)] for i in range(len(top6_all))] + [\"#d3d3d3\", \"#ef553b\"]\n",
    "    txt_cg0_all = \"Cuenta General\"\n",
    "    txt_cg1_all = (\n",
    "        f\"Semana : Todas<br>\"\n",
    "        f\"Presupuesto Total : ${budget_total:,.2f}<br>\"\n",
    "        + \"\".join([f\"{cn}: ${spent_all_cg.get(cn,0.0):,.2f}<br>\" for cn in top6_all]) +\n",
    "        f\"Otros: ${sum_spent_otros_all:,.2f}<br>\"\n",
    "        f\"Disponible : ${budget_total - spent_all_total:,.2f}\"\n",
    "    )\n",
    "else:\n",
    "    exced_all   = spent_all_total - budget_total\n",
    "    labels_cg_all = labels_cg_all + [\"Presupuesto Agotado\", \"Excedente\"]\n",
    "    vals_cg_all   = vals_cg_all + [0, exced_all]\n",
    "    paleta_cg     = px.colors.qualitative.Plotly\n",
    "    colors_cg_all = [paleta_cg[i % len(paleta_cg)] for i in range(len(top6_all))] + [\"#d3d3d3\", \"#636efa\", \"#00cc96\"]\n",
    "    txt_cg0_all = \"Cuenta General\"\n",
    "    txt_cg1_all = (\n",
    "        f\"Semana : Todas<br>\"\n",
    "        f\"Presupuesto Total : ${budget_total:,.2f}<br>\"\n",
    "        + \"\".join([f\"{cn}: ${spent_all_cg.get(cn,0.0):,.2f}<br>\" for cn in top6_all]) +\n",
    "        f\"Otros: ${sum_spent_otros_all:,.2f}<br>\"\n",
    "        f\"Excedido : ${exced_all:,.2f}\"\n",
    "    )\n",
    "\n",
    "step_all = {\n",
    "    \"label\": \"Todas\",\n",
    "    \"method\": \"update\",\n",
    "    \"args\": [\n",
    "        {\n",
    "            \"values\": [\n",
    "                vals_g_all,   # trace 0 = Global\n",
    "                vals_e_all,   # trace 1 = Etapa\n",
    "                vals_d_all,   # trace 2 = Departamento\n",
    "                vals_cg_all   # trace 3 = Cuenta General\n",
    "            ],\n",
    "            \"labels\": [\n",
    "                labels_g_all,   # trace 0\n",
    "                labels_e_all,   # trace 1\n",
    "                labels_d_all,   # trace 2\n",
    "                labels_cg_all   # trace 3\n",
    "            ],\n",
    "            \"marker.colors\": [\n",
    "                colors_g_all,   # trace 0\n",
    "                colors_e_all,   # trace 1\n",
    "                colors_d_all,   # trace 2\n",
    "                colors_cg_all   # trace 3\n",
    "            ]\n",
    "        },\n",
    "        {\n",
    "            \"title\": \"Presupuesto vs Gasto – Todas las Semanas\",\n",
    "            # Sólo actualizamos .text de cada anotación, NO tocamos visible:\n",
    "            \"annotations[0].text\": txt_g0_all,\n",
    "            \"annotations[1].text\": txt_g1_all,\n",
    "            \"annotations[2].text\": txt_e0_all,\n",
    "            \"annotations[3].text\": txt_e1_all,\n",
    "            \"annotations[4].text\": txt_d0_all,\n",
    "            \"annotations[5].text\": txt_d1_all,\n",
    "            \"annotations[6].text\": txt_cg0_all,\n",
    "            \"annotations[7].text\": txt_cg1_all\n",
    "        }\n",
    "    ]\n",
    "}\n",
    "slider_steps.append(step_all)\n",
    "\n",
    "# ============================================================\n",
    "# 14. CONFIGURAR LAYOUT con DROPDOWN + SLIDER\n",
    "# ============================================================\n",
    "fig.update_layout(\n",
    "    title=\"Presupuesto vs Gasto – Global\",\n",
    "    showlegend=True,\n",
    "    updatemenus=[{\n",
    "        \"active\": 0,\n",
    "        \"buttons\": dropdown_buttons,\n",
    "        \"x\": 0.0,\n",
    "        \"y\": 1.15,\n",
    "        \"xanchor\": \"left\",\n",
    "        \"yanchor\": \"top\"\n",
    "    }],\n",
    "    sliders=[{\n",
    "        \"active\": 0,\n",
    "        \"pad\": {\"t\": 50},\n",
    "        \"currentvalue\": {\"prefix\": \"Semana ≤ \"},\n",
    "        \"steps\": slider_steps\n",
    "    }],\n",
    "    annotations=annotations   # Lista inicial de 8 anotaciones\n",
    ")\n",
    "\n",
    "# 15. Mostrar la figura interactiva\n",
    "pio.show(fig)\n"
   ]
  }
 ],
 "metadata": {
  "kernelspec": {
   "display_name": "IDM",
   "language": "python",
   "name": "python3"
  },
  "language_info": {
   "codemirror_mode": {
    "name": "ipython",
    "version": 3
   },
   "file_extension": ".py",
   "mimetype": "text/x-python",
   "name": "python",
   "nbconvert_exporter": "python",
   "pygments_lexer": "ipython3",
   "version": "3.12.9"
  }
 },
 "nbformat": 4,
 "nbformat_minor": 5
}
